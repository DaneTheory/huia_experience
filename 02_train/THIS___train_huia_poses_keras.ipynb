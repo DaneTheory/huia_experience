{
 "cells": [
  {
   "cell_type": "markdown",
   "metadata": {},
   "source": [
    "# 02 Huia Experience Training"
   ]
  },
  {
   "cell_type": "markdown",
   "metadata": {},
   "source": [
    "### Reference\n",
    "https://www.tensorflow.org/alpha/tutorials/load_data/images"
   ]
  },
  {
   "cell_type": "markdown",
   "metadata": {},
   "source": [
    "## TODOS\n",
    "- interpret layers visually\n",
    "- tensorboard convergence\n",
    "https://github.com/titu1994/keras-one-cycle\n",
    "https://www.kaggle.com/robotdreams/one-cycle-policy-with-keras "
   ]
  },
  {
   "cell_type": "markdown",
   "metadata": {},
   "source": [
    "# Setup \n",
    "## Install Tensorflow 2 Nightly and other Libraries"
   ]
  },
  {
   "cell_type": "code",
   "execution_count": 1,
   "metadata": {},
   "outputs": [
    {
     "name": "stdout",
     "output_type": "stream",
     "text": [
      "-e git+https://github.com/onnx/onnx-tensorflow.git@40e80fe0e8c49e268d537b0104979a3d50f6b0fa#egg=onnx_tf\r\n",
      "tb-nightly==1.14.0a20190301\r\n",
      "tblib==1.3.2\r\n",
      "tensorboard==1.13.1\r\n",
      "tensorboardX==1.6\r\n",
      "tensorflow==1.9.0\r\n",
      "tensorflow-estimator==1.13.0\r\n",
      "tensorflow-estimator-2.0-preview==1.14.0.dev2019032600\r\n",
      "tensorflow-gpu==1.13.1\r\n",
      "tensorflow-hub==0.3.0\r\n",
      "tensorflowjs==1.0.1\r\n"
     ]
    }
   ],
   "source": [
    "# tf addons only works with alpha for now\n",
    "#!pip install tensorflow-gpu==2.0.0-alpha0 \n",
    "#!pip install tensorflow-estimator\n",
    "#!pip install fastai\n",
    "#!pip install tensorflow-addons\n",
    "\n",
    "\n",
    "#nigthly packages (not working with addons)\n",
    "#!pip install --upgrade --force-reinstall tf-nightly-gpu-2.0-preview\n",
    "#!pip install tensorflow-addons --upgrade --force-reinstall -> build from sources https://github.com/tensorflow/addons\n",
    "#!pip install tensorflow-estimator==2.0.0-alpha0  --upgrade --force-reinstall\n",
    "\n",
    "!pip freeze | egrep 'tensor|tb'"
   ]
  },
  {
   "cell_type": "code",
   "execution_count": 2,
   "metadata": {},
   "outputs": [],
   "source": [
    "%reload_ext autoreload\n",
    "%autoreload 2\n",
    "%matplotlib inline"
   ]
  },
  {
   "cell_type": "code",
   "execution_count": 3,
   "metadata": {},
   "outputs": [],
   "source": [
    "import tensorflow as tf\n",
    "from tensorflow import keras\n",
    "import tensorflow_addons as tfa\n",
    "import pathlib\n",
    "import os\n",
    "import random\n",
    "\n",
    "# enable logging to make sure we are running on the GPU\n",
    "tf.debugging.set_log_device_placement(True)"
   ]
  },
  {
   "cell_type": "code",
   "execution_count": 4,
   "metadata": {},
   "outputs": [],
   "source": [
    "# clear any active session\n",
    "tf.keras.backend.clear_session()\n",
    "\n",
    "AUTOTUNE = tf.data.experimental.AUTOTUNE\n",
    "BATCH_SIZE = 64"
   ]
  },
  {
   "cell_type": "markdown",
   "metadata": {},
   "source": [
    "# Data\n",
    "We have to understand well our data as this is fundamental to achieve good results."
   ]
  },
  {
   "cell_type": "code",
   "execution_count": 5,
   "metadata": {},
   "outputs": [
    {
     "data": {
      "text/plain": [
       "(PosixPath('training_data/images'),\n",
       " PosixPath('training_data/json'),\n",
       " PosixPath('training_data/augmented_imgs'))"
      ]
     },
     "execution_count": 5,
     "metadata": {},
     "output_type": "execute_result"
    }
   ],
   "source": [
    "root_path = pathlib.Path(\"./training_data/\")\n",
    "image_path = root_path /\"images\"\n",
    "json_path = root_path /\"json\"\n",
    "augmented_path = root_path/\"augmented_imgs\"\n",
    "\n",
    "image_path,json_path ,augmented_path"
   ]
  },
  {
   "cell_type": "code",
   "execution_count": 6,
   "metadata": {},
   "outputs": [],
   "source": [
    "# lets set the random seed so we can reproduce our results\n",
    "random.seed(7)\n",
    "\n",
    "# get filenames from directories \n",
    "all_image_paths = list(image_path.glob('*.png')) + list(augmented_path.glob('*.png'))\n",
    "#all_json_paths = list(json_path.glob('*.json'))\n",
    "\n",
    "all_image_paths = [str(path) for path in all_image_paths] # convert to strings\n",
    "random.shuffle(all_image_paths) # randomize"
   ]
  },
  {
   "cell_type": "code",
   "execution_count": 7,
   "metadata": {},
   "outputs": [
    {
     "data": {
      "text/plain": [
       "4191"
      ]
     },
     "execution_count": 7,
     "metadata": {},
     "output_type": "execute_result"
    }
   ],
   "source": [
    "len(all_image_paths)#, len(all_json_paths)"
   ]
  },
  {
   "cell_type": "code",
   "execution_count": 8,
   "metadata": {},
   "outputs": [
    {
     "data": {
      "text/plain": [
       "['training_data/augmented_imgs/wings_423999.png',\n",
       " 'training_data/augmented_imgs/dramatic_1257994.png',\n",
       " 'training_data/augmented_imgs/fly_440994.png',\n",
       " 'training_data/augmented_imgs/normal_808991.png',\n",
       " 'training_data/augmented_imgs/normal_2999.png',\n",
       " 'training_data/augmented_imgs/moonwalk_74998.png',\n",
       " 'training_data/augmented_imgs/normal_805990.png',\n",
       " 'training_data/augmented_imgs/underarm_244991.png',\n",
       " 'training_data/augmented_imgs/fly_841995.png',\n",
       " 'training_data/images/dramatic_556.png',\n",
       " 'training_data/augmented_imgs/dramatic_564993.png',\n",
       " 'training_data/augmented_imgs/wings_426996.png',\n",
       " 'training_data/augmented_imgs/hadouken_970994.png',\n",
       " 'training_data/augmented_imgs/normal_18993.png',\n",
       " 'training_data/augmented_imgs/dramatic_123990.png',\n",
       " 'training_data/augmented_imgs/dramatic_1265998.png',\n",
       " 'training_data/augmented_imgs/hadouken_969995.png',\n",
       " 'training_data/augmented_imgs/fly_232999.png',\n",
       " 'training_data/augmented_imgs/hadouken_93996.png',\n",
       " 'training_data/augmented_imgs/underarm_62993.png']"
      ]
     },
     "execution_count": 8,
     "metadata": {},
     "output_type": "execute_result"
    }
   ],
   "source": [
    "all_image_paths[:20] "
   ]
  },
  {
   "cell_type": "code",
   "execution_count": 9,
   "metadata": {},
   "outputs": [
    {
     "data": {
      "text/plain": [
       "4191"
      ]
     },
     "execution_count": 9,
     "metadata": {},
     "output_type": "execute_result"
    }
   ],
   "source": [
    "import re\n",
    "# extract categories for classification\n",
    "pat = r'/([^/]+)_\\d+.png$'\n",
    "all_image_labels = [str(re.search(pat,str(image)).group(1)).lower() for image in all_image_paths]\n",
    "len(all_image_labels)"
   ]
  },
  {
   "cell_type": "code",
   "execution_count": 10,
   "metadata": {},
   "outputs": [
    {
     "data": {
      "image/png": "[encoded data removed]",
      "text/plain": [
       "<IPython.core.display.Image object>"
      ]
     },
     "metadata": {},
     "output_type": "display_data"
    },
    {
     "name": "stdout",
     "output_type": "stream",
     "text": [
      "file: training_data/augmented_imgs/hadouken_94999.png\n"
     ]
    },
    {
     "data": {
      "image/png": "[encoded data removed]",
      "text/plain": [
       "<IPython.core.display.Image object>"
      ]
     },
     "metadata": {},
     "output_type": "display_data"
    },
    {
     "name": "stdout",
     "output_type": "stream",
     "text": [
      "file: training_data/augmented_imgs/backpack_108991.png\n"
     ]
    },
    {
     "data": {
      "image/png": "[encoded data removed]",
      "text/plain": [
       "<IPython.core.display.Image object>"
      ]
     },
     "metadata": {},
     "output_type": "display_data"
    },
    {
     "name": "stdout",
     "output_type": "stream",
     "text": [
      "file: training_data/augmented_imgs/underarm_460991.png\n"
     ]
    }
   ],
   "source": [
    "import IPython.display as display\n",
    "import matplotlib.pyplot as plt\n",
    "\n",
    "# lets check samples of our images to see what they look like\n",
    "for n in range(3):  \n",
    "    image = random.choice(all_image_paths)\n",
    "    display.display(display.Image(str(image)))\n",
    "    print(f\"file: {image}\")"
   ]
  },
  {
   "cell_type": "code",
   "execution_count": 11,
   "metadata": {},
   "outputs": [
    {
     "data": {
      "text/plain": [
       "['backpack',\n",
       " 'dramatic',\n",
       " 'fly',\n",
       " 'hadouken',\n",
       " 'moonwalk',\n",
       " 'normal',\n",
       " 'underarm',\n",
       " 'wings']"
      ]
     },
     "execution_count": 11,
     "metadata": {},
     "output_type": "execute_result"
    }
   ],
   "source": [
    "# get unique classes\n",
    "huia_person=[]\n",
    "for label in all_image_labels:\n",
    "    if label not in huia_person:\n",
    "        huia_person.append(label)\n",
    "huia_person = sorted(huia_person) # sort label list\n",
    "huia_person"
   ]
  },
  {
   "cell_type": "code",
   "execution_count": 12,
   "metadata": {},
   "outputs": [
    {
     "data": {
      "text/plain": [
       "{'backpack': 0,\n",
       " 'dramatic': 1,\n",
       " 'fly': 2,\n",
       " 'hadouken': 3,\n",
       " 'moonwalk': 4,\n",
       " 'normal': 5,\n",
       " 'underarm': 6,\n",
       " 'wings': 7}"
      ]
     },
     "execution_count": 12,
     "metadata": {},
     "output_type": "execute_result"
    }
   ],
   "source": [
    "# put them in a dict for lookup\n",
    "label_to_index = dict((name, index) for index,name in enumerate(huia_person))\n",
    "label_to_index"
   ]
  },
  {
   "cell_type": "code",
   "execution_count": 13,
   "metadata": {},
   "outputs": [
    {
     "name": "stdout",
     "output_type": "stream",
     "text": [
      "POSE_CLASSES = {\n",
      "\t0: 'backpack',\n",
      "\t1: 'dramatic',\n",
      "\t2: 'fly',\n",
      "\t3: 'hadouken',\n",
      "\t4: 'moonwalk',\n",
      "\t5: 'normal',\n",
      "\t6: 'underarm',\n",
      "\t7: 'wings',\n",
      "}\n"
     ]
    }
   ],
   "source": [
    "# lets format it, so we can copy and paste the dict direclty into javascript :-)\n",
    "print(\"POSE_CLASSES = {\")\n",
    "for index,name in enumerate(huia_person):\n",
    "    print(\"\\t\" +str(index)+\": '\"+name+\"',\")\n",
    "print(\"}\")"
   ]
  },
  {
   "cell_type": "code",
   "execution_count": 14,
   "metadata": {},
   "outputs": [
    {
     "name": "stdout",
     "output_type": "stream",
     "text": [
      "(500, 640, 3)\n",
      "<dtype: 'uint8'>\n"
     ]
    },
    {
     "data": {
      "text/plain": [
       "<matplotlib.image.AxesImage at 0x7fcfe0f796d8>"
      ]
     },
     "execution_count": 14,
     "metadata": {},
     "output_type": "execute_result"
    },
    {
     "data": {
      "image/png": "[encoded data removed]",
      "text/plain": [
       "<Figure size 432x288 with 1 Axes>"
      ]
     },
     "metadata": {
      "needs_background": "light"
     },
     "output_type": "display_data"
    }
   ],
   "source": [
    "# load data into tf data\n",
    "img_raw = tf.io.read_file(all_image_paths[0])\n",
    "img_tensor = tf.image.decode_image(img_raw)\n",
    "print(img_tensor.shape)\n",
    "print(img_tensor.dtype)\n",
    "plt.imshow(img_tensor)\n",
    "\n",
    "#img_raw.numpy()\n",
    "\n",
    "\n"
   ]
  },
  {
   "cell_type": "code",
   "execution_count": 15,
   "metadata": {},
   "outputs": [],
   "source": [
    "import numpy\n",
    "from random import randint\n",
    "import math\n",
    "\n",
    "def  preprocess_image(image):\n",
    "    #print(\"EagerMode:\" + str(tf.executing_eagerly()))\n",
    "    # decode PNG\n",
    "    image = tf.image.decode_png(image, channels=3)    \n",
    "    \n",
    "    # data augmentation - doing statically via fastai, as tensorflow addons is not compatible with graph mode yet \n",
    "    # rotate random\n",
    "    degrees = random.randint(-6,6)\n",
    "    angle = degrees * math.pi / 180\n",
    "    #image = tfa.image.rotate(image,angle,interpolation='BILINEAR')\n",
    "    \n",
    "    # random crop - images are tensors of shape (500,640,3)\n",
    "    crop_factor = (random.randint(0,20)/100) # generate numbers between 0.7 and 1.0\n",
    "    new_width = int(640 * (1-crop_factor))\n",
    "    new_height = int(500 * (1-crop_factor))\n",
    "    # resize_image_with_crop_or_pad\n",
    "    # image = tf.image.resize_image_with_crop_or_pad(image,new_height,new_width)\n",
    "    \n",
    "    # resize\n",
    "    image = tf.image.resize(image, [224, 224])\n",
    "\n",
    "    # normalize = convert to [-1:1]    \n",
    "    offset = 127.5\n",
    "    image = (image-offset)/offset\n",
    "    return image\n",
    "\n",
    "def load_and_preprocess_image(path):    \n",
    "    image = tf.io.read_file(path)\n",
    "    return preprocess_image(image)\n"
   ]
  },
  {
   "cell_type": "code",
   "execution_count": 16,
   "metadata": {},
   "outputs": [
    {
     "name": "stderr",
     "output_type": "stream",
     "text": [
      "WARNING: Logging before flag parsing goes to stderr.\n",
      "W0514 14:05:52.819058 140533261432640 image.py:648] Clipping input data to the valid range for imshow with RGB data ([0..1] for floats or [0..255] for integers).\n"
     ]
    },
    {
     "data": {
      "text/plain": [
       "<matplotlib.image.AxesImage at 0x7fcfe0effda0>"
      ]
     },
     "execution_count": 16,
     "metadata": {},
     "output_type": "execute_result"
    },
    {
     "data": {
      "image/png": "[encoded data removed]",
      "text/plain": [
       "<Figure size 432x288 with 1 Axes>"
      ]
     },
     "metadata": {
      "needs_background": "light"
     },
     "output_type": "display_data"
    }
   ],
   "source": [
    "# load data into tf data\n",
    "img_tensor = load_and_preprocess_image(all_image_paths[0])\n",
    "plt.imshow(img_tensor)"
   ]
  },
  {
   "cell_type": "code",
   "execution_count": 17,
   "metadata": {},
   "outputs": [
    {
     "data": {
      "text/plain": [
       "<tf.Tensor: id=43, shape=(), dtype=string, numpy=b'training_data/augmented_imgs/wings_423999.png'>"
      ]
     },
     "execution_count": 17,
     "metadata": {},
     "output_type": "execute_result"
    }
   ],
   "source": [
    "path_ds = tf.data.Dataset.from_tensor_slices(all_image_paths)\n",
    "path_ds\n",
    "\n",
    "next(iter(path_ds))"
   ]
  },
  {
   "cell_type": "code",
   "execution_count": 18,
   "metadata": {},
   "outputs": [],
   "source": [
    "# force non performatic eager mode as tfa.image doesn't support graph mode yet\n",
    "#image_ds = path_ds.map(lambda path: tf.py_function(func=load_and_preprocess_image,inp=[path],Tout=tf.float32))\n",
    "image_ds = path_ds.map(load_and_preprocess_image,num_parallel_calls = AUTOTUNE)"
   ]
  },
  {
   "cell_type": "code",
   "execution_count": 19,
   "metadata": {},
   "outputs": [
    {
     "data": {
      "text/plain": [
       "4191"
      ]
     },
     "execution_count": 19,
     "metadata": {},
     "output_type": "execute_result"
    }
   ],
   "source": [
    "all_image_labels_idx = [label_to_index[label] for label in all_image_labels]\n",
    "label_ds = tf.data.Dataset.from_tensor_slices(tf.cast(all_image_labels_idx, tf.int64))\n",
    "len(all_image_labels)"
   ]
  },
  {
   "cell_type": "code",
   "execution_count": 20,
   "metadata": {},
   "outputs": [
    {
     "data": {
      "text/plain": [
       "tensorflow.python.data.ops.dataset_ops.ZipDataset"
      ]
     },
     "execution_count": 20,
     "metadata": {},
     "output_type": "execute_result"
    }
   ],
   "source": [
    "image_label_ds = tf.data.Dataset.zip((image_ds, label_ds))\n",
    "image_label_ds\n",
    "image_count = len(all_image_labels)\n",
    "\n",
    "type(image_label_ds)"
   ]
  },
  {
   "cell_type": "code",
   "execution_count": 21,
   "metadata": {},
   "outputs": [
    {
     "data": {
      "text/plain": [
       "<PrefetchDataset shapes: ((None, 224, 224, 3), (None,)), types: (tf.float32, tf.int64)>"
      ]
     },
     "execution_count": 21,
     "metadata": {},
     "output_type": "execute_result"
    }
   ],
   "source": [
    "ds = image_label_ds.cache()\n",
    "ds = ds.apply(tf.data.experimental.shuffle_and_repeat(buffer_size=image_count))\n",
    "ds = ds.batch(BATCH_SIZE).prefetch(buffer_size=AUTOTUNE)\n",
    "ds"
   ]
  },
  {
   "cell_type": "code",
   "execution_count": 22,
   "metadata": {},
   "outputs": [
    {
     "name": "stdout",
     "output_type": "stream",
     "text": [
      "Model: \"mobilenetv2_1.00_224\"\n",
      "__________________________________________________________________________________________________\n",
      "Layer (type)                    Output Shape         Param #     Connected to                     \n",
      "==================================================================================================\n",
      "input_1 (InputLayer)            [(None, 224, 224, 3) 0                                            \n",
      "__________________________________________________________________________________________________\n",
      "Conv1_pad (ZeroPadding2D)       (None, 225, 225, 3)  0           input_1[0][0]                    \n",
      "__________________________________________________________________________________________________\n",
      "Conv1 (Conv2D)                  (None, 112, 112, 32) 864         Conv1_pad[0][0]                  \n",
      "__________________________________________________________________________________________________\n",
      "bn_Conv1 (BatchNormalizationV1) (None, 112, 112, 32) 128         Conv1[0][0]                      \n",
      "__________________________________________________________________________________________________\n",
      "Conv1_relu (ReLU)               (None, 112, 112, 32) 0           bn_Conv1[0][0]                   \n",
      "__________________________________________________________________________________________________\n",
      "expanded_conv_depthwise (Depthw (None, 112, 112, 32) 288         Conv1_relu[0][0]                 \n",
      "__________________________________________________________________________________________________\n",
      "expanded_conv_depthwise_BN (Bat (None, 112, 112, 32) 128         expanded_conv_depthwise[0][0]    \n",
      "__________________________________________________________________________________________________\n",
      "expanded_conv_depthwise_relu (R (None, 112, 112, 32) 0           expanded_conv_depthwise_BN[0][0] \n",
      "__________________________________________________________________________________________________\n",
      "expanded_conv_project (Conv2D)  (None, 112, 112, 16) 512         expanded_conv_depthwise_relu[0][0\n",
      "__________________________________________________________________________________________________\n",
      "expanded_conv_project_BN (Batch (None, 112, 112, 16) 64          expanded_conv_project[0][0]      \n",
      "__________________________________________________________________________________________________\n",
      "block_1_expand (Conv2D)         (None, 112, 112, 96) 1536        expanded_conv_project_BN[0][0]   \n",
      "__________________________________________________________________________________________________\n",
      "block_1_expand_BN (BatchNormali (None, 112, 112, 96) 384         block_1_expand[0][0]             \n",
      "__________________________________________________________________________________________________\n",
      "block_1_expand_relu (ReLU)      (None, 112, 112, 96) 0           block_1_expand_BN[0][0]          \n",
      "__________________________________________________________________________________________________\n",
      "block_1_pad (ZeroPadding2D)     (None, 113, 113, 96) 0           block_1_expand_relu[0][0]        \n",
      "__________________________________________________________________________________________________\n",
      "block_1_depthwise (DepthwiseCon (None, 56, 56, 96)   864         block_1_pad[0][0]                \n",
      "__________________________________________________________________________________________________\n",
      "block_1_depthwise_BN (BatchNorm (None, 56, 56, 96)   384         block_1_depthwise[0][0]          \n",
      "__________________________________________________________________________________________________\n",
      "block_1_depthwise_relu (ReLU)   (None, 56, 56, 96)   0           block_1_depthwise_BN[0][0]       \n",
      "__________________________________________________________________________________________________\n",
      "block_1_project (Conv2D)        (None, 56, 56, 24)   2304        block_1_depthwise_relu[0][0]     \n",
      "__________________________________________________________________________________________________\n",
      "block_1_project_BN (BatchNormal (None, 56, 56, 24)   96          block_1_project[0][0]            \n",
      "__________________________________________________________________________________________________\n",
      "block_2_expand (Conv2D)         (None, 56, 56, 144)  3456        block_1_project_BN[0][0]         \n",
      "__________________________________________________________________________________________________\n",
      "block_2_expand_BN (BatchNormali (None, 56, 56, 144)  576         block_2_expand[0][0]             \n",
      "__________________________________________________________________________________________________\n",
      "block_2_expand_relu (ReLU)      (None, 56, 56, 144)  0           block_2_expand_BN[0][0]          \n",
      "__________________________________________________________________________________________________\n",
      "block_2_depthwise (DepthwiseCon (None, 56, 56, 144)  1296        block_2_expand_relu[0][0]        \n",
      "__________________________________________________________________________________________________\n",
      "block_2_depthwise_BN (BatchNorm (None, 56, 56, 144)  576         block_2_depthwise[0][0]          \n",
      "__________________________________________________________________________________________________\n",
      "block_2_depthwise_relu (ReLU)   (None, 56, 56, 144)  0           block_2_depthwise_BN[0][0]       \n",
      "__________________________________________________________________________________________________\n",
      "block_2_project (Conv2D)        (None, 56, 56, 24)   3456        block_2_depthwise_relu[0][0]     \n",
      "__________________________________________________________________________________________________\n",
      "block_2_project_BN (BatchNormal (None, 56, 56, 24)   96          block_2_project[0][0]            \n",
      "__________________________________________________________________________________________________\n",
      "block_2_add (Add)               (None, 56, 56, 24)   0           block_1_project_BN[0][0]         \n",
      "                                                                 block_2_project_BN[0][0]         \n",
      "__________________________________________________________________________________________________\n",
      "block_3_expand (Conv2D)         (None, 56, 56, 144)  3456        block_2_add[0][0]                \n",
      "__________________________________________________________________________________________________\n",
      "block_3_expand_BN (BatchNormali (None, 56, 56, 144)  576         block_3_expand[0][0]             \n",
      "__________________________________________________________________________________________________\n",
      "block_3_expand_relu (ReLU)      (None, 56, 56, 144)  0           block_3_expand_BN[0][0]          \n",
      "__________________________________________________________________________________________________\n",
      "block_3_pad (ZeroPadding2D)     (None, 57, 57, 144)  0           block_3_expand_relu[0][0]        \n",
      "__________________________________________________________________________________________________\n",
      "block_3_depthwise (DepthwiseCon (None, 28, 28, 144)  1296        block_3_pad[0][0]                \n",
      "__________________________________________________________________________________________________\n",
      "block_3_depthwise_BN (BatchNorm (None, 28, 28, 144)  576         block_3_depthwise[0][0]          \n",
      "__________________________________________________________________________________________________\n",
      "block_3_depthwise_relu (ReLU)   (None, 28, 28, 144)  0           block_3_depthwise_BN[0][0]       \n",
      "__________________________________________________________________________________________________\n",
      "block_3_project (Conv2D)        (None, 28, 28, 32)   4608        block_3_depthwise_relu[0][0]     \n",
      "__________________________________________________________________________________________________\n",
      "block_3_project_BN (BatchNormal (None, 28, 28, 32)   128         block_3_project[0][0]            \n",
      "__________________________________________________________________________________________________\n",
      "block_4_expand (Conv2D)         (None, 28, 28, 192)  6144        block_3_project_BN[0][0]         \n",
      "__________________________________________________________________________________________________\n",
      "block_4_expand_BN (BatchNormali (None, 28, 28, 192)  768         block_4_expand[0][0]             \n",
      "__________________________________________________________________________________________________\n",
      "block_4_expand_relu (ReLU)      (None, 28, 28, 192)  0           block_4_expand_BN[0][0]          \n",
      "__________________________________________________________________________________________________\n",
      "block_4_depthwise (DepthwiseCon (None, 28, 28, 192)  1728        block_4_expand_relu[0][0]        \n",
      "__________________________________________________________________________________________________\n",
      "block_4_depthwise_BN (BatchNorm (None, 28, 28, 192)  768         block_4_depthwise[0][0]          \n",
      "__________________________________________________________________________________________________\n",
      "block_4_depthwise_relu (ReLU)   (None, 28, 28, 192)  0           block_4_depthwise_BN[0][0]       \n",
      "__________________________________________________________________________________________________\n",
      "block_4_project (Conv2D)        (None, 28, 28, 32)   6144        block_4_depthwise_relu[0][0]     \n",
      "__________________________________________________________________________________________________\n",
      "block_4_project_BN (BatchNormal (None, 28, 28, 32)   128         block_4_project[0][0]            \n",
      "__________________________________________________________________________________________________\n",
      "block_4_add (Add)               (None, 28, 28, 32)   0           block_3_project_BN[0][0]         \n",
      "                                                                 block_4_project_BN[0][0]         \n",
      "__________________________________________________________________________________________________\n",
      "block_5_expand (Conv2D)         (None, 28, 28, 192)  6144        block_4_add[0][0]                \n",
      "__________________________________________________________________________________________________\n",
      "block_5_expand_BN (BatchNormali (None, 28, 28, 192)  768         block_5_expand[0][0]             \n",
      "__________________________________________________________________________________________________\n",
      "block_5_expand_relu (ReLU)      (None, 28, 28, 192)  0           block_5_expand_BN[0][0]          \n",
      "__________________________________________________________________________________________________\n",
      "block_5_depthwise (DepthwiseCon (None, 28, 28, 192)  1728        block_5_expand_relu[0][0]        \n",
      "__________________________________________________________________________________________________\n",
      "block_5_depthwise_BN (BatchNorm (None, 28, 28, 192)  768         block_5_depthwise[0][0]          \n",
      "__________________________________________________________________________________________________\n",
      "block_5_depthwise_relu (ReLU)   (None, 28, 28, 192)  0           block_5_depthwise_BN[0][0]       \n",
      "__________________________________________________________________________________________________\n",
      "block_5_project (Conv2D)        (None, 28, 28, 32)   6144        block_5_depthwise_relu[0][0]     \n",
      "__________________________________________________________________________________________________\n",
      "block_5_project_BN (BatchNormal (None, 28, 28, 32)   128         block_5_project[0][0]            \n",
      "__________________________________________________________________________________________________\n",
      "block_5_add (Add)               (None, 28, 28, 32)   0           block_4_add[0][0]                \n",
      "                                                                 block_5_project_BN[0][0]         \n",
      "__________________________________________________________________________________________________\n",
      "block_6_expand (Conv2D)         (None, 28, 28, 192)  6144        block_5_add[0][0]                \n",
      "__________________________________________________________________________________________________\n",
      "block_6_expand_BN (BatchNormali (None, 28, 28, 192)  768         block_6_expand[0][0]             \n",
      "__________________________________________________________________________________________________\n",
      "block_6_expand_relu (ReLU)      (None, 28, 28, 192)  0           block_6_expand_BN[0][0]          \n",
      "__________________________________________________________________________________________________\n",
      "block_6_pad (ZeroPadding2D)     (None, 29, 29, 192)  0           block_6_expand_relu[0][0]        \n",
      "__________________________________________________________________________________________________\n",
      "block_6_depthwise (DepthwiseCon (None, 14, 14, 192)  1728        block_6_pad[0][0]                \n",
      "__________________________________________________________________________________________________\n",
      "block_6_depthwise_BN (BatchNorm (None, 14, 14, 192)  768         block_6_depthwise[0][0]          \n",
      "__________________________________________________________________________________________________\n",
      "block_6_depthwise_relu (ReLU)   (None, 14, 14, 192)  0           block_6_depthwise_BN[0][0]       \n",
      "__________________________________________________________________________________________________\n",
      "block_6_project (Conv2D)        (None, 14, 14, 64)   12288       block_6_depthwise_relu[0][0]     \n",
      "__________________________________________________________________________________________________\n",
      "block_6_project_BN (BatchNormal (None, 14, 14, 64)   256         block_6_project[0][0]            \n",
      "__________________________________________________________________________________________________\n",
      "block_7_expand (Conv2D)         (None, 14, 14, 384)  24576       block_6_project_BN[0][0]         \n",
      "__________________________________________________________________________________________________\n",
      "block_7_expand_BN (BatchNormali (None, 14, 14, 384)  1536        block_7_expand[0][0]             \n",
      "__________________________________________________________________________________________________\n",
      "block_7_expand_relu (ReLU)      (None, 14, 14, 384)  0           block_7_expand_BN[0][0]          \n",
      "__________________________________________________________________________________________________\n",
      "block_7_depthwise (DepthwiseCon (None, 14, 14, 384)  3456        block_7_expand_relu[0][0]        \n",
      "__________________________________________________________________________________________________\n",
      "block_7_depthwise_BN (BatchNorm (None, 14, 14, 384)  1536        block_7_depthwise[0][0]          \n",
      "__________________________________________________________________________________________________\n",
      "block_7_depthwise_relu (ReLU)   (None, 14, 14, 384)  0           block_7_depthwise_BN[0][0]       \n",
      "__________________________________________________________________________________________________\n",
      "block_7_project (Conv2D)        (None, 14, 14, 64)   24576       block_7_depthwise_relu[0][0]     \n",
      "__________________________________________________________________________________________________\n",
      "block_7_project_BN (BatchNormal (None, 14, 14, 64)   256         block_7_project[0][0]            \n",
      "__________________________________________________________________________________________________\n",
      "block_7_add (Add)               (None, 14, 14, 64)   0           block_6_project_BN[0][0]         \n",
      "                                                                 block_7_project_BN[0][0]         \n",
      "__________________________________________________________________________________________________\n",
      "block_8_expand (Conv2D)         (None, 14, 14, 384)  24576       block_7_add[0][0]                \n",
      "__________________________________________________________________________________________________\n",
      "block_8_expand_BN (BatchNormali (None, 14, 14, 384)  1536        block_8_expand[0][0]             \n",
      "__________________________________________________________________________________________________\n",
      "block_8_expand_relu (ReLU)      (None, 14, 14, 384)  0           block_8_expand_BN[0][0]          \n",
      "__________________________________________________________________________________________________\n",
      "block_8_depthwise (DepthwiseCon (None, 14, 14, 384)  3456        block_8_expand_relu[0][0]        \n",
      "__________________________________________________________________________________________________\n",
      "block_8_depthwise_BN (BatchNorm (None, 14, 14, 384)  1536        block_8_depthwise[0][0]          \n",
      "__________________________________________________________________________________________________\n",
      "block_8_depthwise_relu (ReLU)   (None, 14, 14, 384)  0           block_8_depthwise_BN[0][0]       \n",
      "__________________________________________________________________________________________________\n",
      "block_8_project (Conv2D)        (None, 14, 14, 64)   24576       block_8_depthwise_relu[0][0]     \n",
      "__________________________________________________________________________________________________\n",
      "block_8_project_BN (BatchNormal (None, 14, 14, 64)   256         block_8_project[0][0]            \n",
      "__________________________________________________________________________________________________\n",
      "block_8_add (Add)               (None, 14, 14, 64)   0           block_7_add[0][0]                \n",
      "                                                                 block_8_project_BN[0][0]         \n",
      "__________________________________________________________________________________________________\n",
      "block_9_expand (Conv2D)         (None, 14, 14, 384)  24576       block_8_add[0][0]                \n",
      "__________________________________________________________________________________________________\n",
      "block_9_expand_BN (BatchNormali (None, 14, 14, 384)  1536        block_9_expand[0][0]             \n",
      "__________________________________________________________________________________________________\n",
      "block_9_expand_relu (ReLU)      (None, 14, 14, 384)  0           block_9_expand_BN[0][0]          \n",
      "__________________________________________________________________________________________________\n",
      "block_9_depthwise (DepthwiseCon (None, 14, 14, 384)  3456        block_9_expand_relu[0][0]        \n",
      "__________________________________________________________________________________________________\n",
      "block_9_depthwise_BN (BatchNorm (None, 14, 14, 384)  1536        block_9_depthwise[0][0]          \n",
      "__________________________________________________________________________________________________\n",
      "block_9_depthwise_relu (ReLU)   (None, 14, 14, 384)  0           block_9_depthwise_BN[0][0]       \n",
      "__________________________________________________________________________________________________\n",
      "block_9_project (Conv2D)        (None, 14, 14, 64)   24576       block_9_depthwise_relu[0][0]     \n",
      "__________________________________________________________________________________________________\n",
      "block_9_project_BN (BatchNormal (None, 14, 14, 64)   256         block_9_project[0][0]            \n",
      "__________________________________________________________________________________________________\n",
      "block_9_add (Add)               (None, 14, 14, 64)   0           block_8_add[0][0]                \n",
      "                                                                 block_9_project_BN[0][0]         \n",
      "__________________________________________________________________________________________________\n",
      "block_10_expand (Conv2D)        (None, 14, 14, 384)  24576       block_9_add[0][0]                \n",
      "__________________________________________________________________________________________________\n",
      "block_10_expand_BN (BatchNormal (None, 14, 14, 384)  1536        block_10_expand[0][0]            \n",
      "__________________________________________________________________________________________________\n",
      "block_10_expand_relu (ReLU)     (None, 14, 14, 384)  0           block_10_expand_BN[0][0]         \n",
      "__________________________________________________________________________________________________\n",
      "block_10_depthwise (DepthwiseCo (None, 14, 14, 384)  3456        block_10_expand_relu[0][0]       \n",
      "__________________________________________________________________________________________________\n",
      "block_10_depthwise_BN (BatchNor (None, 14, 14, 384)  1536        block_10_depthwise[0][0]         \n",
      "__________________________________________________________________________________________________\n",
      "block_10_depthwise_relu (ReLU)  (None, 14, 14, 384)  0           block_10_depthwise_BN[0][0]      \n",
      "__________________________________________________________________________________________________\n",
      "block_10_project (Conv2D)       (None, 14, 14, 96)   36864       block_10_depthwise_relu[0][0]    \n",
      "__________________________________________________________________________________________________\n",
      "block_10_project_BN (BatchNorma (None, 14, 14, 96)   384         block_10_project[0][0]           \n",
      "__________________________________________________________________________________________________\n",
      "block_11_expand (Conv2D)        (None, 14, 14, 576)  55296       block_10_project_BN[0][0]        \n",
      "__________________________________________________________________________________________________\n",
      "block_11_expand_BN (BatchNormal (None, 14, 14, 576)  2304        block_11_expand[0][0]            \n",
      "__________________________________________________________________________________________________\n",
      "block_11_expand_relu (ReLU)     (None, 14, 14, 576)  0           block_11_expand_BN[0][0]         \n",
      "__________________________________________________________________________________________________\n",
      "block_11_depthwise (DepthwiseCo (None, 14, 14, 576)  5184        block_11_expand_relu[0][0]       \n",
      "__________________________________________________________________________________________________\n",
      "block_11_depthwise_BN (BatchNor (None, 14, 14, 576)  2304        block_11_depthwise[0][0]         \n",
      "__________________________________________________________________________________________________\n",
      "block_11_depthwise_relu (ReLU)  (None, 14, 14, 576)  0           block_11_depthwise_BN[0][0]      \n",
      "__________________________________________________________________________________________________\n",
      "block_11_project (Conv2D)       (None, 14, 14, 96)   55296       block_11_depthwise_relu[0][0]    \n",
      "__________________________________________________________________________________________________\n",
      "block_11_project_BN (BatchNorma (None, 14, 14, 96)   384         block_11_project[0][0]           \n",
      "__________________________________________________________________________________________________\n",
      "block_11_add (Add)              (None, 14, 14, 96)   0           block_10_project_BN[0][0]        \n",
      "                                                                 block_11_project_BN[0][0]        \n",
      "__________________________________________________________________________________________________\n",
      "block_12_expand (Conv2D)        (None, 14, 14, 576)  55296       block_11_add[0][0]               \n",
      "__________________________________________________________________________________________________\n",
      "block_12_expand_BN (BatchNormal (None, 14, 14, 576)  2304        block_12_expand[0][0]            \n",
      "__________________________________________________________________________________________________\n",
      "block_12_expand_relu (ReLU)     (None, 14, 14, 576)  0           block_12_expand_BN[0][0]         \n",
      "__________________________________________________________________________________________________\n",
      "block_12_depthwise (DepthwiseCo (None, 14, 14, 576)  5184        block_12_expand_relu[0][0]       \n",
      "__________________________________________________________________________________________________\n",
      "block_12_depthwise_BN (BatchNor (None, 14, 14, 576)  2304        block_12_depthwise[0][0]         \n",
      "__________________________________________________________________________________________________\n",
      "block_12_depthwise_relu (ReLU)  (None, 14, 14, 576)  0           block_12_depthwise_BN[0][0]      \n",
      "__________________________________________________________________________________________________\n",
      "block_12_project (Conv2D)       (None, 14, 14, 96)   55296       block_12_depthwise_relu[0][0]    \n",
      "__________________________________________________________________________________________________\n",
      "block_12_project_BN (BatchNorma (None, 14, 14, 96)   384         block_12_project[0][0]           \n",
      "__________________________________________________________________________________________________\n",
      "block_12_add (Add)              (None, 14, 14, 96)   0           block_11_add[0][0]               \n",
      "                                                                 block_12_project_BN[0][0]        \n",
      "__________________________________________________________________________________________________\n",
      "block_13_expand (Conv2D)        (None, 14, 14, 576)  55296       block_12_add[0][0]               \n",
      "__________________________________________________________________________________________________\n",
      "block_13_expand_BN (BatchNormal (None, 14, 14, 576)  2304        block_13_expand[0][0]            \n",
      "__________________________________________________________________________________________________\n",
      "block_13_expand_relu (ReLU)     (None, 14, 14, 576)  0           block_13_expand_BN[0][0]         \n",
      "__________________________________________________________________________________________________\n",
      "block_13_pad (ZeroPadding2D)    (None, 15, 15, 576)  0           block_13_expand_relu[0][0]       \n",
      "__________________________________________________________________________________________________\n",
      "block_13_depthwise (DepthwiseCo (None, 7, 7, 576)    5184        block_13_pad[0][0]               \n",
      "__________________________________________________________________________________________________\n",
      "block_13_depthwise_BN (BatchNor (None, 7, 7, 576)    2304        block_13_depthwise[0][0]         \n",
      "__________________________________________________________________________________________________\n",
      "block_13_depthwise_relu (ReLU)  (None, 7, 7, 576)    0           block_13_depthwise_BN[0][0]      \n",
      "__________________________________________________________________________________________________\n",
      "block_13_project (Conv2D)       (None, 7, 7, 160)    92160       block_13_depthwise_relu[0][0]    \n",
      "__________________________________________________________________________________________________\n",
      "block_13_project_BN (BatchNorma (None, 7, 7, 160)    640         block_13_project[0][0]           \n",
      "__________________________________________________________________________________________________\n",
      "block_14_expand (Conv2D)        (None, 7, 7, 960)    153600      block_13_project_BN[0][0]        \n",
      "__________________________________________________________________________________________________\n",
      "block_14_expand_BN (BatchNormal (None, 7, 7, 960)    3840        block_14_expand[0][0]            \n",
      "__________________________________________________________________________________________________\n",
      "block_14_expand_relu (ReLU)     (None, 7, 7, 960)    0           block_14_expand_BN[0][0]         \n",
      "__________________________________________________________________________________________________\n",
      "block_14_depthwise (DepthwiseCo (None, 7, 7, 960)    8640        block_14_expand_relu[0][0]       \n",
      "__________________________________________________________________________________________________\n",
      "block_14_depthwise_BN (BatchNor (None, 7, 7, 960)    3840        block_14_depthwise[0][0]         \n",
      "__________________________________________________________________________________________________\n",
      "block_14_depthwise_relu (ReLU)  (None, 7, 7, 960)    0           block_14_depthwise_BN[0][0]      \n",
      "__________________________________________________________________________________________________\n",
      "block_14_project (Conv2D)       (None, 7, 7, 160)    153600      block_14_depthwise_relu[0][0]    \n",
      "__________________________________________________________________________________________________\n",
      "block_14_project_BN (BatchNorma (None, 7, 7, 160)    640         block_14_project[0][0]           \n",
      "__________________________________________________________________________________________________\n",
      "block_14_add (Add)              (None, 7, 7, 160)    0           block_13_project_BN[0][0]        \n",
      "                                                                 block_14_project_BN[0][0]        \n",
      "__________________________________________________________________________________________________\n",
      "block_15_expand (Conv2D)        (None, 7, 7, 960)    153600      block_14_add[0][0]               \n",
      "__________________________________________________________________________________________________\n",
      "block_15_expand_BN (BatchNormal (None, 7, 7, 960)    3840        block_15_expand[0][0]            \n",
      "__________________________________________________________________________________________________\n",
      "block_15_expand_relu (ReLU)     (None, 7, 7, 960)    0           block_15_expand_BN[0][0]         \n",
      "__________________________________________________________________________________________________\n",
      "block_15_depthwise (DepthwiseCo (None, 7, 7, 960)    8640        block_15_expand_relu[0][0]       \n",
      "__________________________________________________________________________________________________\n",
      "block_15_depthwise_BN (BatchNor (None, 7, 7, 960)    3840        block_15_depthwise[0][0]         \n",
      "__________________________________________________________________________________________________\n",
      "block_15_depthwise_relu (ReLU)  (None, 7, 7, 960)    0           block_15_depthwise_BN[0][0]      \n",
      "__________________________________________________________________________________________________\n",
      "block_15_project (Conv2D)       (None, 7, 7, 160)    153600      block_15_depthwise_relu[0][0]    \n",
      "__________________________________________________________________________________________________\n",
      "block_15_project_BN (BatchNorma (None, 7, 7, 160)    640         block_15_project[0][0]           \n",
      "__________________________________________________________________________________________________\n",
      "block_15_add (Add)              (None, 7, 7, 160)    0           block_14_add[0][0]               \n",
      "                                                                 block_15_project_BN[0][0]        \n",
      "__________________________________________________________________________________________________\n",
      "block_16_expand (Conv2D)        (None, 7, 7, 960)    153600      block_15_add[0][0]               \n",
      "__________________________________________________________________________________________________\n",
      "block_16_expand_BN (BatchNormal (None, 7, 7, 960)    3840        block_16_expand[0][0]            \n",
      "__________________________________________________________________________________________________\n",
      "block_16_expand_relu (ReLU)     (None, 7, 7, 960)    0           block_16_expand_BN[0][0]         \n",
      "__________________________________________________________________________________________________\n",
      "block_16_depthwise (DepthwiseCo (None, 7, 7, 960)    8640        block_16_expand_relu[0][0]       \n",
      "__________________________________________________________________________________________________\n",
      "block_16_depthwise_BN (BatchNor (None, 7, 7, 960)    3840        block_16_depthwise[0][0]         \n",
      "__________________________________________________________________________________________________\n",
      "block_16_depthwise_relu (ReLU)  (None, 7, 7, 960)    0           block_16_depthwise_BN[0][0]      \n",
      "__________________________________________________________________________________________________\n",
      "block_16_project (Conv2D)       (None, 7, 7, 320)    307200      block_16_depthwise_relu[0][0]    \n",
      "__________________________________________________________________________________________________\n",
      "block_16_project_BN (BatchNorma (None, 7, 7, 320)    1280        block_16_project[0][0]           \n",
      "__________________________________________________________________________________________________\n",
      "Conv_1 (Conv2D)                 (None, 7, 7, 1280)   409600      block_16_project_BN[0][0]        \n",
      "__________________________________________________________________________________________________\n",
      "Conv_1_bn (BatchNormalizationV1 (None, 7, 7, 1280)   5120        Conv_1[0][0]                     \n",
      "__________________________________________________________________________________________________\n",
      "out_relu (ReLU)                 (None, 7, 7, 1280)   0           Conv_1_bn[0][0]                  \n",
      "==================================================================================================\n",
      "Total params: 2,257,984\n",
      "Trainable params: 0\n",
      "Non-trainable params: 2,257,984\n",
      "__________________________________________________________________________________________________\n"
     ]
    }
   ],
   "source": [
    "# we will use a pretrained mobilenet for transferlearning\n",
    "mobilenet = tf.keras.applications.MobileNetV2(input_shape=(224,224,3),include_top=False,weights='imagenet')\n",
    "mobilenet.trainable = False\n",
    "mobilenet.summary()"
   ]
  },
  {
   "cell_type": "code",
   "execution_count": 23,
   "metadata": {},
   "outputs": [
    {
     "name": "stdout",
     "output_type": "stream",
     "text": [
      "(64, 224, 224, 3)\n"
     ]
    }
   ],
   "source": [
    "image_batch, label_batch = next(iter(ds))\n",
    "print(image_batch.shape)"
   ]
  },
  {
   "cell_type": "code",
   "execution_count": 24,
   "metadata": {},
   "outputs": [
    {
     "data": {
      "text/plain": [
       "array([[[-1., -1., -1.],\n",
       "        [-1., -1., -1.],\n",
       "        [-1., -1., -1.],\n",
       "        ...,\n",
       "        [-1., -1., -1.],\n",
       "        [-1., -1., -1.],\n",
       "        [-1., -1., -1.]],\n",
       "\n",
       "       [[-1., -1., -1.],\n",
       "        [-1., -1., -1.],\n",
       "        [-1., -1., -1.],\n",
       "        ...,\n",
       "        [-1., -1., -1.],\n",
       "        [-1., -1., -1.],\n",
       "        [-1., -1., -1.]],\n",
       "\n",
       "       [[-1., -1., -1.],\n",
       "        [-1., -1., -1.],\n",
       "        [-1., -1., -1.],\n",
       "        ...,\n",
       "        [-1., -1., -1.],\n",
       "        [-1., -1., -1.],\n",
       "        [-1., -1., -1.]],\n",
       "\n",
       "       ...,\n",
       "\n",
       "       [[-1., -1., -1.],\n",
       "        [-1., -1., -1.],\n",
       "        [-1., -1., -1.],\n",
       "        ...,\n",
       "        [-1., -1., -1.],\n",
       "        [-1., -1., -1.],\n",
       "        [-1., -1., -1.]],\n",
       "\n",
       "       [[-1., -1., -1.],\n",
       "        [-1., -1., -1.],\n",
       "        [-1., -1., -1.],\n",
       "        ...,\n",
       "        [-1., -1., -1.],\n",
       "        [-1., -1., -1.],\n",
       "        [-1., -1., -1.]],\n",
       "\n",
       "       [[-1., -1., -1.],\n",
       "        [-1., -1., -1.],\n",
       "        [-1., -1., -1.],\n",
       "        ...,\n",
       "        [-1., -1., -1.],\n",
       "        [-1., -1., -1.],\n",
       "        [-1., -1., -1.]]], dtype=float32)"
      ]
     },
     "execution_count": 24,
     "metadata": {},
     "output_type": "execute_result"
    }
   ],
   "source": [
    "label_batch[0].numpy()\n",
    "image_batch[0].numpy()"
   ]
  },
  {
   "cell_type": "code",
   "execution_count": 25,
   "metadata": {},
   "outputs": [
    {
     "name": "stdout",
     "output_type": "stream",
     "text": [
      "(64, 7, 7, 1280)\n"
     ]
    }
   ],
   "source": [
    "feature_map_batch = mobilenet(image_batch)\n",
    "print(feature_map_batch.shape)"
   ]
  },
  {
   "cell_type": "code",
   "execution_count": 26,
   "metadata": {},
   "outputs": [
    {
     "name": "stdout",
     "output_type": "stream",
     "text": [
      "Model: \"sequential\"\n",
      "_________________________________________________________________\n",
      "Layer (type)                 Output Shape              Param #   \n",
      "=================================================================\n",
      "mobilenetv2_1.00_224 (Model) (None, 7, 7, 1280)        2257984   \n",
      "_________________________________________________________________\n",
      "global_average_pooling2d (Gl (None, 1280)              0         \n",
      "_________________________________________________________________\n",
      "dropout (Dropout)            (None, 1280)              0         \n",
      "_________________________________________________________________\n",
      "dense (Dense)                (None, 1024)              1311744   \n",
      "_________________________________________________________________\n",
      "dropout_1 (Dropout)          (None, 1024)              0         \n",
      "_________________________________________________________________\n",
      "dense_1 (Dense)              (None, 1024)              1049600   \n",
      "_________________________________________________________________\n",
      "dropout_2 (Dropout)          (None, 1024)              0         \n",
      "_________________________________________________________________\n",
      "features (Dense)             (None, 512)               524800    \n",
      "_________________________________________________________________\n",
      "dense_2 (Dense)              (None, 8)                 4104      \n",
      "=================================================================\n",
      "Total params: 5,148,232\n",
      "Trainable params: 2,890,248\n",
      "Non-trainable params: 2,257,984\n",
      "_________________________________________________________________\n"
     ]
    }
   ],
   "source": [
    "model = tf.keras.Sequential([\n",
    "    mobilenet,\n",
    "    tf.keras.layers.GlobalAveragePooling2D(),\n",
    "    tf.keras.layers.Dropout(0.3),\n",
    "    tf.keras.layers.Dense(1024,activation='relu',bias_initializer=tf.keras.initializers.he_normal()),\n",
    "    tf.keras.layers.Dropout(0.3),\n",
    "    tf.keras.layers.Dense(1024,activation='relu',bias_initializer=tf.keras.initializers.he_normal()),\n",
    "    tf.keras.layers.Dropout(0.2),\n",
    "    tf.keras.layers.Dense(512,activation='relu',bias_initializer=tf.keras.initializers.he_normal(),name='features'),\n",
    "    tf.keras.layers.Dense(len(huia_person),activation='softmax'),\n",
    "])\n",
    "model.summary()"
   ]
  },
  {
   "cell_type": "code",
   "execution_count": 27,
   "metadata": {},
   "outputs": [
    {
     "name": "stdout",
     "output_type": "stream",
     "text": [
      "min logit: 0.05360333\n",
      "max logit: 0.23482509\n",
      "\n",
      "Shape: (64, 8)\n"
     ]
    }
   ],
   "source": [
    "logit_batch = model(image_batch).numpy()\n",
    "\n",
    "print(\"min logit:\", logit_batch.min())\n",
    "print(\"max logit:\", logit_batch.max())\n",
    "print()\n",
    "\n",
    "print(\"Shape:\", logit_batch.shape)"
   ]
  },
  {
   "cell_type": "code",
   "execution_count": 28,
   "metadata": {},
   "outputs": [
    {
     "name": "stdout",
     "output_type": "stream",
     "text": [
      "Model: \"sequential\"\n",
      "_________________________________________________________________\n",
      "Layer (type)                 Output Shape              Param #   \n",
      "=================================================================\n",
      "mobilenetv2_1.00_224 (Model) (None, 7, 7, 1280)        2257984   \n",
      "_________________________________________________________________\n",
      "global_average_pooling2d (Gl (None, 1280)              0         \n",
      "_________________________________________________________________\n",
      "dropout (Dropout)            (None, 1280)              0         \n",
      "_________________________________________________________________\n",
      "dense (Dense)                (None, 1024)              1311744   \n",
      "_________________________________________________________________\n",
      "dropout_1 (Dropout)          (None, 1024)              0         \n",
      "_________________________________________________________________\n",
      "dense_1 (Dense)              (None, 1024)              1049600   \n",
      "_________________________________________________________________\n",
      "dropout_2 (Dropout)          (None, 1024)              0         \n",
      "_________________________________________________________________\n",
      "features (Dense)             (None, 512)               524800    \n",
      "_________________________________________________________________\n",
      "dense_2 (Dense)              (None, 8)                 4104      \n",
      "=================================================================\n",
      "Total params: 5,148,232\n",
      "Trainable params: 2,890,248\n",
      "Non-trainable params: 2,257,984\n",
      "_________________________________________________________________\n"
     ]
    }
   ],
   "source": [
    "len(model.trainable_variables) \n",
    "model.summary()"
   ]
  },
  {
   "cell_type": "code",
   "execution_count": 29,
   "metadata": {},
   "outputs": [
    {
     "data": {
      "text/plain": [
       "66.0"
      ]
     },
     "execution_count": 29,
     "metadata": {},
     "output_type": "execute_result"
    }
   ],
   "source": [
    "steps_per_epoch=tf.math.ceil(len(all_image_paths)/BATCH_SIZE).numpy()\n",
    "steps_per_epoch"
   ]
  },
  {
   "cell_type": "code",
   "execution_count": 30,
   "metadata": {},
   "outputs": [],
   "source": [
    "from datetime import datetime\n",
    "now = datetime.now()\n",
    "log_dir = \"./logs/\" + now.strftime(\"%Y%m%d-%H%M%S\") + \"/\"\n",
    "\n",
    "callbacks = []\n",
    "\n",
    "# logging\n",
    "tbCallback = tf.keras.callbacks.TensorBoard(log_dir=log_dir,histogram_freq=1)\n",
    "tbCallback.set_model(model)\n",
    "callbacks.append(tbCallback)\n",
    "\n",
    "# class myCallback(tf.keras.callbacks.Callback):\n",
    "#   def on_epoch_end(self, epoch, logs={}):\n",
    "#     if(logs.get('val_accuracy')>0.9):\n",
    "#       print(\"\\nReached 60% accuracy so cancelling training!\")\n",
    "#       self.model.stop_training = True\n",
    "from datetime import datetime\n",
    "\n",
    "# earlyStopping = tf.keras.callbacks.EarlyStopping(patience=2, monitor='loss')\n",
    "# callbacks.append(earlyStopping)\n",
    "\n",
    "# chkPoint = tf.keras.callbacks.ModelCheckpoint('./models.h5')\n",
    "# chkPoint.set_model(model)\n",
    "# callbacks.append(chkPoint)"
   ]
  },
  {
   "cell_type": "code",
   "execution_count": 31,
   "metadata": {},
   "outputs": [],
   "source": [
    "#ds.shuffle(buffer_size=32)\n",
    "# skip 20% validation images\n",
    "test_dataset = ds.take(838) \n",
    "train_dataset = ds.skip(838)"
   ]
  },
  {
   "cell_type": "code",
   "execution_count": 80,
   "metadata": {},
   "outputs": [],
   "source": [
    "mobilenet.trainable = False\n",
    "model.compile(optimizer=tf.keras.optimizers.Adam(lr=3e-4, beta_1=0.9, beta_2=0.999, epsilon=1e-08, decay=1e-07, amsgrad=False), \n",
    "              loss='sparse_categorical_crossentropy',\n",
    "              metrics=['accuracy'])"
   ]
  },
  {
   "cell_type": "code",
   "execution_count": 81,
   "metadata": {
    "scrolled": true
   },
   "outputs": [
    {
     "name": "stdout",
     "output_type": "stream",
     "text": [
      "Epoch 1/20\n",
      "66/66 [==============================] - 27s 409ms/step - loss: 0.7701 - accuracy: 0.7417 - val_loss: 1.7411 - val_accuracy: 0.4150\n",
      "Epoch 2/20\n",
      "66/66 [==============================] - 11s 159ms/step - loss: 0.1638 - accuracy: 0.9444 - val_loss: 1.3573 - val_accuracy: 0.5613\n",
      "Epoch 3/20\n",
      "66/66 [==============================] - 11s 163ms/step - loss: 0.0859 - accuracy: 0.9735 - val_loss: 1.2229 - val_accuracy: 0.6056\n",
      "Epoch 4/20\n",
      "66/66 [==============================] - 11s 161ms/step - loss: 0.0779 - accuracy: 0.9754 - val_loss: 1.0536 - val_accuracy: 0.6004\n",
      "Epoch 5/20\n",
      "66/66 [==============================] - 11s 162ms/step - loss: 0.0709 - accuracy: 0.9759 - val_loss: 0.8922 - val_accuracy: 0.6643\n",
      "Epoch 6/20\n",
      "66/66 [==============================] - 11s 163ms/step - loss: 0.0522 - accuracy: 0.9825 - val_loss: 1.3299 - val_accuracy: 0.5691\n",
      "Epoch 7/20\n",
      "66/66 [==============================] - 11s 160ms/step - loss: 0.0446 - accuracy: 0.9863 - val_loss: 1.6505 - val_accuracy: 0.5355\n",
      "Epoch 8/20\n",
      "66/66 [==============================] - 11s 161ms/step - loss: 0.0456 - accuracy: 0.9867 - val_loss: 0.8474 - val_accuracy: 0.7282\n",
      "Epoch 9/20\n",
      "66/66 [==============================] - 11s 160ms/step - loss: 0.0462 - accuracy: 0.9851 - val_loss: 1.1606 - val_accuracy: 0.6584\n",
      "Epoch 10/20\n",
      "66/66 [==============================] - 11s 161ms/step - loss: 0.0247 - accuracy: 0.9924 - val_loss: 0.9729 - val_accuracy: 0.6880\n",
      "Epoch 11/20\n",
      "66/66 [==============================] - 11s 159ms/step - loss: 0.0353 - accuracy: 0.9867 - val_loss: 1.3416 - val_accuracy: 0.6058\n",
      "Epoch 12/20\n",
      "66/66 [==============================] - 10s 155ms/step - loss: 0.0356 - accuracy: 0.9870 - val_loss: 0.9934 - val_accuracy: 0.6688\n",
      "Epoch 13/20\n",
      "66/66 [==============================] - 11s 161ms/step - loss: 0.0201 - accuracy: 0.9931 - val_loss: 1.1408 - val_accuracy: 0.6707\n",
      "Epoch 14/20\n",
      "66/66 [==============================] - 11s 162ms/step - loss: 0.0218 - accuracy: 0.9934 - val_loss: 0.9142 - val_accuracy: 0.7254\n",
      "Epoch 15/20\n",
      "66/66 [==============================] - 11s 161ms/step - loss: 0.0305 - accuracy: 0.9903 - val_loss: 0.8785 - val_accuracy: 0.7180\n",
      "Epoch 16/20\n",
      "66/66 [==============================] - 11s 161ms/step - loss: 0.0216 - accuracy: 0.9941 - val_loss: 0.8789 - val_accuracy: 0.7429\n",
      "Epoch 17/20\n",
      "66/66 [==============================] - 11s 161ms/step - loss: 0.0230 - accuracy: 0.9920 - val_loss: 0.6036 - val_accuracy: 0.8054\n",
      "Epoch 18/20\n",
      "66/66 [==============================] - 11s 159ms/step - loss: 0.0264 - accuracy: 0.9905 - val_loss: 0.4758 - val_accuracy: 0.8530\n",
      "Epoch 19/20\n",
      "66/66 [==============================] - 10s 158ms/step - loss: 0.0369 - accuracy: 0.9872 - val_loss: 0.6053 - val_accuracy: 0.8101\n",
      "Epoch 20/20\n",
      "66/66 [==============================] - 11s 161ms/step - loss: 0.0194 - accuracy: 0.9946 - val_loss: 0.8323 - val_accuracy: 0.7585\n"
     ]
    },
    {
     "data": {
      "text/plain": [
       "<tensorflow.python.keras.callbacks.History at 0x7fb8142e2b00>"
      ]
     },
     "execution_count": 81,
     "metadata": {},
     "output_type": "execute_result"
    }
   ],
   "source": [
    "model.fit(train_dataset, epochs=20,steps_per_epoch=steps_per_epoch,verbose=1,validation_data=test_dataset,\n",
    "          callbacks=callbacks)"
   ]
  },
  {
   "cell_type": "code",
   "execution_count": 82,
   "metadata": {},
   "outputs": [],
   "source": [
    "mobilenet.trainable = True\n",
    "model.compile(optimizer=tf.keras.optimizers.Adam(lr=3e-6, beta_1=0.9, beta_2=0.999, epsilon=1e-08, decay=1e-07, amsgrad=False), \n",
    "              loss='sparse_categorical_crossentropy',\n",
    "              metrics=['accuracy'])"
   ]
  },
  {
   "cell_type": "code",
   "execution_count": 83,
   "metadata": {},
   "outputs": [
    {
     "name": "stdout",
     "output_type": "stream",
     "text": [
      "Epoch 1/100\n",
      "66/66 [==============================] - 64s 975ms/step - loss: 0.0131 - accuracy: 0.9962 - val_loss: 0.6540 - val_accuracy: 0.8078\n",
      "Epoch 2/100\n",
      "66/66 [==============================] - 27s 415ms/step - loss: 0.0072 - accuracy: 0.9976 - val_loss: 0.5647 - val_accuracy: 0.8348\n",
      "Epoch 3/100\n",
      "66/66 [==============================] - 27s 410ms/step - loss: 0.0063 - accuracy: 0.9979 - val_loss: 0.4969 - val_accuracy: 0.8523\n",
      "Epoch 4/100\n",
      "66/66 [==============================] - 27s 408ms/step - loss: 0.0036 - accuracy: 0.9988 - val_loss: 0.4433 - val_accuracy: 0.8643\n",
      "Epoch 5/100\n",
      "66/66 [==============================] - 27s 415ms/step - loss: 0.0070 - accuracy: 0.9979 - val_loss: 0.3930 - val_accuracy: 0.8800\n",
      "Epoch 6/100\n",
      "66/66 [==============================] - 27s 416ms/step - loss: 0.0033 - accuracy: 0.9991 - val_loss: 0.3568 - val_accuracy: 0.9008\n",
      "Epoch 7/100\n",
      "66/66 [==============================] - 27s 412ms/step - loss: 0.0052 - accuracy: 0.9983 - val_loss: 0.3012 - val_accuracy: 0.9115\n",
      "Epoch 8/100\n",
      "66/66 [==============================] - 28s 418ms/step - loss: 0.0046 - accuracy: 0.9983 - val_loss: 0.2585 - val_accuracy: 0.9238\n",
      "Epoch 9/100\n",
      "66/66 [==============================] - 27s 416ms/step - loss: 0.0060 - accuracy: 0.9979 - val_loss: 0.2321 - val_accuracy: 0.9295\n",
      "Epoch 10/100\n",
      "66/66 [==============================] - 28s 418ms/step - loss: 0.0026 - accuracy: 0.9991 - val_loss: 0.2198 - val_accuracy: 0.9363\n",
      "Epoch 11/100\n",
      "66/66 [==============================] - 27s 412ms/step - loss: 0.0024 - accuracy: 0.9995 - val_loss: 0.1999 - val_accuracy: 0.9373\n",
      "Epoch 12/100\n",
      "66/66 [==============================] - 27s 413ms/step - loss: 0.0020 - accuracy: 0.9993 - val_loss: 0.1754 - val_accuracy: 0.9451\n",
      "Epoch 13/100\n",
      "66/66 [==============================] - 27s 412ms/step - loss: 0.0020 - accuracy: 0.9995 - val_loss: 0.1779 - val_accuracy: 0.9384\n",
      "Epoch 14/100\n",
      "66/66 [==============================] - 27s 415ms/step - loss: 8.7788e-04 - accuracy: 0.9998 - val_loss: 0.1617 - val_accuracy: 0.9434\n",
      "Epoch 15/100\n",
      "66/66 [==============================] - 27s 412ms/step - loss: 0.0030 - accuracy: 0.9991 - val_loss: 0.1381 - val_accuracy: 0.9515\n",
      "Epoch 16/100\n",
      "66/66 [==============================] - 27s 412ms/step - loss: 0.0027 - accuracy: 0.9993 - val_loss: 0.1356 - val_accuracy: 0.9474\n",
      "Epoch 17/100\n",
      "66/66 [==============================] - 27s 414ms/step - loss: 0.0015 - accuracy: 0.9993 - val_loss: 0.1321 - val_accuracy: 0.9489\n",
      "Epoch 18/100\n",
      "66/66 [==============================] - 28s 418ms/step - loss: 0.0032 - accuracy: 0.9986 - val_loss: 0.1283 - val_accuracy: 0.9560\n",
      "Epoch 19/100\n",
      "66/66 [==============================] - 27s 414ms/step - loss: 0.0015 - accuracy: 0.9995 - val_loss: 0.1277 - val_accuracy: 0.9527\n",
      "Epoch 20/100\n",
      "66/66 [==============================] - 27s 409ms/step - loss: 0.0025 - accuracy: 0.9993 - val_loss: 0.1482 - val_accuracy: 0.9534\n",
      "Epoch 21/100\n",
      "66/66 [==============================] - 27s 412ms/step - loss: 8.9514e-04 - accuracy: 0.9998 - val_loss: 0.1447 - val_accuracy: 0.9510\n",
      "Epoch 22/100\n",
      "66/66 [==============================] - 27s 415ms/step - loss: 9.1014e-04 - accuracy: 0.9998 - val_loss: 0.1229 - val_accuracy: 0.9586\n",
      "Epoch 23/100\n",
      "66/66 [==============================] - 27s 410ms/step - loss: 0.0013 - accuracy: 0.9995 - val_loss: 0.1043 - val_accuracy: 0.9628\n",
      "Epoch 24/100\n",
      "66/66 [==============================] - 28s 418ms/step - loss: 8.5730e-04 - accuracy: 0.9998 - val_loss: 0.0877 - val_accuracy: 0.9714\n",
      "Epoch 25/100\n",
      "66/66 [==============================] - 28s 418ms/step - loss: 9.7753e-04 - accuracy: 0.9995 - val_loss: 0.0747 - val_accuracy: 0.9766\n",
      "Epoch 26/100\n",
      "66/66 [==============================] - 27s 412ms/step - loss: 3.3428e-04 - accuracy: 1.0000 - val_loss: 0.0630 - val_accuracy: 0.9775\n",
      "Epoch 27/100\n",
      "66/66 [==============================] - 27s 410ms/step - loss: 0.0025 - accuracy: 0.9988 - val_loss: 0.0645 - val_accuracy: 0.9761\n",
      "Epoch 28/100\n",
      "66/66 [==============================] - 27s 413ms/step - loss: 0.0011 - accuracy: 0.9993 - val_loss: 0.0538 - val_accuracy: 0.9815\n",
      "Epoch 29/100\n",
      "66/66 [==============================] - 27s 414ms/step - loss: 9.8529e-04 - accuracy: 0.9998 - val_loss: 0.0397 - val_accuracy: 0.9882\n",
      "Epoch 30/100\n",
      "66/66 [==============================] - 27s 412ms/step - loss: 4.8875e-04 - accuracy: 0.9998 - val_loss: 0.0283 - val_accuracy: 0.9915\n",
      "Epoch 31/100\n",
      "66/66 [==============================] - 27s 413ms/step - loss: 0.0017 - accuracy: 0.9993 - val_loss: 0.0180 - val_accuracy: 0.9931\n",
      "Epoch 32/100\n",
      "66/66 [==============================] - 27s 415ms/step - loss: 0.0013 - accuracy: 0.9995 - val_loss: 0.0096 - val_accuracy: 0.9962\n",
      "Epoch 33/100\n",
      "66/66 [==============================] - 27s 411ms/step - loss: 7.3008e-04 - accuracy: 0.9998 - val_loss: 0.0074 - val_accuracy: 0.9976\n",
      "Epoch 34/100\n",
      "66/66 [==============================] - 27s 412ms/step - loss: 3.9398e-04 - accuracy: 1.0000 - val_loss: 0.0055 - val_accuracy: 0.9983\n",
      "Epoch 35/100\n",
      "66/66 [==============================] - 27s 412ms/step - loss: 2.9223e-04 - accuracy: 1.0000 - val_loss: 0.0042 - val_accuracy: 0.9986\n",
      "Epoch 36/100\n",
      "66/66 [==============================] - 27s 415ms/step - loss: 2.4730e-04 - accuracy: 1.0000 - val_loss: 0.0029 - val_accuracy: 0.9991\n",
      "Epoch 37/100\n",
      "66/66 [==============================] - 28s 420ms/step - loss: 1.7216e-04 - accuracy: 1.0000 - val_loss: 0.0020 - val_accuracy: 0.9995\n",
      "Epoch 38/100\n",
      "66/66 [==============================] - 27s 415ms/step - loss: 3.4433e-04 - accuracy: 1.0000 - val_loss: 9.6281e-04 - val_accuracy: 0.9998\n",
      "Epoch 39/100\n",
      "66/66 [==============================] - 27s 414ms/step - loss: 6.1554e-04 - accuracy: 0.9998 - val_loss: 7.0013e-04 - val_accuracy: 0.9998\n",
      "Epoch 40/100\n",
      "66/66 [==============================] - 27s 413ms/step - loss: 3.0131e-04 - accuracy: 1.0000 - val_loss: 4.6104e-04 - val_accuracy: 0.9998\n",
      "Epoch 41/100\n",
      "66/66 [==============================] - 27s 415ms/step - loss: 3.3017e-04 - accuracy: 1.0000 - val_loss: 3.1750e-04 - val_accuracy: 0.9998\n",
      "Epoch 42/100\n",
      "66/66 [==============================] - 28s 417ms/step - loss: 5.1836e-04 - accuracy: 1.0000 - val_loss: 3.1524e-04 - val_accuracy: 0.9998\n",
      "Epoch 43/100\n",
      "66/66 [==============================] - 27s 414ms/step - loss: 2.9620e-04 - accuracy: 1.0000 - val_loss: 1.7867e-04 - val_accuracy: 1.0000\n",
      "Epoch 44/100\n",
      "66/66 [==============================] - 27s 411ms/step - loss: 9.1757e-04 - accuracy: 0.9995 - val_loss: 9.5308e-05 - val_accuracy: 1.0000\n",
      "Epoch 45/100\n",
      "66/66 [==============================] - 27s 412ms/step - loss: 8.6298e-04 - accuracy: 0.9998 - val_loss: 1.0912e-04 - val_accuracy: 1.0000\n",
      "Epoch 46/100\n",
      "66/66 [==============================] - 27s 416ms/step - loss: 9.2173e-04 - accuracy: 0.9995 - val_loss: 4.7470e-05 - val_accuracy: 1.0000\n",
      "Epoch 47/100\n",
      "66/66 [==============================] - 27s 412ms/step - loss: 1.5465e-04 - accuracy: 1.0000 - val_loss: 2.2220e-05 - val_accuracy: 1.0000\n",
      "Epoch 48/100\n",
      "66/66 [==============================] - 27s 412ms/step - loss: 3.6563e-04 - accuracy: 1.0000 - val_loss: 1.3602e-05 - val_accuracy: 1.0000\n",
      "Epoch 49/100\n",
      "66/66 [==============================] - 27s 411ms/step - loss: 3.0514e-04 - accuracy: 1.0000 - val_loss: 6.3367e-06 - val_accuracy: 1.0000\n",
      "Epoch 50/100\n",
      "66/66 [==============================] - 27s 412ms/step - loss: 5.3587e-04 - accuracy: 0.9998 - val_loss: 4.1358e-06 - val_accuracy: 1.0000\n",
      "Epoch 51/100\n",
      "66/66 [==============================] - 27s 412ms/step - loss: 2.4584e-04 - accuracy: 0.9998 - val_loss: 4.2324e-06 - val_accuracy: 1.0000\n",
      "Epoch 52/100\n",
      "66/66 [==============================] - 27s 414ms/step - loss: 0.0011 - accuracy: 0.9998 - val_loss: 2.8820e-06 - val_accuracy: 1.0000\n",
      "Epoch 53/100\n",
      "66/66 [==============================] - 27s 415ms/step - loss: 1.7673e-04 - accuracy: 1.0000 - val_loss: 1.9142e-06 - val_accuracy: 1.0000\n",
      "Epoch 54/100\n",
      "66/66 [==============================] - 27s 414ms/step - loss: 3.5049e-04 - accuracy: 0.9998 - val_loss: 2.2538e-06 - val_accuracy: 1.0000\n",
      "Epoch 55/100\n",
      "66/66 [==============================] - 27s 413ms/step - loss: 1.2500e-04 - accuracy: 1.0000 - val_loss: 1.5897e-06 - val_accuracy: 1.0000\n",
      "Epoch 56/100\n",
      "66/66 [==============================] - 27s 412ms/step - loss: 8.3461e-04 - accuracy: 0.9998 - val_loss: 1.1437e-06 - val_accuracy: 1.0000\n",
      "Epoch 57/100\n",
      "66/66 [==============================] - 27s 412ms/step - loss: 7.3618e-04 - accuracy: 0.9998 - val_loss: 1.4561e-06 - val_accuracy: 1.0000\n",
      "Epoch 58/100\n",
      "66/66 [==============================] - 27s 414ms/step - loss: 3.0452e-04 - accuracy: 1.0000 - val_loss: 2.0856e-06 - val_accuracy: 1.0000\n",
      "Epoch 59/100\n",
      "66/66 [==============================] - 28s 418ms/step - loss: 1.1337e-04 - accuracy: 1.0000 - val_loss: 1.4966e-06 - val_accuracy: 1.0000\n",
      "Epoch 60/100\n",
      "66/66 [==============================] - 27s 416ms/step - loss: 5.4086e-04 - accuracy: 0.9998 - val_loss: 1.1878e-06 - val_accuracy: 1.0000\n",
      "Epoch 61/100\n",
      "66/66 [==============================] - 28s 417ms/step - loss: 0.0012 - accuracy: 0.9998 - val_loss: 9.5403e-07 - val_accuracy: 1.0000\n",
      "Epoch 62/100\n",
      "66/66 [==============================] - 27s 412ms/step - loss: 2.7435e-04 - accuracy: 1.0000 - val_loss: 5.9865e-07 - val_accuracy: 1.0000\n",
      "Epoch 63/100\n",
      "66/66 [==============================] - 27s 416ms/step - loss: 9.2219e-04 - accuracy: 0.9998 - val_loss: 4.5825e-07 - val_accuracy: 1.0000\n",
      "Epoch 64/100\n",
      "66/66 [==============================] - 28s 418ms/step - loss: 5.1234e-04 - accuracy: 0.9998 - val_loss: 3.9292e-07 - val_accuracy: 1.0000\n",
      "Epoch 65/100\n",
      "66/66 [==============================] - 27s 414ms/step - loss: 2.9607e-04 - accuracy: 1.0000 - val_loss: 4.2910e-07 - val_accuracy: 1.0000\n",
      "Epoch 66/100\n",
      "66/66 [==============================] - 27s 415ms/step - loss: 2.2028e-04 - accuracy: 1.0000 - val_loss: 4.4072e-07 - val_accuracy: 1.0000\n",
      "Epoch 67/100\n",
      "66/66 [==============================] - 27s 416ms/step - loss: 8.6868e-05 - accuracy: 1.0000 - val_loss: 3.6862e-07 - val_accuracy: 1.0000\n",
      "Epoch 68/100\n",
      "66/66 [==============================] - 27s 414ms/step - loss: 1.6819e-04 - accuracy: 1.0000 - val_loss: 2.5848e-07 - val_accuracy: 1.0000\n",
      "Epoch 69/100\n",
      "66/66 [==============================] - 27s 413ms/step - loss: 6.3697e-05 - accuracy: 1.0000 - val_loss: 2.1764e-07 - val_accuracy: 1.0000\n",
      "Epoch 70/100\n",
      "66/66 [==============================] - 27s 411ms/step - loss: 1.5054e-04 - accuracy: 1.0000 - val_loss: 1.9501e-07 - val_accuracy: 1.0000\n",
      "Epoch 71/100\n",
      "66/66 [==============================] - 28s 417ms/step - loss: 1.6780e-04 - accuracy: 1.0000 - val_loss: 1.6987e-07 - val_accuracy: 1.0000\n",
      "Epoch 72/100\n",
      "66/66 [==============================] - 27s 412ms/step - loss: 1.2715e-04 - accuracy: 1.0000 - val_loss: 1.5581e-07 - val_accuracy: 1.0000\n",
      "Epoch 73/100\n",
      "66/66 [==============================] - 28s 417ms/step - loss: 1.6211e-04 - accuracy: 1.0000 - val_loss: 1.7102e-07 - val_accuracy: 1.0000\n",
      "Epoch 74/100\n",
      "66/66 [==============================] - 27s 411ms/step - loss: 5.0598e-04 - accuracy: 0.9998 - val_loss: 1.5350e-07 - val_accuracy: 1.0000\n",
      "Epoch 75/100\n",
      "66/66 [==============================] - 28s 418ms/step - loss: 5.7420e-04 - accuracy: 0.9998 - val_loss: 1.8332e-07 - val_accuracy: 1.0000\n",
      "Epoch 76/100\n",
      "66/66 [==============================] - 27s 415ms/step - loss: 6.9492e-05 - accuracy: 1.0000 - val_loss: 2.2480e-07 - val_accuracy: 1.0000\n",
      "Epoch 77/100\n",
      "66/66 [==============================] - 27s 414ms/step - loss: 1.4252e-04 - accuracy: 1.0000 - val_loss: 1.7395e-07 - val_accuracy: 1.0000\n",
      "Epoch 78/100\n",
      "66/66 [==============================] - 27s 410ms/step - loss: 1.7233e-04 - accuracy: 1.0000 - val_loss: 1.5158e-07 - val_accuracy: 1.0000\n",
      "Epoch 79/100\n",
      "66/66 [==============================] - 27s 413ms/step - loss: 6.2019e-05 - accuracy: 1.0000 - val_loss: 1.4384e-07 - val_accuracy: 1.0000\n",
      "Epoch 80/100\n",
      "66/66 [==============================] - 27s 412ms/step - loss: 8.3706e-05 - accuracy: 1.0000 - val_loss: 1.3515e-07 - val_accuracy: 1.0000\n",
      "Epoch 81/100\n",
      "66/66 [==============================] - 27s 416ms/step - loss: 1.3299e-04 - accuracy: 1.0000 - val_loss: 1.2454e-07 - val_accuracy: 1.0000\n",
      "Epoch 82/100\n",
      "66/66 [==============================] - 27s 412ms/step - loss: 7.9692e-05 - accuracy: 1.0000 - val_loss: 1.3639e-07 - val_accuracy: 1.0000\n",
      "Epoch 83/100\n",
      "66/66 [==============================] - 27s 411ms/step - loss: 2.7257e-05 - accuracy: 1.0000 - val_loss: 1.2584e-07 - val_accuracy: 1.0000\n",
      "Epoch 84/100\n",
      "66/66 [==============================] - 27s 413ms/step - loss: 9.6507e-05 - accuracy: 1.0000 - val_loss: 1.1938e-07 - val_accuracy: 1.0000\n",
      "Epoch 85/100\n",
      "66/66 [==============================] - 28s 417ms/step - loss: 3.9794e-05 - accuracy: 1.0000 - val_loss: 1.0826e-07 - val_accuracy: 1.0000\n",
      "Epoch 86/100\n",
      "66/66 [==============================] - 27s 414ms/step - loss: 1.8656e-04 - accuracy: 1.0000 - val_loss: 7.8146e-08 - val_accuracy: 1.0000\n",
      "Epoch 87/100\n",
      "66/66 [==============================] - 28s 418ms/step - loss: 1.8336e-04 - accuracy: 1.0000 - val_loss: 6.4318e-08 - val_accuracy: 1.0000\n",
      "Epoch 88/100\n",
      "66/66 [==============================] - 27s 416ms/step - loss: 2.3788e-04 - accuracy: 1.0000 - val_loss: 5.0743e-08 - val_accuracy: 1.0000\n",
      "Epoch 89/100\n",
      "66/66 [==============================] - 27s 416ms/step - loss: 4.0786e-05 - accuracy: 1.0000 - val_loss: 5.2493e-08 - val_accuracy: 1.0000\n",
      "Epoch 90/100\n",
      "66/66 [==============================] - 27s 415ms/step - loss: 3.2249e-05 - accuracy: 1.0000 - val_loss: 5.2154e-08 - val_accuracy: 1.0000\n",
      "Epoch 91/100\n",
      "66/66 [==============================] - 27s 413ms/step - loss: 1.5246e-04 - accuracy: 1.0000 - val_loss: 5.5117e-08 - val_accuracy: 1.0000\n",
      "Epoch 92/100\n",
      "66/66 [==============================] - 27s 408ms/step - loss: 6.2425e-05 - accuracy: 1.0000 - val_loss: 5.5964e-08 - val_accuracy: 1.0000\n",
      "Epoch 93/100\n",
      "66/66 [==============================] - 28s 425ms/step - loss: 7.1896e-05 - accuracy: 1.0000 - val_loss: 5.0150e-08 - val_accuracy: 1.0000\n",
      "Epoch 94/100\n",
      "66/66 [==============================] - 27s 416ms/step - loss: 1.5124e-04 - accuracy: 1.0000 - val_loss: 4.2107e-08 - val_accuracy: 1.0000\n",
      "Epoch 95/100\n",
      "66/66 [==============================] - 27s 413ms/step - loss: 2.8721e-04 - accuracy: 0.9998 - val_loss: 5.6161e-08 - val_accuracy: 1.0000\n",
      "Epoch 96/100\n",
      "66/66 [==============================] - 27s 414ms/step - loss: 4.4448e-05 - accuracy: 1.0000 - val_loss: 5.3678e-08 - val_accuracy: 1.0000\n",
      "Epoch 97/100\n",
      "66/66 [==============================] - 27s 415ms/step - loss: 2.0887e-04 - accuracy: 1.0000 - val_loss: 4.1684e-08 - val_accuracy: 1.0000\n",
      "Epoch 98/100\n",
      "66/66 [==============================] - 27s 410ms/step - loss: 1.8484e-04 - accuracy: 1.0000 - val_loss: 6.4741e-08 - val_accuracy: 1.0000\n",
      "Epoch 99/100\n",
      "66/66 [==============================] - 27s 416ms/step - loss: 1.7272e-04 - accuracy: 1.0000 - val_loss: 4.9812e-08 - val_accuracy: 1.0000\n",
      "Epoch 100/100\n",
      "66/66 [==============================] - 28s 424ms/step - loss: 6.0277e-04 - accuracy: 0.9998 - val_loss: 1.0817e-07 - val_accuracy: 1.0000\n"
     ]
    },
    {
     "data": {
      "text/plain": [
       "<tensorflow.python.keras.callbacks.History at 0x7fb3806b04a8>"
      ]
     },
     "execution_count": 83,
     "metadata": {},
     "output_type": "execute_result"
    }
   ],
   "source": [
    "model.fit(train_dataset, epochs=100,steps_per_epoch=steps_per_epoch,verbose=1,validation_data=test_dataset,\n",
    "          callbacks=callbacks)"
   ]
  },
  {
   "cell_type": "code",
   "execution_count": 84,
   "metadata": {},
   "outputs": [],
   "source": [
    "model.save(\"models/huia_mob_224_final.h5\") # 1.0"
   ]
  },
  {
   "cell_type": "code",
   "execution_count": 85,
   "metadata": {},
   "outputs": [
    {
     "data": {
      "text/plain": [
       "<tensorflow.python.keras.engine.sequential.Sequential at 0x7fb6cc17c978>"
      ]
     },
     "execution_count": 85,
     "metadata": {},
     "output_type": "execute_result"
    }
   ],
   "source": [
    "model"
   ]
  },
  {
   "cell_type": "markdown",
   "metadata": {},
   "source": [
    "# Convert to TENSORFLOW JS / Quantization"
   ]
  },
  {
   "cell_type": "code",
   "execution_count": 86,
   "metadata": {},
   "outputs": [],
   "source": [
    "import tensorflowjs as tfjs\n",
    "\n",
    "tfjs.converters.save_keras_model(model, \"models_tfjs/tfjs_huia_mob_224_final_q16\",quantization_dtype=np.uint16)\n",
    "tfjs.converters.save_keras_model(model, \"models_tfjs/tfjs_huia_mob_224_final_q8\",quantization_dtype=np.uint8)"
   ]
  },
  {
   "cell_type": "code",
   "execution_count": null,
   "metadata": {},
   "outputs": [],
   "source": [
    "model.summary()"
   ]
  },
  {
   "cell_type": "code",
   "execution_count": null,
   "metadata": {},
   "outputs": [],
   "source": [
    "tf.keras.utils.plot_model(model,'model.png',show_layer_names=False) #,show_shapes=True)"
   ]
  },
  {
   "cell_type": "markdown",
   "metadata": {},
   "source": [
    "# Tensorboard Visualization"
   ]
  },
  {
   "cell_type": "code",
   "execution_count": null,
   "metadata": {},
   "outputs": [],
   "source": [
    "# https://www.tensorflow.org/tensorboard/\n",
    "import tensorboard as tb\n",
    "%load_ext tensorboard.notebook\n",
    "\n",
    "#notebook.list() # View open TensorBoard instances\n",
    "#notebook.display(port=6006, height=1000)\n",
    "#!kill 25264"
   ]
  },
  {
   "cell_type": "code",
   "execution_count": null,
   "metadata": {},
   "outputs": [],
   "source": [
    "%tensorboard --logdir ./logs"
   ]
  },
  {
   "cell_type": "code",
   "execution_count": null,
   "metadata": {},
   "outputs": [],
   "source": [
    "timeit(ds)"
   ]
  },
  {
   "cell_type": "markdown",
   "metadata": {},
   "source": [
    "# Predict"
   ]
  },
  {
   "cell_type": "code",
   "execution_count": null,
   "metadata": {},
   "outputs": [],
   "source": [
    "import numpy as np\n",
    "sample = np.reshape(img_final,[1,224,224,3])\n",
    "\n",
    "predict = int(model.predict_classes(sample))\n",
    "predict"
   ]
  },
  {
   "cell_type": "code",
   "execution_count": null,
   "metadata": {},
   "outputs": [],
   "source": [
    "[key for key,value in label_to_index.items() if value == predict]"
   ]
  },
  {
   "cell_type": "code",
   "execution_count": null,
   "metadata": {},
   "outputs": [],
   "source": [
    "label_to_index"
   ]
  },
  {
   "cell_type": "markdown",
   "metadata": {},
   "source": [
    "# UTILS"
   ]
  },
  {
   "cell_type": "markdown",
   "metadata": {},
   "source": [
    "## Delete Images that are empty"
   ]
  },
  {
   "cell_type": "code",
   "execution_count": null,
   "metadata": {},
   "outputs": [],
   "source": [
    "# during image capture some images are empty, so we automatically delete them\n",
    "\n",
    "# open images and delete if they are empty\n",
    "def remove_empty_imgs(imgpath):\n",
    "    for item in imgpath.iterdir():\n",
    "        im = imread(str(item), format='png')\n",
    "        if np.count_nonzero(im)==0: \n",
    "            print(item,np.count_nonzero(im))\n",
    "            os.remove(str(item))\n",
    "            \n",
    "#remove_empty_imgs(image_path)"
   ]
  },
  {
   "cell_type": "markdown",
   "metadata": {},
   "source": [
    "## Sync JSONs with Images"
   ]
  },
  {
   "cell_type": "code",
   "execution_count": null,
   "metadata": {},
   "outputs": [],
   "source": [
    "# since we might delete unwanted images for training, this will also delete the json files\n",
    "# sync json & images \n",
    "\n",
    "def sync_json_images(json_paths, img_path):\n",
    "    for json in json_paths:\n",
    "        #print(json.stem, end=\" \")\n",
    "        img = img_path/f\"{json.stem}.png\"\n",
    "        if not Path(img).exists():\n",
    "            print(f\"{img} doesn't exist, deleting {json}\")\n",
    "            Path(json).unlink()\n",
    "        \n",
    "#sync_json_images(all_json_paths, image_path)"
   ]
  },
  {
   "cell_type": "markdown",
   "metadata": {},
   "source": [
    "# Static Data Augmentation\n",
    "Decided to use FASTAI to statically preprocess data augmentation, as tensorflow addons (0.3.1) still didn't support graph mode and is therefore not compatible with tf.data.Dataset mappings\n",
    "\n",
    "\n"
   ]
  },
  {
   "cell_type": "code",
   "execution_count": 25,
   "metadata": {},
   "outputs": [
    {
     "name": "stderr",
     "output_type": "stream",
     "text": [
      "/home/ale/anaconda3/envs/tensor20/lib/python3.6/site-packages/fastai/vision/transform.py:243: UserWarning: torch.gesv is deprecated in favour of torch.solve and will be removed in the next release. Please use torch.solve instead.\n",
      "  return torch.gesv(B,A)[0][:,0]\n"
     ]
    },
    {
     "name": "stdout",
     "output_type": "stream",
     "text": [
      "training_data/augmented_imgs/normal_811990.png\n",
      "training_data/augmented_imgs/normal_811991.png\n",
      "training_data/augmented_imgs/normal_811992.png\n",
      "training_data/augmented_imgs/normal_811993.png\n",
      "training_data/augmented_imgs/normal_811994.png\n",
      "training_data/augmented_imgs/normal_811995.png\n",
      "training_data/augmented_imgs/normal_811996.png\n",
      "training_data/augmented_imgs/normal_811997.png\n",
      "training_data/augmented_imgs/normal_811998.png\n",
      "training_data/augmented_imgs/normal_811999.png\n",
      "training_data/augmented_imgs/dramatic_297990.png\n",
      "training_data/augmented_imgs/dramatic_297991.png\n",
      "training_data/augmented_imgs/dramatic_297992.png\n",
      "training_data/augmented_imgs/dramatic_297993.png\n",
      "training_data/augmented_imgs/dramatic_297994.png\n",
      "training_data/augmented_imgs/dramatic_297995.png\n",
      "training_data/augmented_imgs/dramatic_297996.png\n",
      "training_data/augmented_imgs/dramatic_297997.png\n",
      "training_data/augmented_imgs/dramatic_297998.png\n",
      "training_data/augmented_imgs/dramatic_297999.png\n",
      "training_data/augmented_imgs/wings_425990.png\n",
      "training_data/augmented_imgs/wings_425991.png\n",
      "training_data/augmented_imgs/wings_425992.png\n",
      "training_data/augmented_imgs/wings_425993.png\n",
      "training_data/augmented_imgs/wings_425994.png\n",
      "training_data/augmented_imgs/wings_425995.png\n"
     ]
    },
    {
     "name": "stderr",
     "output_type": "stream",
     "text": [
      "/home/ale/anaconda3/envs/tensor20/lib/python3.6/site-packages/fastai/vision/transform.py:243: UserWarning: torch.gesv is deprecated in favour of torch.solve and will be removed in the next release. Please use torch.solve instead.\n",
      "  return torch.gesv(B,A)[0][:,0]\n"
     ]
    },
    {
     "name": "stdout",
     "output_type": "stream",
     "text": [
      "training_data/augmented_imgs/wings_425996.png\n",
      "training_data/augmented_imgs/wings_425997.png\n",
      "training_data/augmented_imgs/wings_425998.png\n",
      "training_data/augmented_imgs/wings_425999.png\n",
      "training_data/augmented_imgs/wings_417990.png\n",
      "training_data/augmented_imgs/wings_417991.png\n",
      "training_data/augmented_imgs/wings_417992.png\n",
      "training_data/augmented_imgs/wings_417993.png\n",
      "training_data/augmented_imgs/wings_417994.png\n"
     ]
    },
    {
     "name": "stderr",
     "output_type": "stream",
     "text": [
      "/home/ale/anaconda3/envs/tensor20/lib/python3.6/site-packages/fastai/vision/transform.py:243: UserWarning: torch.gesv is deprecated in favour of torch.solve and will be removed in the next release. Please use torch.solve instead.\n",
      "  return torch.gesv(B,A)[0][:,0]\n"
     ]
    },
    {
     "name": "stdout",
     "output_type": "stream",
     "text": [
      "training_data/augmented_imgs/wings_417995.png\n",
      "training_data/augmented_imgs/wings_417996.png\n",
      "training_data/augmented_imgs/wings_417997.png\n",
      "training_data/augmented_imgs/wings_417998.png\n",
      "training_data/augmented_imgs/wings_417999.png\n",
      "training_data/augmented_imgs/hadouken_1237990.png\n",
      "training_data/augmented_imgs/hadouken_1237991.png\n",
      "training_data/augmented_imgs/hadouken_1237992.png\n",
      "training_data/augmented_imgs/hadouken_1237993.png\n",
      "training_data/augmented_imgs/hadouken_1237994.png\n",
      "training_data/augmented_imgs/hadouken_1237995.png\n"
     ]
    },
    {
     "name": "stderr",
     "output_type": "stream",
     "text": [
      "/home/ale/anaconda3/envs/tensor20/lib/python3.6/site-packages/fastai/vision/transform.py:243: UserWarning: torch.gesv is deprecated in favour of torch.solve and will be removed in the next release. Please use torch.solve instead.\n",
      "  return torch.gesv(B,A)[0][:,0]\n",
      "/home/ale/anaconda3/envs/tensor20/lib/python3.6/site-packages/fastai/vision/transform.py:243: UserWarning: torch.gesv is deprecated in favour of torch.solve and will be removed in the next release. Please use torch.solve instead.\n",
      "  return torch.gesv(B,A)[0][:,0]\n"
     ]
    },
    {
     "name": "stdout",
     "output_type": "stream",
     "text": [
      "training_data/augmented_imgs/hadouken_1237996.png\n",
      "training_data/augmented_imgs/hadouken_1237997.png\n",
      "training_data/augmented_imgs/hadouken_1237998.png\n",
      "training_data/augmented_imgs/hadouken_1237999.png\n",
      "training_data/augmented_imgs/wings_220990.png\n",
      "training_data/augmented_imgs/wings_220991.png\n",
      "training_data/augmented_imgs/wings_220992.png\n",
      "training_data/augmented_imgs/wings_220993.png\n",
      "training_data/augmented_imgs/wings_220994.png\n",
      "training_data/augmented_imgs/wings_220995.png\n",
      "training_data/augmented_imgs/wings_220996.png\n",
      "training_data/augmented_imgs/wings_220997.png\n",
      "training_data/augmented_imgs/wings_220998.png\n",
      "training_data/augmented_imgs/wings_220999.png\n",
      "training_data/augmented_imgs/hadouken_967990.png\n",
      "training_data/augmented_imgs/hadouken_967991.png\n",
      "training_data/augmented_imgs/hadouken_967992.png\n",
      "training_data/augmented_imgs/hadouken_967993.png\n"
     ]
    },
    {
     "name": "stderr",
     "output_type": "stream",
     "text": [
      "/home/ale/anaconda3/envs/tensor20/lib/python3.6/site-packages/fastai/vision/transform.py:243: UserWarning: torch.gesv is deprecated in favour of torch.solve and will be removed in the next release. Please use torch.solve instead.\n",
      "  return torch.gesv(B,A)[0][:,0]\n",
      "/home/ale/anaconda3/envs/tensor20/lib/python3.6/site-packages/fastai/vision/transform.py:243: UserWarning: torch.gesv is deprecated in favour of torch.solve and will be removed in the next release. Please use torch.solve instead.\n",
      "  return torch.gesv(B,A)[0][:,0]\n"
     ]
    },
    {
     "name": "stdout",
     "output_type": "stream",
     "text": [
      "training_data/augmented_imgs/hadouken_967994.png\n",
      "training_data/augmented_imgs/hadouken_967995.png\n",
      "training_data/augmented_imgs/hadouken_967996.png\n",
      "training_data/augmented_imgs/hadouken_967997.png\n",
      "training_data/augmented_imgs/hadouken_967998.png\n",
      "training_data/augmented_imgs/hadouken_967999.png\n",
      "training_data/augmented_imgs/wings_37990.png\n",
      "training_data/augmented_imgs/wings_37991.png\n",
      "training_data/augmented_imgs/wings_37992.png\n",
      "training_data/augmented_imgs/wings_37993.png\n",
      "training_data/augmented_imgs/wings_37994.png\n",
      "training_data/augmented_imgs/wings_37995.png\n",
      "training_data/augmented_imgs/wings_37996.png\n",
      "training_data/augmented_imgs/wings_37997.png\n",
      "training_data/augmented_imgs/wings_37998.png\n",
      "training_data/augmented_imgs/wings_37999.png\n",
      "training_data/augmented_imgs/moonwalk_74990.png\n",
      "training_data/augmented_imgs/moonwalk_74991.png\n",
      "training_data/augmented_imgs/moonwalk_74992.png\n"
     ]
    },
    {
     "name": "stderr",
     "output_type": "stream",
     "text": [
      "/home/ale/anaconda3/envs/tensor20/lib/python3.6/site-packages/fastai/vision/transform.py:243: UserWarning: torch.gesv is deprecated in favour of torch.solve and will be removed in the next release. Please use torch.solve instead.\n",
      "  return torch.gesv(B,A)[0][:,0]\n"
     ]
    },
    {
     "name": "stdout",
     "output_type": "stream",
     "text": [
      "training_data/augmented_imgs/moonwalk_74993.png\n",
      "training_data/augmented_imgs/moonwalk_74994.png\n",
      "training_data/augmented_imgs/moonwalk_74995.png\n",
      "training_data/augmented_imgs/moonwalk_74996.png\n",
      "training_data/augmented_imgs/moonwalk_74997.png\n",
      "training_data/augmented_imgs/moonwalk_74998.png\n",
      "training_data/augmented_imgs/moonwalk_74999.png\n",
      "training_data/augmented_imgs/moonwalk_250990.png\n",
      "training_data/augmented_imgs/moonwalk_250991.png\n"
     ]
    },
    {
     "name": "stderr",
     "output_type": "stream",
     "text": [
      "/home/ale/anaconda3/envs/tensor20/lib/python3.6/site-packages/fastai/vision/transform.py:243: UserWarning: torch.gesv is deprecated in favour of torch.solve and will be removed in the next release. Please use torch.solve instead.\n",
      "  return torch.gesv(B,A)[0][:,0]\n"
     ]
    },
    {
     "name": "stdout",
     "output_type": "stream",
     "text": [
      "training_data/augmented_imgs/moonwalk_250992.png\n",
      "training_data/augmented_imgs/moonwalk_250993.png\n",
      "training_data/augmented_imgs/moonwalk_250994.png\n",
      "training_data/augmented_imgs/moonwalk_250995.png\n",
      "training_data/augmented_imgs/moonwalk_250996.png\n",
      "training_data/augmented_imgs/moonwalk_250997.png\n",
      "training_data/augmented_imgs/moonwalk_250998.png\n",
      "training_data/augmented_imgs/moonwalk_250999.png\n",
      "training_data/augmented_imgs/dramatic_1256990.png\n",
      "training_data/augmented_imgs/dramatic_1256991.png\n",
      "training_data/augmented_imgs/dramatic_1256992.png\n",
      "training_data/augmented_imgs/dramatic_1256993.png\n",
      "training_data/augmented_imgs/dramatic_1256994.png\n",
      "training_data/augmented_imgs/dramatic_1256995.png\n",
      "training_data/augmented_imgs/dramatic_1256996.png\n",
      "training_data/augmented_imgs/dramatic_1256997.png\n",
      "training_data/augmented_imgs/dramatic_1256998.png\n",
      "training_data/augmented_imgs/dramatic_1256999.png\n",
      "training_data/augmented_imgs/hadouken_262990.png\n",
      "training_data/augmented_imgs/hadouken_262991.png\n",
      "training_data/augmented_imgs/hadouken_262992.png\n",
      "training_data/augmented_imgs/hadouken_262993.png\n",
      "training_data/augmented_imgs/hadouken_262994.png\n",
      "training_data/augmented_imgs/hadouken_262995.png\n",
      "training_data/augmented_imgs/hadouken_262996.png\n",
      "training_data/augmented_imgs/hadouken_262997.png\n"
     ]
    },
    {
     "name": "stderr",
     "output_type": "stream",
     "text": [
      "/home/ale/anaconda3/envs/tensor20/lib/python3.6/site-packages/fastai/vision/transform.py:243: UserWarning: torch.gesv is deprecated in favour of torch.solve and will be removed in the next release. Please use torch.solve instead.\n",
      "  return torch.gesv(B,A)[0][:,0]\n"
     ]
    },
    {
     "name": "stdout",
     "output_type": "stream",
     "text": [
      "training_data/augmented_imgs/hadouken_262998.png\n",
      "training_data/augmented_imgs/hadouken_262999.png\n",
      "training_data/augmented_imgs/dramatic_555990.png\n",
      "training_data/augmented_imgs/dramatic_555991.png\n",
      "training_data/augmented_imgs/dramatic_555992.png\n",
      "training_data/augmented_imgs/dramatic_555993.png\n",
      "training_data/augmented_imgs/dramatic_555994.png\n",
      "training_data/augmented_imgs/dramatic_555995.png\n",
      "training_data/augmented_imgs/dramatic_555996.png\n",
      "training_data/augmented_imgs/dramatic_555997.png\n",
      "training_data/augmented_imgs/dramatic_555998.png\n",
      "training_data/augmented_imgs/dramatic_555999.png\n",
      "training_data/augmented_imgs/normal_208990.png\n",
      "training_data/augmented_imgs/normal_208991.png\n",
      "training_data/augmented_imgs/normal_208992.png\n",
      "training_data/augmented_imgs/normal_208993.png\n",
      "training_data/augmented_imgs/normal_208994.png\n",
      "training_data/augmented_imgs/normal_208995.png\n",
      "training_data/augmented_imgs/normal_208996.png\n",
      "training_data/augmented_imgs/normal_208997.png\n",
      "training_data/augmented_imgs/normal_208998.png\n"
     ]
    },
    {
     "name": "stderr",
     "output_type": "stream",
     "text": [
      "/home/ale/anaconda3/envs/tensor20/lib/python3.6/site-packages/fastai/vision/transform.py:243: UserWarning: torch.gesv is deprecated in favour of torch.solve and will be removed in the next release. Please use torch.solve instead.\n",
      "  return torch.gesv(B,A)[0][:,0]\n"
     ]
    },
    {
     "name": "stdout",
     "output_type": "stream",
     "text": [
      "training_data/augmented_imgs/normal_208999.png\n",
      "training_data/augmented_imgs/underarm_460990.png\n",
      "training_data/augmented_imgs/underarm_460991.png\n",
      "training_data/augmented_imgs/underarm_460992.png\n",
      "training_data/augmented_imgs/underarm_460993.png\n",
      "training_data/augmented_imgs/underarm_460994.png\n",
      "training_data/augmented_imgs/underarm_460995.png\n",
      "training_data/augmented_imgs/underarm_460996.png\n",
      "training_data/augmented_imgs/underarm_460997.png\n",
      "training_data/augmented_imgs/underarm_460998.png\n",
      "training_data/augmented_imgs/underarm_460999.png\n"
     ]
    },
    {
     "name": "stderr",
     "output_type": "stream",
     "text": [
      "/home/ale/anaconda3/envs/tensor20/lib/python3.6/site-packages/fastai/vision/transform.py:243: UserWarning: torch.gesv is deprecated in favour of torch.solve and will be removed in the next release. Please use torch.solve instead.\n",
      "  return torch.gesv(B,A)[0][:,0]\n"
     ]
    },
    {
     "name": "stdout",
     "output_type": "stream",
     "text": [
      "training_data/augmented_imgs/normal_815990.png\n",
      "training_data/augmented_imgs/normal_815991.png\n",
      "training_data/augmented_imgs/normal_815992.png\n",
      "training_data/augmented_imgs/normal_815993.png\n",
      "training_data/augmented_imgs/normal_815994.png\n",
      "training_data/augmented_imgs/normal_815995.png\n",
      "training_data/augmented_imgs/normal_815996.png\n",
      "training_data/augmented_imgs/normal_815997.png\n",
      "training_data/augmented_imgs/normal_815998.png\n",
      "training_data/augmented_imgs/normal_815999.png\n",
      "training_data/augmented_imgs/wings_423990.png\n",
      "training_data/augmented_imgs/wings_423991.png\n",
      "training_data/augmented_imgs/wings_423992.png\n",
      "training_data/augmented_imgs/wings_423993.png\n",
      "training_data/augmented_imgs/wings_423994.png\n",
      "training_data/augmented_imgs/wings_423995.png\n",
      "training_data/augmented_imgs/wings_423996.png\n",
      "training_data/augmented_imgs/wings_423997.png\n"
     ]
    },
    {
     "name": "stderr",
     "output_type": "stream",
     "text": [
      "/home/ale/anaconda3/envs/tensor20/lib/python3.6/site-packages/fastai/vision/transform.py:243: UserWarning: torch.gesv is deprecated in favour of torch.solve and will be removed in the next release. Please use torch.solve instead.\n",
      "  return torch.gesv(B,A)[0][:,0]\n"
     ]
    },
    {
     "name": "stdout",
     "output_type": "stream",
     "text": [
      "training_data/augmented_imgs/wings_423998.png\n",
      "training_data/augmented_imgs/wings_423999.png\n",
      "training_data/augmented_imgs/backpack_526990.png\n",
      "training_data/augmented_imgs/backpack_526991.png\n",
      "training_data/augmented_imgs/backpack_526992.png\n",
      "training_data/augmented_imgs/backpack_526993.png\n",
      "training_data/augmented_imgs/backpack_526994.png\n",
      "training_data/augmented_imgs/backpack_526995.png\n",
      "training_data/augmented_imgs/backpack_526996.png\n",
      "training_data/augmented_imgs/backpack_526997.png\n"
     ]
    },
    {
     "name": "stderr",
     "output_type": "stream",
     "text": [
      "/home/ale/anaconda3/envs/tensor20/lib/python3.6/site-packages/fastai/vision/transform.py:243: UserWarning: torch.gesv is deprecated in favour of torch.solve and will be removed in the next release. Please use torch.solve instead.\n",
      "  return torch.gesv(B,A)[0][:,0]\n",
      "/home/ale/anaconda3/envs/tensor20/lib/python3.6/site-packages/fastai/vision/transform.py:243: UserWarning: torch.gesv is deprecated in favour of torch.solve and will be removed in the next release. Please use torch.solve instead.\n",
      "  return torch.gesv(B,A)[0][:,0]\n"
     ]
    },
    {
     "name": "stdout",
     "output_type": "stream",
     "text": [
      "training_data/augmented_imgs/backpack_526998.png\n",
      "training_data/augmented_imgs/backpack_526999.png\n",
      "training_data/augmented_imgs/fly_437990.png\n",
      "training_data/augmented_imgs/fly_437991.png\n",
      "training_data/augmented_imgs/fly_437992.png\n",
      "training_data/augmented_imgs/fly_437993.png\n",
      "training_data/augmented_imgs/fly_437994.png\n",
      "training_data/augmented_imgs/fly_437995.png\n",
      "training_data/augmented_imgs/fly_437996.png\n",
      "training_data/augmented_imgs/fly_437997.png\n",
      "training_data/augmented_imgs/fly_437998.png\n",
      "training_data/augmented_imgs/fly_437999.png\n",
      "training_data/augmented_imgs/dramatic_1251990.png\n",
      "training_data/augmented_imgs/dramatic_1251991.png\n",
      "training_data/augmented_imgs/dramatic_1251992.png\n",
      "training_data/augmented_imgs/dramatic_1251993.png\n",
      "training_data/augmented_imgs/dramatic_1251994.png\n",
      "training_data/augmented_imgs/dramatic_1251995.png\n",
      "training_data/augmented_imgs/dramatic_1251996.png\n",
      "training_data/augmented_imgs/dramatic_1251997.png\n",
      "training_data/augmented_imgs/dramatic_1251998.png\n",
      "training_data/augmented_imgs/dramatic_1251999.png\n",
      "training_data/augmented_imgs/dramatic_133990.png\n",
      "training_data/augmented_imgs/dramatic_133991.png\n",
      "training_data/augmented_imgs/dramatic_133992.png\n",
      "training_data/augmented_imgs/dramatic_133993.png\n",
      "training_data/augmented_imgs/dramatic_133994.png\n",
      "training_data/augmented_imgs/dramatic_133995.png\n",
      "training_data/augmented_imgs/dramatic_133996.png\n"
     ]
    },
    {
     "name": "stderr",
     "output_type": "stream",
     "text": [
      "/home/ale/anaconda3/envs/tensor20/lib/python3.6/site-packages/fastai/vision/transform.py:243: UserWarning: torch.gesv is deprecated in favour of torch.solve and will be removed in the next release. Please use torch.solve instead.\n",
      "  return torch.gesv(B,A)[0][:,0]\n"
     ]
    },
    {
     "name": "stdout",
     "output_type": "stream",
     "text": [
      "training_data/augmented_imgs/dramatic_133997.png\n",
      "training_data/augmented_imgs/dramatic_133998.png\n",
      "training_data/augmented_imgs/dramatic_133999.png\n",
      "training_data/augmented_imgs/moonwalk_1211990.png\n",
      "training_data/augmented_imgs/moonwalk_1211991.png\n",
      "training_data/augmented_imgs/moonwalk_1211992.png\n",
      "training_data/augmented_imgs/moonwalk_1211993.png\n",
      "training_data/augmented_imgs/moonwalk_1211994.png\n"
     ]
    },
    {
     "name": "stderr",
     "output_type": "stream",
     "text": [
      "/home/ale/anaconda3/envs/tensor20/lib/python3.6/site-packages/fastai/vision/transform.py:243: UserWarning: torch.gesv is deprecated in favour of torch.solve and will be removed in the next release. Please use torch.solve instead.\n",
      "  return torch.gesv(B,A)[0][:,0]\n"
     ]
    },
    {
     "name": "stdout",
     "output_type": "stream",
     "text": [
      "training_data/augmented_imgs/moonwalk_1211995.png\n",
      "training_data/augmented_imgs/moonwalk_1211996.png\n",
      "training_data/augmented_imgs/moonwalk_1211997.png\n",
      "training_data/augmented_imgs/moonwalk_1211998.png\n",
      "training_data/augmented_imgs/moonwalk_1211999.png\n",
      "training_data/augmented_imgs/dramatic_293990.png\n",
      "training_data/augmented_imgs/dramatic_293991.png\n",
      "training_data/augmented_imgs/dramatic_293992.png\n"
     ]
    },
    {
     "name": "stderr",
     "output_type": "stream",
     "text": [
      "/home/ale/anaconda3/envs/tensor20/lib/python3.6/site-packages/fastai/vision/transform.py:243: UserWarning: torch.gesv is deprecated in favour of torch.solve and will be removed in the next release. Please use torch.solve instead.\n",
      "  return torch.gesv(B,A)[0][:,0]\n"
     ]
    },
    {
     "name": "stdout",
     "output_type": "stream",
     "text": [
      "training_data/augmented_imgs/dramatic_293993.png\n",
      "training_data/augmented_imgs/dramatic_293994.png\n",
      "training_data/augmented_imgs/dramatic_293995.png\n",
      "training_data/augmented_imgs/dramatic_293996.png\n",
      "training_data/augmented_imgs/dramatic_293997.png\n",
      "training_data/augmented_imgs/dramatic_293998.png\n",
      "training_data/augmented_imgs/dramatic_293999.png\n",
      "training_data/augmented_imgs/moonwalk_1229990.png\n",
      "training_data/augmented_imgs/moonwalk_1229991.png\n"
     ]
    },
    {
     "name": "stderr",
     "output_type": "stream",
     "text": [
      "/home/ale/anaconda3/envs/tensor20/lib/python3.6/site-packages/fastai/vision/transform.py:243: UserWarning: torch.gesv is deprecated in favour of torch.solve and will be removed in the next release. Please use torch.solve instead.\n",
      "  return torch.gesv(B,A)[0][:,0]\n"
     ]
    },
    {
     "name": "stdout",
     "output_type": "stream",
     "text": [
      "training_data/augmented_imgs/moonwalk_1229992.png\n",
      "training_data/augmented_imgs/moonwalk_1229993.png\n",
      "training_data/augmented_imgs/moonwalk_1229994.png\n",
      "training_data/augmented_imgs/moonwalk_1229995.png\n",
      "training_data/augmented_imgs/moonwalk_1229996.png\n",
      "training_data/augmented_imgs/moonwalk_1229997.png\n",
      "training_data/augmented_imgs/moonwalk_1229998.png\n",
      "training_data/augmented_imgs/moonwalk_1229999.png\n",
      "training_data/augmented_imgs/backpack_533990.png\n",
      "training_data/augmented_imgs/backpack_533991.png\n",
      "training_data/augmented_imgs/backpack_533992.png\n",
      "training_data/augmented_imgs/backpack_533993.png\n",
      "training_data/augmented_imgs/backpack_533994.png\n",
      "training_data/augmented_imgs/backpack_533995.png\n",
      "training_data/augmented_imgs/backpack_533996.png\n",
      "training_data/augmented_imgs/backpack_533997.png\n",
      "training_data/augmented_imgs/backpack_533998.png\n",
      "training_data/augmented_imgs/backpack_533999.png\n",
      "training_data/augmented_imgs/hadouken_1239990.png\n",
      "training_data/augmented_imgs/hadouken_1239991.png\n"
     ]
    },
    {
     "name": "stderr",
     "output_type": "stream",
     "text": [
      "/home/ale/anaconda3/envs/tensor20/lib/python3.6/site-packages/fastai/vision/transform.py:243: UserWarning: torch.gesv is deprecated in favour of torch.solve and will be removed in the next release. Please use torch.solve instead.\n",
      "  return torch.gesv(B,A)[0][:,0]\n"
     ]
    },
    {
     "name": "stdout",
     "output_type": "stream",
     "text": [
      "training_data/augmented_imgs/hadouken_1239992.png\n",
      "training_data/augmented_imgs/hadouken_1239993.png\n",
      "training_data/augmented_imgs/hadouken_1239994.png\n",
      "training_data/augmented_imgs/hadouken_1239995.png\n",
      "training_data/augmented_imgs/hadouken_1239996.png\n",
      "training_data/augmented_imgs/hadouken_1239997.png\n",
      "training_data/augmented_imgs/hadouken_1239998.png\n",
      "training_data/augmented_imgs/hadouken_1239999.png\n",
      "training_data/augmented_imgs/underarm_70990.png\n",
      "training_data/augmented_imgs/underarm_70991.png\n",
      "training_data/augmented_imgs/underarm_70992.png\n",
      "training_data/augmented_imgs/underarm_70993.png\n",
      "training_data/augmented_imgs/underarm_70994.png\n",
      "training_data/augmented_imgs/underarm_70995.png\n",
      "training_data/augmented_imgs/underarm_70996.png\n",
      "training_data/augmented_imgs/underarm_70997.png\n",
      "training_data/augmented_imgs/underarm_70998.png\n",
      "training_data/augmented_imgs/underarm_70999.png\n",
      "training_data/augmented_imgs/wings_831990.png\n"
     ]
    },
    {
     "name": "stderr",
     "output_type": "stream",
     "text": [
      "/home/ale/anaconda3/envs/tensor20/lib/python3.6/site-packages/fastai/vision/transform.py:243: UserWarning: torch.gesv is deprecated in favour of torch.solve and will be removed in the next release. Please use torch.solve instead.\n",
      "  return torch.gesv(B,A)[0][:,0]\n",
      "/home/ale/anaconda3/envs/tensor20/lib/python3.6/site-packages/fastai/vision/transform.py:243: UserWarning: torch.gesv is deprecated in favour of torch.solve and will be removed in the next release. Please use torch.solve instead.\n",
      "  return torch.gesv(B,A)[0][:,0]\n"
     ]
    },
    {
     "name": "stdout",
     "output_type": "stream",
     "text": [
      "training_data/augmented_imgs/wings_831991.png\n",
      "training_data/augmented_imgs/wings_831992.png\n",
      "training_data/augmented_imgs/wings_831993.png\n",
      "training_data/augmented_imgs/wings_831994.png\n",
      "training_data/augmented_imgs/wings_831995.png\n",
      "training_data/augmented_imgs/wings_831996.png\n",
      "training_data/augmented_imgs/wings_831997.png\n",
      "training_data/augmented_imgs/wings_831998.png\n",
      "training_data/augmented_imgs/wings_831999.png\n",
      "training_data/augmented_imgs/underarm_72990.png\n",
      "training_data/augmented_imgs/underarm_72991.png\n",
      "training_data/augmented_imgs/underarm_72992.png\n",
      "training_data/augmented_imgs/underarm_72993.png\n",
      "training_data/augmented_imgs/underarm_72994.png\n",
      "training_data/augmented_imgs/underarm_72995.png\n",
      "training_data/augmented_imgs/underarm_72996.png\n",
      "training_data/augmented_imgs/underarm_72997.png\n",
      "training_data/augmented_imgs/underarm_72998.png\n",
      "training_data/augmented_imgs/underarm_72999.png\n"
     ]
    },
    {
     "name": "stderr",
     "output_type": "stream",
     "text": [
      "/home/ale/anaconda3/envs/tensor20/lib/python3.6/site-packages/fastai/vision/transform.py:243: UserWarning: torch.gesv is deprecated in favour of torch.solve and will be removed in the next release. Please use torch.solve instead.\n",
      "  return torch.gesv(B,A)[0][:,0]\n",
      "/home/ale/anaconda3/envs/tensor20/lib/python3.6/site-packages/fastai/vision/transform.py:243: UserWarning: torch.gesv is deprecated in favour of torch.solve and will be removed in the next release. Please use torch.solve instead.\n",
      "  return torch.gesv(B,A)[0][:,0]\n"
     ]
    },
    {
     "name": "stdout",
     "output_type": "stream",
     "text": [
      "training_data/augmented_imgs/hadouken_518990.png\n",
      "training_data/augmented_imgs/hadouken_518991.png\n",
      "training_data/augmented_imgs/hadouken_518992.png\n",
      "training_data/augmented_imgs/hadouken_518993.png\n",
      "training_data/augmented_imgs/hadouken_518994.png\n",
      "training_data/augmented_imgs/hadouken_518995.png\n",
      "training_data/augmented_imgs/hadouken_518996.png\n",
      "training_data/augmented_imgs/hadouken_518997.png\n",
      "training_data/augmented_imgs/hadouken_518998.png\n",
      "training_data/augmented_imgs/hadouken_518999.png\n",
      "training_data/augmented_imgs/fly_843990.png\n",
      "training_data/augmented_imgs/fly_843991.png\n",
      "training_data/augmented_imgs/fly_843992.png\n",
      "training_data/augmented_imgs/fly_843993.png\n",
      "training_data/augmented_imgs/fly_843994.png\n",
      "training_data/augmented_imgs/fly_843995.png\n",
      "training_data/augmented_imgs/fly_843996.png\n",
      "training_data/augmented_imgs/fly_843997.png\n",
      "training_data/augmented_imgs/fly_843998.png\n",
      "training_data/augmented_imgs/fly_843999.png\n"
     ]
    },
    {
     "name": "stderr",
     "output_type": "stream",
     "text": [
      "/home/ale/anaconda3/envs/tensor20/lib/python3.6/site-packages/fastai/vision/transform.py:243: UserWarning: torch.gesv is deprecated in favour of torch.solve and will be removed in the next release. Please use torch.solve instead.\n",
      "  return torch.gesv(B,A)[0][:,0]\n",
      "/home/ale/anaconda3/envs/tensor20/lib/python3.6/site-packages/fastai/vision/transform.py:243: UserWarning: torch.gesv is deprecated in favour of torch.solve and will be removed in the next release. Please use torch.solve instead.\n",
      "  return torch.gesv(B,A)[0][:,0]\n"
     ]
    },
    {
     "name": "stdout",
     "output_type": "stream",
     "text": [
      "training_data/augmented_imgs/fly_444990.png\n",
      "training_data/augmented_imgs/fly_444991.png\n",
      "training_data/augmented_imgs/fly_444992.png\n",
      "training_data/augmented_imgs/fly_444993.png\n",
      "training_data/augmented_imgs/fly_444994.png\n",
      "training_data/augmented_imgs/fly_444995.png\n",
      "training_data/augmented_imgs/fly_444996.png\n",
      "training_data/augmented_imgs/fly_444997.png\n",
      "training_data/augmented_imgs/fly_444998.png\n",
      "training_data/augmented_imgs/fly_444999.png\n",
      "training_data/augmented_imgs/dramatic_569990.png\n",
      "training_data/augmented_imgs/dramatic_569991.png\n",
      "training_data/augmented_imgs/dramatic_569992.png\n",
      "training_data/augmented_imgs/dramatic_569993.png\n",
      "training_data/augmented_imgs/dramatic_569994.png\n",
      "training_data/augmented_imgs/dramatic_569995.png\n",
      "training_data/augmented_imgs/dramatic_569996.png\n",
      "training_data/augmented_imgs/dramatic_569997.png\n",
      "training_data/augmented_imgs/dramatic_569998.png\n",
      "training_data/augmented_imgs/dramatic_569999.png\n",
      "training_data/augmented_imgs/underarm_868990.png\n"
     ]
    },
    {
     "name": "stderr",
     "output_type": "stream",
     "text": [
      "/home/ale/anaconda3/envs/tensor20/lib/python3.6/site-packages/fastai/vision/transform.py:243: UserWarning: torch.gesv is deprecated in favour of torch.solve and will be removed in the next release. Please use torch.solve instead.\n",
      "  return torch.gesv(B,A)[0][:,0]\n"
     ]
    },
    {
     "name": "stdout",
     "output_type": "stream",
     "text": [
      "training_data/augmented_imgs/underarm_868991.png\n",
      "training_data/augmented_imgs/underarm_868992.png\n",
      "training_data/augmented_imgs/underarm_868993.png\n",
      "training_data/augmented_imgs/underarm_868994.png\n",
      "training_data/augmented_imgs/underarm_868995.png\n",
      "training_data/augmented_imgs/underarm_868996.png\n",
      "training_data/augmented_imgs/underarm_868997.png\n",
      "training_data/augmented_imgs/underarm_868998.png\n",
      "training_data/augmented_imgs/underarm_868999.png\n"
     ]
    },
    {
     "name": "stderr",
     "output_type": "stream",
     "text": [
      "/home/ale/anaconda3/envs/tensor20/lib/python3.6/site-packages/fastai/vision/transform.py:243: UserWarning: torch.gesv is deprecated in favour of torch.solve and will be removed in the next release. Please use torch.solve instead.\n",
      "  return torch.gesv(B,A)[0][:,0]\n"
     ]
    },
    {
     "name": "stdout",
     "output_type": "stream",
     "text": [
      "training_data/augmented_imgs/normal_209990.png\n",
      "training_data/augmented_imgs/normal_209991.png\n",
      "training_data/augmented_imgs/normal_209992.png\n",
      "training_data/augmented_imgs/normal_209993.png\n",
      "training_data/augmented_imgs/normal_209994.png\n",
      "training_data/augmented_imgs/normal_209995.png\n",
      "training_data/augmented_imgs/normal_209996.png\n",
      "training_data/augmented_imgs/normal_209997.png\n",
      "training_data/augmented_imgs/normal_209998.png\n"
     ]
    },
    {
     "name": "stderr",
     "output_type": "stream",
     "text": [
      "/home/ale/anaconda3/envs/tensor20/lib/python3.6/site-packages/fastai/vision/transform.py:243: UserWarning: torch.gesv is deprecated in favour of torch.solve and will be removed in the next release. Please use torch.solve instead.\n",
      "  return torch.gesv(B,A)[0][:,0]\n",
      "/home/ale/anaconda3/envs/tensor20/lib/python3.6/site-packages/fastai/vision/transform.py:243: UserWarning: torch.gesv is deprecated in favour of torch.solve and will be removed in the next release. Please use torch.solve instead.\n",
      "  return torch.gesv(B,A)[0][:,0]\n"
     ]
    },
    {
     "name": "stdout",
     "output_type": "stream",
     "text": [
      "training_data/augmented_imgs/normal_209999.png\n",
      "training_data/augmented_imgs/underarm_873990.png\n",
      "training_data/augmented_imgs/underarm_873991.png\n",
      "training_data/augmented_imgs/underarm_873992.png\n",
      "training_data/augmented_imgs/underarm_873993.png\n",
      "training_data/augmented_imgs/underarm_873994.png\n",
      "training_data/augmented_imgs/underarm_873995.png\n",
      "training_data/augmented_imgs/underarm_873996.png\n",
      "training_data/augmented_imgs/underarm_873997.png\n",
      "training_data/augmented_imgs/underarm_873998.png\n",
      "training_data/augmented_imgs/underarm_873999.png\n",
      "training_data/augmented_imgs/dramatic_940990.png\n",
      "training_data/augmented_imgs/dramatic_940991.png\n",
      "training_data/augmented_imgs/dramatic_940992.png\n",
      "training_data/augmented_imgs/dramatic_940993.png\n",
      "training_data/augmented_imgs/dramatic_940994.png\n",
      "training_data/augmented_imgs/dramatic_940995.png\n"
     ]
    },
    {
     "name": "stderr",
     "output_type": "stream",
     "text": [
      "/home/ale/anaconda3/envs/tensor20/lib/python3.6/site-packages/fastai/vision/transform.py:243: UserWarning: torch.gesv is deprecated in favour of torch.solve and will be removed in the next release. Please use torch.solve instead.\n",
      "  return torch.gesv(B,A)[0][:,0]\n",
      "/home/ale/anaconda3/envs/tensor20/lib/python3.6/site-packages/fastai/vision/transform.py:243: UserWarning: torch.gesv is deprecated in favour of torch.solve and will be removed in the next release. Please use torch.solve instead.\n",
      "  return torch.gesv(B,A)[0][:,0]\n"
     ]
    },
    {
     "name": "stdout",
     "output_type": "stream",
     "text": [
      "training_data/augmented_imgs/dramatic_940996.png\n",
      "training_data/augmented_imgs/dramatic_940997.png\n",
      "training_data/augmented_imgs/dramatic_940998.png\n",
      "training_data/augmented_imgs/dramatic_940999.png\n",
      "training_data/augmented_imgs/normal_402990.png\n",
      "training_data/augmented_imgs/normal_402991.png\n",
      "training_data/augmented_imgs/normal_402992.png\n",
      "training_data/augmented_imgs/normal_402993.png\n",
      "training_data/augmented_imgs/normal_402994.png\n",
      "training_data/augmented_imgs/normal_402995.png\n",
      "training_data/augmented_imgs/normal_402996.png\n",
      "training_data/augmented_imgs/normal_402997.png\n",
      "training_data/augmented_imgs/normal_402998.png\n",
      "training_data/augmented_imgs/normal_402999.png\n",
      "training_data/augmented_imgs/dramatic_933990.png\n",
      "training_data/augmented_imgs/dramatic_933991.png\n",
      "training_data/augmented_imgs/dramatic_933992.png\n",
      "training_data/augmented_imgs/dramatic_933993.png\n"
     ]
    },
    {
     "name": "stderr",
     "output_type": "stream",
     "text": [
      "/home/ale/anaconda3/envs/tensor20/lib/python3.6/site-packages/fastai/vision/transform.py:243: UserWarning: torch.gesv is deprecated in favour of torch.solve and will be removed in the next release. Please use torch.solve instead.\n",
      "  return torch.gesv(B,A)[0][:,0]\n",
      "/home/ale/anaconda3/envs/tensor20/lib/python3.6/site-packages/fastai/vision/transform.py:243: UserWarning: torch.gesv is deprecated in favour of torch.solve and will be removed in the next release. Please use torch.solve instead.\n",
      "  return torch.gesv(B,A)[0][:,0]\n"
     ]
    },
    {
     "name": "stdout",
     "output_type": "stream",
     "text": [
      "training_data/augmented_imgs/dramatic_933994.png\n",
      "training_data/augmented_imgs/dramatic_933995.png\n",
      "training_data/augmented_imgs/dramatic_933996.png\n",
      "training_data/augmented_imgs/dramatic_933997.png\n",
      "training_data/augmented_imgs/dramatic_933998.png\n",
      "training_data/augmented_imgs/dramatic_933999.png\n",
      "training_data/augmented_imgs/wings_32990.png\n",
      "training_data/augmented_imgs/wings_32991.png\n",
      "training_data/augmented_imgs/wings_32992.png\n",
      "training_data/augmented_imgs/wings_32993.png\n",
      "training_data/augmented_imgs/wings_32994.png\n",
      "training_data/augmented_imgs/wings_32995.png\n",
      "training_data/augmented_imgs/wings_32996.png\n",
      "training_data/augmented_imgs/wings_32997.png\n",
      "training_data/augmented_imgs/wings_32998.png\n",
      "training_data/augmented_imgs/wings_32999.png\n",
      "training_data/augmented_imgs/normal_6990.png\n",
      "training_data/augmented_imgs/normal_6991.png\n",
      "training_data/augmented_imgs/normal_6992.png\n",
      "training_data/augmented_imgs/normal_6993.png\n",
      "training_data/augmented_imgs/normal_6994.png\n"
     ]
    },
    {
     "name": "stderr",
     "output_type": "stream",
     "text": [
      "/home/ale/anaconda3/envs/tensor20/lib/python3.6/site-packages/fastai/vision/transform.py:243: UserWarning: torch.gesv is deprecated in favour of torch.solve and will be removed in the next release. Please use torch.solve instead.\n",
      "  return torch.gesv(B,A)[0][:,0]\n",
      "/home/ale/anaconda3/envs/tensor20/lib/python3.6/site-packages/fastai/vision/transform.py:243: UserWarning: torch.gesv is deprecated in favour of torch.solve and will be removed in the next release. Please use torch.solve instead.\n",
      "  return torch.gesv(B,A)[0][:,0]\n"
     ]
    },
    {
     "name": "stdout",
     "output_type": "stream",
     "text": [
      "training_data/augmented_imgs/normal_6995.png\n",
      "training_data/augmented_imgs/normal_6996.png\n",
      "training_data/augmented_imgs/normal_6997.png\n",
      "training_data/augmented_imgs/normal_6998.png\n",
      "training_data/augmented_imgs/normal_6999.png\n",
      "training_data/augmented_imgs/dramatic_129990.png\n",
      "training_data/augmented_imgs/dramatic_129991.png\n",
      "training_data/augmented_imgs/dramatic_129992.png\n",
      "training_data/augmented_imgs/dramatic_129993.png\n",
      "training_data/augmented_imgs/dramatic_129994.png\n",
      "training_data/augmented_imgs/dramatic_129995.png\n",
      "training_data/augmented_imgs/dramatic_129996.png\n",
      "training_data/augmented_imgs/dramatic_129997.png\n",
      "training_data/augmented_imgs/dramatic_129998.png\n",
      "training_data/augmented_imgs/dramatic_129999.png\n",
      "training_data/augmented_imgs/wings_820990.png\n",
      "training_data/augmented_imgs/wings_820991.png\n",
      "training_data/augmented_imgs/wings_820992.png\n",
      "training_data/augmented_imgs/wings_820993.png\n",
      "training_data/augmented_imgs/wings_820994.png\n",
      "training_data/augmented_imgs/wings_820995.png\n"
     ]
    },
    {
     "name": "stderr",
     "output_type": "stream",
     "text": [
      "/home/ale/anaconda3/envs/tensor20/lib/python3.6/site-packages/fastai/vision/transform.py:243: UserWarning: torch.gesv is deprecated in favour of torch.solve and will be removed in the next release. Please use torch.solve instead.\n",
      "  return torch.gesv(B,A)[0][:,0]\n"
     ]
    },
    {
     "name": "stdout",
     "output_type": "stream",
     "text": [
      "training_data/augmented_imgs/wings_820996.png\n",
      "training_data/augmented_imgs/wings_820997.png\n",
      "training_data/augmented_imgs/wings_820998.png\n",
      "training_data/augmented_imgs/wings_820999.png\n",
      "training_data/augmented_imgs/normal_800990.png\n",
      "training_data/augmented_imgs/normal_800991.png\n",
      "training_data/augmented_imgs/normal_800992.png\n",
      "training_data/augmented_imgs/normal_800993.png\n",
      "training_data/augmented_imgs/normal_800994.png\n",
      "training_data/augmented_imgs/normal_800995.png\n"
     ]
    },
    {
     "name": "stderr",
     "output_type": "stream",
     "text": [
      "/home/ale/anaconda3/envs/tensor20/lib/python3.6/site-packages/fastai/vision/transform.py:243: UserWarning: torch.gesv is deprecated in favour of torch.solve and will be removed in the next release. Please use torch.solve instead.\n",
      "  return torch.gesv(B,A)[0][:,0]\n",
      "/home/ale/anaconda3/envs/tensor20/lib/python3.6/site-packages/fastai/vision/transform.py:243: UserWarning: torch.gesv is deprecated in favour of torch.solve and will be removed in the next release. Please use torch.solve instead.\n",
      "  return torch.gesv(B,A)[0][:,0]\n"
     ]
    },
    {
     "name": "stdout",
     "output_type": "stream",
     "text": [
      "training_data/augmented_imgs/normal_800996.png\n",
      "training_data/augmented_imgs/normal_800997.png\n",
      "training_data/augmented_imgs/normal_800998.png\n",
      "training_data/augmented_imgs/normal_800999.png\n",
      "training_data/augmented_imgs/wings_419990.png\n",
      "training_data/augmented_imgs/wings_419991.png\n",
      "training_data/augmented_imgs/wings_419992.png\n",
      "training_data/augmented_imgs/wings_419993.png\n",
      "training_data/augmented_imgs/wings_419994.png\n",
      "training_data/augmented_imgs/wings_419995.png\n",
      "training_data/augmented_imgs/wings_419996.png\n",
      "training_data/augmented_imgs/wings_419997.png\n",
      "training_data/augmented_imgs/wings_419998.png\n",
      "training_data/augmented_imgs/wings_419999.png\n",
      "training_data/augmented_imgs/backpack_109990.png\n",
      "training_data/augmented_imgs/backpack_109991.png\n",
      "training_data/augmented_imgs/backpack_109992.png\n",
      "training_data/augmented_imgs/backpack_109993.png\n",
      "training_data/augmented_imgs/backpack_109994.png\n"
     ]
    },
    {
     "name": "stderr",
     "output_type": "stream",
     "text": [
      "/home/ale/anaconda3/envs/tensor20/lib/python3.6/site-packages/fastai/vision/transform.py:243: UserWarning: torch.gesv is deprecated in favour of torch.solve and will be removed in the next release. Please use torch.solve instead.\n",
      "  return torch.gesv(B,A)[0][:,0]\n",
      "/home/ale/anaconda3/envs/tensor20/lib/python3.6/site-packages/fastai/vision/transform.py:243: UserWarning: torch.gesv is deprecated in favour of torch.solve and will be removed in the next release. Please use torch.solve instead.\n",
      "  return torch.gesv(B,A)[0][:,0]\n"
     ]
    },
    {
     "name": "stdout",
     "output_type": "stream",
     "text": [
      "training_data/augmented_imgs/backpack_109995.png\n",
      "training_data/augmented_imgs/backpack_109996.png\n",
      "training_data/augmented_imgs/backpack_109997.png\n",
      "training_data/augmented_imgs/backpack_109998.png\n",
      "training_data/augmented_imgs/backpack_109999.png\n",
      "training_data/augmented_imgs/fly_49990.png\n",
      "training_data/augmented_imgs/fly_49991.png\n",
      "training_data/augmented_imgs/fly_49992.png\n",
      "training_data/augmented_imgs/fly_49993.png\n",
      "training_data/augmented_imgs/fly_49994.png\n",
      "training_data/augmented_imgs/fly_49995.png\n",
      "training_data/augmented_imgs/fly_49996.png\n",
      "training_data/augmented_imgs/fly_49997.png\n",
      "training_data/augmented_imgs/fly_49998.png\n",
      "training_data/augmented_imgs/fly_49999.png\n",
      "training_data/augmented_imgs/underarm_62990.png\n",
      "training_data/augmented_imgs/underarm_62991.png\n",
      "training_data/augmented_imgs/underarm_62992.png\n",
      "training_data/augmented_imgs/underarm_62993.png\n",
      "training_data/augmented_imgs/underarm_62994.png\n"
     ]
    },
    {
     "name": "stderr",
     "output_type": "stream",
     "text": [
      "/home/ale/anaconda3/envs/tensor20/lib/python3.6/site-packages/fastai/vision/transform.py:243: UserWarning: torch.gesv is deprecated in favour of torch.solve and will be removed in the next release. Please use torch.solve instead.\n",
      "  return torch.gesv(B,A)[0][:,0]\n",
      "/home/ale/anaconda3/envs/tensor20/lib/python3.6/site-packages/fastai/vision/transform.py:243: UserWarning: torch.gesv is deprecated in favour of torch.solve and will be removed in the next release. Please use torch.solve instead.\n",
      "  return torch.gesv(B,A)[0][:,0]\n"
     ]
    },
    {
     "name": "stdout",
     "output_type": "stream",
     "text": [
      "training_data/augmented_imgs/underarm_62995.png\n",
      "training_data/augmented_imgs/underarm_62996.png\n",
      "training_data/augmented_imgs/underarm_62997.png\n",
      "training_data/augmented_imgs/underarm_62998.png\n",
      "training_data/augmented_imgs/underarm_62999.png\n",
      "training_data/augmented_imgs/dramatic_126990.png\n",
      "training_data/augmented_imgs/dramatic_126991.png\n",
      "training_data/augmented_imgs/dramatic_126992.png\n",
      "training_data/augmented_imgs/dramatic_126993.png\n",
      "training_data/augmented_imgs/dramatic_126994.png\n",
      "training_data/augmented_imgs/dramatic_126995.png\n",
      "training_data/augmented_imgs/dramatic_126996.png\n",
      "training_data/augmented_imgs/dramatic_126997.png\n",
      "training_data/augmented_imgs/dramatic_126998.png\n",
      "training_data/augmented_imgs/dramatic_126999.png\n",
      "training_data/augmented_imgs/fly_451990.png\n",
      "training_data/augmented_imgs/fly_451991.png\n",
      "training_data/augmented_imgs/fly_451992.png\n",
      "training_data/augmented_imgs/fly_451993.png\n",
      "training_data/augmented_imgs/fly_451994.png\n",
      "training_data/augmented_imgs/fly_451995.png\n"
     ]
    },
    {
     "name": "stderr",
     "output_type": "stream",
     "text": [
      "/home/ale/anaconda3/envs/tensor20/lib/python3.6/site-packages/fastai/vision/transform.py:243: UserWarning: torch.gesv is deprecated in favour of torch.solve and will be removed in the next release. Please use torch.solve instead.\n",
      "  return torch.gesv(B,A)[0][:,0]\n",
      "/home/ale/anaconda3/envs/tensor20/lib/python3.6/site-packages/fastai/vision/transform.py:243: UserWarning: torch.gesv is deprecated in favour of torch.solve and will be removed in the next release. Please use torch.solve instead.\n",
      "  return torch.gesv(B,A)[0][:,0]\n"
     ]
    },
    {
     "name": "stdout",
     "output_type": "stream",
     "text": [
      "training_data/augmented_imgs/fly_451996.png\n",
      "training_data/augmented_imgs/fly_451997.png\n",
      "training_data/augmented_imgs/fly_451998.png\n",
      "training_data/augmented_imgs/fly_451999.png\n",
      "training_data/augmented_imgs/backpack_108990.png\n",
      "training_data/augmented_imgs/backpack_108991.png\n",
      "training_data/augmented_imgs/backpack_108992.png\n",
      "training_data/augmented_imgs/backpack_108993.png\n",
      "training_data/augmented_imgs/backpack_108994.png\n",
      "training_data/augmented_imgs/backpack_108995.png\n",
      "training_data/augmented_imgs/backpack_108996.png\n",
      "training_data/augmented_imgs/backpack_108997.png\n",
      "training_data/augmented_imgs/backpack_108998.png\n",
      "training_data/augmented_imgs/backpack_108999.png\n",
      "training_data/augmented_imgs/fly_855990.png\n",
      "training_data/augmented_imgs/fly_855991.png\n",
      "training_data/augmented_imgs/fly_855992.png\n",
      "training_data/augmented_imgs/fly_855993.png\n",
      "training_data/augmented_imgs/fly_855994.png\n"
     ]
    },
    {
     "name": "stderr",
     "output_type": "stream",
     "text": [
      "/home/ale/anaconda3/envs/tensor20/lib/python3.6/site-packages/fastai/vision/transform.py:243: UserWarning: torch.gesv is deprecated in favour of torch.solve and will be removed in the next release. Please use torch.solve instead.\n",
      "  return torch.gesv(B,A)[0][:,0]\n"
     ]
    },
    {
     "name": "stdout",
     "output_type": "stream",
     "text": [
      "training_data/augmented_imgs/fly_855995.png\n",
      "training_data/augmented_imgs/fly_855996.png\n",
      "training_data/augmented_imgs/fly_855997.png\n",
      "training_data/augmented_imgs/fly_855998.png\n",
      "training_data/augmented_imgs/fly_855999.png\n",
      "training_data/augmented_imgs/normal_412990.png\n",
      "training_data/augmented_imgs/normal_412991.png\n",
      "training_data/augmented_imgs/normal_412992.png\n",
      "training_data/augmented_imgs/normal_412993.png\n",
      "training_data/augmented_imgs/normal_412994.png\n",
      "training_data/augmented_imgs/normal_412995.png\n",
      "training_data/augmented_imgs/normal_412996.png\n",
      "training_data/augmented_imgs/normal_412997.png\n",
      "training_data/augmented_imgs/normal_412998.png\n",
      "training_data/augmented_imgs/normal_412999.png\n",
      "training_data/augmented_imgs/normal_817990.png\n",
      "training_data/augmented_imgs/normal_817991.png\n",
      "training_data/augmented_imgs/normal_817992.png\n",
      "training_data/augmented_imgs/normal_817993.png\n"
     ]
    },
    {
     "name": "stderr",
     "output_type": "stream",
     "text": [
      "/home/ale/anaconda3/envs/tensor20/lib/python3.6/site-packages/fastai/vision/transform.py:243: UserWarning: torch.gesv is deprecated in favour of torch.solve and will be removed in the next release. Please use torch.solve instead.\n",
      "  return torch.gesv(B,A)[0][:,0]\n",
      "/home/ale/anaconda3/envs/tensor20/lib/python3.6/site-packages/fastai/vision/transform.py:243: UserWarning: torch.gesv is deprecated in favour of torch.solve and will be removed in the next release. Please use torch.solve instead.\n",
      "  return torch.gesv(B,A)[0][:,0]\n"
     ]
    },
    {
     "name": "stdout",
     "output_type": "stream",
     "text": [
      "training_data/augmented_imgs/normal_817994.png\n",
      "training_data/augmented_imgs/normal_817995.png\n",
      "training_data/augmented_imgs/normal_817996.png\n",
      "training_data/augmented_imgs/normal_817997.png\n",
      "training_data/augmented_imgs/normal_817998.png\n",
      "training_data/augmented_imgs/normal_817999.png\n",
      "training_data/augmented_imgs/normal_210990.png\n",
      "training_data/augmented_imgs/normal_210991.png\n",
      "training_data/augmented_imgs/normal_210992.png\n"
     ]
    },
    {
     "name": "stderr",
     "output_type": "stream",
     "text": [
      "/home/ale/anaconda3/envs/tensor20/lib/python3.6/site-packages/fastai/vision/transform.py:243: UserWarning: torch.gesv is deprecated in favour of torch.solve and will be removed in the next release. Please use torch.solve instead.\n",
      "  return torch.gesv(B,A)[0][:,0]\n",
      "/home/ale/anaconda3/envs/tensor20/lib/python3.6/site-packages/fastai/vision/transform.py:243: UserWarning: torch.gesv is deprecated in favour of torch.solve and will be removed in the next release. Please use torch.solve instead.\n",
      "  return torch.gesv(B,A)[0][:,0]\n"
     ]
    },
    {
     "name": "stdout",
     "output_type": "stream",
     "text": [
      "training_data/augmented_imgs/normal_210993.png\n",
      "training_data/augmented_imgs/normal_210994.png\n",
      "training_data/augmented_imgs/normal_210995.png\n",
      "training_data/augmented_imgs/normal_210996.png\n",
      "training_data/augmented_imgs/normal_210997.png\n",
      "training_data/augmented_imgs/normal_210998.png\n",
      "training_data/augmented_imgs/normal_210999.png\n",
      "training_data/augmented_imgs/underarm_470990.png\n",
      "training_data/augmented_imgs/underarm_470991.png\n",
      "training_data/augmented_imgs/underarm_470992.png\n",
      "training_data/augmented_imgs/underarm_470993.png\n",
      "training_data/augmented_imgs/underarm_470994.png\n",
      "training_data/augmented_imgs/underarm_470995.png\n",
      "training_data/augmented_imgs/underarm_470996.png\n",
      "training_data/augmented_imgs/underarm_470997.png\n",
      "training_data/augmented_imgs/underarm_470998.png\n",
      "training_data/augmented_imgs/underarm_470999.png\n",
      "training_data/augmented_imgs/dramatic_552990.png\n",
      "training_data/augmented_imgs/dramatic_552991.png\n"
     ]
    },
    {
     "name": "stderr",
     "output_type": "stream",
     "text": [
      "/home/ale/anaconda3/envs/tensor20/lib/python3.6/site-packages/fastai/vision/transform.py:243: UserWarning: torch.gesv is deprecated in favour of torch.solve and will be removed in the next release. Please use torch.solve instead.\n",
      "  return torch.gesv(B,A)[0][:,0]\n"
     ]
    },
    {
     "name": "stdout",
     "output_type": "stream",
     "text": [
      "training_data/augmented_imgs/dramatic_552992.png\n",
      "training_data/augmented_imgs/dramatic_552993.png\n",
      "training_data/augmented_imgs/dramatic_552994.png\n",
      "training_data/augmented_imgs/dramatic_552995.png\n",
      "training_data/augmented_imgs/dramatic_552996.png\n",
      "training_data/augmented_imgs/dramatic_552997.png\n",
      "training_data/augmented_imgs/dramatic_552998.png\n",
      "training_data/augmented_imgs/dramatic_552999.png\n",
      "training_data/augmented_imgs/hadouken_507990.png\n",
      "training_data/augmented_imgs/hadouken_507991.png\n",
      "training_data/augmented_imgs/hadouken_507992.png\n",
      "training_data/augmented_imgs/hadouken_507993.png\n",
      "training_data/augmented_imgs/hadouken_507994.png\n",
      "training_data/augmented_imgs/hadouken_507995.png\n",
      "training_data/augmented_imgs/hadouken_507996.png\n",
      "training_data/augmented_imgs/hadouken_507997.png\n"
     ]
    },
    {
     "name": "stderr",
     "output_type": "stream",
     "text": [
      "/home/ale/anaconda3/envs/tensor20/lib/python3.6/site-packages/fastai/vision/transform.py:243: UserWarning: torch.gesv is deprecated in favour of torch.solve and will be removed in the next release. Please use torch.solve instead.\n",
      "  return torch.gesv(B,A)[0][:,0]\n"
     ]
    },
    {
     "name": "stdout",
     "output_type": "stream",
     "text": [
      "training_data/augmented_imgs/hadouken_507998.png\n",
      "training_data/augmented_imgs/hadouken_507999.png\n",
      "training_data/augmented_imgs/backpack_910990.png\n",
      "training_data/augmented_imgs/backpack_910991.png\n",
      "training_data/augmented_imgs/backpack_910992.png\n",
      "training_data/augmented_imgs/backpack_910993.png\n",
      "training_data/augmented_imgs/backpack_910994.png\n",
      "training_data/augmented_imgs/backpack_910995.png\n",
      "training_data/augmented_imgs/backpack_910996.png\n"
     ]
    },
    {
     "name": "stderr",
     "output_type": "stream",
     "text": [
      "/home/ale/anaconda3/envs/tensor20/lib/python3.6/site-packages/fastai/vision/transform.py:243: UserWarning: torch.gesv is deprecated in favour of torch.solve and will be removed in the next release. Please use torch.solve instead.\n",
      "  return torch.gesv(B,A)[0][:,0]\n"
     ]
    },
    {
     "name": "stdout",
     "output_type": "stream",
     "text": [
      "training_data/augmented_imgs/backpack_910997.png\n",
      "training_data/augmented_imgs/backpack_910998.png\n",
      "training_data/augmented_imgs/backpack_910999.png\n",
      "training_data/augmented_imgs/moonwalk_481990.png\n",
      "training_data/augmented_imgs/moonwalk_481991.png\n",
      "training_data/augmented_imgs/moonwalk_481992.png\n",
      "training_data/augmented_imgs/moonwalk_481993.png\n",
      "training_data/augmented_imgs/moonwalk_481994.png\n",
      "training_data/augmented_imgs/moonwalk_481995.png\n",
      "training_data/augmented_imgs/moonwalk_481996.png\n",
      "training_data/augmented_imgs/moonwalk_481997.png\n",
      "training_data/augmented_imgs/moonwalk_481998.png\n",
      "training_data/augmented_imgs/moonwalk_481999.png\n",
      "training_data/augmented_imgs/backpack_909990.png\n",
      "training_data/augmented_imgs/backpack_909991.png\n",
      "training_data/augmented_imgs/backpack_909992.png\n",
      "training_data/augmented_imgs/backpack_909993.png\n",
      "training_data/augmented_imgs/backpack_909994.png\n",
      "training_data/augmented_imgs/backpack_909995.png\n",
      "training_data/augmented_imgs/backpack_909996.png\n",
      "training_data/augmented_imgs/backpack_909997.png\n",
      "training_data/augmented_imgs/backpack_909998.png\n"
     ]
    },
    {
     "name": "stderr",
     "output_type": "stream",
     "text": [
      "/home/ale/anaconda3/envs/tensor20/lib/python3.6/site-packages/fastai/vision/transform.py:243: UserWarning: torch.gesv is deprecated in favour of torch.solve and will be removed in the next release. Please use torch.solve instead.\n",
      "  return torch.gesv(B,A)[0][:,0]\n"
     ]
    },
    {
     "name": "stdout",
     "output_type": "stream",
     "text": [
      "training_data/augmented_imgs/backpack_909999.png\n",
      "training_data/augmented_imgs/moonwalk_1219990.png\n",
      "training_data/augmented_imgs/moonwalk_1219991.png\n",
      "training_data/augmented_imgs/moonwalk_1219992.png\n",
      "training_data/augmented_imgs/moonwalk_1219993.png\n",
      "training_data/augmented_imgs/moonwalk_1219994.png\n",
      "training_data/augmented_imgs/moonwalk_1219995.png\n",
      "training_data/augmented_imgs/moonwalk_1219996.png\n",
      "training_data/augmented_imgs/moonwalk_1219997.png\n",
      "training_data/augmented_imgs/moonwalk_1219998.png\n",
      "training_data/augmented_imgs/moonwalk_1219999.png\n",
      "training_data/augmented_imgs/moonwalk_1217990.png\n",
      "training_data/augmented_imgs/moonwalk_1217991.png\n",
      "training_data/augmented_imgs/moonwalk_1217992.png\n",
      "training_data/augmented_imgs/moonwalk_1217993.png\n",
      "training_data/augmented_imgs/moonwalk_1217994.png\n",
      "training_data/augmented_imgs/moonwalk_1217995.png\n",
      "training_data/augmented_imgs/moonwalk_1217996.png\n",
      "training_data/augmented_imgs/moonwalk_1217997.png\n"
     ]
    },
    {
     "name": "stderr",
     "output_type": "stream",
     "text": [
      "/home/ale/anaconda3/envs/tensor20/lib/python3.6/site-packages/fastai/vision/transform.py:243: UserWarning: torch.gesv is deprecated in favour of torch.solve and will be removed in the next release. Please use torch.solve instead.\n",
      "  return torch.gesv(B,A)[0][:,0]\n",
      "/home/ale/anaconda3/envs/tensor20/lib/python3.6/site-packages/fastai/vision/transform.py:243: UserWarning: torch.gesv is deprecated in favour of torch.solve and will be removed in the next release. Please use torch.solve instead.\n",
      "  return torch.gesv(B,A)[0][:,0]\n"
     ]
    },
    {
     "name": "stdout",
     "output_type": "stream",
     "text": [
      "training_data/augmented_imgs/moonwalk_1217998.png\n",
      "training_data/augmented_imgs/moonwalk_1217999.png\n",
      "training_data/augmented_imgs/moonwalk_480990.png\n",
      "training_data/augmented_imgs/moonwalk_480991.png\n",
      "training_data/augmented_imgs/moonwalk_480992.png\n",
      "training_data/augmented_imgs/moonwalk_480993.png\n",
      "training_data/augmented_imgs/moonwalk_480994.png\n",
      "training_data/augmented_imgs/moonwalk_480995.png\n"
     ]
    },
    {
     "name": "stderr",
     "output_type": "stream",
     "text": [
      "/home/ale/anaconda3/envs/tensor20/lib/python3.6/site-packages/fastai/vision/transform.py:243: UserWarning: torch.gesv is deprecated in favour of torch.solve and will be removed in the next release. Please use torch.solve instead.\n",
      "  return torch.gesv(B,A)[0][:,0]\n"
     ]
    },
    {
     "name": "stdout",
     "output_type": "stream",
     "text": [
      "training_data/augmented_imgs/moonwalk_480996.png\n",
      "training_data/augmented_imgs/moonwalk_480997.png\n",
      "training_data/augmented_imgs/moonwalk_480998.png\n",
      "training_data/augmented_imgs/moonwalk_480999.png\n",
      "training_data/augmented_imgs/fly_447990.png\n",
      "training_data/augmented_imgs/fly_447991.png\n",
      "training_data/augmented_imgs/fly_447992.png\n",
      "training_data/augmented_imgs/fly_447993.png\n"
     ]
    },
    {
     "name": "stderr",
     "output_type": "stream",
     "text": [
      "/home/ale/anaconda3/envs/tensor20/lib/python3.6/site-packages/fastai/vision/transform.py:243: UserWarning: torch.gesv is deprecated in favour of torch.solve and will be removed in the next release. Please use torch.solve instead.\n",
      "  return torch.gesv(B,A)[0][:,0]\n"
     ]
    },
    {
     "name": "stdout",
     "output_type": "stream",
     "text": [
      "training_data/augmented_imgs/fly_447994.png\n",
      "training_data/augmented_imgs/fly_447995.png\n",
      "training_data/augmented_imgs/fly_447996.png\n",
      "training_data/augmented_imgs/fly_447997.png\n",
      "training_data/augmented_imgs/fly_447998.png\n",
      "training_data/augmented_imgs/fly_447999.png\n",
      "training_data/augmented_imgs/moonwalk_894990.png\n",
      "training_data/augmented_imgs/moonwalk_894991.png\n",
      "training_data/augmented_imgs/moonwalk_894992.png\n",
      "training_data/augmented_imgs/moonwalk_894993.png\n",
      "training_data/augmented_imgs/moonwalk_894994.png\n",
      "training_data/augmented_imgs/moonwalk_894995.png\n",
      "training_data/augmented_imgs/moonwalk_894996.png\n",
      "training_data/augmented_imgs/moonwalk_894997.png\n",
      "training_data/augmented_imgs/moonwalk_894998.png\n",
      "training_data/augmented_imgs/moonwalk_894999.png\n",
      "training_data/augmented_imgs/dramatic_1265990.png\n",
      "training_data/augmented_imgs/dramatic_1265991.png\n",
      "training_data/augmented_imgs/dramatic_1265992.png\n",
      "training_data/augmented_imgs/dramatic_1265993.png\n"
     ]
    },
    {
     "name": "stderr",
     "output_type": "stream",
     "text": [
      "/home/ale/anaconda3/envs/tensor20/lib/python3.6/site-packages/fastai/vision/transform.py:243: UserWarning: torch.gesv is deprecated in favour of torch.solve and will be removed in the next release. Please use torch.solve instead.\n",
      "  return torch.gesv(B,A)[0][:,0]\n"
     ]
    },
    {
     "name": "stdout",
     "output_type": "stream",
     "text": [
      "training_data/augmented_imgs/dramatic_1265994.png\n",
      "training_data/augmented_imgs/dramatic_1265995.png\n",
      "training_data/augmented_imgs/dramatic_1265996.png\n",
      "training_data/augmented_imgs/dramatic_1265997.png\n",
      "training_data/augmented_imgs/dramatic_1265998.png\n",
      "training_data/augmented_imgs/dramatic_1265999.png\n",
      "training_data/augmented_imgs/backpack_1245990.png\n",
      "training_data/augmented_imgs/backpack_1245991.png\n"
     ]
    },
    {
     "name": "stderr",
     "output_type": "stream",
     "text": [
      "/home/ale/anaconda3/envs/tensor20/lib/python3.6/site-packages/fastai/vision/transform.py:243: UserWarning: torch.gesv is deprecated in favour of torch.solve and will be removed in the next release. Please use torch.solve instead.\n",
      "  return torch.gesv(B,A)[0][:,0]\n",
      "/home/ale/anaconda3/envs/tensor20/lib/python3.6/site-packages/fastai/vision/transform.py:243: UserWarning: torch.gesv is deprecated in favour of torch.solve and will be removed in the next release. Please use torch.solve instead.\n",
      "  return torch.gesv(B,A)[0][:,0]\n"
     ]
    },
    {
     "name": "stdout",
     "output_type": "stream",
     "text": [
      "training_data/augmented_imgs/backpack_1245992.png\n",
      "training_data/augmented_imgs/backpack_1245993.png\n",
      "training_data/augmented_imgs/backpack_1245994.png\n",
      "training_data/augmented_imgs/backpack_1245995.png\n",
      "training_data/augmented_imgs/backpack_1245996.png\n",
      "training_data/augmented_imgs/backpack_1245997.png\n",
      "training_data/augmented_imgs/backpack_1245998.png\n",
      "training_data/augmented_imgs/backpack_1245999.png\n",
      "training_data/augmented_imgs/dramatic_563990.png\n",
      "training_data/augmented_imgs/dramatic_563991.png\n"
     ]
    },
    {
     "name": "stderr",
     "output_type": "stream",
     "text": [
      "/home/ale/anaconda3/envs/tensor20/lib/python3.6/site-packages/fastai/vision/transform.py:243: UserWarning: torch.gesv is deprecated in favour of torch.solve and will be removed in the next release. Please use torch.solve instead.\n",
      "  return torch.gesv(B,A)[0][:,0]\n"
     ]
    },
    {
     "name": "stdout",
     "output_type": "stream",
     "text": [
      "training_data/augmented_imgs/dramatic_563992.png\n",
      "training_data/augmented_imgs/dramatic_563993.png\n",
      "training_data/augmented_imgs/dramatic_563994.png\n",
      "training_data/augmented_imgs/dramatic_563995.png\n",
      "training_data/augmented_imgs/dramatic_563996.png\n",
      "training_data/augmented_imgs/dramatic_563997.png\n",
      "training_data/augmented_imgs/dramatic_563998.png\n",
      "training_data/augmented_imgs/dramatic_563999.png\n",
      "training_data/augmented_imgs/underarm_73990.png\n",
      "training_data/augmented_imgs/underarm_73991.png\n",
      "training_data/augmented_imgs/underarm_73992.png\n",
      "training_data/augmented_imgs/underarm_73993.png\n",
      "training_data/augmented_imgs/underarm_73994.png\n",
      "training_data/augmented_imgs/underarm_73995.png\n",
      "training_data/augmented_imgs/underarm_73996.png\n",
      "training_data/augmented_imgs/underarm_73997.png\n",
      "training_data/augmented_imgs/underarm_73998.png\n",
      "training_data/augmented_imgs/underarm_73999.png\n",
      "training_data/augmented_imgs/moonwalk_896990.png\n",
      "training_data/augmented_imgs/moonwalk_896991.png\n",
      "training_data/augmented_imgs/moonwalk_896992.png\n"
     ]
    },
    {
     "name": "stderr",
     "output_type": "stream",
     "text": [
      "/home/ale/anaconda3/envs/tensor20/lib/python3.6/site-packages/fastai/vision/transform.py:243: UserWarning: torch.gesv is deprecated in favour of torch.solve and will be removed in the next release. Please use torch.solve instead.\n",
      "  return torch.gesv(B,A)[0][:,0]\n",
      "/home/ale/anaconda3/envs/tensor20/lib/python3.6/site-packages/fastai/vision/transform.py:243: UserWarning: torch.gesv is deprecated in favour of torch.solve and will be removed in the next release. Please use torch.solve instead.\n",
      "  return torch.gesv(B,A)[0][:,0]\n"
     ]
    },
    {
     "name": "stdout",
     "output_type": "stream",
     "text": [
      "training_data/augmented_imgs/moonwalk_896993.png\n",
      "training_data/augmented_imgs/moonwalk_896994.png\n",
      "training_data/augmented_imgs/moonwalk_896995.png\n",
      "training_data/augmented_imgs/moonwalk_896996.png\n",
      "training_data/augmented_imgs/moonwalk_896997.png\n",
      "training_data/augmented_imgs/moonwalk_896998.png\n",
      "training_data/augmented_imgs/moonwalk_896999.png\n",
      "training_data/augmented_imgs/hadouken_976990.png\n",
      "training_data/augmented_imgs/hadouken_976991.png\n",
      "training_data/augmented_imgs/hadouken_976992.png\n"
     ]
    },
    {
     "name": "stderr",
     "output_type": "stream",
     "text": [
      "/home/ale/anaconda3/envs/tensor20/lib/python3.6/site-packages/fastai/vision/transform.py:243: UserWarning: torch.gesv is deprecated in favour of torch.solve and will be removed in the next release. Please use torch.solve instead.\n",
      "  return torch.gesv(B,A)[0][:,0]\n"
     ]
    },
    {
     "name": "stdout",
     "output_type": "stream",
     "text": [
      "training_data/augmented_imgs/hadouken_976993.png\n",
      "training_data/augmented_imgs/hadouken_976994.png\n",
      "training_data/augmented_imgs/hadouken_976995.png\n",
      "training_data/augmented_imgs/hadouken_976996.png\n",
      "training_data/augmented_imgs/hadouken_976997.png\n",
      "training_data/augmented_imgs/hadouken_976998.png\n",
      "training_data/augmented_imgs/hadouken_976999.png\n",
      "training_data/augmented_imgs/normal_806990.png\n",
      "training_data/augmented_imgs/normal_806991.png\n",
      "training_data/augmented_imgs/normal_806992.png\n",
      "training_data/augmented_imgs/normal_806993.png\n",
      "training_data/augmented_imgs/normal_806994.png\n",
      "training_data/augmented_imgs/normal_806995.png\n",
      "training_data/augmented_imgs/normal_806996.png\n",
      "training_data/augmented_imgs/normal_806997.png\n",
      "training_data/augmented_imgs/normal_806998.png\n",
      "training_data/augmented_imgs/normal_806999.png\n",
      "training_data/augmented_imgs/moonwalk_1225990.png\n",
      "training_data/augmented_imgs/moonwalk_1225991.png\n",
      "training_data/augmented_imgs/moonwalk_1225992.png\n"
     ]
    },
    {
     "name": "stderr",
     "output_type": "stream",
     "text": [
      "/home/ale/anaconda3/envs/tensor20/lib/python3.6/site-packages/fastai/vision/transform.py:243: UserWarning: torch.gesv is deprecated in favour of torch.solve and will be removed in the next release. Please use torch.solve instead.\n",
      "  return torch.gesv(B,A)[0][:,0]\n"
     ]
    },
    {
     "name": "stdout",
     "output_type": "stream",
     "text": [
      "training_data/augmented_imgs/moonwalk_1225993.png\n",
      "training_data/augmented_imgs/moonwalk_1225994.png\n",
      "training_data/augmented_imgs/moonwalk_1225995.png\n",
      "training_data/augmented_imgs/moonwalk_1225996.png\n",
      "training_data/augmented_imgs/moonwalk_1225997.png\n",
      "training_data/augmented_imgs/moonwalk_1225998.png\n",
      "training_data/augmented_imgs/moonwalk_1225999.png\n",
      "training_data/augmented_imgs/fly_232990.png\n",
      "training_data/augmented_imgs/fly_232991.png\n",
      "training_data/augmented_imgs/fly_232992.png\n",
      "training_data/augmented_imgs/fly_232993.png\n",
      "training_data/augmented_imgs/fly_232994.png\n",
      "training_data/augmented_imgs/fly_232995.png\n",
      "training_data/augmented_imgs/fly_232996.png\n",
      "training_data/augmented_imgs/fly_232997.png\n",
      "training_data/augmented_imgs/fly_232998.png\n",
      "training_data/augmented_imgs/fly_232999.png\n",
      "training_data/augmented_imgs/backpack_267990.png\n"
     ]
    },
    {
     "name": "stderr",
     "output_type": "stream",
     "text": [
      "/home/ale/anaconda3/envs/tensor20/lib/python3.6/site-packages/fastai/vision/transform.py:243: UserWarning: torch.gesv is deprecated in favour of torch.solve and will be removed in the next release. Please use torch.solve instead.\n",
      "  return torch.gesv(B,A)[0][:,0]\n",
      "/home/ale/anaconda3/envs/tensor20/lib/python3.6/site-packages/fastai/vision/transform.py:243: UserWarning: torch.gesv is deprecated in favour of torch.solve and will be removed in the next release. Please use torch.solve instead.\n",
      "  return torch.gesv(B,A)[0][:,0]\n"
     ]
    },
    {
     "name": "stdout",
     "output_type": "stream",
     "text": [
      "training_data/augmented_imgs/backpack_267991.png\n",
      "training_data/augmented_imgs/backpack_267992.png\n",
      "training_data/augmented_imgs/backpack_267993.png\n",
      "training_data/augmented_imgs/backpack_267994.png\n",
      "training_data/augmented_imgs/backpack_267995.png\n",
      "training_data/augmented_imgs/backpack_267996.png\n",
      "training_data/augmented_imgs/backpack_267997.png\n",
      "training_data/augmented_imgs/backpack_267998.png\n",
      "training_data/augmented_imgs/backpack_267999.png\n",
      "training_data/augmented_imgs/moonwalk_1227990.png\n",
      "training_data/augmented_imgs/moonwalk_1227991.png\n",
      "training_data/augmented_imgs/moonwalk_1227992.png\n",
      "training_data/augmented_imgs/moonwalk_1227993.png\n",
      "training_data/augmented_imgs/moonwalk_1227994.png\n",
      "training_data/augmented_imgs/moonwalk_1227995.png\n",
      "training_data/augmented_imgs/moonwalk_1227996.png\n",
      "training_data/augmented_imgs/moonwalk_1227997.png\n",
      "training_data/augmented_imgs/moonwalk_1227998.png\n"
     ]
    },
    {
     "name": "stderr",
     "output_type": "stream",
     "text": [
      "/home/ale/anaconda3/envs/tensor20/lib/python3.6/site-packages/fastai/vision/transform.py:243: UserWarning: torch.gesv is deprecated in favour of torch.solve and will be removed in the next release. Please use torch.solve instead.\n",
      "  return torch.gesv(B,A)[0][:,0]\n",
      "/home/ale/anaconda3/envs/tensor20/lib/python3.6/site-packages/fastai/vision/transform.py:243: UserWarning: torch.gesv is deprecated in favour of torch.solve and will be removed in the next release. Please use torch.solve instead.\n",
      "  return torch.gesv(B,A)[0][:,0]\n"
     ]
    },
    {
     "name": "stdout",
     "output_type": "stream",
     "text": [
      "training_data/augmented_imgs/moonwalk_1227999.png\n",
      "training_data/augmented_imgs/dramatic_124990.png\n",
      "training_data/augmented_imgs/dramatic_124991.png\n",
      "training_data/augmented_imgs/dramatic_124992.png\n",
      "training_data/augmented_imgs/dramatic_124993.png\n",
      "training_data/augmented_imgs/dramatic_124994.png\n",
      "training_data/augmented_imgs/dramatic_124995.png\n",
      "training_data/augmented_imgs/dramatic_124996.png\n",
      "training_data/augmented_imgs/dramatic_124997.png\n",
      "training_data/augmented_imgs/dramatic_124998.png\n",
      "training_data/augmented_imgs/dramatic_124999.png\n",
      "training_data/augmented_imgs/fly_439990.png\n",
      "training_data/augmented_imgs/fly_439991.png\n",
      "training_data/augmented_imgs/fly_439992.png\n",
      "training_data/augmented_imgs/fly_439993.png\n",
      "training_data/augmented_imgs/fly_439994.png\n",
      "training_data/augmented_imgs/fly_439995.png\n"
     ]
    },
    {
     "name": "stderr",
     "output_type": "stream",
     "text": [
      "/home/ale/anaconda3/envs/tensor20/lib/python3.6/site-packages/fastai/vision/transform.py:243: UserWarning: torch.gesv is deprecated in favour of torch.solve and will be removed in the next release. Please use torch.solve instead.\n",
      "  return torch.gesv(B,A)[0][:,0]\n"
     ]
    },
    {
     "name": "stdout",
     "output_type": "stream",
     "text": [
      "training_data/augmented_imgs/fly_439996.png\n",
      "training_data/augmented_imgs/fly_439997.png\n",
      "training_data/augmented_imgs/fly_439998.png\n",
      "training_data/augmented_imgs/fly_439999.png\n",
      "training_data/augmented_imgs/hadouken_96990.png\n",
      "training_data/augmented_imgs/hadouken_96991.png\n",
      "training_data/augmented_imgs/hadouken_96992.png\n",
      "training_data/augmented_imgs/hadouken_96993.png\n",
      "training_data/augmented_imgs/hadouken_96994.png\n",
      "training_data/augmented_imgs/hadouken_96995.png\n"
     ]
    },
    {
     "name": "stderr",
     "output_type": "stream",
     "text": [
      "/home/ale/anaconda3/envs/tensor20/lib/python3.6/site-packages/fastai/vision/transform.py:243: UserWarning: torch.gesv is deprecated in favour of torch.solve and will be removed in the next release. Please use torch.solve instead.\n",
      "  return torch.gesv(B,A)[0][:,0]\n",
      "/home/ale/anaconda3/envs/tensor20/lib/python3.6/site-packages/fastai/vision/transform.py:243: UserWarning: torch.gesv is deprecated in favour of torch.solve and will be removed in the next release. Please use torch.solve instead.\n",
      "  return torch.gesv(B,A)[0][:,0]\n"
     ]
    },
    {
     "name": "stdout",
     "output_type": "stream",
     "text": [
      "training_data/augmented_imgs/hadouken_96996.png\n",
      "training_data/augmented_imgs/hadouken_96997.png\n",
      "training_data/augmented_imgs/hadouken_96998.png\n",
      "training_data/augmented_imgs/hadouken_96999.png\n",
      "training_data/augmented_imgs/underarm_870990.png\n",
      "training_data/augmented_imgs/underarm_870991.png\n",
      "training_data/augmented_imgs/underarm_870992.png\n",
      "training_data/augmented_imgs/underarm_870993.png\n",
      "training_data/augmented_imgs/underarm_870994.png\n",
      "training_data/augmented_imgs/underarm_870995.png\n",
      "training_data/augmented_imgs/underarm_870996.png\n",
      "training_data/augmented_imgs/underarm_870997.png\n",
      "training_data/augmented_imgs/underarm_870998.png\n",
      "training_data/augmented_imgs/underarm_870999.png\n",
      "training_data/augmented_imgs/hadouken_519990.png\n",
      "training_data/augmented_imgs/hadouken_519991.png\n",
      "training_data/augmented_imgs/hadouken_519992.png\n",
      "training_data/augmented_imgs/hadouken_519993.png\n",
      "training_data/augmented_imgs/hadouken_519994.png\n",
      "training_data/augmented_imgs/hadouken_519995.png\n"
     ]
    },
    {
     "name": "stderr",
     "output_type": "stream",
     "text": [
      "/home/ale/anaconda3/envs/tensor20/lib/python3.6/site-packages/fastai/vision/transform.py:243: UserWarning: torch.gesv is deprecated in favour of torch.solve and will be removed in the next release. Please use torch.solve instead.\n",
      "  return torch.gesv(B,A)[0][:,0]\n",
      "/home/ale/anaconda3/envs/tensor20/lib/python3.6/site-packages/fastai/vision/transform.py:243: UserWarning: torch.gesv is deprecated in favour of torch.solve and will be removed in the next release. Please use torch.solve instead.\n",
      "  return torch.gesv(B,A)[0][:,0]\n"
     ]
    },
    {
     "name": "stdout",
     "output_type": "stream",
     "text": [
      "training_data/augmented_imgs/hadouken_519996.png\n",
      "training_data/augmented_imgs/hadouken_519997.png\n",
      "training_data/augmented_imgs/hadouken_519998.png\n",
      "training_data/augmented_imgs/hadouken_519999.png\n",
      "training_data/augmented_imgs/normal_403990.png\n",
      "training_data/augmented_imgs/normal_403991.png\n",
      "training_data/augmented_imgs/normal_403992.png\n",
      "training_data/augmented_imgs/normal_403993.png\n",
      "training_data/augmented_imgs/normal_403994.png\n",
      "training_data/augmented_imgs/normal_403995.png\n",
      "training_data/augmented_imgs/normal_403996.png\n",
      "training_data/augmented_imgs/normal_403997.png\n",
      "training_data/augmented_imgs/normal_403998.png\n",
      "training_data/augmented_imgs/normal_403999.png\n",
      "training_data/augmented_imgs/wings_418990.png\n",
      "training_data/augmented_imgs/wings_418991.png\n",
      "training_data/augmented_imgs/wings_418992.png\n",
      "training_data/augmented_imgs/wings_418993.png\n",
      "training_data/augmented_imgs/wings_418994.png\n",
      "training_data/augmented_imgs/wings_418995.png\n",
      "training_data/augmented_imgs/wings_418996.png\n",
      "training_data/augmented_imgs/wings_418997.png\n",
      "training_data/augmented_imgs/wings_418998.png\n",
      "training_data/augmented_imgs/wings_418999.png\n",
      "training_data/augmented_imgs/normal_1208990.png\n",
      "training_data/augmented_imgs/normal_1208991.png\n",
      "training_data/augmented_imgs/normal_1208992.png\n"
     ]
    },
    {
     "name": "stderr",
     "output_type": "stream",
     "text": [
      "/home/ale/anaconda3/envs/tensor20/lib/python3.6/site-packages/fastai/vision/transform.py:243: UserWarning: torch.gesv is deprecated in favour of torch.solve and will be removed in the next release. Please use torch.solve instead.\n",
      "  return torch.gesv(B,A)[0][:,0]\n",
      "/home/ale/anaconda3/envs/tensor20/lib/python3.6/site-packages/fastai/vision/transform.py:243: UserWarning: torch.gesv is deprecated in favour of torch.solve and will be removed in the next release. Please use torch.solve instead.\n",
      "  return torch.gesv(B,A)[0][:,0]\n"
     ]
    },
    {
     "name": "stdout",
     "output_type": "stream",
     "text": [
      "training_data/augmented_imgs/normal_1208993.png\n",
      "training_data/augmented_imgs/normal_1208994.png\n",
      "training_data/augmented_imgs/normal_1208995.png\n",
      "training_data/augmented_imgs/normal_1208996.png\n",
      "training_data/augmented_imgs/normal_1208997.png\n",
      "training_data/augmented_imgs/normal_1208998.png\n",
      "training_data/augmented_imgs/normal_1208999.png\n",
      "training_data/augmented_imgs/dramatic_121990.png\n",
      "training_data/augmented_imgs/dramatic_121991.png\n",
      "training_data/augmented_imgs/dramatic_121992.png\n"
     ]
    },
    {
     "name": "stderr",
     "output_type": "stream",
     "text": [
      "/home/ale/anaconda3/envs/tensor20/lib/python3.6/site-packages/fastai/vision/transform.py:243: UserWarning: torch.gesv is deprecated in favour of torch.solve and will be removed in the next release. Please use torch.solve instead.\n",
      "  return torch.gesv(B,A)[0][:,0]\n",
      "/home/ale/anaconda3/envs/tensor20/lib/python3.6/site-packages/fastai/vision/transform.py:243: UserWarning: torch.gesv is deprecated in favour of torch.solve and will be removed in the next release. Please use torch.solve instead.\n",
      "  return torch.gesv(B,A)[0][:,0]\n"
     ]
    },
    {
     "name": "stdout",
     "output_type": "stream",
     "text": [
      "training_data/augmented_imgs/dramatic_121993.png\n",
      "training_data/augmented_imgs/dramatic_121994.png\n",
      "training_data/augmented_imgs/dramatic_121995.png\n",
      "training_data/augmented_imgs/dramatic_121996.png\n",
      "training_data/augmented_imgs/dramatic_121997.png\n",
      "training_data/augmented_imgs/dramatic_121998.png\n",
      "training_data/augmented_imgs/dramatic_121999.png\n",
      "training_data/augmented_imgs/normal_814990.png\n",
      "training_data/augmented_imgs/normal_814991.png\n",
      "training_data/augmented_imgs/normal_814992.png\n",
      "training_data/augmented_imgs/normal_814993.png\n",
      "training_data/augmented_imgs/normal_814994.png\n",
      "training_data/augmented_imgs/normal_814995.png\n",
      "training_data/augmented_imgs/normal_814996.png\n",
      "training_data/augmented_imgs/normal_814997.png\n",
      "training_data/augmented_imgs/normal_814998.png\n",
      "training_data/augmented_imgs/normal_814999.png\n",
      "training_data/augmented_imgs/underarm_246990.png\n",
      "training_data/augmented_imgs/underarm_246991.png\n",
      "training_data/augmented_imgs/underarm_246992.png\n",
      "training_data/augmented_imgs/underarm_246993.png\n"
     ]
    },
    {
     "name": "stderr",
     "output_type": "stream",
     "text": [
      "/home/ale/anaconda3/envs/tensor20/lib/python3.6/site-packages/fastai/vision/transform.py:243: UserWarning: torch.gesv is deprecated in favour of torch.solve and will be removed in the next release. Please use torch.solve instead.\n",
      "  return torch.gesv(B,A)[0][:,0]\n"
     ]
    },
    {
     "name": "stdout",
     "output_type": "stream",
     "text": [
      "training_data/augmented_imgs/underarm_246994.png\n",
      "training_data/augmented_imgs/underarm_246995.png\n",
      "training_data/augmented_imgs/underarm_246996.png\n",
      "training_data/augmented_imgs/underarm_246997.png\n",
      "training_data/augmented_imgs/underarm_246998.png\n",
      "training_data/augmented_imgs/underarm_246999.png\n",
      "training_data/augmented_imgs/fly_52990.png\n",
      "training_data/augmented_imgs/fly_52991.png\n",
      "training_data/augmented_imgs/fly_52992.png\n",
      "training_data/augmented_imgs/fly_52993.png\n",
      "training_data/augmented_imgs/fly_52994.png\n",
      "training_data/augmented_imgs/fly_52995.png\n",
      "training_data/augmented_imgs/fly_52996.png\n",
      "training_data/augmented_imgs/fly_52997.png\n",
      "training_data/augmented_imgs/fly_52998.png\n",
      "training_data/augmented_imgs/fly_52999.png\n",
      "training_data/augmented_imgs/normal_809990.png\n",
      "training_data/augmented_imgs/normal_809991.png\n",
      "training_data/augmented_imgs/normal_809992.png\n",
      "training_data/augmented_imgs/normal_809993.png\n"
     ]
    },
    {
     "name": "stderr",
     "output_type": "stream",
     "text": [
      "/home/ale/anaconda3/envs/tensor20/lib/python3.6/site-packages/fastai/vision/transform.py:243: UserWarning: torch.gesv is deprecated in favour of torch.solve and will be removed in the next release. Please use torch.solve instead.\n",
      "  return torch.gesv(B,A)[0][:,0]\n"
     ]
    },
    {
     "name": "stdout",
     "output_type": "stream",
     "text": [
      "training_data/augmented_imgs/normal_809994.png\n",
      "training_data/augmented_imgs/normal_809995.png\n",
      "training_data/augmented_imgs/normal_809996.png\n",
      "training_data/augmented_imgs/normal_809997.png\n",
      "training_data/augmented_imgs/normal_809998.png\n",
      "training_data/augmented_imgs/normal_809999.png\n",
      "training_data/augmented_imgs/fly_429990.png\n",
      "training_data/augmented_imgs/fly_429991.png\n",
      "training_data/augmented_imgs/fly_429992.png\n"
     ]
    },
    {
     "name": "stderr",
     "output_type": "stream",
     "text": [
      "/home/ale/anaconda3/envs/tensor20/lib/python3.6/site-packages/fastai/vision/transform.py:243: UserWarning: torch.gesv is deprecated in favour of torch.solve and will be removed in the next release. Please use torch.solve instead.\n",
      "  return torch.gesv(B,A)[0][:,0]\n"
     ]
    },
    {
     "name": "stdout",
     "output_type": "stream",
     "text": [
      "training_data/augmented_imgs/fly_429993.png\n",
      "training_data/augmented_imgs/fly_429994.png\n",
      "training_data/augmented_imgs/fly_429995.png\n",
      "training_data/augmented_imgs/fly_429996.png\n",
      "training_data/augmented_imgs/fly_429997.png\n",
      "training_data/augmented_imgs/fly_429998.png\n",
      "training_data/augmented_imgs/fly_429999.png\n",
      "training_data/augmented_imgs/moonwalk_1230990.png\n",
      "training_data/augmented_imgs/moonwalk_1230991.png\n",
      "training_data/augmented_imgs/moonwalk_1230992.png\n",
      "training_data/augmented_imgs/moonwalk_1230993.png\n",
      "training_data/augmented_imgs/moonwalk_1230994.png\n",
      "training_data/augmented_imgs/moonwalk_1230995.png\n",
      "training_data/augmented_imgs/moonwalk_1230996.png\n",
      "training_data/augmented_imgs/moonwalk_1230997.png\n",
      "training_data/augmented_imgs/moonwalk_1230998.png\n",
      "training_data/augmented_imgs/moonwalk_1230999.png\n",
      "training_data/augmented_imgs/fly_844990.png\n",
      "training_data/augmented_imgs/fly_844991.png\n",
      "training_data/augmented_imgs/fly_844992.png\n"
     ]
    },
    {
     "name": "stderr",
     "output_type": "stream",
     "text": [
      "/home/ale/anaconda3/envs/tensor20/lib/python3.6/site-packages/fastai/vision/transform.py:243: UserWarning: torch.gesv is deprecated in favour of torch.solve and will be removed in the next release. Please use torch.solve instead.\n",
      "  return torch.gesv(B,A)[0][:,0]\n",
      "/home/ale/anaconda3/envs/tensor20/lib/python3.6/site-packages/fastai/vision/transform.py:243: UserWarning: torch.gesv is deprecated in favour of torch.solve and will be removed in the next release. Please use torch.solve instead.\n",
      "  return torch.gesv(B,A)[0][:,0]\n"
     ]
    },
    {
     "name": "stdout",
     "output_type": "stream",
     "text": [
      "training_data/augmented_imgs/fly_844993.png\n",
      "training_data/augmented_imgs/fly_844994.png\n",
      "training_data/augmented_imgs/fly_844995.png\n",
      "training_data/augmented_imgs/fly_844996.png\n",
      "training_data/augmented_imgs/fly_844997.png\n",
      "training_data/augmented_imgs/fly_844998.png\n",
      "training_data/augmented_imgs/fly_844999.png\n",
      "training_data/augmented_imgs/underarm_455990.png\n",
      "training_data/augmented_imgs/underarm_455991.png\n"
     ]
    },
    {
     "name": "stderr",
     "output_type": "stream",
     "text": [
      "/home/ale/anaconda3/envs/tensor20/lib/python3.6/site-packages/fastai/vision/transform.py:243: UserWarning: torch.gesv is deprecated in favour of torch.solve and will be removed in the next release. Please use torch.solve instead.\n",
      "  return torch.gesv(B,A)[0][:,0]\n"
     ]
    },
    {
     "name": "stdout",
     "output_type": "stream",
     "text": [
      "training_data/augmented_imgs/underarm_455992.png\n",
      "training_data/augmented_imgs/underarm_455993.png\n",
      "training_data/augmented_imgs/underarm_455994.png\n",
      "training_data/augmented_imgs/underarm_455995.png\n",
      "training_data/augmented_imgs/underarm_455996.png\n",
      "training_data/augmented_imgs/underarm_455997.png\n",
      "training_data/augmented_imgs/underarm_455998.png\n",
      "training_data/augmented_imgs/underarm_455999.png\n",
      "training_data/augmented_imgs/moonwalk_906990.png\n"
     ]
    },
    {
     "name": "stderr",
     "output_type": "stream",
     "text": [
      "/home/ale/anaconda3/envs/tensor20/lib/python3.6/site-packages/fastai/vision/transform.py:243: UserWarning: torch.gesv is deprecated in favour of torch.solve and will be removed in the next release. Please use torch.solve instead.\n",
      "  return torch.gesv(B,A)[0][:,0]\n"
     ]
    },
    {
     "name": "stdout",
     "output_type": "stream",
     "text": [
      "training_data/augmented_imgs/moonwalk_906991.png\n",
      "training_data/augmented_imgs/moonwalk_906992.png\n",
      "training_data/augmented_imgs/moonwalk_906993.png\n",
      "training_data/augmented_imgs/moonwalk_906994.png\n",
      "training_data/augmented_imgs/moonwalk_906995.png\n",
      "training_data/augmented_imgs/moonwalk_906996.png\n",
      "training_data/augmented_imgs/moonwalk_906997.png\n",
      "training_data/augmented_imgs/moonwalk_906998.png\n",
      "training_data/augmented_imgs/moonwalk_906999.png\n",
      "training_data/augmented_imgs/hadouken_977990.png\n",
      "training_data/augmented_imgs/hadouken_977991.png\n",
      "training_data/augmented_imgs/hadouken_977992.png\n",
      "training_data/augmented_imgs/hadouken_977993.png\n",
      "training_data/augmented_imgs/hadouken_977994.png\n",
      "training_data/augmented_imgs/hadouken_977995.png\n",
      "training_data/augmented_imgs/hadouken_977996.png\n",
      "training_data/augmented_imgs/hadouken_977997.png\n",
      "training_data/augmented_imgs/hadouken_977998.png\n",
      "training_data/augmented_imgs/hadouken_977999.png\n"
     ]
    },
    {
     "name": "stderr",
     "output_type": "stream",
     "text": [
      "/home/ale/anaconda3/envs/tensor20/lib/python3.6/site-packages/fastai/vision/transform.py:243: UserWarning: torch.gesv is deprecated in favour of torch.solve and will be removed in the next release. Please use torch.solve instead.\n",
      "  return torch.gesv(B,A)[0][:,0]\n"
     ]
    },
    {
     "name": "stdout",
     "output_type": "stream",
     "text": [
      "training_data/augmented_imgs/hadouken_503990.png\n",
      "training_data/augmented_imgs/hadouken_503991.png\n",
      "training_data/augmented_imgs/hadouken_503992.png\n",
      "training_data/augmented_imgs/hadouken_503993.png\n",
      "training_data/augmented_imgs/hadouken_503994.png\n",
      "training_data/augmented_imgs/hadouken_503995.png\n",
      "training_data/augmented_imgs/hadouken_503996.png\n",
      "training_data/augmented_imgs/hadouken_503997.png\n",
      "training_data/augmented_imgs/hadouken_503998.png\n",
      "training_data/augmented_imgs/hadouken_503999.png\n",
      "training_data/augmented_imgs/moonwalk_488990.png\n"
     ]
    },
    {
     "name": "stderr",
     "output_type": "stream",
     "text": [
      "/home/ale/anaconda3/envs/tensor20/lib/python3.6/site-packages/fastai/vision/transform.py:243: UserWarning: torch.gesv is deprecated in favour of torch.solve and will be removed in the next release. Please use torch.solve instead.\n",
      "  return torch.gesv(B,A)[0][:,0]\n",
      "/home/ale/anaconda3/envs/tensor20/lib/python3.6/site-packages/fastai/vision/transform.py:243: UserWarning: torch.gesv is deprecated in favour of torch.solve and will be removed in the next release. Please use torch.solve instead.\n",
      "  return torch.gesv(B,A)[0][:,0]\n"
     ]
    },
    {
     "name": "stdout",
     "output_type": "stream",
     "text": [
      "training_data/augmented_imgs/moonwalk_488991.png\n",
      "training_data/augmented_imgs/moonwalk_488992.png\n",
      "training_data/augmented_imgs/moonwalk_488993.png\n",
      "training_data/augmented_imgs/moonwalk_488994.png\n",
      "training_data/augmented_imgs/moonwalk_488995.png\n",
      "training_data/augmented_imgs/moonwalk_488996.png\n",
      "training_data/augmented_imgs/moonwalk_488997.png\n",
      "training_data/augmented_imgs/moonwalk_488998.png\n",
      "training_data/augmented_imgs/moonwalk_488999.png\n",
      "training_data/augmented_imgs/dramatic_930990.png\n",
      "training_data/augmented_imgs/dramatic_930991.png\n",
      "training_data/augmented_imgs/dramatic_930992.png\n",
      "training_data/augmented_imgs/dramatic_930993.png\n",
      "training_data/augmented_imgs/dramatic_930994.png\n",
      "training_data/augmented_imgs/dramatic_930995.png\n",
      "training_data/augmented_imgs/dramatic_930996.png\n",
      "training_data/augmented_imgs/dramatic_930997.png\n",
      "training_data/augmented_imgs/dramatic_930998.png\n",
      "training_data/augmented_imgs/dramatic_930999.png\n",
      "training_data/augmented_imgs/fly_453990.png\n",
      "training_data/augmented_imgs/fly_453991.png\n",
      "training_data/augmented_imgs/fly_453992.png\n",
      "training_data/augmented_imgs/fly_453993.png\n",
      "training_data/augmented_imgs/fly_453994.png\n",
      "training_data/augmented_imgs/fly_453995.png\n",
      "training_data/augmented_imgs/fly_453996.png\n",
      "training_data/augmented_imgs/fly_453997.png\n",
      "training_data/augmented_imgs/fly_453998.png\n",
      "training_data/augmented_imgs/fly_453999.png\n",
      "training_data/augmented_imgs/fly_452990.png\n"
     ]
    },
    {
     "name": "stderr",
     "output_type": "stream",
     "text": [
      "/home/ale/anaconda3/envs/tensor20/lib/python3.6/site-packages/fastai/vision/transform.py:243: UserWarning: torch.gesv is deprecated in favour of torch.solve and will be removed in the next release. Please use torch.solve instead.\n",
      "  return torch.gesv(B,A)[0][:,0]\n"
     ]
    },
    {
     "name": "stdout",
     "output_type": "stream",
     "text": [
      "training_data/augmented_imgs/fly_452991.png\n",
      "training_data/augmented_imgs/fly_452992.png\n",
      "training_data/augmented_imgs/fly_452993.png\n",
      "training_data/augmented_imgs/fly_452994.png\n",
      "training_data/augmented_imgs/fly_452995.png\n",
      "training_data/augmented_imgs/fly_452996.png\n",
      "training_data/augmented_imgs/fly_452997.png\n",
      "training_data/augmented_imgs/fly_452998.png\n",
      "training_data/augmented_imgs/fly_452999.png\n",
      "training_data/augmented_imgs/dramatic_570990.png\n",
      "training_data/augmented_imgs/dramatic_570991.png\n",
      "training_data/augmented_imgs/dramatic_570992.png\n",
      "training_data/augmented_imgs/dramatic_570993.png\n",
      "training_data/augmented_imgs/dramatic_570994.png\n",
      "training_data/augmented_imgs/dramatic_570995.png\n",
      "training_data/augmented_imgs/dramatic_570996.png\n",
      "training_data/augmented_imgs/dramatic_570997.png\n",
      "training_data/augmented_imgs/dramatic_570998.png\n",
      "training_data/augmented_imgs/dramatic_570999.png\n",
      "training_data/augmented_imgs/dramatic_123990.png\n",
      "training_data/augmented_imgs/dramatic_123991.png\n",
      "training_data/augmented_imgs/dramatic_123992.png\n",
      "training_data/augmented_imgs/dramatic_123993.png\n",
      "training_data/augmented_imgs/dramatic_123994.png\n",
      "training_data/augmented_imgs/dramatic_123995.png\n",
      "training_data/augmented_imgs/dramatic_123996.png\n",
      "training_data/augmented_imgs/dramatic_123997.png\n",
      "training_data/augmented_imgs/dramatic_123998.png\n",
      "training_data/augmented_imgs/dramatic_123999.png\n"
     ]
    },
    {
     "name": "stderr",
     "output_type": "stream",
     "text": [
      "/home/ale/anaconda3/envs/tensor20/lib/python3.6/site-packages/fastai/vision/transform.py:243: UserWarning: torch.gesv is deprecated in favour of torch.solve and will be removed in the next release. Please use torch.solve instead.\n",
      "  return torch.gesv(B,A)[0][:,0]\n",
      "/home/ale/anaconda3/envs/tensor20/lib/python3.6/site-packages/fastai/vision/transform.py:243: UserWarning: torch.gesv is deprecated in favour of torch.solve and will be removed in the next release. Please use torch.solve instead.\n",
      "  return torch.gesv(B,A)[0][:,0]\n"
     ]
    },
    {
     "name": "stdout",
     "output_type": "stream",
     "text": [
      "training_data/augmented_imgs/wings_833990.png\n",
      "training_data/augmented_imgs/wings_833991.png\n",
      "training_data/augmented_imgs/wings_833992.png\n",
      "training_data/augmented_imgs/wings_833993.png\n",
      "training_data/augmented_imgs/wings_833994.png\n",
      "training_data/augmented_imgs/wings_833995.png\n",
      "training_data/augmented_imgs/wings_833996.png\n",
      "training_data/augmented_imgs/wings_833997.png\n",
      "training_data/augmented_imgs/wings_833998.png\n",
      "training_data/augmented_imgs/wings_833999.png\n"
     ]
    },
    {
     "name": "stderr",
     "output_type": "stream",
     "text": [
      "/home/ale/anaconda3/envs/tensor20/lib/python3.6/site-packages/fastai/vision/transform.py:243: UserWarning: torch.gesv is deprecated in favour of torch.solve and will be removed in the next release. Please use torch.solve instead.\n",
      "  return torch.gesv(B,A)[0][:,0]\n"
     ]
    },
    {
     "name": "stdout",
     "output_type": "stream",
     "text": [
      "training_data/augmented_imgs/normal_7990.png\n",
      "training_data/augmented_imgs/normal_7991.png\n",
      "training_data/augmented_imgs/normal_7992.png\n",
      "training_data/augmented_imgs/normal_7993.png\n",
      "training_data/augmented_imgs/normal_7994.png\n",
      "training_data/augmented_imgs/normal_7995.png\n",
      "training_data/augmented_imgs/normal_7996.png\n",
      "training_data/augmented_imgs/normal_7997.png\n",
      "training_data/augmented_imgs/normal_7998.png\n",
      "training_data/augmented_imgs/normal_7999.png\n",
      "training_data/augmented_imgs/normal_11990.png\n",
      "training_data/augmented_imgs/normal_11991.png\n",
      "training_data/augmented_imgs/normal_11992.png\n",
      "training_data/augmented_imgs/normal_11993.png\n",
      "training_data/augmented_imgs/normal_11994.png\n",
      "training_data/augmented_imgs/normal_11995.png\n",
      "training_data/augmented_imgs/normal_11996.png\n",
      "training_data/augmented_imgs/normal_11997.png\n",
      "training_data/augmented_imgs/normal_11998.png\n",
      "training_data/augmented_imgs/normal_11999.png\n"
     ]
    },
    {
     "name": "stderr",
     "output_type": "stream",
     "text": [
      "/home/ale/anaconda3/envs/tensor20/lib/python3.6/site-packages/fastai/vision/transform.py:243: UserWarning: torch.gesv is deprecated in favour of torch.solve and will be removed in the next release. Please use torch.solve instead.\n",
      "  return torch.gesv(B,A)[0][:,0]\n",
      "/home/ale/anaconda3/envs/tensor20/lib/python3.6/site-packages/fastai/vision/transform.py:243: UserWarning: torch.gesv is deprecated in favour of torch.solve and will be removed in the next release. Please use torch.solve instead.\n",
      "  return torch.gesv(B,A)[0][:,0]\n"
     ]
    },
    {
     "name": "stdout",
     "output_type": "stream",
     "text": [
      "training_data/augmented_imgs/dramatic_281990.png\n",
      "training_data/augmented_imgs/dramatic_281991.png\n",
      "training_data/augmented_imgs/dramatic_281992.png\n",
      "training_data/augmented_imgs/dramatic_281993.png\n",
      "training_data/augmented_imgs/dramatic_281994.png\n",
      "training_data/augmented_imgs/dramatic_281995.png\n",
      "training_data/augmented_imgs/dramatic_281996.png\n",
      "training_data/augmented_imgs/dramatic_281997.png\n",
      "training_data/augmented_imgs/dramatic_281998.png\n",
      "training_data/augmented_imgs/dramatic_281999.png\n",
      "training_data/augmented_imgs/wings_219990.png\n",
      "training_data/augmented_imgs/wings_219991.png\n",
      "training_data/augmented_imgs/wings_219992.png\n",
      "training_data/augmented_imgs/wings_219993.png\n",
      "training_data/augmented_imgs/wings_219994.png\n",
      "training_data/augmented_imgs/wings_219995.png\n",
      "training_data/augmented_imgs/wings_219996.png\n",
      "training_data/augmented_imgs/wings_219997.png\n",
      "training_data/augmented_imgs/wings_219998.png\n",
      "training_data/augmented_imgs/wings_219999.png\n"
     ]
    },
    {
     "name": "stderr",
     "output_type": "stream",
     "text": [
      "/home/ale/anaconda3/envs/tensor20/lib/python3.6/site-packages/fastai/vision/transform.py:243: UserWarning: torch.gesv is deprecated in favour of torch.solve and will be removed in the next release. Please use torch.solve instead.\n",
      "  return torch.gesv(B,A)[0][:,0]\n"
     ]
    },
    {
     "name": "stdout",
     "output_type": "stream",
     "text": [
      "training_data/augmented_imgs/hadouken_1235990.png\n",
      "training_data/augmented_imgs/hadouken_1235991.png\n",
      "training_data/augmented_imgs/hadouken_1235992.png\n",
      "training_data/augmented_imgs/hadouken_1235993.png\n",
      "training_data/augmented_imgs/hadouken_1235994.png\n",
      "training_data/augmented_imgs/hadouken_1235995.png\n",
      "training_data/augmented_imgs/hadouken_1235996.png\n",
      "training_data/augmented_imgs/hadouken_1235997.png\n",
      "training_data/augmented_imgs/hadouken_1235998.png\n",
      "training_data/augmented_imgs/hadouken_1235999.png\n",
      "training_data/augmented_imgs/dramatic_132990.png\n",
      "training_data/augmented_imgs/dramatic_132991.png\n",
      "training_data/augmented_imgs/dramatic_132992.png\n",
      "training_data/augmented_imgs/dramatic_132993.png\n",
      "training_data/augmented_imgs/dramatic_132994.png\n",
      "training_data/augmented_imgs/dramatic_132995.png\n",
      "training_data/augmented_imgs/dramatic_132996.png\n",
      "training_data/augmented_imgs/dramatic_132997.png\n",
      "training_data/augmented_imgs/dramatic_132998.png\n"
     ]
    },
    {
     "name": "stderr",
     "output_type": "stream",
     "text": [
      "/home/ale/anaconda3/envs/tensor20/lib/python3.6/site-packages/fastai/vision/transform.py:243: UserWarning: torch.gesv is deprecated in favour of torch.solve and will be removed in the next release. Please use torch.solve instead.\n",
      "  return torch.gesv(B,A)[0][:,0]\n"
     ]
    },
    {
     "name": "stdout",
     "output_type": "stream",
     "text": [
      "training_data/augmented_imgs/dramatic_132999.png\n",
      "training_data/augmented_imgs/moonwalk_252990.png\n",
      "training_data/augmented_imgs/moonwalk_252991.png\n",
      "training_data/augmented_imgs/moonwalk_252992.png\n",
      "training_data/augmented_imgs/moonwalk_252993.png\n",
      "training_data/augmented_imgs/moonwalk_252994.png\n",
      "training_data/augmented_imgs/moonwalk_252995.png\n",
      "training_data/augmented_imgs/moonwalk_252996.png\n",
      "training_data/augmented_imgs/moonwalk_252997.png\n",
      "training_data/augmented_imgs/moonwalk_252998.png\n",
      "training_data/augmented_imgs/moonwalk_252999.png\n",
      "training_data/augmented_imgs/moonwalk_1228990.png\n",
      "training_data/augmented_imgs/moonwalk_1228991.png\n",
      "training_data/augmented_imgs/moonwalk_1228992.png\n",
      "training_data/augmented_imgs/moonwalk_1228993.png\n",
      "training_data/augmented_imgs/moonwalk_1228994.png\n",
      "training_data/augmented_imgs/moonwalk_1228995.png\n"
     ]
    },
    {
     "name": "stderr",
     "output_type": "stream",
     "text": [
      "/home/ale/anaconda3/envs/tensor20/lib/python3.6/site-packages/fastai/vision/transform.py:243: UserWarning: torch.gesv is deprecated in favour of torch.solve and will be removed in the next release. Please use torch.solve instead.\n",
      "  return torch.gesv(B,A)[0][:,0]\n"
     ]
    },
    {
     "name": "stdout",
     "output_type": "stream",
     "text": [
      "training_data/augmented_imgs/moonwalk_1228996.png\n",
      "training_data/augmented_imgs/moonwalk_1228997.png\n",
      "training_data/augmented_imgs/moonwalk_1228998.png\n",
      "training_data/augmented_imgs/moonwalk_1228999.png\n",
      "training_data/augmented_imgs/wings_21990.png\n",
      "training_data/augmented_imgs/wings_21991.png\n",
      "training_data/augmented_imgs/wings_21992.png\n",
      "training_data/augmented_imgs/wings_21993.png\n",
      "training_data/augmented_imgs/wings_21994.png\n",
      "training_data/augmented_imgs/wings_21995.png\n"
     ]
    },
    {
     "name": "stderr",
     "output_type": "stream",
     "text": [
      "/home/ale/anaconda3/envs/tensor20/lib/python3.6/site-packages/fastai/vision/transform.py:243: UserWarning: torch.gesv is deprecated in favour of torch.solve and will be removed in the next release. Please use torch.solve instead.\n",
      "  return torch.gesv(B,A)[0][:,0]\n",
      "/home/ale/anaconda3/envs/tensor20/lib/python3.6/site-packages/fastai/vision/transform.py:243: UserWarning: torch.gesv is deprecated in favour of torch.solve and will be removed in the next release. Please use torch.solve instead.\n",
      "  return torch.gesv(B,A)[0][:,0]\n"
     ]
    },
    {
     "name": "stdout",
     "output_type": "stream",
     "text": [
      "training_data/augmented_imgs/wings_21996.png\n",
      "training_data/augmented_imgs/wings_21997.png\n",
      "training_data/augmented_imgs/wings_21998.png\n",
      "training_data/augmented_imgs/wings_21999.png\n",
      "training_data/augmented_imgs/moonwalk_249990.png\n",
      "training_data/augmented_imgs/moonwalk_249991.png\n",
      "training_data/augmented_imgs/moonwalk_249992.png\n",
      "training_data/augmented_imgs/moonwalk_249993.png\n",
      "training_data/augmented_imgs/moonwalk_249994.png\n",
      "training_data/augmented_imgs/moonwalk_249995.png\n",
      "training_data/augmented_imgs/moonwalk_249996.png\n",
      "training_data/augmented_imgs/moonwalk_249997.png\n",
      "training_data/augmented_imgs/moonwalk_249998.png\n",
      "training_data/augmented_imgs/moonwalk_249999.png\n",
      "training_data/augmented_imgs/underarm_240990.png\n",
      "training_data/augmented_imgs/underarm_240991.png\n",
      "training_data/augmented_imgs/underarm_240992.png\n",
      "training_data/augmented_imgs/underarm_240993.png\n",
      "training_data/augmented_imgs/underarm_240994.png\n",
      "training_data/augmented_imgs/underarm_240995.png\n",
      "training_data/augmented_imgs/underarm_240996.png\n",
      "training_data/augmented_imgs/underarm_240997.png\n",
      "training_data/augmented_imgs/underarm_240998.png\n",
      "training_data/augmented_imgs/underarm_240999.png\n",
      "training_data/augmented_imgs/normal_10990.png\n",
      "training_data/augmented_imgs/normal_10991.png\n",
      "training_data/augmented_imgs/normal_10992.png\n",
      "training_data/augmented_imgs/normal_10993.png\n",
      "training_data/augmented_imgs/normal_10994.png\n",
      "training_data/augmented_imgs/normal_10995.png\n",
      "training_data/augmented_imgs/normal_10996.png\n",
      "training_data/augmented_imgs/normal_10997.png\n",
      "training_data/augmented_imgs/normal_10998.png\n",
      "training_data/augmented_imgs/normal_10999.png\n",
      "training_data/augmented_imgs/moonwalk_479990.png\n",
      "training_data/augmented_imgs/moonwalk_479991.png\n",
      "training_data/augmented_imgs/moonwalk_479992.png\n",
      "training_data/augmented_imgs/moonwalk_479993.png\n",
      "training_data/augmented_imgs/moonwalk_479994.png\n"
     ]
    },
    {
     "name": "stderr",
     "output_type": "stream",
     "text": [
      "/home/ale/anaconda3/envs/tensor20/lib/python3.6/site-packages/fastai/vision/transform.py:243: UserWarning: torch.gesv is deprecated in favour of torch.solve and will be removed in the next release. Please use torch.solve instead.\n",
      "  return torch.gesv(B,A)[0][:,0]\n",
      "/home/ale/anaconda3/envs/tensor20/lib/python3.6/site-packages/fastai/vision/transform.py:243: UserWarning: torch.gesv is deprecated in favour of torch.solve and will be removed in the next release. Please use torch.solve instead.\n",
      "  return torch.gesv(B,A)[0][:,0]\n"
     ]
    },
    {
     "name": "stdout",
     "output_type": "stream",
     "text": [
      "training_data/augmented_imgs/moonwalk_479995.png\n",
      "training_data/augmented_imgs/moonwalk_479996.png\n",
      "training_data/augmented_imgs/moonwalk_479997.png\n",
      "training_data/augmented_imgs/moonwalk_479998.png\n",
      "training_data/augmented_imgs/moonwalk_479999.png\n",
      "training_data/augmented_imgs/normal_810990.png\n",
      "training_data/augmented_imgs/normal_810991.png\n",
      "training_data/augmented_imgs/normal_810992.png\n",
      "training_data/augmented_imgs/normal_810993.png\n",
      "training_data/augmented_imgs/normal_810994.png\n"
     ]
    },
    {
     "name": "stderr",
     "output_type": "stream",
     "text": [
      "/home/ale/anaconda3/envs/tensor20/lib/python3.6/site-packages/fastai/vision/transform.py:243: UserWarning: torch.gesv is deprecated in favour of torch.solve and will be removed in the next release. Please use torch.solve instead.\n",
      "  return torch.gesv(B,A)[0][:,0]\n",
      "/home/ale/anaconda3/envs/tensor20/lib/python3.6/site-packages/fastai/vision/transform.py:243: UserWarning: torch.gesv is deprecated in favour of torch.solve and will be removed in the next release. Please use torch.solve instead.\n",
      "  return torch.gesv(B,A)[0][:,0]\n"
     ]
    },
    {
     "name": "stdout",
     "output_type": "stream",
     "text": [
      "training_data/augmented_imgs/normal_810995.png\n",
      "training_data/augmented_imgs/normal_810996.png\n",
      "training_data/augmented_imgs/normal_810997.png\n",
      "training_data/augmented_imgs/normal_810998.png\n",
      "training_data/augmented_imgs/normal_810999.png\n",
      "training_data/augmented_imgs/hadouken_501990.png\n",
      "training_data/augmented_imgs/hadouken_501991.png\n",
      "training_data/augmented_imgs/hadouken_501992.png\n",
      "training_data/augmented_imgs/hadouken_501993.png\n",
      "training_data/augmented_imgs/hadouken_501994.png\n",
      "training_data/augmented_imgs/hadouken_501995.png\n",
      "training_data/augmented_imgs/hadouken_501996.png\n",
      "training_data/augmented_imgs/hadouken_501997.png\n",
      "training_data/augmented_imgs/hadouken_501998.png\n",
      "training_data/augmented_imgs/hadouken_501999.png\n",
      "training_data/augmented_imgs/normal_1201990.png\n",
      "training_data/augmented_imgs/normal_1201991.png\n",
      "training_data/augmented_imgs/normal_1201992.png\n",
      "training_data/augmented_imgs/normal_1201993.png\n",
      "training_data/augmented_imgs/normal_1201994.png\n"
     ]
    },
    {
     "name": "stderr",
     "output_type": "stream",
     "text": [
      "/home/ale/anaconda3/envs/tensor20/lib/python3.6/site-packages/fastai/vision/transform.py:243: UserWarning: torch.gesv is deprecated in favour of torch.solve and will be removed in the next release. Please use torch.solve instead.\n",
      "  return torch.gesv(B,A)[0][:,0]\n"
     ]
    },
    {
     "name": "stdout",
     "output_type": "stream",
     "text": [
      "training_data/augmented_imgs/normal_1201995.png\n",
      "training_data/augmented_imgs/normal_1201996.png\n",
      "training_data/augmented_imgs/normal_1201997.png\n",
      "training_data/augmented_imgs/normal_1201998.png\n",
      "training_data/augmented_imgs/normal_1201999.png\n",
      "training_data/augmented_imgs/normal_405990.png\n",
      "training_data/augmented_imgs/normal_405991.png\n",
      "training_data/augmented_imgs/normal_405992.png\n",
      "training_data/augmented_imgs/normal_405993.png\n",
      "training_data/augmented_imgs/normal_405994.png\n",
      "training_data/augmented_imgs/normal_405995.png\n",
      "training_data/augmented_imgs/normal_405996.png\n",
      "training_data/augmented_imgs/normal_405997.png\n",
      "training_data/augmented_imgs/normal_405998.png\n",
      "training_data/augmented_imgs/normal_405999.png\n",
      "training_data/augmented_imgs/moonwalk_882990.png\n",
      "training_data/augmented_imgs/moonwalk_882991.png\n",
      "training_data/augmented_imgs/moonwalk_882992.png\n"
     ]
    },
    {
     "name": "stderr",
     "output_type": "stream",
     "text": [
      "/home/ale/anaconda3/envs/tensor20/lib/python3.6/site-packages/fastai/vision/transform.py:243: UserWarning: torch.gesv is deprecated in favour of torch.solve and will be removed in the next release. Please use torch.solve instead.\n",
      "  return torch.gesv(B,A)[0][:,0]\n",
      "/home/ale/anaconda3/envs/tensor20/lib/python3.6/site-packages/fastai/vision/transform.py:243: UserWarning: torch.gesv is deprecated in favour of torch.solve and will be removed in the next release. Please use torch.solve instead.\n",
      "  return torch.gesv(B,A)[0][:,0]\n"
     ]
    },
    {
     "name": "stdout",
     "output_type": "stream",
     "text": [
      "training_data/augmented_imgs/moonwalk_882993.png\n",
      "training_data/augmented_imgs/moonwalk_882994.png\n",
      "training_data/augmented_imgs/moonwalk_882995.png\n",
      "training_data/augmented_imgs/moonwalk_882996.png\n",
      "training_data/augmented_imgs/moonwalk_882997.png\n",
      "training_data/augmented_imgs/moonwalk_882998.png\n",
      "training_data/augmented_imgs/moonwalk_882999.png\n",
      "training_data/augmented_imgs/wings_834990.png\n",
      "training_data/augmented_imgs/wings_834991.png\n",
      "training_data/augmented_imgs/wings_834992.png\n",
      "training_data/augmented_imgs/wings_834993.png\n",
      "training_data/augmented_imgs/wings_834994.png\n",
      "training_data/augmented_imgs/wings_834995.png\n",
      "training_data/augmented_imgs/wings_834996.png\n",
      "training_data/augmented_imgs/wings_834997.png\n",
      "training_data/augmented_imgs/wings_834998.png\n",
      "training_data/augmented_imgs/wings_834999.png\n",
      "training_data/augmented_imgs/dramatic_1260990.png\n"
     ]
    },
    {
     "name": "stderr",
     "output_type": "stream",
     "text": [
      "/home/ale/anaconda3/envs/tensor20/lib/python3.6/site-packages/fastai/vision/transform.py:243: UserWarning: torch.gesv is deprecated in favour of torch.solve and will be removed in the next release. Please use torch.solve instead.\n",
      "  return torch.gesv(B,A)[0][:,0]\n"
     ]
    },
    {
     "name": "stdout",
     "output_type": "stream",
     "text": [
      "training_data/augmented_imgs/dramatic_1260991.png\n",
      "training_data/augmented_imgs/dramatic_1260992.png\n",
      "training_data/augmented_imgs/dramatic_1260993.png\n",
      "training_data/augmented_imgs/dramatic_1260994.png\n",
      "training_data/augmented_imgs/dramatic_1260995.png\n",
      "training_data/augmented_imgs/dramatic_1260996.png\n",
      "training_data/augmented_imgs/dramatic_1260997.png\n",
      "training_data/augmented_imgs/dramatic_1260998.png\n",
      "training_data/augmented_imgs/dramatic_1260999.png\n",
      "training_data/augmented_imgs/backpack_1247990.png\n",
      "training_data/augmented_imgs/backpack_1247991.png\n",
      "training_data/augmented_imgs/backpack_1247992.png\n",
      "training_data/augmented_imgs/backpack_1247993.png\n",
      "training_data/augmented_imgs/backpack_1247994.png\n",
      "training_data/augmented_imgs/backpack_1247995.png\n",
      "training_data/augmented_imgs/backpack_1247996.png\n",
      "training_data/augmented_imgs/backpack_1247997.png\n",
      "training_data/augmented_imgs/backpack_1247998.png\n",
      "training_data/augmented_imgs/backpack_1247999.png\n"
     ]
    },
    {
     "name": "stderr",
     "output_type": "stream",
     "text": [
      "/home/ale/anaconda3/envs/tensor20/lib/python3.6/site-packages/fastai/vision/transform.py:243: UserWarning: torch.gesv is deprecated in favour of torch.solve and will be removed in the next release. Please use torch.solve instead.\n",
      "  return torch.gesv(B,A)[0][:,0]\n",
      "/home/ale/anaconda3/envs/tensor20/lib/python3.6/site-packages/fastai/vision/transform.py:243: UserWarning: torch.gesv is deprecated in favour of torch.solve and will be removed in the next release. Please use torch.solve instead.\n",
      "  return torch.gesv(B,A)[0][:,0]\n"
     ]
    },
    {
     "name": "stdout",
     "output_type": "stream",
     "text": [
      "training_data/augmented_imgs/underarm_461990.png\n",
      "training_data/augmented_imgs/underarm_461991.png\n",
      "training_data/augmented_imgs/underarm_461992.png\n",
      "training_data/augmented_imgs/underarm_461993.png\n",
      "training_data/augmented_imgs/underarm_461994.png\n",
      "training_data/augmented_imgs/underarm_461995.png\n",
      "training_data/augmented_imgs/underarm_461996.png\n",
      "training_data/augmented_imgs/underarm_461997.png\n",
      "training_data/augmented_imgs/underarm_461998.png\n",
      "training_data/augmented_imgs/underarm_461999.png\n",
      "training_data/augmented_imgs/wings_830990.png\n",
      "training_data/augmented_imgs/wings_830991.png\n",
      "training_data/augmented_imgs/wings_830992.png\n",
      "training_data/augmented_imgs/wings_830993.png\n",
      "training_data/augmented_imgs/wings_830994.png\n",
      "training_data/augmented_imgs/wings_830995.png\n",
      "training_data/augmented_imgs/wings_830996.png\n",
      "training_data/augmented_imgs/wings_830997.png\n",
      "training_data/augmented_imgs/wings_830998.png\n",
      "training_data/augmented_imgs/wings_830999.png\n",
      "training_data/augmented_imgs/fly_443990.png\n"
     ]
    },
    {
     "name": "stderr",
     "output_type": "stream",
     "text": [
      "/home/ale/anaconda3/envs/tensor20/lib/python3.6/site-packages/fastai/vision/transform.py:243: UserWarning: torch.gesv is deprecated in favour of torch.solve and will be removed in the next release. Please use torch.solve instead.\n",
      "  return torch.gesv(B,A)[0][:,0]\n",
      "/home/ale/anaconda3/envs/tensor20/lib/python3.6/site-packages/fastai/vision/transform.py:243: UserWarning: torch.gesv is deprecated in favour of torch.solve and will be removed in the next release. Please use torch.solve instead.\n",
      "  return torch.gesv(B,A)[0][:,0]\n"
     ]
    },
    {
     "name": "stdout",
     "output_type": "stream",
     "text": [
      "training_data/augmented_imgs/fly_443991.png\n",
      "training_data/augmented_imgs/fly_443992.png\n",
      "training_data/augmented_imgs/fly_443993.png\n",
      "training_data/augmented_imgs/fly_443994.png\n",
      "training_data/augmented_imgs/fly_443995.png\n",
      "training_data/augmented_imgs/fly_443996.png\n",
      "training_data/augmented_imgs/fly_443997.png\n",
      "training_data/augmented_imgs/fly_443998.png\n",
      "training_data/augmented_imgs/fly_443999.png\n",
      "training_data/augmented_imgs/hadouken_1231990.png\n",
      "training_data/augmented_imgs/hadouken_1231991.png\n",
      "training_data/augmented_imgs/hadouken_1231992.png\n",
      "training_data/augmented_imgs/hadouken_1231993.png\n",
      "training_data/augmented_imgs/hadouken_1231994.png\n",
      "training_data/augmented_imgs/hadouken_1231995.png\n",
      "training_data/augmented_imgs/hadouken_1231996.png\n",
      "training_data/augmented_imgs/hadouken_1231997.png\n",
      "training_data/augmented_imgs/hadouken_1231998.png\n",
      "training_data/augmented_imgs/hadouken_1231999.png\n",
      "training_data/augmented_imgs/dramatic_554990.png\n"
     ]
    },
    {
     "name": "stderr",
     "output_type": "stream",
     "text": [
      "/home/ale/anaconda3/envs/tensor20/lib/python3.6/site-packages/fastai/vision/transform.py:243: UserWarning: torch.gesv is deprecated in favour of torch.solve and will be removed in the next release. Please use torch.solve instead.\n",
      "  return torch.gesv(B,A)[0][:,0]\n"
     ]
    },
    {
     "name": "stdout",
     "output_type": "stream",
     "text": [
      "training_data/augmented_imgs/dramatic_554991.png\n",
      "training_data/augmented_imgs/dramatic_554992.png\n",
      "training_data/augmented_imgs/dramatic_554993.png\n",
      "training_data/augmented_imgs/dramatic_554994.png\n",
      "training_data/augmented_imgs/dramatic_554995.png\n",
      "training_data/augmented_imgs/dramatic_554996.png\n",
      "training_data/augmented_imgs/dramatic_554997.png\n",
      "training_data/augmented_imgs/dramatic_554998.png\n",
      "training_data/augmented_imgs/dramatic_554999.png\n"
     ]
    },
    {
     "name": "stderr",
     "output_type": "stream",
     "text": [
      "/home/ale/anaconda3/envs/tensor20/lib/python3.6/site-packages/fastai/vision/transform.py:243: UserWarning: torch.gesv is deprecated in favour of torch.solve and will be removed in the next release. Please use torch.solve instead.\n",
      "  return torch.gesv(B,A)[0][:,0]\n"
     ]
    },
    {
     "name": "stdout",
     "output_type": "stream",
     "text": [
      "training_data/augmented_imgs/dramatic_283990.png\n",
      "training_data/augmented_imgs/dramatic_283991.png\n",
      "training_data/augmented_imgs/dramatic_283992.png\n",
      "training_data/augmented_imgs/dramatic_283993.png\n",
      "training_data/augmented_imgs/dramatic_283994.png\n",
      "training_data/augmented_imgs/dramatic_283995.png\n",
      "training_data/augmented_imgs/dramatic_283996.png\n",
      "training_data/augmented_imgs/dramatic_283997.png\n",
      "training_data/augmented_imgs/dramatic_283998.png\n",
      "training_data/augmented_imgs/dramatic_283999.png\n",
      "training_data/augmented_imgs/fly_53990.png\n",
      "training_data/augmented_imgs/fly_53991.png\n",
      "training_data/augmented_imgs/fly_53992.png\n",
      "training_data/augmented_imgs/fly_53993.png\n",
      "training_data/augmented_imgs/fly_53994.png\n",
      "training_data/augmented_imgs/fly_53995.png\n",
      "training_data/augmented_imgs/fly_53996.png\n",
      "training_data/augmented_imgs/fly_53997.png\n",
      "training_data/augmented_imgs/fly_53998.png\n"
     ]
    },
    {
     "name": "stderr",
     "output_type": "stream",
     "text": [
      "/home/ale/anaconda3/envs/tensor20/lib/python3.6/site-packages/fastai/vision/transform.py:243: UserWarning: torch.gesv is deprecated in favour of torch.solve and will be removed in the next release. Please use torch.solve instead.\n",
      "  return torch.gesv(B,A)[0][:,0]\n",
      "/home/ale/anaconda3/envs/tensor20/lib/python3.6/site-packages/fastai/vision/transform.py:243: UserWarning: torch.gesv is deprecated in favour of torch.solve and will be removed in the next release. Please use torch.solve instead.\n",
      "  return torch.gesv(B,A)[0][:,0]\n"
     ]
    },
    {
     "name": "stdout",
     "output_type": "stream",
     "text": [
      "training_data/augmented_imgs/fly_53999.png\n",
      "training_data/augmented_imgs/normal_401990.png\n",
      "training_data/augmented_imgs/normal_401991.png\n",
      "training_data/augmented_imgs/normal_401992.png\n",
      "training_data/augmented_imgs/normal_401993.png\n",
      "training_data/augmented_imgs/normal_401994.png\n",
      "training_data/augmented_imgs/normal_401995.png\n",
      "training_data/augmented_imgs/normal_401996.png\n",
      "training_data/augmented_imgs/normal_401997.png\n",
      "training_data/augmented_imgs/normal_401998.png\n",
      "training_data/augmented_imgs/normal_401999.png\n",
      "training_data/augmented_imgs/fly_449990.png\n",
      "training_data/augmented_imgs/fly_449991.png\n",
      "training_data/augmented_imgs/fly_449992.png\n",
      "training_data/augmented_imgs/fly_449993.png\n",
      "training_data/augmented_imgs/fly_449994.png\n",
      "training_data/augmented_imgs/fly_449995.png\n",
      "training_data/augmented_imgs/fly_449996.png\n",
      "training_data/augmented_imgs/fly_449997.png\n",
      "training_data/augmented_imgs/fly_449998.png\n",
      "training_data/augmented_imgs/fly_449999.png\n",
      "training_data/augmented_imgs/hadouken_502990.png\n",
      "training_data/augmented_imgs/hadouken_502991.png\n",
      "training_data/augmented_imgs/hadouken_502992.png\n",
      "training_data/augmented_imgs/hadouken_502993.png\n",
      "training_data/augmented_imgs/hadouken_502994.png\n",
      "training_data/augmented_imgs/hadouken_502995.png\n",
      "training_data/augmented_imgs/hadouken_502996.png\n",
      "training_data/augmented_imgs/hadouken_502997.png\n",
      "training_data/augmented_imgs/hadouken_502998.png\n",
      "training_data/augmented_imgs/hadouken_502999.png\n",
      "training_data/augmented_imgs/moonwalk_878990.png\n"
     ]
    },
    {
     "name": "stderr",
     "output_type": "stream",
     "text": [
      "/home/ale/anaconda3/envs/tensor20/lib/python3.6/site-packages/fastai/vision/transform.py:243: UserWarning: torch.gesv is deprecated in favour of torch.solve and will be removed in the next release. Please use torch.solve instead.\n",
      "  return torch.gesv(B,A)[0][:,0]\n",
      "/home/ale/anaconda3/envs/tensor20/lib/python3.6/site-packages/fastai/vision/transform.py:243: UserWarning: torch.gesv is deprecated in favour of torch.solve and will be removed in the next release. Please use torch.solve instead.\n",
      "  return torch.gesv(B,A)[0][:,0]\n"
     ]
    },
    {
     "name": "stdout",
     "output_type": "stream",
     "text": [
      "training_data/augmented_imgs/moonwalk_878991.png\n",
      "training_data/augmented_imgs/moonwalk_878992.png\n",
      "training_data/augmented_imgs/moonwalk_878993.png\n",
      "training_data/augmented_imgs/moonwalk_878994.png\n",
      "training_data/augmented_imgs/moonwalk_878995.png\n",
      "training_data/augmented_imgs/moonwalk_878996.png\n",
      "training_data/augmented_imgs/moonwalk_878997.png\n",
      "training_data/augmented_imgs/moonwalk_878998.png\n",
      "training_data/augmented_imgs/moonwalk_878999.png\n",
      "training_data/augmented_imgs/normal_3990.png\n",
      "training_data/augmented_imgs/normal_3991.png\n",
      "training_data/augmented_imgs/normal_3992.png\n",
      "training_data/augmented_imgs/normal_3993.png\n",
      "training_data/augmented_imgs/normal_3994.png\n",
      "training_data/augmented_imgs/normal_3995.png\n",
      "training_data/augmented_imgs/normal_3996.png\n",
      "training_data/augmented_imgs/normal_3997.png\n"
     ]
    },
    {
     "name": "stderr",
     "output_type": "stream",
     "text": [
      "/home/ale/anaconda3/envs/tensor20/lib/python3.6/site-packages/fastai/vision/transform.py:243: UserWarning: torch.gesv is deprecated in favour of torch.solve and will be removed in the next release. Please use torch.solve instead.\n",
      "  return torch.gesv(B,A)[0][:,0]\n"
     ]
    },
    {
     "name": "stdout",
     "output_type": "stream",
     "text": [
      "training_data/augmented_imgs/normal_3998.png\n",
      "training_data/augmented_imgs/normal_3999.png\n",
      "training_data/augmented_imgs/fly_450990.png\n",
      "training_data/augmented_imgs/fly_450991.png\n",
      "training_data/augmented_imgs/fly_450992.png\n",
      "training_data/augmented_imgs/fly_450993.png\n",
      "training_data/augmented_imgs/fly_450994.png\n",
      "training_data/augmented_imgs/fly_450995.png\n"
     ]
    },
    {
     "name": "stderr",
     "output_type": "stream",
     "text": [
      "/home/ale/anaconda3/envs/tensor20/lib/python3.6/site-packages/fastai/vision/transform.py:243: UserWarning: torch.gesv is deprecated in favour of torch.solve and will be removed in the next release. Please use torch.solve instead.\n",
      "  return torch.gesv(B,A)[0][:,0]\n",
      "/home/ale/anaconda3/envs/tensor20/lib/python3.6/site-packages/fastai/vision/transform.py:243: UserWarning: torch.gesv is deprecated in favour of torch.solve and will be removed in the next release. Please use torch.solve instead.\n",
      "  return torch.gesv(B,A)[0][:,0]\n"
     ]
    },
    {
     "name": "stdout",
     "output_type": "stream",
     "text": [
      "training_data/augmented_imgs/fly_450996.png\n",
      "training_data/augmented_imgs/fly_450997.png\n",
      "training_data/augmented_imgs/fly_450998.png\n",
      "training_data/augmented_imgs/fly_450999.png\n",
      "training_data/augmented_imgs/backpack_110990.png\n",
      "training_data/augmented_imgs/backpack_110991.png\n",
      "training_data/augmented_imgs/backpack_110992.png\n",
      "training_data/augmented_imgs/backpack_110993.png\n",
      "training_data/augmented_imgs/backpack_110994.png\n",
      "training_data/augmented_imgs/backpack_110995.png\n",
      "training_data/augmented_imgs/backpack_110996.png\n",
      "training_data/augmented_imgs/backpack_110997.png\n",
      "training_data/augmented_imgs/backpack_110998.png\n",
      "training_data/augmented_imgs/backpack_110999.png\n",
      "training_data/augmented_imgs/normal_802990.png\n",
      "training_data/augmented_imgs/normal_802991.png\n",
      "training_data/augmented_imgs/normal_802992.png\n",
      "training_data/augmented_imgs/normal_802993.png\n",
      "training_data/augmented_imgs/normal_802994.png\n",
      "training_data/augmented_imgs/normal_802995.png\n",
      "training_data/augmented_imgs/normal_802996.png\n",
      "training_data/augmented_imgs/normal_802997.png\n",
      "training_data/augmented_imgs/normal_802998.png\n",
      "training_data/augmented_imgs/normal_802999.png\n",
      "training_data/augmented_imgs/normal_5990.png\n",
      "training_data/augmented_imgs/normal_5991.png\n",
      "training_data/augmented_imgs/normal_5992.png\n",
      "training_data/augmented_imgs/normal_5993.png\n",
      "training_data/augmented_imgs/normal_5994.png\n",
      "training_data/augmented_imgs/normal_5995.png\n",
      "training_data/augmented_imgs/normal_5996.png\n"
     ]
    },
    {
     "name": "stderr",
     "output_type": "stream",
     "text": [
      "/home/ale/anaconda3/envs/tensor20/lib/python3.6/site-packages/fastai/vision/transform.py:243: UserWarning: torch.gesv is deprecated in favour of torch.solve and will be removed in the next release. Please use torch.solve instead.\n",
      "  return torch.gesv(B,A)[0][:,0]\n",
      "/home/ale/anaconda3/envs/tensor20/lib/python3.6/site-packages/fastai/vision/transform.py:243: UserWarning: torch.gesv is deprecated in favour of torch.solve and will be removed in the next release. Please use torch.solve instead.\n",
      "  return torch.gesv(B,A)[0][:,0]\n"
     ]
    },
    {
     "name": "stdout",
     "output_type": "stream",
     "text": [
      "training_data/augmented_imgs/normal_5997.png\n",
      "training_data/augmented_imgs/normal_5998.png\n",
      "training_data/augmented_imgs/normal_5999.png\n",
      "training_data/augmented_imgs/normal_808990.png\n",
      "training_data/augmented_imgs/normal_808991.png\n",
      "training_data/augmented_imgs/normal_808992.png\n",
      "training_data/augmented_imgs/normal_808993.png\n",
      "training_data/augmented_imgs/normal_808994.png\n",
      "training_data/augmented_imgs/normal_808995.png\n",
      "training_data/augmented_imgs/normal_808996.png\n",
      "training_data/augmented_imgs/normal_808997.png\n",
      "training_data/augmented_imgs/normal_808998.png\n",
      "training_data/augmented_imgs/normal_808999.png\n",
      "training_data/augmented_imgs/hadouken_494990.png\n",
      "training_data/augmented_imgs/hadouken_494991.png\n",
      "training_data/augmented_imgs/hadouken_494992.png\n",
      "training_data/augmented_imgs/hadouken_494993.png\n",
      "training_data/augmented_imgs/hadouken_494994.png\n",
      "training_data/augmented_imgs/hadouken_494995.png\n",
      "training_data/augmented_imgs/hadouken_494996.png\n"
     ]
    },
    {
     "name": "stderr",
     "output_type": "stream",
     "text": [
      "/home/ale/anaconda3/envs/tensor20/lib/python3.6/site-packages/fastai/vision/transform.py:243: UserWarning: torch.gesv is deprecated in favour of torch.solve and will be removed in the next release. Please use torch.solve instead.\n",
      "  return torch.gesv(B,A)[0][:,0]\n"
     ]
    },
    {
     "name": "stdout",
     "output_type": "stream",
     "text": [
      "training_data/augmented_imgs/hadouken_494997.png\n",
      "training_data/augmented_imgs/hadouken_494998.png\n",
      "training_data/augmented_imgs/hadouken_494999.png\n",
      "training_data/augmented_imgs/fly_50990.png\n",
      "training_data/augmented_imgs/fly_50991.png\n",
      "training_data/augmented_imgs/fly_50992.png\n",
      "training_data/augmented_imgs/fly_50993.png\n",
      "training_data/augmented_imgs/fly_50994.png\n",
      "training_data/augmented_imgs/fly_50995.png\n",
      "training_data/augmented_imgs/fly_50996.png\n",
      "training_data/augmented_imgs/fly_50997.png\n",
      "training_data/augmented_imgs/fly_50998.png\n",
      "training_data/augmented_imgs/fly_50999.png\n",
      "training_data/augmented_imgs/dramatic_548990.png\n",
      "training_data/augmented_imgs/dramatic_548991.png\n",
      "training_data/augmented_imgs/dramatic_548992.png\n",
      "training_data/augmented_imgs/dramatic_548993.png\n",
      "training_data/augmented_imgs/dramatic_548994.png\n",
      "training_data/augmented_imgs/dramatic_548995.png\n",
      "training_data/augmented_imgs/dramatic_548996.png\n",
      "training_data/augmented_imgs/dramatic_548997.png\n",
      "training_data/augmented_imgs/dramatic_548998.png\n",
      "training_data/augmented_imgs/dramatic_548999.png\n",
      "training_data/augmented_imgs/wings_422990.png\n",
      "training_data/augmented_imgs/wings_422991.png\n",
      "training_data/augmented_imgs/wings_422992.png\n",
      "training_data/augmented_imgs/wings_422993.png\n"
     ]
    },
    {
     "name": "stderr",
     "output_type": "stream",
     "text": [
      "/home/ale/anaconda3/envs/tensor20/lib/python3.6/site-packages/fastai/vision/transform.py:243: UserWarning: torch.gesv is deprecated in favour of torch.solve and will be removed in the next release. Please use torch.solve instead.\n",
      "  return torch.gesv(B,A)[0][:,0]\n",
      "/home/ale/anaconda3/envs/tensor20/lib/python3.6/site-packages/fastai/vision/transform.py:243: UserWarning: torch.gesv is deprecated in favour of torch.solve and will be removed in the next release. Please use torch.solve instead.\n",
      "  return torch.gesv(B,A)[0][:,0]\n"
     ]
    },
    {
     "name": "stdout",
     "output_type": "stream",
     "text": [
      "training_data/augmented_imgs/wings_422994.png\n",
      "training_data/augmented_imgs/wings_422995.png\n",
      "training_data/augmented_imgs/wings_422996.png\n",
      "training_data/augmented_imgs/wings_422997.png\n",
      "training_data/augmented_imgs/wings_422998.png\n",
      "training_data/augmented_imgs/wings_422999.png\n",
      "training_data/augmented_imgs/dramatic_1252990.png\n",
      "training_data/augmented_imgs/dramatic_1252991.png\n",
      "training_data/augmented_imgs/dramatic_1252992.png\n"
     ]
    },
    {
     "name": "stderr",
     "output_type": "stream",
     "text": [
      "/home/ale/anaconda3/envs/tensor20/lib/python3.6/site-packages/fastai/vision/transform.py:243: UserWarning: torch.gesv is deprecated in favour of torch.solve and will be removed in the next release. Please use torch.solve instead.\n",
      "  return torch.gesv(B,A)[0][:,0]\n"
     ]
    },
    {
     "name": "stdout",
     "output_type": "stream",
     "text": [
      "training_data/augmented_imgs/dramatic_1252993.png\n",
      "training_data/augmented_imgs/dramatic_1252994.png\n",
      "training_data/augmented_imgs/dramatic_1252995.png\n",
      "training_data/augmented_imgs/dramatic_1252996.png\n",
      "training_data/augmented_imgs/dramatic_1252997.png\n",
      "training_data/augmented_imgs/dramatic_1252998.png\n",
      "training_data/augmented_imgs/dramatic_1252999.png\n",
      "training_data/augmented_imgs/underarm_467990.png\n",
      "training_data/augmented_imgs/underarm_467991.png\n"
     ]
    },
    {
     "name": "stderr",
     "output_type": "stream",
     "text": [
      "/home/ale/anaconda3/envs/tensor20/lib/python3.6/site-packages/fastai/vision/transform.py:243: UserWarning: torch.gesv is deprecated in favour of torch.solve and will be removed in the next release. Please use torch.solve instead.\n",
      "  return torch.gesv(B,A)[0][:,0]\n"
     ]
    },
    {
     "name": "stdout",
     "output_type": "stream",
     "text": [
      "training_data/augmented_imgs/underarm_467992.png\n",
      "training_data/augmented_imgs/underarm_467993.png\n",
      "training_data/augmented_imgs/underarm_467994.png\n",
      "training_data/augmented_imgs/underarm_467995.png\n",
      "training_data/augmented_imgs/underarm_467996.png\n",
      "training_data/augmented_imgs/underarm_467997.png\n",
      "training_data/augmented_imgs/underarm_467998.png\n",
      "training_data/augmented_imgs/underarm_467999.png\n",
      "training_data/augmented_imgs/dramatic_560990.png\n",
      "training_data/augmented_imgs/dramatic_560991.png\n",
      "training_data/augmented_imgs/dramatic_560992.png\n",
      "training_data/augmented_imgs/dramatic_560993.png\n",
      "training_data/augmented_imgs/dramatic_560994.png\n",
      "training_data/augmented_imgs/dramatic_560995.png\n",
      "training_data/augmented_imgs/dramatic_560996.png\n",
      "training_data/augmented_imgs/dramatic_560997.png\n",
      "training_data/augmented_imgs/dramatic_560998.png\n",
      "training_data/augmented_imgs/dramatic_560999.png\n"
     ]
    },
    {
     "name": "stderr",
     "output_type": "stream",
     "text": [
      "/home/ale/anaconda3/envs/tensor20/lib/python3.6/site-packages/fastai/vision/transform.py:243: UserWarning: torch.gesv is deprecated in favour of torch.solve and will be removed in the next release. Please use torch.solve instead.\n",
      "  return torch.gesv(B,A)[0][:,0]\n",
      "/home/ale/anaconda3/envs/tensor20/lib/python3.6/site-packages/fastai/vision/transform.py:243: UserWarning: torch.gesv is deprecated in favour of torch.solve and will be removed in the next release. Please use torch.solve instead.\n",
      "  return torch.gesv(B,A)[0][:,0]\n"
     ]
    },
    {
     "name": "stdout",
     "output_type": "stream",
     "text": [
      "training_data/augmented_imgs/backpack_106990.png\n",
      "training_data/augmented_imgs/backpack_106991.png\n",
      "training_data/augmented_imgs/backpack_106992.png\n",
      "training_data/augmented_imgs/backpack_106993.png\n",
      "training_data/augmented_imgs/backpack_106994.png\n",
      "training_data/augmented_imgs/backpack_106995.png\n",
      "training_data/augmented_imgs/backpack_106996.png\n",
      "training_data/augmented_imgs/backpack_106997.png\n",
      "training_data/augmented_imgs/backpack_106998.png\n",
      "training_data/augmented_imgs/backpack_106999.png\n",
      "training_data/augmented_imgs/normal_1207990.png\n",
      "training_data/augmented_imgs/normal_1207991.png\n",
      "training_data/augmented_imgs/normal_1207992.png\n",
      "training_data/augmented_imgs/normal_1207993.png\n",
      "training_data/augmented_imgs/normal_1207994.png\n",
      "training_data/augmented_imgs/normal_1207995.png\n",
      "training_data/augmented_imgs/normal_1207996.png\n",
      "training_data/augmented_imgs/normal_1207997.png\n",
      "training_data/augmented_imgs/normal_1207998.png\n"
     ]
    },
    {
     "name": "stderr",
     "output_type": "stream",
     "text": [
      "/home/ale/anaconda3/envs/tensor20/lib/python3.6/site-packages/fastai/vision/transform.py:243: UserWarning: torch.gesv is deprecated in favour of torch.solve and will be removed in the next release. Please use torch.solve instead.\n",
      "  return torch.gesv(B,A)[0][:,0]\n"
     ]
    },
    {
     "name": "stdout",
     "output_type": "stream",
     "text": [
      "training_data/augmented_imgs/normal_1207999.png\n",
      "training_data/augmented_imgs/fly_853990.png\n",
      "training_data/augmented_imgs/fly_853991.png\n",
      "training_data/augmented_imgs/fly_853992.png\n",
      "training_data/augmented_imgs/fly_853993.png\n",
      "training_data/augmented_imgs/fly_853994.png\n",
      "training_data/augmented_imgs/fly_853995.png\n",
      "training_data/augmented_imgs/fly_853996.png\n",
      "training_data/augmented_imgs/fly_853997.png\n"
     ]
    },
    {
     "name": "stderr",
     "output_type": "stream",
     "text": [
      "/home/ale/anaconda3/envs/tensor20/lib/python3.6/site-packages/fastai/vision/transform.py:243: UserWarning: torch.gesv is deprecated in favour of torch.solve and will be removed in the next release. Please use torch.solve instead.\n",
      "  return torch.gesv(B,A)[0][:,0]\n",
      "/home/ale/anaconda3/envs/tensor20/lib/python3.6/site-packages/fastai/vision/transform.py:243: UserWarning: torch.gesv is deprecated in favour of torch.solve and will be removed in the next release. Please use torch.solve instead.\n",
      "  return torch.gesv(B,A)[0][:,0]\n"
     ]
    },
    {
     "name": "stdout",
     "output_type": "stream",
     "text": [
      "training_data/augmented_imgs/fly_853998.png\n",
      "training_data/augmented_imgs/fly_853999.png\n",
      "training_data/augmented_imgs/dramatic_286990.png\n",
      "training_data/augmented_imgs/dramatic_286991.png\n",
      "training_data/augmented_imgs/dramatic_286992.png\n",
      "training_data/augmented_imgs/dramatic_286993.png\n",
      "training_data/augmented_imgs/dramatic_286994.png\n",
      "training_data/augmented_imgs/dramatic_286995.png\n",
      "training_data/augmented_imgs/dramatic_286996.png\n",
      "training_data/augmented_imgs/dramatic_286997.png\n",
      "training_data/augmented_imgs/dramatic_286998.png\n",
      "training_data/augmented_imgs/dramatic_286999.png\n",
      "training_data/augmented_imgs/underarm_875990.png\n",
      "training_data/augmented_imgs/underarm_875991.png\n",
      "training_data/augmented_imgs/underarm_875992.png\n",
      "training_data/augmented_imgs/underarm_875993.png\n",
      "training_data/augmented_imgs/underarm_875994.png\n",
      "training_data/augmented_imgs/underarm_875995.png\n",
      "training_data/augmented_imgs/underarm_875996.png\n",
      "training_data/augmented_imgs/underarm_875997.png\n"
     ]
    },
    {
     "name": "stderr",
     "output_type": "stream",
     "text": [
      "/home/ale/anaconda3/envs/tensor20/lib/python3.6/site-packages/fastai/vision/transform.py:243: UserWarning: torch.gesv is deprecated in favour of torch.solve and will be removed in the next release. Please use torch.solve instead.\n",
      "  return torch.gesv(B,A)[0][:,0]\n"
     ]
    },
    {
     "name": "stdout",
     "output_type": "stream",
     "text": [
      "training_data/augmented_imgs/underarm_875998.png\n",
      "training_data/augmented_imgs/underarm_875999.png\n",
      "training_data/augmented_imgs/moonwalk_1220990.png\n",
      "training_data/augmented_imgs/moonwalk_1220991.png\n",
      "training_data/augmented_imgs/moonwalk_1220992.png\n",
      "training_data/augmented_imgs/moonwalk_1220993.png\n",
      "training_data/augmented_imgs/moonwalk_1220994.png\n",
      "training_data/augmented_imgs/moonwalk_1220995.png\n",
      "training_data/augmented_imgs/moonwalk_1220996.png\n"
     ]
    },
    {
     "name": "stderr",
     "output_type": "stream",
     "text": [
      "/home/ale/anaconda3/envs/tensor20/lib/python3.6/site-packages/fastai/vision/transform.py:243: UserWarning: torch.gesv is deprecated in favour of torch.solve and will be removed in the next release. Please use torch.solve instead.\n",
      "  return torch.gesv(B,A)[0][:,0]\n"
     ]
    },
    {
     "name": "stdout",
     "output_type": "stream",
     "text": [
      "training_data/augmented_imgs/moonwalk_1220997.png\n",
      "training_data/augmented_imgs/moonwalk_1220998.png\n",
      "training_data/augmented_imgs/moonwalk_1220999.png\n",
      "training_data/augmented_imgs/underarm_239990.png\n",
      "training_data/augmented_imgs/underarm_239991.png\n",
      "training_data/augmented_imgs/underarm_239992.png\n",
      "training_data/augmented_imgs/underarm_239993.png\n",
      "training_data/augmented_imgs/underarm_239994.png\n",
      "training_data/augmented_imgs/underarm_239995.png\n"
     ]
    },
    {
     "name": "stderr",
     "output_type": "stream",
     "text": [
      "/home/ale/anaconda3/envs/tensor20/lib/python3.6/site-packages/fastai/vision/transform.py:243: UserWarning: torch.gesv is deprecated in favour of torch.solve and will be removed in the next release. Please use torch.solve instead.\n",
      "  return torch.gesv(B,A)[0][:,0]\n"
     ]
    },
    {
     "name": "stdout",
     "output_type": "stream",
     "text": [
      "training_data/augmented_imgs/underarm_239996.png\n",
      "training_data/augmented_imgs/underarm_239997.png\n",
      "training_data/augmented_imgs/underarm_239998.png\n",
      "training_data/augmented_imgs/underarm_239999.png\n",
      "training_data/augmented_imgs/hadouken_495990.png\n",
      "training_data/augmented_imgs/hadouken_495991.png\n",
      "training_data/augmented_imgs/hadouken_495992.png\n",
      "training_data/augmented_imgs/hadouken_495993.png\n",
      "training_data/augmented_imgs/hadouken_495994.png\n"
     ]
    },
    {
     "name": "stderr",
     "output_type": "stream",
     "text": [
      "/home/ale/anaconda3/envs/tensor20/lib/python3.6/site-packages/fastai/vision/transform.py:243: UserWarning: torch.gesv is deprecated in favour of torch.solve and will be removed in the next release. Please use torch.solve instead.\n",
      "  return torch.gesv(B,A)[0][:,0]\n"
     ]
    },
    {
     "name": "stdout",
     "output_type": "stream",
     "text": [
      "training_data/augmented_imgs/hadouken_495995.png\n",
      "training_data/augmented_imgs/hadouken_495996.png\n",
      "training_data/augmented_imgs/hadouken_495997.png\n",
      "training_data/augmented_imgs/hadouken_495998.png\n",
      "training_data/augmented_imgs/hadouken_495999.png\n",
      "training_data/augmented_imgs/backpack_274990.png\n",
      "training_data/augmented_imgs/backpack_274991.png\n",
      "training_data/augmented_imgs/backpack_274992.png\n",
      "training_data/augmented_imgs/backpack_274993.png\n"
     ]
    },
    {
     "name": "stderr",
     "output_type": "stream",
     "text": [
      "/home/ale/anaconda3/envs/tensor20/lib/python3.6/site-packages/fastai/vision/transform.py:243: UserWarning: torch.gesv is deprecated in favour of torch.solve and will be removed in the next release. Please use torch.solve instead.\n",
      "  return torch.gesv(B,A)[0][:,0]\n"
     ]
    },
    {
     "name": "stdout",
     "output_type": "stream",
     "text": [
      "training_data/augmented_imgs/backpack_274994.png\n",
      "training_data/augmented_imgs/backpack_274995.png\n",
      "training_data/augmented_imgs/backpack_274996.png\n",
      "training_data/augmented_imgs/backpack_274997.png\n",
      "training_data/augmented_imgs/backpack_274998.png\n",
      "training_data/augmented_imgs/backpack_274999.png\n",
      "training_data/augmented_imgs/fly_55990.png\n",
      "training_data/augmented_imgs/fly_55991.png\n",
      "training_data/augmented_imgs/fly_55992.png\n"
     ]
    },
    {
     "name": "stderr",
     "output_type": "stream",
     "text": [
      "/home/ale/anaconda3/envs/tensor20/lib/python3.6/site-packages/fastai/vision/transform.py:243: UserWarning: torch.gesv is deprecated in favour of torch.solve and will be removed in the next release. Please use torch.solve instead.\n",
      "  return torch.gesv(B,A)[0][:,0]\n"
     ]
    },
    {
     "name": "stdout",
     "output_type": "stream",
     "text": [
      "training_data/augmented_imgs/fly_55993.png\n",
      "training_data/augmented_imgs/fly_55994.png\n",
      "training_data/augmented_imgs/fly_55995.png\n",
      "training_data/augmented_imgs/fly_55996.png\n",
      "training_data/augmented_imgs/fly_55997.png\n",
      "training_data/augmented_imgs/fly_55998.png\n",
      "training_data/augmented_imgs/fly_55999.png\n",
      "training_data/augmented_imgs/backpack_275990.png\n",
      "training_data/augmented_imgs/backpack_275991.png\n",
      "training_data/augmented_imgs/backpack_275992.png\n",
      "training_data/augmented_imgs/backpack_275993.png\n",
      "training_data/augmented_imgs/backpack_275994.png\n",
      "training_data/augmented_imgs/backpack_275995.png\n",
      "training_data/augmented_imgs/backpack_275996.png\n",
      "training_data/augmented_imgs/backpack_275997.png\n",
      "training_data/augmented_imgs/backpack_275998.png\n",
      "training_data/augmented_imgs/backpack_275999.png\n",
      "training_data/augmented_imgs/fly_857990.png\n"
     ]
    },
    {
     "name": "stderr",
     "output_type": "stream",
     "text": [
      "/home/ale/anaconda3/envs/tensor20/lib/python3.6/site-packages/fastai/vision/transform.py:243: UserWarning: torch.gesv is deprecated in favour of torch.solve and will be removed in the next release. Please use torch.solve instead.\n",
      "  return torch.gesv(B,A)[0][:,0]\n"
     ]
    },
    {
     "name": "stdout",
     "output_type": "stream",
     "text": [
      "training_data/augmented_imgs/fly_857991.png\n",
      "training_data/augmented_imgs/fly_857992.png\n",
      "training_data/augmented_imgs/fly_857993.png\n",
      "training_data/augmented_imgs/fly_857994.png\n",
      "training_data/augmented_imgs/fly_857995.png\n",
      "training_data/augmented_imgs/fly_857996.png\n",
      "training_data/augmented_imgs/fly_857997.png\n",
      "training_data/augmented_imgs/fly_857998.png\n",
      "training_data/augmented_imgs/fly_857999.png\n",
      "training_data/augmented_imgs/wings_827990.png\n",
      "training_data/augmented_imgs/wings_827991.png\n",
      "training_data/augmented_imgs/wings_827992.png\n",
      "training_data/augmented_imgs/wings_827993.png\n",
      "training_data/augmented_imgs/wings_827994.png\n",
      "training_data/augmented_imgs/wings_827995.png\n",
      "training_data/augmented_imgs/wings_827996.png\n",
      "training_data/augmented_imgs/wings_827997.png\n",
      "training_data/augmented_imgs/wings_827998.png\n",
      "training_data/augmented_imgs/wings_827999.png\n",
      "training_data/augmented_imgs/fly_44990.png\n"
     ]
    },
    {
     "name": "stderr",
     "output_type": "stream",
     "text": [
      "/home/ale/anaconda3/envs/tensor20/lib/python3.6/site-packages/fastai/vision/transform.py:243: UserWarning: torch.gesv is deprecated in favour of torch.solve and will be removed in the next release. Please use torch.solve instead.\n",
      "  return torch.gesv(B,A)[0][:,0]\n"
     ]
    },
    {
     "name": "stdout",
     "output_type": "stream",
     "text": [
      "training_data/augmented_imgs/fly_44991.png\n",
      "training_data/augmented_imgs/fly_44992.png\n",
      "training_data/augmented_imgs/fly_44993.png\n",
      "training_data/augmented_imgs/fly_44994.png\n",
      "training_data/augmented_imgs/fly_44995.png\n",
      "training_data/augmented_imgs/fly_44996.png\n",
      "training_data/augmented_imgs/fly_44997.png\n",
      "training_data/augmented_imgs/fly_44998.png\n",
      "training_data/augmented_imgs/fly_44999.png\n",
      "training_data/augmented_imgs/normal_207990.png\n",
      "training_data/augmented_imgs/normal_207991.png\n",
      "training_data/augmented_imgs/normal_207992.png\n",
      "training_data/augmented_imgs/normal_207993.png\n",
      "training_data/augmented_imgs/normal_207994.png\n",
      "training_data/augmented_imgs/normal_207995.png\n"
     ]
    },
    {
     "name": "stderr",
     "output_type": "stream",
     "text": [
      "/home/ale/anaconda3/envs/tensor20/lib/python3.6/site-packages/fastai/vision/transform.py:243: UserWarning: torch.gesv is deprecated in favour of torch.solve and will be removed in the next release. Please use torch.solve instead.\n",
      "  return torch.gesv(B,A)[0][:,0]\n"
     ]
    },
    {
     "name": "stdout",
     "output_type": "stream",
     "text": [
      "training_data/augmented_imgs/normal_207996.png\n",
      "training_data/augmented_imgs/normal_207997.png\n",
      "training_data/augmented_imgs/normal_207998.png\n",
      "training_data/augmented_imgs/normal_207999.png\n",
      "training_data/augmented_imgs/hadouken_979990.png\n",
      "training_data/augmented_imgs/hadouken_979991.png\n",
      "training_data/augmented_imgs/hadouken_979992.png\n",
      "training_data/augmented_imgs/hadouken_979993.png\n"
     ]
    },
    {
     "name": "stderr",
     "output_type": "stream",
     "text": [
      "/home/ale/anaconda3/envs/tensor20/lib/python3.6/site-packages/fastai/vision/transform.py:243: UserWarning: torch.gesv is deprecated in favour of torch.solve and will be removed in the next release. Please use torch.solve instead.\n",
      "  return torch.gesv(B,A)[0][:,0]\n"
     ]
    },
    {
     "name": "stdout",
     "output_type": "stream",
     "text": [
      "training_data/augmented_imgs/hadouken_979994.png\n",
      "training_data/augmented_imgs/hadouken_979995.png\n",
      "training_data/augmented_imgs/hadouken_979996.png\n",
      "training_data/augmented_imgs/hadouken_979997.png\n",
      "training_data/augmented_imgs/hadouken_979998.png\n",
      "training_data/augmented_imgs/hadouken_979999.png\n",
      "training_data/augmented_imgs/fly_435990.png\n",
      "training_data/augmented_imgs/fly_435991.png\n",
      "training_data/augmented_imgs/fly_435992.png\n"
     ]
    },
    {
     "name": "stderr",
     "output_type": "stream",
     "text": [
      "/home/ale/anaconda3/envs/tensor20/lib/python3.6/site-packages/fastai/vision/transform.py:243: UserWarning: torch.gesv is deprecated in favour of torch.solve and will be removed in the next release. Please use torch.solve instead.\n",
      "  return torch.gesv(B,A)[0][:,0]\n"
     ]
    },
    {
     "name": "stdout",
     "output_type": "stream",
     "text": [
      "training_data/augmented_imgs/fly_435993.png\n",
      "training_data/augmented_imgs/fly_435994.png\n",
      "training_data/augmented_imgs/fly_435995.png\n",
      "training_data/augmented_imgs/fly_435996.png\n",
      "training_data/augmented_imgs/fly_435997.png\n",
      "training_data/augmented_imgs/fly_435998.png\n",
      "training_data/augmented_imgs/fly_435999.png\n",
      "training_data/augmented_imgs/normal_20990.png\n",
      "training_data/augmented_imgs/normal_20991.png\n",
      "training_data/augmented_imgs/normal_20992.png\n",
      "training_data/augmented_imgs/normal_20993.png\n",
      "training_data/augmented_imgs/normal_20994.png\n",
      "training_data/augmented_imgs/normal_20995.png\n",
      "training_data/augmented_imgs/normal_20996.png\n",
      "training_data/augmented_imgs/normal_20997.png\n",
      "training_data/augmented_imgs/normal_20998.png\n"
     ]
    },
    {
     "name": "stderr",
     "output_type": "stream",
     "text": [
      "/home/ale/anaconda3/envs/tensor20/lib/python3.6/site-packages/fastai/vision/transform.py:243: UserWarning: torch.gesv is deprecated in favour of torch.solve and will be removed in the next release. Please use torch.solve instead.\n",
      "  return torch.gesv(B,A)[0][:,0]\n"
     ]
    },
    {
     "name": "stdout",
     "output_type": "stream",
     "text": [
      "training_data/augmented_imgs/normal_20999.png\n",
      "training_data/augmented_imgs/underarm_59990.png\n",
      "training_data/augmented_imgs/underarm_59991.png\n",
      "training_data/augmented_imgs/underarm_59992.png\n",
      "training_data/augmented_imgs/underarm_59993.png\n",
      "training_data/augmented_imgs/underarm_59994.png\n",
      "training_data/augmented_imgs/underarm_59995.png\n",
      "training_data/augmented_imgs/underarm_59996.png\n",
      "training_data/augmented_imgs/underarm_59997.png\n",
      "training_data/augmented_imgs/underarm_59998.png\n",
      "training_data/augmented_imgs/underarm_59999.png\n",
      "training_data/augmented_imgs/underarm_248990.png\n",
      "training_data/augmented_imgs/underarm_248991.png\n",
      "training_data/augmented_imgs/underarm_248992.png\n",
      "training_data/augmented_imgs/underarm_248993.png\n",
      "training_data/augmented_imgs/underarm_248994.png\n",
      "training_data/augmented_imgs/underarm_248995.png\n",
      "training_data/augmented_imgs/underarm_248996.png\n"
     ]
    },
    {
     "name": "stderr",
     "output_type": "stream",
     "text": [
      "/home/ale/anaconda3/envs/tensor20/lib/python3.6/site-packages/fastai/vision/transform.py:243: UserWarning: torch.gesv is deprecated in favour of torch.solve and will be removed in the next release. Please use torch.solve instead.\n",
      "  return torch.gesv(B,A)[0][:,0]\n"
     ]
    },
    {
     "name": "stdout",
     "output_type": "stream",
     "text": [
      "training_data/augmented_imgs/underarm_248997.png\n",
      "training_data/augmented_imgs/underarm_248998.png\n",
      "training_data/augmented_imgs/underarm_248999.png\n",
      "training_data/augmented_imgs/dramatic_1262990.png\n",
      "training_data/augmented_imgs/dramatic_1262991.png\n",
      "training_data/augmented_imgs/dramatic_1262992.png\n",
      "training_data/augmented_imgs/dramatic_1262993.png\n",
      "training_data/augmented_imgs/dramatic_1262994.png\n",
      "training_data/augmented_imgs/dramatic_1262995.png\n",
      "training_data/augmented_imgs/dramatic_1262996.png\n"
     ]
    },
    {
     "name": "stderr",
     "output_type": "stream",
     "text": [
      "/home/ale/anaconda3/envs/tensor20/lib/python3.6/site-packages/fastai/vision/transform.py:243: UserWarning: torch.gesv is deprecated in favour of torch.solve and will be removed in the next release. Please use torch.solve instead.\n",
      "  return torch.gesv(B,A)[0][:,0]\n",
      "/home/ale/anaconda3/envs/tensor20/lib/python3.6/site-packages/fastai/vision/transform.py:243: UserWarning: torch.gesv is deprecated in favour of torch.solve and will be removed in the next release. Please use torch.solve instead.\n",
      "  return torch.gesv(B,A)[0][:,0]\n"
     ]
    },
    {
     "name": "stdout",
     "output_type": "stream",
     "text": [
      "training_data/augmented_imgs/dramatic_1262997.png\n",
      "training_data/augmented_imgs/dramatic_1262998.png\n",
      "training_data/augmented_imgs/dramatic_1262999.png\n",
      "training_data/augmented_imgs/moonwalk_1216990.png\n",
      "training_data/augmented_imgs/moonwalk_1216991.png\n",
      "training_data/augmented_imgs/moonwalk_1216992.png\n",
      "training_data/augmented_imgs/moonwalk_1216993.png\n",
      "training_data/augmented_imgs/moonwalk_1216994.png\n",
      "training_data/augmented_imgs/moonwalk_1216995.png\n",
      "training_data/augmented_imgs/moonwalk_1216996.png\n",
      "training_data/augmented_imgs/moonwalk_1216997.png\n",
      "training_data/augmented_imgs/moonwalk_1216998.png\n",
      "training_data/augmented_imgs/moonwalk_1216999.png\n",
      "training_data/augmented_imgs/normal_404990.png\n",
      "training_data/augmented_imgs/normal_404991.png\n",
      "training_data/augmented_imgs/normal_404992.png\n",
      "training_data/augmented_imgs/normal_404993.png\n",
      "training_data/augmented_imgs/normal_404994.png\n",
      "training_data/augmented_imgs/normal_404995.png\n"
     ]
    },
    {
     "name": "stderr",
     "output_type": "stream",
     "text": [
      "/home/ale/anaconda3/envs/tensor20/lib/python3.6/site-packages/fastai/vision/transform.py:243: UserWarning: torch.gesv is deprecated in favour of torch.solve and will be removed in the next release. Please use torch.solve instead.\n",
      "  return torch.gesv(B,A)[0][:,0]\n"
     ]
    },
    {
     "name": "stdout",
     "output_type": "stream",
     "text": [
      "training_data/augmented_imgs/normal_404996.png\n",
      "training_data/augmented_imgs/normal_404997.png\n",
      "training_data/augmented_imgs/normal_404998.png\n",
      "training_data/augmented_imgs/normal_404999.png\n",
      "training_data/augmented_imgs/underarm_473990.png\n",
      "training_data/augmented_imgs/underarm_473991.png\n",
      "training_data/augmented_imgs/underarm_473992.png\n",
      "training_data/augmented_imgs/underarm_473993.png\n",
      "training_data/augmented_imgs/underarm_473994.png\n"
     ]
    },
    {
     "name": "stderr",
     "output_type": "stream",
     "text": [
      "/home/ale/anaconda3/envs/tensor20/lib/python3.6/site-packages/fastai/vision/transform.py:243: UserWarning: torch.gesv is deprecated in favour of torch.solve and will be removed in the next release. Please use torch.solve instead.\n",
      "  return torch.gesv(B,A)[0][:,0]\n"
     ]
    },
    {
     "name": "stdout",
     "output_type": "stream",
     "text": [
      "training_data/augmented_imgs/underarm_473995.png\n",
      "training_data/augmented_imgs/underarm_473996.png\n",
      "training_data/augmented_imgs/underarm_473997.png\n",
      "training_data/augmented_imgs/underarm_473998.png\n",
      "training_data/augmented_imgs/underarm_473999.png\n",
      "training_data/augmented_imgs/moonwalk_84990.png\n",
      "training_data/augmented_imgs/moonwalk_84991.png\n",
      "training_data/augmented_imgs/moonwalk_84992.png\n"
     ]
    },
    {
     "name": "stderr",
     "output_type": "stream",
     "text": [
      "/home/ale/anaconda3/envs/tensor20/lib/python3.6/site-packages/fastai/vision/transform.py:243: UserWarning: torch.gesv is deprecated in favour of torch.solve and will be removed in the next release. Please use torch.solve instead.\n",
      "  return torch.gesv(B,A)[0][:,0]\n",
      "/home/ale/anaconda3/envs/tensor20/lib/python3.6/site-packages/fastai/vision/transform.py:243: UserWarning: torch.gesv is deprecated in favour of torch.solve and will be removed in the next release. Please use torch.solve instead.\n",
      "  return torch.gesv(B,A)[0][:,0]\n"
     ]
    },
    {
     "name": "stdout",
     "output_type": "stream",
     "text": [
      "training_data/augmented_imgs/moonwalk_84993.png\n",
      "training_data/augmented_imgs/moonwalk_84994.png\n",
      "training_data/augmented_imgs/moonwalk_84995.png\n",
      "training_data/augmented_imgs/moonwalk_84996.png\n",
      "training_data/augmented_imgs/moonwalk_84997.png\n",
      "training_data/augmented_imgs/moonwalk_84998.png\n",
      "training_data/augmented_imgs/moonwalk_84999.png\n",
      "training_data/augmented_imgs/wings_38990.png\n",
      "training_data/augmented_imgs/wings_38991.png\n",
      "training_data/augmented_imgs/wings_38992.png\n",
      "training_data/augmented_imgs/wings_38993.png\n",
      "training_data/augmented_imgs/wings_38994.png\n",
      "training_data/augmented_imgs/wings_38995.png\n",
      "training_data/augmented_imgs/wings_38996.png\n",
      "training_data/augmented_imgs/wings_38997.png\n",
      "training_data/augmented_imgs/wings_38998.png\n",
      "training_data/augmented_imgs/wings_38999.png\n",
      "training_data/augmented_imgs/wings_212990.png\n",
      "training_data/augmented_imgs/wings_212991.png\n",
      "training_data/augmented_imgs/wings_212992.png\n",
      "training_data/augmented_imgs/wings_212993.png\n",
      "training_data/augmented_imgs/wings_212994.png\n",
      "training_data/augmented_imgs/wings_212995.png\n",
      "training_data/augmented_imgs/wings_212996.png\n",
      "training_data/augmented_imgs/wings_212997.png\n"
     ]
    },
    {
     "name": "stderr",
     "output_type": "stream",
     "text": [
      "/home/ale/anaconda3/envs/tensor20/lib/python3.6/site-packages/fastai/vision/transform.py:243: UserWarning: torch.gesv is deprecated in favour of torch.solve and will be removed in the next release. Please use torch.solve instead.\n",
      "  return torch.gesv(B,A)[0][:,0]\n"
     ]
    },
    {
     "name": "stdout",
     "output_type": "stream",
     "text": [
      "training_data/augmented_imgs/wings_212998.png\n",
      "training_data/augmented_imgs/wings_212999.png\n",
      "training_data/augmented_imgs/dramatic_561990.png\n",
      "training_data/augmented_imgs/dramatic_561991.png\n",
      "training_data/augmented_imgs/dramatic_561992.png\n",
      "training_data/augmented_imgs/dramatic_561993.png\n",
      "training_data/augmented_imgs/dramatic_561994.png\n",
      "training_data/augmented_imgs/dramatic_561995.png\n"
     ]
    },
    {
     "name": "stderr",
     "output_type": "stream",
     "text": [
      "/home/ale/anaconda3/envs/tensor20/lib/python3.6/site-packages/fastai/vision/transform.py:243: UserWarning: torch.gesv is deprecated in favour of torch.solve and will be removed in the next release. Please use torch.solve instead.\n",
      "  return torch.gesv(B,A)[0][:,0]\n",
      "/home/ale/anaconda3/envs/tensor20/lib/python3.6/site-packages/fastai/vision/transform.py:243: UserWarning: torch.gesv is deprecated in favour of torch.solve and will be removed in the next release. Please use torch.solve instead.\n",
      "  return torch.gesv(B,A)[0][:,0]\n"
     ]
    },
    {
     "name": "stdout",
     "output_type": "stream",
     "text": [
      "training_data/augmented_imgs/dramatic_561996.png\n",
      "training_data/augmented_imgs/dramatic_561997.png\n",
      "training_data/augmented_imgs/dramatic_561998.png\n",
      "training_data/augmented_imgs/dramatic_561999.png\n",
      "training_data/augmented_imgs/fly_54990.png\n",
      "training_data/augmented_imgs/fly_54991.png\n",
      "training_data/augmented_imgs/fly_54992.png\n",
      "training_data/augmented_imgs/fly_54993.png\n",
      "training_data/augmented_imgs/fly_54994.png\n",
      "training_data/augmented_imgs/fly_54995.png\n",
      "training_data/augmented_imgs/fly_54996.png\n",
      "training_data/augmented_imgs/fly_54997.png\n",
      "training_data/augmented_imgs/fly_54998.png\n",
      "training_data/augmented_imgs/fly_54999.png\n",
      "training_data/augmented_imgs/moonwalk_251990.png\n",
      "training_data/augmented_imgs/moonwalk_251991.png\n",
      "training_data/augmented_imgs/moonwalk_251992.png\n",
      "training_data/augmented_imgs/moonwalk_251993.png\n"
     ]
    },
    {
     "name": "stderr",
     "output_type": "stream",
     "text": [
      "/home/ale/anaconda3/envs/tensor20/lib/python3.6/site-packages/fastai/vision/transform.py:243: UserWarning: torch.gesv is deprecated in favour of torch.solve and will be removed in the next release. Please use torch.solve instead.\n",
      "  return torch.gesv(B,A)[0][:,0]\n",
      "/home/ale/anaconda3/envs/tensor20/lib/python3.6/site-packages/fastai/vision/transform.py:243: UserWarning: torch.gesv is deprecated in favour of torch.solve and will be removed in the next release. Please use torch.solve instead.\n",
      "  return torch.gesv(B,A)[0][:,0]\n"
     ]
    },
    {
     "name": "stdout",
     "output_type": "stream",
     "text": [
      "training_data/augmented_imgs/moonwalk_251994.png\n",
      "training_data/augmented_imgs/moonwalk_251995.png\n",
      "training_data/augmented_imgs/moonwalk_251996.png\n",
      "training_data/augmented_imgs/moonwalk_251997.png\n",
      "training_data/augmented_imgs/moonwalk_251998.png\n",
      "training_data/augmented_imgs/moonwalk_251999.png\n",
      "training_data/augmented_imgs/fly_454990.png\n",
      "training_data/augmented_imgs/fly_454991.png\n",
      "training_data/augmented_imgs/fly_454992.png\n",
      "training_data/augmented_imgs/fly_454993.png\n",
      "training_data/augmented_imgs/fly_454994.png\n",
      "training_data/augmented_imgs/fly_454995.png\n",
      "training_data/augmented_imgs/fly_454996.png\n",
      "training_data/augmented_imgs/fly_454997.png\n",
      "training_data/augmented_imgs/fly_454998.png\n",
      "training_data/augmented_imgs/fly_454999.png\n",
      "training_data/augmented_imgs/backpack_528990.png\n",
      "training_data/augmented_imgs/backpack_528991.png\n",
      "training_data/augmented_imgs/backpack_528992.png\n",
      "training_data/augmented_imgs/backpack_528993.png\n",
      "training_data/augmented_imgs/backpack_528994.png\n",
      "training_data/augmented_imgs/backpack_528995.png\n"
     ]
    },
    {
     "name": "stderr",
     "output_type": "stream",
     "text": [
      "/home/ale/anaconda3/envs/tensor20/lib/python3.6/site-packages/fastai/vision/transform.py:243: UserWarning: torch.gesv is deprecated in favour of torch.solve and will be removed in the next release. Please use torch.solve instead.\n",
      "  return torch.gesv(B,A)[0][:,0]\n",
      "/home/ale/anaconda3/envs/tensor20/lib/python3.6/site-packages/fastai/vision/transform.py:243: UserWarning: torch.gesv is deprecated in favour of torch.solve and will be removed in the next release. Please use torch.solve instead.\n",
      "  return torch.gesv(B,A)[0][:,0]\n"
     ]
    },
    {
     "name": "stdout",
     "output_type": "stream",
     "text": [
      "training_data/augmented_imgs/backpack_528996.png\n",
      "training_data/augmented_imgs/backpack_528997.png\n",
      "training_data/augmented_imgs/backpack_528998.png\n",
      "training_data/augmented_imgs/backpack_528999.png\n",
      "training_data/augmented_imgs/wings_33990.png\n",
      "training_data/augmented_imgs/wings_33991.png\n",
      "training_data/augmented_imgs/wings_33992.png\n",
      "training_data/augmented_imgs/wings_33993.png\n",
      "training_data/augmented_imgs/wings_33994.png\n",
      "training_data/augmented_imgs/wings_33995.png\n",
      "training_data/augmented_imgs/wings_33996.png\n",
      "training_data/augmented_imgs/wings_33997.png\n",
      "training_data/augmented_imgs/wings_33998.png\n",
      "training_data/augmented_imgs/wings_33999.png\n",
      "training_data/augmented_imgs/hadouken_1233990.png\n",
      "training_data/augmented_imgs/hadouken_1233991.png\n",
      "training_data/augmented_imgs/hadouken_1233992.png\n",
      "training_data/augmented_imgs/hadouken_1233993.png\n",
      "training_data/augmented_imgs/hadouken_1233994.png\n",
      "training_data/augmented_imgs/hadouken_1233995.png\n",
      "training_data/augmented_imgs/hadouken_1233996.png\n",
      "training_data/augmented_imgs/hadouken_1233997.png\n",
      "training_data/augmented_imgs/hadouken_1233998.png\n",
      "training_data/augmented_imgs/hadouken_1233999.png\n",
      "training_data/augmented_imgs/fly_442990.png\n",
      "training_data/augmented_imgs/fly_442991.png\n",
      "training_data/augmented_imgs/fly_442992.png\n",
      "training_data/augmented_imgs/fly_442993.png\n",
      "training_data/augmented_imgs/fly_442994.png\n",
      "training_data/augmented_imgs/fly_442995.png\n",
      "training_data/augmented_imgs/fly_442996.png\n",
      "training_data/augmented_imgs/fly_442997.png\n",
      "training_data/augmented_imgs/fly_442998.png\n"
     ]
    },
    {
     "name": "stderr",
     "output_type": "stream",
     "text": [
      "/home/ale/anaconda3/envs/tensor20/lib/python3.6/site-packages/fastai/vision/transform.py:243: UserWarning: torch.gesv is deprecated in favour of torch.solve and will be removed in the next release. Please use torch.solve instead.\n",
      "  return torch.gesv(B,A)[0][:,0]\n",
      "/home/ale/anaconda3/envs/tensor20/lib/python3.6/site-packages/fastai/vision/transform.py:243: UserWarning: torch.gesv is deprecated in favour of torch.solve and will be removed in the next release. Please use torch.solve instead.\n",
      "  return torch.gesv(B,A)[0][:,0]\n"
     ]
    },
    {
     "name": "stdout",
     "output_type": "stream",
     "text": [
      "training_data/augmented_imgs/fly_442999.png\n",
      "training_data/augmented_imgs/underarm_465990.png\n",
      "training_data/augmented_imgs/underarm_465991.png\n",
      "training_data/augmented_imgs/underarm_465992.png\n",
      "training_data/augmented_imgs/underarm_465993.png\n",
      "training_data/augmented_imgs/underarm_465994.png\n",
      "training_data/augmented_imgs/underarm_465995.png\n",
      "training_data/augmented_imgs/underarm_465996.png\n",
      "training_data/augmented_imgs/underarm_465997.png\n",
      "training_data/augmented_imgs/underarm_465998.png\n",
      "training_data/augmented_imgs/underarm_465999.png\n",
      "training_data/augmented_imgs/fly_231990.png\n",
      "training_data/augmented_imgs/fly_231991.png\n",
      "training_data/augmented_imgs/fly_231992.png\n",
      "training_data/augmented_imgs/fly_231993.png\n",
      "training_data/augmented_imgs/fly_231994.png\n",
      "training_data/augmented_imgs/fly_231995.png\n",
      "training_data/augmented_imgs/fly_231996.png\n"
     ]
    },
    {
     "name": "stderr",
     "output_type": "stream",
     "text": [
      "/home/ale/anaconda3/envs/tensor20/lib/python3.6/site-packages/fastai/vision/transform.py:243: UserWarning: torch.gesv is deprecated in favour of torch.solve and will be removed in the next release. Please use torch.solve instead.\n",
      "  return torch.gesv(B,A)[0][:,0]\n",
      "/home/ale/anaconda3/envs/tensor20/lib/python3.6/site-packages/fastai/vision/transform.py:243: UserWarning: torch.gesv is deprecated in favour of torch.solve and will be removed in the next release. Please use torch.solve instead.\n",
      "  return torch.gesv(B,A)[0][:,0]\n"
     ]
    },
    {
     "name": "stdout",
     "output_type": "stream",
     "text": [
      "training_data/augmented_imgs/fly_231997.png\n",
      "training_data/augmented_imgs/fly_231998.png\n",
      "training_data/augmented_imgs/fly_231999.png\n",
      "training_data/augmented_imgs/moonwalk_255990.png\n",
      "training_data/augmented_imgs/moonwalk_255991.png\n",
      "training_data/augmented_imgs/moonwalk_255992.png\n",
      "training_data/augmented_imgs/moonwalk_255993.png\n",
      "training_data/augmented_imgs/moonwalk_255994.png\n",
      "training_data/augmented_imgs/moonwalk_255995.png\n",
      "training_data/augmented_imgs/moonwalk_255996.png\n",
      "training_data/augmented_imgs/moonwalk_255997.png\n",
      "training_data/augmented_imgs/moonwalk_255998.png\n",
      "training_data/augmented_imgs/moonwalk_255999.png\n",
      "training_data/augmented_imgs/wings_426990.png\n",
      "training_data/augmented_imgs/wings_426991.png\n",
      "training_data/augmented_imgs/wings_426992.png\n",
      "training_data/augmented_imgs/wings_426993.png\n",
      "training_data/augmented_imgs/wings_426994.png\n",
      "training_data/augmented_imgs/wings_426995.png\n",
      "training_data/augmented_imgs/wings_426996.png\n",
      "training_data/augmented_imgs/wings_426997.png\n",
      "training_data/augmented_imgs/wings_426998.png\n"
     ]
    },
    {
     "name": "stderr",
     "output_type": "stream",
     "text": [
      "/home/ale/anaconda3/envs/tensor20/lib/python3.6/site-packages/fastai/vision/transform.py:243: UserWarning: torch.gesv is deprecated in favour of torch.solve and will be removed in the next release. Please use torch.solve instead.\n",
      "  return torch.gesv(B,A)[0][:,0]\n"
     ]
    },
    {
     "name": "stdout",
     "output_type": "stream",
     "text": [
      "training_data/augmented_imgs/wings_426999.png\n",
      "training_data/augmented_imgs/wings_22990.png\n",
      "training_data/augmented_imgs/wings_22991.png\n",
      "training_data/augmented_imgs/wings_22992.png\n",
      "training_data/augmented_imgs/wings_22993.png\n",
      "training_data/augmented_imgs/wings_22994.png\n",
      "training_data/augmented_imgs/wings_22995.png\n",
      "training_data/augmented_imgs/wings_22996.png\n",
      "training_data/augmented_imgs/wings_22997.png\n",
      "training_data/augmented_imgs/wings_22998.png\n",
      "training_data/augmented_imgs/wings_22999.png\n"
     ]
    },
    {
     "name": "stderr",
     "output_type": "stream",
     "text": [
      "/home/ale/anaconda3/envs/tensor20/lib/python3.6/site-packages/fastai/vision/transform.py:243: UserWarning: torch.gesv is deprecated in favour of torch.solve and will be removed in the next release. Please use torch.solve instead.\n",
      "  return torch.gesv(B,A)[0][:,0]\n",
      "/home/ale/anaconda3/envs/tensor20/lib/python3.6/site-packages/fastai/vision/transform.py:243: UserWarning: torch.gesv is deprecated in favour of torch.solve and will be removed in the next release. Please use torch.solve instead.\n",
      "  return torch.gesv(B,A)[0][:,0]\n"
     ]
    },
    {
     "name": "stdout",
     "output_type": "stream",
     "text": [
      "training_data/augmented_imgs/dramatic_556990.png\n",
      "training_data/augmented_imgs/dramatic_556991.png\n",
      "training_data/augmented_imgs/dramatic_556992.png\n",
      "training_data/augmented_imgs/dramatic_556993.png\n",
      "training_data/augmented_imgs/dramatic_556994.png\n",
      "training_data/augmented_imgs/dramatic_556995.png\n",
      "training_data/augmented_imgs/dramatic_556996.png\n",
      "training_data/augmented_imgs/dramatic_556997.png\n",
      "training_data/augmented_imgs/dramatic_556998.png\n",
      "training_data/augmented_imgs/dramatic_556999.png\n",
      "training_data/augmented_imgs/backpack_107990.png\n",
      "training_data/augmented_imgs/backpack_107991.png\n",
      "training_data/augmented_imgs/backpack_107992.png\n",
      "training_data/augmented_imgs/backpack_107993.png\n",
      "training_data/augmented_imgs/backpack_107994.png\n",
      "training_data/augmented_imgs/backpack_107995.png\n",
      "training_data/augmented_imgs/backpack_107996.png\n",
      "training_data/augmented_imgs/backpack_107997.png\n",
      "training_data/augmented_imgs/backpack_107998.png\n",
      "training_data/augmented_imgs/backpack_107999.png\n",
      "training_data/augmented_imgs/underarm_472990.png\n",
      "training_data/augmented_imgs/underarm_472991.png\n"
     ]
    },
    {
     "name": "stderr",
     "output_type": "stream",
     "text": [
      "/home/ale/anaconda3/envs/tensor20/lib/python3.6/site-packages/fastai/vision/transform.py:243: UserWarning: torch.gesv is deprecated in favour of torch.solve and will be removed in the next release. Please use torch.solve instead.\n",
      "  return torch.gesv(B,A)[0][:,0]\n",
      "/home/ale/anaconda3/envs/tensor20/lib/python3.6/site-packages/fastai/vision/transform.py:243: UserWarning: torch.gesv is deprecated in favour of torch.solve and will be removed in the next release. Please use torch.solve instead.\n",
      "  return torch.gesv(B,A)[0][:,0]\n"
     ]
    },
    {
     "name": "stdout",
     "output_type": "stream",
     "text": [
      "training_data/augmented_imgs/underarm_472992.png\n",
      "training_data/augmented_imgs/underarm_472993.png\n",
      "training_data/augmented_imgs/underarm_472994.png\n",
      "training_data/augmented_imgs/underarm_472995.png\n",
      "training_data/augmented_imgs/underarm_472996.png\n",
      "training_data/augmented_imgs/underarm_472997.png\n",
      "training_data/augmented_imgs/underarm_472998.png\n",
      "training_data/augmented_imgs/underarm_472999.png\n",
      "training_data/augmented_imgs/hadouken_978990.png\n"
     ]
    },
    {
     "name": "stderr",
     "output_type": "stream",
     "text": [
      "/home/ale/anaconda3/envs/tensor20/lib/python3.6/site-packages/fastai/vision/transform.py:243: UserWarning: torch.gesv is deprecated in favour of torch.solve and will be removed in the next release. Please use torch.solve instead.\n",
      "  return torch.gesv(B,A)[0][:,0]\n"
     ]
    },
    {
     "name": "stdout",
     "output_type": "stream",
     "text": [
      "training_data/augmented_imgs/hadouken_978991.png\n",
      "training_data/augmented_imgs/hadouken_978992.png\n",
      "training_data/augmented_imgs/hadouken_978993.png\n",
      "training_data/augmented_imgs/hadouken_978994.png\n",
      "training_data/augmented_imgs/hadouken_978995.png\n",
      "training_data/augmented_imgs/hadouken_978996.png\n",
      "training_data/augmented_imgs/hadouken_978997.png\n",
      "training_data/augmented_imgs/hadouken_978998.png\n",
      "training_data/augmented_imgs/hadouken_978999.png\n",
      "training_data/augmented_imgs/fly_440990.png\n",
      "training_data/augmented_imgs/fly_440991.png\n",
      "training_data/augmented_imgs/fly_440992.png\n",
      "training_data/augmented_imgs/fly_440993.png\n",
      "training_data/augmented_imgs/fly_440994.png\n",
      "training_data/augmented_imgs/fly_440995.png\n",
      "training_data/augmented_imgs/fly_440996.png\n",
      "training_data/augmented_imgs/fly_440997.png\n",
      "training_data/augmented_imgs/fly_440998.png\n",
      "training_data/augmented_imgs/fly_440999.png\n",
      "training_data/augmented_imgs/hadouken_521990.png\n"
     ]
    },
    {
     "name": "stderr",
     "output_type": "stream",
     "text": [
      "/home/ale/anaconda3/envs/tensor20/lib/python3.6/site-packages/fastai/vision/transform.py:243: UserWarning: torch.gesv is deprecated in favour of torch.solve and will be removed in the next release. Please use torch.solve instead.\n",
      "  return torch.gesv(B,A)[0][:,0]\n",
      "/home/ale/anaconda3/envs/tensor20/lib/python3.6/site-packages/fastai/vision/transform.py:243: UserWarning: torch.gesv is deprecated in favour of torch.solve and will be removed in the next release. Please use torch.solve instead.\n",
      "  return torch.gesv(B,A)[0][:,0]\n"
     ]
    },
    {
     "name": "stdout",
     "output_type": "stream",
     "text": [
      "training_data/augmented_imgs/hadouken_521991.png\n",
      "training_data/augmented_imgs/hadouken_521992.png\n",
      "training_data/augmented_imgs/hadouken_521993.png\n",
      "training_data/augmented_imgs/hadouken_521994.png\n",
      "training_data/augmented_imgs/hadouken_521995.png\n",
      "training_data/augmented_imgs/hadouken_521996.png\n",
      "training_data/augmented_imgs/hadouken_521997.png\n",
      "training_data/augmented_imgs/hadouken_521998.png\n",
      "training_data/augmented_imgs/hadouken_521999.png\n",
      "training_data/augmented_imgs/underarm_66990.png\n"
     ]
    },
    {
     "name": "stderr",
     "output_type": "stream",
     "text": [
      "/home/ale/anaconda3/envs/tensor20/lib/python3.6/site-packages/fastai/vision/transform.py:243: UserWarning: torch.gesv is deprecated in favour of torch.solve and will be removed in the next release. Please use torch.solve instead.\n",
      "  return torch.gesv(B,A)[0][:,0]\n"
     ]
    },
    {
     "name": "stdout",
     "output_type": "stream",
     "text": [
      "training_data/augmented_imgs/underarm_66991.png\n",
      "training_data/augmented_imgs/underarm_66992.png\n",
      "training_data/augmented_imgs/underarm_66993.png\n",
      "training_data/augmented_imgs/underarm_66994.png\n",
      "training_data/augmented_imgs/underarm_66995.png\n",
      "training_data/augmented_imgs/underarm_66996.png\n",
      "training_data/augmented_imgs/underarm_66997.png\n",
      "training_data/augmented_imgs/underarm_66998.png\n",
      "training_data/augmented_imgs/underarm_66999.png\n",
      "training_data/augmented_imgs/dramatic_1249990.png\n",
      "training_data/augmented_imgs/dramatic_1249991.png\n",
      "training_data/augmented_imgs/dramatic_1249992.png\n",
      "training_data/augmented_imgs/dramatic_1249993.png\n",
      "training_data/augmented_imgs/dramatic_1249994.png\n",
      "training_data/augmented_imgs/dramatic_1249995.png\n",
      "training_data/augmented_imgs/dramatic_1249996.png\n",
      "training_data/augmented_imgs/dramatic_1249997.png\n",
      "training_data/augmented_imgs/dramatic_1249998.png\n"
     ]
    },
    {
     "name": "stderr",
     "output_type": "stream",
     "text": [
      "/home/ale/anaconda3/envs/tensor20/lib/python3.6/site-packages/fastai/vision/transform.py:243: UserWarning: torch.gesv is deprecated in favour of torch.solve and will be removed in the next release. Please use torch.solve instead.\n",
      "  return torch.gesv(B,A)[0][:,0]\n"
     ]
    },
    {
     "name": "stdout",
     "output_type": "stream",
     "text": [
      "training_data/augmented_imgs/dramatic_1249999.png\n",
      "training_data/augmented_imgs/normal_201990.png\n",
      "training_data/augmented_imgs/normal_201991.png\n",
      "training_data/augmented_imgs/normal_201992.png\n",
      "training_data/augmented_imgs/normal_201993.png\n",
      "training_data/augmented_imgs/normal_201994.png\n",
      "training_data/augmented_imgs/normal_201995.png\n",
      "training_data/augmented_imgs/normal_201996.png\n",
      "training_data/augmented_imgs/normal_201997.png\n"
     ]
    },
    {
     "name": "stderr",
     "output_type": "stream",
     "text": [
      "/home/ale/anaconda3/envs/tensor20/lib/python3.6/site-packages/fastai/vision/transform.py:243: UserWarning: torch.gesv is deprecated in favour of torch.solve and will be removed in the next release. Please use torch.solve instead.\n",
      "  return torch.gesv(B,A)[0][:,0]\n"
     ]
    },
    {
     "name": "stdout",
     "output_type": "stream",
     "text": [
      "training_data/augmented_imgs/normal_201998.png\n",
      "training_data/augmented_imgs/normal_201999.png\n",
      "training_data/augmented_imgs/normal_1204990.png\n",
      "training_data/augmented_imgs/normal_1204991.png\n",
      "training_data/augmented_imgs/normal_1204992.png\n",
      "training_data/augmented_imgs/normal_1204993.png\n",
      "training_data/augmented_imgs/normal_1204994.png\n",
      "training_data/augmented_imgs/normal_1204995.png\n",
      "training_data/augmented_imgs/normal_1204996.png\n",
      "training_data/augmented_imgs/normal_1204997.png\n",
      "training_data/augmented_imgs/normal_1204998.png\n"
     ]
    },
    {
     "name": "stderr",
     "output_type": "stream",
     "text": [
      "/home/ale/anaconda3/envs/tensor20/lib/python3.6/site-packages/fastai/vision/transform.py:243: UserWarning: torch.gesv is deprecated in favour of torch.solve and will be removed in the next release. Please use torch.solve instead.\n",
      "  return torch.gesv(B,A)[0][:,0]\n",
      "/home/ale/anaconda3/envs/tensor20/lib/python3.6/site-packages/fastai/vision/transform.py:243: UserWarning: torch.gesv is deprecated in favour of torch.solve and will be removed in the next release. Please use torch.solve instead.\n",
      "  return torch.gesv(B,A)[0][:,0]\n"
     ]
    },
    {
     "name": "stdout",
     "output_type": "stream",
     "text": [
      "training_data/augmented_imgs/normal_1204999.png\n",
      "training_data/augmented_imgs/dramatic_1259990.png\n",
      "training_data/augmented_imgs/dramatic_1259991.png\n",
      "training_data/augmented_imgs/dramatic_1259992.png\n",
      "training_data/augmented_imgs/dramatic_1259993.png\n",
      "training_data/augmented_imgs/dramatic_1259994.png\n",
      "training_data/augmented_imgs/dramatic_1259995.png\n",
      "training_data/augmented_imgs/dramatic_1259996.png\n",
      "training_data/augmented_imgs/dramatic_1259997.png\n",
      "training_data/augmented_imgs/dramatic_1259998.png\n",
      "training_data/augmented_imgs/dramatic_1259999.png\n",
      "training_data/augmented_imgs/fly_438990.png\n",
      "training_data/augmented_imgs/fly_438991.png\n",
      "training_data/augmented_imgs/fly_438992.png\n",
      "training_data/augmented_imgs/fly_438993.png\n",
      "training_data/augmented_imgs/fly_438994.png\n",
      "training_data/augmented_imgs/fly_438995.png\n",
      "training_data/augmented_imgs/fly_438996.png\n",
      "training_data/augmented_imgs/fly_438997.png\n",
      "training_data/augmented_imgs/fly_438998.png\n",
      "training_data/augmented_imgs/fly_438999.png\n"
     ]
    },
    {
     "name": "stderr",
     "output_type": "stream",
     "text": [
      "/home/ale/anaconda3/envs/tensor20/lib/python3.6/site-packages/fastai/vision/transform.py:243: UserWarning: torch.gesv is deprecated in favour of torch.solve and will be removed in the next release. Please use torch.solve instead.\n",
      "  return torch.gesv(B,A)[0][:,0]\n",
      "/home/ale/anaconda3/envs/tensor20/lib/python3.6/site-packages/fastai/vision/transform.py:243: UserWarning: torch.gesv is deprecated in favour of torch.solve and will be removed in the next release. Please use torch.solve instead.\n",
      "  return torch.gesv(B,A)[0][:,0]\n"
     ]
    },
    {
     "name": "stdout",
     "output_type": "stream",
     "text": [
      "training_data/augmented_imgs/normal_1990.png\n",
      "training_data/augmented_imgs/normal_1991.png\n",
      "training_data/augmented_imgs/normal_1992.png\n",
      "training_data/augmented_imgs/normal_1993.png\n",
      "training_data/augmented_imgs/normal_1994.png\n",
      "training_data/augmented_imgs/normal_1995.png\n",
      "training_data/augmented_imgs/normal_1996.png\n",
      "training_data/augmented_imgs/normal_1997.png\n",
      "training_data/augmented_imgs/normal_1998.png\n",
      "training_data/augmented_imgs/normal_1999.png\n",
      "training_data/augmented_imgs/fly_42990.png\n"
     ]
    },
    {
     "name": "stderr",
     "output_type": "stream",
     "text": [
      "/home/ale/anaconda3/envs/tensor20/lib/python3.6/site-packages/fastai/vision/transform.py:243: UserWarning: torch.gesv is deprecated in favour of torch.solve and will be removed in the next release. Please use torch.solve instead.\n",
      "  return torch.gesv(B,A)[0][:,0]\n"
     ]
    },
    {
     "name": "stdout",
     "output_type": "stream",
     "text": [
      "training_data/augmented_imgs/fly_42991.png\n",
      "training_data/augmented_imgs/fly_42992.png\n",
      "training_data/augmented_imgs/fly_42993.png\n",
      "training_data/augmented_imgs/fly_42994.png\n",
      "training_data/augmented_imgs/fly_42995.png\n",
      "training_data/augmented_imgs/fly_42996.png\n",
      "training_data/augmented_imgs/fly_42997.png\n",
      "training_data/augmented_imgs/fly_42998.png\n",
      "training_data/augmented_imgs/fly_42999.png\n",
      "training_data/augmented_imgs/normal_805990.png\n",
      "training_data/augmented_imgs/normal_805991.png\n",
      "training_data/augmented_imgs/normal_805992.png\n",
      "training_data/augmented_imgs/normal_805993.png\n",
      "training_data/augmented_imgs/normal_805994.png\n",
      "training_data/augmented_imgs/normal_805995.png\n",
      "training_data/augmented_imgs/normal_805996.png\n",
      "training_data/augmented_imgs/normal_805997.png\n",
      "training_data/augmented_imgs/normal_805998.png\n"
     ]
    },
    {
     "name": "stderr",
     "output_type": "stream",
     "text": [
      "/home/ale/anaconda3/envs/tensor20/lib/python3.6/site-packages/fastai/vision/transform.py:243: UserWarning: torch.gesv is deprecated in favour of torch.solve and will be removed in the next release. Please use torch.solve instead.\n",
      "  return torch.gesv(B,A)[0][:,0]\n"
     ]
    },
    {
     "name": "stdout",
     "output_type": "stream",
     "text": [
      "training_data/augmented_imgs/normal_805999.png\n",
      "training_data/augmented_imgs/normal_410990.png\n",
      "training_data/augmented_imgs/normal_410991.png\n",
      "training_data/augmented_imgs/normal_410992.png\n",
      "training_data/augmented_imgs/normal_410993.png\n",
      "training_data/augmented_imgs/normal_410994.png\n",
      "training_data/augmented_imgs/normal_410995.png\n",
      "training_data/augmented_imgs/normal_410996.png\n",
      "training_data/augmented_imgs/normal_410997.png\n"
     ]
    },
    {
     "name": "stderr",
     "output_type": "stream",
     "text": [
      "/home/ale/anaconda3/envs/tensor20/lib/python3.6/site-packages/fastai/vision/transform.py:243: UserWarning: torch.gesv is deprecated in favour of torch.solve and will be removed in the next release. Please use torch.solve instead.\n",
      "  return torch.gesv(B,A)[0][:,0]\n"
     ]
    },
    {
     "name": "stdout",
     "output_type": "stream",
     "text": [
      "training_data/augmented_imgs/normal_410998.png\n",
      "training_data/augmented_imgs/normal_410999.png\n",
      "training_data/augmented_imgs/fly_56990.png\n",
      "training_data/augmented_imgs/fly_56991.png\n",
      "training_data/augmented_imgs/fly_56992.png\n",
      "training_data/augmented_imgs/fly_56993.png\n",
      "training_data/augmented_imgs/fly_56994.png\n",
      "training_data/augmented_imgs/fly_56995.png\n",
      "training_data/augmented_imgs/fly_56996.png\n",
      "training_data/augmented_imgs/fly_56997.png\n",
      "training_data/augmented_imgs/fly_56998.png\n",
      "training_data/augmented_imgs/fly_56999.png\n",
      "training_data/augmented_imgs/backpack_1242990.png\n",
      "training_data/augmented_imgs/backpack_1242991.png\n",
      "training_data/augmented_imgs/backpack_1242992.png\n",
      "training_data/augmented_imgs/backpack_1242993.png\n",
      "training_data/augmented_imgs/backpack_1242994.png\n",
      "training_data/augmented_imgs/backpack_1242995.png\n"
     ]
    },
    {
     "name": "stderr",
     "output_type": "stream",
     "text": [
      "/home/ale/anaconda3/envs/tensor20/lib/python3.6/site-packages/fastai/vision/transform.py:243: UserWarning: torch.gesv is deprecated in favour of torch.solve and will be removed in the next release. Please use torch.solve instead.\n",
      "  return torch.gesv(B,A)[0][:,0]\n",
      "/home/ale/anaconda3/envs/tensor20/lib/python3.6/site-packages/fastai/vision/transform.py:243: UserWarning: torch.gesv is deprecated in favour of torch.solve and will be removed in the next release. Please use torch.solve instead.\n",
      "  return torch.gesv(B,A)[0][:,0]\n"
     ]
    },
    {
     "name": "stdout",
     "output_type": "stream",
     "text": [
      "training_data/augmented_imgs/backpack_1242996.png\n",
      "training_data/augmented_imgs/backpack_1242997.png\n",
      "training_data/augmented_imgs/backpack_1242998.png\n",
      "training_data/augmented_imgs/backpack_1242999.png\n",
      "training_data/augmented_imgs/dramatic_292990.png\n",
      "training_data/augmented_imgs/dramatic_292991.png\n",
      "training_data/augmented_imgs/dramatic_292992.png\n",
      "training_data/augmented_imgs/dramatic_292993.png\n",
      "training_data/augmented_imgs/dramatic_292994.png\n",
      "training_data/augmented_imgs/dramatic_292995.png\n"
     ]
    },
    {
     "name": "stderr",
     "output_type": "stream",
     "text": [
      "/home/ale/anaconda3/envs/tensor20/lib/python3.6/site-packages/fastai/vision/transform.py:243: UserWarning: torch.gesv is deprecated in favour of torch.solve and will be removed in the next release. Please use torch.solve instead.\n",
      "  return torch.gesv(B,A)[0][:,0]\n"
     ]
    },
    {
     "name": "stdout",
     "output_type": "stream",
     "text": [
      "training_data/augmented_imgs/dramatic_292996.png\n",
      "training_data/augmented_imgs/dramatic_292997.png\n",
      "training_data/augmented_imgs/dramatic_292998.png\n",
      "training_data/augmented_imgs/dramatic_292999.png\n",
      "training_data/augmented_imgs/fly_233990.png\n",
      "training_data/augmented_imgs/fly_233991.png\n",
      "training_data/augmented_imgs/fly_233992.png\n",
      "training_data/augmented_imgs/fly_233993.png\n",
      "training_data/augmented_imgs/fly_233994.png\n"
     ]
    },
    {
     "name": "stderr",
     "output_type": "stream",
     "text": [
      "/home/ale/anaconda3/envs/tensor20/lib/python3.6/site-packages/fastai/vision/transform.py:243: UserWarning: torch.gesv is deprecated in favour of torch.solve and will be removed in the next release. Please use torch.solve instead.\n",
      "  return torch.gesv(B,A)[0][:,0]\n"
     ]
    },
    {
     "name": "stdout",
     "output_type": "stream",
     "text": [
      "training_data/augmented_imgs/fly_233995.png\n",
      "training_data/augmented_imgs/fly_233996.png\n",
      "training_data/augmented_imgs/fly_233997.png\n",
      "training_data/augmented_imgs/fly_233998.png\n",
      "training_data/augmented_imgs/fly_233999.png\n",
      "training_data/augmented_imgs/normal_1205990.png\n",
      "training_data/augmented_imgs/normal_1205991.png\n",
      "training_data/augmented_imgs/normal_1205992.png\n",
      "training_data/augmented_imgs/normal_1205993.png\n"
     ]
    },
    {
     "name": "stderr",
     "output_type": "stream",
     "text": [
      "/home/ale/anaconda3/envs/tensor20/lib/python3.6/site-packages/fastai/vision/transform.py:243: UserWarning: torch.gesv is deprecated in favour of torch.solve and will be removed in the next release. Please use torch.solve instead.\n",
      "  return torch.gesv(B,A)[0][:,0]\n"
     ]
    },
    {
     "name": "stdout",
     "output_type": "stream",
     "text": [
      "training_data/augmented_imgs/normal_1205994.png\n",
      "training_data/augmented_imgs/normal_1205995.png\n",
      "training_data/augmented_imgs/normal_1205996.png\n",
      "training_data/augmented_imgs/normal_1205997.png\n",
      "training_data/augmented_imgs/normal_1205998.png\n",
      "training_data/augmented_imgs/normal_1205999.png\n",
      "training_data/augmented_imgs/fly_428990.png\n",
      "training_data/augmented_imgs/fly_428991.png\n",
      "training_data/augmented_imgs/fly_428992.png\n",
      "training_data/augmented_imgs/fly_428993.png\n"
     ]
    },
    {
     "name": "stderr",
     "output_type": "stream",
     "text": [
      "/home/ale/anaconda3/envs/tensor20/lib/python3.6/site-packages/fastai/vision/transform.py:243: UserWarning: torch.gesv is deprecated in favour of torch.solve and will be removed in the next release. Please use torch.solve instead.\n",
      "  return torch.gesv(B,A)[0][:,0]\n",
      "/home/ale/anaconda3/envs/tensor20/lib/python3.6/site-packages/fastai/vision/transform.py:243: UserWarning: torch.gesv is deprecated in favour of torch.solve and will be removed in the next release. Please use torch.solve instead.\n",
      "  return torch.gesv(B,A)[0][:,0]\n"
     ]
    },
    {
     "name": "stdout",
     "output_type": "stream",
     "text": [
      "training_data/augmented_imgs/fly_428994.png\n",
      "training_data/augmented_imgs/fly_428995.png\n",
      "training_data/augmented_imgs/fly_428996.png\n",
      "training_data/augmented_imgs/fly_428997.png\n",
      "training_data/augmented_imgs/fly_428998.png\n",
      "training_data/augmented_imgs/fly_428999.png\n",
      "training_data/augmented_imgs/backpack_1246990.png\n",
      "training_data/augmented_imgs/backpack_1246991.png\n",
      "training_data/augmented_imgs/backpack_1246992.png\n",
      "training_data/augmented_imgs/backpack_1246993.png\n",
      "training_data/augmented_imgs/backpack_1246994.png\n",
      "training_data/augmented_imgs/backpack_1246995.png\n",
      "training_data/augmented_imgs/backpack_1246996.png\n",
      "training_data/augmented_imgs/backpack_1246997.png\n",
      "training_data/augmented_imgs/backpack_1246998.png\n",
      "training_data/augmented_imgs/backpack_1246999.png\n",
      "training_data/augmented_imgs/fly_847990.png\n",
      "training_data/augmented_imgs/fly_847991.png\n",
      "training_data/augmented_imgs/fly_847992.png\n",
      "training_data/augmented_imgs/fly_847993.png\n",
      "training_data/augmented_imgs/fly_847994.png\n",
      "training_data/augmented_imgs/fly_847995.png\n",
      "training_data/augmented_imgs/fly_847996.png\n",
      "training_data/augmented_imgs/fly_847997.png\n",
      "training_data/augmented_imgs/fly_847998.png\n",
      "training_data/augmented_imgs/fly_847999.png\n",
      "training_data/augmented_imgs/normal_807990.png\n",
      "training_data/augmented_imgs/normal_807991.png\n",
      "training_data/augmented_imgs/normal_807992.png\n",
      "training_data/augmented_imgs/normal_807993.png\n",
      "training_data/augmented_imgs/normal_807994.png\n",
      "training_data/augmented_imgs/normal_807995.png\n",
      "training_data/augmented_imgs/normal_807996.png\n",
      "training_data/augmented_imgs/normal_807997.png\n",
      "training_data/augmented_imgs/normal_807998.png\n",
      "training_data/augmented_imgs/normal_807999.png\n",
      "training_data/augmented_imgs/fly_238990.png\n",
      "training_data/augmented_imgs/fly_238991.png\n",
      "training_data/augmented_imgs/fly_238992.png\n",
      "training_data/augmented_imgs/fly_238993.png\n",
      "training_data/augmented_imgs/fly_238994.png\n",
      "training_data/augmented_imgs/fly_238995.png\n",
      "training_data/augmented_imgs/fly_238996.png\n",
      "training_data/augmented_imgs/fly_238997.png\n",
      "training_data/augmented_imgs/fly_238998.png\n",
      "training_data/augmented_imgs/fly_238999.png\n",
      "training_data/augmented_imgs/fly_446990.png\n",
      "training_data/augmented_imgs/fly_446991.png\n",
      "training_data/augmented_imgs/fly_446992.png\n",
      "training_data/augmented_imgs/fly_446993.png\n"
     ]
    },
    {
     "name": "stderr",
     "output_type": "stream",
     "text": [
      "/home/ale/anaconda3/envs/tensor20/lib/python3.6/site-packages/fastai/vision/transform.py:243: UserWarning: torch.gesv is deprecated in favour of torch.solve and will be removed in the next release. Please use torch.solve instead.\n",
      "  return torch.gesv(B,A)[0][:,0]\n"
     ]
    },
    {
     "name": "stdout",
     "output_type": "stream",
     "text": [
      "training_data/augmented_imgs/fly_446994.png\n",
      "training_data/augmented_imgs/fly_446995.png\n",
      "training_data/augmented_imgs/fly_446996.png\n",
      "training_data/augmented_imgs/fly_446997.png\n",
      "training_data/augmented_imgs/fly_446998.png\n",
      "training_data/augmented_imgs/fly_446999.png\n",
      "training_data/augmented_imgs/hadouken_523990.png\n",
      "training_data/augmented_imgs/hadouken_523991.png\n"
     ]
    },
    {
     "name": "stderr",
     "output_type": "stream",
     "text": [
      "/home/ale/anaconda3/envs/tensor20/lib/python3.6/site-packages/fastai/vision/transform.py:243: UserWarning: torch.gesv is deprecated in favour of torch.solve and will be removed in the next release. Please use torch.solve instead.\n",
      "  return torch.gesv(B,A)[0][:,0]\n",
      "/home/ale/anaconda3/envs/tensor20/lib/python3.6/site-packages/fastai/vision/transform.py:243: UserWarning: torch.gesv is deprecated in favour of torch.solve and will be removed in the next release. Please use torch.solve instead.\n",
      "  return torch.gesv(B,A)[0][:,0]\n"
     ]
    },
    {
     "name": "stdout",
     "output_type": "stream",
     "text": [
      "training_data/augmented_imgs/hadouken_523992.png\n",
      "training_data/augmented_imgs/hadouken_523993.png\n",
      "training_data/augmented_imgs/hadouken_523994.png\n",
      "training_data/augmented_imgs/hadouken_523995.png\n",
      "training_data/augmented_imgs/hadouken_523996.png\n",
      "training_data/augmented_imgs/hadouken_523997.png\n",
      "training_data/augmented_imgs/hadouken_523998.png\n",
      "training_data/augmented_imgs/hadouken_523999.png\n",
      "training_data/augmented_imgs/backpack_1240990.png\n"
     ]
    },
    {
     "name": "stderr",
     "output_type": "stream",
     "text": [
      "/home/ale/anaconda3/envs/tensor20/lib/python3.6/site-packages/fastai/vision/transform.py:243: UserWarning: torch.gesv is deprecated in favour of torch.solve and will be removed in the next release. Please use torch.solve instead.\n",
      "  return torch.gesv(B,A)[0][:,0]\n"
     ]
    },
    {
     "name": "stdout",
     "output_type": "stream",
     "text": [
      "training_data/augmented_imgs/backpack_1240991.png\n",
      "training_data/augmented_imgs/backpack_1240992.png\n",
      "training_data/augmented_imgs/backpack_1240993.png\n",
      "training_data/augmented_imgs/backpack_1240994.png\n",
      "training_data/augmented_imgs/backpack_1240995.png\n",
      "training_data/augmented_imgs/backpack_1240996.png\n",
      "training_data/augmented_imgs/backpack_1240997.png\n",
      "training_data/augmented_imgs/backpack_1240998.png\n",
      "training_data/augmented_imgs/backpack_1240999.png\n",
      "training_data/augmented_imgs/underarm_874990.png\n",
      "training_data/augmented_imgs/underarm_874991.png\n",
      "training_data/augmented_imgs/underarm_874992.png\n",
      "training_data/augmented_imgs/underarm_874993.png\n",
      "training_data/augmented_imgs/underarm_874994.png\n",
      "training_data/augmented_imgs/underarm_874995.png\n",
      "training_data/augmented_imgs/underarm_874996.png\n",
      "training_data/augmented_imgs/underarm_874997.png\n",
      "training_data/augmented_imgs/underarm_874998.png\n"
     ]
    },
    {
     "name": "stderr",
     "output_type": "stream",
     "text": [
      "/home/ale/anaconda3/envs/tensor20/lib/python3.6/site-packages/fastai/vision/transform.py:243: UserWarning: torch.gesv is deprecated in favour of torch.solve and will be removed in the next release. Please use torch.solve instead.\n",
      "  return torch.gesv(B,A)[0][:,0]\n"
     ]
    },
    {
     "name": "stdout",
     "output_type": "stream",
     "text": [
      "training_data/augmented_imgs/underarm_874999.png\n",
      "training_data/augmented_imgs/wings_213990.png\n",
      "training_data/augmented_imgs/wings_213991.png\n",
      "training_data/augmented_imgs/wings_213992.png\n",
      "training_data/augmented_imgs/wings_213993.png\n",
      "training_data/augmented_imgs/wings_213994.png\n",
      "training_data/augmented_imgs/wings_213995.png\n",
      "training_data/augmented_imgs/wings_213996.png\n",
      "training_data/augmented_imgs/wings_213997.png\n"
     ]
    },
    {
     "name": "stderr",
     "output_type": "stream",
     "text": [
      "/home/ale/anaconda3/envs/tensor20/lib/python3.6/site-packages/fastai/vision/transform.py:243: UserWarning: torch.gesv is deprecated in favour of torch.solve and will be removed in the next release. Please use torch.solve instead.\n",
      "  return torch.gesv(B,A)[0][:,0]\n"
     ]
    },
    {
     "name": "stdout",
     "output_type": "stream",
     "text": [
      "training_data/augmented_imgs/wings_213998.png\n",
      "training_data/augmented_imgs/wings_213999.png\n",
      "training_data/augmented_imgs/normal_19990.png\n",
      "training_data/augmented_imgs/normal_19991.png\n",
      "training_data/augmented_imgs/normal_19992.png\n",
      "training_data/augmented_imgs/normal_19993.png\n",
      "training_data/augmented_imgs/normal_19994.png\n",
      "training_data/augmented_imgs/normal_19995.png\n",
      "training_data/augmented_imgs/normal_19996.png\n",
      "training_data/augmented_imgs/normal_19997.png\n",
      "training_data/augmented_imgs/normal_19998.png\n",
      "training_data/augmented_imgs/normal_19999.png\n",
      "training_data/augmented_imgs/moonwalk_889990.png\n",
      "training_data/augmented_imgs/moonwalk_889991.png\n",
      "training_data/augmented_imgs/moonwalk_889992.png\n",
      "training_data/augmented_imgs/moonwalk_889993.png\n",
      "training_data/augmented_imgs/moonwalk_889994.png\n",
      "training_data/augmented_imgs/moonwalk_889995.png\n",
      "training_data/augmented_imgs/moonwalk_889996.png\n",
      "training_data/augmented_imgs/moonwalk_889997.png\n",
      "training_data/augmented_imgs/moonwalk_889998.png\n",
      "training_data/augmented_imgs/moonwalk_889999.png\n",
      "training_data/augmented_imgs/hadouken_88990.png\n",
      "training_data/augmented_imgs/hadouken_88991.png\n",
      "training_data/augmented_imgs/hadouken_88992.png\n",
      "training_data/augmented_imgs/hadouken_88993.png\n",
      "training_data/augmented_imgs/hadouken_88994.png\n",
      "training_data/augmented_imgs/hadouken_88995.png\n"
     ]
    },
    {
     "name": "stderr",
     "output_type": "stream",
     "text": [
      "/home/ale/anaconda3/envs/tensor20/lib/python3.6/site-packages/fastai/vision/transform.py:243: UserWarning: torch.gesv is deprecated in favour of torch.solve and will be removed in the next release. Please use torch.solve instead.\n",
      "  return torch.gesv(B,A)[0][:,0]\n"
     ]
    },
    {
     "name": "stdout",
     "output_type": "stream",
     "text": [
      "training_data/augmented_imgs/hadouken_88996.png\n",
      "training_data/augmented_imgs/hadouken_88997.png\n",
      "training_data/augmented_imgs/hadouken_88998.png\n",
      "training_data/augmented_imgs/hadouken_88999.png\n",
      "training_data/augmented_imgs/hadouken_510990.png\n",
      "training_data/augmented_imgs/hadouken_510991.png\n",
      "training_data/augmented_imgs/hadouken_510992.png\n",
      "training_data/augmented_imgs/hadouken_510993.png\n",
      "training_data/augmented_imgs/hadouken_510994.png\n"
     ]
    },
    {
     "name": "stderr",
     "output_type": "stream",
     "text": [
      "/home/ale/anaconda3/envs/tensor20/lib/python3.6/site-packages/fastai/vision/transform.py:243: UserWarning: torch.gesv is deprecated in favour of torch.solve and will be removed in the next release. Please use torch.solve instead.\n",
      "  return torch.gesv(B,A)[0][:,0]\n"
     ]
    },
    {
     "name": "stdout",
     "output_type": "stream",
     "text": [
      "training_data/augmented_imgs/hadouken_510995.png\n",
      "training_data/augmented_imgs/hadouken_510996.png\n",
      "training_data/augmented_imgs/hadouken_510997.png\n",
      "training_data/augmented_imgs/hadouken_510998.png\n",
      "training_data/augmented_imgs/hadouken_510999.png\n",
      "training_data/augmented_imgs/dramatic_1264990.png\n",
      "training_data/augmented_imgs/dramatic_1264991.png\n",
      "training_data/augmented_imgs/dramatic_1264992.png\n"
     ]
    },
    {
     "name": "stderr",
     "output_type": "stream",
     "text": [
      "/home/ale/anaconda3/envs/tensor20/lib/python3.6/site-packages/fastai/vision/transform.py:243: UserWarning: torch.gesv is deprecated in favour of torch.solve and will be removed in the next release. Please use torch.solve instead.\n",
      "  return torch.gesv(B,A)[0][:,0]\n"
     ]
    },
    {
     "name": "stdout",
     "output_type": "stream",
     "text": [
      "training_data/augmented_imgs/dramatic_1264993.png\n",
      "training_data/augmented_imgs/dramatic_1264994.png\n",
      "training_data/augmented_imgs/dramatic_1264995.png\n",
      "training_data/augmented_imgs/dramatic_1264996.png\n",
      "training_data/augmented_imgs/dramatic_1264997.png\n",
      "training_data/augmented_imgs/dramatic_1264998.png\n",
      "training_data/augmented_imgs/dramatic_1264999.png\n",
      "training_data/augmented_imgs/normal_8990.png\n",
      "training_data/augmented_imgs/normal_8991.png\n",
      "training_data/augmented_imgs/normal_8992.png\n",
      "training_data/augmented_imgs/normal_8993.png\n",
      "training_data/augmented_imgs/normal_8994.png\n",
      "training_data/augmented_imgs/normal_8995.png\n",
      "training_data/augmented_imgs/normal_8996.png\n",
      "training_data/augmented_imgs/normal_8997.png\n",
      "training_data/augmented_imgs/normal_8998.png\n",
      "training_data/augmented_imgs/normal_8999.png\n",
      "training_data/augmented_imgs/dramatic_564990.png\n",
      "training_data/augmented_imgs/dramatic_564991.png\n"
     ]
    },
    {
     "name": "stderr",
     "output_type": "stream",
     "text": [
      "/home/ale/anaconda3/envs/tensor20/lib/python3.6/site-packages/fastai/vision/transform.py:243: UserWarning: torch.gesv is deprecated in favour of torch.solve and will be removed in the next release. Please use torch.solve instead.\n",
      "  return torch.gesv(B,A)[0][:,0]\n",
      "/home/ale/anaconda3/envs/tensor20/lib/python3.6/site-packages/fastai/vision/transform.py:243: UserWarning: torch.gesv is deprecated in favour of torch.solve and will be removed in the next release. Please use torch.solve instead.\n",
      "  return torch.gesv(B,A)[0][:,0]\n"
     ]
    },
    {
     "name": "stdout",
     "output_type": "stream",
     "text": [
      "training_data/augmented_imgs/dramatic_564992.png\n",
      "training_data/augmented_imgs/dramatic_564993.png\n",
      "training_data/augmented_imgs/dramatic_564994.png\n",
      "training_data/augmented_imgs/dramatic_564995.png\n",
      "training_data/augmented_imgs/dramatic_564996.png\n",
      "training_data/augmented_imgs/dramatic_564997.png\n",
      "training_data/augmented_imgs/dramatic_564998.png\n",
      "training_data/augmented_imgs/dramatic_564999.png\n",
      "training_data/augmented_imgs/underarm_469990.png\n",
      "training_data/augmented_imgs/underarm_469991.png\n",
      "training_data/augmented_imgs/underarm_469992.png\n",
      "training_data/augmented_imgs/underarm_469993.png\n",
      "training_data/augmented_imgs/underarm_469994.png\n",
      "training_data/augmented_imgs/underarm_469995.png\n",
      "training_data/augmented_imgs/underarm_469996.png\n",
      "training_data/augmented_imgs/underarm_469997.png\n",
      "training_data/augmented_imgs/underarm_469998.png\n",
      "training_data/augmented_imgs/underarm_469999.png\n",
      "training_data/augmented_imgs/fly_41990.png\n",
      "training_data/augmented_imgs/fly_41991.png\n"
     ]
    },
    {
     "name": "stderr",
     "output_type": "stream",
     "text": [
      "/home/ale/anaconda3/envs/tensor20/lib/python3.6/site-packages/fastai/vision/transform.py:243: UserWarning: torch.gesv is deprecated in favour of torch.solve and will be removed in the next release. Please use torch.solve instead.\n",
      "  return torch.gesv(B,A)[0][:,0]\n",
      "/home/ale/anaconda3/envs/tensor20/lib/python3.6/site-packages/fastai/vision/transform.py:243: UserWarning: torch.gesv is deprecated in favour of torch.solve and will be removed in the next release. Please use torch.solve instead.\n",
      "  return torch.gesv(B,A)[0][:,0]\n"
     ]
    },
    {
     "name": "stdout",
     "output_type": "stream",
     "text": [
      "training_data/augmented_imgs/fly_41992.png\n",
      "training_data/augmented_imgs/fly_41993.png\n",
      "training_data/augmented_imgs/fly_41994.png\n",
      "training_data/augmented_imgs/fly_41995.png\n",
      "training_data/augmented_imgs/fly_41996.png\n",
      "training_data/augmented_imgs/fly_41997.png\n",
      "training_data/augmented_imgs/fly_41998.png\n",
      "training_data/augmented_imgs/fly_41999.png\n",
      "training_data/augmented_imgs/fly_861990.png\n",
      "training_data/augmented_imgs/fly_861991.png\n",
      "training_data/augmented_imgs/fly_861992.png\n",
      "training_data/augmented_imgs/fly_861993.png\n",
      "training_data/augmented_imgs/fly_861994.png\n",
      "training_data/augmented_imgs/fly_861995.png\n",
      "training_data/augmented_imgs/fly_861996.png\n",
      "training_data/augmented_imgs/fly_861997.png\n",
      "training_data/augmented_imgs/fly_861998.png\n"
     ]
    },
    {
     "name": "stderr",
     "output_type": "stream",
     "text": [
      "/home/ale/anaconda3/envs/tensor20/lib/python3.6/site-packages/fastai/vision/transform.py:243: UserWarning: torch.gesv is deprecated in favour of torch.solve and will be removed in the next release. Please use torch.solve instead.\n",
      "  return torch.gesv(B,A)[0][:,0]\n"
     ]
    },
    {
     "name": "stdout",
     "output_type": "stream",
     "text": [
      "training_data/augmented_imgs/fly_861999.png\n",
      "training_data/augmented_imgs/fly_47990.png\n",
      "training_data/augmented_imgs/fly_47991.png\n",
      "training_data/augmented_imgs/fly_47992.png\n",
      "training_data/augmented_imgs/fly_47993.png\n",
      "training_data/augmented_imgs/fly_47994.png\n",
      "training_data/augmented_imgs/fly_47995.png\n",
      "training_data/augmented_imgs/fly_47996.png\n"
     ]
    },
    {
     "name": "stderr",
     "output_type": "stream",
     "text": [
      "/home/ale/anaconda3/envs/tensor20/lib/python3.6/site-packages/fastai/vision/transform.py:243: UserWarning: torch.gesv is deprecated in favour of torch.solve and will be removed in the next release. Please use torch.solve instead.\n",
      "  return torch.gesv(B,A)[0][:,0]\n",
      "/home/ale/anaconda3/envs/tensor20/lib/python3.6/site-packages/fastai/vision/transform.py:243: UserWarning: torch.gesv is deprecated in favour of torch.solve and will be removed in the next release. Please use torch.solve instead.\n",
      "  return torch.gesv(B,A)[0][:,0]\n"
     ]
    },
    {
     "name": "stdout",
     "output_type": "stream",
     "text": [
      "training_data/augmented_imgs/fly_47997.png\n",
      "training_data/augmented_imgs/fly_47998.png\n",
      "training_data/augmented_imgs/fly_47999.png\n",
      "training_data/augmented_imgs/hadouken_499990.png\n",
      "training_data/augmented_imgs/hadouken_499991.png\n",
      "training_data/augmented_imgs/hadouken_499992.png\n",
      "training_data/augmented_imgs/hadouken_499993.png\n",
      "training_data/augmented_imgs/hadouken_499994.png\n",
      "training_data/augmented_imgs/hadouken_499995.png\n",
      "training_data/augmented_imgs/hadouken_499996.png\n",
      "training_data/augmented_imgs/hadouken_499997.png\n",
      "training_data/augmented_imgs/hadouken_499998.png\n",
      "training_data/augmented_imgs/hadouken_499999.png\n",
      "training_data/augmented_imgs/normal_816990.png\n",
      "training_data/augmented_imgs/normal_816991.png\n",
      "training_data/augmented_imgs/normal_816992.png\n",
      "training_data/augmented_imgs/normal_816993.png\n",
      "training_data/augmented_imgs/normal_816994.png\n"
     ]
    },
    {
     "name": "stderr",
     "output_type": "stream",
     "text": [
      "/home/ale/anaconda3/envs/tensor20/lib/python3.6/site-packages/fastai/vision/transform.py:243: UserWarning: torch.gesv is deprecated in favour of torch.solve and will be removed in the next release. Please use torch.solve instead.\n",
      "  return torch.gesv(B,A)[0][:,0]\n"
     ]
    },
    {
     "name": "stdout",
     "output_type": "stream",
     "text": [
      "training_data/augmented_imgs/normal_816995.png\n",
      "training_data/augmented_imgs/normal_816996.png\n",
      "training_data/augmented_imgs/normal_816997.png\n",
      "training_data/augmented_imgs/normal_816998.png\n",
      "training_data/augmented_imgs/normal_816999.png\n",
      "training_data/augmented_imgs/normal_4990.png\n",
      "training_data/augmented_imgs/normal_4991.png\n",
      "training_data/augmented_imgs/normal_4992.png\n",
      "training_data/augmented_imgs/normal_4993.png\n",
      "training_data/augmented_imgs/normal_4994.png\n",
      "training_data/augmented_imgs/normal_4995.png\n"
     ]
    },
    {
     "name": "stderr",
     "output_type": "stream",
     "text": [
      "/home/ale/anaconda3/envs/tensor20/lib/python3.6/site-packages/fastai/vision/transform.py:243: UserWarning: torch.gesv is deprecated in favour of torch.solve and will be removed in the next release. Please use torch.solve instead.\n",
      "  return torch.gesv(B,A)[0][:,0]\n"
     ]
    },
    {
     "name": "stdout",
     "output_type": "stream",
     "text": [
      "training_data/augmented_imgs/normal_4996.png\n",
      "training_data/augmented_imgs/normal_4997.png\n",
      "training_data/augmented_imgs/normal_4998.png\n",
      "training_data/augmented_imgs/normal_4999.png\n",
      "training_data/augmented_imgs/dramatic_926990.png\n",
      "training_data/augmented_imgs/dramatic_926991.png\n",
      "training_data/augmented_imgs/dramatic_926992.png\n",
      "training_data/augmented_imgs/dramatic_926993.png\n",
      "training_data/augmented_imgs/dramatic_926994.png\n",
      "training_data/augmented_imgs/dramatic_926995.png\n"
     ]
    },
    {
     "name": "stderr",
     "output_type": "stream",
     "text": [
      "/home/ale/anaconda3/envs/tensor20/lib/python3.6/site-packages/fastai/vision/transform.py:243: UserWarning: torch.gesv is deprecated in favour of torch.solve and will be removed in the next release. Please use torch.solve instead.\n",
      "  return torch.gesv(B,A)[0][:,0]\n"
     ]
    },
    {
     "name": "stdout",
     "output_type": "stream",
     "text": [
      "training_data/augmented_imgs/dramatic_926996.png\n",
      "training_data/augmented_imgs/dramatic_926997.png\n",
      "training_data/augmented_imgs/dramatic_926998.png\n",
      "training_data/augmented_imgs/dramatic_926999.png\n",
      "training_data/augmented_imgs/normal_18990.png\n",
      "training_data/augmented_imgs/normal_18991.png\n",
      "training_data/augmented_imgs/normal_18992.png\n",
      "training_data/augmented_imgs/normal_18993.png\n",
      "training_data/augmented_imgs/normal_18994.png\n",
      "training_data/augmented_imgs/normal_18995.png\n",
      "training_data/augmented_imgs/normal_18996.png\n",
      "training_data/augmented_imgs/normal_18997.png\n",
      "training_data/augmented_imgs/normal_18998.png\n",
      "training_data/augmented_imgs/normal_18999.png\n",
      "training_data/augmented_imgs/hadouken_91990.png\n",
      "training_data/augmented_imgs/hadouken_91991.png\n",
      "training_data/augmented_imgs/hadouken_91992.png\n",
      "training_data/augmented_imgs/hadouken_91993.png\n",
      "training_data/augmented_imgs/hadouken_91994.png\n",
      "training_data/augmented_imgs/hadouken_91995.png\n",
      "training_data/augmented_imgs/hadouken_91996.png\n",
      "training_data/augmented_imgs/hadouken_91997.png\n"
     ]
    },
    {
     "name": "stderr",
     "output_type": "stream",
     "text": [
      "/home/ale/anaconda3/envs/tensor20/lib/python3.6/site-packages/fastai/vision/transform.py:243: UserWarning: torch.gesv is deprecated in favour of torch.solve and will be removed in the next release. Please use torch.solve instead.\n",
      "  return torch.gesv(B,A)[0][:,0]\n"
     ]
    },
    {
     "name": "stdout",
     "output_type": "stream",
     "text": [
      "training_data/augmented_imgs/hadouken_91998.png\n",
      "training_data/augmented_imgs/hadouken_91999.png\n",
      "training_data/augmented_imgs/underarm_244990.png\n",
      "training_data/augmented_imgs/underarm_244991.png\n",
      "training_data/augmented_imgs/underarm_244992.png\n",
      "training_data/augmented_imgs/underarm_244993.png\n",
      "training_data/augmented_imgs/underarm_244994.png\n",
      "training_data/augmented_imgs/underarm_244995.png\n",
      "training_data/augmented_imgs/underarm_244996.png\n",
      "training_data/augmented_imgs/underarm_244997.png\n",
      "training_data/augmented_imgs/underarm_244998.png\n"
     ]
    },
    {
     "name": "stderr",
     "output_type": "stream",
     "text": [
      "/home/ale/anaconda3/envs/tensor20/lib/python3.6/site-packages/fastai/vision/transform.py:243: UserWarning: torch.gesv is deprecated in favour of torch.solve and will be removed in the next release. Please use torch.solve instead.\n",
      "  return torch.gesv(B,A)[0][:,0]\n"
     ]
    },
    {
     "name": "stdout",
     "output_type": "stream",
     "text": [
      "training_data/augmented_imgs/underarm_244999.png\n",
      "training_data/augmented_imgs/normal_406990.png\n",
      "training_data/augmented_imgs/normal_406991.png\n",
      "training_data/augmented_imgs/normal_406992.png\n",
      "training_data/augmented_imgs/normal_406993.png\n",
      "training_data/augmented_imgs/normal_406994.png\n",
      "training_data/augmented_imgs/normal_406995.png\n",
      "training_data/augmented_imgs/normal_406996.png\n",
      "training_data/augmented_imgs/normal_406997.png\n",
      "training_data/augmented_imgs/normal_406998.png\n",
      "training_data/augmented_imgs/normal_406999.png\n"
     ]
    },
    {
     "name": "stderr",
     "output_type": "stream",
     "text": [
      "/home/ale/anaconda3/envs/tensor20/lib/python3.6/site-packages/fastai/vision/transform.py:243: UserWarning: torch.gesv is deprecated in favour of torch.solve and will be removed in the next release. Please use torch.solve instead.\n",
      "  return torch.gesv(B,A)[0][:,0]\n",
      "/home/ale/anaconda3/envs/tensor20/lib/python3.6/site-packages/fastai/vision/transform.py:243: UserWarning: torch.gesv is deprecated in favour of torch.solve and will be removed in the next release. Please use torch.solve instead.\n",
      "  return torch.gesv(B,A)[0][:,0]\n"
     ]
    },
    {
     "name": "stdout",
     "output_type": "stream",
     "text": [
      "training_data/augmented_imgs/hadouken_265990.png\n",
      "training_data/augmented_imgs/hadouken_265991.png\n",
      "training_data/augmented_imgs/hadouken_265992.png\n",
      "training_data/augmented_imgs/hadouken_265993.png\n",
      "training_data/augmented_imgs/hadouken_265994.png\n",
      "training_data/augmented_imgs/hadouken_265995.png\n",
      "training_data/augmented_imgs/hadouken_265996.png\n",
      "training_data/augmented_imgs/hadouken_265997.png\n",
      "training_data/augmented_imgs/hadouken_265998.png\n",
      "training_data/augmented_imgs/hadouken_265999.png\n",
      "training_data/augmented_imgs/dramatic_558990.png\n"
     ]
    },
    {
     "name": "stderr",
     "output_type": "stream",
     "text": [
      "/home/ale/anaconda3/envs/tensor20/lib/python3.6/site-packages/fastai/vision/transform.py:243: UserWarning: torch.gesv is deprecated in favour of torch.solve and will be removed in the next release. Please use torch.solve instead.\n",
      "  return torch.gesv(B,A)[0][:,0]\n"
     ]
    },
    {
     "name": "stdout",
     "output_type": "stream",
     "text": [
      "training_data/augmented_imgs/dramatic_558991.png\n",
      "training_data/augmented_imgs/dramatic_558992.png\n",
      "training_data/augmented_imgs/dramatic_558993.png\n",
      "training_data/augmented_imgs/dramatic_558994.png\n",
      "training_data/augmented_imgs/dramatic_558995.png\n",
      "training_data/augmented_imgs/dramatic_558996.png\n",
      "training_data/augmented_imgs/dramatic_558997.png\n",
      "training_data/augmented_imgs/dramatic_558998.png\n",
      "training_data/augmented_imgs/dramatic_558999.png\n"
     ]
    },
    {
     "name": "stderr",
     "output_type": "stream",
     "text": [
      "/home/ale/anaconda3/envs/tensor20/lib/python3.6/site-packages/fastai/vision/transform.py:243: UserWarning: torch.gesv is deprecated in favour of torch.solve and will be removed in the next release. Please use torch.solve instead.\n",
      "  return torch.gesv(B,A)[0][:,0]\n"
     ]
    },
    {
     "name": "stdout",
     "output_type": "stream",
     "text": [
      "training_data/augmented_imgs/hadouken_260990.png\n",
      "training_data/augmented_imgs/hadouken_260991.png\n",
      "training_data/augmented_imgs/hadouken_260992.png\n",
      "training_data/augmented_imgs/hadouken_260993.png\n",
      "training_data/augmented_imgs/hadouken_260994.png\n",
      "training_data/augmented_imgs/hadouken_260995.png\n",
      "training_data/augmented_imgs/hadouken_260996.png\n",
      "training_data/augmented_imgs/hadouken_260997.png\n",
      "training_data/augmented_imgs/hadouken_260998.png\n",
      "training_data/augmented_imgs/hadouken_260999.png\n",
      "training_data/augmented_imgs/fly_856990.png\n",
      "training_data/augmented_imgs/fly_856991.png\n",
      "training_data/augmented_imgs/fly_856992.png\n",
      "training_data/augmented_imgs/fly_856993.png\n",
      "training_data/augmented_imgs/fly_856994.png\n",
      "training_data/augmented_imgs/fly_856995.png\n"
     ]
    },
    {
     "name": "stderr",
     "output_type": "stream",
     "text": [
      "/home/ale/anaconda3/envs/tensor20/lib/python3.6/site-packages/fastai/vision/transform.py:243: UserWarning: torch.gesv is deprecated in favour of torch.solve and will be removed in the next release. Please use torch.solve instead.\n",
      "  return torch.gesv(B,A)[0][:,0]\n"
     ]
    },
    {
     "name": "stdout",
     "output_type": "stream",
     "text": [
      "training_data/augmented_imgs/fly_856996.png\n",
      "training_data/augmented_imgs/fly_856997.png\n",
      "training_data/augmented_imgs/fly_856998.png\n",
      "training_data/augmented_imgs/fly_856999.png\n",
      "training_data/augmented_imgs/backpack_1244990.png\n",
      "training_data/augmented_imgs/backpack_1244991.png\n",
      "training_data/augmented_imgs/backpack_1244992.png\n",
      "training_data/augmented_imgs/backpack_1244993.png\n",
      "training_data/augmented_imgs/backpack_1244994.png\n",
      "training_data/augmented_imgs/backpack_1244995.png\n",
      "training_data/augmented_imgs/backpack_1244996.png\n",
      "training_data/augmented_imgs/backpack_1244997.png\n",
      "training_data/augmented_imgs/backpack_1244998.png\n",
      "training_data/augmented_imgs/backpack_1244999.png\n",
      "training_data/augmented_imgs/wings_835990.png\n",
      "training_data/augmented_imgs/wings_835991.png\n",
      "training_data/augmented_imgs/wings_835992.png\n",
      "training_data/augmented_imgs/wings_835993.png\n",
      "training_data/augmented_imgs/wings_835994.png\n",
      "training_data/augmented_imgs/wings_835995.png\n"
     ]
    },
    {
     "name": "stderr",
     "output_type": "stream",
     "text": [
      "/home/ale/anaconda3/envs/tensor20/lib/python3.6/site-packages/fastai/vision/transform.py:243: UserWarning: torch.gesv is deprecated in favour of torch.solve and will be removed in the next release. Please use torch.solve instead.\n",
      "  return torch.gesv(B,A)[0][:,0]\n",
      "/home/ale/anaconda3/envs/tensor20/lib/python3.6/site-packages/fastai/vision/transform.py:243: UserWarning: torch.gesv is deprecated in favour of torch.solve and will be removed in the next release. Please use torch.solve instead.\n",
      "  return torch.gesv(B,A)[0][:,0]\n"
     ]
    },
    {
     "name": "stdout",
     "output_type": "stream",
     "text": [
      "training_data/augmented_imgs/wings_835996.png\n",
      "training_data/augmented_imgs/wings_835997.png\n",
      "training_data/augmented_imgs/wings_835998.png\n",
      "training_data/augmented_imgs/wings_835999.png\n",
      "training_data/augmented_imgs/dramatic_550990.png\n",
      "training_data/augmented_imgs/dramatic_550991.png\n",
      "training_data/augmented_imgs/dramatic_550992.png\n",
      "training_data/augmented_imgs/dramatic_550993.png\n",
      "training_data/augmented_imgs/dramatic_550994.png\n",
      "training_data/augmented_imgs/dramatic_550995.png\n",
      "training_data/augmented_imgs/dramatic_550996.png\n",
      "training_data/augmented_imgs/dramatic_550997.png\n",
      "training_data/augmented_imgs/dramatic_550998.png\n",
      "training_data/augmented_imgs/dramatic_550999.png\n",
      "training_data/augmented_imgs/fly_48990.png\n",
      "training_data/augmented_imgs/fly_48991.png\n",
      "training_data/augmented_imgs/fly_48992.png\n",
      "training_data/augmented_imgs/fly_48993.png\n",
      "training_data/augmented_imgs/fly_48994.png\n",
      "training_data/augmented_imgs/fly_48995.png\n",
      "training_data/augmented_imgs/fly_48996.png\n"
     ]
    },
    {
     "name": "stderr",
     "output_type": "stream",
     "text": [
      "/home/ale/anaconda3/envs/tensor20/lib/python3.6/site-packages/fastai/vision/transform.py:243: UserWarning: torch.gesv is deprecated in favour of torch.solve and will be removed in the next release. Please use torch.solve instead.\n",
      "  return torch.gesv(B,A)[0][:,0]\n"
     ]
    },
    {
     "name": "stdout",
     "output_type": "stream",
     "text": [
      "training_data/augmented_imgs/fly_48997.png\n",
      "training_data/augmented_imgs/fly_48998.png\n",
      "training_data/augmented_imgs/fly_48999.png\n",
      "training_data/augmented_imgs/hadouken_92990.png\n",
      "training_data/augmented_imgs/hadouken_92991.png\n",
      "training_data/augmented_imgs/hadouken_92992.png\n",
      "training_data/augmented_imgs/hadouken_92993.png\n",
      "training_data/augmented_imgs/hadouken_92994.png\n",
      "training_data/augmented_imgs/hadouken_92995.png\n"
     ]
    },
    {
     "name": "stderr",
     "output_type": "stream",
     "text": [
      "/home/ale/anaconda3/envs/tensor20/lib/python3.6/site-packages/fastai/vision/transform.py:243: UserWarning: torch.gesv is deprecated in favour of torch.solve and will be removed in the next release. Please use torch.solve instead.\n",
      "  return torch.gesv(B,A)[0][:,0]\n",
      "/home/ale/anaconda3/envs/tensor20/lib/python3.6/site-packages/fastai/vision/transform.py:243: UserWarning: torch.gesv is deprecated in favour of torch.solve and will be removed in the next release. Please use torch.solve instead.\n",
      "  return torch.gesv(B,A)[0][:,0]\n"
     ]
    },
    {
     "name": "stdout",
     "output_type": "stream",
     "text": [
      "training_data/augmented_imgs/hadouken_92996.png\n",
      "training_data/augmented_imgs/hadouken_92997.png\n",
      "training_data/augmented_imgs/hadouken_92998.png\n",
      "training_data/augmented_imgs/hadouken_92999.png\n",
      "training_data/augmented_imgs/fly_432990.png\n",
      "training_data/augmented_imgs/fly_432991.png\n",
      "training_data/augmented_imgs/fly_432992.png\n",
      "training_data/augmented_imgs/fly_432993.png\n",
      "training_data/augmented_imgs/fly_432994.png\n",
      "training_data/augmented_imgs/fly_432995.png\n",
      "training_data/augmented_imgs/fly_432996.png\n",
      "training_data/augmented_imgs/fly_432997.png\n",
      "training_data/augmented_imgs/fly_432998.png\n",
      "training_data/augmented_imgs/fly_432999.png\n",
      "training_data/augmented_imgs/fly_237990.png\n",
      "training_data/augmented_imgs/fly_237991.png\n",
      "training_data/augmented_imgs/fly_237992.png\n",
      "training_data/augmented_imgs/fly_237993.png\n",
      "training_data/augmented_imgs/fly_237994.png\n",
      "training_data/augmented_imgs/fly_237995.png\n",
      "training_data/augmented_imgs/fly_237996.png\n",
      "training_data/augmented_imgs/fly_237997.png\n",
      "training_data/augmented_imgs/fly_237998.png\n",
      "training_data/augmented_imgs/fly_237999.png\n",
      "training_data/augmented_imgs/wings_413990.png\n",
      "training_data/augmented_imgs/wings_413991.png\n",
      "training_data/augmented_imgs/wings_413992.png\n"
     ]
    },
    {
     "name": "stderr",
     "output_type": "stream",
     "text": [
      "/home/ale/anaconda3/envs/tensor20/lib/python3.6/site-packages/fastai/vision/transform.py:243: UserWarning: torch.gesv is deprecated in favour of torch.solve and will be removed in the next release. Please use torch.solve instead.\n",
      "  return torch.gesv(B,A)[0][:,0]\n"
     ]
    },
    {
     "name": "stdout",
     "output_type": "stream",
     "text": [
      "training_data/augmented_imgs/wings_413993.png\n",
      "training_data/augmented_imgs/wings_413994.png\n",
      "training_data/augmented_imgs/wings_413995.png\n",
      "training_data/augmented_imgs/wings_413996.png\n",
      "training_data/augmented_imgs/wings_413997.png\n",
      "training_data/augmented_imgs/wings_413998.png\n",
      "training_data/augmented_imgs/wings_413999.png\n",
      "training_data/augmented_imgs/dramatic_128990.png\n",
      "training_data/augmented_imgs/dramatic_128991.png\n",
      "training_data/augmented_imgs/dramatic_128992.png\n"
     ]
    },
    {
     "name": "stderr",
     "output_type": "stream",
     "text": [
      "/home/ale/anaconda3/envs/tensor20/lib/python3.6/site-packages/fastai/vision/transform.py:243: UserWarning: torch.gesv is deprecated in favour of torch.solve and will be removed in the next release. Please use torch.solve instead.\n",
      "  return torch.gesv(B,A)[0][:,0]\n",
      "/home/ale/anaconda3/envs/tensor20/lib/python3.6/site-packages/fastai/vision/transform.py:243: UserWarning: torch.gesv is deprecated in favour of torch.solve and will be removed in the next release. Please use torch.solve instead.\n",
      "  return torch.gesv(B,A)[0][:,0]\n"
     ]
    },
    {
     "name": "stdout",
     "output_type": "stream",
     "text": [
      "training_data/augmented_imgs/dramatic_128993.png\n",
      "training_data/augmented_imgs/dramatic_128994.png\n",
      "training_data/augmented_imgs/dramatic_128995.png\n",
      "training_data/augmented_imgs/dramatic_128996.png\n",
      "training_data/augmented_imgs/dramatic_128997.png\n",
      "training_data/augmented_imgs/dramatic_128998.png\n",
      "training_data/augmented_imgs/dramatic_128999.png\n",
      "training_data/augmented_imgs/underarm_241990.png\n",
      "training_data/augmented_imgs/underarm_241991.png\n",
      "training_data/augmented_imgs/underarm_241992.png\n",
      "training_data/augmented_imgs/underarm_241993.png\n",
      "training_data/augmented_imgs/underarm_241994.png\n",
      "training_data/augmented_imgs/underarm_241995.png\n",
      "training_data/augmented_imgs/underarm_241996.png\n",
      "training_data/augmented_imgs/underarm_241997.png\n",
      "training_data/augmented_imgs/underarm_241998.png\n",
      "training_data/augmented_imgs/underarm_241999.png\n"
     ]
    },
    {
     "name": "stderr",
     "output_type": "stream",
     "text": [
      "/home/ale/anaconda3/envs/tensor20/lib/python3.6/site-packages/fastai/vision/transform.py:243: UserWarning: torch.gesv is deprecated in favour of torch.solve and will be removed in the next release. Please use torch.solve instead.\n",
      "  return torch.gesv(B,A)[0][:,0]\n"
     ]
    },
    {
     "name": "stdout",
     "output_type": "stream",
     "text": [
      "training_data/augmented_imgs/wings_420990.png\n",
      "training_data/augmented_imgs/wings_420991.png\n",
      "training_data/augmented_imgs/wings_420992.png\n",
      "training_data/augmented_imgs/wings_420993.png\n",
      "training_data/augmented_imgs/wings_420994.png\n",
      "training_data/augmented_imgs/wings_420995.png\n",
      "training_data/augmented_imgs/wings_420996.png\n",
      "training_data/augmented_imgs/wings_420997.png\n",
      "training_data/augmented_imgs/wings_420998.png\n",
      "training_data/augmented_imgs/wings_420999.png\n",
      "training_data/augmented_imgs/normal_14990.png\n",
      "training_data/augmented_imgs/normal_14991.png\n",
      "training_data/augmented_imgs/normal_14992.png\n",
      "training_data/augmented_imgs/normal_14993.png\n",
      "training_data/augmented_imgs/normal_14994.png\n",
      "training_data/augmented_imgs/normal_14995.png\n",
      "training_data/augmented_imgs/normal_14996.png\n",
      "training_data/augmented_imgs/normal_14997.png\n",
      "training_data/augmented_imgs/normal_14998.png\n",
      "training_data/augmented_imgs/normal_14999.png\n",
      "training_data/augmented_imgs/underarm_871990.png\n",
      "training_data/augmented_imgs/underarm_871991.png\n",
      "training_data/augmented_imgs/underarm_871992.png\n",
      "training_data/augmented_imgs/underarm_871993.png\n",
      "training_data/augmented_imgs/underarm_871994.png\n",
      "training_data/augmented_imgs/underarm_871995.png\n",
      "training_data/augmented_imgs/underarm_871996.png\n",
      "training_data/augmented_imgs/underarm_871997.png\n",
      "training_data/augmented_imgs/underarm_871998.png\n",
      "training_data/augmented_imgs/underarm_871999.png\n"
     ]
    },
    {
     "name": "stderr",
     "output_type": "stream",
     "text": [
      "/home/ale/anaconda3/envs/tensor20/lib/python3.6/site-packages/fastai/vision/transform.py:243: UserWarning: torch.gesv is deprecated in favour of torch.solve and will be removed in the next release. Please use torch.solve instead.\n",
      "  return torch.gesv(B,A)[0][:,0]\n"
     ]
    },
    {
     "name": "stdout",
     "output_type": "stream",
     "text": [
      "training_data/augmented_imgs/dramatic_296990.png\n",
      "training_data/augmented_imgs/dramatic_296991.png\n",
      "training_data/augmented_imgs/dramatic_296992.png\n",
      "training_data/augmented_imgs/dramatic_296993.png\n",
      "training_data/augmented_imgs/dramatic_296994.png\n",
      "training_data/augmented_imgs/dramatic_296995.png\n",
      "training_data/augmented_imgs/dramatic_296996.png\n",
      "training_data/augmented_imgs/dramatic_296997.png\n",
      "training_data/augmented_imgs/dramatic_296998.png\n"
     ]
    },
    {
     "name": "stderr",
     "output_type": "stream",
     "text": [
      "/home/ale/anaconda3/envs/tensor20/lib/python3.6/site-packages/fastai/vision/transform.py:243: UserWarning: torch.gesv is deprecated in favour of torch.solve and will be removed in the next release. Please use torch.solve instead.\n",
      "  return torch.gesv(B,A)[0][:,0]\n",
      "/home/ale/anaconda3/envs/tensor20/lib/python3.6/site-packages/fastai/vision/transform.py:243: UserWarning: torch.gesv is deprecated in favour of torch.solve and will be removed in the next release. Please use torch.solve instead.\n",
      "  return torch.gesv(B,A)[0][:,0]\n"
     ]
    },
    {
     "name": "stdout",
     "output_type": "stream",
     "text": [
      "training_data/augmented_imgs/dramatic_296999.png\n",
      "training_data/augmented_imgs/hadouken_259990.png\n",
      "training_data/augmented_imgs/hadouken_259991.png\n",
      "training_data/augmented_imgs/hadouken_259992.png\n",
      "training_data/augmented_imgs/hadouken_259993.png\n",
      "training_data/augmented_imgs/hadouken_259994.png\n",
      "training_data/augmented_imgs/hadouken_259995.png\n",
      "training_data/augmented_imgs/hadouken_259996.png\n",
      "training_data/augmented_imgs/hadouken_259997.png\n",
      "training_data/augmented_imgs/hadouken_259998.png\n",
      "training_data/augmented_imgs/hadouken_259999.png\n",
      "training_data/augmented_imgs/normal_407990.png\n",
      "training_data/augmented_imgs/normal_407991.png\n",
      "training_data/augmented_imgs/normal_407992.png\n",
      "training_data/augmented_imgs/normal_407993.png\n",
      "training_data/augmented_imgs/normal_407994.png\n",
      "training_data/augmented_imgs/normal_407995.png\n",
      "training_data/augmented_imgs/normal_407996.png\n",
      "training_data/augmented_imgs/normal_407997.png\n",
      "training_data/augmented_imgs/normal_407998.png\n",
      "training_data/augmented_imgs/normal_407999.png\n"
     ]
    },
    {
     "name": "stderr",
     "output_type": "stream",
     "text": [
      "/home/ale/anaconda3/envs/tensor20/lib/python3.6/site-packages/fastai/vision/transform.py:243: UserWarning: torch.gesv is deprecated in favour of torch.solve and will be removed in the next release. Please use torch.solve instead.\n",
      "  return torch.gesv(B,A)[0][:,0]\n"
     ]
    },
    {
     "name": "stdout",
     "output_type": "stream",
     "text": [
      "training_data/augmented_imgs/underarm_464990.png\n",
      "training_data/augmented_imgs/underarm_464991.png\n",
      "training_data/augmented_imgs/underarm_464992.png\n",
      "training_data/augmented_imgs/underarm_464993.png\n",
      "training_data/augmented_imgs/underarm_464994.png\n",
      "training_data/augmented_imgs/underarm_464995.png\n",
      "training_data/augmented_imgs/underarm_464996.png\n",
      "training_data/augmented_imgs/underarm_464997.png\n",
      "training_data/augmented_imgs/underarm_464998.png\n",
      "training_data/augmented_imgs/underarm_464999.png\n",
      "training_data/augmented_imgs/moonwalk_898990.png\n",
      "training_data/augmented_imgs/moonwalk_898991.png\n",
      "training_data/augmented_imgs/moonwalk_898992.png\n",
      "training_data/augmented_imgs/moonwalk_898993.png\n",
      "training_data/augmented_imgs/moonwalk_898994.png\n",
      "training_data/augmented_imgs/moonwalk_898995.png\n",
      "training_data/augmented_imgs/moonwalk_898996.png\n",
      "training_data/augmented_imgs/moonwalk_898997.png\n",
      "training_data/augmented_imgs/moonwalk_898998.png\n",
      "training_data/augmented_imgs/moonwalk_898999.png\n"
     ]
    },
    {
     "name": "stderr",
     "output_type": "stream",
     "text": [
      "/home/ale/anaconda3/envs/tensor20/lib/python3.6/site-packages/fastai/vision/transform.py:243: UserWarning: torch.gesv is deprecated in favour of torch.solve and will be removed in the next release. Please use torch.solve instead.\n",
      "  return torch.gesv(B,A)[0][:,0]\n",
      "/home/ale/anaconda3/envs/tensor20/lib/python3.6/site-packages/fastai/vision/transform.py:243: UserWarning: torch.gesv is deprecated in favour of torch.solve and will be removed in the next release. Please use torch.solve instead.\n",
      "  return torch.gesv(B,A)[0][:,0]\n"
     ]
    },
    {
     "name": "stdout",
     "output_type": "stream",
     "text": [
      "training_data/augmented_imgs/dramatic_1257990.png\n",
      "training_data/augmented_imgs/dramatic_1257991.png\n",
      "training_data/augmented_imgs/dramatic_1257992.png\n",
      "training_data/augmented_imgs/dramatic_1257993.png\n",
      "training_data/augmented_imgs/dramatic_1257994.png\n",
      "training_data/augmented_imgs/dramatic_1257995.png\n",
      "training_data/augmented_imgs/dramatic_1257996.png\n",
      "training_data/augmented_imgs/dramatic_1257997.png\n",
      "training_data/augmented_imgs/dramatic_1257998.png\n",
      "training_data/augmented_imgs/dramatic_1257999.png\n",
      "training_data/augmented_imgs/normal_803990.png\n",
      "training_data/augmented_imgs/normal_803991.png\n",
      "training_data/augmented_imgs/normal_803992.png\n",
      "training_data/augmented_imgs/normal_803993.png\n",
      "training_data/augmented_imgs/normal_803994.png\n",
      "training_data/augmented_imgs/normal_803995.png\n",
      "training_data/augmented_imgs/normal_803996.png\n",
      "training_data/augmented_imgs/normal_803997.png\n"
     ]
    },
    {
     "name": "stderr",
     "output_type": "stream",
     "text": [
      "/home/ale/anaconda3/envs/tensor20/lib/python3.6/site-packages/fastai/vision/transform.py:243: UserWarning: torch.gesv is deprecated in favour of torch.solve and will be removed in the next release. Please use torch.solve instead.\n",
      "  return torch.gesv(B,A)[0][:,0]\n"
     ]
    },
    {
     "name": "stdout",
     "output_type": "stream",
     "text": [
      "training_data/augmented_imgs/normal_803998.png\n",
      "training_data/augmented_imgs/normal_803999.png\n",
      "training_data/augmented_imgs/backpack_908990.png\n",
      "training_data/augmented_imgs/backpack_908991.png\n",
      "training_data/augmented_imgs/backpack_908992.png\n",
      "training_data/augmented_imgs/backpack_908993.png\n",
      "training_data/augmented_imgs/backpack_908994.png\n",
      "training_data/augmented_imgs/backpack_908995.png\n"
     ]
    },
    {
     "name": "stderr",
     "output_type": "stream",
     "text": [
      "/home/ale/anaconda3/envs/tensor20/lib/python3.6/site-packages/fastai/vision/transform.py:243: UserWarning: torch.gesv is deprecated in favour of torch.solve and will be removed in the next release. Please use torch.solve instead.\n",
      "  return torch.gesv(B,A)[0][:,0]\n"
     ]
    },
    {
     "name": "stdout",
     "output_type": "stream",
     "text": [
      "training_data/augmented_imgs/backpack_908996.png\n",
      "training_data/augmented_imgs/backpack_908997.png\n",
      "training_data/augmented_imgs/backpack_908998.png\n",
      "training_data/augmented_imgs/backpack_908999.png\n",
      "training_data/augmented_imgs/fly_852990.png\n",
      "training_data/augmented_imgs/fly_852991.png\n",
      "training_data/augmented_imgs/fly_852992.png\n",
      "training_data/augmented_imgs/fly_852993.png\n",
      "training_data/augmented_imgs/fly_852994.png\n"
     ]
    },
    {
     "name": "stderr",
     "output_type": "stream",
     "text": [
      "/home/ale/anaconda3/envs/tensor20/lib/python3.6/site-packages/fastai/vision/transform.py:243: UserWarning: torch.gesv is deprecated in favour of torch.solve and will be removed in the next release. Please use torch.solve instead.\n",
      "  return torch.gesv(B,A)[0][:,0]\n"
     ]
    },
    {
     "name": "stdout",
     "output_type": "stream",
     "text": [
      "training_data/augmented_imgs/fly_852995.png\n",
      "training_data/augmented_imgs/fly_852996.png\n",
      "training_data/augmented_imgs/fly_852997.png\n",
      "training_data/augmented_imgs/fly_852998.png\n",
      "training_data/augmented_imgs/fly_852999.png\n",
      "training_data/augmented_imgs/dramatic_131990.png\n",
      "training_data/augmented_imgs/dramatic_131991.png\n",
      "training_data/augmented_imgs/dramatic_131992.png\n"
     ]
    },
    {
     "name": "stderr",
     "output_type": "stream",
     "text": [
      "/home/ale/anaconda3/envs/tensor20/lib/python3.6/site-packages/fastai/vision/transform.py:243: UserWarning: torch.gesv is deprecated in favour of torch.solve and will be removed in the next release. Please use torch.solve instead.\n",
      "  return torch.gesv(B,A)[0][:,0]\n",
      "/home/ale/anaconda3/envs/tensor20/lib/python3.6/site-packages/fastai/vision/transform.py:243: UserWarning: torch.gesv is deprecated in favour of torch.solve and will be removed in the next release. Please use torch.solve instead.\n",
      "  return torch.gesv(B,A)[0][:,0]\n"
     ]
    },
    {
     "name": "stdout",
     "output_type": "stream",
     "text": [
      "training_data/augmented_imgs/dramatic_131993.png\n",
      "training_data/augmented_imgs/dramatic_131994.png\n",
      "training_data/augmented_imgs/dramatic_131995.png\n",
      "training_data/augmented_imgs/dramatic_131996.png\n",
      "training_data/augmented_imgs/dramatic_131997.png\n",
      "training_data/augmented_imgs/dramatic_131998.png\n",
      "training_data/augmented_imgs/dramatic_131999.png\n",
      "training_data/augmented_imgs/normal_2990.png\n",
      "training_data/augmented_imgs/normal_2991.png\n",
      "training_data/augmented_imgs/normal_2992.png\n",
      "training_data/augmented_imgs/normal_2993.png\n",
      "training_data/augmented_imgs/normal_2994.png\n",
      "training_data/augmented_imgs/normal_2995.png\n",
      "training_data/augmented_imgs/normal_2996.png\n",
      "training_data/augmented_imgs/normal_2997.png\n",
      "training_data/augmented_imgs/normal_2998.png\n",
      "training_data/augmented_imgs/normal_2999.png\n",
      "training_data/augmented_imgs/underarm_64990.png\n",
      "training_data/augmented_imgs/underarm_64991.png\n",
      "training_data/augmented_imgs/underarm_64992.png\n",
      "training_data/augmented_imgs/underarm_64993.png\n",
      "training_data/augmented_imgs/underarm_64994.png\n",
      "training_data/augmented_imgs/underarm_64995.png\n",
      "training_data/augmented_imgs/underarm_64996.png\n",
      "training_data/augmented_imgs/underarm_64997.png\n"
     ]
    },
    {
     "name": "stderr",
     "output_type": "stream",
     "text": [
      "/home/ale/anaconda3/envs/tensor20/lib/python3.6/site-packages/fastai/vision/transform.py:243: UserWarning: torch.gesv is deprecated in favour of torch.solve and will be removed in the next release. Please use torch.solve instead.\n",
      "  return torch.gesv(B,A)[0][:,0]\n"
     ]
    },
    {
     "name": "stdout",
     "output_type": "stream",
     "text": [
      "training_data/augmented_imgs/underarm_64998.png\n",
      "training_data/augmented_imgs/underarm_64999.png\n",
      "training_data/augmented_imgs/underarm_60990.png\n",
      "training_data/augmented_imgs/underarm_60991.png\n",
      "training_data/augmented_imgs/underarm_60992.png\n",
      "training_data/augmented_imgs/underarm_60993.png\n",
      "training_data/augmented_imgs/underarm_60994.png\n",
      "training_data/augmented_imgs/underarm_60995.png\n",
      "training_data/augmented_imgs/underarm_60996.png\n"
     ]
    },
    {
     "name": "stderr",
     "output_type": "stream",
     "text": [
      "/home/ale/anaconda3/envs/tensor20/lib/python3.6/site-packages/fastai/vision/transform.py:243: UserWarning: torch.gesv is deprecated in favour of torch.solve and will be removed in the next release. Please use torch.solve instead.\n",
      "  return torch.gesv(B,A)[0][:,0]\n"
     ]
    },
    {
     "name": "stdout",
     "output_type": "stream",
     "text": [
      "training_data/augmented_imgs/underarm_60997.png\n",
      "training_data/augmented_imgs/underarm_60998.png\n",
      "training_data/augmented_imgs/underarm_60999.png\n",
      "training_data/augmented_imgs/underarm_466990.png\n",
      "training_data/augmented_imgs/underarm_466991.png\n",
      "training_data/augmented_imgs/underarm_466992.png\n",
      "training_data/augmented_imgs/underarm_466993.png\n",
      "training_data/augmented_imgs/underarm_466994.png\n",
      "training_data/augmented_imgs/underarm_466995.png\n",
      "training_data/augmented_imgs/underarm_466996.png\n",
      "training_data/augmented_imgs/underarm_466997.png\n",
      "training_data/augmented_imgs/underarm_466998.png\n",
      "training_data/augmented_imgs/underarm_466999.png\n",
      "training_data/augmented_imgs/dramatic_551990.png\n",
      "training_data/augmented_imgs/dramatic_551991.png\n",
      "training_data/augmented_imgs/dramatic_551992.png\n",
      "training_data/augmented_imgs/dramatic_551993.png\n",
      "training_data/augmented_imgs/dramatic_551994.png\n"
     ]
    },
    {
     "name": "stderr",
     "output_type": "stream",
     "text": [
      "/home/ale/anaconda3/envs/tensor20/lib/python3.6/site-packages/fastai/vision/transform.py:243: UserWarning: torch.gesv is deprecated in favour of torch.solve and will be removed in the next release. Please use torch.solve instead.\n",
      "  return torch.gesv(B,A)[0][:,0]\n"
     ]
    },
    {
     "name": "stdout",
     "output_type": "stream",
     "text": [
      "training_data/augmented_imgs/dramatic_551995.png\n",
      "training_data/augmented_imgs/dramatic_551996.png\n",
      "training_data/augmented_imgs/dramatic_551997.png\n",
      "training_data/augmented_imgs/dramatic_551998.png\n",
      "training_data/augmented_imgs/dramatic_551999.png\n",
      "training_data/augmented_imgs/moonwalk_890990.png\n",
      "training_data/augmented_imgs/moonwalk_890991.png\n",
      "training_data/augmented_imgs/moonwalk_890992.png\n",
      "training_data/augmented_imgs/moonwalk_890993.png\n"
     ]
    },
    {
     "name": "stderr",
     "output_type": "stream",
     "text": [
      "/home/ale/anaconda3/envs/tensor20/lib/python3.6/site-packages/fastai/vision/transform.py:243: UserWarning: torch.gesv is deprecated in favour of torch.solve and will be removed in the next release. Please use torch.solve instead.\n",
      "  return torch.gesv(B,A)[0][:,0]\n"
     ]
    },
    {
     "name": "stdout",
     "output_type": "stream",
     "text": [
      "training_data/augmented_imgs/moonwalk_890994.png\n",
      "training_data/augmented_imgs/moonwalk_890995.png\n",
      "training_data/augmented_imgs/moonwalk_890996.png\n",
      "training_data/augmented_imgs/moonwalk_890997.png\n",
      "training_data/augmented_imgs/moonwalk_890998.png\n",
      "training_data/augmented_imgs/moonwalk_890999.png\n",
      "training_data/augmented_imgs/normal_1202990.png\n",
      "training_data/augmented_imgs/normal_1202991.png\n",
      "training_data/augmented_imgs/normal_1202992.png\n"
     ]
    },
    {
     "name": "stderr",
     "output_type": "stream",
     "text": [
      "/home/ale/anaconda3/envs/tensor20/lib/python3.6/site-packages/fastai/vision/transform.py:243: UserWarning: torch.gesv is deprecated in favour of torch.solve and will be removed in the next release. Please use torch.solve instead.\n",
      "  return torch.gesv(B,A)[0][:,0]\n",
      "/home/ale/anaconda3/envs/tensor20/lib/python3.6/site-packages/fastai/vision/transform.py:243: UserWarning: torch.gesv is deprecated in favour of torch.solve and will be removed in the next release. Please use torch.solve instead.\n",
      "  return torch.gesv(B,A)[0][:,0]\n"
     ]
    },
    {
     "name": "stdout",
     "output_type": "stream",
     "text": [
      "training_data/augmented_imgs/normal_1202993.png\n",
      "training_data/augmented_imgs/normal_1202994.png\n",
      "training_data/augmented_imgs/normal_1202995.png\n",
      "training_data/augmented_imgs/normal_1202996.png\n",
      "training_data/augmented_imgs/normal_1202997.png\n",
      "training_data/augmented_imgs/normal_1202998.png\n",
      "training_data/augmented_imgs/normal_1202999.png\n",
      "training_data/augmented_imgs/normal_205990.png\n",
      "training_data/augmented_imgs/normal_205991.png\n",
      "training_data/augmented_imgs/normal_205992.png\n"
     ]
    },
    {
     "name": "stderr",
     "output_type": "stream",
     "text": [
      "/home/ale/anaconda3/envs/tensor20/lib/python3.6/site-packages/fastai/vision/transform.py:243: UserWarning: torch.gesv is deprecated in favour of torch.solve and will be removed in the next release. Please use torch.solve instead.\n",
      "  return torch.gesv(B,A)[0][:,0]\n"
     ]
    },
    {
     "name": "stdout",
     "output_type": "stream",
     "text": [
      "training_data/augmented_imgs/normal_205993.png\n",
      "training_data/augmented_imgs/normal_205994.png\n",
      "training_data/augmented_imgs/normal_205995.png\n",
      "training_data/augmented_imgs/normal_205996.png\n",
      "training_data/augmented_imgs/normal_205997.png\n",
      "training_data/augmented_imgs/normal_205998.png\n",
      "training_data/augmented_imgs/normal_205999.png\n",
      "training_data/augmented_imgs/hadouken_94990.png\n",
      "training_data/augmented_imgs/hadouken_94991.png\n",
      "training_data/augmented_imgs/hadouken_94992.png\n",
      "training_data/augmented_imgs/hadouken_94993.png\n",
      "training_data/augmented_imgs/hadouken_94994.png\n",
      "training_data/augmented_imgs/hadouken_94995.png\n",
      "training_data/augmented_imgs/hadouken_94996.png\n",
      "training_data/augmented_imgs/hadouken_94997.png\n",
      "training_data/augmented_imgs/hadouken_94998.png\n",
      "training_data/augmented_imgs/hadouken_94999.png\n",
      "training_data/augmented_imgs/fly_850990.png\n",
      "training_data/augmented_imgs/fly_850991.png\n"
     ]
    },
    {
     "name": "stderr",
     "output_type": "stream",
     "text": [
      "/home/ale/anaconda3/envs/tensor20/lib/python3.6/site-packages/fastai/vision/transform.py:243: UserWarning: torch.gesv is deprecated in favour of torch.solve and will be removed in the next release. Please use torch.solve instead.\n",
      "  return torch.gesv(B,A)[0][:,0]\n",
      "/home/ale/anaconda3/envs/tensor20/lib/python3.6/site-packages/fastai/vision/transform.py:243: UserWarning: torch.gesv is deprecated in favour of torch.solve and will be removed in the next release. Please use torch.solve instead.\n",
      "  return torch.gesv(B,A)[0][:,0]\n"
     ]
    },
    {
     "name": "stdout",
     "output_type": "stream",
     "text": [
      "training_data/augmented_imgs/fly_850992.png\n",
      "training_data/augmented_imgs/fly_850993.png\n",
      "training_data/augmented_imgs/fly_850994.png\n",
      "training_data/augmented_imgs/fly_850995.png\n",
      "training_data/augmented_imgs/fly_850996.png\n",
      "training_data/augmented_imgs/fly_850997.png\n",
      "training_data/augmented_imgs/fly_850998.png\n",
      "training_data/augmented_imgs/fly_850999.png\n",
      "training_data/augmented_imgs/dramatic_289990.png\n",
      "training_data/augmented_imgs/dramatic_289991.png\n",
      "training_data/augmented_imgs/dramatic_289992.png\n"
     ]
    },
    {
     "name": "stderr",
     "output_type": "stream",
     "text": [
      "/home/ale/anaconda3/envs/tensor20/lib/python3.6/site-packages/fastai/vision/transform.py:243: UserWarning: torch.gesv is deprecated in favour of torch.solve and will be removed in the next release. Please use torch.solve instead.\n",
      "  return torch.gesv(B,A)[0][:,0]\n"
     ]
    },
    {
     "name": "stdout",
     "output_type": "stream",
     "text": [
      "training_data/augmented_imgs/dramatic_289993.png\n",
      "training_data/augmented_imgs/dramatic_289994.png\n",
      "training_data/augmented_imgs/dramatic_289995.png\n",
      "training_data/augmented_imgs/dramatic_289996.png\n",
      "training_data/augmented_imgs/dramatic_289997.png\n",
      "training_data/augmented_imgs/dramatic_289998.png\n",
      "training_data/augmented_imgs/dramatic_289999.png\n",
      "training_data/augmented_imgs/fly_854990.png\n",
      "training_data/augmented_imgs/fly_854991.png\n"
     ]
    },
    {
     "name": "stderr",
     "output_type": "stream",
     "text": [
      "/home/ale/anaconda3/envs/tensor20/lib/python3.6/site-packages/fastai/vision/transform.py:243: UserWarning: torch.gesv is deprecated in favour of torch.solve and will be removed in the next release. Please use torch.solve instead.\n",
      "  return torch.gesv(B,A)[0][:,0]\n",
      "/home/ale/anaconda3/envs/tensor20/lib/python3.6/site-packages/fastai/vision/transform.py:243: UserWarning: torch.gesv is deprecated in favour of torch.solve and will be removed in the next release. Please use torch.solve instead.\n",
      "  return torch.gesv(B,A)[0][:,0]\n"
     ]
    },
    {
     "name": "stdout",
     "output_type": "stream",
     "text": [
      "training_data/augmented_imgs/fly_854992.png\n",
      "training_data/augmented_imgs/fly_854993.png\n",
      "training_data/augmented_imgs/fly_854994.png\n",
      "training_data/augmented_imgs/fly_854995.png\n",
      "training_data/augmented_imgs/fly_854996.png\n",
      "training_data/augmented_imgs/fly_854997.png\n",
      "training_data/augmented_imgs/fly_854998.png\n",
      "training_data/augmented_imgs/fly_854999.png\n",
      "training_data/augmented_imgs/wings_819990.png\n",
      "training_data/augmented_imgs/wings_819991.png\n",
      "training_data/augmented_imgs/wings_819992.png\n",
      "training_data/augmented_imgs/wings_819993.png\n",
      "training_data/augmented_imgs/wings_819994.png\n",
      "training_data/augmented_imgs/wings_819995.png\n",
      "training_data/augmented_imgs/wings_819996.png\n",
      "training_data/augmented_imgs/wings_819997.png\n",
      "training_data/augmented_imgs/wings_819998.png\n",
      "training_data/augmented_imgs/wings_819999.png\n",
      "training_data/augmented_imgs/normal_17990.png\n",
      "training_data/augmented_imgs/normal_17991.png\n",
      "training_data/augmented_imgs/normal_17992.png\n",
      "training_data/augmented_imgs/normal_17993.png\n",
      "training_data/augmented_imgs/normal_17994.png\n",
      "training_data/augmented_imgs/normal_17995.png\n",
      "training_data/augmented_imgs/normal_17996.png\n",
      "training_data/augmented_imgs/normal_17997.png\n",
      "training_data/augmented_imgs/normal_17998.png\n",
      "training_data/augmented_imgs/normal_17999.png\n",
      "training_data/augmented_imgs/normal_409990.png\n"
     ]
    },
    {
     "name": "stderr",
     "output_type": "stream",
     "text": [
      "/home/ale/anaconda3/envs/tensor20/lib/python3.6/site-packages/fastai/vision/transform.py:243: UserWarning: torch.gesv is deprecated in favour of torch.solve and will be removed in the next release. Please use torch.solve instead.\n",
      "  return torch.gesv(B,A)[0][:,0]\n",
      "/home/ale/anaconda3/envs/tensor20/lib/python3.6/site-packages/fastai/vision/transform.py:243: UserWarning: torch.gesv is deprecated in favour of torch.solve and will be removed in the next release. Please use torch.solve instead.\n",
      "  return torch.gesv(B,A)[0][:,0]\n"
     ]
    },
    {
     "name": "stdout",
     "output_type": "stream",
     "text": [
      "training_data/augmented_imgs/normal_409991.png\n",
      "training_data/augmented_imgs/normal_409992.png\n",
      "training_data/augmented_imgs/normal_409993.png\n",
      "training_data/augmented_imgs/normal_409994.png\n",
      "training_data/augmented_imgs/normal_409995.png\n",
      "training_data/augmented_imgs/normal_409996.png\n",
      "training_data/augmented_imgs/normal_409997.png\n",
      "training_data/augmented_imgs/normal_409998.png\n",
      "training_data/augmented_imgs/normal_409999.png\n",
      "training_data/augmented_imgs/moonwalk_81990.png\n",
      "training_data/augmented_imgs/moonwalk_81991.png\n",
      "training_data/augmented_imgs/moonwalk_81992.png\n",
      "training_data/augmented_imgs/moonwalk_81993.png\n",
      "training_data/augmented_imgs/moonwalk_81994.png\n",
      "training_data/augmented_imgs/moonwalk_81995.png\n",
      "training_data/augmented_imgs/moonwalk_81996.png\n",
      "training_data/augmented_imgs/moonwalk_81997.png\n",
      "training_data/augmented_imgs/moonwalk_81998.png\n",
      "training_data/augmented_imgs/moonwalk_81999.png\n",
      "training_data/augmented_imgs/normal_801990.png\n",
      "training_data/augmented_imgs/normal_801991.png\n",
      "training_data/augmented_imgs/normal_801992.png\n"
     ]
    },
    {
     "name": "stderr",
     "output_type": "stream",
     "text": [
      "/home/ale/anaconda3/envs/tensor20/lib/python3.6/site-packages/fastai/vision/transform.py:243: UserWarning: torch.gesv is deprecated in favour of torch.solve and will be removed in the next release. Please use torch.solve instead.\n",
      "  return torch.gesv(B,A)[0][:,0]\n"
     ]
    },
    {
     "name": "stdout",
     "output_type": "stream",
     "text": [
      "training_data/augmented_imgs/normal_801993.png\n",
      "training_data/augmented_imgs/normal_801994.png\n",
      "training_data/augmented_imgs/normal_801995.png\n",
      "training_data/augmented_imgs/normal_801996.png\n",
      "training_data/augmented_imgs/normal_801997.png\n",
      "training_data/augmented_imgs/normal_801998.png\n",
      "training_data/augmented_imgs/normal_801999.png\n",
      "training_data/augmented_imgs/fly_227990.png\n",
      "training_data/augmented_imgs/fly_227991.png\n",
      "training_data/augmented_imgs/fly_227992.png\n",
      "training_data/augmented_imgs/fly_227993.png\n",
      "training_data/augmented_imgs/fly_227994.png\n",
      "training_data/augmented_imgs/fly_227995.png\n",
      "training_data/augmented_imgs/fly_227996.png\n",
      "training_data/augmented_imgs/fly_227997.png\n",
      "training_data/augmented_imgs/fly_227998.png\n",
      "training_data/augmented_imgs/fly_227999.png\n",
      "training_data/augmented_imgs/moonwalk_895990.png\n",
      "training_data/augmented_imgs/moonwalk_895991.png\n",
      "training_data/augmented_imgs/moonwalk_895992.png\n",
      "training_data/augmented_imgs/moonwalk_895993.png\n"
     ]
    },
    {
     "name": "stderr",
     "output_type": "stream",
     "text": [
      "/home/ale/anaconda3/envs/tensor20/lib/python3.6/site-packages/fastai/vision/transform.py:243: UserWarning: torch.gesv is deprecated in favour of torch.solve and will be removed in the next release. Please use torch.solve instead.\n",
      "  return torch.gesv(B,A)[0][:,0]\n"
     ]
    },
    {
     "name": "stdout",
     "output_type": "stream",
     "text": [
      "training_data/augmented_imgs/moonwalk_895994.png\n",
      "training_data/augmented_imgs/moonwalk_895995.png\n",
      "training_data/augmented_imgs/moonwalk_895996.png\n",
      "training_data/augmented_imgs/moonwalk_895997.png\n",
      "training_data/augmented_imgs/moonwalk_895998.png\n",
      "training_data/augmented_imgs/moonwalk_895999.png\n",
      "training_data/augmented_imgs/dramatic_943990.png\n",
      "training_data/augmented_imgs/dramatic_943991.png\n",
      "training_data/augmented_imgs/dramatic_943992.png\n",
      "training_data/augmented_imgs/dramatic_943993.png\n",
      "training_data/augmented_imgs/dramatic_943994.png\n"
     ]
    },
    {
     "name": "stderr",
     "output_type": "stream",
     "text": [
      "/home/ale/anaconda3/envs/tensor20/lib/python3.6/site-packages/fastai/vision/transform.py:243: UserWarning: torch.gesv is deprecated in favour of torch.solve and will be removed in the next release. Please use torch.solve instead.\n",
      "  return torch.gesv(B,A)[0][:,0]\n",
      "/home/ale/anaconda3/envs/tensor20/lib/python3.6/site-packages/fastai/vision/transform.py:243: UserWarning: torch.gesv is deprecated in favour of torch.solve and will be removed in the next release. Please use torch.solve instead.\n",
      "  return torch.gesv(B,A)[0][:,0]\n"
     ]
    },
    {
     "name": "stdout",
     "output_type": "stream",
     "text": [
      "training_data/augmented_imgs/dramatic_943995.png\n",
      "training_data/augmented_imgs/dramatic_943996.png\n",
      "training_data/augmented_imgs/dramatic_943997.png\n",
      "training_data/augmented_imgs/dramatic_943998.png\n",
      "training_data/augmented_imgs/dramatic_943999.png\n",
      "training_data/augmented_imgs/wings_421990.png\n",
      "training_data/augmented_imgs/wings_421991.png\n",
      "training_data/augmented_imgs/wings_421992.png\n",
      "training_data/augmented_imgs/wings_421993.png\n",
      "training_data/augmented_imgs/wings_421994.png\n",
      "training_data/augmented_imgs/wings_421995.png\n",
      "training_data/augmented_imgs/wings_421996.png\n",
      "training_data/augmented_imgs/wings_421997.png\n",
      "training_data/augmented_imgs/wings_421998.png\n",
      "training_data/augmented_imgs/wings_421999.png\n",
      "training_data/augmented_imgs/normal_0990.png\n",
      "training_data/augmented_imgs/normal_0991.png\n",
      "training_data/augmented_imgs/normal_0992.png\n",
      "training_data/augmented_imgs/normal_0993.png\n",
      "training_data/augmented_imgs/normal_0994.png\n",
      "training_data/augmented_imgs/normal_0995.png\n"
     ]
    },
    {
     "name": "stderr",
     "output_type": "stream",
     "text": [
      "/home/ale/anaconda3/envs/tensor20/lib/python3.6/site-packages/fastai/vision/transform.py:243: UserWarning: torch.gesv is deprecated in favour of torch.solve and will be removed in the next release. Please use torch.solve instead.\n",
      "  return torch.gesv(B,A)[0][:,0]\n"
     ]
    },
    {
     "name": "stdout",
     "output_type": "stream",
     "text": [
      "training_data/augmented_imgs/normal_0996.png\n",
      "training_data/augmented_imgs/normal_0997.png\n",
      "training_data/augmented_imgs/normal_0998.png\n",
      "training_data/augmented_imgs/normal_0999.png\n",
      "training_data/augmented_imgs/normal_206990.png\n",
      "training_data/augmented_imgs/normal_206991.png\n",
      "training_data/augmented_imgs/normal_206992.png\n",
      "training_data/augmented_imgs/normal_206993.png\n",
      "training_data/augmented_imgs/normal_206994.png\n"
     ]
    },
    {
     "name": "stderr",
     "output_type": "stream",
     "text": [
      "/home/ale/anaconda3/envs/tensor20/lib/python3.6/site-packages/fastai/vision/transform.py:243: UserWarning: torch.gesv is deprecated in favour of torch.solve and will be removed in the next release. Please use torch.solve instead.\n",
      "  return torch.gesv(B,A)[0][:,0]\n",
      "/home/ale/anaconda3/envs/tensor20/lib/python3.6/site-packages/fastai/vision/transform.py:243: UserWarning: torch.gesv is deprecated in favour of torch.solve and will be removed in the next release. Please use torch.solve instead.\n",
      "  return torch.gesv(B,A)[0][:,0]\n"
     ]
    },
    {
     "name": "stdout",
     "output_type": "stream",
     "text": [
      "training_data/augmented_imgs/normal_206995.png\n",
      "training_data/augmented_imgs/normal_206996.png\n",
      "training_data/augmented_imgs/normal_206997.png\n",
      "training_data/augmented_imgs/normal_206998.png\n",
      "training_data/augmented_imgs/normal_206999.png\n",
      "training_data/augmented_imgs/underarm_872990.png\n",
      "training_data/augmented_imgs/underarm_872991.png\n",
      "training_data/augmented_imgs/underarm_872992.png\n",
      "training_data/augmented_imgs/underarm_872993.png\n",
      "training_data/augmented_imgs/underarm_872994.png\n",
      "training_data/augmented_imgs/underarm_872995.png\n",
      "training_data/augmented_imgs/underarm_872996.png\n",
      "training_data/augmented_imgs/underarm_872997.png\n",
      "training_data/augmented_imgs/underarm_872998.png\n",
      "training_data/augmented_imgs/underarm_872999.png\n",
      "training_data/augmented_imgs/wings_829990.png\n",
      "training_data/augmented_imgs/wings_829991.png\n",
      "training_data/augmented_imgs/wings_829992.png\n",
      "training_data/augmented_imgs/wings_829993.png\n",
      "training_data/augmented_imgs/wings_829994.png\n"
     ]
    },
    {
     "name": "stderr",
     "output_type": "stream",
     "text": [
      "/home/ale/anaconda3/envs/tensor20/lib/python3.6/site-packages/fastai/vision/transform.py:243: UserWarning: torch.gesv is deprecated in favour of torch.solve and will be removed in the next release. Please use torch.solve instead.\n",
      "  return torch.gesv(B,A)[0][:,0]\n"
     ]
    },
    {
     "name": "stdout",
     "output_type": "stream",
     "text": [
      "training_data/augmented_imgs/wings_829995.png\n",
      "training_data/augmented_imgs/wings_829996.png\n",
      "training_data/augmented_imgs/wings_829997.png\n",
      "training_data/augmented_imgs/wings_829998.png\n",
      "training_data/augmented_imgs/wings_829999.png\n",
      "training_data/augmented_imgs/backpack_114990.png\n",
      "training_data/augmented_imgs/backpack_114991.png\n",
      "training_data/augmented_imgs/backpack_114992.png\n",
      "training_data/augmented_imgs/backpack_114993.png\n",
      "training_data/augmented_imgs/backpack_114994.png\n",
      "training_data/augmented_imgs/backpack_114995.png\n"
     ]
    },
    {
     "name": "stderr",
     "output_type": "stream",
     "text": [
      "/home/ale/anaconda3/envs/tensor20/lib/python3.6/site-packages/fastai/vision/transform.py:243: UserWarning: torch.gesv is deprecated in favour of torch.solve and will be removed in the next release. Please use torch.solve instead.\n",
      "  return torch.gesv(B,A)[0][:,0]\n"
     ]
    },
    {
     "name": "stdout",
     "output_type": "stream",
     "text": [
      "training_data/augmented_imgs/backpack_114996.png\n",
      "training_data/augmented_imgs/backpack_114997.png\n",
      "training_data/augmented_imgs/backpack_114998.png\n",
      "training_data/augmented_imgs/backpack_114999.png\n",
      "training_data/augmented_imgs/normal_1206990.png\n",
      "training_data/augmented_imgs/normal_1206991.png\n",
      "training_data/augmented_imgs/normal_1206992.png\n",
      "training_data/augmented_imgs/normal_1206993.png\n",
      "training_data/augmented_imgs/normal_1206994.png\n",
      "training_data/augmented_imgs/normal_1206995.png\n",
      "training_data/augmented_imgs/normal_1206996.png\n",
      "training_data/augmented_imgs/normal_1206997.png\n",
      "training_data/augmented_imgs/normal_1206998.png\n",
      "training_data/augmented_imgs/normal_1206999.png\n",
      "training_data/augmented_imgs/wings_839990.png\n",
      "training_data/augmented_imgs/wings_839991.png\n",
      "training_data/augmented_imgs/wings_839992.png\n",
      "training_data/augmented_imgs/wings_839993.png\n"
     ]
    },
    {
     "name": "stderr",
     "output_type": "stream",
     "text": [
      "/home/ale/anaconda3/envs/tensor20/lib/python3.6/site-packages/fastai/vision/transform.py:243: UserWarning: torch.gesv is deprecated in favour of torch.solve and will be removed in the next release. Please use torch.solve instead.\n",
      "  return torch.gesv(B,A)[0][:,0]\n"
     ]
    },
    {
     "name": "stdout",
     "output_type": "stream",
     "text": [
      "training_data/augmented_imgs/wings_839994.png\n",
      "training_data/augmented_imgs/wings_839995.png\n",
      "training_data/augmented_imgs/wings_839996.png\n",
      "training_data/augmented_imgs/wings_839997.png\n",
      "training_data/augmented_imgs/wings_839998.png\n",
      "training_data/augmented_imgs/wings_839999.png\n",
      "training_data/augmented_imgs/moonwalk_86990.png\n",
      "training_data/augmented_imgs/moonwalk_86991.png\n",
      "training_data/augmented_imgs/moonwalk_86992.png\n"
     ]
    },
    {
     "name": "stderr",
     "output_type": "stream",
     "text": [
      "/home/ale/anaconda3/envs/tensor20/lib/python3.6/site-packages/fastai/vision/transform.py:243: UserWarning: torch.gesv is deprecated in favour of torch.solve and will be removed in the next release. Please use torch.solve instead.\n",
      "  return torch.gesv(B,A)[0][:,0]\n",
      "/home/ale/anaconda3/envs/tensor20/lib/python3.6/site-packages/fastai/vision/transform.py:243: UserWarning: torch.gesv is deprecated in favour of torch.solve and will be removed in the next release. Please use torch.solve instead.\n",
      "  return torch.gesv(B,A)[0][:,0]\n"
     ]
    },
    {
     "name": "stdout",
     "output_type": "stream",
     "text": [
      "training_data/augmented_imgs/moonwalk_86993.png\n",
      "training_data/augmented_imgs/moonwalk_86994.png\n",
      "training_data/augmented_imgs/moonwalk_86995.png\n",
      "training_data/augmented_imgs/moonwalk_86996.png\n",
      "training_data/augmented_imgs/moonwalk_86997.png\n",
      "training_data/augmented_imgs/moonwalk_86998.png\n",
      "training_data/augmented_imgs/moonwalk_86999.png\n",
      "training_data/augmented_imgs/hadouken_968990.png\n",
      "training_data/augmented_imgs/hadouken_968991.png\n",
      "training_data/augmented_imgs/hadouken_968992.png\n",
      "training_data/augmented_imgs/hadouken_968993.png\n",
      "training_data/augmented_imgs/hadouken_968994.png\n",
      "training_data/augmented_imgs/hadouken_968995.png\n",
      "training_data/augmented_imgs/hadouken_968996.png\n",
      "training_data/augmented_imgs/hadouken_968997.png\n",
      "training_data/augmented_imgs/hadouken_968998.png\n",
      "training_data/augmented_imgs/hadouken_968999.png\n",
      "training_data/augmented_imgs/hadouken_89990.png\n",
      "training_data/augmented_imgs/hadouken_89991.png\n",
      "training_data/augmented_imgs/hadouken_89992.png\n",
      "training_data/augmented_imgs/hadouken_89993.png\n",
      "training_data/augmented_imgs/hadouken_89994.png\n",
      "training_data/augmented_imgs/hadouken_89995.png\n",
      "training_data/augmented_imgs/hadouken_89996.png\n",
      "training_data/augmented_imgs/hadouken_89997.png\n",
      "training_data/augmented_imgs/hadouken_89998.png\n",
      "training_data/augmented_imgs/hadouken_89999.png\n",
      "training_data/augmented_imgs/hadouken_500990.png\n",
      "training_data/augmented_imgs/hadouken_500991.png\n",
      "training_data/augmented_imgs/hadouken_500992.png\n",
      "training_data/augmented_imgs/hadouken_500993.png\n",
      "training_data/augmented_imgs/hadouken_500994.png\n",
      "training_data/augmented_imgs/hadouken_500995.png\n",
      "training_data/augmented_imgs/hadouken_500996.png\n"
     ]
    },
    {
     "name": "stderr",
     "output_type": "stream",
     "text": [
      "/home/ale/anaconda3/envs/tensor20/lib/python3.6/site-packages/fastai/vision/transform.py:243: UserWarning: torch.gesv is deprecated in favour of torch.solve and will be removed in the next release. Please use torch.solve instead.\n",
      "  return torch.gesv(B,A)[0][:,0]\n"
     ]
    },
    {
     "name": "stdout",
     "output_type": "stream",
     "text": [
      "training_data/augmented_imgs/hadouken_500997.png\n",
      "training_data/augmented_imgs/hadouken_500998.png\n",
      "training_data/augmented_imgs/hadouken_500999.png\n",
      "training_data/augmented_imgs/moonwalk_483990.png\n",
      "training_data/augmented_imgs/moonwalk_483991.png\n",
      "training_data/augmented_imgs/moonwalk_483992.png\n",
      "training_data/augmented_imgs/moonwalk_483993.png\n",
      "training_data/augmented_imgs/moonwalk_483994.png\n",
      "training_data/augmented_imgs/moonwalk_483995.png\n",
      "training_data/augmented_imgs/moonwalk_483996.png\n"
     ]
    },
    {
     "name": "stderr",
     "output_type": "stream",
     "text": [
      "/home/ale/anaconda3/envs/tensor20/lib/python3.6/site-packages/fastai/vision/transform.py:243: UserWarning: torch.gesv is deprecated in favour of torch.solve and will be removed in the next release. Please use torch.solve instead.\n",
      "  return torch.gesv(B,A)[0][:,0]\n"
     ]
    },
    {
     "name": "stdout",
     "output_type": "stream",
     "text": [
      "training_data/augmented_imgs/moonwalk_483997.png\n",
      "training_data/augmented_imgs/moonwalk_483998.png\n",
      "training_data/augmented_imgs/moonwalk_483999.png\n",
      "training_data/augmented_imgs/moonwalk_482990.png\n",
      "training_data/augmented_imgs/moonwalk_482991.png\n",
      "training_data/augmented_imgs/moonwalk_482992.png\n",
      "training_data/augmented_imgs/moonwalk_482993.png\n",
      "training_data/augmented_imgs/moonwalk_482994.png\n",
      "training_data/augmented_imgs/moonwalk_482995.png\n",
      "training_data/augmented_imgs/moonwalk_482996.png\n"
     ]
    },
    {
     "name": "stderr",
     "output_type": "stream",
     "text": [
      "/home/ale/anaconda3/envs/tensor20/lib/python3.6/site-packages/fastai/vision/transform.py:243: UserWarning: torch.gesv is deprecated in favour of torch.solve and will be removed in the next release. Please use torch.solve instead.\n",
      "  return torch.gesv(B,A)[0][:,0]\n",
      "/home/ale/anaconda3/envs/tensor20/lib/python3.6/site-packages/fastai/vision/transform.py:243: UserWarning: torch.gesv is deprecated in favour of torch.solve and will be removed in the next release. Please use torch.solve instead.\n",
      "  return torch.gesv(B,A)[0][:,0]\n"
     ]
    },
    {
     "name": "stdout",
     "output_type": "stream",
     "text": [
      "training_data/augmented_imgs/moonwalk_482997.png\n",
      "training_data/augmented_imgs/moonwalk_482998.png\n",
      "training_data/augmented_imgs/moonwalk_482999.png\n",
      "training_data/augmented_imgs/backpack_922990.png\n",
      "training_data/augmented_imgs/backpack_922991.png\n",
      "training_data/augmented_imgs/backpack_922992.png\n",
      "training_data/augmented_imgs/backpack_922993.png\n",
      "training_data/augmented_imgs/backpack_922994.png\n",
      "training_data/augmented_imgs/backpack_922995.png\n",
      "training_data/augmented_imgs/backpack_922996.png\n",
      "training_data/augmented_imgs/backpack_922997.png\n",
      "training_data/augmented_imgs/backpack_922998.png\n",
      "training_data/augmented_imgs/backpack_922999.png\n",
      "training_data/augmented_imgs/fly_43990.png\n",
      "training_data/augmented_imgs/fly_43991.png\n",
      "training_data/augmented_imgs/fly_43992.png\n",
      "training_data/augmented_imgs/fly_43993.png\n",
      "training_data/augmented_imgs/fly_43994.png\n"
     ]
    },
    {
     "name": "stderr",
     "output_type": "stream",
     "text": [
      "/home/ale/anaconda3/envs/tensor20/lib/python3.6/site-packages/fastai/vision/transform.py:243: UserWarning: torch.gesv is deprecated in favour of torch.solve and will be removed in the next release. Please use torch.solve instead.\n",
      "  return torch.gesv(B,A)[0][:,0]\n"
     ]
    },
    {
     "name": "stdout",
     "output_type": "stream",
     "text": [
      "training_data/augmented_imgs/fly_43995.png\n",
      "training_data/augmented_imgs/fly_43996.png\n",
      "training_data/augmented_imgs/fly_43997.png\n",
      "training_data/augmented_imgs/fly_43998.png\n",
      "training_data/augmented_imgs/fly_43999.png\n",
      "training_data/augmented_imgs/dramatic_1255990.png\n",
      "training_data/augmented_imgs/dramatic_1255991.png\n",
      "training_data/augmented_imgs/dramatic_1255992.png\n",
      "training_data/augmented_imgs/dramatic_1255993.png\n",
      "training_data/augmented_imgs/dramatic_1255994.png\n",
      "training_data/augmented_imgs/dramatic_1255995.png\n",
      "training_data/augmented_imgs/dramatic_1255996.png\n",
      "training_data/augmented_imgs/dramatic_1255997.png\n",
      "training_data/augmented_imgs/dramatic_1255998.png\n",
      "training_data/augmented_imgs/dramatic_1255999.png\n",
      "training_data/augmented_imgs/dramatic_130990.png\n",
      "training_data/augmented_imgs/dramatic_130991.png\n",
      "training_data/augmented_imgs/dramatic_130992.png\n",
      "training_data/augmented_imgs/dramatic_130993.png\n"
     ]
    },
    {
     "name": "stderr",
     "output_type": "stream",
     "text": [
      "/home/ale/anaconda3/envs/tensor20/lib/python3.6/site-packages/fastai/vision/transform.py:243: UserWarning: torch.gesv is deprecated in favour of torch.solve and will be removed in the next release. Please use torch.solve instead.\n",
      "  return torch.gesv(B,A)[0][:,0]\n"
     ]
    },
    {
     "name": "stdout",
     "output_type": "stream",
     "text": [
      "training_data/augmented_imgs/dramatic_130994.png\n",
      "training_data/augmented_imgs/dramatic_130995.png\n",
      "training_data/augmented_imgs/dramatic_130996.png\n",
      "training_data/augmented_imgs/dramatic_130997.png\n",
      "training_data/augmented_imgs/dramatic_130998.png\n",
      "training_data/augmented_imgs/dramatic_130999.png\n",
      "training_data/augmented_imgs/normal_15990.png\n",
      "training_data/augmented_imgs/normal_15991.png\n",
      "training_data/augmented_imgs/normal_15992.png\n"
     ]
    },
    {
     "name": "stderr",
     "output_type": "stream",
     "text": [
      "/home/ale/anaconda3/envs/tensor20/lib/python3.6/site-packages/fastai/vision/transform.py:243: UserWarning: torch.gesv is deprecated in favour of torch.solve and will be removed in the next release. Please use torch.solve instead.\n",
      "  return torch.gesv(B,A)[0][:,0]\n"
     ]
    },
    {
     "name": "stdout",
     "output_type": "stream",
     "text": [
      "training_data/augmented_imgs/normal_15993.png\n",
      "training_data/augmented_imgs/normal_15994.png\n",
      "training_data/augmented_imgs/normal_15995.png\n",
      "training_data/augmented_imgs/normal_15996.png\n",
      "training_data/augmented_imgs/normal_15997.png\n",
      "training_data/augmented_imgs/normal_15998.png\n",
      "training_data/augmented_imgs/normal_15999.png\n",
      "training_data/augmented_imgs/normal_1203990.png\n",
      "training_data/augmented_imgs/normal_1203991.png\n"
     ]
    },
    {
     "name": "stderr",
     "output_type": "stream",
     "text": [
      "/home/ale/anaconda3/envs/tensor20/lib/python3.6/site-packages/fastai/vision/transform.py:243: UserWarning: torch.gesv is deprecated in favour of torch.solve and will be removed in the next release. Please use torch.solve instead.\n",
      "  return torch.gesv(B,A)[0][:,0]\n"
     ]
    },
    {
     "name": "stdout",
     "output_type": "stream",
     "text": [
      "training_data/augmented_imgs/normal_1203992.png\n",
      "training_data/augmented_imgs/normal_1203993.png\n",
      "training_data/augmented_imgs/normal_1203994.png\n",
      "training_data/augmented_imgs/normal_1203995.png\n",
      "training_data/augmented_imgs/normal_1203996.png\n",
      "training_data/augmented_imgs/normal_1203997.png\n",
      "training_data/augmented_imgs/normal_1203998.png\n",
      "training_data/augmented_imgs/normal_1203999.png\n"
     ]
    },
    {
     "name": "stderr",
     "output_type": "stream",
     "text": [
      "/home/ale/anaconda3/envs/tensor20/lib/python3.6/site-packages/fastai/vision/transform.py:243: UserWarning: torch.gesv is deprecated in favour of torch.solve and will be removed in the next release. Please use torch.solve instead.\n",
      "  return torch.gesv(B,A)[0][:,0]\n"
     ]
    },
    {
     "name": "stdout",
     "output_type": "stream",
     "text": [
      "training_data/augmented_imgs/normal_1209990.png\n",
      "training_data/augmented_imgs/normal_1209991.png\n",
      "training_data/augmented_imgs/normal_1209992.png\n",
      "training_data/augmented_imgs/normal_1209993.png\n",
      "training_data/augmented_imgs/normal_1209994.png\n",
      "training_data/augmented_imgs/normal_1209995.png\n",
      "training_data/augmented_imgs/normal_1209996.png\n",
      "training_data/augmented_imgs/normal_1209997.png\n",
      "training_data/augmented_imgs/normal_1209998.png\n",
      "training_data/augmented_imgs/normal_1209999.png\n",
      "training_data/augmented_imgs/wings_215990.png\n",
      "training_data/augmented_imgs/wings_215991.png\n",
      "training_data/augmented_imgs/wings_215992.png\n",
      "training_data/augmented_imgs/wings_215993.png\n",
      "training_data/augmented_imgs/wings_215994.png\n",
      "training_data/augmented_imgs/wings_215995.png\n",
      "training_data/augmented_imgs/wings_215996.png\n",
      "training_data/augmented_imgs/wings_215997.png\n",
      "training_data/augmented_imgs/wings_215998.png\n"
     ]
    },
    {
     "name": "stderr",
     "output_type": "stream",
     "text": [
      "/home/ale/anaconda3/envs/tensor20/lib/python3.6/site-packages/fastai/vision/transform.py:243: UserWarning: torch.gesv is deprecated in favour of torch.solve and will be removed in the next release. Please use torch.solve instead.\n",
      "  return torch.gesv(B,A)[0][:,0]\n"
     ]
    },
    {
     "name": "stdout",
     "output_type": "stream",
     "text": [
      "training_data/augmented_imgs/wings_215999.png\n",
      "training_data/augmented_imgs/hadouken_264990.png\n",
      "training_data/augmented_imgs/hadouken_264991.png\n",
      "training_data/augmented_imgs/hadouken_264992.png\n",
      "training_data/augmented_imgs/hadouken_264993.png\n",
      "training_data/augmented_imgs/hadouken_264994.png\n",
      "training_data/augmented_imgs/hadouken_264995.png\n",
      "training_data/augmented_imgs/hadouken_264996.png\n"
     ]
    },
    {
     "name": "stderr",
     "output_type": "stream",
     "text": [
      "/home/ale/anaconda3/envs/tensor20/lib/python3.6/site-packages/fastai/vision/transform.py:243: UserWarning: torch.gesv is deprecated in favour of torch.solve and will be removed in the next release. Please use torch.solve instead.\n",
      "  return torch.gesv(B,A)[0][:,0]\n"
     ]
    },
    {
     "name": "stdout",
     "output_type": "stream",
     "text": [
      "training_data/augmented_imgs/hadouken_264997.png\n",
      "training_data/augmented_imgs/hadouken_264998.png\n",
      "training_data/augmented_imgs/hadouken_264999.png\n",
      "training_data/augmented_imgs/dramatic_291990.png\n",
      "training_data/augmented_imgs/dramatic_291991.png\n",
      "training_data/augmented_imgs/dramatic_291992.png\n",
      "training_data/augmented_imgs/dramatic_291993.png\n",
      "training_data/augmented_imgs/dramatic_291994.png\n",
      "training_data/augmented_imgs/dramatic_291995.png\n"
     ]
    },
    {
     "name": "stderr",
     "output_type": "stream",
     "text": [
      "/home/ale/anaconda3/envs/tensor20/lib/python3.6/site-packages/fastai/vision/transform.py:243: UserWarning: torch.gesv is deprecated in favour of torch.solve and will be removed in the next release. Please use torch.solve instead.\n",
      "  return torch.gesv(B,A)[0][:,0]\n"
     ]
    },
    {
     "name": "stdout",
     "output_type": "stream",
     "text": [
      "training_data/augmented_imgs/dramatic_291996.png\n",
      "training_data/augmented_imgs/dramatic_291997.png\n",
      "training_data/augmented_imgs/dramatic_291998.png\n",
      "training_data/augmented_imgs/dramatic_291999.png\n",
      "training_data/augmented_imgs/dramatic_549990.png\n",
      "training_data/augmented_imgs/dramatic_549991.png\n",
      "training_data/augmented_imgs/dramatic_549992.png\n",
      "training_data/augmented_imgs/dramatic_549993.png\n",
      "training_data/augmented_imgs/dramatic_549994.png\n"
     ]
    },
    {
     "name": "stderr",
     "output_type": "stream",
     "text": [
      "/home/ale/anaconda3/envs/tensor20/lib/python3.6/site-packages/fastai/vision/transform.py:243: UserWarning: torch.gesv is deprecated in favour of torch.solve and will be removed in the next release. Please use torch.solve instead.\n",
      "  return torch.gesv(B,A)[0][:,0]\n",
      "/home/ale/anaconda3/envs/tensor20/lib/python3.6/site-packages/fastai/vision/transform.py:243: UserWarning: torch.gesv is deprecated in favour of torch.solve and will be removed in the next release. Please use torch.solve instead.\n",
      "  return torch.gesv(B,A)[0][:,0]\n"
     ]
    },
    {
     "name": "stdout",
     "output_type": "stream",
     "text": [
      "training_data/augmented_imgs/dramatic_549995.png\n",
      "training_data/augmented_imgs/dramatic_549996.png\n",
      "training_data/augmented_imgs/dramatic_549997.png\n",
      "training_data/augmented_imgs/dramatic_549998.png\n",
      "training_data/augmented_imgs/dramatic_549999.png\n",
      "training_data/augmented_imgs/dramatic_1250990.png\n",
      "training_data/augmented_imgs/dramatic_1250991.png\n",
      "training_data/augmented_imgs/dramatic_1250992.png\n",
      "training_data/augmented_imgs/dramatic_1250993.png\n",
      "training_data/augmented_imgs/dramatic_1250994.png\n",
      "training_data/augmented_imgs/dramatic_1250995.png\n",
      "training_data/augmented_imgs/dramatic_1250996.png\n",
      "training_data/augmented_imgs/dramatic_1250997.png\n",
      "training_data/augmented_imgs/dramatic_1250998.png\n",
      "training_data/augmented_imgs/dramatic_1250999.png\n",
      "training_data/augmented_imgs/backpack_921990.png\n",
      "training_data/augmented_imgs/backpack_921991.png\n",
      "training_data/augmented_imgs/backpack_921992.png\n",
      "training_data/augmented_imgs/backpack_921993.png\n",
      "training_data/augmented_imgs/backpack_921994.png\n",
      "training_data/augmented_imgs/backpack_921995.png\n",
      "training_data/augmented_imgs/backpack_921996.png\n"
     ]
    },
    {
     "name": "stderr",
     "output_type": "stream",
     "text": [
      "/home/ale/anaconda3/envs/tensor20/lib/python3.6/site-packages/fastai/vision/transform.py:243: UserWarning: torch.gesv is deprecated in favour of torch.solve and will be removed in the next release. Please use torch.solve instead.\n",
      "  return torch.gesv(B,A)[0][:,0]\n",
      "/home/ale/anaconda3/envs/tensor20/lib/python3.6/site-packages/fastai/vision/transform.py:243: UserWarning: torch.gesv is deprecated in favour of torch.solve and will be removed in the next release. Please use torch.solve instead.\n",
      "  return torch.gesv(B,A)[0][:,0]\n"
     ]
    },
    {
     "name": "stdout",
     "output_type": "stream",
     "text": [
      "training_data/augmented_imgs/backpack_921997.png\n",
      "training_data/augmented_imgs/backpack_921998.png\n",
      "training_data/augmented_imgs/backpack_921999.png\n",
      "training_data/augmented_imgs/fly_46990.png\n",
      "training_data/augmented_imgs/fly_46991.png\n",
      "training_data/augmented_imgs/fly_46992.png\n",
      "training_data/augmented_imgs/fly_46993.png\n",
      "training_data/augmented_imgs/fly_46994.png\n",
      "training_data/augmented_imgs/fly_46995.png\n",
      "training_data/augmented_imgs/fly_46996.png\n",
      "training_data/augmented_imgs/fly_46997.png\n",
      "training_data/augmented_imgs/fly_46998.png\n",
      "training_data/augmented_imgs/fly_46999.png\n",
      "training_data/augmented_imgs/wings_225990.png\n",
      "training_data/augmented_imgs/wings_225991.png\n",
      "training_data/augmented_imgs/wings_225992.png\n",
      "training_data/augmented_imgs/wings_225993.png\n",
      "training_data/augmented_imgs/wings_225994.png\n",
      "training_data/augmented_imgs/wings_225995.png\n",
      "training_data/augmented_imgs/wings_225996.png\n"
     ]
    },
    {
     "name": "stderr",
     "output_type": "stream",
     "text": [
      "/home/ale/anaconda3/envs/tensor20/lib/python3.6/site-packages/fastai/vision/transform.py:243: UserWarning: torch.gesv is deprecated in favour of torch.solve and will be removed in the next release. Please use torch.solve instead.\n",
      "  return torch.gesv(B,A)[0][:,0]\n",
      "/home/ale/anaconda3/envs/tensor20/lib/python3.6/site-packages/fastai/vision/transform.py:243: UserWarning: torch.gesv is deprecated in favour of torch.solve and will be removed in the next release. Please use torch.solve instead.\n",
      "  return torch.gesv(B,A)[0][:,0]\n"
     ]
    },
    {
     "name": "stdout",
     "output_type": "stream",
     "text": [
      "training_data/augmented_imgs/wings_225997.png\n",
      "training_data/augmented_imgs/wings_225998.png\n",
      "training_data/augmented_imgs/wings_225999.png\n",
      "training_data/augmented_imgs/hadouken_93990.png\n",
      "training_data/augmented_imgs/hadouken_93991.png\n",
      "training_data/augmented_imgs/hadouken_93992.png\n",
      "training_data/augmented_imgs/hadouken_93993.png\n",
      "training_data/augmented_imgs/hadouken_93994.png\n",
      "training_data/augmented_imgs/hadouken_93995.png\n",
      "training_data/augmented_imgs/hadouken_93996.png\n",
      "training_data/augmented_imgs/hadouken_93997.png\n",
      "training_data/augmented_imgs/hadouken_93998.png\n",
      "training_data/augmented_imgs/hadouken_93999.png\n",
      "training_data/augmented_imgs/underarm_869990.png\n",
      "training_data/augmented_imgs/underarm_869991.png\n",
      "training_data/augmented_imgs/underarm_869992.png\n",
      "training_data/augmented_imgs/underarm_869993.png\n",
      "training_data/augmented_imgs/underarm_869994.png\n",
      "training_data/augmented_imgs/underarm_869995.png\n"
     ]
    },
    {
     "name": "stderr",
     "output_type": "stream",
     "text": [
      "/home/ale/anaconda3/envs/tensor20/lib/python3.6/site-packages/fastai/vision/transform.py:243: UserWarning: torch.gesv is deprecated in favour of torch.solve and will be removed in the next release. Please use torch.solve instead.\n",
      "  return torch.gesv(B,A)[0][:,0]\n"
     ]
    },
    {
     "name": "stdout",
     "output_type": "stream",
     "text": [
      "training_data/augmented_imgs/underarm_869996.png\n",
      "training_data/augmented_imgs/underarm_869997.png\n",
      "training_data/augmented_imgs/underarm_869998.png\n",
      "training_data/augmented_imgs/underarm_869999.png\n",
      "training_data/augmented_imgs/wings_222990.png\n",
      "training_data/augmented_imgs/wings_222991.png\n",
      "training_data/augmented_imgs/wings_222992.png\n",
      "training_data/augmented_imgs/wings_222993.png\n",
      "training_data/augmented_imgs/wings_222994.png\n",
      "training_data/augmented_imgs/wings_222995.png\n",
      "training_data/augmented_imgs/wings_222996.png\n",
      "training_data/augmented_imgs/wings_222997.png\n",
      "training_data/augmented_imgs/wings_222998.png\n",
      "training_data/augmented_imgs/wings_222999.png\n",
      "training_data/augmented_imgs/moonwalk_1218990.png\n",
      "training_data/augmented_imgs/moonwalk_1218991.png\n",
      "training_data/augmented_imgs/moonwalk_1218992.png\n"
     ]
    },
    {
     "name": "stderr",
     "output_type": "stream",
     "text": [
      "/home/ale/anaconda3/envs/tensor20/lib/python3.6/site-packages/fastai/vision/transform.py:243: UserWarning: torch.gesv is deprecated in favour of torch.solve and will be removed in the next release. Please use torch.solve instead.\n",
      "  return torch.gesv(B,A)[0][:,0]\n",
      "/home/ale/anaconda3/envs/tensor20/lib/python3.6/site-packages/fastai/vision/transform.py:243: UserWarning: torch.gesv is deprecated in favour of torch.solve and will be removed in the next release. Please use torch.solve instead.\n",
      "  return torch.gesv(B,A)[0][:,0]\n"
     ]
    },
    {
     "name": "stdout",
     "output_type": "stream",
     "text": [
      "training_data/augmented_imgs/moonwalk_1218993.png\n",
      "training_data/augmented_imgs/moonwalk_1218994.png\n",
      "training_data/augmented_imgs/moonwalk_1218995.png\n",
      "training_data/augmented_imgs/moonwalk_1218996.png\n",
      "training_data/augmented_imgs/moonwalk_1218997.png\n",
      "training_data/augmented_imgs/moonwalk_1218998.png\n",
      "training_data/augmented_imgs/moonwalk_1218999.png\n",
      "training_data/augmented_imgs/fly_236990.png\n",
      "training_data/augmented_imgs/fly_236991.png\n"
     ]
    },
    {
     "name": "stderr",
     "output_type": "stream",
     "text": [
      "/home/ale/anaconda3/envs/tensor20/lib/python3.6/site-packages/fastai/vision/transform.py:243: UserWarning: torch.gesv is deprecated in favour of torch.solve and will be removed in the next release. Please use torch.solve instead.\n",
      "  return torch.gesv(B,A)[0][:,0]\n"
     ]
    },
    {
     "name": "stdout",
     "output_type": "stream",
     "text": [
      "training_data/augmented_imgs/fly_236992.png\n",
      "training_data/augmented_imgs/fly_236993.png\n",
      "training_data/augmented_imgs/fly_236994.png\n",
      "training_data/augmented_imgs/fly_236995.png\n",
      "training_data/augmented_imgs/fly_236996.png\n",
      "training_data/augmented_imgs/fly_236997.png\n",
      "training_data/augmented_imgs/fly_236998.png\n",
      "training_data/augmented_imgs/fly_236999.png\n",
      "training_data/augmented_imgs/moonwalk_83990.png\n"
     ]
    },
    {
     "name": "stderr",
     "output_type": "stream",
     "text": [
      "/home/ale/anaconda3/envs/tensor20/lib/python3.6/site-packages/fastai/vision/transform.py:243: UserWarning: torch.gesv is deprecated in favour of torch.solve and will be removed in the next release. Please use torch.solve instead.\n",
      "  return torch.gesv(B,A)[0][:,0]\n"
     ]
    },
    {
     "name": "stdout",
     "output_type": "stream",
     "text": [
      "training_data/augmented_imgs/moonwalk_83991.png\n",
      "training_data/augmented_imgs/moonwalk_83992.png\n",
      "training_data/augmented_imgs/moonwalk_83993.png\n",
      "training_data/augmented_imgs/moonwalk_83994.png\n",
      "training_data/augmented_imgs/moonwalk_83995.png\n",
      "training_data/augmented_imgs/moonwalk_83996.png\n",
      "training_data/augmented_imgs/moonwalk_83997.png\n",
      "training_data/augmented_imgs/moonwalk_83998.png\n",
      "training_data/augmented_imgs/moonwalk_83999.png\n",
      "training_data/augmented_imgs/dramatic_939990.png\n",
      "training_data/augmented_imgs/dramatic_939991.png\n",
      "training_data/augmented_imgs/dramatic_939992.png\n",
      "training_data/augmented_imgs/dramatic_939993.png\n",
      "training_data/augmented_imgs/dramatic_939994.png\n",
      "training_data/augmented_imgs/dramatic_939995.png\n",
      "training_data/augmented_imgs/dramatic_939996.png\n",
      "training_data/augmented_imgs/dramatic_939997.png\n",
      "training_data/augmented_imgs/dramatic_939998.png\n",
      "training_data/augmented_imgs/dramatic_939999.png\n",
      "training_data/augmented_imgs/hadouken_95990.png\n",
      "training_data/augmented_imgs/hadouken_95991.png\n",
      "training_data/augmented_imgs/hadouken_95992.png\n",
      "training_data/augmented_imgs/hadouken_95993.png\n",
      "training_data/augmented_imgs/hadouken_95994.png\n",
      "training_data/augmented_imgs/hadouken_95995.png\n",
      "training_data/augmented_imgs/hadouken_95996.png\n",
      "training_data/augmented_imgs/hadouken_95997.png\n",
      "training_data/augmented_imgs/hadouken_95998.png\n",
      "training_data/augmented_imgs/hadouken_95999.png\n"
     ]
    },
    {
     "name": "stderr",
     "output_type": "stream",
     "text": [
      "/home/ale/anaconda3/envs/tensor20/lib/python3.6/site-packages/fastai/vision/transform.py:243: UserWarning: torch.gesv is deprecated in favour of torch.solve and will be removed in the next release. Please use torch.solve instead.\n",
      "  return torch.gesv(B,A)[0][:,0]\n"
     ]
    },
    {
     "name": "stdout",
     "output_type": "stream",
     "text": [
      "training_data/augmented_imgs/hadouken_969990.png\n",
      "training_data/augmented_imgs/hadouken_969991.png\n",
      "training_data/augmented_imgs/hadouken_969992.png\n",
      "training_data/augmented_imgs/hadouken_969993.png\n",
      "training_data/augmented_imgs/hadouken_969994.png\n",
      "training_data/augmented_imgs/hadouken_969995.png\n",
      "training_data/augmented_imgs/hadouken_969996.png\n",
      "training_data/augmented_imgs/hadouken_969997.png\n",
      "training_data/augmented_imgs/hadouken_969998.png\n",
      "training_data/augmented_imgs/hadouken_969999.png\n",
      "training_data/augmented_imgs/underarm_471990.png\n",
      "training_data/augmented_imgs/underarm_471991.png\n",
      "training_data/augmented_imgs/underarm_471992.png\n",
      "training_data/augmented_imgs/underarm_471993.png\n",
      "training_data/augmented_imgs/underarm_471994.png\n",
      "training_data/augmented_imgs/underarm_471995.png\n",
      "training_data/augmented_imgs/underarm_471996.png\n",
      "training_data/augmented_imgs/underarm_471997.png\n",
      "training_data/augmented_imgs/underarm_471998.png\n"
     ]
    },
    {
     "name": "stderr",
     "output_type": "stream",
     "text": [
      "/home/ale/anaconda3/envs/tensor20/lib/python3.6/site-packages/fastai/vision/transform.py:243: UserWarning: torch.gesv is deprecated in favour of torch.solve and will be removed in the next release. Please use torch.solve instead.\n",
      "  return torch.gesv(B,A)[0][:,0]\n"
     ]
    },
    {
     "name": "stdout",
     "output_type": "stream",
     "text": [
      "training_data/augmented_imgs/underarm_471999.png\n",
      "training_data/augmented_imgs/hadouken_97990.png\n",
      "training_data/augmented_imgs/hadouken_97991.png\n",
      "training_data/augmented_imgs/hadouken_97992.png\n",
      "training_data/augmented_imgs/hadouken_97993.png\n",
      "training_data/augmented_imgs/hadouken_97994.png\n",
      "training_data/augmented_imgs/hadouken_97995.png\n",
      "training_data/augmented_imgs/hadouken_97996.png\n",
      "training_data/augmented_imgs/hadouken_97997.png\n"
     ]
    },
    {
     "name": "stderr",
     "output_type": "stream",
     "text": [
      "/home/ale/anaconda3/envs/tensor20/lib/python3.6/site-packages/fastai/vision/transform.py:243: UserWarning: torch.gesv is deprecated in favour of torch.solve and will be removed in the next release. Please use torch.solve instead.\n",
      "  return torch.gesv(B,A)[0][:,0]\n"
     ]
    },
    {
     "name": "stdout",
     "output_type": "stream",
     "text": [
      "training_data/augmented_imgs/hadouken_97998.png\n",
      "training_data/augmented_imgs/hadouken_97999.png\n",
      "training_data/augmented_imgs/moonwalk_1213990.png\n",
      "training_data/augmented_imgs/moonwalk_1213991.png\n",
      "training_data/augmented_imgs/moonwalk_1213992.png\n",
      "training_data/augmented_imgs/moonwalk_1213993.png\n",
      "training_data/augmented_imgs/moonwalk_1213994.png\n",
      "training_data/augmented_imgs/moonwalk_1213995.png\n"
     ]
    },
    {
     "name": "stderr",
     "output_type": "stream",
     "text": [
      "/home/ale/anaconda3/envs/tensor20/lib/python3.6/site-packages/fastai/vision/transform.py:243: UserWarning: torch.gesv is deprecated in favour of torch.solve and will be removed in the next release. Please use torch.solve instead.\n",
      "  return torch.gesv(B,A)[0][:,0]\n"
     ]
    },
    {
     "name": "stdout",
     "output_type": "stream",
     "text": [
      "training_data/augmented_imgs/moonwalk_1213996.png\n",
      "training_data/augmented_imgs/moonwalk_1213997.png\n",
      "training_data/augmented_imgs/moonwalk_1213998.png\n",
      "training_data/augmented_imgs/moonwalk_1213999.png\n",
      "training_data/augmented_imgs/wings_221990.png\n",
      "training_data/augmented_imgs/wings_221991.png\n",
      "training_data/augmented_imgs/wings_221992.png\n",
      "training_data/augmented_imgs/wings_221993.png\n",
      "training_data/augmented_imgs/wings_221994.png\n"
     ]
    },
    {
     "name": "stderr",
     "output_type": "stream",
     "text": [
      "/home/ale/anaconda3/envs/tensor20/lib/python3.6/site-packages/fastai/vision/transform.py:243: UserWarning: torch.gesv is deprecated in favour of torch.solve and will be removed in the next release. Please use torch.solve instead.\n",
      "  return torch.gesv(B,A)[0][:,0]\n"
     ]
    },
    {
     "name": "stdout",
     "output_type": "stream",
     "text": [
      "training_data/augmented_imgs/wings_221995.png\n",
      "training_data/augmented_imgs/wings_221996.png\n",
      "training_data/augmented_imgs/wings_221997.png\n",
      "training_data/augmented_imgs/wings_221998.png\n",
      "training_data/augmented_imgs/wings_221999.png\n",
      "training_data/augmented_imgs/wings_29990.png\n",
      "training_data/augmented_imgs/wings_29991.png\n",
      "training_data/augmented_imgs/wings_29992.png\n"
     ]
    },
    {
     "name": "stderr",
     "output_type": "stream",
     "text": [
      "/home/ale/anaconda3/envs/tensor20/lib/python3.6/site-packages/fastai/vision/transform.py:243: UserWarning: torch.gesv is deprecated in favour of torch.solve and will be removed in the next release. Please use torch.solve instead.\n",
      "  return torch.gesv(B,A)[0][:,0]\n"
     ]
    },
    {
     "name": "stdout",
     "output_type": "stream",
     "text": [
      "training_data/augmented_imgs/wings_29993.png\n",
      "training_data/augmented_imgs/wings_29994.png\n",
      "training_data/augmented_imgs/wings_29995.png\n",
      "training_data/augmented_imgs/wings_29996.png\n",
      "training_data/augmented_imgs/wings_29997.png\n",
      "training_data/augmented_imgs/wings_29998.png\n",
      "training_data/augmented_imgs/wings_29999.png\n",
      "training_data/augmented_imgs/normal_804990.png\n",
      "training_data/augmented_imgs/normal_804991.png\n",
      "training_data/augmented_imgs/normal_804992.png\n",
      "training_data/augmented_imgs/normal_804993.png\n",
      "training_data/augmented_imgs/normal_804994.png\n",
      "training_data/augmented_imgs/normal_804995.png\n",
      "training_data/augmented_imgs/normal_804996.png\n",
      "training_data/augmented_imgs/normal_804997.png\n",
      "training_data/augmented_imgs/normal_804998.png\n",
      "training_data/augmented_imgs/normal_804999.png\n"
     ]
    },
    {
     "name": "stderr",
     "output_type": "stream",
     "text": [
      "/home/ale/anaconda3/envs/tensor20/lib/python3.6/site-packages/fastai/vision/transform.py:243: UserWarning: torch.gesv is deprecated in favour of torch.solve and will be removed in the next release. Please use torch.solve instead.\n",
      "  return torch.gesv(B,A)[0][:,0]\n",
      "/home/ale/anaconda3/envs/tensor20/lib/python3.6/site-packages/fastai/vision/transform.py:243: UserWarning: torch.gesv is deprecated in favour of torch.solve and will be removed in the next release. Please use torch.solve instead.\n",
      "  return torch.gesv(B,A)[0][:,0]\n"
     ]
    },
    {
     "name": "stdout",
     "output_type": "stream",
     "text": [
      "training_data/augmented_imgs/fly_57990.png\n",
      "training_data/augmented_imgs/fly_57991.png\n",
      "training_data/augmented_imgs/fly_57992.png\n",
      "training_data/augmented_imgs/fly_57993.png\n",
      "training_data/augmented_imgs/fly_57994.png\n",
      "training_data/augmented_imgs/fly_57995.png\n",
      "training_data/augmented_imgs/fly_57996.png\n",
      "training_data/augmented_imgs/fly_57997.png\n",
      "training_data/augmented_imgs/fly_57998.png\n",
      "training_data/augmented_imgs/fly_57999.png\n",
      "training_data/augmented_imgs/hadouken_1238990.png\n",
      "training_data/augmented_imgs/hadouken_1238991.png\n",
      "training_data/augmented_imgs/hadouken_1238992.png\n",
      "training_data/augmented_imgs/hadouken_1238993.png\n",
      "training_data/augmented_imgs/hadouken_1238994.png\n",
      "training_data/augmented_imgs/hadouken_1238995.png\n",
      "training_data/augmented_imgs/hadouken_1238996.png\n",
      "training_data/augmented_imgs/hadouken_1238997.png\n",
      "training_data/augmented_imgs/hadouken_1238998.png\n",
      "training_data/augmented_imgs/hadouken_1238999.png\n",
      "training_data/augmented_imgs/fly_851990.png\n"
     ]
    },
    {
     "name": "stderr",
     "output_type": "stream",
     "text": [
      "/home/ale/anaconda3/envs/tensor20/lib/python3.6/site-packages/fastai/vision/transform.py:243: UserWarning: torch.gesv is deprecated in favour of torch.solve and will be removed in the next release. Please use torch.solve instead.\n",
      "  return torch.gesv(B,A)[0][:,0]\n",
      "/home/ale/anaconda3/envs/tensor20/lib/python3.6/site-packages/fastai/vision/transform.py:243: UserWarning: torch.gesv is deprecated in favour of torch.solve and will be removed in the next release. Please use torch.solve instead.\n",
      "  return torch.gesv(B,A)[0][:,0]\n"
     ]
    },
    {
     "name": "stdout",
     "output_type": "stream",
     "text": [
      "training_data/augmented_imgs/fly_851991.png\n",
      "training_data/augmented_imgs/fly_851992.png\n",
      "training_data/augmented_imgs/fly_851993.png\n",
      "training_data/augmented_imgs/fly_851994.png\n",
      "training_data/augmented_imgs/fly_851995.png\n",
      "training_data/augmented_imgs/fly_851996.png\n",
      "training_data/augmented_imgs/fly_851997.png\n",
      "training_data/augmented_imgs/fly_851998.png\n",
      "training_data/augmented_imgs/fly_851999.png\n",
      "training_data/augmented_imgs/moonwalk_1215990.png\n",
      "training_data/augmented_imgs/moonwalk_1215991.png\n",
      "training_data/augmented_imgs/moonwalk_1215992.png\n",
      "training_data/augmented_imgs/moonwalk_1215993.png\n",
      "training_data/augmented_imgs/moonwalk_1215994.png\n",
      "training_data/augmented_imgs/moonwalk_1215995.png\n",
      "training_data/augmented_imgs/moonwalk_1215996.png\n",
      "training_data/augmented_imgs/moonwalk_1215997.png\n",
      "training_data/augmented_imgs/moonwalk_1215998.png\n",
      "training_data/augmented_imgs/moonwalk_1215999.png\n",
      "training_data/augmented_imgs/wings_214990.png\n",
      "training_data/augmented_imgs/wings_214991.png\n",
      "training_data/augmented_imgs/wings_214992.png\n",
      "training_data/augmented_imgs/wings_214993.png\n",
      "training_data/augmented_imgs/wings_214994.png\n",
      "training_data/augmented_imgs/wings_214995.png\n",
      "training_data/augmented_imgs/wings_214996.png\n",
      "training_data/augmented_imgs/wings_214997.png\n",
      "training_data/augmented_imgs/wings_214998.png\n",
      "training_data/augmented_imgs/wings_214999.png\n",
      "training_data/augmented_imgs/fly_430990.png\n",
      "training_data/augmented_imgs/fly_430991.png\n",
      "training_data/augmented_imgs/fly_430992.png\n",
      "training_data/augmented_imgs/fly_430993.png\n",
      "training_data/augmented_imgs/fly_430994.png\n",
      "training_data/augmented_imgs/fly_430995.png\n",
      "training_data/augmented_imgs/fly_430996.png\n",
      "training_data/augmented_imgs/fly_430997.png\n",
      "training_data/augmented_imgs/fly_430998.png\n"
     ]
    },
    {
     "name": "stderr",
     "output_type": "stream",
     "text": [
      "/home/ale/anaconda3/envs/tensor20/lib/python3.6/site-packages/fastai/vision/transform.py:243: UserWarning: torch.gesv is deprecated in favour of torch.solve and will be removed in the next release. Please use torch.solve instead.\n",
      "  return torch.gesv(B,A)[0][:,0]\n",
      "/home/ale/anaconda3/envs/tensor20/lib/python3.6/site-packages/fastai/vision/transform.py:243: UserWarning: torch.gesv is deprecated in favour of torch.solve and will be removed in the next release. Please use torch.solve instead.\n",
      "  return torch.gesv(B,A)[0][:,0]\n"
     ]
    },
    {
     "name": "stdout",
     "output_type": "stream",
     "text": [
      "training_data/augmented_imgs/fly_430999.png\n",
      "training_data/augmented_imgs/backpack_1243990.png\n",
      "training_data/augmented_imgs/backpack_1243991.png\n",
      "training_data/augmented_imgs/backpack_1243992.png\n",
      "training_data/augmented_imgs/backpack_1243993.png\n",
      "training_data/augmented_imgs/backpack_1243994.png\n",
      "training_data/augmented_imgs/backpack_1243995.png\n",
      "training_data/augmented_imgs/backpack_1243996.png\n",
      "training_data/augmented_imgs/backpack_1243997.png\n",
      "training_data/augmented_imgs/backpack_1243998.png\n",
      "training_data/augmented_imgs/backpack_1243999.png\n",
      "training_data/augmented_imgs/hadouken_98990.png\n",
      "training_data/augmented_imgs/hadouken_98991.png\n",
      "training_data/augmented_imgs/hadouken_98992.png\n",
      "training_data/augmented_imgs/hadouken_98993.png\n",
      "training_data/augmented_imgs/hadouken_98994.png\n",
      "training_data/augmented_imgs/hadouken_98995.png\n",
      "training_data/augmented_imgs/hadouken_98996.png\n",
      "training_data/augmented_imgs/hadouken_98997.png\n"
     ]
    },
    {
     "name": "stderr",
     "output_type": "stream",
     "text": [
      "/home/ale/anaconda3/envs/tensor20/lib/python3.6/site-packages/fastai/vision/transform.py:243: UserWarning: torch.gesv is deprecated in favour of torch.solve and will be removed in the next release. Please use torch.solve instead.\n",
      "  return torch.gesv(B,A)[0][:,0]\n"
     ]
    },
    {
     "name": "stdout",
     "output_type": "stream",
     "text": [
      "training_data/augmented_imgs/hadouken_98998.png\n",
      "training_data/augmented_imgs/hadouken_98999.png\n",
      "training_data/augmented_imgs/hadouken_508990.png\n",
      "training_data/augmented_imgs/hadouken_508991.png\n",
      "training_data/augmented_imgs/hadouken_508992.png\n",
      "training_data/augmented_imgs/hadouken_508993.png\n",
      "training_data/augmented_imgs/hadouken_508994.png\n",
      "training_data/augmented_imgs/hadouken_508995.png\n",
      "training_data/augmented_imgs/hadouken_508996.png\n",
      "training_data/augmented_imgs/hadouken_508997.png\n",
      "training_data/augmented_imgs/hadouken_508998.png\n",
      "training_data/augmented_imgs/hadouken_508999.png\n",
      "training_data/augmented_imgs/hadouken_525990.png\n",
      "training_data/augmented_imgs/hadouken_525991.png\n",
      "training_data/augmented_imgs/hadouken_525992.png\n",
      "training_data/augmented_imgs/hadouken_525993.png\n",
      "training_data/augmented_imgs/hadouken_525994.png\n",
      "training_data/augmented_imgs/hadouken_525995.png\n",
      "training_data/augmented_imgs/hadouken_525996.png\n",
      "training_data/augmented_imgs/hadouken_525997.png\n"
     ]
    },
    {
     "name": "stderr",
     "output_type": "stream",
     "text": [
      "/home/ale/anaconda3/envs/tensor20/lib/python3.6/site-packages/fastai/vision/transform.py:243: UserWarning: torch.gesv is deprecated in favour of torch.solve and will be removed in the next release. Please use torch.solve instead.\n",
      "  return torch.gesv(B,A)[0][:,0]\n"
     ]
    },
    {
     "name": "stdout",
     "output_type": "stream",
     "text": [
      "training_data/augmented_imgs/hadouken_525998.png\n",
      "training_data/augmented_imgs/hadouken_525999.png\n",
      "training_data/augmented_imgs/fly_431990.png\n",
      "training_data/augmented_imgs/fly_431991.png\n",
      "training_data/augmented_imgs/fly_431992.png\n",
      "training_data/augmented_imgs/fly_431993.png\n",
      "training_data/augmented_imgs/fly_431994.png\n",
      "training_data/augmented_imgs/fly_431995.png\n",
      "training_data/augmented_imgs/fly_431996.png\n"
     ]
    },
    {
     "name": "stderr",
     "output_type": "stream",
     "text": [
      "/home/ale/anaconda3/envs/tensor20/lib/python3.6/site-packages/fastai/vision/transform.py:243: UserWarning: torch.gesv is deprecated in favour of torch.solve and will be removed in the next release. Please use torch.solve instead.\n",
      "  return torch.gesv(B,A)[0][:,0]\n"
     ]
    },
    {
     "name": "stdout",
     "output_type": "stream",
     "text": [
      "training_data/augmented_imgs/fly_431997.png\n",
      "training_data/augmented_imgs/fly_431998.png\n",
      "training_data/augmented_imgs/fly_431999.png\n",
      "training_data/augmented_imgs/normal_1200990.png\n",
      "training_data/augmented_imgs/normal_1200991.png\n",
      "training_data/augmented_imgs/normal_1200992.png\n",
      "training_data/augmented_imgs/normal_1200993.png\n",
      "training_data/augmented_imgs/normal_1200994.png\n",
      "training_data/augmented_imgs/normal_1200995.png\n",
      "training_data/augmented_imgs/normal_1200996.png\n"
     ]
    },
    {
     "name": "stderr",
     "output_type": "stream",
     "text": [
      "/home/ale/anaconda3/envs/tensor20/lib/python3.6/site-packages/fastai/vision/transform.py:243: UserWarning: torch.gesv is deprecated in favour of torch.solve and will be removed in the next release. Please use torch.solve instead.\n",
      "  return torch.gesv(B,A)[0][:,0]\n"
     ]
    },
    {
     "name": "stdout",
     "output_type": "stream",
     "text": [
      "training_data/augmented_imgs/normal_1200997.png\n",
      "training_data/augmented_imgs/normal_1200998.png\n",
      "training_data/augmented_imgs/normal_1200999.png\n",
      "training_data/augmented_imgs/fly_434990.png\n",
      "training_data/augmented_imgs/fly_434991.png\n",
      "training_data/augmented_imgs/fly_434992.png\n",
      "training_data/augmented_imgs/fly_434993.png\n",
      "training_data/augmented_imgs/fly_434994.png\n",
      "training_data/augmented_imgs/fly_434995.png\n",
      "training_data/augmented_imgs/fly_434996.png\n"
     ]
    },
    {
     "name": "stderr",
     "output_type": "stream",
     "text": [
      "/home/ale/anaconda3/envs/tensor20/lib/python3.6/site-packages/fastai/vision/transform.py:243: UserWarning: torch.gesv is deprecated in favour of torch.solve and will be removed in the next release. Please use torch.solve instead.\n",
      "  return torch.gesv(B,A)[0][:,0]\n"
     ]
    },
    {
     "name": "stdout",
     "output_type": "stream",
     "text": [
      "training_data/augmented_imgs/fly_434997.png\n",
      "training_data/augmented_imgs/fly_434998.png\n",
      "training_data/augmented_imgs/fly_434999.png\n",
      "training_data/augmented_imgs/wings_224990.png\n",
      "training_data/augmented_imgs/wings_224991.png\n",
      "training_data/augmented_imgs/wings_224992.png\n",
      "training_data/augmented_imgs/wings_224993.png\n",
      "training_data/augmented_imgs/wings_224994.png\n",
      "training_data/augmented_imgs/wings_224995.png\n",
      "training_data/augmented_imgs/wings_224996.png\n"
     ]
    },
    {
     "name": "stderr",
     "output_type": "stream",
     "text": [
      "/home/ale/anaconda3/envs/tensor20/lib/python3.6/site-packages/fastai/vision/transform.py:243: UserWarning: torch.gesv is deprecated in favour of torch.solve and will be removed in the next release. Please use torch.solve instead.\n",
      "  return torch.gesv(B,A)[0][:,0]\n",
      "/home/ale/anaconda3/envs/tensor20/lib/python3.6/site-packages/fastai/vision/transform.py:243: UserWarning: torch.gesv is deprecated in favour of torch.solve and will be removed in the next release. Please use torch.solve instead.\n",
      "  return torch.gesv(B,A)[0][:,0]\n"
     ]
    },
    {
     "name": "stdout",
     "output_type": "stream",
     "text": [
      "training_data/augmented_imgs/wings_224997.png\n",
      "training_data/augmented_imgs/wings_224998.png\n",
      "training_data/augmented_imgs/wings_224999.png\n",
      "training_data/augmented_imgs/fly_441990.png\n",
      "training_data/augmented_imgs/fly_441991.png\n",
      "training_data/augmented_imgs/fly_441992.png\n",
      "training_data/augmented_imgs/fly_441993.png\n",
      "training_data/augmented_imgs/fly_441994.png\n",
      "training_data/augmented_imgs/fly_441995.png\n",
      "training_data/augmented_imgs/fly_441996.png\n",
      "training_data/augmented_imgs/fly_441997.png\n",
      "training_data/augmented_imgs/fly_441998.png\n",
      "training_data/augmented_imgs/fly_441999.png\n",
      "training_data/augmented_imgs/fly_45990.png\n",
      "training_data/augmented_imgs/fly_45991.png\n",
      "training_data/augmented_imgs/fly_45992.png\n",
      "training_data/augmented_imgs/fly_45993.png\n",
      "training_data/augmented_imgs/fly_45994.png\n",
      "training_data/augmented_imgs/fly_45995.png\n",
      "training_data/augmented_imgs/fly_45996.png\n",
      "training_data/augmented_imgs/fly_45997.png\n",
      "training_data/augmented_imgs/fly_45998.png\n",
      "training_data/augmented_imgs/fly_45999.png\n",
      "training_data/augmented_imgs/dramatic_1261990.png\n",
      "training_data/augmented_imgs/dramatic_1261991.png\n",
      "training_data/augmented_imgs/dramatic_1261992.png\n",
      "training_data/augmented_imgs/dramatic_1261993.png\n"
     ]
    },
    {
     "name": "stderr",
     "output_type": "stream",
     "text": [
      "/home/ale/anaconda3/envs/tensor20/lib/python3.6/site-packages/fastai/vision/transform.py:243: UserWarning: torch.gesv is deprecated in favour of torch.solve and will be removed in the next release. Please use torch.solve instead.\n",
      "  return torch.gesv(B,A)[0][:,0]\n"
     ]
    },
    {
     "name": "stdout",
     "output_type": "stream",
     "text": [
      "training_data/augmented_imgs/dramatic_1261994.png\n",
      "training_data/augmented_imgs/dramatic_1261995.png\n",
      "training_data/augmented_imgs/dramatic_1261996.png\n",
      "training_data/augmented_imgs/dramatic_1261997.png\n",
      "training_data/augmented_imgs/dramatic_1261998.png\n",
      "training_data/augmented_imgs/dramatic_1261999.png\n",
      "training_data/augmented_imgs/dramatic_931990.png\n"
     ]
    },
    {
     "name": "stderr",
     "output_type": "stream",
     "text": [
      "/home/ale/anaconda3/envs/tensor20/lib/python3.6/site-packages/fastai/vision/transform.py:243: UserWarning: torch.gesv is deprecated in favour of torch.solve and will be removed in the next release. Please use torch.solve instead.\n",
      "  return torch.gesv(B,A)[0][:,0]\n",
      "/home/ale/anaconda3/envs/tensor20/lib/python3.6/site-packages/fastai/vision/transform.py:243: UserWarning: torch.gesv is deprecated in favour of torch.solve and will be removed in the next release. Please use torch.solve instead.\n",
      "  return torch.gesv(B,A)[0][:,0]\n"
     ]
    },
    {
     "name": "stdout",
     "output_type": "stream",
     "text": [
      "training_data/augmented_imgs/dramatic_931991.png\n",
      "training_data/augmented_imgs/dramatic_931992.png\n",
      "training_data/augmented_imgs/dramatic_931993.png\n",
      "training_data/augmented_imgs/dramatic_931994.png\n",
      "training_data/augmented_imgs/dramatic_931995.png\n",
      "training_data/augmented_imgs/dramatic_931996.png\n",
      "training_data/augmented_imgs/dramatic_931997.png\n",
      "training_data/augmented_imgs/dramatic_931998.png\n",
      "training_data/augmented_imgs/dramatic_931999.png\n"
     ]
    },
    {
     "name": "stderr",
     "output_type": "stream",
     "text": [
      "/home/ale/anaconda3/envs/tensor20/lib/python3.6/site-packages/fastai/vision/transform.py:243: UserWarning: torch.gesv is deprecated in favour of torch.solve and will be removed in the next release. Please use torch.solve instead.\n",
      "  return torch.gesv(B,A)[0][:,0]\n"
     ]
    },
    {
     "name": "stdout",
     "output_type": "stream",
     "text": [
      "training_data/augmented_imgs/moonwalk_254990.png\n",
      "training_data/augmented_imgs/moonwalk_254991.png\n",
      "training_data/augmented_imgs/moonwalk_254992.png\n",
      "training_data/augmented_imgs/moonwalk_254993.png\n",
      "training_data/augmented_imgs/moonwalk_254994.png\n",
      "training_data/augmented_imgs/moonwalk_254995.png\n",
      "training_data/augmented_imgs/moonwalk_254996.png\n",
      "training_data/augmented_imgs/moonwalk_254997.png\n",
      "training_data/augmented_imgs/moonwalk_254998.png\n",
      "training_data/augmented_imgs/moonwalk_254999.png\n",
      "training_data/augmented_imgs/fly_842990.png\n",
      "training_data/augmented_imgs/fly_842991.png\n",
      "training_data/augmented_imgs/fly_842992.png\n",
      "training_data/augmented_imgs/fly_842993.png\n",
      "training_data/augmented_imgs/fly_842994.png\n",
      "training_data/augmented_imgs/fly_842995.png\n",
      "training_data/augmented_imgs/fly_842996.png\n",
      "training_data/augmented_imgs/fly_842997.png\n",
      "training_data/augmented_imgs/fly_842998.png\n"
     ]
    },
    {
     "name": "stderr",
     "output_type": "stream",
     "text": [
      "/home/ale/anaconda3/envs/tensor20/lib/python3.6/site-packages/fastai/vision/transform.py:243: UserWarning: torch.gesv is deprecated in favour of torch.solve and will be removed in the next release. Please use torch.solve instead.\n",
      "  return torch.gesv(B,A)[0][:,0]\n",
      "/home/ale/anaconda3/envs/tensor20/lib/python3.6/site-packages/fastai/vision/transform.py:243: UserWarning: torch.gesv is deprecated in favour of torch.solve and will be removed in the next release. Please use torch.solve instead.\n",
      "  return torch.gesv(B,A)[0][:,0]\n"
     ]
    },
    {
     "name": "stdout",
     "output_type": "stream",
     "text": [
      "training_data/augmented_imgs/fly_842999.png\n",
      "training_data/augmented_imgs/fly_841990.png\n",
      "training_data/augmented_imgs/fly_841991.png\n",
      "training_data/augmented_imgs/fly_841992.png\n",
      "training_data/augmented_imgs/fly_841993.png\n",
      "training_data/augmented_imgs/fly_841994.png\n",
      "training_data/augmented_imgs/fly_841995.png\n",
      "training_data/augmented_imgs/fly_841996.png\n",
      "training_data/augmented_imgs/fly_841997.png\n",
      "training_data/augmented_imgs/fly_841998.png\n",
      "training_data/augmented_imgs/fly_841999.png\n",
      "training_data/augmented_imgs/hadouken_1234990.png\n",
      "training_data/augmented_imgs/hadouken_1234991.png\n",
      "training_data/augmented_imgs/hadouken_1234992.png\n",
      "training_data/augmented_imgs/hadouken_1234993.png\n",
      "training_data/augmented_imgs/hadouken_1234994.png\n",
      "training_data/augmented_imgs/hadouken_1234995.png\n",
      "training_data/augmented_imgs/hadouken_1234996.png\n",
      "training_data/augmented_imgs/hadouken_1234997.png\n"
     ]
    },
    {
     "name": "stderr",
     "output_type": "stream",
     "text": [
      "/home/ale/anaconda3/envs/tensor20/lib/python3.6/site-packages/fastai/vision/transform.py:243: UserWarning: torch.gesv is deprecated in favour of torch.solve and will be removed in the next release. Please use torch.solve instead.\n",
      "  return torch.gesv(B,A)[0][:,0]\n"
     ]
    },
    {
     "name": "stdout",
     "output_type": "stream",
     "text": [
      "training_data/augmented_imgs/hadouken_1234998.png\n",
      "training_data/augmented_imgs/hadouken_1234999.png\n",
      "training_data/augmented_imgs/dramatic_1258990.png\n",
      "training_data/augmented_imgs/dramatic_1258991.png\n",
      "training_data/augmented_imgs/dramatic_1258992.png\n",
      "training_data/augmented_imgs/dramatic_1258993.png\n",
      "training_data/augmented_imgs/dramatic_1258994.png\n",
      "training_data/augmented_imgs/dramatic_1258995.png\n",
      "training_data/augmented_imgs/dramatic_1258996.png\n",
      "training_data/augmented_imgs/dramatic_1258997.png\n",
      "training_data/augmented_imgs/dramatic_1258998.png\n"
     ]
    },
    {
     "name": "stderr",
     "output_type": "stream",
     "text": [
      "/home/ale/anaconda3/envs/tensor20/lib/python3.6/site-packages/fastai/vision/transform.py:243: UserWarning: torch.gesv is deprecated in favour of torch.solve and will be removed in the next release. Please use torch.solve instead.\n",
      "  return torch.gesv(B,A)[0][:,0]\n",
      "/home/ale/anaconda3/envs/tensor20/lib/python3.6/site-packages/fastai/vision/transform.py:243: UserWarning: torch.gesv is deprecated in favour of torch.solve and will be removed in the next release. Please use torch.solve instead.\n",
      "  return torch.gesv(B,A)[0][:,0]\n"
     ]
    },
    {
     "name": "stdout",
     "output_type": "stream",
     "text": [
      "training_data/augmented_imgs/dramatic_1258999.png\n",
      "training_data/augmented_imgs/underarm_247990.png\n",
      "training_data/augmented_imgs/underarm_247991.png\n",
      "training_data/augmented_imgs/underarm_247992.png\n",
      "training_data/augmented_imgs/underarm_247993.png\n",
      "training_data/augmented_imgs/underarm_247994.png\n",
      "training_data/augmented_imgs/underarm_247995.png\n",
      "training_data/augmented_imgs/underarm_247996.png\n",
      "training_data/augmented_imgs/underarm_247997.png\n",
      "training_data/augmented_imgs/underarm_247998.png\n",
      "training_data/augmented_imgs/underarm_247999.png\n",
      "training_data/augmented_imgs/hadouken_511990.png\n",
      "training_data/augmented_imgs/hadouken_511991.png\n",
      "training_data/augmented_imgs/hadouken_511992.png\n",
      "training_data/augmented_imgs/hadouken_511993.png\n",
      "training_data/augmented_imgs/hadouken_511994.png\n",
      "training_data/augmented_imgs/hadouken_511995.png\n",
      "training_data/augmented_imgs/hadouken_511996.png\n"
     ]
    },
    {
     "name": "stderr",
     "output_type": "stream",
     "text": [
      "/home/ale/anaconda3/envs/tensor20/lib/python3.6/site-packages/fastai/vision/transform.py:243: UserWarning: torch.gesv is deprecated in favour of torch.solve and will be removed in the next release. Please use torch.solve instead.\n",
      "  return torch.gesv(B,A)[0][:,0]\n",
      "/home/ale/anaconda3/envs/tensor20/lib/python3.6/site-packages/fastai/vision/transform.py:243: UserWarning: torch.gesv is deprecated in favour of torch.solve and will be removed in the next release. Please use torch.solve instead.\n",
      "  return torch.gesv(B,A)[0][:,0]\n"
     ]
    },
    {
     "name": "stdout",
     "output_type": "stream",
     "text": [
      "training_data/augmented_imgs/hadouken_511997.png\n",
      "training_data/augmented_imgs/hadouken_511998.png\n",
      "training_data/augmented_imgs/hadouken_511999.png\n",
      "training_data/augmented_imgs/hadouken_515990.png\n",
      "training_data/augmented_imgs/hadouken_515991.png\n",
      "training_data/augmented_imgs/hadouken_515992.png\n",
      "training_data/augmented_imgs/hadouken_515993.png\n",
      "training_data/augmented_imgs/hadouken_515994.png\n",
      "training_data/augmented_imgs/hadouken_515995.png\n",
      "training_data/augmented_imgs/hadouken_515996.png\n",
      "training_data/augmented_imgs/hadouken_515997.png\n",
      "training_data/augmented_imgs/hadouken_515998.png\n",
      "training_data/augmented_imgs/hadouken_515999.png\n",
      "training_data/augmented_imgs/fly_448990.png\n",
      "training_data/augmented_imgs/fly_448991.png\n",
      "training_data/augmented_imgs/fly_448992.png\n",
      "training_data/augmented_imgs/fly_448993.png\n",
      "training_data/augmented_imgs/fly_448994.png\n",
      "training_data/augmented_imgs/fly_448995.png\n",
      "training_data/augmented_imgs/fly_448996.png\n",
      "training_data/augmented_imgs/fly_448997.png\n",
      "training_data/augmented_imgs/fly_448998.png\n",
      "training_data/augmented_imgs/fly_448999.png\n",
      "training_data/augmented_imgs/fly_436990.png\n",
      "training_data/augmented_imgs/fly_436991.png\n",
      "training_data/augmented_imgs/fly_436992.png\n",
      "training_data/augmented_imgs/fly_436993.png\n",
      "training_data/augmented_imgs/fly_436994.png\n",
      "training_data/augmented_imgs/fly_436995.png\n",
      "training_data/augmented_imgs/fly_436996.png\n",
      "training_data/augmented_imgs/fly_436997.png\n",
      "training_data/augmented_imgs/fly_436998.png\n",
      "training_data/augmented_imgs/fly_436999.png\n",
      "training_data/augmented_imgs/normal_200990.png\n",
      "training_data/augmented_imgs/normal_200991.png\n",
      "training_data/augmented_imgs/normal_200992.png\n",
      "training_data/augmented_imgs/normal_200993.png\n",
      "training_data/augmented_imgs/normal_200994.png\n"
     ]
    },
    {
     "name": "stderr",
     "output_type": "stream",
     "text": [
      "/home/ale/anaconda3/envs/tensor20/lib/python3.6/site-packages/fastai/vision/transform.py:243: UserWarning: torch.gesv is deprecated in favour of torch.solve and will be removed in the next release. Please use torch.solve instead.\n",
      "  return torch.gesv(B,A)[0][:,0]\n",
      "/home/ale/anaconda3/envs/tensor20/lib/python3.6/site-packages/fastai/vision/transform.py:243: UserWarning: torch.gesv is deprecated in favour of torch.solve and will be removed in the next release. Please use torch.solve instead.\n",
      "  return torch.gesv(B,A)[0][:,0]\n"
     ]
    },
    {
     "name": "stdout",
     "output_type": "stream",
     "text": [
      "training_data/augmented_imgs/normal_200995.png\n",
      "training_data/augmented_imgs/normal_200996.png\n",
      "training_data/augmented_imgs/normal_200997.png\n",
      "training_data/augmented_imgs/normal_200998.png\n",
      "training_data/augmented_imgs/normal_200999.png\n",
      "training_data/augmented_imgs/moonwalk_885990.png\n",
      "training_data/augmented_imgs/moonwalk_885991.png\n",
      "training_data/augmented_imgs/moonwalk_885992.png\n",
      "training_data/augmented_imgs/moonwalk_885993.png\n",
      "training_data/augmented_imgs/moonwalk_885994.png\n",
      "training_data/augmented_imgs/moonwalk_885995.png\n"
     ]
    },
    {
     "name": "stderr",
     "output_type": "stream",
     "text": [
      "/home/ale/anaconda3/envs/tensor20/lib/python3.6/site-packages/fastai/vision/transform.py:243: UserWarning: torch.gesv is deprecated in favour of torch.solve and will be removed in the next release. Please use torch.solve instead.\n",
      "  return torch.gesv(B,A)[0][:,0]\n"
     ]
    },
    {
     "name": "stdout",
     "output_type": "stream",
     "text": [
      "training_data/augmented_imgs/moonwalk_885996.png\n",
      "training_data/augmented_imgs/moonwalk_885997.png\n",
      "training_data/augmented_imgs/moonwalk_885998.png\n",
      "training_data/augmented_imgs/moonwalk_885999.png\n",
      "training_data/augmented_imgs/wings_36990.png\n",
      "training_data/augmented_imgs/wings_36991.png\n",
      "training_data/augmented_imgs/wings_36992.png\n",
      "training_data/augmented_imgs/wings_36993.png\n",
      "training_data/augmented_imgs/wings_36994.png\n"
     ]
    },
    {
     "name": "stderr",
     "output_type": "stream",
     "text": [
      "/home/ale/anaconda3/envs/tensor20/lib/python3.6/site-packages/fastai/vision/transform.py:243: UserWarning: torch.gesv is deprecated in favour of torch.solve and will be removed in the next release. Please use torch.solve instead.\n",
      "  return torch.gesv(B,A)[0][:,0]\n",
      "/home/ale/anaconda3/envs/tensor20/lib/python3.6/site-packages/fastai/vision/transform.py:243: UserWarning: torch.gesv is deprecated in favour of torch.solve and will be removed in the next release. Please use torch.solve instead.\n",
      "  return torch.gesv(B,A)[0][:,0]\n"
     ]
    },
    {
     "name": "stdout",
     "output_type": "stream",
     "text": [
      "training_data/augmented_imgs/wings_36995.png\n",
      "training_data/augmented_imgs/wings_36996.png\n",
      "training_data/augmented_imgs/wings_36997.png\n",
      "training_data/augmented_imgs/wings_36998.png\n",
      "training_data/augmented_imgs/wings_36999.png\n",
      "training_data/augmented_imgs/underarm_245990.png\n",
      "training_data/augmented_imgs/underarm_245991.png\n",
      "training_data/augmented_imgs/underarm_245992.png\n",
      "training_data/augmented_imgs/underarm_245993.png\n",
      "training_data/augmented_imgs/underarm_245994.png\n",
      "training_data/augmented_imgs/underarm_245995.png\n",
      "training_data/augmented_imgs/underarm_245996.png\n",
      "training_data/augmented_imgs/underarm_245997.png\n",
      "training_data/augmented_imgs/underarm_245998.png\n",
      "training_data/augmented_imgs/underarm_245999.png\n",
      "training_data/augmented_imgs/dramatic_122990.png\n",
      "training_data/augmented_imgs/dramatic_122991.png\n",
      "training_data/augmented_imgs/dramatic_122992.png\n",
      "training_data/augmented_imgs/dramatic_122993.png\n"
     ]
    },
    {
     "name": "stderr",
     "output_type": "stream",
     "text": [
      "/home/ale/anaconda3/envs/tensor20/lib/python3.6/site-packages/fastai/vision/transform.py:243: UserWarning: torch.gesv is deprecated in favour of torch.solve and will be removed in the next release. Please use torch.solve instead.\n",
      "  return torch.gesv(B,A)[0][:,0]\n"
     ]
    },
    {
     "name": "stdout",
     "output_type": "stream",
     "text": [
      "training_data/augmented_imgs/dramatic_122994.png\n",
      "training_data/augmented_imgs/dramatic_122995.png\n",
      "training_data/augmented_imgs/dramatic_122996.png\n",
      "training_data/augmented_imgs/dramatic_122997.png\n",
      "training_data/augmented_imgs/dramatic_122998.png\n",
      "training_data/augmented_imgs/dramatic_122999.png\n",
      "training_data/augmented_imgs/underarm_67990.png\n",
      "training_data/augmented_imgs/underarm_67991.png\n",
      "training_data/augmented_imgs/underarm_67992.png\n",
      "training_data/augmented_imgs/underarm_67993.png\n",
      "training_data/augmented_imgs/underarm_67994.png\n",
      "training_data/augmented_imgs/underarm_67995.png\n",
      "training_data/augmented_imgs/underarm_67996.png\n",
      "training_data/augmented_imgs/underarm_67997.png\n",
      "training_data/augmented_imgs/underarm_67998.png\n",
      "training_data/augmented_imgs/underarm_67999.png\n",
      "training_data/augmented_imgs/dramatic_547990.png\n",
      "training_data/augmented_imgs/dramatic_547991.png\n"
     ]
    },
    {
     "name": "stderr",
     "output_type": "stream",
     "text": [
      "/home/ale/anaconda3/envs/tensor20/lib/python3.6/site-packages/fastai/vision/transform.py:243: UserWarning: torch.gesv is deprecated in favour of torch.solve and will be removed in the next release. Please use torch.solve instead.\n",
      "  return torch.gesv(B,A)[0][:,0]\n",
      "/home/ale/anaconda3/envs/tensor20/lib/python3.6/site-packages/fastai/vision/transform.py:243: UserWarning: torch.gesv is deprecated in favour of torch.solve and will be removed in the next release. Please use torch.solve instead.\n",
      "  return torch.gesv(B,A)[0][:,0]\n"
     ]
    },
    {
     "name": "stdout",
     "output_type": "stream",
     "text": [
      "training_data/augmented_imgs/dramatic_547992.png\n",
      "training_data/augmented_imgs/dramatic_547993.png\n",
      "training_data/augmented_imgs/dramatic_547994.png\n",
      "training_data/augmented_imgs/dramatic_547995.png\n",
      "training_data/augmented_imgs/dramatic_547996.png\n",
      "training_data/augmented_imgs/dramatic_547997.png\n",
      "training_data/augmented_imgs/dramatic_547998.png\n",
      "training_data/augmented_imgs/dramatic_547999.png\n",
      "training_data/augmented_imgs/moonwalk_78990.png\n",
      "training_data/augmented_imgs/moonwalk_78991.png\n",
      "training_data/augmented_imgs/moonwalk_78992.png\n",
      "training_data/augmented_imgs/moonwalk_78993.png\n",
      "training_data/augmented_imgs/moonwalk_78994.png\n",
      "training_data/augmented_imgs/moonwalk_78995.png\n",
      "training_data/augmented_imgs/moonwalk_78996.png\n",
      "training_data/augmented_imgs/moonwalk_78997.png\n",
      "training_data/augmented_imgs/moonwalk_78998.png\n",
      "training_data/augmented_imgs/moonwalk_78999.png\n",
      "training_data/augmented_imgs/normal_13990.png\n"
     ]
    },
    {
     "name": "stderr",
     "output_type": "stream",
     "text": [
      "/home/ale/anaconda3/envs/tensor20/lib/python3.6/site-packages/fastai/vision/transform.py:243: UserWarning: torch.gesv is deprecated in favour of torch.solve and will be removed in the next release. Please use torch.solve instead.\n",
      "  return torch.gesv(B,A)[0][:,0]\n"
     ]
    },
    {
     "name": "stdout",
     "output_type": "stream",
     "text": [
      "training_data/augmented_imgs/normal_13991.png\n",
      "training_data/augmented_imgs/normal_13992.png\n",
      "training_data/augmented_imgs/normal_13993.png\n",
      "training_data/augmented_imgs/normal_13994.png\n",
      "training_data/augmented_imgs/normal_13995.png\n",
      "training_data/augmented_imgs/normal_13996.png\n",
      "training_data/augmented_imgs/normal_13997.png\n",
      "training_data/augmented_imgs/normal_13998.png\n",
      "training_data/augmented_imgs/normal_13999.png\n",
      "training_data/augmented_imgs/moonwalk_1214990.png\n",
      "training_data/augmented_imgs/moonwalk_1214991.png\n",
      "training_data/augmented_imgs/moonwalk_1214992.png\n",
      "training_data/augmented_imgs/moonwalk_1214993.png\n",
      "training_data/augmented_imgs/moonwalk_1214994.png\n",
      "training_data/augmented_imgs/moonwalk_1214995.png\n",
      "training_data/augmented_imgs/moonwalk_1214996.png\n",
      "training_data/augmented_imgs/moonwalk_1214997.png\n",
      "training_data/augmented_imgs/moonwalk_1214998.png\n",
      "training_data/augmented_imgs/moonwalk_1214999.png\n",
      "training_data/augmented_imgs/hadouken_970990.png\n",
      "training_data/augmented_imgs/hadouken_970991.png\n"
     ]
    },
    {
     "name": "stderr",
     "output_type": "stream",
     "text": [
      "/home/ale/anaconda3/envs/tensor20/lib/python3.6/site-packages/fastai/vision/transform.py:243: UserWarning: torch.gesv is deprecated in favour of torch.solve and will be removed in the next release. Please use torch.solve instead.\n",
      "  return torch.gesv(B,A)[0][:,0]\n"
     ]
    },
    {
     "name": "stdout",
     "output_type": "stream",
     "text": [
      "training_data/augmented_imgs/hadouken_970992.png\n",
      "training_data/augmented_imgs/hadouken_970993.png\n",
      "training_data/augmented_imgs/hadouken_970994.png\n",
      "training_data/augmented_imgs/hadouken_970995.png\n",
      "training_data/augmented_imgs/hadouken_970996.png\n",
      "training_data/augmented_imgs/hadouken_970997.png\n",
      "training_data/augmented_imgs/hadouken_970998.png\n",
      "training_data/augmented_imgs/hadouken_970999.png\n",
      "training_data/augmented_imgs/hadouken_524990.png\n",
      "training_data/augmented_imgs/hadouken_524991.png\n"
     ]
    },
    {
     "name": "stderr",
     "output_type": "stream",
     "text": [
      "/home/ale/anaconda3/envs/tensor20/lib/python3.6/site-packages/fastai/vision/transform.py:243: UserWarning: torch.gesv is deprecated in favour of torch.solve and will be removed in the next release. Please use torch.solve instead.\n",
      "  return torch.gesv(B,A)[0][:,0]\n",
      "/home/ale/anaconda3/envs/tensor20/lib/python3.6/site-packages/fastai/vision/transform.py:243: UserWarning: torch.gesv is deprecated in favour of torch.solve and will be removed in the next release. Please use torch.solve instead.\n",
      "  return torch.gesv(B,A)[0][:,0]\n"
     ]
    },
    {
     "name": "stdout",
     "output_type": "stream",
     "text": [
      "training_data/augmented_imgs/hadouken_524992.png\n",
      "training_data/augmented_imgs/hadouken_524993.png\n",
      "training_data/augmented_imgs/hadouken_524994.png\n",
      "training_data/augmented_imgs/hadouken_524995.png\n",
      "training_data/augmented_imgs/hadouken_524996.png\n",
      "training_data/augmented_imgs/hadouken_524997.png\n",
      "training_data/augmented_imgs/hadouken_524998.png\n",
      "training_data/augmented_imgs/hadouken_524999.png\n"
     ]
    },
    {
     "name": "stderr",
     "output_type": "stream",
     "text": [
      "/home/ale/anaconda3/envs/tensor20/lib/python3.6/site-packages/fastai/vision/transform.py:243: UserWarning: torch.gesv is deprecated in favour of torch.solve and will be removed in the next release. Please use torch.solve instead.\n",
      "  return torch.gesv(B,A)[0][:,0]\n"
     ]
    },
    {
     "name": "stdout",
     "output_type": "stream",
     "text": [
      "training_data/augmented_imgs/normal_400990.png\n",
      "training_data/augmented_imgs/normal_400991.png\n",
      "training_data/augmented_imgs/normal_400992.png\n",
      "training_data/augmented_imgs/normal_400993.png\n",
      "training_data/augmented_imgs/normal_400994.png\n",
      "training_data/augmented_imgs/normal_400995.png\n",
      "training_data/augmented_imgs/normal_400996.png\n",
      "training_data/augmented_imgs/normal_400997.png\n",
      "training_data/augmented_imgs/normal_400998.png\n",
      "training_data/augmented_imgs/normal_400999.png\n",
      "training_data/augmented_imgs/normal_411990.png\n",
      "training_data/augmented_imgs/normal_411991.png\n",
      "training_data/augmented_imgs/normal_411992.png\n",
      "training_data/augmented_imgs/normal_411993.png\n",
      "training_data/augmented_imgs/normal_411994.png\n",
      "training_data/augmented_imgs/normal_411995.png\n",
      "training_data/augmented_imgs/normal_411996.png\n",
      "training_data/augmented_imgs/normal_411997.png\n",
      "training_data/augmented_imgs/normal_411998.png\n",
      "training_data/augmented_imgs/normal_411999.png\n",
      "training_data/augmented_imgs/wings_837990.png\n",
      "training_data/augmented_imgs/wings_837991.png\n"
     ]
    },
    {
     "name": "stderr",
     "output_type": "stream",
     "text": [
      "/home/ale/anaconda3/envs/tensor20/lib/python3.6/site-packages/fastai/vision/transform.py:243: UserWarning: torch.gesv is deprecated in favour of torch.solve and will be removed in the next release. Please use torch.solve instead.\n",
      "  return torch.gesv(B,A)[0][:,0]\n",
      "/home/ale/anaconda3/envs/tensor20/lib/python3.6/site-packages/fastai/vision/transform.py:243: UserWarning: torch.gesv is deprecated in favour of torch.solve and will be removed in the next release. Please use torch.solve instead.\n",
      "  return torch.gesv(B,A)[0][:,0]\n"
     ]
    },
    {
     "name": "stdout",
     "output_type": "stream",
     "text": [
      "training_data/augmented_imgs/wings_837992.png\n",
      "training_data/augmented_imgs/wings_837993.png\n",
      "training_data/augmented_imgs/wings_837994.png\n",
      "training_data/augmented_imgs/wings_837995.png\n",
      "training_data/augmented_imgs/wings_837996.png\n",
      "training_data/augmented_imgs/wings_837997.png\n",
      "training_data/augmented_imgs/wings_837998.png\n",
      "training_data/augmented_imgs/wings_837999.png\n",
      "training_data/augmented_imgs/backpack_911990.png\n",
      "training_data/augmented_imgs/backpack_911991.png\n",
      "training_data/augmented_imgs/backpack_911992.png\n",
      "training_data/augmented_imgs/backpack_911993.png\n",
      "training_data/augmented_imgs/backpack_911994.png\n",
      "training_data/augmented_imgs/backpack_911995.png\n",
      "training_data/augmented_imgs/backpack_911996.png\n",
      "training_data/augmented_imgs/backpack_911997.png\n",
      "training_data/augmented_imgs/backpack_911998.png\n"
     ]
    },
    {
     "name": "stderr",
     "output_type": "stream",
     "text": [
      "/home/ale/anaconda3/envs/tensor20/lib/python3.6/site-packages/fastai/vision/transform.py:243: UserWarning: torch.gesv is deprecated in favour of torch.solve and will be removed in the next release. Please use torch.solve instead.\n",
      "  return torch.gesv(B,A)[0][:,0]\n"
     ]
    },
    {
     "name": "stdout",
     "output_type": "stream",
     "text": [
      "training_data/augmented_imgs/backpack_911999.png\n",
      "training_data/augmented_imgs/moonwalk_87990.png\n",
      "training_data/augmented_imgs/moonwalk_87991.png\n",
      "training_data/augmented_imgs/moonwalk_87992.png\n",
      "training_data/augmented_imgs/moonwalk_87993.png\n",
      "training_data/augmented_imgs/moonwalk_87994.png\n",
      "training_data/augmented_imgs/moonwalk_87995.png\n"
     ]
    },
    {
     "name": "stderr",
     "output_type": "stream",
     "text": [
      "/home/ale/anaconda3/envs/tensor20/lib/python3.6/site-packages/fastai/vision/transform.py:243: UserWarning: torch.gesv is deprecated in favour of torch.solve and will be removed in the next release. Please use torch.solve instead.\n",
      "  return torch.gesv(B,A)[0][:,0]\n"
     ]
    },
    {
     "name": "stdout",
     "output_type": "stream",
     "text": [
      "training_data/augmented_imgs/moonwalk_87996.png\n",
      "training_data/augmented_imgs/moonwalk_87997.png\n",
      "training_data/augmented_imgs/moonwalk_87998.png\n",
      "training_data/augmented_imgs/moonwalk_87999.png\n",
      "training_data/augmented_imgs/hadouken_512990.png\n",
      "training_data/augmented_imgs/hadouken_512991.png\n",
      "training_data/augmented_imgs/hadouken_512992.png\n",
      "training_data/augmented_imgs/hadouken_512993.png\n",
      "training_data/augmented_imgs/hadouken_512994.png\n"
     ]
    },
    {
     "name": "stderr",
     "output_type": "stream",
     "text": [
      "/home/ale/anaconda3/envs/tensor20/lib/python3.6/site-packages/fastai/vision/transform.py:243: UserWarning: torch.gesv is deprecated in favour of torch.solve and will be removed in the next release. Please use torch.solve instead.\n",
      "  return torch.gesv(B,A)[0][:,0]\n",
      "/home/ale/anaconda3/envs/tensor20/lib/python3.6/site-packages/fastai/vision/transform.py:243: UserWarning: torch.gesv is deprecated in favour of torch.solve and will be removed in the next release. Please use torch.solve instead.\n",
      "  return torch.gesv(B,A)[0][:,0]\n"
     ]
    },
    {
     "name": "stdout",
     "output_type": "stream",
     "text": [
      "training_data/augmented_imgs/hadouken_512995.png\n",
      "training_data/augmented_imgs/hadouken_512996.png\n",
      "training_data/augmented_imgs/hadouken_512997.png\n",
      "training_data/augmented_imgs/hadouken_512998.png\n",
      "training_data/augmented_imgs/hadouken_512999.png\n",
      "training_data/augmented_imgs/hadouken_983990.png\n",
      "training_data/augmented_imgs/hadouken_983991.png\n",
      "training_data/augmented_imgs/hadouken_983992.png\n",
      "training_data/augmented_imgs/hadouken_983993.png\n",
      "training_data/augmented_imgs/hadouken_983994.png\n",
      "training_data/augmented_imgs/hadouken_983995.png\n",
      "training_data/augmented_imgs/hadouken_983996.png\n",
      "training_data/augmented_imgs/hadouken_983997.png\n",
      "training_data/augmented_imgs/hadouken_983998.png\n",
      "training_data/augmented_imgs/hadouken_983999.png\n",
      "training_data/augmented_imgs/hadouken_1236990.png\n",
      "training_data/augmented_imgs/hadouken_1236991.png\n",
      "training_data/augmented_imgs/hadouken_1236992.png\n",
      "training_data/augmented_imgs/hadouken_1236993.png\n"
     ]
    },
    {
     "name": "stderr",
     "output_type": "stream",
     "text": [
      "/home/ale/anaconda3/envs/tensor20/lib/python3.6/site-packages/fastai/vision/transform.py:243: UserWarning: torch.gesv is deprecated in favour of torch.solve and will be removed in the next release. Please use torch.solve instead.\n",
      "  return torch.gesv(B,A)[0][:,0]\n"
     ]
    },
    {
     "name": "stdout",
     "output_type": "stream",
     "text": [
      "training_data/augmented_imgs/hadouken_1236994.png\n",
      "training_data/augmented_imgs/hadouken_1236995.png\n",
      "training_data/augmented_imgs/hadouken_1236996.png\n",
      "training_data/augmented_imgs/hadouken_1236997.png\n",
      "training_data/augmented_imgs/hadouken_1236998.png\n",
      "training_data/augmented_imgs/hadouken_1236999.png\n",
      "training_data/augmented_imgs/underarm_459990.png\n",
      "training_data/augmented_imgs/underarm_459991.png\n",
      "training_data/augmented_imgs/underarm_459992.png\n"
     ]
    },
    {
     "name": "stderr",
     "output_type": "stream",
     "text": [
      "/home/ale/anaconda3/envs/tensor20/lib/python3.6/site-packages/fastai/vision/transform.py:243: UserWarning: torch.gesv is deprecated in favour of torch.solve and will be removed in the next release. Please use torch.solve instead.\n",
      "  return torch.gesv(B,A)[0][:,0]\n"
     ]
    },
    {
     "name": "stdout",
     "output_type": "stream",
     "text": [
      "training_data/augmented_imgs/underarm_459993.png\n",
      "training_data/augmented_imgs/underarm_459994.png\n",
      "training_data/augmented_imgs/underarm_459995.png\n",
      "training_data/augmented_imgs/underarm_459996.png\n",
      "training_data/augmented_imgs/underarm_459997.png\n",
      "training_data/augmented_imgs/underarm_459998.png\n",
      "training_data/augmented_imgs/underarm_459999.png\n",
      "training_data/augmented_imgs/fly_433990.png\n"
     ]
    },
    {
     "name": "stderr",
     "output_type": "stream",
     "text": [
      "/home/ale/anaconda3/envs/tensor20/lib/python3.6/site-packages/fastai/vision/transform.py:243: UserWarning: torch.gesv is deprecated in favour of torch.solve and will be removed in the next release. Please use torch.solve instead.\n",
      "  return torch.gesv(B,A)[0][:,0]\n"
     ]
    },
    {
     "name": "stdout",
     "output_type": "stream",
     "text": [
      "training_data/augmented_imgs/fly_433991.png\n",
      "training_data/augmented_imgs/fly_433992.png\n",
      "training_data/augmented_imgs/fly_433993.png\n",
      "training_data/augmented_imgs/fly_433994.png\n",
      "training_data/augmented_imgs/fly_433995.png\n",
      "training_data/augmented_imgs/fly_433996.png\n",
      "training_data/augmented_imgs/fly_433997.png\n",
      "training_data/augmented_imgs/fly_433998.png\n",
      "training_data/augmented_imgs/fly_433999.png\n",
      "training_data/augmented_imgs/fly_858990.png\n",
      "training_data/augmented_imgs/fly_858991.png\n",
      "training_data/augmented_imgs/fly_858992.png\n",
      "training_data/augmented_imgs/fly_858993.png\n",
      "training_data/augmented_imgs/fly_858994.png\n",
      "training_data/augmented_imgs/fly_858995.png\n",
      "training_data/augmented_imgs/fly_858996.png\n",
      "training_data/augmented_imgs/fly_858997.png\n",
      "training_data/augmented_imgs/fly_858998.png\n"
     ]
    },
    {
     "name": "stderr",
     "output_type": "stream",
     "text": [
      "/home/ale/anaconda3/envs/tensor20/lib/python3.6/site-packages/fastai/vision/transform.py:243: UserWarning: torch.gesv is deprecated in favour of torch.solve and will be removed in the next release. Please use torch.solve instead.\n",
      "  return torch.gesv(B,A)[0][:,0]\n"
     ]
    },
    {
     "name": "stdout",
     "output_type": "stream",
     "text": [
      "training_data/augmented_imgs/fly_858999.png\n"
     ]
    }
   ],
   "source": [
    "from fastai.vision import *\n",
    "from fastai.metrics import error_rate\n",
    "from random import randint\n",
    "import pathlib\n",
    "\n",
    "root_path = pathlib.Path(\"./training_data/\")\n",
    "save_fast = Path('./training_data/augmented_imgs/')\n",
    "save_fast.mkdir(parents=True, exist_ok=True)\n",
    "\n",
    "tfms = get_transforms(do_flip=False, \n",
    "                            flip_vert=False, \n",
    "                            max_rotate=6, \n",
    "                            max_zoom=1.2, \n",
    "                            max_lighting=None, \n",
    "                            max_warp=0.2, \n",
    "                            p_affine=0.2, \n",
    "                            p_lighting=0)\n",
    "\n",
    "\n",
    "image_path = root_path /\"images\"\n",
    "all_image_paths = list(image_path.glob('*.png'))\n",
    "\n",
    "\n",
    "def generate_augmented(qty):\n",
    "    for f in all_image_paths:\n",
    "        image = open_image(f)\n",
    "        for i in range(0,qty):\n",
    "            image_fast = image.apply_tfms(tfms[0])\n",
    "            save_name = str(save_fast) + '/' + f.stem + '99' + str(i) + f.suffix\n",
    "            print(save_name)\n",
    "            image_fast.save(save_name)\n",
    "\n",
    "# generate 10 variations of each image\n",
    "# generate_augmented(10)"
   ]
  },
  {
   "cell_type": "code",
   "execution_count": null,
   "metadata": {},
   "outputs": [],
   "source": []
  }
 ],
 "metadata": {
  "kernelspec": {
   "display_name": "Python 3",
   "language": "python",
   "name": "python3"
  },
  "language_info": {
   "codemirror_mode": {
    "name": "ipython",
    "version": 3
   },
   "file_extension": ".py",
   "mimetype": "text/x-python",
   "name": "python",
   "nbconvert_exporter": "python",
   "pygments_lexer": "ipython3",
   "version": "3.7.1"
  }
 },
 "nbformat": 4,
 "nbformat_minor": 2
}
