{
 "cells": [
  {
   "cell_type": "markdown",
   "metadata": {},
   "source": [
    "# 02 Huia Experience Training"
   ]
  },
  {
   "cell_type": "markdown",
   "metadata": {},
   "source": [
    "## TODOS\n",
    "- interpret layers visually\n",
    "- tensorboard convergence\n",
    "https://github.com/titu1994/keras-one-cycle\n",
    "https://www.kaggle.com/robotdreams/one-cycle-policy-with-keras "
   ]
  },
  {
   "cell_type": "markdown",
   "metadata": {},
   "source": [
    "# Setup \n",
    "## Install Tensorflow 2 Nightly and other Libraries"
   ]
  },
  {
   "cell_type": "code",
   "execution_count": 1,
   "metadata": {},
   "outputs": [
    {
     "name": "stdout",
     "output_type": "stream",
     "text": [
      "tb-nightly==1.14.0a20190301\r\n",
      "tensorboardX==1.6\r\n",
      "tensorflow-gpu==2.0.0a0\r\n"
     ]
    }
   ],
   "source": [
    "#tf addons only works with alpha for now\n",
    "#!pip install tensorflow-gpu==2.0.0-alpha0  --force-reinstall\n",
    "\n",
    "#!pip uninstall tensorflow-gpu==2.0.0-alpha0 \n",
    "#!pip install tensorflow-estimator\n",
    "#!pip install fastai\n",
    "#!pip install tensorflow-addons\n",
    "#!pip install opencv-python\n",
    "#!pip install scipy\n",
    "#!pip install sklearn\n",
    "#nigthly packages (not currently working with addons)\n",
    "#!pip install --upgrade --force-reinstall tf-nightly-gpu-2.0-preview\n",
    "\n",
    "#!pip install tensorflow-estimator==2.0.0-alpha0  --upgrade --force-reinstall\n",
    "#!pip uninstall -y tf-nightly-gpu-2.0-preview\n",
    "#!pip uninstall -y tb-nightly==1.14.0a20190301\n",
    "#!pip uninstall tensorflow-estimator==1.13.0\n",
    "!pip freeze | egrep 'tensor|tb'"
   ]
  },
  {
   "cell_type": "code",
   "execution_count": 2,
   "metadata": {},
   "outputs": [],
   "source": [
    "%reload_ext autoreload\n",
    "%autoreload 2\n",
    "%matplotlib inline"
   ]
  },
  {
   "cell_type": "code",
   "execution_count": 3,
   "metadata": {},
   "outputs": [
    {
     "data": {
      "text/plain": [
       "'2.0.0-alpha0'"
      ]
     },
     "execution_count": 3,
     "metadata": {},
     "output_type": "execute_result"
    }
   ],
   "source": [
    "import tensorflow as tf\n",
    "from tensorflow import keras\n",
    "#import tensorflow_addons as tfa\n",
    "import pathlib\n",
    "import os\n",
    "import random\n",
    "import OneCycleLR\n",
    "\n",
    "# enable logging to make sure we are running on the GPU\n",
    "# tf.debugging.set_log_device_placement(True)\n",
    "\n",
    "tf.__version__"
   ]
  },
  {
   "cell_type": "code",
   "execution_count": 4,
   "metadata": {},
   "outputs": [],
   "source": [
    "\n",
    "# clear any active session\n",
    "tf.keras.backend.clear_session()\n",
    "\n",
    "AUTOTUNE = tf.data.experimental.AUTOTUNE\n",
    "BATCH_SIZE = 64"
   ]
  },
  {
   "cell_type": "markdown",
   "metadata": {},
   "source": [
    "# Data\n",
    "We have to understand well our data as this is fundamental to achieve good results."
   ]
  },
  {
   "cell_type": "code",
   "execution_count": 5,
   "metadata": {},
   "outputs": [
    {
     "data": {
      "text/plain": [
       "(PosixPath('training_data/images'),\n",
       " PosixPath('training_data/json'),\n",
       " PosixPath('training_data/augmented_imgs'))"
      ]
     },
     "execution_count": 5,
     "metadata": {},
     "output_type": "execute_result"
    }
   ],
   "source": [
    "root_path = pathlib.Path(\"./training_data/\")\n",
    "image_path = root_path /\"images\"\n",
    "json_path = root_path /\"json\"\n",
    "augmented_path = root_path/\"augmented_imgs\"\n",
    "\n",
    "image_path,json_path ,augmented_path"
   ]
  },
  {
   "cell_type": "code",
   "execution_count": 6,
   "metadata": {},
   "outputs": [],
   "source": [
    "# lets set the random seed so we can reproduce our results\n",
    "random.seed(7)\n",
    "\n",
    "# get filenames from directories \n",
    "all_image_paths = list(image_path.glob('*.png')) + list(augmented_path.glob('*.png'))\n",
    "#all_json_paths = list(json_path.glob('*.json'))\n",
    "\n",
    "all_image_paths = [str(path) for path in all_image_paths] # convert to strings\n",
    "random.shuffle(all_image_paths) # randomize"
   ]
  },
  {
   "cell_type": "code",
   "execution_count": 7,
   "metadata": {},
   "outputs": [
    {
     "data": {
      "text/plain": [
       "4191"
      ]
     },
     "execution_count": 7,
     "metadata": {},
     "output_type": "execute_result"
    }
   ],
   "source": [
    "len(all_image_paths)#, len(all_json_paths)"
   ]
  },
  {
   "cell_type": "code",
   "execution_count": 8,
   "metadata": {},
   "outputs": [
    {
     "data": {
      "text/plain": [
       "['training_data/augmented_imgs/moonwalk_86998.png',\n",
       " 'training_data/augmented_imgs/normal_19994.png',\n",
       " 'training_data/augmented_imgs/hadouken_518991.png',\n",
       " 'training_data/augmented_imgs/backpack_1240991.png',\n",
       " 'training_data/augmented_imgs/moonwalk_74990.png',\n",
       " 'training_data/augmented_imgs/moonwalk_1230992.png',\n",
       " 'training_data/augmented_imgs/underarm_872990.png',\n",
       " 'training_data/augmented_imgs/underarm_247991.png',\n",
       " 'training_data/augmented_imgs/normal_1203996.png',\n",
       " 'training_data/images/fly_52.png',\n",
       " 'training_data/augmented_imgs/fly_430991.png',\n",
       " 'training_data/augmented_imgs/normal_2997.png',\n",
       " 'training_data/augmented_imgs/normal_810994.png',\n",
       " 'training_data/augmented_imgs/hadouken_1237999.png',\n",
       " 'training_data/augmented_imgs/fly_48998.png',\n",
       " 'training_data/augmented_imgs/hadouken_1238992.png',\n",
       " 'training_data/augmented_imgs/backpack_1247992.png',\n",
       " 'training_data/augmented_imgs/dramatic_940994.png',\n",
       " 'training_data/augmented_imgs/moonwalk_74995.png',\n",
       " 'training_data/augmented_imgs/normal_208992.png']"
      ]
     },
     "execution_count": 8,
     "metadata": {},
     "output_type": "execute_result"
    }
   ],
   "source": [
    "all_image_paths[:20] "
   ]
  },
  {
   "cell_type": "code",
   "execution_count": 9,
   "metadata": {},
   "outputs": [
    {
     "data": {
      "text/plain": [
       "4191"
      ]
     },
     "execution_count": 9,
     "metadata": {},
     "output_type": "execute_result"
    }
   ],
   "source": [
    "import re\n",
    "# extract categories for classification\n",
    "pat = r'/([^/]+)_\\d+.png$'\n",
    "all_image_labels = [str(re.search(pat,str(image)).group(1)).lower() for image in all_image_paths]\n",
    "len(all_image_labels)"
   ]
  },
  {
   "cell_type": "code",
   "execution_count": 10,
   "metadata": {},
   "outputs": [
    {
     "data": {
      "image/png": "[encoded data removed]",
      "text/plain": [
       "<IPython.core.display.Image object>"
      ]
     },
     "metadata": {},
     "output_type": "display_data"
    },
    {
     "name": "stdout",
     "output_type": "stream",
     "text": [
      "file: training_data/augmented_imgs/fly_858997.png\n"
     ]
    },
    {
     "data": {
      "image/png": "[encoded data removed]",
      "text/plain": [
       "<IPython.core.display.Image object>"
      ]
     },
     "metadata": {},
     "output_type": "display_data"
    },
    {
     "name": "stdout",
     "output_type": "stream",
     "text": [
      "file: training_data/augmented_imgs/dramatic_126996.png\n"
     ]
    },
    {
     "data": {
      "image/png": "[encoded data removed]",
      "text/plain": [
       "<IPython.core.display.Image object>"
      ]
     },
     "metadata": {},
     "output_type": "display_data"
    },
    {
     "name": "stdout",
     "output_type": "stream",
     "text": [
      "file: training_data/augmented_imgs/normal_814997.png\n"
     ]
    }
   ],
   "source": [
    "import IPython.display as display\n",
    "import matplotlib.pyplot as plt\n",
    "\n",
    "# lets check samples of our images to see what they look like\n",
    "for n in range(3):  \n",
    "    image = random.choice(all_image_paths)\n",
    "    display.display(display.Image(str(image)))\n",
    "    print(f\"file: {image}\")"
   ]
  },
  {
   "cell_type": "code",
   "execution_count": 11,
   "metadata": {},
   "outputs": [
    {
     "data": {
      "text/plain": [
       "['backpack',\n",
       " 'dramatic',\n",
       " 'fly',\n",
       " 'hadouken',\n",
       " 'moonwalk',\n",
       " 'normal',\n",
       " 'underarm',\n",
       " 'wings']"
      ]
     },
     "execution_count": 11,
     "metadata": {},
     "output_type": "execute_result"
    }
   ],
   "source": [
    "# get unique classes\n",
    "huia_person=[]\n",
    "for label in all_image_labels:\n",
    "    if label not in huia_person:\n",
    "        huia_person.append(label)\n",
    "huia_person = sorted(huia_person) # sort label list\n",
    "huia_person"
   ]
  },
  {
   "cell_type": "code",
   "execution_count": 12,
   "metadata": {},
   "outputs": [
    {
     "data": {
      "text/plain": [
       "{'backpack': 0,\n",
       " 'dramatic': 1,\n",
       " 'fly': 2,\n",
       " 'hadouken': 3,\n",
       " 'moonwalk': 4,\n",
       " 'normal': 5,\n",
       " 'underarm': 6,\n",
       " 'wings': 7}"
      ]
     },
     "execution_count": 12,
     "metadata": {},
     "output_type": "execute_result"
    }
   ],
   "source": [
    "# put them in a dict for lookup\n",
    "label_to_index = dict((name, index) for index,name in enumerate(huia_person))\n",
    "label_to_index"
   ]
  },
  {
   "cell_type": "code",
   "execution_count": 13,
   "metadata": {},
   "outputs": [
    {
     "name": "stdout",
     "output_type": "stream",
     "text": [
      "POSE_CLASSES = {\n",
      "\t0: 'backpack',\n",
      "\t1: 'dramatic',\n",
      "\t2: 'fly',\n",
      "\t3: 'hadouken',\n",
      "\t4: 'moonwalk',\n",
      "\t5: 'normal',\n",
      "\t6: 'underarm',\n",
      "\t7: 'wings',\n",
      "}\n"
     ]
    }
   ],
   "source": [
    "# lets format it, so we can copy and paste the dict direclty into javascript :-)\n",
    "print(\"POSE_CLASSES = {\")\n",
    "for index,name in enumerate(huia_person):\n",
    "    print(\"\\t\" +str(index)+\": '\"+name+\"',\")\n",
    "print(\"}\")"
   ]
  },
  {
   "cell_type": "code",
   "execution_count": 14,
   "metadata": {},
   "outputs": [
    {
     "name": "stdout",
     "output_type": "stream",
     "text": [
      "(500, 640, 3)\n",
      "<dtype: 'uint8'>\n"
     ]
    },
    {
     "data": {
      "text/plain": [
       "<matplotlib.image.AxesImage at 0x7fde7d1b16d8>"
      ]
     },
     "execution_count": 14,
     "metadata": {},
     "output_type": "execute_result"
    },
    {
     "data": {
      "image/png": "[encoded data removed]",
      "text/plain": [
       "<Figure size 432x288 with 1 Axes>"
      ]
     },
     "metadata": {
      "needs_background": "light"
     },
     "output_type": "display_data"
    }
   ],
   "source": [
    "# load data into tf data\n",
    "img_raw = tf.io.read_file(all_image_paths[0])\n",
    "img_tensor = tf.image.decode_image(img_raw)\n",
    "print(img_tensor.shape)\n",
    "print(img_tensor.dtype)\n",
    "plt.imshow(img_tensor)\n",
    "\n",
    "#img_raw.numpy()\n",
    "\n",
    "\n"
   ]
  },
  {
   "cell_type": "code",
   "execution_count": 15,
   "metadata": {},
   "outputs": [],
   "source": [
    "import numpy\n",
    "from random import randint\n",
    "import math\n",
    "\n",
    "def  preprocess_image(image):\n",
    "    #print(\"EagerMode:\" + str(tf.executing_eagerly()))\n",
    "    # decode PNG\n",
    "    image = tf.image.decode_png(image, channels=3)    \n",
    "    \n",
    "    # data augmentation - doing statically via fastai, as tensorflow addons is not compatible with graph mode yet \n",
    "    # rotate random\n",
    "    degrees = random.randint(-6,6)\n",
    "    angle = degrees * math.pi / 180\n",
    "    #image = tfa.image.rotate(image,angle,interpolation='BILINEAR')\n",
    "    \n",
    "    # random crop - images are tensors of shape (500,640,3)\n",
    "    crop_factor = (random.randint(0,20)/100) # generate numbers between 0.7 and 1.0\n",
    "    new_width = int(640 * (1-crop_factor))\n",
    "    new_height = int(500 * (1-crop_factor))\n",
    "    # resize_image_with_crop_or_pad\n",
    "    # image = tf.image.resize_image_with_crop_or_pad(image,new_height,new_width)\n",
    "    \n",
    "    # resize\n",
    "    image = tf.image.resize(image, [224, 224])\n",
    "\n",
    "    # normalize = convert to [-1:1]    \n",
    "    offset = 127.5\n",
    "    image = (image-offset)/offset\n",
    "    return image\n",
    "\n",
    "def load_and_preprocess_image(path):    \n",
    "    image = tf.io.read_file(path)\n",
    "    return preprocess_image(image)\n"
   ]
  },
  {
   "cell_type": "code",
   "execution_count": 16,
   "metadata": {},
   "outputs": [
    {
     "name": "stderr",
     "output_type": "stream",
     "text": [
      "WARNING: Logging before flag parsing goes to stderr.\n",
      "W0518 10:45:28.218163 140596032284480 image.py:648] Clipping input data to the valid range for imshow with RGB data ([0..1] for floats or [0..255] for integers).\n"
     ]
    },
    {
     "data": {
      "text/plain": [
       "<matplotlib.image.AxesImage at 0x7fde7d105278>"
      ]
     },
     "execution_count": 16,
     "metadata": {},
     "output_type": "execute_result"
    },
    {
     "data": {
      "image/png": "[encoded data removed]",
      "text/plain": [
       "<Figure size 432x288 with 1 Axes>"
      ]
     },
     "metadata": {
      "needs_background": "light"
     },
     "output_type": "display_data"
    }
   ],
   "source": [
    "# load data into tf data\n",
    "img_tensor = load_and_preprocess_image(all_image_paths[0])\n",
    "plt.imshow(img_tensor)"
   ]
  },
  {
   "cell_type": "code",
   "execution_count": 17,
   "metadata": {},
   "outputs": [
    {
     "data": {
      "text/plain": [
       "<tf.Tensor: id=43, shape=(), dtype=string, numpy=b'training_data/augmented_imgs/moonwalk_86998.png'>"
      ]
     },
     "execution_count": 17,
     "metadata": {},
     "output_type": "execute_result"
    }
   ],
   "source": [
    "path_ds = tf.data.Dataset.from_tensor_slices(all_image_paths)\n",
    "path_ds\n",
    "\n",
    "next(iter(path_ds))"
   ]
  },
  {
   "cell_type": "code",
   "execution_count": 18,
   "metadata": {},
   "outputs": [],
   "source": [
    "# force non performatic eager mode as tfa.image doesn't support graph mode yet\n",
    "#image_ds = path_ds.map(lambda path: tf.py_function(func=load_and_preprocess_image,inp=[path],Tout=tf.float32))\n",
    "image_ds = path_ds.map(load_and_preprocess_image,num_parallel_calls = AUTOTUNE)"
   ]
  },
  {
   "cell_type": "code",
   "execution_count": 19,
   "metadata": {},
   "outputs": [
    {
     "data": {
      "text/plain": [
       "4191"
      ]
     },
     "execution_count": 19,
     "metadata": {},
     "output_type": "execute_result"
    }
   ],
   "source": [
    "all_image_labels_idx = [label_to_index[label] for label in all_image_labels]\n",
    "label_ds = tf.data.Dataset.from_tensor_slices(tf.cast(all_image_labels_idx, tf.int64))\n",
    "len(all_image_labels)"
   ]
  },
  {
   "cell_type": "code",
   "execution_count": 20,
   "metadata": {},
   "outputs": [
    {
     "data": {
      "text/plain": [
       "tensorflow.python.data.ops.dataset_ops.ZipDataset"
      ]
     },
     "execution_count": 20,
     "metadata": {},
     "output_type": "execute_result"
    }
   ],
   "source": [
    "image_label_ds = tf.data.Dataset.zip((image_ds, label_ds))\n",
    "image_label_ds\n",
    "image_count = len(all_image_labels)\n",
    "\n",
    "type(image_label_ds)"
   ]
  },
  {
   "cell_type": "code",
   "execution_count": 21,
   "metadata": {},
   "outputs": [
    {
     "data": {
      "text/plain": [
       "<PrefetchDataset shapes: ((None, 224, 224, 3), (None,)), types: (tf.float32, tf.int64)>"
      ]
     },
     "execution_count": 21,
     "metadata": {},
     "output_type": "execute_result"
    }
   ],
   "source": [
    "ds = image_label_ds.cache()\n",
    "ds = ds.apply(tf.data.experimental.shuffle_and_repeat(buffer_size=image_count))\n",
    "ds = ds.batch(BATCH_SIZE).prefetch(buffer_size=AUTOTUNE)\n",
    "ds"
   ]
  },
  {
   "cell_type": "code",
   "execution_count": 22,
   "metadata": {},
   "outputs": [
    {
     "name": "stdout",
     "output_type": "stream",
     "text": [
      "Model: \"mobilenetv2_1.00_224\"\n",
      "__________________________________________________________________________________________________\n",
      "Layer (type)                    Output Shape         Param #     Connected to                     \n",
      "==================================================================================================\n",
      "input_1 (InputLayer)            [(None, 224, 224, 3) 0                                            \n",
      "__________________________________________________________________________________________________\n",
      "Conv1_pad (ZeroPadding2D)       (None, 225, 225, 3)  0           input_1[0][0]                    \n",
      "__________________________________________________________________________________________________\n",
      "Conv1 (Conv2D)                  (None, 112, 112, 32) 864         Conv1_pad[0][0]                  \n",
      "__________________________________________________________________________________________________\n",
      "bn_Conv1 (BatchNormalizationV1) (None, 112, 112, 32) 128         Conv1[0][0]                      \n",
      "__________________________________________________________________________________________________\n",
      "Conv1_relu (ReLU)               (None, 112, 112, 32) 0           bn_Conv1[0][0]                   \n",
      "__________________________________________________________________________________________________\n",
      "expanded_conv_depthwise (Depthw (None, 112, 112, 32) 288         Conv1_relu[0][0]                 \n",
      "__________________________________________________________________________________________________\n",
      "expanded_conv_depthwise_BN (Bat (None, 112, 112, 32) 128         expanded_conv_depthwise[0][0]    \n",
      "__________________________________________________________________________________________________\n",
      "expanded_conv_depthwise_relu (R (None, 112, 112, 32) 0           expanded_conv_depthwise_BN[0][0] \n",
      "__________________________________________________________________________________________________\n",
      "expanded_conv_project (Conv2D)  (None, 112, 112, 16) 512         expanded_conv_depthwise_relu[0][0\n",
      "__________________________________________________________________________________________________\n",
      "expanded_conv_project_BN (Batch (None, 112, 112, 16) 64          expanded_conv_project[0][0]      \n",
      "__________________________________________________________________________________________________\n",
      "block_1_expand (Conv2D)         (None, 112, 112, 96) 1536        expanded_conv_project_BN[0][0]   \n",
      "__________________________________________________________________________________________________\n",
      "block_1_expand_BN (BatchNormali (None, 112, 112, 96) 384         block_1_expand[0][0]             \n",
      "__________________________________________________________________________________________________\n",
      "block_1_expand_relu (ReLU)      (None, 112, 112, 96) 0           block_1_expand_BN[0][0]          \n",
      "__________________________________________________________________________________________________\n",
      "block_1_pad (ZeroPadding2D)     (None, 113, 113, 96) 0           block_1_expand_relu[0][0]        \n",
      "__________________________________________________________________________________________________\n",
      "block_1_depthwise (DepthwiseCon (None, 56, 56, 96)   864         block_1_pad[0][0]                \n",
      "__________________________________________________________________________________________________\n",
      "block_1_depthwise_BN (BatchNorm (None, 56, 56, 96)   384         block_1_depthwise[0][0]          \n",
      "__________________________________________________________________________________________________\n",
      "block_1_depthwise_relu (ReLU)   (None, 56, 56, 96)   0           block_1_depthwise_BN[0][0]       \n",
      "__________________________________________________________________________________________________\n",
      "block_1_project (Conv2D)        (None, 56, 56, 24)   2304        block_1_depthwise_relu[0][0]     \n",
      "__________________________________________________________________________________________________\n",
      "block_1_project_BN (BatchNormal (None, 56, 56, 24)   96          block_1_project[0][0]            \n",
      "__________________________________________________________________________________________________\n",
      "block_2_expand (Conv2D)         (None, 56, 56, 144)  3456        block_1_project_BN[0][0]         \n",
      "__________________________________________________________________________________________________\n",
      "block_2_expand_BN (BatchNormali (None, 56, 56, 144)  576         block_2_expand[0][0]             \n",
      "__________________________________________________________________________________________________\n",
      "block_2_expand_relu (ReLU)      (None, 56, 56, 144)  0           block_2_expand_BN[0][0]          \n",
      "__________________________________________________________________________________________________\n",
      "block_2_depthwise (DepthwiseCon (None, 56, 56, 144)  1296        block_2_expand_relu[0][0]        \n",
      "__________________________________________________________________________________________________\n",
      "block_2_depthwise_BN (BatchNorm (None, 56, 56, 144)  576         block_2_depthwise[0][0]          \n",
      "__________________________________________________________________________________________________\n",
      "block_2_depthwise_relu (ReLU)   (None, 56, 56, 144)  0           block_2_depthwise_BN[0][0]       \n",
      "__________________________________________________________________________________________________\n",
      "block_2_project (Conv2D)        (None, 56, 56, 24)   3456        block_2_depthwise_relu[0][0]     \n",
      "__________________________________________________________________________________________________\n",
      "block_2_project_BN (BatchNormal (None, 56, 56, 24)   96          block_2_project[0][0]            \n",
      "__________________________________________________________________________________________________\n",
      "block_2_add (Add)               (None, 56, 56, 24)   0           block_1_project_BN[0][0]         \n",
      "                                                                 block_2_project_BN[0][0]         \n",
      "__________________________________________________________________________________________________\n",
      "block_3_expand (Conv2D)         (None, 56, 56, 144)  3456        block_2_add[0][0]                \n",
      "__________________________________________________________________________________________________\n",
      "block_3_expand_BN (BatchNormali (None, 56, 56, 144)  576         block_3_expand[0][0]             \n",
      "__________________________________________________________________________________________________\n",
      "block_3_expand_relu (ReLU)      (None, 56, 56, 144)  0           block_3_expand_BN[0][0]          \n",
      "__________________________________________________________________________________________________\n",
      "block_3_pad (ZeroPadding2D)     (None, 57, 57, 144)  0           block_3_expand_relu[0][0]        \n",
      "__________________________________________________________________________________________________\n",
      "block_3_depthwise (DepthwiseCon (None, 28, 28, 144)  1296        block_3_pad[0][0]                \n",
      "__________________________________________________________________________________________________\n",
      "block_3_depthwise_BN (BatchNorm (None, 28, 28, 144)  576         block_3_depthwise[0][0]          \n",
      "__________________________________________________________________________________________________\n",
      "block_3_depthwise_relu (ReLU)   (None, 28, 28, 144)  0           block_3_depthwise_BN[0][0]       \n",
      "__________________________________________________________________________________________________\n",
      "block_3_project (Conv2D)        (None, 28, 28, 32)   4608        block_3_depthwise_relu[0][0]     \n",
      "__________________________________________________________________________________________________\n",
      "block_3_project_BN (BatchNormal (None, 28, 28, 32)   128         block_3_project[0][0]            \n",
      "__________________________________________________________________________________________________\n",
      "block_4_expand (Conv2D)         (None, 28, 28, 192)  6144        block_3_project_BN[0][0]         \n",
      "__________________________________________________________________________________________________\n",
      "block_4_expand_BN (BatchNormali (None, 28, 28, 192)  768         block_4_expand[0][0]             \n",
      "__________________________________________________________________________________________________\n",
      "block_4_expand_relu (ReLU)      (None, 28, 28, 192)  0           block_4_expand_BN[0][0]          \n",
      "__________________________________________________________________________________________________\n",
      "block_4_depthwise (DepthwiseCon (None, 28, 28, 192)  1728        block_4_expand_relu[0][0]        \n",
      "__________________________________________________________________________________________________\n",
      "block_4_depthwise_BN (BatchNorm (None, 28, 28, 192)  768         block_4_depthwise[0][0]          \n",
      "__________________________________________________________________________________________________\n",
      "block_4_depthwise_relu (ReLU)   (None, 28, 28, 192)  0           block_4_depthwise_BN[0][0]       \n",
      "__________________________________________________________________________________________________\n",
      "block_4_project (Conv2D)        (None, 28, 28, 32)   6144        block_4_depthwise_relu[0][0]     \n",
      "__________________________________________________________________________________________________\n",
      "block_4_project_BN (BatchNormal (None, 28, 28, 32)   128         block_4_project[0][0]            \n",
      "__________________________________________________________________________________________________\n",
      "block_4_add (Add)               (None, 28, 28, 32)   0           block_3_project_BN[0][0]         \n",
      "                                                                 block_4_project_BN[0][0]         \n",
      "__________________________________________________________________________________________________\n",
      "block_5_expand (Conv2D)         (None, 28, 28, 192)  6144        block_4_add[0][0]                \n",
      "__________________________________________________________________________________________________\n",
      "block_5_expand_BN (BatchNormali (None, 28, 28, 192)  768         block_5_expand[0][0]             \n",
      "__________________________________________________________________________________________________\n",
      "block_5_expand_relu (ReLU)      (None, 28, 28, 192)  0           block_5_expand_BN[0][0]          \n",
      "__________________________________________________________________________________________________\n",
      "block_5_depthwise (DepthwiseCon (None, 28, 28, 192)  1728        block_5_expand_relu[0][0]        \n",
      "__________________________________________________________________________________________________\n",
      "block_5_depthwise_BN (BatchNorm (None, 28, 28, 192)  768         block_5_depthwise[0][0]          \n",
      "__________________________________________________________________________________________________\n",
      "block_5_depthwise_relu (ReLU)   (None, 28, 28, 192)  0           block_5_depthwise_BN[0][0]       \n",
      "__________________________________________________________________________________________________\n",
      "block_5_project (Conv2D)        (None, 28, 28, 32)   6144        block_5_depthwise_relu[0][0]     \n",
      "__________________________________________________________________________________________________\n",
      "block_5_project_BN (BatchNormal (None, 28, 28, 32)   128         block_5_project[0][0]            \n",
      "__________________________________________________________________________________________________\n",
      "block_5_add (Add)               (None, 28, 28, 32)   0           block_4_add[0][0]                \n",
      "                                                                 block_5_project_BN[0][0]         \n",
      "__________________________________________________________________________________________________\n",
      "block_6_expand (Conv2D)         (None, 28, 28, 192)  6144        block_5_add[0][0]                \n",
      "__________________________________________________________________________________________________\n",
      "block_6_expand_BN (BatchNormali (None, 28, 28, 192)  768         block_6_expand[0][0]             \n",
      "__________________________________________________________________________________________________\n",
      "block_6_expand_relu (ReLU)      (None, 28, 28, 192)  0           block_6_expand_BN[0][0]          \n",
      "__________________________________________________________________________________________________\n",
      "block_6_pad (ZeroPadding2D)     (None, 29, 29, 192)  0           block_6_expand_relu[0][0]        \n",
      "__________________________________________________________________________________________________\n",
      "block_6_depthwise (DepthwiseCon (None, 14, 14, 192)  1728        block_6_pad[0][0]                \n",
      "__________________________________________________________________________________________________\n",
      "block_6_depthwise_BN (BatchNorm (None, 14, 14, 192)  768         block_6_depthwise[0][0]          \n",
      "__________________________________________________________________________________________________\n",
      "block_6_depthwise_relu (ReLU)   (None, 14, 14, 192)  0           block_6_depthwise_BN[0][0]       \n",
      "__________________________________________________________________________________________________\n",
      "block_6_project (Conv2D)        (None, 14, 14, 64)   12288       block_6_depthwise_relu[0][0]     \n",
      "__________________________________________________________________________________________________\n",
      "block_6_project_BN (BatchNormal (None, 14, 14, 64)   256         block_6_project[0][0]            \n",
      "__________________________________________________________________________________________________\n",
      "block_7_expand (Conv2D)         (None, 14, 14, 384)  24576       block_6_project_BN[0][0]         \n",
      "__________________________________________________________________________________________________\n",
      "block_7_expand_BN (BatchNormali (None, 14, 14, 384)  1536        block_7_expand[0][0]             \n",
      "__________________________________________________________________________________________________\n",
      "block_7_expand_relu (ReLU)      (None, 14, 14, 384)  0           block_7_expand_BN[0][0]          \n",
      "__________________________________________________________________________________________________\n",
      "block_7_depthwise (DepthwiseCon (None, 14, 14, 384)  3456        block_7_expand_relu[0][0]        \n",
      "__________________________________________________________________________________________________\n",
      "block_7_depthwise_BN (BatchNorm (None, 14, 14, 384)  1536        block_7_depthwise[0][0]          \n",
      "__________________________________________________________________________________________________\n",
      "block_7_depthwise_relu (ReLU)   (None, 14, 14, 384)  0           block_7_depthwise_BN[0][0]       \n",
      "__________________________________________________________________________________________________\n",
      "block_7_project (Conv2D)        (None, 14, 14, 64)   24576       block_7_depthwise_relu[0][0]     \n",
      "__________________________________________________________________________________________________\n",
      "block_7_project_BN (BatchNormal (None, 14, 14, 64)   256         block_7_project[0][0]            \n",
      "__________________________________________________________________________________________________\n",
      "block_7_add (Add)               (None, 14, 14, 64)   0           block_6_project_BN[0][0]         \n",
      "                                                                 block_7_project_BN[0][0]         \n",
      "__________________________________________________________________________________________________\n",
      "block_8_expand (Conv2D)         (None, 14, 14, 384)  24576       block_7_add[0][0]                \n",
      "__________________________________________________________________________________________________\n",
      "block_8_expand_BN (BatchNormali (None, 14, 14, 384)  1536        block_8_expand[0][0]             \n",
      "__________________________________________________________________________________________________\n",
      "block_8_expand_relu (ReLU)      (None, 14, 14, 384)  0           block_8_expand_BN[0][0]          \n",
      "__________________________________________________________________________________________________\n",
      "block_8_depthwise (DepthwiseCon (None, 14, 14, 384)  3456        block_8_expand_relu[0][0]        \n",
      "__________________________________________________________________________________________________\n",
      "block_8_depthwise_BN (BatchNorm (None, 14, 14, 384)  1536        block_8_depthwise[0][0]          \n",
      "__________________________________________________________________________________________________\n",
      "block_8_depthwise_relu (ReLU)   (None, 14, 14, 384)  0           block_8_depthwise_BN[0][0]       \n",
      "__________________________________________________________________________________________________\n",
      "block_8_project (Conv2D)        (None, 14, 14, 64)   24576       block_8_depthwise_relu[0][0]     \n",
      "__________________________________________________________________________________________________\n",
      "block_8_project_BN (BatchNormal (None, 14, 14, 64)   256         block_8_project[0][0]            \n",
      "__________________________________________________________________________________________________\n",
      "block_8_add (Add)               (None, 14, 14, 64)   0           block_7_add[0][0]                \n",
      "                                                                 block_8_project_BN[0][0]         \n",
      "__________________________________________________________________________________________________\n",
      "block_9_expand (Conv2D)         (None, 14, 14, 384)  24576       block_8_add[0][0]                \n",
      "__________________________________________________________________________________________________\n",
      "block_9_expand_BN (BatchNormali (None, 14, 14, 384)  1536        block_9_expand[0][0]             \n",
      "__________________________________________________________________________________________________\n",
      "block_9_expand_relu (ReLU)      (None, 14, 14, 384)  0           block_9_expand_BN[0][0]          \n",
      "__________________________________________________________________________________________________\n",
      "block_9_depthwise (DepthwiseCon (None, 14, 14, 384)  3456        block_9_expand_relu[0][0]        \n",
      "__________________________________________________________________________________________________\n",
      "block_9_depthwise_BN (BatchNorm (None, 14, 14, 384)  1536        block_9_depthwise[0][0]          \n",
      "__________________________________________________________________________________________________\n",
      "block_9_depthwise_relu (ReLU)   (None, 14, 14, 384)  0           block_9_depthwise_BN[0][0]       \n",
      "__________________________________________________________________________________________________\n",
      "block_9_project (Conv2D)        (None, 14, 14, 64)   24576       block_9_depthwise_relu[0][0]     \n",
      "__________________________________________________________________________________________________\n",
      "block_9_project_BN (BatchNormal (None, 14, 14, 64)   256         block_9_project[0][0]            \n",
      "__________________________________________________________________________________________________\n",
      "block_9_add (Add)               (None, 14, 14, 64)   0           block_8_add[0][0]                \n",
      "                                                                 block_9_project_BN[0][0]         \n",
      "__________________________________________________________________________________________________\n",
      "block_10_expand (Conv2D)        (None, 14, 14, 384)  24576       block_9_add[0][0]                \n",
      "__________________________________________________________________________________________________\n",
      "block_10_expand_BN (BatchNormal (None, 14, 14, 384)  1536        block_10_expand[0][0]            \n",
      "__________________________________________________________________________________________________\n",
      "block_10_expand_relu (ReLU)     (None, 14, 14, 384)  0           block_10_expand_BN[0][0]         \n",
      "__________________________________________________________________________________________________\n",
      "block_10_depthwise (DepthwiseCo (None, 14, 14, 384)  3456        block_10_expand_relu[0][0]       \n",
      "__________________________________________________________________________________________________\n",
      "block_10_depthwise_BN (BatchNor (None, 14, 14, 384)  1536        block_10_depthwise[0][0]         \n",
      "__________________________________________________________________________________________________\n",
      "block_10_depthwise_relu (ReLU)  (None, 14, 14, 384)  0           block_10_depthwise_BN[0][0]      \n",
      "__________________________________________________________________________________________________\n",
      "block_10_project (Conv2D)       (None, 14, 14, 96)   36864       block_10_depthwise_relu[0][0]    \n",
      "__________________________________________________________________________________________________\n",
      "block_10_project_BN (BatchNorma (None, 14, 14, 96)   384         block_10_project[0][0]           \n",
      "__________________________________________________________________________________________________\n",
      "block_11_expand (Conv2D)        (None, 14, 14, 576)  55296       block_10_project_BN[0][0]        \n",
      "__________________________________________________________________________________________________\n",
      "block_11_expand_BN (BatchNormal (None, 14, 14, 576)  2304        block_11_expand[0][0]            \n",
      "__________________________________________________________________________________________________\n",
      "block_11_expand_relu (ReLU)     (None, 14, 14, 576)  0           block_11_expand_BN[0][0]         \n",
      "__________________________________________________________________________________________________\n",
      "block_11_depthwise (DepthwiseCo (None, 14, 14, 576)  5184        block_11_expand_relu[0][0]       \n",
      "__________________________________________________________________________________________________\n",
      "block_11_depthwise_BN (BatchNor (None, 14, 14, 576)  2304        block_11_depthwise[0][0]         \n",
      "__________________________________________________________________________________________________\n",
      "block_11_depthwise_relu (ReLU)  (None, 14, 14, 576)  0           block_11_depthwise_BN[0][0]      \n",
      "__________________________________________________________________________________________________\n",
      "block_11_project (Conv2D)       (None, 14, 14, 96)   55296       block_11_depthwise_relu[0][0]    \n",
      "__________________________________________________________________________________________________\n",
      "block_11_project_BN (BatchNorma (None, 14, 14, 96)   384         block_11_project[0][0]           \n",
      "__________________________________________________________________________________________________\n",
      "block_11_add (Add)              (None, 14, 14, 96)   0           block_10_project_BN[0][0]        \n",
      "                                                                 block_11_project_BN[0][0]        \n",
      "__________________________________________________________________________________________________\n",
      "block_12_expand (Conv2D)        (None, 14, 14, 576)  55296       block_11_add[0][0]               \n",
      "__________________________________________________________________________________________________\n",
      "block_12_expand_BN (BatchNormal (None, 14, 14, 576)  2304        block_12_expand[0][0]            \n",
      "__________________________________________________________________________________________________\n",
      "block_12_expand_relu (ReLU)     (None, 14, 14, 576)  0           block_12_expand_BN[0][0]         \n",
      "__________________________________________________________________________________________________\n",
      "block_12_depthwise (DepthwiseCo (None, 14, 14, 576)  5184        block_12_expand_relu[0][0]       \n",
      "__________________________________________________________________________________________________\n",
      "block_12_depthwise_BN (BatchNor (None, 14, 14, 576)  2304        block_12_depthwise[0][0]         \n",
      "__________________________________________________________________________________________________\n",
      "block_12_depthwise_relu (ReLU)  (None, 14, 14, 576)  0           block_12_depthwise_BN[0][0]      \n",
      "__________________________________________________________________________________________________\n",
      "block_12_project (Conv2D)       (None, 14, 14, 96)   55296       block_12_depthwise_relu[0][0]    \n",
      "__________________________________________________________________________________________________\n",
      "block_12_project_BN (BatchNorma (None, 14, 14, 96)   384         block_12_project[0][0]           \n",
      "__________________________________________________________________________________________________\n",
      "block_12_add (Add)              (None, 14, 14, 96)   0           block_11_add[0][0]               \n",
      "                                                                 block_12_project_BN[0][0]        \n",
      "__________________________________________________________________________________________________\n",
      "block_13_expand (Conv2D)        (None, 14, 14, 576)  55296       block_12_add[0][0]               \n",
      "__________________________________________________________________________________________________\n",
      "block_13_expand_BN (BatchNormal (None, 14, 14, 576)  2304        block_13_expand[0][0]            \n",
      "__________________________________________________________________________________________________\n",
      "block_13_expand_relu (ReLU)     (None, 14, 14, 576)  0           block_13_expand_BN[0][0]         \n",
      "__________________________________________________________________________________________________\n",
      "block_13_pad (ZeroPadding2D)    (None, 15, 15, 576)  0           block_13_expand_relu[0][0]       \n",
      "__________________________________________________________________________________________________\n",
      "block_13_depthwise (DepthwiseCo (None, 7, 7, 576)    5184        block_13_pad[0][0]               \n",
      "__________________________________________________________________________________________________\n",
      "block_13_depthwise_BN (BatchNor (None, 7, 7, 576)    2304        block_13_depthwise[0][0]         \n",
      "__________________________________________________________________________________________________\n",
      "block_13_depthwise_relu (ReLU)  (None, 7, 7, 576)    0           block_13_depthwise_BN[0][0]      \n",
      "__________________________________________________________________________________________________\n",
      "block_13_project (Conv2D)       (None, 7, 7, 160)    92160       block_13_depthwise_relu[0][0]    \n",
      "__________________________________________________________________________________________________\n",
      "block_13_project_BN (BatchNorma (None, 7, 7, 160)    640         block_13_project[0][0]           \n",
      "__________________________________________________________________________________________________\n",
      "block_14_expand (Conv2D)        (None, 7, 7, 960)    153600      block_13_project_BN[0][0]        \n",
      "__________________________________________________________________________________________________\n",
      "block_14_expand_BN (BatchNormal (None, 7, 7, 960)    3840        block_14_expand[0][0]            \n",
      "__________________________________________________________________________________________________\n",
      "block_14_expand_relu (ReLU)     (None, 7, 7, 960)    0           block_14_expand_BN[0][0]         \n",
      "__________________________________________________________________________________________________\n",
      "block_14_depthwise (DepthwiseCo (None, 7, 7, 960)    8640        block_14_expand_relu[0][0]       \n",
      "__________________________________________________________________________________________________\n",
      "block_14_depthwise_BN (BatchNor (None, 7, 7, 960)    3840        block_14_depthwise[0][0]         \n",
      "__________________________________________________________________________________________________\n",
      "block_14_depthwise_relu (ReLU)  (None, 7, 7, 960)    0           block_14_depthwise_BN[0][0]      \n",
      "__________________________________________________________________________________________________\n",
      "block_14_project (Conv2D)       (None, 7, 7, 160)    153600      block_14_depthwise_relu[0][0]    \n",
      "__________________________________________________________________________________________________\n",
      "block_14_project_BN (BatchNorma (None, 7, 7, 160)    640         block_14_project[0][0]           \n",
      "__________________________________________________________________________________________________\n",
      "block_14_add (Add)              (None, 7, 7, 160)    0           block_13_project_BN[0][0]        \n",
      "                                                                 block_14_project_BN[0][0]        \n",
      "__________________________________________________________________________________________________\n",
      "block_15_expand (Conv2D)        (None, 7, 7, 960)    153600      block_14_add[0][0]               \n",
      "__________________________________________________________________________________________________\n",
      "block_15_expand_BN (BatchNormal (None, 7, 7, 960)    3840        block_15_expand[0][0]            \n",
      "__________________________________________________________________________________________________\n",
      "block_15_expand_relu (ReLU)     (None, 7, 7, 960)    0           block_15_expand_BN[0][0]         \n",
      "__________________________________________________________________________________________________\n",
      "block_15_depthwise (DepthwiseCo (None, 7, 7, 960)    8640        block_15_expand_relu[0][0]       \n",
      "__________________________________________________________________________________________________\n",
      "block_15_depthwise_BN (BatchNor (None, 7, 7, 960)    3840        block_15_depthwise[0][0]         \n",
      "__________________________________________________________________________________________________\n",
      "block_15_depthwise_relu (ReLU)  (None, 7, 7, 960)    0           block_15_depthwise_BN[0][0]      \n",
      "__________________________________________________________________________________________________\n",
      "block_15_project (Conv2D)       (None, 7, 7, 160)    153600      block_15_depthwise_relu[0][0]    \n",
      "__________________________________________________________________________________________________\n",
      "block_15_project_BN (BatchNorma (None, 7, 7, 160)    640         block_15_project[0][0]           \n",
      "__________________________________________________________________________________________________\n",
      "block_15_add (Add)              (None, 7, 7, 160)    0           block_14_add[0][0]               \n",
      "                                                                 block_15_project_BN[0][0]        \n",
      "__________________________________________________________________________________________________\n",
      "block_16_expand (Conv2D)        (None, 7, 7, 960)    153600      block_15_add[0][0]               \n",
      "__________________________________________________________________________________________________\n",
      "block_16_expand_BN (BatchNormal (None, 7, 7, 960)    3840        block_16_expand[0][0]            \n",
      "__________________________________________________________________________________________________\n",
      "block_16_expand_relu (ReLU)     (None, 7, 7, 960)    0           block_16_expand_BN[0][0]         \n",
      "__________________________________________________________________________________________________\n",
      "block_16_depthwise (DepthwiseCo (None, 7, 7, 960)    8640        block_16_expand_relu[0][0]       \n",
      "__________________________________________________________________________________________________\n",
      "block_16_depthwise_BN (BatchNor (None, 7, 7, 960)    3840        block_16_depthwise[0][0]         \n",
      "__________________________________________________________________________________________________\n",
      "block_16_depthwise_relu (ReLU)  (None, 7, 7, 960)    0           block_16_depthwise_BN[0][0]      \n",
      "__________________________________________________________________________________________________\n",
      "block_16_project (Conv2D)       (None, 7, 7, 320)    307200      block_16_depthwise_relu[0][0]    \n",
      "__________________________________________________________________________________________________\n",
      "block_16_project_BN (BatchNorma (None, 7, 7, 320)    1280        block_16_project[0][0]           \n",
      "__________________________________________________________________________________________________\n",
      "Conv_1 (Conv2D)                 (None, 7, 7, 1280)   409600      block_16_project_BN[0][0]        \n",
      "__________________________________________________________________________________________________\n",
      "Conv_1_bn (BatchNormalizationV1 (None, 7, 7, 1280)   5120        Conv_1[0][0]                     \n",
      "__________________________________________________________________________________________________\n",
      "out_relu (ReLU)                 (None, 7, 7, 1280)   0           Conv_1_bn[0][0]                  \n",
      "==================================================================================================\n",
      "Total params: 2,257,984\n",
      "Trainable params: 0\n",
      "Non-trainable params: 2,257,984\n",
      "__________________________________________________________________________________________________\n"
     ]
    }
   ],
   "source": [
    "# we will use a pretrained mobilenet for transferlearning\n",
    "mobilenet = tf.keras.applications.MobileNetV2(input_shape=(224,224,3),include_top=False,weights='imagenet')\n",
    "mobilenet.trainable = False\n",
    "mobilenet.summary()"
   ]
  },
  {
   "cell_type": "code",
   "execution_count": 23,
   "metadata": {},
   "outputs": [
    {
     "name": "stdout",
     "output_type": "stream",
     "text": [
      "(64, 224, 224, 3)\n"
     ]
    }
   ],
   "source": [
    "image_batch, label_batch = next(iter(ds))\n",
    "print(image_batch.shape)"
   ]
  },
  {
   "cell_type": "code",
   "execution_count": 24,
   "metadata": {},
   "outputs": [
    {
     "data": {
      "text/plain": [
       "array([[[-1., -1., -1.],\n",
       "        [-1., -1., -1.],\n",
       "        [-1., -1., -1.],\n",
       "        ...,\n",
       "        [-1., -1., -1.],\n",
       "        [-1., -1., -1.],\n",
       "        [-1., -1., -1.]],\n",
       "\n",
       "       [[-1., -1., -1.],\n",
       "        [-1., -1., -1.],\n",
       "        [-1., -1., -1.],\n",
       "        ...,\n",
       "        [-1., -1., -1.],\n",
       "        [-1., -1., -1.],\n",
       "        [-1., -1., -1.]],\n",
       "\n",
       "       [[-1., -1., -1.],\n",
       "        [-1., -1., -1.],\n",
       "        [-1., -1., -1.],\n",
       "        ...,\n",
       "        [-1., -1., -1.],\n",
       "        [-1., -1., -1.],\n",
       "        [-1., -1., -1.]],\n",
       "\n",
       "       ...,\n",
       "\n",
       "       [[-1., -1., -1.],\n",
       "        [-1., -1., -1.],\n",
       "        [-1., -1., -1.],\n",
       "        ...,\n",
       "        [-1., -1., -1.],\n",
       "        [-1., -1., -1.],\n",
       "        [-1., -1., -1.]],\n",
       "\n",
       "       [[-1., -1., -1.],\n",
       "        [-1., -1., -1.],\n",
       "        [-1., -1., -1.],\n",
       "        ...,\n",
       "        [-1., -1., -1.],\n",
       "        [-1., -1., -1.],\n",
       "        [-1., -1., -1.]],\n",
       "\n",
       "       [[-1., -1., -1.],\n",
       "        [-1., -1., -1.],\n",
       "        [-1., -1., -1.],\n",
       "        ...,\n",
       "        [-1., -1., -1.],\n",
       "        [-1., -1., -1.],\n",
       "        [-1., -1., -1.]]], dtype=float32)"
      ]
     },
     "execution_count": 24,
     "metadata": {},
     "output_type": "execute_result"
    }
   ],
   "source": [
    "label_batch[0].numpy()\n",
    "image_batch[0].numpy()"
   ]
  },
  {
   "cell_type": "code",
   "execution_count": 25,
   "metadata": {},
   "outputs": [
    {
     "name": "stdout",
     "output_type": "stream",
     "text": [
      "(64, 7, 7, 1280)\n"
     ]
    }
   ],
   "source": [
    "image_batch, label_batch = next(iter(ds))\n",
    "\n",
    "feature_map_batch = mobilenet(image_batch)\n",
    "print(feature_map_batch.shape)"
   ]
  },
  {
   "cell_type": "code",
   "execution_count": 26,
   "metadata": {},
   "outputs": [
    {
     "name": "stdout",
     "output_type": "stream",
     "text": [
      "Model: \"sequential\"\n",
      "_________________________________________________________________\n",
      "Layer (type)                 Output Shape              Param #   \n",
      "=================================================================\n",
      "mobilenetv2_1.00_224 (Model) (None, 7, 7, 1280)        2257984   \n",
      "_________________________________________________________________\n",
      "global_average_pooling2d (Gl (None, 1280)              0         \n",
      "_________________________________________________________________\n",
      "dropout (Dropout)            (None, 1280)              0         \n",
      "_________________________________________________________________\n",
      "dense (Dense)                (None, 1024)              1311744   \n",
      "_________________________________________________________________\n",
      "dropout_1 (Dropout)          (None, 1024)              0         \n",
      "_________________________________________________________________\n",
      "dense_1 (Dense)              (None, 1024)              1049600   \n",
      "_________________________________________________________________\n",
      "dropout_2 (Dropout)          (None, 1024)              0         \n",
      "_________________________________________________________________\n",
      "features (Dense)             (None, 512)               524800    \n",
      "_________________________________________________________________\n",
      "dense_2 (Dense)              (None, 8)                 4104      \n",
      "=================================================================\n",
      "Total params: 5,148,232\n",
      "Trainable params: 2,890,248\n",
      "Non-trainable params: 2,257,984\n",
      "_________________________________________________________________\n"
     ]
    }
   ],
   "source": [
    "model = tf.keras.Sequential([\n",
    "    mobilenet,\n",
    "    tf.keras.layers.GlobalAveragePooling2D(),\n",
    "    tf.keras.layers.Dropout(0.3),\n",
    "    tf.keras.layers.Dense(1024,activation='relu',bias_initializer=tf.keras.initializers.he_normal()),\n",
    "    tf.keras.layers.Dropout(0.3),\n",
    "    tf.keras.layers.Dense(1024,activation='relu',bias_initializer=tf.keras.initializers.he_normal()),\n",
    "    tf.keras.layers.Dropout(0.2),\n",
    "    tf.keras.layers.Dense(512,activation='relu',bias_initializer=tf.keras.initializers.he_normal(),name='features'),\n",
    "    tf.keras.layers.Dense(len(huia_person),activation='softmax'),\n",
    "])\n",
    "model.summary()"
   ]
  },
  {
   "cell_type": "code",
   "execution_count": 27,
   "metadata": {},
   "outputs": [
    {
     "name": "stdout",
     "output_type": "stream",
     "text": [
      "min logit: 0.051436294\n",
      "max logit: 0.29406202\n",
      "\n",
      "Shape: (64, 8)\n"
     ]
    }
   ],
   "source": [
    "logit_batch = model(image_batch).numpy()\n",
    "\n",
    "print(\"min logit:\", logit_batch.min())\n",
    "print(\"max logit:\", logit_batch.max())\n",
    "print()\n",
    "\n",
    "print(\"Shape:\", logit_batch.shape)"
   ]
  },
  {
   "cell_type": "code",
   "execution_count": 28,
   "metadata": {},
   "outputs": [
    {
     "name": "stdout",
     "output_type": "stream",
     "text": [
      "Model: \"sequential\"\n",
      "_________________________________________________________________\n",
      "Layer (type)                 Output Shape              Param #   \n",
      "=================================================================\n",
      "mobilenetv2_1.00_224 (Model) (None, 7, 7, 1280)        2257984   \n",
      "_________________________________________________________________\n",
      "global_average_pooling2d (Gl (None, 1280)              0         \n",
      "_________________________________________________________________\n",
      "dropout (Dropout)            (None, 1280)              0         \n",
      "_________________________________________________________________\n",
      "dense (Dense)                (None, 1024)              1311744   \n",
      "_________________________________________________________________\n",
      "dropout_1 (Dropout)          (None, 1024)              0         \n",
      "_________________________________________________________________\n",
      "dense_1 (Dense)              (None, 1024)              1049600   \n",
      "_________________________________________________________________\n",
      "dropout_2 (Dropout)          (None, 1024)              0         \n",
      "_________________________________________________________________\n",
      "features (Dense)             (None, 512)               524800    \n",
      "_________________________________________________________________\n",
      "dense_2 (Dense)              (None, 8)                 4104      \n",
      "=================================================================\n",
      "Total params: 5,148,232\n",
      "Trainable params: 2,890,248\n",
      "Non-trainable params: 2,257,984\n",
      "_________________________________________________________________\n"
     ]
    }
   ],
   "source": [
    "len(model.trainable_variables) \n",
    "model.summary()"
   ]
  },
  {
   "cell_type": "code",
   "execution_count": 29,
   "metadata": {},
   "outputs": [
    {
     "data": {
      "text/plain": [
       "66.0"
      ]
     },
     "execution_count": 29,
     "metadata": {},
     "output_type": "execute_result"
    }
   ],
   "source": [
    "steps_per_epoch=tf.math.ceil(len(all_image_paths)/BATCH_SIZE).numpy()\n",
    "steps_per_epoch"
   ]
  },
  {
   "cell_type": "code",
   "execution_count": 30,
   "metadata": {},
   "outputs": [],
   "source": [
    "import OneCycleLR\n",
    "from datetime import datetime\n",
    "now = datetime.now()\n",
    "log_dir = \"./logs/1_\" + now.strftime(\"%Y%m%d-%H%M%S\") + \"/\"\n",
    "\n",
    "callbacks = []\n",
    "\n",
    "# logging\n",
    "tbCallback = tf.keras.callbacks.TensorBoard(log_dir=log_dir,histogram_freq=1)\n",
    "tbCallback.set_model(model)\n",
    "callbacks.append(tbCallback)\n",
    "\n",
    "epochs = 20\n",
    "max_lr = 3e-4\n",
    "\n",
    "# One Cycle https://www.kaggle.com/robotdreams/one-cycle-policy-with-keras\n",
    "base_lr = max_lr/10\n",
    "max_m = 0.98\n",
    "base_m = 0.85\n",
    "\n",
    "cyclical_momentum = False\n",
    "augment = True\n",
    "cycles = 2.35\n",
    "\n",
    "iterations = round(len(all_image_paths)/BATCH_SIZE*epochs)\n",
    "iterations = list(range(0,iterations+1))\n",
    "step_size = len(iterations)/(cycles)\n",
    "\n",
    "clr = OneCycleLR.CyclicLR(base_lr=base_lr,\n",
    "                max_lr=max_lr,\n",
    "                step_size=step_size,\n",
    "                max_m=max_m,\n",
    "                base_m=base_m,\n",
    "                cyclical_momentum=cyclical_momentum)\n",
    "\n",
    "callbacks.append(clr)\n",
    "\n",
    "# class myCallback(tf.keras.callbacks.Callback):\n",
    "#   def on_epoch_end(self, epoch, logs={}):\n",
    "#     if(logs.get('val_accuracy')>0.9):\n",
    "#       print(\"\\nReached 60% accuracy so cancelling training!\")\n",
    "#       self.model.stop_training = True\n",
    "\n",
    "# earlyStopping = tf.keras.callbacks.EarlyStopping(patience=2, monitor='loss')\n",
    "# callbacks.append(earlyStopping)\n",
    "\n",
    "# chkPoint = tf.keras.callbacks.ModelCheckpoint('./models.h5')\n",
    "# chkPoint.set_model(model)\n",
    "# callbacks.append(chkPoint)"
   ]
  },
  {
   "cell_type": "code",
   "execution_count": 31,
   "metadata": {},
   "outputs": [],
   "source": [
    "#ds.shuffle(buffer_size=32)\n",
    "# skip 20% validation images\n",
    "test_dataset = ds.take(838) \n",
    "train_dataset = ds.skip(838)"
   ]
  },
  {
   "cell_type": "code",
   "execution_count": 32,
   "metadata": {},
   "outputs": [],
   "source": [
    "mobilenet.trainable = False\n",
    "model.compile(optimizer=tf.keras.optimizers.Adam(lr=max_lr, beta_1=0.9, beta_2=0.999, epsilon=1e-08, decay=1e-07, amsgrad=False), \n",
    "              loss='sparse_categorical_crossentropy',\n",
    "              metrics=['accuracy'])"
   ]
  },
  {
   "cell_type": "code",
   "execution_count": 33,
   "metadata": {
    "scrolled": true
   },
   "outputs": [
    {
     "name": "stdout",
     "output_type": "stream",
     "text": [
      "Epoch 1/20\n",
      "66/66 [==============================] - 27s 411ms/step - loss: 1.7863 - accuracy: 0.3800 - val_loss: 1.7249 - val_accuracy: 0.3722\n",
      "Epoch 2/20\n",
      "66/66 [==============================] - 11s 166ms/step - loss: 0.7566 - accuracy: 0.8011 - val_loss: 1.2242 - val_accuracy: 0.5237\n",
      "Epoch 3/20\n",
      "66/66 [==============================] - 11s 172ms/step - loss: 0.2737 - accuracy: 0.9169 - val_loss: 1.1410 - val_accuracy: 0.5597\n",
      "Epoch 4/20\n",
      "66/66 [==============================] - 11s 168ms/step - loss: 0.1479 - accuracy: 0.9519 - val_loss: 1.1319 - val_accuracy: 0.6080\n",
      "Epoch 5/20\n",
      "66/66 [==============================] - 11s 170ms/step - loss: 0.1288 - accuracy: 0.9588 - val_loss: 2.1048 - val_accuracy: 0.3639\n",
      "Epoch 6/20\n",
      "66/66 [==============================] - 11s 170ms/step - loss: 0.0941 - accuracy: 0.9659 - val_loss: 0.9381 - val_accuracy: 0.6605\n",
      "Epoch 7/20\n",
      "66/66 [==============================] - 11s 167ms/step - loss: 0.0670 - accuracy: 0.9777 - val_loss: 1.7007 - val_accuracy: 0.5142\n",
      "Epoch 8/20\n",
      "66/66 [==============================] - 11s 173ms/step - loss: 0.0551 - accuracy: 0.9815 - val_loss: 1.0913 - val_accuracy: 0.6387\n",
      "Epoch 9/20\n",
      "66/66 [==============================] - 11s 172ms/step - loss: 0.0801 - accuracy: 0.9709 - val_loss: 1.3893 - val_accuracy: 0.5826\n",
      "Epoch 10/20\n",
      "66/66 [==============================] - 11s 168ms/step - loss: 0.0559 - accuracy: 0.9822 - val_loss: 1.4037 - val_accuracy: 0.5956\n",
      "Epoch 11/20\n",
      "66/66 [==============================] - 11s 167ms/step - loss: 0.0384 - accuracy: 0.9863 - val_loss: 0.8275 - val_accuracy: 0.7057\n",
      "Epoch 12/20\n",
      "66/66 [==============================] - 11s 172ms/step - loss: 0.0289 - accuracy: 0.9901 - val_loss: 0.6528 - val_accuracy: 0.7588\n",
      "Epoch 13/20\n",
      "66/66 [==============================] - 12s 179ms/step - loss: 0.0184 - accuracy: 0.9936 - val_loss: 0.6068 - val_accuracy: 0.7834\n",
      "Epoch 14/20\n",
      "66/66 [==============================] - 12s 174ms/step - loss: 0.0171 - accuracy: 0.9938 - val_loss: 0.7242 - val_accuracy: 0.7540\n",
      "Epoch 15/20\n",
      "66/66 [==============================] - 11s 171ms/step - loss: 0.0168 - accuracy: 0.9941 - val_loss: 0.7637 - val_accuracy: 0.7564\n",
      "Epoch 16/20\n",
      "66/66 [==============================] - 11s 171ms/step - loss: 0.0165 - accuracy: 0.9946 - val_loss: 0.6359 - val_accuracy: 0.7917\n",
      "Epoch 17/20\n",
      "66/66 [==============================] - 11s 172ms/step - loss: 0.0169 - accuracy: 0.9946 - val_loss: 0.6822 - val_accuracy: 0.7829\n",
      "Epoch 18/20\n",
      "66/66 [==============================] - 11s 170ms/step - loss: 0.0129 - accuracy: 0.9960 - val_loss: 0.5904 - val_accuracy: 0.8073\n",
      "Epoch 19/20\n",
      "66/66 [==============================] - 11s 168ms/step - loss: 0.0165 - accuracy: 0.9946 - val_loss: 0.5460 - val_accuracy: 0.8236\n",
      "Epoch 20/20\n",
      "66/66 [==============================] - 11s 170ms/step - loss: 0.0121 - accuracy: 0.9964 - val_loss: 0.5619 - val_accuracy: 0.8222\n"
     ]
    },
    {
     "data": {
      "text/plain": [
       "<tensorflow.python.keras.callbacks.History at 0x7fde2459c0f0>"
      ]
     },
     "execution_count": 33,
     "metadata": {},
     "output_type": "execute_result"
    }
   ],
   "source": [
    "model.fit(train_dataset, epochs=epochs,steps_per_epoch=steps_per_epoch,verbose=1,validation_data=test_dataset,\n",
    "          callbacks=callbacks)"
   ]
  },
  {
   "cell_type": "code",
   "execution_count": 34,
   "metadata": {},
   "outputs": [],
   "source": [
    "from datetime import datetime\n",
    "now = datetime.now()\n",
    "log_dir = \"./logs/2_\" + now.strftime(\"%Y%m%d-%H%M%S\") + \"/\"\n",
    "\n",
    "callbacks = []\n",
    "\n",
    "epochs = 50\n",
    "max_lr = 3e-6\n",
    "\n",
    "# One Cycle https://www.kaggle.com/robotdreams/one-cycle-policy-with-keras\n",
    "base_lr = max_lr/10\n",
    "max_m = 0.98\n",
    "base_m = 0.85\n",
    "\n",
    "cyclical_momentum = False\n",
    "augment = True\n",
    "cycles = 2.35\n",
    "\n",
    "iterations = round(len(all_image_paths)/BATCH_SIZE*epochs)\n",
    "iterations = list(range(0,iterations+1))\n",
    "step_size = len(iterations)/(cycles)\n",
    "\n",
    "clr = OneCycleLR.CyclicLR(base_lr=base_lr,\n",
    "                max_lr=max_lr,\n",
    "                step_size=step_size,\n",
    "                max_m=max_m,\n",
    "                base_m=base_m,\n",
    "                cyclical_momentum=cyclical_momentum)\n",
    "\n",
    "callbacks.append(clr)\n",
    "\n",
    "# logging\n",
    "tbCallback = tf.keras.callbacks.TensorBoard(log_dir=log_dir,histogram_freq=1)\n",
    "tbCallback.set_model(model)\n",
    "callbacks.append(tbCallback)"
   ]
  },
  {
   "cell_type": "code",
   "execution_count": 35,
   "metadata": {},
   "outputs": [],
   "source": [
    "mobilenet.trainable = True\n",
    "model.compile(optimizer=tf.keras.optimizers.Adam(lr=max_lr, beta_1=0.9, beta_2=0.999, epsilon=1e-08, decay=1e-07, amsgrad=False), \n",
    "              loss='sparse_categorical_crossentropy',\n",
    "              metrics=['accuracy'])"
   ]
  },
  {
   "cell_type": "code",
   "execution_count": null,
   "metadata": {},
   "outputs": [
    {
     "name": "stdout",
     "output_type": "stream",
     "text": [
      "Epoch 1/50\n",
      "66/66 [==============================] - 67s 1s/step - loss: 0.0140 - accuracy: 0.9953 - val_loss: 0.5123 - val_accuracy: 0.8348\n",
      "Epoch 2/50\n",
      "66/66 [==============================] - 29s 442ms/step - loss: 0.0098 - accuracy: 0.9976 - val_loss: 0.4603 - val_accuracy: 0.8487\n",
      "Epoch 3/50\n",
      "66/66 [==============================] - 29s 438ms/step - loss: 0.0091 - accuracy: 0.9967 - val_loss: 0.4211 - val_accuracy: 0.8591\n",
      "Epoch 4/50\n",
      "66/66 [==============================] - 29s 440ms/step - loss: 0.0083 - accuracy: 0.9976 - val_loss: 0.4033 - val_accuracy: 0.8608\n",
      "Epoch 5/50\n",
      "66/66 [==============================] - 63s 956ms/step - loss: 0.0076 - accuracy: 0.9986 - val_loss: 0.3761 - val_accuracy: 0.8686\n",
      "Epoch 6/50\n",
      "65/66 [============================>.] - ETA: 0s - loss: 0.0078 - accuracy: 0.9978"
     ]
    }
   ],
   "source": [
    "model.fit(train_dataset, epochs=epochs,steps_per_epoch=steps_per_epoch,verbose=1,validation_data=test_dataset,\n",
    "          callbacks=callbacks)"
   ]
  },
  {
   "cell_type": "code",
   "execution_count": null,
   "metadata": {},
   "outputs": [],
   "source": [
    "model.save(\"models/huia_mob_224_final_lifecycle.h5\") # 1.0"
   ]
  },
  {
   "cell_type": "code",
   "execution_count": null,
   "metadata": {},
   "outputs": [],
   "source": [
    "model"
   ]
  },
  {
   "cell_type": "markdown",
   "metadata": {},
   "source": [
    "# Convert to TENSORFLOW JS"
   ]
  },
  {
   "cell_type": "code",
   "execution_count": null,
   "metadata": {},
   "outputs": [],
   "source": [
    "import tensorflowjs as tfjs\n",
    "import numpy as np\n",
    "\n",
    "tfjs.converters.save_keras_model(model, \"models_tfjs/tfjs_huia_mob_224_final_q16_2\",quantization_dtype=np.uint16)\n",
    "tfjs.converters.save_keras_model(model, \"models_tfjs/tfjs_huia_mob_224_final_q8_2\",quantization_dtype=np.uint8)"
   ]
  },
  {
   "cell_type": "code",
   "execution_count": null,
   "metadata": {},
   "outputs": [],
   "source": [
    "model.summary()"
   ]
  },
  {
   "cell_type": "code",
   "execution_count": null,
   "metadata": {},
   "outputs": [],
   "source": [
    "tf.keras.utils.plot_model(model,'model.png',show_layer_names=False) #,show_shapes=True)"
   ]
  },
  {
   "cell_type": "markdown",
   "metadata": {},
   "source": [
    "# Tensorboard Visualization"
   ]
  },
  {
   "cell_type": "code",
   "execution_count": null,
   "metadata": {},
   "outputs": [],
   "source": [
    "# https://www.tensorflow.org/tensorboard/\n",
    "import tensorboard as tb\n",
    "%load_ext tensorboard.notebook\n",
    "\n",
    "#notebook.list() # View open TensorBoard instances\n",
    "#notebook.display(port=6006, height=1000)\n",
    "#!kill 25264"
   ]
  },
  {
   "cell_type": "code",
   "execution_count": null,
   "metadata": {},
   "outputs": [],
   "source": [
    "%tensorboard --logdir ./logs"
   ]
  },
  {
   "cell_type": "code",
   "execution_count": null,
   "metadata": {},
   "outputs": [],
   "source": [
    "import time\n",
    "default_timeit_steps = 2*steps_per_epoch+1\n",
    "\n",
    "def timeit(ds, steps=default_timeit_steps):\n",
    "  overall_start = time.time()\n",
    "  # Fetch a single batch to prime the pipeline (fill the shuffle buffer),\n",
    "  # before starting the timer\n",
    "  it = iter(ds.take(steps+1))\n",
    "  next(it)\n",
    "\n",
    "  start = time.time()\n",
    "  for i,(images,labels) in enumerate(it):\n",
    "    if i%10 == 0:\n",
    "      print('.',end='')\n",
    "  print()\n",
    "  end = time.time()\n",
    "\n",
    "  duration = end-start\n",
    "  print(\"{} batches: {} s\".format(steps, duration))\n",
    "  print(\"{:0.5f} Images/s\".format(BATCH_SIZE*steps/duration))\n",
    "  print(\"Total time: {}s\".format(end-overall_start))"
   ]
  },
  {
   "cell_type": "code",
   "execution_count": null,
   "metadata": {},
   "outputs": [],
   "source": [
    "timeit(ds)"
   ]
  },
  {
   "cell_type": "markdown",
   "metadata": {},
   "source": [
    "# Predict"
   ]
  },
  {
   "cell_type": "code",
   "execution_count": null,
   "metadata": {},
   "outputs": [],
   "source": [
    "import numpy as np\n",
    "sample = np.reshape(img_final,[1,224,224,3])\n",
    "\n",
    "predict = int(model.predict_classes(sample))\n",
    "predict"
   ]
  },
  {
   "cell_type": "code",
   "execution_count": null,
   "metadata": {},
   "outputs": [],
   "source": [
    "[key for key,value in label_to_index.items() if value == predict]"
   ]
  },
  {
   "cell_type": "code",
   "execution_count": null,
   "metadata": {},
   "outputs": [],
   "source": []
  },
  {
   "cell_type": "code",
   "execution_count": null,
   "metadata": {},
   "outputs": [],
   "source": [
    "label_to_index"
   ]
  },
  {
   "cell_type": "markdown",
   "metadata": {},
   "source": [
    "# UTILS"
   ]
  },
  {
   "cell_type": "markdown",
   "metadata": {},
   "source": [
    "## Delete Images that are empty"
   ]
  },
  {
   "cell_type": "code",
   "execution_count": null,
   "metadata": {},
   "outputs": [],
   "source": [
    "# during image capture some images are empty, so we automatically delete them\n",
    "\n",
    "# open images and delete if they are empty\n",
    "def remove_empty_imgs(imgpath):\n",
    "    for item in imgpath.iterdir():\n",
    "        im = imread(str(item), format='png')\n",
    "        if np.count_nonzero(im)==0: \n",
    "            print(item,np.count_nonzero(im))\n",
    "            os.remove(str(item))\n",
    "            \n",
    "remove_empty_imgs(image_path)"
   ]
  },
  {
   "cell_type": "markdown",
   "metadata": {},
   "source": [
    "## Sync JSONs with Images"
   ]
  },
  {
   "cell_type": "code",
   "execution_count": null,
   "metadata": {},
   "outputs": [],
   "source": [
    "# since we might delete unwanted images for training, this will also delete the json files\n",
    "# sync json & images \n",
    "\n",
    "def sync_json_images(json_paths, img_path):\n",
    "    for json in json_paths:\n",
    "        #print(json.stem, end=\" \")\n",
    "        img = img_path/f\"{json.stem}.png\"\n",
    "        if not Path(img).exists():\n",
    "            print(f\"{img} doesn't exist, deleting {json}\")\n",
    "            Path(json).unlink()\n",
    "        \n",
    "sync_json_images(all_json_paths, image_path)"
   ]
  },
  {
   "cell_type": "markdown",
   "metadata": {},
   "source": [
    "# Static Data Augmentation\n",
    "Decided to use FASTAI to statically preprocess data augmentation, as tensorflow addons (0.3.1) still didn't support graph mode and is therefore not compatible with tf.data.Dataset mappings\n",
    "\n",
    "\n"
   ]
  },
  {
   "cell_type": "code",
   "execution_count": null,
   "metadata": {},
   "outputs": [],
   "source": [
    "from fastai.vision import *\n",
    "from fastai.metrics import error_rate\n",
    "from random import randint\n",
    "import pathlib\n",
    "\n",
    "root_path = pathlib.Path(\"./training_data/\")\n",
    "save_fast = Path('./training_data/augmented_imgs/')\n",
    "save_fast.mkdir(parents=True, exist_ok=True)\n",
    "\n",
    "tfms = get_transforms(do_flip=False, \n",
    "                            flip_vert=False, \n",
    "                            max_rotate=6, \n",
    "                            max_zoom=1.2, \n",
    "                            max_lighting=None, \n",
    "                            max_warp=0.2, \n",
    "                            p_affine=0.2, \n",
    "                            p_lighting=0)\n",
    "\n",
    "\n",
    "image_path = root_path /\"images\"\n",
    "all_image_paths = list(image_path.glob('*.png'))\n",
    "\n",
    "\n",
    "def generate_augmented(qty):\n",
    "    for f in all_image_paths:\n",
    "        image = open_image(f)\n",
    "        for i in range(0,qty):\n",
    "            image_fast = image.apply_tfms(tfms[0])\n",
    "            save_name = str(save_fast) + '/' + f.stem + '99' + str(i) + f.suffix\n",
    "            print(save_name)\n",
    "            image_fast.save(save_name)\n",
    "\n",
    "# generate 20 variations of each image\n",
    "generate_augmented(10)"
   ]
  },
  {
   "cell_type": "code",
   "execution_count": null,
   "metadata": {},
   "outputs": [],
   "source": []
  }
 ],
 "metadata": {
  "kernelspec": {
   "display_name": "Python [conda env:tensor20] *",
   "language": "python",
   "name": "conda-env-tensor20-py"
  },
  "language_info": {
   "codemirror_mode": {
    "name": "ipython",
    "version": 3
   },
   "file_extension": ".py",
   "mimetype": "text/x-python",
   "name": "python",
   "nbconvert_exporter": "python",
   "pygments_lexer": "ipython3",
   "version": "3.7.3"
  }
 },
 "nbformat": 4,
 "nbformat_minor": 2
}
