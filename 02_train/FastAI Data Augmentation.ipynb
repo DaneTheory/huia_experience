{
 "cells": [
  {
   "cell_type": "code",
   "execution_count": 8,
   "metadata": {},
   "outputs": [],
   "source": [
    "%reload_ext autoreload\n",
    "%autoreload 2\n",
    "%matplotlib inline\n"
   ]
  },
  {
   "cell_type": "code",
   "execution_count": 9,
   "metadata": {},
   "outputs": [],
   "source": [
    "from fastai.vision import *\n",
    "from fastai.metrics import error_rate"
   ]
  },
  {
   "cell_type": "code",
   "execution_count": 10,
   "metadata": {},
   "outputs": [],
   "source": [
    "bs = 64\n",
    "import pathlib\n",
    "from pathlib import Path\n",
    "#import tensorboard as tb"
   ]
  },
  {
   "cell_type": "code",
   "execution_count": 11,
   "metadata": {},
   "outputs": [
    {
     "data": {
      "text/plain": [
       "(PosixPath('training_data/images'), PosixPath('training_data/json'))"
      ]
     },
     "execution_count": 11,
     "metadata": {},
     "output_type": "execute_result"
    }
   ],
   "source": [
    "root_path = pathlib.Path(\"./training_data/\")\n",
    "image_path = root_path /\"images\"\n",
    "json_path = root_path /\"json\"\n",
    "image_path,json_path"
   ]
  },
  {
   "cell_type": "code",
   "execution_count": 12,
   "metadata": {},
   "outputs": [],
   "source": [
    "# lets set the random seed so we can reproduce our results\n",
    "import random\n",
    "random.seed(7)\n",
    "# get filenames from directories\n",
    "all_image_paths = list(image_path.glob('*.png'))\n",
    "\n",
    "#all_image_paths = [path for path in all_image_paths] # convert to strings\n",
    "#random.shuffle(all_image_paths) # randomize"
   ]
  },
  {
   "cell_type": "code",
   "execution_count": 13,
   "metadata": {},
   "outputs": [
    {
     "data": {
      "text/plain": [
       "[PosixPath('training_data/images/normal_811.png'),\n",
       " PosixPath('training_data/images/dramatic_297.png'),\n",
       " PosixPath('training_data/images/wings_425.png'),\n",
       " PosixPath('training_data/images/wings_417.png'),\n",
       " PosixPath('training_data/images/hadouken_1237.png'),\n",
       " PosixPath('training_data/images/wings_220.png'),\n",
       " PosixPath('training_data/images/hadouken_967.png'),\n",
       " PosixPath('training_data/images/wings_37.png'),\n",
       " PosixPath('training_data/images/moonwalk_74.png'),\n",
       " PosixPath('training_data/images/moonwalk_250.png'),\n",
       " PosixPath('training_data/images/dramatic_1256.png'),\n",
       " PosixPath('training_data/images/hadouken_262.png'),\n",
       " PosixPath('training_data/images/dramatic_555.png'),\n",
       " PosixPath('training_data/images/normal_208.png'),\n",
       " PosixPath('training_data/images/underarm_460.png'),\n",
       " PosixPath('training_data/images/normal_815.png'),\n",
       " PosixPath('training_data/images/wings_423.png'),\n",
       " PosixPath('training_data/images/backpack_526.png'),\n",
       " PosixPath('training_data/images/fly_437.png'),\n",
       " PosixPath('training_data/images/dramatic_1251.png')]"
      ]
     },
     "execution_count": 13,
     "metadata": {},
     "output_type": "execute_result"
    }
   ],
   "source": [
    "all_image_paths[:20]"
   ]
  },
  {
   "cell_type": "code",
   "execution_count": 14,
   "metadata": {},
   "outputs": [
    {
     "data": {
      "text/plain": [
       "['normal',\n",
       " 'dramatic',\n",
       " 'wings',\n",
       " 'wings',\n",
       " 'hadouken',\n",
       " 'wings',\n",
       " 'hadouken',\n",
       " 'wings',\n",
       " 'moonwalk',\n",
       " 'moonwalk',\n",
       " 'dramatic',\n",
       " 'hadouken',\n",
       " 'dramatic',\n",
       " 'normal',\n",
       " 'underarm',\n",
       " 'normal',\n",
       " 'wings',\n",
       " 'backpack',\n",
       " 'fly',\n",
       " 'dramatic',\n",
       " 'dramatic',\n",
       " 'moonwalk',\n",
       " 'dramatic',\n",
       " 'moonwalk',\n",
       " 'backpack',\n",
       " 'hadouken',\n",
       " 'underarm',\n",
       " 'wings',\n",
       " 'underarm',\n",
       " 'hadouken',\n",
       " 'fly',\n",
       " 'fly',\n",
       " 'dramatic',\n",
       " 'underarm',\n",
       " 'normal',\n",
       " 'underarm',\n",
       " 'dramatic',\n",
       " 'normal',\n",
       " 'dramatic',\n",
       " 'wings',\n",
       " 'normal',\n",
       " 'dramatic',\n",
       " 'wings',\n",
       " 'normal',\n",
       " 'wings',\n",
       " 'backpack',\n",
       " 'fly',\n",
       " 'underarm',\n",
       " 'dramatic',\n",
       " 'fly',\n",
       " 'backpack',\n",
       " 'fly',\n",
       " 'normal',\n",
       " 'normal',\n",
       " 'normal',\n",
       " 'underarm',\n",
       " 'dramatic',\n",
       " 'hadouken',\n",
       " 'backpack',\n",
       " 'moonwalk',\n",
       " 'backpack',\n",
       " 'moonwalk',\n",
       " 'moonwalk',\n",
       " 'moonwalk',\n",
       " 'fly',\n",
       " 'moonwalk',\n",
       " 'dramatic',\n",
       " 'backpack',\n",
       " 'dramatic',\n",
       " 'underarm',\n",
       " 'moonwalk',\n",
       " 'hadouken',\n",
       " 'normal',\n",
       " 'moonwalk',\n",
       " 'fly',\n",
       " 'backpack',\n",
       " 'moonwalk',\n",
       " 'dramatic',\n",
       " 'fly',\n",
       " 'hadouken',\n",
       " 'underarm',\n",
       " 'hadouken',\n",
       " 'normal',\n",
       " 'wings',\n",
       " 'normal',\n",
       " 'dramatic',\n",
       " 'normal',\n",
       " 'underarm',\n",
       " 'fly',\n",
       " 'normal',\n",
       " 'fly',\n",
       " 'moonwalk',\n",
       " 'fly',\n",
       " 'underarm',\n",
       " 'moonwalk',\n",
       " 'hadouken',\n",
       " 'hadouken',\n",
       " 'moonwalk',\n",
       " 'dramatic',\n",
       " 'fly',\n",
       " 'fly',\n",
       " 'dramatic',\n",
       " 'dramatic',\n",
       " 'wings',\n",
       " 'normal',\n",
       " 'normal',\n",
       " 'dramatic',\n",
       " 'wings',\n",
       " 'hadouken',\n",
       " 'dramatic',\n",
       " 'moonwalk',\n",
       " 'moonwalk',\n",
       " 'wings',\n",
       " 'moonwalk',\n",
       " 'underarm',\n",
       " 'normal',\n",
       " 'moonwalk',\n",
       " 'normal',\n",
       " 'hadouken',\n",
       " 'normal',\n",
       " 'normal',\n",
       " 'moonwalk',\n",
       " 'wings',\n",
       " 'dramatic',\n",
       " 'backpack',\n",
       " 'underarm',\n",
       " 'wings',\n",
       " 'fly',\n",
       " 'hadouken',\n",
       " 'dramatic',\n",
       " 'dramatic',\n",
       " 'fly',\n",
       " 'normal',\n",
       " 'fly',\n",
       " 'hadouken',\n",
       " 'moonwalk',\n",
       " 'normal',\n",
       " 'fly',\n",
       " 'backpack',\n",
       " 'normal',\n",
       " 'normal',\n",
       " 'normal',\n",
       " 'hadouken',\n",
       " 'fly',\n",
       " 'dramatic',\n",
       " 'wings',\n",
       " 'dramatic',\n",
       " 'underarm',\n",
       " 'dramatic',\n",
       " 'backpack',\n",
       " 'normal',\n",
       " 'fly',\n",
       " 'dramatic',\n",
       " 'underarm',\n",
       " 'moonwalk',\n",
       " 'underarm',\n",
       " 'hadouken',\n",
       " 'backpack',\n",
       " 'fly',\n",
       " 'backpack',\n",
       " 'fly',\n",
       " 'wings',\n",
       " 'fly',\n",
       " 'normal',\n",
       " 'hadouken',\n",
       " 'fly',\n",
       " 'normal',\n",
       " 'underarm',\n",
       " 'underarm',\n",
       " 'dramatic',\n",
       " 'moonwalk',\n",
       " 'normal',\n",
       " 'underarm',\n",
       " 'moonwalk',\n",
       " 'wings',\n",
       " 'wings',\n",
       " 'dramatic',\n",
       " 'fly',\n",
       " 'moonwalk',\n",
       " 'fly',\n",
       " 'backpack',\n",
       " 'wings',\n",
       " 'hadouken',\n",
       " 'fly',\n",
       " 'underarm',\n",
       " 'fly',\n",
       " 'moonwalk',\n",
       " 'wings',\n",
       " 'wings',\n",
       " 'dramatic',\n",
       " 'backpack',\n",
       " 'underarm',\n",
       " 'hadouken',\n",
       " 'fly',\n",
       " 'hadouken',\n",
       " 'underarm',\n",
       " 'dramatic',\n",
       " 'normal',\n",
       " 'normal',\n",
       " 'dramatic',\n",
       " 'fly',\n",
       " 'normal',\n",
       " 'fly',\n",
       " 'normal',\n",
       " 'normal',\n",
       " 'fly',\n",
       " 'backpack',\n",
       " 'dramatic',\n",
       " 'fly',\n",
       " 'normal',\n",
       " 'fly',\n",
       " 'backpack',\n",
       " 'fly',\n",
       " 'normal',\n",
       " 'fly',\n",
       " 'fly',\n",
       " 'hadouken',\n",
       " 'backpack',\n",
       " 'underarm',\n",
       " 'wings',\n",
       " 'normal',\n",
       " 'moonwalk',\n",
       " 'hadouken',\n",
       " 'hadouken',\n",
       " 'dramatic',\n",
       " 'normal',\n",
       " 'dramatic',\n",
       " 'underarm',\n",
       " 'fly',\n",
       " 'fly',\n",
       " 'fly',\n",
       " 'hadouken',\n",
       " 'normal',\n",
       " 'normal',\n",
       " 'dramatic',\n",
       " 'normal',\n",
       " 'hadouken',\n",
       " 'underarm',\n",
       " 'normal',\n",
       " 'hadouken',\n",
       " 'dramatic',\n",
       " 'hadouken',\n",
       " 'fly',\n",
       " 'backpack',\n",
       " 'wings',\n",
       " 'dramatic',\n",
       " 'fly',\n",
       " 'hadouken',\n",
       " 'fly',\n",
       " 'fly',\n",
       " 'wings',\n",
       " 'dramatic',\n",
       " 'underarm',\n",
       " 'wings',\n",
       " 'normal',\n",
       " 'underarm',\n",
       " 'dramatic',\n",
       " 'hadouken',\n",
       " 'normal',\n",
       " 'underarm',\n",
       " 'moonwalk',\n",
       " 'dramatic',\n",
       " 'normal',\n",
       " 'backpack',\n",
       " 'fly',\n",
       " 'dramatic',\n",
       " 'normal',\n",
       " 'underarm',\n",
       " 'underarm',\n",
       " 'underarm',\n",
       " 'dramatic',\n",
       " 'moonwalk',\n",
       " 'normal',\n",
       " 'normal',\n",
       " 'hadouken',\n",
       " 'fly',\n",
       " 'dramatic',\n",
       " 'fly',\n",
       " 'wings',\n",
       " 'normal',\n",
       " 'normal',\n",
       " 'moonwalk',\n",
       " 'normal',\n",
       " 'fly',\n",
       " 'moonwalk',\n",
       " 'dramatic',\n",
       " 'wings',\n",
       " 'normal',\n",
       " 'normal',\n",
       " 'underarm',\n",
       " 'wings',\n",
       " 'backpack',\n",
       " 'normal',\n",
       " 'wings',\n",
       " 'moonwalk',\n",
       " 'hadouken',\n",
       " 'hadouken',\n",
       " 'hadouken',\n",
       " 'moonwalk',\n",
       " 'moonwalk',\n",
       " 'backpack',\n",
       " 'fly',\n",
       " 'dramatic',\n",
       " 'dramatic',\n",
       " 'normal',\n",
       " 'normal',\n",
       " 'normal',\n",
       " 'wings',\n",
       " 'hadouken',\n",
       " 'dramatic',\n",
       " 'dramatic',\n",
       " 'dramatic',\n",
       " 'backpack',\n",
       " 'fly',\n",
       " 'wings',\n",
       " 'hadouken',\n",
       " 'underarm',\n",
       " 'wings',\n",
       " 'moonwalk',\n",
       " 'fly',\n",
       " 'moonwalk',\n",
       " 'dramatic',\n",
       " 'hadouken',\n",
       " 'hadouken',\n",
       " 'underarm',\n",
       " 'hadouken',\n",
       " 'moonwalk',\n",
       " 'wings',\n",
       " 'wings',\n",
       " 'normal',\n",
       " 'fly',\n",
       " 'hadouken',\n",
       " 'fly',\n",
       " 'moonwalk',\n",
       " 'wings',\n",
       " 'fly',\n",
       " 'backpack',\n",
       " 'hadouken',\n",
       " 'hadouken',\n",
       " 'hadouken',\n",
       " 'fly',\n",
       " 'normal',\n",
       " 'fly',\n",
       " 'wings',\n",
       " 'fly',\n",
       " 'fly',\n",
       " 'dramatic',\n",
       " 'dramatic',\n",
       " 'moonwalk',\n",
       " 'fly',\n",
       " 'fly',\n",
       " 'hadouken',\n",
       " 'dramatic',\n",
       " 'underarm',\n",
       " 'hadouken',\n",
       " 'hadouken',\n",
       " 'fly',\n",
       " 'fly',\n",
       " 'normal',\n",
       " 'moonwalk',\n",
       " 'wings',\n",
       " 'underarm',\n",
       " 'dramatic',\n",
       " 'underarm',\n",
       " 'dramatic',\n",
       " 'moonwalk',\n",
       " 'normal',\n",
       " 'moonwalk',\n",
       " 'hadouken',\n",
       " 'hadouken',\n",
       " 'normal',\n",
       " 'normal',\n",
       " 'wings',\n",
       " 'backpack',\n",
       " 'moonwalk',\n",
       " 'hadouken',\n",
       " 'hadouken',\n",
       " 'hadouken',\n",
       " 'underarm',\n",
       " 'fly',\n",
       " 'fly']"
      ]
     },
     "execution_count": 14,
     "metadata": {},
     "output_type": "execute_result"
    }
   ],
   "source": [
    "import re\n",
    "# extract categories for classification\n",
    "pat = r'/([^/]+)_\\d+.png$'\n",
    "all_image_labels = [str(re.search(pat,str(image)).group(1)).lower() for image in all_image_paths]\n",
    "all_image_labels"
   ]
  },
  {
   "cell_type": "code",
   "execution_count": 15,
   "metadata": {},
   "outputs": [
    {
     "name": "stderr",
     "output_type": "stream",
     "text": [
      "/home/ale/anaconda3/envs/tensor20/lib/python3.6/site-packages/fastai/vision/transform.py:243: UserWarning: torch.gesv is deprecated in favour of torch.solve and will be removed in the next release. Please use torch.solve instead.\n",
      "  return torch.gesv(B,A)[0][:,0]\n",
      "/home/ale/anaconda3/envs/tensor20/lib/python3.6/site-packages/fastai/vision/transform.py:243: UserWarning: torch.gesv is deprecated in favour of torch.solve and will be removed in the next release. Please use torch.solve instead.\n",
      "  return torch.gesv(B,A)[0][:,0]\n",
      "/home/ale/anaconda3/envs/tensor20/lib/python3.6/site-packages/fastai/vision/transform.py:243: UserWarning: torch.gesv is deprecated in favour of torch.solve and will be removed in the next release. Please use torch.solve instead.\n",
      "  return torch.gesv(B,A)[0][:,0]\n",
      "/home/ale/anaconda3/envs/tensor20/lib/python3.6/site-packages/fastai/vision/transform.py:243: UserWarning: torch.gesv is deprecated in favour of torch.solve and will be removed in the next release. Please use torch.solve instead.\n",
      "  return torch.gesv(B,A)[0][:,0]\n",
      "/home/ale/anaconda3/envs/tensor20/lib/python3.6/site-packages/fastai/vision/transform.py:243: UserWarning: torch.gesv is deprecated in favour of torch.solve and will be removed in the next release. Please use torch.solve instead.\n",
      "  return torch.gesv(B,A)[0][:,0]\n",
      "/home/ale/anaconda3/envs/tensor20/lib/python3.6/site-packages/fastai/vision/transform.py:243: UserWarning: torch.gesv is deprecated in favour of torch.solve and will be removed in the next release. Please use torch.solve instead.\n",
      "  return torch.gesv(B,A)[0][:,0]\n",
      "/home/ale/anaconda3/envs/tensor20/lib/python3.6/site-packages/fastai/vision/transform.py:243: UserWarning: torch.gesv is deprecated in favour of torch.solve and will be removed in the next release. Please use torch.solve instead.\n",
      "  return torch.gesv(B,A)[0][:,0]\n",
      "/home/ale/anaconda3/envs/tensor20/lib/python3.6/site-packages/fastai/vision/transform.py:243: UserWarning: torch.gesv is deprecated in favour of torch.solve and will be removed in the next release. Please use torch.solve instead.\n",
      "  return torch.gesv(B,A)[0][:,0]\n",
      "/home/ale/anaconda3/envs/tensor20/lib/python3.6/site-packages/fastai/vision/transform.py:243: UserWarning: torch.gesv is deprecated in favour of torch.solve and will be removed in the next release. Please use torch.solve instead.\n",
      "  return torch.gesv(B,A)[0][:,0]\n",
      "/home/ale/anaconda3/envs/tensor20/lib/python3.6/site-packages/fastai/vision/transform.py:243: UserWarning: torch.gesv is deprecated in favour of torch.solve and will be removed in the next release. Please use torch.solve instead.\n",
      "  return torch.gesv(B,A)[0][:,0]\n",
      "/home/ale/anaconda3/envs/tensor20/lib/python3.6/site-packages/fastai/vision/transform.py:243: UserWarning: torch.gesv is deprecated in favour of torch.solve and will be removed in the next release. Please use torch.solve instead.\n",
      "  return torch.gesv(B,A)[0][:,0]\n",
      "/home/ale/anaconda3/envs/tensor20/lib/python3.6/site-packages/fastai/vision/transform.py:243: UserWarning: torch.gesv is deprecated in favour of torch.solve and will be removed in the next release. Please use torch.solve instead.\n",
      "  return torch.gesv(B,A)[0][:,0]\n",
      "/home/ale/anaconda3/envs/tensor20/lib/python3.6/site-packages/fastai/vision/transform.py:243: UserWarning: torch.gesv is deprecated in favour of torch.solve and will be removed in the next release. Please use torch.solve instead.\n",
      "  return torch.gesv(B,A)[0][:,0]\n",
      "/home/ale/anaconda3/envs/tensor20/lib/python3.6/site-packages/fastai/vision/transform.py:243: UserWarning: torch.gesv is deprecated in favour of torch.solve and will be removed in the next release. Please use torch.solve instead.\n",
      "  return torch.gesv(B,A)[0][:,0]\n",
      "/home/ale/anaconda3/envs/tensor20/lib/python3.6/site-packages/fastai/vision/transform.py:243: UserWarning: torch.gesv is deprecated in favour of torch.solve and will be removed in the next release. Please use torch.solve instead.\n",
      "  return torch.gesv(B,A)[0][:,0]\n",
      "/home/ale/anaconda3/envs/tensor20/lib/python3.6/site-packages/fastai/vision/transform.py:243: UserWarning: torch.gesv is deprecated in favour of torch.solve and will be removed in the next release. Please use torch.solve instead.\n",
      "  return torch.gesv(B,A)[0][:,0]\n",
      "/home/ale/anaconda3/envs/tensor20/lib/python3.6/site-packages/fastai/vision/transform.py:243: UserWarning: torch.gesv is deprecated in favour of torch.solve and will be removed in the next release. Please use torch.solve instead.\n",
      "  return torch.gesv(B,A)[0][:,0]\n",
      "/home/ale/anaconda3/envs/tensor20/lib/python3.6/site-packages/fastai/vision/transform.py:243: UserWarning: torch.gesv is deprecated in favour of torch.solve and will be removed in the next release. Please use torch.solve instead.\n",
      "  return torch.gesv(B,A)[0][:,0]\n",
      "/home/ale/anaconda3/envs/tensor20/lib/python3.6/site-packages/fastai/vision/transform.py:243: UserWarning: torch.gesv is deprecated in favour of torch.solve and will be removed in the next release. Please use torch.solve instead.\n",
      "  return torch.gesv(B,A)[0][:,0]\n",
      "/home/ale/anaconda3/envs/tensor20/lib/python3.6/site-packages/fastai/vision/transform.py:243: UserWarning: torch.gesv is deprecated in favour of torch.solve and will be removed in the next release. Please use torch.solve instead.\n",
      "  return torch.gesv(B,A)[0][:,0]\n",
      "/home/ale/anaconda3/envs/tensor20/lib/python3.6/site-packages/fastai/vision/transform.py:243: UserWarning: torch.gesv is deprecated in favour of torch.solve and will be removed in the next release. Please use torch.solve instead.\n",
      "  return torch.gesv(B,A)[0][:,0]\n",
      "/home/ale/anaconda3/envs/tensor20/lib/python3.6/site-packages/fastai/vision/transform.py:243: UserWarning: torch.gesv is deprecated in favour of torch.solve and will be removed in the next release. Please use torch.solve instead.\n",
      "  return torch.gesv(B,A)[0][:,0]\n"
     ]
    }
   ],
   "source": [
    "data = ImageDataBunch.from_name_re(image_path, all_image_paths, pat, \n",
    "                                   ds_tfms=get_transforms\n",
    "                                   (do_flip=False, \n",
    "                                    flip_vert=False, \n",
    "                                    max_rotate=4, \n",
    "                                    max_zoom=1.1, \n",
    "                                    max_lighting=None, \n",
    "                                    max_warp=0.2, \n",
    "                                    p_affine=0.3, \n",
    "                                    p_lighting=0) ,\n",
    "                                    size=224, bs=bs\n",
    "                                  ).normalize(imagenet_stats)"
   ]
  },
  {
   "cell_type": "code",
   "execution_count": 16,
   "metadata": {},
   "outputs": [
    {
     "name": "stderr",
     "output_type": "stream",
     "text": [
      "/home/ale/anaconda3/envs/tensor20/lib/python3.6/site-packages/fastai/vision/transform.py:243: UserWarning: torch.gesv is deprecated in favour of torch.solve and will be removed in the next release. Please use torch.solve instead.\n",
      "  return torch.gesv(B,A)[0][:,0]\n",
      "/home/ale/anaconda3/envs/tensor20/lib/python3.6/site-packages/fastai/vision/transform.py:243: UserWarning: torch.gesv is deprecated in favour of torch.solve and will be removed in the next release. Please use torch.solve instead.\n",
      "  return torch.gesv(B,A)[0][:,0]\n",
      "/home/ale/anaconda3/envs/tensor20/lib/python3.6/site-packages/fastai/vision/transform.py:243: UserWarning: torch.gesv is deprecated in favour of torch.solve and will be removed in the next release. Please use torch.solve instead.\n",
      "  return torch.gesv(B,A)[0][:,0]\n",
      "/home/ale/anaconda3/envs/tensor20/lib/python3.6/site-packages/fastai/vision/transform.py:243: UserWarning: torch.gesv is deprecated in favour of torch.solve and will be removed in the next release. Please use torch.solve instead.\n",
      "  return torch.gesv(B,A)[0][:,0]\n",
      "/home/ale/anaconda3/envs/tensor20/lib/python3.6/site-packages/fastai/vision/transform.py:243: UserWarning: torch.gesv is deprecated in favour of torch.solve and will be removed in the next release. Please use torch.solve instead.\n",
      "  return torch.gesv(B,A)[0][:,0]\n",
      "/home/ale/anaconda3/envs/tensor20/lib/python3.6/site-packages/fastai/vision/transform.py:243: UserWarning: torch.gesv is deprecated in favour of torch.solve and will be removed in the next release. Please use torch.solve instead.\n",
      "  return torch.gesv(B,A)[0][:,0]\n",
      "/home/ale/anaconda3/envs/tensor20/lib/python3.6/site-packages/fastai/vision/transform.py:243: UserWarning: torch.gesv is deprecated in favour of torch.solve and will be removed in the next release. Please use torch.solve instead.\n",
      "  return torch.gesv(B,A)[0][:,0]\n",
      "/home/ale/anaconda3/envs/tensor20/lib/python3.6/site-packages/fastai/vision/transform.py:243: UserWarning: torch.gesv is deprecated in favour of torch.solve and will be removed in the next release. Please use torch.solve instead.\n",
      "  return torch.gesv(B,A)[0][:,0]\n",
      "/home/ale/anaconda3/envs/tensor20/lib/python3.6/site-packages/fastai/vision/transform.py:243: UserWarning: torch.gesv is deprecated in favour of torch.solve and will be removed in the next release. Please use torch.solve instead.\n",
      "  return torch.gesv(B,A)[0][:,0]\n",
      "/home/ale/anaconda3/envs/tensor20/lib/python3.6/site-packages/fastai/vision/transform.py:243: UserWarning: torch.gesv is deprecated in favour of torch.solve and will be removed in the next release. Please use torch.solve instead.\n",
      "  return torch.gesv(B,A)[0][:,0]\n",
      "/home/ale/anaconda3/envs/tensor20/lib/python3.6/site-packages/fastai/vision/transform.py:243: UserWarning: torch.gesv is deprecated in favour of torch.solve and will be removed in the next release. Please use torch.solve instead.\n",
      "  return torch.gesv(B,A)[0][:,0]\n",
      "/home/ale/anaconda3/envs/tensor20/lib/python3.6/site-packages/fastai/vision/transform.py:243: UserWarning: torch.gesv is deprecated in favour of torch.solve and will be removed in the next release. Please use torch.solve instead.\n",
      "  return torch.gesv(B,A)[0][:,0]\n",
      "/home/ale/anaconda3/envs/tensor20/lib/python3.6/site-packages/fastai/vision/transform.py:243: UserWarning: torch.gesv is deprecated in favour of torch.solve and will be removed in the next release. Please use torch.solve instead.\n",
      "  return torch.gesv(B,A)[0][:,0]\n",
      "/home/ale/anaconda3/envs/tensor20/lib/python3.6/site-packages/fastai/vision/transform.py:243: UserWarning: torch.gesv is deprecated in favour of torch.solve and will be removed in the next release. Please use torch.solve instead.\n",
      "  return torch.gesv(B,A)[0][:,0]\n",
      "/home/ale/anaconda3/envs/tensor20/lib/python3.6/site-packages/fastai/vision/transform.py:243: UserWarning: torch.gesv is deprecated in favour of torch.solve and will be removed in the next release. Please use torch.solve instead.\n",
      "  return torch.gesv(B,A)[0][:,0]\n",
      "/home/ale/anaconda3/envs/tensor20/lib/python3.6/site-packages/fastai/vision/transform.py:243: UserWarning: torch.gesv is deprecated in favour of torch.solve and will be removed in the next release. Please use torch.solve instead.\n",
      "  return torch.gesv(B,A)[0][:,0]\n",
      "/home/ale/anaconda3/envs/tensor20/lib/python3.6/site-packages/fastai/vision/transform.py:243: UserWarning: torch.gesv is deprecated in favour of torch.solve and will be removed in the next release. Please use torch.solve instead.\n",
      "  return torch.gesv(B,A)[0][:,0]\n",
      "/home/ale/anaconda3/envs/tensor20/lib/python3.6/site-packages/fastai/vision/transform.py:243: UserWarning: torch.gesv is deprecated in favour of torch.solve and will be removed in the next release. Please use torch.solve instead.\n",
      "  return torch.gesv(B,A)[0][:,0]\n",
      "/home/ale/anaconda3/envs/tensor20/lib/python3.6/site-packages/fastai/vision/transform.py:243: UserWarning: torch.gesv is deprecated in favour of torch.solve and will be removed in the next release. Please use torch.solve instead.\n",
      "  return torch.gesv(B,A)[0][:,0]\n",
      "/home/ale/anaconda3/envs/tensor20/lib/python3.6/site-packages/fastai/vision/transform.py:243: UserWarning: torch.gesv is deprecated in favour of torch.solve and will be removed in the next release. Please use torch.solve instead.\n",
      "  return torch.gesv(B,A)[0][:,0]\n",
      "/home/ale/anaconda3/envs/tensor20/lib/python3.6/site-packages/fastai/vision/transform.py:243: UserWarning: torch.gesv is deprecated in favour of torch.solve and will be removed in the next release. Please use torch.solve instead.\n",
      "  return torch.gesv(B,A)[0][:,0]\n",
      "/home/ale/anaconda3/envs/tensor20/lib/python3.6/site-packages/fastai/vision/transform.py:243: UserWarning: torch.gesv is deprecated in favour of torch.solve and will be removed in the next release. Please use torch.solve instead.\n",
      "  return torch.gesv(B,A)[0][:,0]\n",
      "/home/ale/anaconda3/envs/tensor20/lib/python3.6/site-packages/fastai/vision/transform.py:243: UserWarning: torch.gesv is deprecated in favour of torch.solve and will be removed in the next release. Please use torch.solve instead.\n",
      "  return torch.gesv(B,A)[0][:,0]\n",
      "/home/ale/anaconda3/envs/tensor20/lib/python3.6/site-packages/fastai/vision/transform.py:243: UserWarning: torch.gesv is deprecated in favour of torch.solve and will be removed in the next release. Please use torch.solve instead.\n",
      "  return torch.gesv(B,A)[0][:,0]\n",
      "/home/ale/anaconda3/envs/tensor20/lib/python3.6/site-packages/fastai/vision/transform.py:243: UserWarning: torch.gesv is deprecated in favour of torch.solve and will be removed in the next release. Please use torch.solve instead.\n",
      "  return torch.gesv(B,A)[0][:,0]\n",
      "/home/ale/anaconda3/envs/tensor20/lib/python3.6/site-packages/fastai/vision/transform.py:243: UserWarning: torch.gesv is deprecated in favour of torch.solve and will be removed in the next release. Please use torch.solve instead.\n",
      "  return torch.gesv(B,A)[0][:,0]\n",
      "/home/ale/anaconda3/envs/tensor20/lib/python3.6/site-packages/fastai/vision/transform.py:243: UserWarning: torch.gesv is deprecated in favour of torch.solve and will be removed in the next release. Please use torch.solve instead.\n",
      "  return torch.gesv(B,A)[0][:,0]\n",
      "/home/ale/anaconda3/envs/tensor20/lib/python3.6/site-packages/fastai/vision/transform.py:243: UserWarning: torch.gesv is deprecated in favour of torch.solve and will be removed in the next release. Please use torch.solve instead.\n",
      "  return torch.gesv(B,A)[0][:,0]\n",
      "/home/ale/anaconda3/envs/tensor20/lib/python3.6/site-packages/fastai/vision/transform.py:243: UserWarning: torch.gesv is deprecated in favour of torch.solve and will be removed in the next release. Please use torch.solve instead.\n",
      "  return torch.gesv(B,A)[0][:,0]\n",
      "/home/ale/anaconda3/envs/tensor20/lib/python3.6/site-packages/fastai/vision/transform.py:243: UserWarning: torch.gesv is deprecated in favour of torch.solve and will be removed in the next release. Please use torch.solve instead.\n",
      "  return torch.gesv(B,A)[0][:,0]\n",
      "/home/ale/anaconda3/envs/tensor20/lib/python3.6/site-packages/fastai/vision/transform.py:243: UserWarning: torch.gesv is deprecated in favour of torch.solve and will be removed in the next release. Please use torch.solve instead.\n",
      "  return torch.gesv(B,A)[0][:,0]\n",
      "/home/ale/anaconda3/envs/tensor20/lib/python3.6/site-packages/fastai/vision/transform.py:243: UserWarning: torch.gesv is deprecated in favour of torch.solve and will be removed in the next release. Please use torch.solve instead.\n",
      "  return torch.gesv(B,A)[0][:,0]\n"
     ]
    },
    {
     "name": "stderr",
     "output_type": "stream",
     "text": [
      "/home/ale/anaconda3/envs/tensor20/lib/python3.6/site-packages/fastai/vision/transform.py:243: UserWarning: torch.gesv is deprecated in favour of torch.solve and will be removed in the next release. Please use torch.solve instead.\n",
      "  return torch.gesv(B,A)[0][:,0]\n",
      "/home/ale/anaconda3/envs/tensor20/lib/python3.6/site-packages/fastai/vision/transform.py:243: UserWarning: torch.gesv is deprecated in favour of torch.solve and will be removed in the next release. Please use torch.solve instead.\n",
      "  return torch.gesv(B,A)[0][:,0]\n",
      "/home/ale/anaconda3/envs/tensor20/lib/python3.6/site-packages/fastai/vision/transform.py:243: UserWarning: torch.gesv is deprecated in favour of torch.solve and will be removed in the next release. Please use torch.solve instead.\n",
      "  return torch.gesv(B,A)[0][:,0]\n",
      "/home/ale/anaconda3/envs/tensor20/lib/python3.6/site-packages/fastai/vision/transform.py:243: UserWarning: torch.gesv is deprecated in favour of torch.solve and will be removed in the next release. Please use torch.solve instead.\n",
      "  return torch.gesv(B,A)[0][:,0]\n",
      "/home/ale/anaconda3/envs/tensor20/lib/python3.6/site-packages/fastai/vision/transform.py:243: UserWarning: torch.gesv is deprecated in favour of torch.solve and will be removed in the next release. Please use torch.solve instead.\n",
      "  return torch.gesv(B,A)[0][:,0]\n",
      "/home/ale/anaconda3/envs/tensor20/lib/python3.6/site-packages/fastai/vision/transform.py:243: UserWarning: torch.gesv is deprecated in favour of torch.solve and will be removed in the next release. Please use torch.solve instead.\n",
      "  return torch.gesv(B,A)[0][:,0]\n",
      "/home/ale/anaconda3/envs/tensor20/lib/python3.6/site-packages/fastai/vision/transform.py:243: UserWarning: torch.gesv is deprecated in favour of torch.solve and will be removed in the next release. Please use torch.solve instead.\n",
      "  return torch.gesv(B,A)[0][:,0]\n",
      "/home/ale/anaconda3/envs/tensor20/lib/python3.6/site-packages/fastai/vision/transform.py:243: UserWarning: torch.gesv is deprecated in favour of torch.solve and will be removed in the next release. Please use torch.solve instead.\n",
      "  return torch.gesv(B,A)[0][:,0]\n",
      "/home/ale/anaconda3/envs/tensor20/lib/python3.6/site-packages/fastai/vision/transform.py:243: UserWarning: torch.gesv is deprecated in favour of torch.solve and will be removed in the next release. Please use torch.solve instead.\n",
      "  return torch.gesv(B,A)[0][:,0]\n",
      "/home/ale/anaconda3/envs/tensor20/lib/python3.6/site-packages/fastai/vision/transform.py:243: UserWarning: torch.gesv is deprecated in favour of torch.solve and will be removed in the next release. Please use torch.solve instead.\n",
      "  return torch.gesv(B,A)[0][:,0]\n",
      "/home/ale/anaconda3/envs/tensor20/lib/python3.6/site-packages/fastai/vision/transform.py:243: UserWarning: torch.gesv is deprecated in favour of torch.solve and will be removed in the next release. Please use torch.solve instead.\n",
      "  return torch.gesv(B,A)[0][:,0]\n",
      "/home/ale/anaconda3/envs/tensor20/lib/python3.6/site-packages/fastai/vision/transform.py:243: UserWarning: torch.gesv is deprecated in favour of torch.solve and will be removed in the next release. Please use torch.solve instead.\n",
      "  return torch.gesv(B,A)[0][:,0]\n",
      "/home/ale/anaconda3/envs/tensor20/lib/python3.6/site-packages/fastai/vision/transform.py:243: UserWarning: torch.gesv is deprecated in favour of torch.solve and will be removed in the next release. Please use torch.solve instead.\n",
      "  return torch.gesv(B,A)[0][:,0]\n",
      "/home/ale/anaconda3/envs/tensor20/lib/python3.6/site-packages/fastai/vision/transform.py:243: UserWarning: torch.gesv is deprecated in favour of torch.solve and will be removed in the next release. Please use torch.solve instead.\n",
      "  return torch.gesv(B,A)[0][:,0]\n",
      "/home/ale/anaconda3/envs/tensor20/lib/python3.6/site-packages/fastai/vision/transform.py:243: UserWarning: torch.gesv is deprecated in favour of torch.solve and will be removed in the next release. Please use torch.solve instead.\n",
      "  return torch.gesv(B,A)[0][:,0]\n",
      "/home/ale/anaconda3/envs/tensor20/lib/python3.6/site-packages/fastai/vision/transform.py:243: UserWarning: torch.gesv is deprecated in favour of torch.solve and will be removed in the next release. Please use torch.solve instead.\n",
      "  return torch.gesv(B,A)[0][:,0]\n",
      "/home/ale/anaconda3/envs/tensor20/lib/python3.6/site-packages/fastai/vision/transform.py:243: UserWarning: torch.gesv is deprecated in favour of torch.solve and will be removed in the next release. Please use torch.solve instead.\n",
      "  return torch.gesv(B,A)[0][:,0]\n",
      "/home/ale/anaconda3/envs/tensor20/lib/python3.6/site-packages/fastai/vision/transform.py:243: UserWarning: torch.gesv is deprecated in favour of torch.solve and will be removed in the next release. Please use torch.solve instead.\n",
      "  return torch.gesv(B,A)[0][:,0]\n",
      "/home/ale/anaconda3/envs/tensor20/lib/python3.6/site-packages/fastai/vision/transform.py:243: UserWarning: torch.gesv is deprecated in favour of torch.solve and will be removed in the next release. Please use torch.solve instead.\n",
      "  return torch.gesv(B,A)[0][:,0]\n",
      "/home/ale/anaconda3/envs/tensor20/lib/python3.6/site-packages/fastai/vision/transform.py:243: UserWarning: torch.gesv is deprecated in favour of torch.solve and will be removed in the next release. Please use torch.solve instead.\n",
      "  return torch.gesv(B,A)[0][:,0]\n",
      "/home/ale/anaconda3/envs/tensor20/lib/python3.6/site-packages/fastai/vision/transform.py:243: UserWarning: torch.gesv is deprecated in favour of torch.solve and will be removed in the next release. Please use torch.solve instead.\n",
      "  return torch.gesv(B,A)[0][:,0]\n",
      "/home/ale/anaconda3/envs/tensor20/lib/python3.6/site-packages/fastai/vision/transform.py:243: UserWarning: torch.gesv is deprecated in favour of torch.solve and will be removed in the next release. Please use torch.solve instead.\n",
      "  return torch.gesv(B,A)[0][:,0]\n",
      "/home/ale/anaconda3/envs/tensor20/lib/python3.6/site-packages/fastai/vision/transform.py:243: UserWarning: torch.gesv is deprecated in favour of torch.solve and will be removed in the next release. Please use torch.solve instead.\n",
      "  return torch.gesv(B,A)[0][:,0]\n",
      "/home/ale/anaconda3/envs/tensor20/lib/python3.6/site-packages/fastai/vision/transform.py:243: UserWarning: torch.gesv is deprecated in favour of torch.solve and will be removed in the next release. Please use torch.solve instead.\n",
      "  return torch.gesv(B,A)[0][:,0]\n",
      "/home/ale/anaconda3/envs/tensor20/lib/python3.6/site-packages/fastai/vision/transform.py:243: UserWarning: torch.gesv is deprecated in favour of torch.solve and will be removed in the next release. Please use torch.solve instead.\n",
      "  return torch.gesv(B,A)[0][:,0]\n",
      "/home/ale/anaconda3/envs/tensor20/lib/python3.6/site-packages/fastai/vision/transform.py:243: UserWarning: torch.gesv is deprecated in favour of torch.solve and will be removed in the next release. Please use torch.solve instead.\n",
      "  return torch.gesv(B,A)[0][:,0]\n",
      "/home/ale/anaconda3/envs/tensor20/lib/python3.6/site-packages/fastai/vision/transform.py:243: UserWarning: torch.gesv is deprecated in favour of torch.solve and will be removed in the next release. Please use torch.solve instead.\n",
      "  return torch.gesv(B,A)[0][:,0]\n",
      "/home/ale/anaconda3/envs/tensor20/lib/python3.6/site-packages/fastai/vision/transform.py:243: UserWarning: torch.gesv is deprecated in favour of torch.solve and will be removed in the next release. Please use torch.solve instead.\n",
      "  return torch.gesv(B,A)[0][:,0]\n",
      "/home/ale/anaconda3/envs/tensor20/lib/python3.6/site-packages/fastai/vision/transform.py:243: UserWarning: torch.gesv is deprecated in favour of torch.solve and will be removed in the next release. Please use torch.solve instead.\n",
      "  return torch.gesv(B,A)[0][:,0]\n",
      "/home/ale/anaconda3/envs/tensor20/lib/python3.6/site-packages/fastai/vision/transform.py:243: UserWarning: torch.gesv is deprecated in favour of torch.solve and will be removed in the next release. Please use torch.solve instead.\n",
      "  return torch.gesv(B,A)[0][:,0]\n",
      "/home/ale/anaconda3/envs/tensor20/lib/python3.6/site-packages/fastai/vision/transform.py:243: UserWarning: torch.gesv is deprecated in favour of torch.solve and will be removed in the next release. Please use torch.solve instead.\n",
      "  return torch.gesv(B,A)[0][:,0]\n",
      "/home/ale/anaconda3/envs/tensor20/lib/python3.6/site-packages/fastai/vision/transform.py:243: UserWarning: torch.gesv is deprecated in favour of torch.solve and will be removed in the next release. Please use torch.solve instead.\n",
      "  return torch.gesv(B,A)[0][:,0]\n"
     ]
    },
    {
     "name": "stderr",
     "output_type": "stream",
     "text": [
      "/home/ale/anaconda3/envs/tensor20/lib/python3.6/site-packages/fastai/vision/transform.py:243: UserWarning: torch.gesv is deprecated in favour of torch.solve and will be removed in the next release. Please use torch.solve instead.\n",
      "  return torch.gesv(B,A)[0][:,0]\n",
      "/home/ale/anaconda3/envs/tensor20/lib/python3.6/site-packages/fastai/vision/transform.py:243: UserWarning: torch.gesv is deprecated in favour of torch.solve and will be removed in the next release. Please use torch.solve instead.\n",
      "  return torch.gesv(B,A)[0][:,0]\n",
      "/home/ale/anaconda3/envs/tensor20/lib/python3.6/site-packages/fastai/vision/transform.py:243: UserWarning: torch.gesv is deprecated in favour of torch.solve and will be removed in the next release. Please use torch.solve instead.\n",
      "  return torch.gesv(B,A)[0][:,0]\n",
      "/home/ale/anaconda3/envs/tensor20/lib/python3.6/site-packages/fastai/vision/transform.py:243: UserWarning: torch.gesv is deprecated in favour of torch.solve and will be removed in the next release. Please use torch.solve instead.\n",
      "  return torch.gesv(B,A)[0][:,0]\n",
      "/home/ale/anaconda3/envs/tensor20/lib/python3.6/site-packages/fastai/vision/transform.py:243: UserWarning: torch.gesv is deprecated in favour of torch.solve and will be removed in the next release. Please use torch.solve instead.\n",
      "  return torch.gesv(B,A)[0][:,0]\n",
      "/home/ale/anaconda3/envs/tensor20/lib/python3.6/site-packages/fastai/vision/transform.py:243: UserWarning: torch.gesv is deprecated in favour of torch.solve and will be removed in the next release. Please use torch.solve instead.\n",
      "  return torch.gesv(B,A)[0][:,0]\n",
      "/home/ale/anaconda3/envs/tensor20/lib/python3.6/site-packages/fastai/vision/transform.py:243: UserWarning: torch.gesv is deprecated in favour of torch.solve and will be removed in the next release. Please use torch.solve instead.\n",
      "  return torch.gesv(B,A)[0][:,0]\n",
      "/home/ale/anaconda3/envs/tensor20/lib/python3.6/site-packages/fastai/vision/transform.py:243: UserWarning: torch.gesv is deprecated in favour of torch.solve and will be removed in the next release. Please use torch.solve instead.\n",
      "  return torch.gesv(B,A)[0][:,0]\n",
      "/home/ale/anaconda3/envs/tensor20/lib/python3.6/site-packages/fastai/vision/transform.py:243: UserWarning: torch.gesv is deprecated in favour of torch.solve and will be removed in the next release. Please use torch.solve instead.\n",
      "  return torch.gesv(B,A)[0][:,0]\n",
      "/home/ale/anaconda3/envs/tensor20/lib/python3.6/site-packages/fastai/vision/transform.py:243: UserWarning: torch.gesv is deprecated in favour of torch.solve and will be removed in the next release. Please use torch.solve instead.\n",
      "  return torch.gesv(B,A)[0][:,0]\n",
      "/home/ale/anaconda3/envs/tensor20/lib/python3.6/site-packages/fastai/vision/transform.py:243: UserWarning: torch.gesv is deprecated in favour of torch.solve and will be removed in the next release. Please use torch.solve instead.\n",
      "  return torch.gesv(B,A)[0][:,0]\n",
      "/home/ale/anaconda3/envs/tensor20/lib/python3.6/site-packages/fastai/vision/transform.py:243: UserWarning: torch.gesv is deprecated in favour of torch.solve and will be removed in the next release. Please use torch.solve instead.\n",
      "  return torch.gesv(B,A)[0][:,0]\n",
      "/home/ale/anaconda3/envs/tensor20/lib/python3.6/site-packages/fastai/vision/transform.py:243: UserWarning: torch.gesv is deprecated in favour of torch.solve and will be removed in the next release. Please use torch.solve instead.\n",
      "  return torch.gesv(B,A)[0][:,0]\n",
      "/home/ale/anaconda3/envs/tensor20/lib/python3.6/site-packages/fastai/vision/transform.py:243: UserWarning: torch.gesv is deprecated in favour of torch.solve and will be removed in the next release. Please use torch.solve instead.\n",
      "  return torch.gesv(B,A)[0][:,0]\n",
      "/home/ale/anaconda3/envs/tensor20/lib/python3.6/site-packages/fastai/vision/transform.py:243: UserWarning: torch.gesv is deprecated in favour of torch.solve and will be removed in the next release. Please use torch.solve instead.\n",
      "  return torch.gesv(B,A)[0][:,0]\n",
      "/home/ale/anaconda3/envs/tensor20/lib/python3.6/site-packages/fastai/vision/transform.py:243: UserWarning: torch.gesv is deprecated in favour of torch.solve and will be removed in the next release. Please use torch.solve instead.\n",
      "  return torch.gesv(B,A)[0][:,0]\n",
      "/home/ale/anaconda3/envs/tensor20/lib/python3.6/site-packages/fastai/vision/transform.py:243: UserWarning: torch.gesv is deprecated in favour of torch.solve and will be removed in the next release. Please use torch.solve instead.\n",
      "  return torch.gesv(B,A)[0][:,0]\n",
      "/home/ale/anaconda3/envs/tensor20/lib/python3.6/site-packages/fastai/vision/transform.py:243: UserWarning: torch.gesv is deprecated in favour of torch.solve and will be removed in the next release. Please use torch.solve instead.\n",
      "  return torch.gesv(B,A)[0][:,0]\n",
      "/home/ale/anaconda3/envs/tensor20/lib/python3.6/site-packages/fastai/vision/transform.py:243: UserWarning: torch.gesv is deprecated in favour of torch.solve and will be removed in the next release. Please use torch.solve instead.\n",
      "  return torch.gesv(B,A)[0][:,0]\n",
      "/home/ale/anaconda3/envs/tensor20/lib/python3.6/site-packages/fastai/vision/transform.py:243: UserWarning: torch.gesv is deprecated in favour of torch.solve and will be removed in the next release. Please use torch.solve instead.\n",
      "  return torch.gesv(B,A)[0][:,0]\n",
      "/home/ale/anaconda3/envs/tensor20/lib/python3.6/site-packages/fastai/vision/transform.py:243: UserWarning: torch.gesv is deprecated in favour of torch.solve and will be removed in the next release. Please use torch.solve instead.\n",
      "  return torch.gesv(B,A)[0][:,0]\n",
      "/home/ale/anaconda3/envs/tensor20/lib/python3.6/site-packages/fastai/vision/transform.py:243: UserWarning: torch.gesv is deprecated in favour of torch.solve and will be removed in the next release. Please use torch.solve instead.\n",
      "  return torch.gesv(B,A)[0][:,0]\n",
      "/home/ale/anaconda3/envs/tensor20/lib/python3.6/site-packages/fastai/vision/transform.py:243: UserWarning: torch.gesv is deprecated in favour of torch.solve and will be removed in the next release. Please use torch.solve instead.\n",
      "  return torch.gesv(B,A)[0][:,0]\n",
      "/home/ale/anaconda3/envs/tensor20/lib/python3.6/site-packages/fastai/vision/transform.py:243: UserWarning: torch.gesv is deprecated in favour of torch.solve and will be removed in the next release. Please use torch.solve instead.\n",
      "  return torch.gesv(B,A)[0][:,0]\n"
     ]
    },
    {
     "data": {
      "image/png": "[encoded data removed]",
      "text/plain": [
       "<Figure size 504x432 with 9 Axes>"
      ]
     },
     "metadata": {
      "needs_background": "light"
     },
     "output_type": "display_data"
    }
   ],
   "source": [
    "data.show_batch(rows=3, figsize=(7,6))"
   ]
  },
  {
   "cell_type": "code",
   "execution_count": 18,
   "metadata": {},
   "outputs": [
    {
     "name": "stderr",
     "output_type": "stream",
     "text": [
      "/home/ale/anaconda3/envs/tensor20/lib/python3.6/site-packages/fastai/vision/transform.py:243: UserWarning: torch.gesv is deprecated in favour of torch.solve and will be removed in the next release. Please use torch.solve instead.\n",
      "  return torch.gesv(B,A)[0][:,0]\n",
      "/home/ale/anaconda3/envs/tensor20/lib/python3.6/site-packages/fastai/vision/transform.py:243: UserWarning: torch.gesv is deprecated in favour of torch.solve and will be removed in the next release. Please use torch.solve instead.\n",
      "  return torch.gesv(B,A)[0][:,0]\n",
      "/home/ale/anaconda3/envs/tensor20/lib/python3.6/site-packages/fastai/vision/transform.py:243: UserWarning: torch.gesv is deprecated in favour of torch.solve and will be removed in the next release. Please use torch.solve instead.\n",
      "  return torch.gesv(B,A)[0][:,0]\n",
      "/home/ale/anaconda3/envs/tensor20/lib/python3.6/site-packages/fastai/vision/transform.py:243: UserWarning: torch.gesv is deprecated in favour of torch.solve and will be removed in the next release. Please use torch.solve instead.\n",
      "  return torch.gesv(B,A)[0][:,0]\n",
      "/home/ale/anaconda3/envs/tensor20/lib/python3.6/site-packages/fastai/vision/transform.py:243: UserWarning: torch.gesv is deprecated in favour of torch.solve and will be removed in the next release. Please use torch.solve instead.\n",
      "  return torch.gesv(B,A)[0][:,0]\n",
      "/home/ale/anaconda3/envs/tensor20/lib/python3.6/site-packages/fastai/vision/transform.py:243: UserWarning: torch.gesv is deprecated in favour of torch.solve and will be removed in the next release. Please use torch.solve instead.\n",
      "  return torch.gesv(B,A)[0][:,0]\n",
      "/home/ale/anaconda3/envs/tensor20/lib/python3.6/site-packages/fastai/vision/transform.py:243: UserWarning: torch.gesv is deprecated in favour of torch.solve and will be removed in the next release. Please use torch.solve instead.\n",
      "  return torch.gesv(B,A)[0][:,0]\n",
      "/home/ale/anaconda3/envs/tensor20/lib/python3.6/site-packages/fastai/vision/transform.py:243: UserWarning: torch.gesv is deprecated in favour of torch.solve and will be removed in the next release. Please use torch.solve instead.\n",
      "  return torch.gesv(B,A)[0][:,0]\n",
      "/home/ale/anaconda3/envs/tensor20/lib/python3.6/site-packages/fastai/vision/transform.py:243: UserWarning: torch.gesv is deprecated in favour of torch.solve and will be removed in the next release. Please use torch.solve instead.\n",
      "  return torch.gesv(B,A)[0][:,0]\n",
      "/home/ale/anaconda3/envs/tensor20/lib/python3.6/site-packages/fastai/vision/transform.py:243: UserWarning: torch.gesv is deprecated in favour of torch.solve and will be removed in the next release. Please use torch.solve instead.\n",
      "  return torch.gesv(B,A)[0][:,0]\n",
      "/home/ale/anaconda3/envs/tensor20/lib/python3.6/site-packages/fastai/vision/transform.py:243: UserWarning: torch.gesv is deprecated in favour of torch.solve and will be removed in the next release. Please use torch.solve instead.\n",
      "  return torch.gesv(B,A)[0][:,0]\n",
      "/home/ale/anaconda3/envs/tensor20/lib/python3.6/site-packages/fastai/vision/transform.py:243: UserWarning: torch.gesv is deprecated in favour of torch.solve and will be removed in the next release. Please use torch.solve instead.\n",
      "  return torch.gesv(B,A)[0][:,0]\n",
      "/home/ale/anaconda3/envs/tensor20/lib/python3.6/site-packages/fastai/vision/transform.py:243: UserWarning: torch.gesv is deprecated in favour of torch.solve and will be removed in the next release. Please use torch.solve instead.\n",
      "  return torch.gesv(B,A)[0][:,0]\n",
      "/home/ale/anaconda3/envs/tensor20/lib/python3.6/site-packages/fastai/vision/transform.py:243: UserWarning: torch.gesv is deprecated in favour of torch.solve and will be removed in the next release. Please use torch.solve instead.\n",
      "  return torch.gesv(B,A)[0][:,0]\n",
      "/home/ale/anaconda3/envs/tensor20/lib/python3.6/site-packages/fastai/vision/transform.py:243: UserWarning: torch.gesv is deprecated in favour of torch.solve and will be removed in the next release. Please use torch.solve instead.\n",
      "  return torch.gesv(B,A)[0][:,0]\n",
      "/home/ale/anaconda3/envs/tensor20/lib/python3.6/site-packages/fastai/vision/transform.py:243: UserWarning: torch.gesv is deprecated in favour of torch.solve and will be removed in the next release. Please use torch.solve instead.\n",
      "  return torch.gesv(B,A)[0][:,0]\n",
      "/home/ale/anaconda3/envs/tensor20/lib/python3.6/site-packages/fastai/vision/transform.py:243: UserWarning: torch.gesv is deprecated in favour of torch.solve and will be removed in the next release. Please use torch.solve instead.\n",
      "  return torch.gesv(B,A)[0][:,0]\n",
      "/home/ale/anaconda3/envs/tensor20/lib/python3.6/site-packages/fastai/vision/transform.py:243: UserWarning: torch.gesv is deprecated in favour of torch.solve and will be removed in the next release. Please use torch.solve instead.\n",
      "  return torch.gesv(B,A)[0][:,0]\n",
      "/home/ale/anaconda3/envs/tensor20/lib/python3.6/site-packages/fastai/vision/transform.py:243: UserWarning: torch.gesv is deprecated in favour of torch.solve and will be removed in the next release. Please use torch.solve instead.\n",
      "  return torch.gesv(B,A)[0][:,0]\n",
      "/home/ale/anaconda3/envs/tensor20/lib/python3.6/site-packages/fastai/vision/transform.py:243: UserWarning: torch.gesv is deprecated in favour of torch.solve and will be removed in the next release. Please use torch.solve instead.\n",
      "  return torch.gesv(B,A)[0][:,0]\n",
      "/home/ale/anaconda3/envs/tensor20/lib/python3.6/site-packages/fastai/vision/transform.py:243: UserWarning: torch.gesv is deprecated in favour of torch.solve and will be removed in the next release. Please use torch.solve instead.\n",
      "  return torch.gesv(B,A)[0][:,0]\n",
      "/home/ale/anaconda3/envs/tensor20/lib/python3.6/site-packages/fastai/vision/transform.py:243: UserWarning: torch.gesv is deprecated in favour of torch.solve and will be removed in the next release. Please use torch.solve instead.\n",
      "  return torch.gesv(B,A)[0][:,0]\n",
      "/home/ale/anaconda3/envs/tensor20/lib/python3.6/site-packages/fastai/vision/transform.py:243: UserWarning: torch.gesv is deprecated in favour of torch.solve and will be removed in the next release. Please use torch.solve instead.\n",
      "  return torch.gesv(B,A)[0][:,0]\n",
      "/home/ale/anaconda3/envs/tensor20/lib/python3.6/site-packages/fastai/vision/transform.py:243: UserWarning: torch.gesv is deprecated in favour of torch.solve and will be removed in the next release. Please use torch.solve instead.\n",
      "  return torch.gesv(B,A)[0][:,0]\n",
      "/home/ale/anaconda3/envs/tensor20/lib/python3.6/site-packages/fastai/vision/transform.py:243: UserWarning: torch.gesv is deprecated in favour of torch.solve and will be removed in the next release. Please use torch.solve instead.\n",
      "  return torch.gesv(B,A)[0][:,0]\n",
      "/home/ale/anaconda3/envs/tensor20/lib/python3.6/site-packages/fastai/vision/transform.py:243: UserWarning: torch.gesv is deprecated in favour of torch.solve and will be removed in the next release. Please use torch.solve instead.\n",
      "  return torch.gesv(B,A)[0][:,0]\n",
      "/home/ale/anaconda3/envs/tensor20/lib/python3.6/site-packages/fastai/vision/transform.py:243: UserWarning: torch.gesv is deprecated in favour of torch.solve and will be removed in the next release. Please use torch.solve instead.\n",
      "  return torch.gesv(B,A)[0][:,0]\n",
      "/home/ale/anaconda3/envs/tensor20/lib/python3.6/site-packages/fastai/vision/transform.py:243: UserWarning: torch.gesv is deprecated in favour of torch.solve and will be removed in the next release. Please use torch.solve instead.\n",
      "  return torch.gesv(B,A)[0][:,0]\n",
      "/home/ale/anaconda3/envs/tensor20/lib/python3.6/site-packages/fastai/vision/transform.py:243: UserWarning: torch.gesv is deprecated in favour of torch.solve and will be removed in the next release. Please use torch.solve instead.\n",
      "  return torch.gesv(B,A)[0][:,0]\n",
      "/home/ale/anaconda3/envs/tensor20/lib/python3.6/site-packages/fastai/vision/transform.py:243: UserWarning: torch.gesv is deprecated in favour of torch.solve and will be removed in the next release. Please use torch.solve instead.\n",
      "  return torch.gesv(B,A)[0][:,0]\n",
      "/home/ale/anaconda3/envs/tensor20/lib/python3.6/site-packages/fastai/vision/transform.py:243: UserWarning: torch.gesv is deprecated in favour of torch.solve and will be removed in the next release. Please use torch.solve instead.\n",
      "  return torch.gesv(B,A)[0][:,0]\n",
      "/home/ale/anaconda3/envs/tensor20/lib/python3.6/site-packages/fastai/vision/transform.py:243: UserWarning: torch.gesv is deprecated in favour of torch.solve and will be removed in the next release. Please use torch.solve instead.\n",
      "  return torch.gesv(B,A)[0][:,0]\n"
     ]
    },
    {
     "name": "stderr",
     "output_type": "stream",
     "text": [
      "/home/ale/anaconda3/envs/tensor20/lib/python3.6/site-packages/fastai/vision/transform.py:243: UserWarning: torch.gesv is deprecated in favour of torch.solve and will be removed in the next release. Please use torch.solve instead.\n",
      "  return torch.gesv(B,A)[0][:,0]\n",
      "/home/ale/anaconda3/envs/tensor20/lib/python3.6/site-packages/fastai/vision/transform.py:243: UserWarning: torch.gesv is deprecated in favour of torch.solve and will be removed in the next release. Please use torch.solve instead.\n",
      "  return torch.gesv(B,A)[0][:,0]\n",
      "/home/ale/anaconda3/envs/tensor20/lib/python3.6/site-packages/fastai/vision/transform.py:243: UserWarning: torch.gesv is deprecated in favour of torch.solve and will be removed in the next release. Please use torch.solve instead.\n",
      "  return torch.gesv(B,A)[0][:,0]\n",
      "/home/ale/anaconda3/envs/tensor20/lib/python3.6/site-packages/fastai/vision/transform.py:243: UserWarning: torch.gesv is deprecated in favour of torch.solve and will be removed in the next release. Please use torch.solve instead.\n",
      "  return torch.gesv(B,A)[0][:,0]\n",
      "/home/ale/anaconda3/envs/tensor20/lib/python3.6/site-packages/fastai/vision/transform.py:243: UserWarning: torch.gesv is deprecated in favour of torch.solve and will be removed in the next release. Please use torch.solve instead.\n",
      "  return torch.gesv(B,A)[0][:,0]\n",
      "/home/ale/anaconda3/envs/tensor20/lib/python3.6/site-packages/fastai/vision/transform.py:243: UserWarning: torch.gesv is deprecated in favour of torch.solve and will be removed in the next release. Please use torch.solve instead.\n",
      "  return torch.gesv(B,A)[0][:,0]\n",
      "/home/ale/anaconda3/envs/tensor20/lib/python3.6/site-packages/fastai/vision/transform.py:243: UserWarning: torch.gesv is deprecated in favour of torch.solve and will be removed in the next release. Please use torch.solve instead.\n",
      "  return torch.gesv(B,A)[0][:,0]\n",
      "/home/ale/anaconda3/envs/tensor20/lib/python3.6/site-packages/fastai/vision/transform.py:243: UserWarning: torch.gesv is deprecated in favour of torch.solve and will be removed in the next release. Please use torch.solve instead.\n",
      "  return torch.gesv(B,A)[0][:,0]\n",
      "/home/ale/anaconda3/envs/tensor20/lib/python3.6/site-packages/fastai/vision/transform.py:243: UserWarning: torch.gesv is deprecated in favour of torch.solve and will be removed in the next release. Please use torch.solve instead.\n",
      "  return torch.gesv(B,A)[0][:,0]\n",
      "/home/ale/anaconda3/envs/tensor20/lib/python3.6/site-packages/fastai/vision/transform.py:243: UserWarning: torch.gesv is deprecated in favour of torch.solve and will be removed in the next release. Please use torch.solve instead.\n",
      "  return torch.gesv(B,A)[0][:,0]\n",
      "/home/ale/anaconda3/envs/tensor20/lib/python3.6/site-packages/fastai/vision/transform.py:243: UserWarning: torch.gesv is deprecated in favour of torch.solve and will be removed in the next release. Please use torch.solve instead.\n",
      "  return torch.gesv(B,A)[0][:,0]\n",
      "/home/ale/anaconda3/envs/tensor20/lib/python3.6/site-packages/fastai/vision/transform.py:243: UserWarning: torch.gesv is deprecated in favour of torch.solve and will be removed in the next release. Please use torch.solve instead.\n",
      "  return torch.gesv(B,A)[0][:,0]\n",
      "/home/ale/anaconda3/envs/tensor20/lib/python3.6/site-packages/fastai/vision/transform.py:243: UserWarning: torch.gesv is deprecated in favour of torch.solve and will be removed in the next release. Please use torch.solve instead.\n",
      "  return torch.gesv(B,A)[0][:,0]\n",
      "/home/ale/anaconda3/envs/tensor20/lib/python3.6/site-packages/fastai/vision/transform.py:243: UserWarning: torch.gesv is deprecated in favour of torch.solve and will be removed in the next release. Please use torch.solve instead.\n",
      "  return torch.gesv(B,A)[0][:,0]\n",
      "/home/ale/anaconda3/envs/tensor20/lib/python3.6/site-packages/fastai/vision/transform.py:243: UserWarning: torch.gesv is deprecated in favour of torch.solve and will be removed in the next release. Please use torch.solve instead.\n",
      "  return torch.gesv(B,A)[0][:,0]\n",
      "/home/ale/anaconda3/envs/tensor20/lib/python3.6/site-packages/fastai/vision/transform.py:243: UserWarning: torch.gesv is deprecated in favour of torch.solve and will be removed in the next release. Please use torch.solve instead.\n",
      "  return torch.gesv(B,A)[0][:,0]\n",
      "/home/ale/anaconda3/envs/tensor20/lib/python3.6/site-packages/fastai/vision/transform.py:243: UserWarning: torch.gesv is deprecated in favour of torch.solve and will be removed in the next release. Please use torch.solve instead.\n",
      "  return torch.gesv(B,A)[0][:,0]\n",
      "/home/ale/anaconda3/envs/tensor20/lib/python3.6/site-packages/fastai/vision/transform.py:243: UserWarning: torch.gesv is deprecated in favour of torch.solve and will be removed in the next release. Please use torch.solve instead.\n",
      "  return torch.gesv(B,A)[0][:,0]\n",
      "/home/ale/anaconda3/envs/tensor20/lib/python3.6/site-packages/fastai/vision/transform.py:243: UserWarning: torch.gesv is deprecated in favour of torch.solve and will be removed in the next release. Please use torch.solve instead.\n",
      "  return torch.gesv(B,A)[0][:,0]\n",
      "/home/ale/anaconda3/envs/tensor20/lib/python3.6/site-packages/fastai/vision/transform.py:243: UserWarning: torch.gesv is deprecated in favour of torch.solve and will be removed in the next release. Please use torch.solve instead.\n",
      "  return torch.gesv(B,A)[0][:,0]\n",
      "/home/ale/anaconda3/envs/tensor20/lib/python3.6/site-packages/fastai/vision/transform.py:243: UserWarning: torch.gesv is deprecated in favour of torch.solve and will be removed in the next release. Please use torch.solve instead.\n",
      "  return torch.gesv(B,A)[0][:,0]\n",
      "/home/ale/anaconda3/envs/tensor20/lib/python3.6/site-packages/fastai/vision/transform.py:243: UserWarning: torch.gesv is deprecated in favour of torch.solve and will be removed in the next release. Please use torch.solve instead.\n",
      "  return torch.gesv(B,A)[0][:,0]\n",
      "/home/ale/anaconda3/envs/tensor20/lib/python3.6/site-packages/fastai/vision/transform.py:243: UserWarning: torch.gesv is deprecated in favour of torch.solve and will be removed in the next release. Please use torch.solve instead.\n",
      "  return torch.gesv(B,A)[0][:,0]\n",
      "/home/ale/anaconda3/envs/tensor20/lib/python3.6/site-packages/fastai/vision/transform.py:243: UserWarning: torch.gesv is deprecated in favour of torch.solve and will be removed in the next release. Please use torch.solve instead.\n",
      "  return torch.gesv(B,A)[0][:,0]\n",
      "/home/ale/anaconda3/envs/tensor20/lib/python3.6/site-packages/fastai/vision/transform.py:243: UserWarning: torch.gesv is deprecated in favour of torch.solve and will be removed in the next release. Please use torch.solve instead.\n",
      "  return torch.gesv(B,A)[0][:,0]\n",
      "/home/ale/anaconda3/envs/tensor20/lib/python3.6/site-packages/fastai/vision/transform.py:243: UserWarning: torch.gesv is deprecated in favour of torch.solve and will be removed in the next release. Please use torch.solve instead.\n",
      "  return torch.gesv(B,A)[0][:,0]\n",
      "/home/ale/anaconda3/envs/tensor20/lib/python3.6/site-packages/fastai/vision/transform.py:243: UserWarning: torch.gesv is deprecated in favour of torch.solve and will be removed in the next release. Please use torch.solve instead.\n",
      "  return torch.gesv(B,A)[0][:,0]\n",
      "/home/ale/anaconda3/envs/tensor20/lib/python3.6/site-packages/fastai/vision/transform.py:243: UserWarning: torch.gesv is deprecated in favour of torch.solve and will be removed in the next release. Please use torch.solve instead.\n",
      "  return torch.gesv(B,A)[0][:,0]\n",
      "/home/ale/anaconda3/envs/tensor20/lib/python3.6/site-packages/fastai/vision/transform.py:243: UserWarning: torch.gesv is deprecated in favour of torch.solve and will be removed in the next release. Please use torch.solve instead.\n",
      "  return torch.gesv(B,A)[0][:,0]\n",
      "/home/ale/anaconda3/envs/tensor20/lib/python3.6/site-packages/fastai/vision/transform.py:243: UserWarning: torch.gesv is deprecated in favour of torch.solve and will be removed in the next release. Please use torch.solve instead.\n",
      "  return torch.gesv(B,A)[0][:,0]\n",
      "/home/ale/anaconda3/envs/tensor20/lib/python3.6/site-packages/fastai/vision/transform.py:243: UserWarning: torch.gesv is deprecated in favour of torch.solve and will be removed in the next release. Please use torch.solve instead.\n",
      "  return torch.gesv(B,A)[0][:,0]\n",
      "/home/ale/anaconda3/envs/tensor20/lib/python3.6/site-packages/fastai/vision/transform.py:243: UserWarning: torch.gesv is deprecated in favour of torch.solve and will be removed in the next release. Please use torch.solve instead.\n",
      "  return torch.gesv(B,A)[0][:,0]\n"
     ]
    },
    {
     "name": "stderr",
     "output_type": "stream",
     "text": [
      "/home/ale/anaconda3/envs/tensor20/lib/python3.6/site-packages/fastai/vision/transform.py:243: UserWarning: torch.gesv is deprecated in favour of torch.solve and will be removed in the next release. Please use torch.solve instead.\n",
      "  return torch.gesv(B,A)[0][:,0]\n",
      "/home/ale/anaconda3/envs/tensor20/lib/python3.6/site-packages/fastai/vision/transform.py:243: UserWarning: torch.gesv is deprecated in favour of torch.solve and will be removed in the next release. Please use torch.solve instead.\n",
      "  return torch.gesv(B,A)[0][:,0]\n",
      "/home/ale/anaconda3/envs/tensor20/lib/python3.6/site-packages/fastai/vision/transform.py:243: UserWarning: torch.gesv is deprecated in favour of torch.solve and will be removed in the next release. Please use torch.solve instead.\n",
      "  return torch.gesv(B,A)[0][:,0]\n",
      "/home/ale/anaconda3/envs/tensor20/lib/python3.6/site-packages/fastai/vision/transform.py:243: UserWarning: torch.gesv is deprecated in favour of torch.solve and will be removed in the next release. Please use torch.solve instead.\n",
      "  return torch.gesv(B,A)[0][:,0]\n",
      "/home/ale/anaconda3/envs/tensor20/lib/python3.6/site-packages/fastai/vision/transform.py:243: UserWarning: torch.gesv is deprecated in favour of torch.solve and will be removed in the next release. Please use torch.solve instead.\n",
      "  return torch.gesv(B,A)[0][:,0]\n",
      "/home/ale/anaconda3/envs/tensor20/lib/python3.6/site-packages/fastai/vision/transform.py:243: UserWarning: torch.gesv is deprecated in favour of torch.solve and will be removed in the next release. Please use torch.solve instead.\n",
      "  return torch.gesv(B,A)[0][:,0]\n",
      "/home/ale/anaconda3/envs/tensor20/lib/python3.6/site-packages/fastai/vision/transform.py:243: UserWarning: torch.gesv is deprecated in favour of torch.solve and will be removed in the next release. Please use torch.solve instead.\n",
      "  return torch.gesv(B,A)[0][:,0]\n",
      "/home/ale/anaconda3/envs/tensor20/lib/python3.6/site-packages/fastai/vision/transform.py:243: UserWarning: torch.gesv is deprecated in favour of torch.solve and will be removed in the next release. Please use torch.solve instead.\n",
      "  return torch.gesv(B,A)[0][:,0]\n",
      "/home/ale/anaconda3/envs/tensor20/lib/python3.6/site-packages/fastai/vision/transform.py:243: UserWarning: torch.gesv is deprecated in favour of torch.solve and will be removed in the next release. Please use torch.solve instead.\n",
      "  return torch.gesv(B,A)[0][:,0]\n",
      "/home/ale/anaconda3/envs/tensor20/lib/python3.6/site-packages/fastai/vision/transform.py:243: UserWarning: torch.gesv is deprecated in favour of torch.solve and will be removed in the next release. Please use torch.solve instead.\n",
      "  return torch.gesv(B,A)[0][:,0]\n",
      "/home/ale/anaconda3/envs/tensor20/lib/python3.6/site-packages/fastai/vision/transform.py:243: UserWarning: torch.gesv is deprecated in favour of torch.solve and will be removed in the next release. Please use torch.solve instead.\n",
      "  return torch.gesv(B,A)[0][:,0]\n",
      "/home/ale/anaconda3/envs/tensor20/lib/python3.6/site-packages/fastai/vision/transform.py:243: UserWarning: torch.gesv is deprecated in favour of torch.solve and will be removed in the next release. Please use torch.solve instead.\n",
      "  return torch.gesv(B,A)[0][:,0]\n",
      "/home/ale/anaconda3/envs/tensor20/lib/python3.6/site-packages/fastai/vision/transform.py:243: UserWarning: torch.gesv is deprecated in favour of torch.solve and will be removed in the next release. Please use torch.solve instead.\n",
      "  return torch.gesv(B,A)[0][:,0]\n",
      "/home/ale/anaconda3/envs/tensor20/lib/python3.6/site-packages/fastai/vision/transform.py:243: UserWarning: torch.gesv is deprecated in favour of torch.solve and will be removed in the next release. Please use torch.solve instead.\n",
      "  return torch.gesv(B,A)[0][:,0]\n",
      "/home/ale/anaconda3/envs/tensor20/lib/python3.6/site-packages/fastai/vision/transform.py:243: UserWarning: torch.gesv is deprecated in favour of torch.solve and will be removed in the next release. Please use torch.solve instead.\n",
      "  return torch.gesv(B,A)[0][:,0]\n"
     ]
    }
   ],
   "source": [
    "b = data.one_batch()"
   ]
  },
  {
   "cell_type": "code",
   "execution_count": 27,
   "metadata": {},
   "outputs": [],
   "source": [
    "im = np.asarray(b[0][0])"
   ]
  },
  {
   "cell_type": "code",
   "execution_count": 28,
   "metadata": {},
   "outputs": [
    {
     "data": {
      "text/plain": [
       "(3, 224, 224)"
      ]
     },
     "execution_count": 28,
     "metadata": {},
     "output_type": "execute_result"
    }
   ],
   "source": [
    "im.shape"
   ]
  },
  {
   "cell_type": "code",
   "execution_count": 29,
   "metadata": {},
   "outputs": [],
   "source": [
    "from PIL import Image\n",
    "import numpy as np\n"
   ]
  },
  {
   "cell_type": "code",
   "execution_count": 31,
   "metadata": {},
   "outputs": [],
   "source": [
    "img = Image.fromarray(im, 'RGB')\n",
    "img.save('hello.png')\n",
    "img.show()"
   ]
  },
  {
   "cell_type": "code",
   "execution_count": 33,
   "metadata": {},
   "outputs": [],
   "source": []
  },
  {
   "cell_type": "code",
   "execution_count": 34,
   "metadata": {},
   "outputs": [
    {
     "data": {
      "text/plain": [
       "([RandTransform(tfm=TfmCrop (crop_pad), kwargs={'row_pct': (0, 1), 'col_pct': (0, 1), 'padding_mode': 'reflection'}, p=1.0, resolved={}, do_run=True, is_random=True),\n",
       "  RandTransform(tfm=TfmCoord (symmetric_warp), kwargs={'magnitude': (-0.2, 0.2)}, p=0.3, resolved={}, do_run=True, is_random=True),\n",
       "  RandTransform(tfm=TfmAffine (rotate), kwargs={'degrees': (-4, 4)}, p=0.3, resolved={}, do_run=True, is_random=True),\n",
       "  RandTransform(tfm=TfmAffine (zoom), kwargs={'scale': (1.0, 1.1), 'row_pct': (0, 1), 'col_pct': (0, 1)}, p=0.3, resolved={}, do_run=True, is_random=True)],\n",
       " [RandTransform(tfm=TfmCrop (crop_pad), kwargs={}, p=1.0, resolved={}, do_run=True, is_random=True)])"
      ]
     },
     "execution_count": 34,
     "metadata": {},
     "output_type": "execute_result"
    }
   ],
   "source": [
    "tfms"
   ]
  },
  {
   "cell_type": "code",
   "execution_count": 90,
   "metadata": {},
   "outputs": [
    {
     "name": "stdout",
     "output_type": "stream",
     "text": [
      "[RandTransform(tfm=TfmCrop (crop_pad), kwargs={'row_pct': (0, 1), 'col_pct': (0, 1), 'padding_mode': 'reflection'}, p=1.0, resolved={}, do_run=True, is_random=True), RandTransform(tfm=TfmCoord (symmetric_warp), kwargs={'magnitude': (-0.2, 0.2)}, p=0.3, resolved={}, do_run=True, is_random=True), RandTransform(tfm=TfmAffine (rotate), kwargs={'degrees': (-4, 4)}, p=0.3, resolved={}, do_run=True, is_random=True), RandTransform(tfm=TfmAffine (zoom), kwargs={'scale': (1.0, 1.1), 'row_pct': (0, 1), 'col_pct': (0, 1)}, p=0.3, resolved={}, do_run=True, is_random=True)]\n",
      "training_data/fastai/normal_811990.png\n",
      "training_data/fastai/normal_811991.png\n",
      "training_data/fastai/normal_811992.png\n",
      "training_data/fastai/normal_811993.png\n",
      "training_data/fastai/normal_811994.png\n",
      "training_data/fastai/normal_811995.png\n",
      "training_data/fastai/normal_811996.png\n",
      "training_data/fastai/normal_811997.png\n",
      "training_data/fastai/normal_811998.png\n"
     ]
    },
    {
     "name": "stderr",
     "output_type": "stream",
     "text": [
      "/home/ale/anaconda3/envs/tensor20/lib/python3.6/site-packages/fastai/vision/transform.py:243: UserWarning: torch.gesv is deprecated in favour of torch.solve and will be removed in the next release. Please use torch.solve instead.\n",
      "  return torch.gesv(B,A)[0][:,0]\n"
     ]
    },
    {
     "name": "stdout",
     "output_type": "stream",
     "text": [
      "training_data/fastai/normal_811999.png\n",
      "training_data/fastai/dramatic_297990.png\n",
      "training_data/fastai/dramatic_297991.png\n",
      "training_data/fastai/dramatic_297992.png\n",
      "training_data/fastai/dramatic_297993.png\n",
      "training_data/fastai/dramatic_297994.png\n",
      "training_data/fastai/dramatic_297995.png\n",
      "training_data/fastai/dramatic_297996.png\n",
      "training_data/fastai/dramatic_297997.png\n"
     ]
    },
    {
     "name": "stderr",
     "output_type": "stream",
     "text": [
      "/home/ale/anaconda3/envs/tensor20/lib/python3.6/site-packages/fastai/vision/transform.py:243: UserWarning: torch.gesv is deprecated in favour of torch.solve and will be removed in the next release. Please use torch.solve instead.\n",
      "  return torch.gesv(B,A)[0][:,0]\n",
      "/home/ale/anaconda3/envs/tensor20/lib/python3.6/site-packages/fastai/vision/transform.py:243: UserWarning: torch.gesv is deprecated in favour of torch.solve and will be removed in the next release. Please use torch.solve instead.\n",
      "  return torch.gesv(B,A)[0][:,0]\n"
     ]
    },
    {
     "name": "stdout",
     "output_type": "stream",
     "text": [
      "training_data/fastai/dramatic_297998.png\n",
      "training_data/fastai/dramatic_297999.png\n",
      "training_data/fastai/wings_425990.png\n",
      "training_data/fastai/wings_425991.png\n",
      "training_data/fastai/wings_425992.png\n",
      "training_data/fastai/wings_425993.png\n",
      "training_data/fastai/wings_425994.png\n",
      "training_data/fastai/wings_425995.png\n",
      "training_data/fastai/wings_425996.png\n",
      "training_data/fastai/wings_425997.png\n",
      "training_data/fastai/wings_425998.png\n",
      "training_data/fastai/wings_425999.png\n",
      "training_data/fastai/wings_417990.png\n",
      "training_data/fastai/wings_417991.png\n",
      "training_data/fastai/wings_417992.png\n",
      "training_data/fastai/wings_417993.png\n",
      "training_data/fastai/wings_417994.png\n",
      "training_data/fastai/wings_417995.png\n",
      "training_data/fastai/wings_417996.png\n"
     ]
    },
    {
     "name": "stderr",
     "output_type": "stream",
     "text": [
      "/home/ale/anaconda3/envs/tensor20/lib/python3.6/site-packages/fastai/vision/transform.py:243: UserWarning: torch.gesv is deprecated in favour of torch.solve and will be removed in the next release. Please use torch.solve instead.\n",
      "  return torch.gesv(B,A)[0][:,0]\n",
      "/home/ale/anaconda3/envs/tensor20/lib/python3.6/site-packages/fastai/vision/transform.py:243: UserWarning: torch.gesv is deprecated in favour of torch.solve and will be removed in the next release. Please use torch.solve instead.\n",
      "  return torch.gesv(B,A)[0][:,0]\n"
     ]
    },
    {
     "name": "stdout",
     "output_type": "stream",
     "text": [
      "training_data/fastai/wings_417997.png\n",
      "training_data/fastai/wings_417998.png\n",
      "training_data/fastai/wings_417999.png\n",
      "training_data/fastai/hadouken_1237990.png\n",
      "training_data/fastai/hadouken_1237991.png\n",
      "training_data/fastai/hadouken_1237992.png\n",
      "training_data/fastai/hadouken_1237993.png\n",
      "training_data/fastai/hadouken_1237994.png\n",
      "training_data/fastai/hadouken_1237995.png\n",
      "training_data/fastai/hadouken_1237996.png\n",
      "training_data/fastai/hadouken_1237997.png\n",
      "training_data/fastai/hadouken_1237998.png\n",
      "training_data/fastai/hadouken_1237999.png\n",
      "training_data/fastai/wings_220990.png\n",
      "training_data/fastai/wings_220991.png\n",
      "training_data/fastai/wings_220992.png\n",
      "training_data/fastai/wings_220993.png\n",
      "training_data/fastai/wings_220994.png\n"
     ]
    },
    {
     "name": "stderr",
     "output_type": "stream",
     "text": [
      "/home/ale/anaconda3/envs/tensor20/lib/python3.6/site-packages/fastai/vision/transform.py:243: UserWarning: torch.gesv is deprecated in favour of torch.solve and will be removed in the next release. Please use torch.solve instead.\n",
      "  return torch.gesv(B,A)[0][:,0]\n"
     ]
    },
    {
     "name": "stdout",
     "output_type": "stream",
     "text": [
      "training_data/fastai/wings_220995.png\n",
      "training_data/fastai/wings_220996.png\n",
      "training_data/fastai/wings_220997.png\n",
      "training_data/fastai/wings_220998.png\n",
      "training_data/fastai/wings_220999.png\n",
      "training_data/fastai/hadouken_967990.png\n",
      "training_data/fastai/hadouken_967991.png\n",
      "training_data/fastai/hadouken_967992.png\n",
      "training_data/fastai/hadouken_967993.png\n",
      "training_data/fastai/hadouken_967994.png\n",
      "training_data/fastai/hadouken_967995.png\n"
     ]
    },
    {
     "name": "stderr",
     "output_type": "stream",
     "text": [
      "/home/ale/anaconda3/envs/tensor20/lib/python3.6/site-packages/fastai/vision/transform.py:243: UserWarning: torch.gesv is deprecated in favour of torch.solve and will be removed in the next release. Please use torch.solve instead.\n",
      "  return torch.gesv(B,A)[0][:,0]\n",
      "/home/ale/anaconda3/envs/tensor20/lib/python3.6/site-packages/fastai/vision/transform.py:243: UserWarning: torch.gesv is deprecated in favour of torch.solve and will be removed in the next release. Please use torch.solve instead.\n",
      "  return torch.gesv(B,A)[0][:,0]\n"
     ]
    },
    {
     "name": "stdout",
     "output_type": "stream",
     "text": [
      "training_data/fastai/hadouken_967996.png\n",
      "training_data/fastai/hadouken_967997.png\n",
      "training_data/fastai/hadouken_967998.png\n",
      "training_data/fastai/hadouken_967999.png\n",
      "training_data/fastai/wings_37990.png\n",
      "training_data/fastai/wings_37991.png\n",
      "training_data/fastai/wings_37992.png\n",
      "training_data/fastai/wings_37993.png\n",
      "training_data/fastai/wings_37994.png\n",
      "training_data/fastai/wings_37995.png\n",
      "training_data/fastai/wings_37996.png\n",
      "training_data/fastai/wings_37997.png\n",
      "training_data/fastai/wings_37998.png\n",
      "training_data/fastai/wings_37999.png\n",
      "training_data/fastai/moonwalk_74990.png\n",
      "training_data/fastai/moonwalk_74991.png\n"
     ]
    },
    {
     "name": "stderr",
     "output_type": "stream",
     "text": [
      "/home/ale/anaconda3/envs/tensor20/lib/python3.6/site-packages/fastai/vision/transform.py:243: UserWarning: torch.gesv is deprecated in favour of torch.solve and will be removed in the next release. Please use torch.solve instead.\n",
      "  return torch.gesv(B,A)[0][:,0]\n"
     ]
    },
    {
     "name": "stdout",
     "output_type": "stream",
     "text": [
      "training_data/fastai/moonwalk_74992.png\n",
      "training_data/fastai/moonwalk_74993.png\n",
      "training_data/fastai/moonwalk_74994.png\n",
      "training_data/fastai/moonwalk_74995.png\n",
      "training_data/fastai/moonwalk_74996.png\n",
      "training_data/fastai/moonwalk_74997.png\n",
      "training_data/fastai/moonwalk_74998.png\n",
      "training_data/fastai/moonwalk_74999.png\n"
     ]
    },
    {
     "name": "stderr",
     "output_type": "stream",
     "text": [
      "/home/ale/anaconda3/envs/tensor20/lib/python3.6/site-packages/fastai/vision/transform.py:243: UserWarning: torch.gesv is deprecated in favour of torch.solve and will be removed in the next release. Please use torch.solve instead.\n",
      "  return torch.gesv(B,A)[0][:,0]\n"
     ]
    },
    {
     "name": "stdout",
     "output_type": "stream",
     "text": [
      "training_data/fastai/moonwalk_250990.png\n",
      "training_data/fastai/moonwalk_250991.png\n",
      "training_data/fastai/moonwalk_250992.png\n",
      "training_data/fastai/moonwalk_250993.png\n",
      "training_data/fastai/moonwalk_250994.png\n",
      "training_data/fastai/moonwalk_250995.png\n",
      "training_data/fastai/moonwalk_250996.png\n",
      "training_data/fastai/moonwalk_250997.png\n",
      "training_data/fastai/moonwalk_250998.png\n",
      "training_data/fastai/moonwalk_250999.png\n",
      "training_data/fastai/dramatic_1256990.png\n",
      "training_data/fastai/dramatic_1256991.png\n",
      "training_data/fastai/dramatic_1256992.png\n",
      "training_data/fastai/dramatic_1256993.png\n",
      "training_data/fastai/dramatic_1256994.png\n"
     ]
    },
    {
     "name": "stderr",
     "output_type": "stream",
     "text": [
      "/home/ale/anaconda3/envs/tensor20/lib/python3.6/site-packages/fastai/vision/transform.py:243: UserWarning: torch.gesv is deprecated in favour of torch.solve and will be removed in the next release. Please use torch.solve instead.\n",
      "  return torch.gesv(B,A)[0][:,0]\n"
     ]
    },
    {
     "name": "stdout",
     "output_type": "stream",
     "text": [
      "training_data/fastai/dramatic_1256995.png\n",
      "training_data/fastai/dramatic_1256996.png\n",
      "training_data/fastai/dramatic_1256997.png\n",
      "training_data/fastai/dramatic_1256998.png\n",
      "training_data/fastai/dramatic_1256999.png\n",
      "training_data/fastai/hadouken_262990.png\n",
      "training_data/fastai/hadouken_262991.png\n",
      "training_data/fastai/hadouken_262992.png\n"
     ]
    },
    {
     "name": "stderr",
     "output_type": "stream",
     "text": [
      "/home/ale/anaconda3/envs/tensor20/lib/python3.6/site-packages/fastai/vision/transform.py:243: UserWarning: torch.gesv is deprecated in favour of torch.solve and will be removed in the next release. Please use torch.solve instead.\n",
      "  return torch.gesv(B,A)[0][:,0]\n"
     ]
    },
    {
     "name": "stdout",
     "output_type": "stream",
     "text": [
      "training_data/fastai/hadouken_262993.png\n",
      "training_data/fastai/hadouken_262994.png\n",
      "training_data/fastai/hadouken_262995.png\n",
      "training_data/fastai/hadouken_262996.png\n",
      "training_data/fastai/hadouken_262997.png\n",
      "training_data/fastai/hadouken_262998.png\n",
      "training_data/fastai/hadouken_262999.png\n",
      "training_data/fastai/dramatic_555990.png\n"
     ]
    },
    {
     "name": "stderr",
     "output_type": "stream",
     "text": [
      "/home/ale/anaconda3/envs/tensor20/lib/python3.6/site-packages/fastai/vision/transform.py:243: UserWarning: torch.gesv is deprecated in favour of torch.solve and will be removed in the next release. Please use torch.solve instead.\n",
      "  return torch.gesv(B,A)[0][:,0]\n"
     ]
    },
    {
     "name": "stdout",
     "output_type": "stream",
     "text": [
      "training_data/fastai/dramatic_555991.png\n",
      "training_data/fastai/dramatic_555992.png\n",
      "training_data/fastai/dramatic_555993.png\n",
      "training_data/fastai/dramatic_555994.png\n",
      "training_data/fastai/dramatic_555995.png\n",
      "training_data/fastai/dramatic_555996.png\n",
      "training_data/fastai/dramatic_555997.png\n",
      "training_data/fastai/dramatic_555998.png\n",
      "training_data/fastai/dramatic_555999.png\n",
      "training_data/fastai/normal_208990.png\n",
      "training_data/fastai/normal_208991.png\n",
      "training_data/fastai/normal_208992.png\n",
      "training_data/fastai/normal_208993.png\n",
      "training_data/fastai/normal_208994.png\n",
      "training_data/fastai/normal_208995.png\n",
      "training_data/fastai/normal_208996.png\n",
      "training_data/fastai/normal_208997.png\n",
      "training_data/fastai/normal_208998.png\n",
      "training_data/fastai/normal_208999.png\n",
      "training_data/fastai/underarm_460990.png\n",
      "training_data/fastai/underarm_460991.png\n",
      "training_data/fastai/underarm_460992.png\n",
      "training_data/fastai/underarm_460993.png\n",
      "training_data/fastai/underarm_460994.png\n",
      "training_data/fastai/underarm_460995.png\n",
      "training_data/fastai/underarm_460996.png\n",
      "training_data/fastai/underarm_460997.png\n"
     ]
    },
    {
     "name": "stderr",
     "output_type": "stream",
     "text": [
      "/home/ale/anaconda3/envs/tensor20/lib/python3.6/site-packages/fastai/vision/transform.py:243: UserWarning: torch.gesv is deprecated in favour of torch.solve and will be removed in the next release. Please use torch.solve instead.\n",
      "  return torch.gesv(B,A)[0][:,0]\n",
      "/home/ale/anaconda3/envs/tensor20/lib/python3.6/site-packages/fastai/vision/transform.py:243: UserWarning: torch.gesv is deprecated in favour of torch.solve and will be removed in the next release. Please use torch.solve instead.\n",
      "  return torch.gesv(B,A)[0][:,0]\n"
     ]
    },
    {
     "name": "stdout",
     "output_type": "stream",
     "text": [
      "training_data/fastai/underarm_460998.png\n",
      "training_data/fastai/underarm_460999.png\n",
      "training_data/fastai/normal_815990.png\n",
      "training_data/fastai/normal_815991.png\n",
      "training_data/fastai/normal_815992.png\n",
      "training_data/fastai/normal_815993.png\n",
      "training_data/fastai/normal_815994.png\n",
      "training_data/fastai/normal_815995.png\n",
      "training_data/fastai/normal_815996.png\n",
      "training_data/fastai/normal_815997.png\n",
      "training_data/fastai/normal_815998.png\n",
      "training_data/fastai/normal_815999.png\n",
      "training_data/fastai/wings_423990.png\n",
      "training_data/fastai/wings_423991.png\n",
      "training_data/fastai/wings_423992.png\n",
      "training_data/fastai/wings_423993.png\n",
      "training_data/fastai/wings_423994.png\n"
     ]
    },
    {
     "name": "stderr",
     "output_type": "stream",
     "text": [
      "/home/ale/anaconda3/envs/tensor20/lib/python3.6/site-packages/fastai/vision/transform.py:243: UserWarning: torch.gesv is deprecated in favour of torch.solve and will be removed in the next release. Please use torch.solve instead.\n",
      "  return torch.gesv(B,A)[0][:,0]\n",
      "/home/ale/anaconda3/envs/tensor20/lib/python3.6/site-packages/fastai/vision/transform.py:243: UserWarning: torch.gesv is deprecated in favour of torch.solve and will be removed in the next release. Please use torch.solve instead.\n",
      "  return torch.gesv(B,A)[0][:,0]\n"
     ]
    },
    {
     "name": "stdout",
     "output_type": "stream",
     "text": [
      "training_data/fastai/wings_423995.png\n",
      "training_data/fastai/wings_423996.png\n",
      "training_data/fastai/wings_423997.png\n",
      "training_data/fastai/wings_423998.png\n",
      "training_data/fastai/wings_423999.png\n",
      "training_data/fastai/backpack_526990.png\n",
      "training_data/fastai/backpack_526991.png\n",
      "training_data/fastai/backpack_526992.png\n",
      "training_data/fastai/backpack_526993.png\n",
      "training_data/fastai/backpack_526994.png\n",
      "training_data/fastai/backpack_526995.png\n",
      "training_data/fastai/backpack_526996.png\n",
      "training_data/fastai/backpack_526997.png\n",
      "training_data/fastai/backpack_526998.png\n",
      "training_data/fastai/backpack_526999.png\n",
      "training_data/fastai/fly_437990.png\n"
     ]
    },
    {
     "name": "stderr",
     "output_type": "stream",
     "text": [
      "/home/ale/anaconda3/envs/tensor20/lib/python3.6/site-packages/fastai/vision/transform.py:243: UserWarning: torch.gesv is deprecated in favour of torch.solve and will be removed in the next release. Please use torch.solve instead.\n",
      "  return torch.gesv(B,A)[0][:,0]\n"
     ]
    },
    {
     "name": "stdout",
     "output_type": "stream",
     "text": [
      "training_data/fastai/fly_437991.png\n",
      "training_data/fastai/fly_437992.png\n",
      "training_data/fastai/fly_437993.png\n",
      "training_data/fastai/fly_437994.png\n",
      "training_data/fastai/fly_437995.png\n",
      "training_data/fastai/fly_437996.png\n",
      "training_data/fastai/fly_437997.png\n",
      "training_data/fastai/fly_437998.png\n",
      "training_data/fastai/fly_437999.png\n",
      "training_data/fastai/dramatic_1251990.png\n",
      "training_data/fastai/dramatic_1251991.png\n",
      "training_data/fastai/dramatic_1251992.png\n",
      "training_data/fastai/dramatic_1251993.png\n",
      "training_data/fastai/dramatic_1251994.png\n",
      "training_data/fastai/dramatic_1251995.png\n",
      "training_data/fastai/dramatic_1251996.png\n",
      "training_data/fastai/dramatic_1251997.png\n"
     ]
    },
    {
     "name": "stderr",
     "output_type": "stream",
     "text": [
      "/home/ale/anaconda3/envs/tensor20/lib/python3.6/site-packages/fastai/vision/transform.py:243: UserWarning: torch.gesv is deprecated in favour of torch.solve and will be removed in the next release. Please use torch.solve instead.\n",
      "  return torch.gesv(B,A)[0][:,0]\n"
     ]
    },
    {
     "name": "stdout",
     "output_type": "stream",
     "text": [
      "training_data/fastai/dramatic_1251998.png\n",
      "training_data/fastai/dramatic_1251999.png\n",
      "training_data/fastai/dramatic_133990.png\n",
      "training_data/fastai/dramatic_133991.png\n",
      "training_data/fastai/dramatic_133992.png\n",
      "training_data/fastai/dramatic_133993.png\n",
      "training_data/fastai/dramatic_133994.png\n",
      "training_data/fastai/dramatic_133995.png\n",
      "training_data/fastai/dramatic_133996.png\n"
     ]
    },
    {
     "name": "stderr",
     "output_type": "stream",
     "text": [
      "/home/ale/anaconda3/envs/tensor20/lib/python3.6/site-packages/fastai/vision/transform.py:243: UserWarning: torch.gesv is deprecated in favour of torch.solve and will be removed in the next release. Please use torch.solve instead.\n",
      "  return torch.gesv(B,A)[0][:,0]\n"
     ]
    },
    {
     "name": "stdout",
     "output_type": "stream",
     "text": [
      "training_data/fastai/dramatic_133997.png\n",
      "training_data/fastai/dramatic_133998.png\n",
      "training_data/fastai/dramatic_133999.png\n",
      "training_data/fastai/moonwalk_1211990.png\n",
      "training_data/fastai/moonwalk_1211991.png\n",
      "training_data/fastai/moonwalk_1211992.png\n",
      "training_data/fastai/moonwalk_1211993.png\n",
      "training_data/fastai/moonwalk_1211994.png\n",
      "training_data/fastai/moonwalk_1211995.png\n",
      "training_data/fastai/moonwalk_1211996.png\n",
      "training_data/fastai/moonwalk_1211997.png\n"
     ]
    },
    {
     "name": "stderr",
     "output_type": "stream",
     "text": [
      "/home/ale/anaconda3/envs/tensor20/lib/python3.6/site-packages/fastai/vision/transform.py:243: UserWarning: torch.gesv is deprecated in favour of torch.solve and will be removed in the next release. Please use torch.solve instead.\n",
      "  return torch.gesv(B,A)[0][:,0]\n",
      "/home/ale/anaconda3/envs/tensor20/lib/python3.6/site-packages/fastai/vision/transform.py:243: UserWarning: torch.gesv is deprecated in favour of torch.solve and will be removed in the next release. Please use torch.solve instead.\n",
      "  return torch.gesv(B,A)[0][:,0]\n"
     ]
    },
    {
     "name": "stdout",
     "output_type": "stream",
     "text": [
      "training_data/fastai/moonwalk_1211998.png\n",
      "training_data/fastai/moonwalk_1211999.png\n",
      "training_data/fastai/dramatic_293990.png\n",
      "training_data/fastai/dramatic_293991.png\n",
      "training_data/fastai/dramatic_293992.png\n",
      "training_data/fastai/dramatic_293993.png\n",
      "training_data/fastai/dramatic_293994.png\n",
      "training_data/fastai/dramatic_293995.png\n",
      "training_data/fastai/dramatic_293996.png\n",
      "training_data/fastai/dramatic_293997.png\n",
      "training_data/fastai/dramatic_293998.png\n",
      "training_data/fastai/dramatic_293999.png\n",
      "training_data/fastai/moonwalk_1229990.png\n",
      "training_data/fastai/moonwalk_1229991.png\n",
      "training_data/fastai/moonwalk_1229992.png\n"
     ]
    },
    {
     "name": "stderr",
     "output_type": "stream",
     "text": [
      "/home/ale/anaconda3/envs/tensor20/lib/python3.6/site-packages/fastai/vision/transform.py:243: UserWarning: torch.gesv is deprecated in favour of torch.solve and will be removed in the next release. Please use torch.solve instead.\n",
      "  return torch.gesv(B,A)[0][:,0]\n"
     ]
    },
    {
     "name": "stdout",
     "output_type": "stream",
     "text": [
      "training_data/fastai/moonwalk_1229993.png\n",
      "training_data/fastai/moonwalk_1229994.png\n",
      "training_data/fastai/moonwalk_1229995.png\n",
      "training_data/fastai/moonwalk_1229996.png\n",
      "training_data/fastai/moonwalk_1229997.png\n",
      "training_data/fastai/moonwalk_1229998.png\n",
      "training_data/fastai/moonwalk_1229999.png\n",
      "training_data/fastai/backpack_533990.png\n",
      "training_data/fastai/backpack_533991.png\n",
      "training_data/fastai/backpack_533992.png\n",
      "training_data/fastai/backpack_533993.png\n",
      "training_data/fastai/backpack_533994.png\n",
      "training_data/fastai/backpack_533995.png\n",
      "training_data/fastai/backpack_533996.png\n",
      "training_data/fastai/backpack_533997.png\n",
      "training_data/fastai/backpack_533998.png\n",
      "training_data/fastai/backpack_533999.png\n"
     ]
    },
    {
     "name": "stderr",
     "output_type": "stream",
     "text": [
      "/home/ale/anaconda3/envs/tensor20/lib/python3.6/site-packages/fastai/vision/transform.py:243: UserWarning: torch.gesv is deprecated in favour of torch.solve and will be removed in the next release. Please use torch.solve instead.\n",
      "  return torch.gesv(B,A)[0][:,0]\n"
     ]
    },
    {
     "name": "stdout",
     "output_type": "stream",
     "text": [
      "training_data/fastai/hadouken_1239990.png\n",
      "training_data/fastai/hadouken_1239991.png\n",
      "training_data/fastai/hadouken_1239992.png\n",
      "training_data/fastai/hadouken_1239993.png\n",
      "training_data/fastai/hadouken_1239994.png\n",
      "training_data/fastai/hadouken_1239995.png\n",
      "training_data/fastai/hadouken_1239996.png\n",
      "training_data/fastai/hadouken_1239997.png\n"
     ]
    },
    {
     "name": "stderr",
     "output_type": "stream",
     "text": [
      "/home/ale/anaconda3/envs/tensor20/lib/python3.6/site-packages/fastai/vision/transform.py:243: UserWarning: torch.gesv is deprecated in favour of torch.solve and will be removed in the next release. Please use torch.solve instead.\n",
      "  return torch.gesv(B,A)[0][:,0]\n"
     ]
    },
    {
     "name": "stdout",
     "output_type": "stream",
     "text": [
      "training_data/fastai/hadouken_1239998.png\n",
      "training_data/fastai/hadouken_1239999.png\n",
      "training_data/fastai/underarm_70990.png\n",
      "training_data/fastai/underarm_70991.png\n",
      "training_data/fastai/underarm_70992.png\n",
      "training_data/fastai/underarm_70993.png\n",
      "training_data/fastai/underarm_70994.png\n",
      "training_data/fastai/underarm_70995.png\n"
     ]
    },
    {
     "name": "stderr",
     "output_type": "stream",
     "text": [
      "/home/ale/anaconda3/envs/tensor20/lib/python3.6/site-packages/fastai/vision/transform.py:243: UserWarning: torch.gesv is deprecated in favour of torch.solve and will be removed in the next release. Please use torch.solve instead.\n",
      "  return torch.gesv(B,A)[0][:,0]\n"
     ]
    },
    {
     "name": "stdout",
     "output_type": "stream",
     "text": [
      "training_data/fastai/underarm_70996.png\n",
      "training_data/fastai/underarm_70997.png\n",
      "training_data/fastai/underarm_70998.png\n",
      "training_data/fastai/underarm_70999.png\n",
      "training_data/fastai/wings_831990.png\n",
      "training_data/fastai/wings_831991.png\n",
      "training_data/fastai/wings_831992.png\n",
      "training_data/fastai/wings_831993.png\n"
     ]
    },
    {
     "name": "stderr",
     "output_type": "stream",
     "text": [
      "/home/ale/anaconda3/envs/tensor20/lib/python3.6/site-packages/fastai/vision/transform.py:243: UserWarning: torch.gesv is deprecated in favour of torch.solve and will be removed in the next release. Please use torch.solve instead.\n",
      "  return torch.gesv(B,A)[0][:,0]\n"
     ]
    },
    {
     "name": "stdout",
     "output_type": "stream",
     "text": [
      "training_data/fastai/wings_831994.png\n",
      "training_data/fastai/wings_831995.png\n",
      "training_data/fastai/wings_831996.png\n",
      "training_data/fastai/wings_831997.png\n",
      "training_data/fastai/wings_831998.png\n",
      "training_data/fastai/wings_831999.png\n",
      "training_data/fastai/underarm_72990.png\n",
      "training_data/fastai/underarm_72991.png\n",
      "training_data/fastai/underarm_72992.png\n"
     ]
    },
    {
     "name": "stderr",
     "output_type": "stream",
     "text": [
      "/home/ale/anaconda3/envs/tensor20/lib/python3.6/site-packages/fastai/vision/transform.py:243: UserWarning: torch.gesv is deprecated in favour of torch.solve and will be removed in the next release. Please use torch.solve instead.\n",
      "  return torch.gesv(B,A)[0][:,0]\n"
     ]
    },
    {
     "name": "stdout",
     "output_type": "stream",
     "text": [
      "training_data/fastai/underarm_72993.png\n",
      "training_data/fastai/underarm_72994.png\n",
      "training_data/fastai/underarm_72995.png\n",
      "training_data/fastai/underarm_72996.png\n",
      "training_data/fastai/underarm_72997.png\n",
      "training_data/fastai/underarm_72998.png\n",
      "training_data/fastai/underarm_72999.png\n",
      "training_data/fastai/hadouken_518990.png\n",
      "training_data/fastai/hadouken_518991.png\n",
      "training_data/fastai/hadouken_518992.png\n",
      "training_data/fastai/hadouken_518993.png\n",
      "training_data/fastai/hadouken_518994.png\n",
      "training_data/fastai/hadouken_518995.png\n",
      "training_data/fastai/hadouken_518996.png\n",
      "training_data/fastai/hadouken_518997.png\n",
      "training_data/fastai/hadouken_518998.png\n"
     ]
    },
    {
     "name": "stderr",
     "output_type": "stream",
     "text": [
      "/home/ale/anaconda3/envs/tensor20/lib/python3.6/site-packages/fastai/vision/transform.py:243: UserWarning: torch.gesv is deprecated in favour of torch.solve and will be removed in the next release. Please use torch.solve instead.\n",
      "  return torch.gesv(B,A)[0][:,0]\n",
      "/home/ale/anaconda3/envs/tensor20/lib/python3.6/site-packages/fastai/vision/transform.py:243: UserWarning: torch.gesv is deprecated in favour of torch.solve and will be removed in the next release. Please use torch.solve instead.\n",
      "  return torch.gesv(B,A)[0][:,0]\n"
     ]
    },
    {
     "name": "stdout",
     "output_type": "stream",
     "text": [
      "training_data/fastai/hadouken_518999.png\n",
      "training_data/fastai/fly_843990.png\n",
      "training_data/fastai/fly_843991.png\n",
      "training_data/fastai/fly_843992.png\n",
      "training_data/fastai/fly_843993.png\n",
      "training_data/fastai/fly_843994.png\n",
      "training_data/fastai/fly_843995.png\n",
      "training_data/fastai/fly_843996.png\n",
      "training_data/fastai/fly_843997.png\n",
      "training_data/fastai/fly_843998.png\n",
      "training_data/fastai/fly_843999.png\n",
      "training_data/fastai/fly_444990.png\n",
      "training_data/fastai/fly_444991.png\n",
      "training_data/fastai/fly_444992.png\n",
      "training_data/fastai/fly_444993.png\n",
      "training_data/fastai/fly_444994.png\n",
      "training_data/fastai/fly_444995.png\n",
      "training_data/fastai/fly_444996.png\n"
     ]
    },
    {
     "name": "stderr",
     "output_type": "stream",
     "text": [
      "/home/ale/anaconda3/envs/tensor20/lib/python3.6/site-packages/fastai/vision/transform.py:243: UserWarning: torch.gesv is deprecated in favour of torch.solve and will be removed in the next release. Please use torch.solve instead.\n",
      "  return torch.gesv(B,A)[0][:,0]\n"
     ]
    },
    {
     "name": "stdout",
     "output_type": "stream",
     "text": [
      "training_data/fastai/fly_444997.png\n",
      "training_data/fastai/fly_444998.png\n",
      "training_data/fastai/fly_444999.png\n",
      "training_data/fastai/dramatic_569990.png\n",
      "training_data/fastai/dramatic_569991.png\n",
      "training_data/fastai/dramatic_569992.png\n",
      "training_data/fastai/dramatic_569993.png\n",
      "training_data/fastai/dramatic_569994.png\n"
     ]
    },
    {
     "name": "stderr",
     "output_type": "stream",
     "text": [
      "/home/ale/anaconda3/envs/tensor20/lib/python3.6/site-packages/fastai/vision/transform.py:243: UserWarning: torch.gesv is deprecated in favour of torch.solve and will be removed in the next release. Please use torch.solve instead.\n",
      "  return torch.gesv(B,A)[0][:,0]\n"
     ]
    },
    {
     "name": "stdout",
     "output_type": "stream",
     "text": [
      "training_data/fastai/dramatic_569995.png\n",
      "training_data/fastai/dramatic_569996.png\n",
      "training_data/fastai/dramatic_569997.png\n",
      "training_data/fastai/dramatic_569998.png\n",
      "training_data/fastai/dramatic_569999.png\n",
      "training_data/fastai/underarm_868990.png\n",
      "training_data/fastai/underarm_868991.png\n",
      "training_data/fastai/underarm_868992.png\n"
     ]
    },
    {
     "name": "stderr",
     "output_type": "stream",
     "text": [
      "/home/ale/anaconda3/envs/tensor20/lib/python3.6/site-packages/fastai/vision/transform.py:243: UserWarning: torch.gesv is deprecated in favour of torch.solve and will be removed in the next release. Please use torch.solve instead.\n",
      "  return torch.gesv(B,A)[0][:,0]\n"
     ]
    },
    {
     "name": "stdout",
     "output_type": "stream",
     "text": [
      "training_data/fastai/underarm_868993.png\n",
      "training_data/fastai/underarm_868994.png\n",
      "training_data/fastai/underarm_868995.png\n",
      "training_data/fastai/underarm_868996.png\n",
      "training_data/fastai/underarm_868997.png\n",
      "training_data/fastai/underarm_868998.png\n",
      "training_data/fastai/underarm_868999.png\n",
      "training_data/fastai/normal_209990.png\n",
      "training_data/fastai/normal_209991.png\n",
      "training_data/fastai/normal_209992.png\n",
      "training_data/fastai/normal_209993.png\n",
      "training_data/fastai/normal_209994.png\n",
      "training_data/fastai/normal_209995.png\n",
      "training_data/fastai/normal_209996.png\n",
      "training_data/fastai/normal_209997.png\n",
      "training_data/fastai/normal_209998.png\n"
     ]
    },
    {
     "name": "stderr",
     "output_type": "stream",
     "text": [
      "/home/ale/anaconda3/envs/tensor20/lib/python3.6/site-packages/fastai/vision/transform.py:243: UserWarning: torch.gesv is deprecated in favour of torch.solve and will be removed in the next release. Please use torch.solve instead.\n",
      "  return torch.gesv(B,A)[0][:,0]\n"
     ]
    },
    {
     "name": "stdout",
     "output_type": "stream",
     "text": [
      "training_data/fastai/normal_209999.png\n",
      "training_data/fastai/underarm_873990.png\n",
      "training_data/fastai/underarm_873991.png\n",
      "training_data/fastai/underarm_873992.png\n",
      "training_data/fastai/underarm_873993.png\n",
      "training_data/fastai/underarm_873994.png\n",
      "training_data/fastai/underarm_873995.png\n",
      "training_data/fastai/underarm_873996.png\n"
     ]
    },
    {
     "name": "stderr",
     "output_type": "stream",
     "text": [
      "/home/ale/anaconda3/envs/tensor20/lib/python3.6/site-packages/fastai/vision/transform.py:243: UserWarning: torch.gesv is deprecated in favour of torch.solve and will be removed in the next release. Please use torch.solve instead.\n",
      "  return torch.gesv(B,A)[0][:,0]\n"
     ]
    },
    {
     "name": "stdout",
     "output_type": "stream",
     "text": [
      "training_data/fastai/underarm_873997.png\n",
      "training_data/fastai/underarm_873998.png\n",
      "training_data/fastai/underarm_873999.png\n",
      "training_data/fastai/dramatic_940990.png\n",
      "training_data/fastai/dramatic_940991.png\n",
      "training_data/fastai/dramatic_940992.png\n",
      "training_data/fastai/dramatic_940993.png\n",
      "training_data/fastai/dramatic_940994.png\n",
      "training_data/fastai/dramatic_940995.png\n"
     ]
    },
    {
     "name": "stderr",
     "output_type": "stream",
     "text": [
      "/home/ale/anaconda3/envs/tensor20/lib/python3.6/site-packages/fastai/vision/transform.py:243: UserWarning: torch.gesv is deprecated in favour of torch.solve and will be removed in the next release. Please use torch.solve instead.\n",
      "  return torch.gesv(B,A)[0][:,0]\n"
     ]
    },
    {
     "name": "stdout",
     "output_type": "stream",
     "text": [
      "training_data/fastai/dramatic_940996.png\n",
      "training_data/fastai/dramatic_940997.png\n",
      "training_data/fastai/dramatic_940998.png\n",
      "training_data/fastai/dramatic_940999.png\n",
      "training_data/fastai/normal_402990.png\n",
      "training_data/fastai/normal_402991.png\n",
      "training_data/fastai/normal_402992.png\n",
      "training_data/fastai/normal_402993.png\n"
     ]
    },
    {
     "name": "stderr",
     "output_type": "stream",
     "text": [
      "/home/ale/anaconda3/envs/tensor20/lib/python3.6/site-packages/fastai/vision/transform.py:243: UserWarning: torch.gesv is deprecated in favour of torch.solve and will be removed in the next release. Please use torch.solve instead.\n",
      "  return torch.gesv(B,A)[0][:,0]\n"
     ]
    },
    {
     "name": "stdout",
     "output_type": "stream",
     "text": [
      "training_data/fastai/normal_402994.png\n",
      "training_data/fastai/normal_402995.png\n",
      "training_data/fastai/normal_402996.png\n",
      "training_data/fastai/normal_402997.png\n",
      "training_data/fastai/normal_402998.png\n",
      "training_data/fastai/normal_402999.png\n",
      "training_data/fastai/dramatic_933990.png\n",
      "training_data/fastai/dramatic_933991.png\n",
      "training_data/fastai/dramatic_933992.png\n",
      "training_data/fastai/dramatic_933993.png\n",
      "training_data/fastai/dramatic_933994.png\n",
      "training_data/fastai/dramatic_933995.png\n",
      "training_data/fastai/dramatic_933996.png\n",
      "training_data/fastai/dramatic_933997.png\n",
      "training_data/fastai/dramatic_933998.png\n",
      "training_data/fastai/dramatic_933999.png\n",
      "training_data/fastai/wings_32990.png\n",
      "training_data/fastai/wings_32991.png\n"
     ]
    },
    {
     "name": "stderr",
     "output_type": "stream",
     "text": [
      "/home/ale/anaconda3/envs/tensor20/lib/python3.6/site-packages/fastai/vision/transform.py:243: UserWarning: torch.gesv is deprecated in favour of torch.solve and will be removed in the next release. Please use torch.solve instead.\n",
      "  return torch.gesv(B,A)[0][:,0]\n"
     ]
    },
    {
     "name": "stdout",
     "output_type": "stream",
     "text": [
      "training_data/fastai/wings_32992.png\n",
      "training_data/fastai/wings_32993.png\n",
      "training_data/fastai/wings_32994.png\n",
      "training_data/fastai/wings_32995.png\n",
      "training_data/fastai/wings_32996.png\n",
      "training_data/fastai/wings_32997.png\n",
      "training_data/fastai/wings_32998.png\n",
      "training_data/fastai/wings_32999.png\n"
     ]
    },
    {
     "name": "stderr",
     "output_type": "stream",
     "text": [
      "/home/ale/anaconda3/envs/tensor20/lib/python3.6/site-packages/fastai/vision/transform.py:243: UserWarning: torch.gesv is deprecated in favour of torch.solve and will be removed in the next release. Please use torch.solve instead.\n",
      "  return torch.gesv(B,A)[0][:,0]\n",
      "/home/ale/anaconda3/envs/tensor20/lib/python3.6/site-packages/fastai/vision/transform.py:243: UserWarning: torch.gesv is deprecated in favour of torch.solve and will be removed in the next release. Please use torch.solve instead.\n",
      "  return torch.gesv(B,A)[0][:,0]\n"
     ]
    },
    {
     "name": "stdout",
     "output_type": "stream",
     "text": [
      "training_data/fastai/normal_6990.png\n",
      "training_data/fastai/normal_6991.png\n",
      "training_data/fastai/normal_6992.png\n",
      "training_data/fastai/normal_6993.png\n",
      "training_data/fastai/normal_6994.png\n",
      "training_data/fastai/normal_6995.png\n",
      "training_data/fastai/normal_6996.png\n",
      "training_data/fastai/normal_6997.png\n",
      "training_data/fastai/normal_6998.png\n",
      "training_data/fastai/normal_6999.png\n",
      "training_data/fastai/dramatic_129990.png\n",
      "training_data/fastai/dramatic_129991.png\n",
      "training_data/fastai/dramatic_129992.png\n",
      "training_data/fastai/dramatic_129993.png\n",
      "training_data/fastai/dramatic_129994.png\n",
      "training_data/fastai/dramatic_129995.png\n",
      "training_data/fastai/dramatic_129996.png\n",
      "training_data/fastai/dramatic_129997.png\n"
     ]
    },
    {
     "name": "stderr",
     "output_type": "stream",
     "text": [
      "/home/ale/anaconda3/envs/tensor20/lib/python3.6/site-packages/fastai/vision/transform.py:243: UserWarning: torch.gesv is deprecated in favour of torch.solve and will be removed in the next release. Please use torch.solve instead.\n",
      "  return torch.gesv(B,A)[0][:,0]\n"
     ]
    },
    {
     "name": "stdout",
     "output_type": "stream",
     "text": [
      "training_data/fastai/dramatic_129998.png\n",
      "training_data/fastai/dramatic_129999.png\n",
      "training_data/fastai/wings_820990.png\n",
      "training_data/fastai/wings_820991.png\n",
      "training_data/fastai/wings_820992.png\n",
      "training_data/fastai/wings_820993.png\n",
      "training_data/fastai/wings_820994.png\n",
      "training_data/fastai/wings_820995.png\n",
      "training_data/fastai/wings_820996.png\n"
     ]
    },
    {
     "name": "stderr",
     "output_type": "stream",
     "text": [
      "/home/ale/anaconda3/envs/tensor20/lib/python3.6/site-packages/fastai/vision/transform.py:243: UserWarning: torch.gesv is deprecated in favour of torch.solve and will be removed in the next release. Please use torch.solve instead.\n",
      "  return torch.gesv(B,A)[0][:,0]\n"
     ]
    },
    {
     "name": "stdout",
     "output_type": "stream",
     "text": [
      "training_data/fastai/wings_820997.png\n",
      "training_data/fastai/wings_820998.png\n",
      "training_data/fastai/wings_820999.png\n",
      "training_data/fastai/normal_800990.png\n",
      "training_data/fastai/normal_800991.png\n",
      "training_data/fastai/normal_800992.png\n",
      "training_data/fastai/normal_800993.png\n",
      "training_data/fastai/normal_800994.png\n",
      "training_data/fastai/normal_800995.png\n",
      "training_data/fastai/normal_800996.png\n"
     ]
    },
    {
     "name": "stderr",
     "output_type": "stream",
     "text": [
      "/home/ale/anaconda3/envs/tensor20/lib/python3.6/site-packages/fastai/vision/transform.py:243: UserWarning: torch.gesv is deprecated in favour of torch.solve and will be removed in the next release. Please use torch.solve instead.\n",
      "  return torch.gesv(B,A)[0][:,0]\n",
      "/home/ale/anaconda3/envs/tensor20/lib/python3.6/site-packages/fastai/vision/transform.py:243: UserWarning: torch.gesv is deprecated in favour of torch.solve and will be removed in the next release. Please use torch.solve instead.\n",
      "  return torch.gesv(B,A)[0][:,0]\n"
     ]
    },
    {
     "name": "stdout",
     "output_type": "stream",
     "text": [
      "training_data/fastai/normal_800997.png\n",
      "training_data/fastai/normal_800998.png\n",
      "training_data/fastai/normal_800999.png\n",
      "training_data/fastai/wings_419990.png\n",
      "training_data/fastai/wings_419991.png\n",
      "training_data/fastai/wings_419992.png\n",
      "training_data/fastai/wings_419993.png\n",
      "training_data/fastai/wings_419994.png\n",
      "training_data/fastai/wings_419995.png\n",
      "training_data/fastai/wings_419996.png\n",
      "training_data/fastai/wings_419997.png\n",
      "training_data/fastai/wings_419998.png\n",
      "training_data/fastai/wings_419999.png\n",
      "training_data/fastai/backpack_109990.png\n",
      "training_data/fastai/backpack_109991.png\n",
      "training_data/fastai/backpack_109992.png\n",
      "training_data/fastai/backpack_109993.png\n"
     ]
    },
    {
     "name": "stderr",
     "output_type": "stream",
     "text": [
      "/home/ale/anaconda3/envs/tensor20/lib/python3.6/site-packages/fastai/vision/transform.py:243: UserWarning: torch.gesv is deprecated in favour of torch.solve and will be removed in the next release. Please use torch.solve instead.\n",
      "  return torch.gesv(B,A)[0][:,0]\n"
     ]
    },
    {
     "name": "stdout",
     "output_type": "stream",
     "text": [
      "training_data/fastai/backpack_109994.png\n",
      "training_data/fastai/backpack_109995.png\n",
      "training_data/fastai/backpack_109996.png\n",
      "training_data/fastai/backpack_109997.png\n",
      "training_data/fastai/backpack_109998.png\n",
      "training_data/fastai/backpack_109999.png\n",
      "training_data/fastai/fly_49990.png\n",
      "training_data/fastai/fly_49991.png\n",
      "training_data/fastai/fly_49992.png\n"
     ]
    },
    {
     "name": "stderr",
     "output_type": "stream",
     "text": [
      "/home/ale/anaconda3/envs/tensor20/lib/python3.6/site-packages/fastai/vision/transform.py:243: UserWarning: torch.gesv is deprecated in favour of torch.solve and will be removed in the next release. Please use torch.solve instead.\n",
      "  return torch.gesv(B,A)[0][:,0]\n"
     ]
    },
    {
     "name": "stdout",
     "output_type": "stream",
     "text": [
      "training_data/fastai/fly_49993.png\n",
      "training_data/fastai/fly_49994.png\n",
      "training_data/fastai/fly_49995.png\n",
      "training_data/fastai/fly_49996.png\n",
      "training_data/fastai/fly_49997.png\n",
      "training_data/fastai/fly_49998.png\n",
      "training_data/fastai/fly_49999.png\n",
      "training_data/fastai/underarm_62990.png\n",
      "training_data/fastai/underarm_62991.png\n",
      "training_data/fastai/underarm_62992.png\n",
      "training_data/fastai/underarm_62993.png\n",
      "training_data/fastai/underarm_62994.png\n",
      "training_data/fastai/underarm_62995.png\n",
      "training_data/fastai/underarm_62996.png\n",
      "training_data/fastai/underarm_62997.png\n",
      "training_data/fastai/underarm_62998.png\n",
      "training_data/fastai/underarm_62999.png\n"
     ]
    },
    {
     "name": "stderr",
     "output_type": "stream",
     "text": [
      "/home/ale/anaconda3/envs/tensor20/lib/python3.6/site-packages/fastai/vision/transform.py:243: UserWarning: torch.gesv is deprecated in favour of torch.solve and will be removed in the next release. Please use torch.solve instead.\n",
      "  return torch.gesv(B,A)[0][:,0]\n",
      "/home/ale/anaconda3/envs/tensor20/lib/python3.6/site-packages/fastai/vision/transform.py:243: UserWarning: torch.gesv is deprecated in favour of torch.solve and will be removed in the next release. Please use torch.solve instead.\n",
      "  return torch.gesv(B,A)[0][:,0]\n"
     ]
    },
    {
     "name": "stdout",
     "output_type": "stream",
     "text": [
      "training_data/fastai/dramatic_126990.png\n",
      "training_data/fastai/dramatic_126991.png\n",
      "training_data/fastai/dramatic_126992.png\n",
      "training_data/fastai/dramatic_126993.png\n",
      "training_data/fastai/dramatic_126994.png\n",
      "training_data/fastai/dramatic_126995.png\n",
      "training_data/fastai/dramatic_126996.png\n",
      "training_data/fastai/dramatic_126997.png\n",
      "training_data/fastai/dramatic_126998.png\n",
      "training_data/fastai/dramatic_126999.png\n",
      "training_data/fastai/fly_451990.png\n",
      "training_data/fastai/fly_451991.png\n",
      "training_data/fastai/fly_451992.png\n",
      "training_data/fastai/fly_451993.png\n",
      "training_data/fastai/fly_451994.png\n",
      "training_data/fastai/fly_451995.png\n"
     ]
    },
    {
     "name": "stderr",
     "output_type": "stream",
     "text": [
      "/home/ale/anaconda3/envs/tensor20/lib/python3.6/site-packages/fastai/vision/transform.py:243: UserWarning: torch.gesv is deprecated in favour of torch.solve and will be removed in the next release. Please use torch.solve instead.\n",
      "  return torch.gesv(B,A)[0][:,0]\n"
     ]
    },
    {
     "name": "stdout",
     "output_type": "stream",
     "text": [
      "training_data/fastai/fly_451996.png\n",
      "training_data/fastai/fly_451997.png\n",
      "training_data/fastai/fly_451998.png\n",
      "training_data/fastai/fly_451999.png\n",
      "training_data/fastai/backpack_108990.png\n",
      "training_data/fastai/backpack_108991.png\n",
      "training_data/fastai/backpack_108992.png\n",
      "training_data/fastai/backpack_108993.png\n"
     ]
    },
    {
     "name": "stderr",
     "output_type": "stream",
     "text": [
      "/home/ale/anaconda3/envs/tensor20/lib/python3.6/site-packages/fastai/vision/transform.py:243: UserWarning: torch.gesv is deprecated in favour of torch.solve and will be removed in the next release. Please use torch.solve instead.\n",
      "  return torch.gesv(B,A)[0][:,0]\n"
     ]
    },
    {
     "name": "stdout",
     "output_type": "stream",
     "text": [
      "training_data/fastai/backpack_108994.png\n",
      "training_data/fastai/backpack_108995.png\n",
      "training_data/fastai/backpack_108996.png\n",
      "training_data/fastai/backpack_108997.png\n",
      "training_data/fastai/backpack_108998.png\n",
      "training_data/fastai/backpack_108999.png\n",
      "training_data/fastai/fly_855990.png\n",
      "training_data/fastai/fly_855991.png\n"
     ]
    },
    {
     "name": "stderr",
     "output_type": "stream",
     "text": [
      "/home/ale/anaconda3/envs/tensor20/lib/python3.6/site-packages/fastai/vision/transform.py:243: UserWarning: torch.gesv is deprecated in favour of torch.solve and will be removed in the next release. Please use torch.solve instead.\n",
      "  return torch.gesv(B,A)[0][:,0]\n"
     ]
    },
    {
     "name": "stdout",
     "output_type": "stream",
     "text": [
      "training_data/fastai/fly_855992.png\n",
      "training_data/fastai/fly_855993.png\n",
      "training_data/fastai/fly_855994.png\n",
      "training_data/fastai/fly_855995.png\n",
      "training_data/fastai/fly_855996.png\n",
      "training_data/fastai/fly_855997.png\n",
      "training_data/fastai/fly_855998.png\n",
      "training_data/fastai/fly_855999.png\n",
      "training_data/fastai/normal_412990.png\n",
      "training_data/fastai/normal_412991.png\n",
      "training_data/fastai/normal_412992.png\n",
      "training_data/fastai/normal_412993.png\n",
      "training_data/fastai/normal_412994.png\n",
      "training_data/fastai/normal_412995.png\n",
      "training_data/fastai/normal_412996.png\n",
      "training_data/fastai/normal_412997.png\n"
     ]
    },
    {
     "name": "stderr",
     "output_type": "stream",
     "text": [
      "/home/ale/anaconda3/envs/tensor20/lib/python3.6/site-packages/fastai/vision/transform.py:243: UserWarning: torch.gesv is deprecated in favour of torch.solve and will be removed in the next release. Please use torch.solve instead.\n",
      "  return torch.gesv(B,A)[0][:,0]\n"
     ]
    },
    {
     "name": "stdout",
     "output_type": "stream",
     "text": [
      "training_data/fastai/normal_412998.png\n",
      "training_data/fastai/normal_412999.png\n",
      "training_data/fastai/normal_817990.png\n",
      "training_data/fastai/normal_817991.png\n",
      "training_data/fastai/normal_817992.png\n",
      "training_data/fastai/normal_817993.png\n",
      "training_data/fastai/normal_817994.png\n",
      "training_data/fastai/normal_817995.png\n",
      "training_data/fastai/normal_817996.png\n"
     ]
    },
    {
     "name": "stderr",
     "output_type": "stream",
     "text": [
      "/home/ale/anaconda3/envs/tensor20/lib/python3.6/site-packages/fastai/vision/transform.py:243: UserWarning: torch.gesv is deprecated in favour of torch.solve and will be removed in the next release. Please use torch.solve instead.\n",
      "  return torch.gesv(B,A)[0][:,0]\n"
     ]
    },
    {
     "name": "stdout",
     "output_type": "stream",
     "text": [
      "training_data/fastai/normal_817997.png\n",
      "training_data/fastai/normal_817998.png\n",
      "training_data/fastai/normal_817999.png\n",
      "training_data/fastai/normal_210990.png\n",
      "training_data/fastai/normal_210991.png\n",
      "training_data/fastai/normal_210992.png\n",
      "training_data/fastai/normal_210993.png\n",
      "training_data/fastai/normal_210994.png\n",
      "training_data/fastai/normal_210995.png\n",
      "training_data/fastai/normal_210996.png\n",
      "training_data/fastai/normal_210997.png\n",
      "training_data/fastai/normal_210998.png\n",
      "training_data/fastai/normal_210999.png\n",
      "training_data/fastai/underarm_470990.png\n",
      "training_data/fastai/underarm_470991.png\n",
      "training_data/fastai/underarm_470992.png\n"
     ]
    },
    {
     "name": "stderr",
     "output_type": "stream",
     "text": [
      "/home/ale/anaconda3/envs/tensor20/lib/python3.6/site-packages/fastai/vision/transform.py:243: UserWarning: torch.gesv is deprecated in favour of torch.solve and will be removed in the next release. Please use torch.solve instead.\n",
      "  return torch.gesv(B,A)[0][:,0]\n",
      "/home/ale/anaconda3/envs/tensor20/lib/python3.6/site-packages/fastai/vision/transform.py:243: UserWarning: torch.gesv is deprecated in favour of torch.solve and will be removed in the next release. Please use torch.solve instead.\n",
      "  return torch.gesv(B,A)[0][:,0]\n"
     ]
    },
    {
     "name": "stdout",
     "output_type": "stream",
     "text": [
      "training_data/fastai/underarm_470993.png\n",
      "training_data/fastai/underarm_470994.png\n",
      "training_data/fastai/underarm_470995.png\n",
      "training_data/fastai/underarm_470996.png\n",
      "training_data/fastai/underarm_470997.png\n",
      "training_data/fastai/underarm_470998.png\n",
      "training_data/fastai/underarm_470999.png\n",
      "training_data/fastai/dramatic_552990.png\n",
      "training_data/fastai/dramatic_552991.png\n"
     ]
    },
    {
     "name": "stderr",
     "output_type": "stream",
     "text": [
      "/home/ale/anaconda3/envs/tensor20/lib/python3.6/site-packages/fastai/vision/transform.py:243: UserWarning: torch.gesv is deprecated in favour of torch.solve and will be removed in the next release. Please use torch.solve instead.\n",
      "  return torch.gesv(B,A)[0][:,0]\n"
     ]
    },
    {
     "name": "stdout",
     "output_type": "stream",
     "text": [
      "training_data/fastai/dramatic_552992.png\n",
      "training_data/fastai/dramatic_552993.png\n",
      "training_data/fastai/dramatic_552994.png\n",
      "training_data/fastai/dramatic_552995.png\n",
      "training_data/fastai/dramatic_552996.png\n",
      "training_data/fastai/dramatic_552997.png\n",
      "training_data/fastai/dramatic_552998.png\n",
      "training_data/fastai/dramatic_552999.png\n"
     ]
    },
    {
     "name": "stderr",
     "output_type": "stream",
     "text": [
      "/home/ale/anaconda3/envs/tensor20/lib/python3.6/site-packages/fastai/vision/transform.py:243: UserWarning: torch.gesv is deprecated in favour of torch.solve and will be removed in the next release. Please use torch.solve instead.\n",
      "  return torch.gesv(B,A)[0][:,0]\n"
     ]
    },
    {
     "name": "stdout",
     "output_type": "stream",
     "text": [
      "training_data/fastai/hadouken_507990.png\n",
      "training_data/fastai/hadouken_507991.png\n",
      "training_data/fastai/hadouken_507992.png\n",
      "training_data/fastai/hadouken_507993.png\n",
      "training_data/fastai/hadouken_507994.png\n",
      "training_data/fastai/hadouken_507995.png\n",
      "training_data/fastai/hadouken_507996.png\n",
      "training_data/fastai/hadouken_507997.png\n",
      "training_data/fastai/hadouken_507998.png\n",
      "training_data/fastai/hadouken_507999.png\n",
      "training_data/fastai/backpack_910990.png\n",
      "training_data/fastai/backpack_910991.png\n",
      "training_data/fastai/backpack_910992.png\n",
      "training_data/fastai/backpack_910993.png\n",
      "training_data/fastai/backpack_910994.png\n",
      "training_data/fastai/backpack_910995.png\n",
      "training_data/fastai/backpack_910996.png\n"
     ]
    },
    {
     "name": "stderr",
     "output_type": "stream",
     "text": [
      "/home/ale/anaconda3/envs/tensor20/lib/python3.6/site-packages/fastai/vision/transform.py:243: UserWarning: torch.gesv is deprecated in favour of torch.solve and will be removed in the next release. Please use torch.solve instead.\n",
      "  return torch.gesv(B,A)[0][:,0]\n"
     ]
    },
    {
     "name": "stdout",
     "output_type": "stream",
     "text": [
      "training_data/fastai/backpack_910997.png\n",
      "training_data/fastai/backpack_910998.png\n",
      "training_data/fastai/backpack_910999.png\n",
      "training_data/fastai/moonwalk_481990.png\n",
      "training_data/fastai/moonwalk_481991.png\n",
      "training_data/fastai/moonwalk_481992.png\n",
      "training_data/fastai/moonwalk_481993.png\n",
      "training_data/fastai/moonwalk_481994.png\n"
     ]
    },
    {
     "name": "stderr",
     "output_type": "stream",
     "text": [
      "/home/ale/anaconda3/envs/tensor20/lib/python3.6/site-packages/fastai/vision/transform.py:243: UserWarning: torch.gesv is deprecated in favour of torch.solve and will be removed in the next release. Please use torch.solve instead.\n",
      "  return torch.gesv(B,A)[0][:,0]\n"
     ]
    },
    {
     "name": "stdout",
     "output_type": "stream",
     "text": [
      "training_data/fastai/moonwalk_481995.png\n",
      "training_data/fastai/moonwalk_481996.png\n",
      "training_data/fastai/moonwalk_481997.png\n",
      "training_data/fastai/moonwalk_481998.png\n",
      "training_data/fastai/moonwalk_481999.png\n",
      "training_data/fastai/backpack_909990.png\n",
      "training_data/fastai/backpack_909991.png\n",
      "training_data/fastai/backpack_909992.png\n"
     ]
    },
    {
     "name": "stderr",
     "output_type": "stream",
     "text": [
      "/home/ale/anaconda3/envs/tensor20/lib/python3.6/site-packages/fastai/vision/transform.py:243: UserWarning: torch.gesv is deprecated in favour of torch.solve and will be removed in the next release. Please use torch.solve instead.\n",
      "  return torch.gesv(B,A)[0][:,0]\n"
     ]
    },
    {
     "name": "stdout",
     "output_type": "stream",
     "text": [
      "training_data/fastai/backpack_909993.png\n",
      "training_data/fastai/backpack_909994.png\n",
      "training_data/fastai/backpack_909995.png\n",
      "training_data/fastai/backpack_909996.png\n",
      "training_data/fastai/backpack_909997.png\n",
      "training_data/fastai/backpack_909998.png\n",
      "training_data/fastai/backpack_909999.png\n",
      "training_data/fastai/moonwalk_1219990.png\n"
     ]
    },
    {
     "name": "stderr",
     "output_type": "stream",
     "text": [
      "/home/ale/anaconda3/envs/tensor20/lib/python3.6/site-packages/fastai/vision/transform.py:243: UserWarning: torch.gesv is deprecated in favour of torch.solve and will be removed in the next release. Please use torch.solve instead.\n",
      "  return torch.gesv(B,A)[0][:,0]\n"
     ]
    },
    {
     "name": "stdout",
     "output_type": "stream",
     "text": [
      "training_data/fastai/moonwalk_1219991.png\n",
      "training_data/fastai/moonwalk_1219992.png\n",
      "training_data/fastai/moonwalk_1219993.png\n",
      "training_data/fastai/moonwalk_1219994.png\n",
      "training_data/fastai/moonwalk_1219995.png\n",
      "training_data/fastai/moonwalk_1219996.png\n",
      "training_data/fastai/moonwalk_1219997.png\n",
      "training_data/fastai/moonwalk_1219998.png\n",
      "training_data/fastai/moonwalk_1219999.png\n",
      "training_data/fastai/moonwalk_1217990.png\n",
      "training_data/fastai/moonwalk_1217991.png\n",
      "training_data/fastai/moonwalk_1217992.png\n",
      "training_data/fastai/moonwalk_1217993.png\n",
      "training_data/fastai/moonwalk_1217994.png\n",
      "training_data/fastai/moonwalk_1217995.png\n",
      "training_data/fastai/moonwalk_1217996.png\n",
      "training_data/fastai/moonwalk_1217997.png\n"
     ]
    },
    {
     "name": "stderr",
     "output_type": "stream",
     "text": [
      "/home/ale/anaconda3/envs/tensor20/lib/python3.6/site-packages/fastai/vision/transform.py:243: UserWarning: torch.gesv is deprecated in favour of torch.solve and will be removed in the next release. Please use torch.solve instead.\n",
      "  return torch.gesv(B,A)[0][:,0]\n"
     ]
    },
    {
     "name": "stdout",
     "output_type": "stream",
     "text": [
      "training_data/fastai/moonwalk_1217998.png\n",
      "training_data/fastai/moonwalk_1217999.png\n",
      "training_data/fastai/moonwalk_480990.png\n",
      "training_data/fastai/moonwalk_480991.png\n",
      "training_data/fastai/moonwalk_480992.png\n",
      "training_data/fastai/moonwalk_480993.png\n",
      "training_data/fastai/moonwalk_480994.png\n"
     ]
    },
    {
     "name": "stderr",
     "output_type": "stream",
     "text": [
      "/home/ale/anaconda3/envs/tensor20/lib/python3.6/site-packages/fastai/vision/transform.py:243: UserWarning: torch.gesv is deprecated in favour of torch.solve and will be removed in the next release. Please use torch.solve instead.\n",
      "  return torch.gesv(B,A)[0][:,0]\n"
     ]
    },
    {
     "name": "stdout",
     "output_type": "stream",
     "text": [
      "training_data/fastai/moonwalk_480995.png\n",
      "training_data/fastai/moonwalk_480996.png\n",
      "training_data/fastai/moonwalk_480997.png\n",
      "training_data/fastai/moonwalk_480998.png\n",
      "training_data/fastai/moonwalk_480999.png\n",
      "training_data/fastai/fly_447990.png\n",
      "training_data/fastai/fly_447991.png\n",
      "training_data/fastai/fly_447992.png\n",
      "training_data/fastai/fly_447993.png\n"
     ]
    },
    {
     "name": "stderr",
     "output_type": "stream",
     "text": [
      "/home/ale/anaconda3/envs/tensor20/lib/python3.6/site-packages/fastai/vision/transform.py:243: UserWarning: torch.gesv is deprecated in favour of torch.solve and will be removed in the next release. Please use torch.solve instead.\n",
      "  return torch.gesv(B,A)[0][:,0]\n"
     ]
    },
    {
     "name": "stdout",
     "output_type": "stream",
     "text": [
      "training_data/fastai/fly_447994.png\n",
      "training_data/fastai/fly_447995.png\n",
      "training_data/fastai/fly_447996.png\n",
      "training_data/fastai/fly_447997.png\n",
      "training_data/fastai/fly_447998.png\n",
      "training_data/fastai/fly_447999.png\n",
      "training_data/fastai/moonwalk_894990.png\n",
      "training_data/fastai/moonwalk_894991.png\n",
      "training_data/fastai/moonwalk_894992.png\n",
      "training_data/fastai/moonwalk_894993.png\n",
      "training_data/fastai/moonwalk_894994.png\n",
      "training_data/fastai/moonwalk_894995.png\n",
      "training_data/fastai/moonwalk_894996.png\n",
      "training_data/fastai/moonwalk_894997.png\n",
      "training_data/fastai/moonwalk_894998.png\n"
     ]
    },
    {
     "name": "stderr",
     "output_type": "stream",
     "text": [
      "/home/ale/anaconda3/envs/tensor20/lib/python3.6/site-packages/fastai/vision/transform.py:243: UserWarning: torch.gesv is deprecated in favour of torch.solve and will be removed in the next release. Please use torch.solve instead.\n",
      "  return torch.gesv(B,A)[0][:,0]\n",
      "/home/ale/anaconda3/envs/tensor20/lib/python3.6/site-packages/fastai/vision/transform.py:243: UserWarning: torch.gesv is deprecated in favour of torch.solve and will be removed in the next release. Please use torch.solve instead.\n",
      "  return torch.gesv(B,A)[0][:,0]\n"
     ]
    },
    {
     "name": "stdout",
     "output_type": "stream",
     "text": [
      "training_data/fastai/moonwalk_894999.png\n",
      "training_data/fastai/dramatic_1265990.png\n",
      "training_data/fastai/dramatic_1265991.png\n",
      "training_data/fastai/dramatic_1265992.png\n",
      "training_data/fastai/dramatic_1265993.png\n",
      "training_data/fastai/dramatic_1265994.png\n",
      "training_data/fastai/dramatic_1265995.png\n",
      "training_data/fastai/dramatic_1265996.png\n",
      "training_data/fastai/dramatic_1265997.png\n",
      "training_data/fastai/dramatic_1265998.png\n",
      "training_data/fastai/dramatic_1265999.png\n",
      "training_data/fastai/backpack_1245990.png\n",
      "training_data/fastai/backpack_1245991.png\n",
      "training_data/fastai/backpack_1245992.png\n",
      "training_data/fastai/backpack_1245993.png\n",
      "training_data/fastai/backpack_1245994.png\n",
      "training_data/fastai/backpack_1245995.png\n",
      "training_data/fastai/backpack_1245996.png\n",
      "training_data/fastai/backpack_1245997.png\n",
      "training_data/fastai/backpack_1245998.png\n",
      "training_data/fastai/backpack_1245999.png\n",
      "training_data/fastai/dramatic_563990.png\n",
      "training_data/fastai/dramatic_563991.png\n",
      "training_data/fastai/dramatic_563992.png\n"
     ]
    },
    {
     "name": "stderr",
     "output_type": "stream",
     "text": [
      "/home/ale/anaconda3/envs/tensor20/lib/python3.6/site-packages/fastai/vision/transform.py:243: UserWarning: torch.gesv is deprecated in favour of torch.solve and will be removed in the next release. Please use torch.solve instead.\n",
      "  return torch.gesv(B,A)[0][:,0]\n",
      "/home/ale/anaconda3/envs/tensor20/lib/python3.6/site-packages/fastai/vision/transform.py:243: UserWarning: torch.gesv is deprecated in favour of torch.solve and will be removed in the next release. Please use torch.solve instead.\n",
      "  return torch.gesv(B,A)[0][:,0]\n"
     ]
    },
    {
     "name": "stdout",
     "output_type": "stream",
     "text": [
      "training_data/fastai/dramatic_563993.png\n",
      "training_data/fastai/dramatic_563994.png\n",
      "training_data/fastai/dramatic_563995.png\n",
      "training_data/fastai/dramatic_563996.png\n",
      "training_data/fastai/dramatic_563997.png\n",
      "training_data/fastai/dramatic_563998.png\n",
      "training_data/fastai/dramatic_563999.png\n"
     ]
    },
    {
     "name": "stderr",
     "output_type": "stream",
     "text": [
      "/home/ale/anaconda3/envs/tensor20/lib/python3.6/site-packages/fastai/vision/transform.py:243: UserWarning: torch.gesv is deprecated in favour of torch.solve and will be removed in the next release. Please use torch.solve instead.\n",
      "  return torch.gesv(B,A)[0][:,0]\n"
     ]
    },
    {
     "name": "stdout",
     "output_type": "stream",
     "text": [
      "training_data/fastai/underarm_73990.png\n",
      "training_data/fastai/underarm_73991.png\n",
      "training_data/fastai/underarm_73992.png\n",
      "training_data/fastai/underarm_73993.png\n",
      "training_data/fastai/underarm_73994.png\n",
      "training_data/fastai/underarm_73995.png\n",
      "training_data/fastai/underarm_73996.png\n",
      "training_data/fastai/underarm_73997.png\n",
      "training_data/fastai/underarm_73998.png\n",
      "training_data/fastai/underarm_73999.png\n",
      "training_data/fastai/moonwalk_896990.png\n",
      "training_data/fastai/moonwalk_896991.png\n",
      "training_data/fastai/moonwalk_896992.png\n",
      "training_data/fastai/moonwalk_896993.png\n",
      "training_data/fastai/moonwalk_896994.png\n",
      "training_data/fastai/moonwalk_896995.png\n",
      "training_data/fastai/moonwalk_896996.png\n",
      "training_data/fastai/moonwalk_896997.png\n",
      "training_data/fastai/moonwalk_896998.png\n",
      "training_data/fastai/moonwalk_896999.png\n",
      "training_data/fastai/hadouken_976990.png\n",
      "training_data/fastai/hadouken_976991.png\n",
      "training_data/fastai/hadouken_976992.png\n",
      "training_data/fastai/hadouken_976993.png\n"
     ]
    },
    {
     "name": "stderr",
     "output_type": "stream",
     "text": [
      "/home/ale/anaconda3/envs/tensor20/lib/python3.6/site-packages/fastai/vision/transform.py:243: UserWarning: torch.gesv is deprecated in favour of torch.solve and will be removed in the next release. Please use torch.solve instead.\n",
      "  return torch.gesv(B,A)[0][:,0]\n",
      "/home/ale/anaconda3/envs/tensor20/lib/python3.6/site-packages/fastai/vision/transform.py:243: UserWarning: torch.gesv is deprecated in favour of torch.solve and will be removed in the next release. Please use torch.solve instead.\n",
      "  return torch.gesv(B,A)[0][:,0]\n"
     ]
    },
    {
     "name": "stdout",
     "output_type": "stream",
     "text": [
      "training_data/fastai/hadouken_976994.png\n",
      "training_data/fastai/hadouken_976995.png\n",
      "training_data/fastai/hadouken_976996.png\n",
      "training_data/fastai/hadouken_976997.png\n",
      "training_data/fastai/hadouken_976998.png\n",
      "training_data/fastai/hadouken_976999.png\n",
      "training_data/fastai/normal_806990.png\n",
      "training_data/fastai/normal_806991.png\n",
      "training_data/fastai/normal_806992.png\n",
      "training_data/fastai/normal_806993.png\n",
      "training_data/fastai/normal_806994.png\n",
      "training_data/fastai/normal_806995.png\n",
      "training_data/fastai/normal_806996.png\n",
      "training_data/fastai/normal_806997.png\n",
      "training_data/fastai/normal_806998.png\n",
      "training_data/fastai/normal_806999.png\n",
      "training_data/fastai/moonwalk_1225990.png\n"
     ]
    },
    {
     "name": "stderr",
     "output_type": "stream",
     "text": [
      "/home/ale/anaconda3/envs/tensor20/lib/python3.6/site-packages/fastai/vision/transform.py:243: UserWarning: torch.gesv is deprecated in favour of torch.solve and will be removed in the next release. Please use torch.solve instead.\n",
      "  return torch.gesv(B,A)[0][:,0]\n"
     ]
    },
    {
     "name": "stdout",
     "output_type": "stream",
     "text": [
      "training_data/fastai/moonwalk_1225991.png\n",
      "training_data/fastai/moonwalk_1225992.png\n",
      "training_data/fastai/moonwalk_1225993.png\n",
      "training_data/fastai/moonwalk_1225994.png\n",
      "training_data/fastai/moonwalk_1225995.png\n",
      "training_data/fastai/moonwalk_1225996.png\n",
      "training_data/fastai/moonwalk_1225997.png\n",
      "training_data/fastai/moonwalk_1225998.png\n"
     ]
    },
    {
     "name": "stderr",
     "output_type": "stream",
     "text": [
      "/home/ale/anaconda3/envs/tensor20/lib/python3.6/site-packages/fastai/vision/transform.py:243: UserWarning: torch.gesv is deprecated in favour of torch.solve and will be removed in the next release. Please use torch.solve instead.\n",
      "  return torch.gesv(B,A)[0][:,0]\n"
     ]
    },
    {
     "name": "stdout",
     "output_type": "stream",
     "text": [
      "training_data/fastai/moonwalk_1225999.png\n",
      "training_data/fastai/fly_232990.png\n",
      "training_data/fastai/fly_232991.png\n",
      "training_data/fastai/fly_232992.png\n",
      "training_data/fastai/fly_232993.png\n",
      "training_data/fastai/fly_232994.png\n",
      "training_data/fastai/fly_232995.png\n",
      "training_data/fastai/fly_232996.png\n"
     ]
    },
    {
     "name": "stderr",
     "output_type": "stream",
     "text": [
      "/home/ale/anaconda3/envs/tensor20/lib/python3.6/site-packages/fastai/vision/transform.py:243: UserWarning: torch.gesv is deprecated in favour of torch.solve and will be removed in the next release. Please use torch.solve instead.\n",
      "  return torch.gesv(B,A)[0][:,0]\n"
     ]
    },
    {
     "name": "stdout",
     "output_type": "stream",
     "text": [
      "training_data/fastai/fly_232997.png\n",
      "training_data/fastai/fly_232998.png\n",
      "training_data/fastai/fly_232999.png\n",
      "training_data/fastai/backpack_267990.png\n",
      "training_data/fastai/backpack_267991.png\n",
      "training_data/fastai/backpack_267992.png\n",
      "training_data/fastai/backpack_267993.png\n",
      "training_data/fastai/backpack_267994.png\n"
     ]
    },
    {
     "name": "stderr",
     "output_type": "stream",
     "text": [
      "/home/ale/anaconda3/envs/tensor20/lib/python3.6/site-packages/fastai/vision/transform.py:243: UserWarning: torch.gesv is deprecated in favour of torch.solve and will be removed in the next release. Please use torch.solve instead.\n",
      "  return torch.gesv(B,A)[0][:,0]\n",
      "/home/ale/anaconda3/envs/tensor20/lib/python3.6/site-packages/fastai/vision/transform.py:243: UserWarning: torch.gesv is deprecated in favour of torch.solve and will be removed in the next release. Please use torch.solve instead.\n",
      "  return torch.gesv(B,A)[0][:,0]\n"
     ]
    },
    {
     "name": "stdout",
     "output_type": "stream",
     "text": [
      "training_data/fastai/backpack_267995.png\n",
      "training_data/fastai/backpack_267996.png\n",
      "training_data/fastai/backpack_267997.png\n",
      "training_data/fastai/backpack_267998.png\n",
      "training_data/fastai/backpack_267999.png\n",
      "training_data/fastai/moonwalk_1227990.png\n",
      "training_data/fastai/moonwalk_1227991.png\n",
      "training_data/fastai/moonwalk_1227992.png\n",
      "training_data/fastai/moonwalk_1227993.png\n",
      "training_data/fastai/moonwalk_1227994.png\n",
      "training_data/fastai/moonwalk_1227995.png\n",
      "training_data/fastai/moonwalk_1227996.png\n",
      "training_data/fastai/moonwalk_1227997.png\n",
      "training_data/fastai/moonwalk_1227998.png\n",
      "training_data/fastai/moonwalk_1227999.png\n",
      "training_data/fastai/dramatic_124990.png\n",
      "training_data/fastai/dramatic_124991.png\n",
      "training_data/fastai/dramatic_124992.png\n",
      "training_data/fastai/dramatic_124993.png\n",
      "training_data/fastai/dramatic_124994.png\n",
      "training_data/fastai/dramatic_124995.png\n",
      "training_data/fastai/dramatic_124996.png\n",
      "training_data/fastai/dramatic_124997.png\n"
     ]
    },
    {
     "name": "stderr",
     "output_type": "stream",
     "text": [
      "/home/ale/anaconda3/envs/tensor20/lib/python3.6/site-packages/fastai/vision/transform.py:243: UserWarning: torch.gesv is deprecated in favour of torch.solve and will be removed in the next release. Please use torch.solve instead.\n",
      "  return torch.gesv(B,A)[0][:,0]\n",
      "/home/ale/anaconda3/envs/tensor20/lib/python3.6/site-packages/fastai/vision/transform.py:243: UserWarning: torch.gesv is deprecated in favour of torch.solve and will be removed in the next release. Please use torch.solve instead.\n",
      "  return torch.gesv(B,A)[0][:,0]\n"
     ]
    },
    {
     "name": "stdout",
     "output_type": "stream",
     "text": [
      "training_data/fastai/dramatic_124998.png\n",
      "training_data/fastai/dramatic_124999.png\n",
      "training_data/fastai/fly_439990.png\n",
      "training_data/fastai/fly_439991.png\n",
      "training_data/fastai/fly_439992.png\n",
      "training_data/fastai/fly_439993.png\n",
      "training_data/fastai/fly_439994.png\n",
      "training_data/fastai/fly_439995.png\n",
      "training_data/fastai/fly_439996.png\n",
      "training_data/fastai/fly_439997.png\n",
      "training_data/fastai/fly_439998.png\n",
      "training_data/fastai/fly_439999.png\n",
      "training_data/fastai/hadouken_96990.png\n",
      "training_data/fastai/hadouken_96991.png\n",
      "training_data/fastai/hadouken_96992.png\n",
      "training_data/fastai/hadouken_96993.png\n"
     ]
    },
    {
     "name": "stderr",
     "output_type": "stream",
     "text": [
      "/home/ale/anaconda3/envs/tensor20/lib/python3.6/site-packages/fastai/vision/transform.py:243: UserWarning: torch.gesv is deprecated in favour of torch.solve and will be removed in the next release. Please use torch.solve instead.\n",
      "  return torch.gesv(B,A)[0][:,0]\n"
     ]
    },
    {
     "name": "stdout",
     "output_type": "stream",
     "text": [
      "training_data/fastai/hadouken_96994.png\n",
      "training_data/fastai/hadouken_96995.png\n",
      "training_data/fastai/hadouken_96996.png\n",
      "training_data/fastai/hadouken_96997.png\n",
      "training_data/fastai/hadouken_96998.png\n",
      "training_data/fastai/hadouken_96999.png\n",
      "training_data/fastai/underarm_870990.png\n",
      "training_data/fastai/underarm_870991.png\n"
     ]
    },
    {
     "name": "stderr",
     "output_type": "stream",
     "text": [
      "/home/ale/anaconda3/envs/tensor20/lib/python3.6/site-packages/fastai/vision/transform.py:243: UserWarning: torch.gesv is deprecated in favour of torch.solve and will be removed in the next release. Please use torch.solve instead.\n",
      "  return torch.gesv(B,A)[0][:,0]\n"
     ]
    },
    {
     "name": "stdout",
     "output_type": "stream",
     "text": [
      "training_data/fastai/underarm_870992.png\n",
      "training_data/fastai/underarm_870993.png\n",
      "training_data/fastai/underarm_870994.png\n",
      "training_data/fastai/underarm_870995.png\n",
      "training_data/fastai/underarm_870996.png\n",
      "training_data/fastai/underarm_870997.png\n",
      "training_data/fastai/underarm_870998.png\n",
      "training_data/fastai/underarm_870999.png\n",
      "training_data/fastai/hadouken_519990.png\n",
      "training_data/fastai/hadouken_519991.png\n"
     ]
    },
    {
     "name": "stderr",
     "output_type": "stream",
     "text": [
      "/home/ale/anaconda3/envs/tensor20/lib/python3.6/site-packages/fastai/vision/transform.py:243: UserWarning: torch.gesv is deprecated in favour of torch.solve and will be removed in the next release. Please use torch.solve instead.\n",
      "  return torch.gesv(B,A)[0][:,0]\n"
     ]
    },
    {
     "name": "stdout",
     "output_type": "stream",
     "text": [
      "training_data/fastai/hadouken_519992.png\n",
      "training_data/fastai/hadouken_519993.png\n",
      "training_data/fastai/hadouken_519994.png\n",
      "training_data/fastai/hadouken_519995.png\n",
      "training_data/fastai/hadouken_519996.png\n",
      "training_data/fastai/hadouken_519997.png\n",
      "training_data/fastai/hadouken_519998.png\n",
      "training_data/fastai/hadouken_519999.png\n",
      "training_data/fastai/normal_403990.png\n",
      "training_data/fastai/normal_403991.png\n",
      "training_data/fastai/normal_403992.png\n",
      "training_data/fastai/normal_403993.png\n",
      "training_data/fastai/normal_403994.png\n",
      "training_data/fastai/normal_403995.png\n",
      "training_data/fastai/normal_403996.png\n",
      "training_data/fastai/normal_403997.png\n",
      "training_data/fastai/normal_403998.png\n",
      "training_data/fastai/normal_403999.png\n",
      "training_data/fastai/wings_418990.png\n"
     ]
    },
    {
     "name": "stderr",
     "output_type": "stream",
     "text": [
      "/home/ale/anaconda3/envs/tensor20/lib/python3.6/site-packages/fastai/vision/transform.py:243: UserWarning: torch.gesv is deprecated in favour of torch.solve and will be removed in the next release. Please use torch.solve instead.\n",
      "  return torch.gesv(B,A)[0][:,0]\n"
     ]
    },
    {
     "name": "stdout",
     "output_type": "stream",
     "text": [
      "training_data/fastai/wings_418991.png\n",
      "training_data/fastai/wings_418992.png\n",
      "training_data/fastai/wings_418993.png\n",
      "training_data/fastai/wings_418994.png\n",
      "training_data/fastai/wings_418995.png\n",
      "training_data/fastai/wings_418996.png\n",
      "training_data/fastai/wings_418997.png\n",
      "training_data/fastai/wings_418998.png\n",
      "training_data/fastai/wings_418999.png\n"
     ]
    },
    {
     "name": "stderr",
     "output_type": "stream",
     "text": [
      "/home/ale/anaconda3/envs/tensor20/lib/python3.6/site-packages/fastai/vision/transform.py:243: UserWarning: torch.gesv is deprecated in favour of torch.solve and will be removed in the next release. Please use torch.solve instead.\n",
      "  return torch.gesv(B,A)[0][:,0]\n"
     ]
    },
    {
     "name": "stdout",
     "output_type": "stream",
     "text": [
      "training_data/fastai/normal_1208990.png\n",
      "training_data/fastai/normal_1208991.png\n",
      "training_data/fastai/normal_1208992.png\n",
      "training_data/fastai/normal_1208993.png\n",
      "training_data/fastai/normal_1208994.png\n",
      "training_data/fastai/normal_1208995.png\n",
      "training_data/fastai/normal_1208996.png\n"
     ]
    },
    {
     "name": "stderr",
     "output_type": "stream",
     "text": [
      "/home/ale/anaconda3/envs/tensor20/lib/python3.6/site-packages/fastai/vision/transform.py:243: UserWarning: torch.gesv is deprecated in favour of torch.solve and will be removed in the next release. Please use torch.solve instead.\n",
      "  return torch.gesv(B,A)[0][:,0]\n"
     ]
    },
    {
     "name": "stdout",
     "output_type": "stream",
     "text": [
      "training_data/fastai/normal_1208997.png\n",
      "training_data/fastai/normal_1208998.png\n",
      "training_data/fastai/normal_1208999.png\n",
      "training_data/fastai/dramatic_121990.png\n",
      "training_data/fastai/dramatic_121991.png\n",
      "training_data/fastai/dramatic_121992.png\n",
      "training_data/fastai/dramatic_121993.png\n",
      "training_data/fastai/dramatic_121994.png\n"
     ]
    },
    {
     "name": "stderr",
     "output_type": "stream",
     "text": [
      "/home/ale/anaconda3/envs/tensor20/lib/python3.6/site-packages/fastai/vision/transform.py:243: UserWarning: torch.gesv is deprecated in favour of torch.solve and will be removed in the next release. Please use torch.solve instead.\n",
      "  return torch.gesv(B,A)[0][:,0]\n"
     ]
    },
    {
     "name": "stdout",
     "output_type": "stream",
     "text": [
      "training_data/fastai/dramatic_121995.png\n",
      "training_data/fastai/dramatic_121996.png\n",
      "training_data/fastai/dramatic_121997.png\n",
      "training_data/fastai/dramatic_121998.png\n",
      "training_data/fastai/dramatic_121999.png\n",
      "training_data/fastai/normal_814990.png\n",
      "training_data/fastai/normal_814991.png\n",
      "training_data/fastai/normal_814992.png\n",
      "training_data/fastai/normal_814993.png\n",
      "training_data/fastai/normal_814994.png\n"
     ]
    },
    {
     "name": "stderr",
     "output_type": "stream",
     "text": [
      "/home/ale/anaconda3/envs/tensor20/lib/python3.6/site-packages/fastai/vision/transform.py:243: UserWarning: torch.gesv is deprecated in favour of torch.solve and will be removed in the next release. Please use torch.solve instead.\n",
      "  return torch.gesv(B,A)[0][:,0]\n",
      "/home/ale/anaconda3/envs/tensor20/lib/python3.6/site-packages/fastai/vision/transform.py:243: UserWarning: torch.gesv is deprecated in favour of torch.solve and will be removed in the next release. Please use torch.solve instead.\n",
      "  return torch.gesv(B,A)[0][:,0]\n"
     ]
    },
    {
     "name": "stdout",
     "output_type": "stream",
     "text": [
      "training_data/fastai/normal_814995.png\n",
      "training_data/fastai/normal_814996.png\n",
      "training_data/fastai/normal_814997.png\n",
      "training_data/fastai/normal_814998.png\n",
      "training_data/fastai/normal_814999.png\n",
      "training_data/fastai/underarm_246990.png\n",
      "training_data/fastai/underarm_246991.png\n",
      "training_data/fastai/underarm_246992.png\n",
      "training_data/fastai/underarm_246993.png\n",
      "training_data/fastai/underarm_246994.png\n",
      "training_data/fastai/underarm_246995.png\n",
      "training_data/fastai/underarm_246996.png\n",
      "training_data/fastai/underarm_246997.png\n",
      "training_data/fastai/underarm_246998.png\n",
      "training_data/fastai/underarm_246999.png\n",
      "training_data/fastai/fly_52990.png\n"
     ]
    },
    {
     "name": "stderr",
     "output_type": "stream",
     "text": [
      "/home/ale/anaconda3/envs/tensor20/lib/python3.6/site-packages/fastai/vision/transform.py:243: UserWarning: torch.gesv is deprecated in favour of torch.solve and will be removed in the next release. Please use torch.solve instead.\n",
      "  return torch.gesv(B,A)[0][:,0]\n"
     ]
    },
    {
     "name": "stdout",
     "output_type": "stream",
     "text": [
      "training_data/fastai/fly_52991.png\n",
      "training_data/fastai/fly_52992.png\n",
      "training_data/fastai/fly_52993.png\n",
      "training_data/fastai/fly_52994.png\n",
      "training_data/fastai/fly_52995.png\n",
      "training_data/fastai/fly_52996.png\n",
      "training_data/fastai/fly_52997.png\n",
      "training_data/fastai/fly_52998.png\n",
      "training_data/fastai/fly_52999.png\n",
      "training_data/fastai/normal_809990.png\n",
      "training_data/fastai/normal_809991.png\n",
      "training_data/fastai/normal_809992.png\n",
      "training_data/fastai/normal_809993.png\n",
      "training_data/fastai/normal_809994.png\n",
      "training_data/fastai/normal_809995.png\n",
      "training_data/fastai/normal_809996.png\n",
      "training_data/fastai/normal_809997.png\n"
     ]
    },
    {
     "name": "stderr",
     "output_type": "stream",
     "text": [
      "/home/ale/anaconda3/envs/tensor20/lib/python3.6/site-packages/fastai/vision/transform.py:243: UserWarning: torch.gesv is deprecated in favour of torch.solve and will be removed in the next release. Please use torch.solve instead.\n",
      "  return torch.gesv(B,A)[0][:,0]\n"
     ]
    },
    {
     "name": "stdout",
     "output_type": "stream",
     "text": [
      "training_data/fastai/normal_809998.png\n",
      "training_data/fastai/normal_809999.png\n",
      "training_data/fastai/fly_429990.png\n",
      "training_data/fastai/fly_429991.png\n",
      "training_data/fastai/fly_429992.png\n",
      "training_data/fastai/fly_429993.png\n",
      "training_data/fastai/fly_429994.png\n"
     ]
    },
    {
     "name": "stderr",
     "output_type": "stream",
     "text": [
      "/home/ale/anaconda3/envs/tensor20/lib/python3.6/site-packages/fastai/vision/transform.py:243: UserWarning: torch.gesv is deprecated in favour of torch.solve and will be removed in the next release. Please use torch.solve instead.\n",
      "  return torch.gesv(B,A)[0][:,0]\n"
     ]
    },
    {
     "name": "stdout",
     "output_type": "stream",
     "text": [
      "training_data/fastai/fly_429995.png\n",
      "training_data/fastai/fly_429996.png\n",
      "training_data/fastai/fly_429997.png\n",
      "training_data/fastai/fly_429998.png\n",
      "training_data/fastai/fly_429999.png\n",
      "training_data/fastai/moonwalk_1230990.png\n",
      "training_data/fastai/moonwalk_1230991.png\n",
      "training_data/fastai/moonwalk_1230992.png\n",
      "training_data/fastai/moonwalk_1230993.png\n",
      "training_data/fastai/moonwalk_1230994.png\n",
      "training_data/fastai/moonwalk_1230995.png\n",
      "training_data/fastai/moonwalk_1230996.png\n",
      "training_data/fastai/moonwalk_1230997.png\n",
      "training_data/fastai/moonwalk_1230998.png\n",
      "training_data/fastai/moonwalk_1230999.png\n",
      "training_data/fastai/fly_844990.png\n"
     ]
    },
    {
     "name": "stderr",
     "output_type": "stream",
     "text": [
      "/home/ale/anaconda3/envs/tensor20/lib/python3.6/site-packages/fastai/vision/transform.py:243: UserWarning: torch.gesv is deprecated in favour of torch.solve and will be removed in the next release. Please use torch.solve instead.\n",
      "  return torch.gesv(B,A)[0][:,0]\n",
      "/home/ale/anaconda3/envs/tensor20/lib/python3.6/site-packages/fastai/vision/transform.py:243: UserWarning: torch.gesv is deprecated in favour of torch.solve and will be removed in the next release. Please use torch.solve instead.\n",
      "  return torch.gesv(B,A)[0][:,0]\n"
     ]
    },
    {
     "name": "stdout",
     "output_type": "stream",
     "text": [
      "training_data/fastai/fly_844991.png\n",
      "training_data/fastai/fly_844992.png\n",
      "training_data/fastai/fly_844993.png\n",
      "training_data/fastai/fly_844994.png\n",
      "training_data/fastai/fly_844995.png\n",
      "training_data/fastai/fly_844996.png\n",
      "training_data/fastai/fly_844997.png\n",
      "training_data/fastai/fly_844998.png\n",
      "training_data/fastai/fly_844999.png\n",
      "training_data/fastai/underarm_455990.png\n",
      "training_data/fastai/underarm_455991.png\n",
      "training_data/fastai/underarm_455992.png\n",
      "training_data/fastai/underarm_455993.png\n",
      "training_data/fastai/underarm_455994.png\n",
      "training_data/fastai/underarm_455995.png\n",
      "training_data/fastai/underarm_455996.png\n"
     ]
    },
    {
     "name": "stderr",
     "output_type": "stream",
     "text": [
      "/home/ale/anaconda3/envs/tensor20/lib/python3.6/site-packages/fastai/vision/transform.py:243: UserWarning: torch.gesv is deprecated in favour of torch.solve and will be removed in the next release. Please use torch.solve instead.\n",
      "  return torch.gesv(B,A)[0][:,0]\n"
     ]
    },
    {
     "name": "stdout",
     "output_type": "stream",
     "text": [
      "training_data/fastai/underarm_455997.png\n",
      "training_data/fastai/underarm_455998.png\n",
      "training_data/fastai/underarm_455999.png\n",
      "training_data/fastai/moonwalk_906990.png\n",
      "training_data/fastai/moonwalk_906991.png\n",
      "training_data/fastai/moonwalk_906992.png\n",
      "training_data/fastai/moonwalk_906993.png\n",
      "training_data/fastai/moonwalk_906994.png\n",
      "training_data/fastai/moonwalk_906995.png\n",
      "training_data/fastai/moonwalk_906996.png\n"
     ]
    },
    {
     "name": "stderr",
     "output_type": "stream",
     "text": [
      "/home/ale/anaconda3/envs/tensor20/lib/python3.6/site-packages/fastai/vision/transform.py:243: UserWarning: torch.gesv is deprecated in favour of torch.solve and will be removed in the next release. Please use torch.solve instead.\n",
      "  return torch.gesv(B,A)[0][:,0]\n"
     ]
    },
    {
     "name": "stdout",
     "output_type": "stream",
     "text": [
      "training_data/fastai/moonwalk_906997.png\n",
      "training_data/fastai/moonwalk_906998.png\n",
      "training_data/fastai/moonwalk_906999.png\n",
      "training_data/fastai/hadouken_977990.png\n",
      "training_data/fastai/hadouken_977991.png\n",
      "training_data/fastai/hadouken_977992.png\n",
      "training_data/fastai/hadouken_977993.png\n",
      "training_data/fastai/hadouken_977994.png\n"
     ]
    },
    {
     "name": "stderr",
     "output_type": "stream",
     "text": [
      "/home/ale/anaconda3/envs/tensor20/lib/python3.6/site-packages/fastai/vision/transform.py:243: UserWarning: torch.gesv is deprecated in favour of torch.solve and will be removed in the next release. Please use torch.solve instead.\n",
      "  return torch.gesv(B,A)[0][:,0]\n",
      "/home/ale/anaconda3/envs/tensor20/lib/python3.6/site-packages/fastai/vision/transform.py:243: UserWarning: torch.gesv is deprecated in favour of torch.solve and will be removed in the next release. Please use torch.solve instead.\n",
      "  return torch.gesv(B,A)[0][:,0]\n"
     ]
    },
    {
     "name": "stdout",
     "output_type": "stream",
     "text": [
      "training_data/fastai/hadouken_977995.png\n",
      "training_data/fastai/hadouken_977996.png\n",
      "training_data/fastai/hadouken_977997.png\n",
      "training_data/fastai/hadouken_977998.png\n",
      "training_data/fastai/hadouken_977999.png\n",
      "training_data/fastai/hadouken_503990.png\n",
      "training_data/fastai/hadouken_503991.png\n",
      "training_data/fastai/hadouken_503992.png\n",
      "training_data/fastai/hadouken_503993.png\n",
      "training_data/fastai/hadouken_503994.png\n",
      "training_data/fastai/hadouken_503995.png\n",
      "training_data/fastai/hadouken_503996.png\n",
      "training_data/fastai/hadouken_503997.png\n",
      "training_data/fastai/hadouken_503998.png\n",
      "training_data/fastai/hadouken_503999.png\n",
      "training_data/fastai/moonwalk_488990.png\n",
      "training_data/fastai/moonwalk_488991.png\n"
     ]
    },
    {
     "name": "stderr",
     "output_type": "stream",
     "text": [
      "/home/ale/anaconda3/envs/tensor20/lib/python3.6/site-packages/fastai/vision/transform.py:243: UserWarning: torch.gesv is deprecated in favour of torch.solve and will be removed in the next release. Please use torch.solve instead.\n",
      "  return torch.gesv(B,A)[0][:,0]\n"
     ]
    },
    {
     "name": "stdout",
     "output_type": "stream",
     "text": [
      "training_data/fastai/moonwalk_488992.png\n",
      "training_data/fastai/moonwalk_488993.png\n",
      "training_data/fastai/moonwalk_488994.png\n",
      "training_data/fastai/moonwalk_488995.png\n",
      "training_data/fastai/moonwalk_488996.png\n",
      "training_data/fastai/moonwalk_488997.png\n",
      "training_data/fastai/moonwalk_488998.png\n",
      "training_data/fastai/moonwalk_488999.png\n",
      "training_data/fastai/dramatic_930990.png\n",
      "training_data/fastai/dramatic_930991.png\n",
      "training_data/fastai/dramatic_930992.png\n",
      "training_data/fastai/dramatic_930993.png\n",
      "training_data/fastai/dramatic_930994.png\n",
      "training_data/fastai/dramatic_930995.png\n",
      "training_data/fastai/dramatic_930996.png\n",
      "training_data/fastai/dramatic_930997.png\n",
      "training_data/fastai/dramatic_930998.png\n"
     ]
    },
    {
     "name": "stderr",
     "output_type": "stream",
     "text": [
      "/home/ale/anaconda3/envs/tensor20/lib/python3.6/site-packages/fastai/vision/transform.py:243: UserWarning: torch.gesv is deprecated in favour of torch.solve and will be removed in the next release. Please use torch.solve instead.\n",
      "  return torch.gesv(B,A)[0][:,0]\n"
     ]
    },
    {
     "name": "stdout",
     "output_type": "stream",
     "text": [
      "training_data/fastai/dramatic_930999.png\n",
      "training_data/fastai/fly_453990.png\n",
      "training_data/fastai/fly_453991.png\n",
      "training_data/fastai/fly_453992.png\n",
      "training_data/fastai/fly_453993.png\n",
      "training_data/fastai/fly_453994.png\n",
      "training_data/fastai/fly_453995.png\n"
     ]
    },
    {
     "name": "stderr",
     "output_type": "stream",
     "text": [
      "/home/ale/anaconda3/envs/tensor20/lib/python3.6/site-packages/fastai/vision/transform.py:243: UserWarning: torch.gesv is deprecated in favour of torch.solve and will be removed in the next release. Please use torch.solve instead.\n",
      "  return torch.gesv(B,A)[0][:,0]\n"
     ]
    },
    {
     "name": "stdout",
     "output_type": "stream",
     "text": [
      "training_data/fastai/fly_453996.png\n",
      "training_data/fastai/fly_453997.png\n",
      "training_data/fastai/fly_453998.png\n",
      "training_data/fastai/fly_453999.png\n",
      "training_data/fastai/fly_452990.png\n",
      "training_data/fastai/fly_452991.png\n",
      "training_data/fastai/fly_452992.png\n"
     ]
    },
    {
     "name": "stderr",
     "output_type": "stream",
     "text": [
      "/home/ale/anaconda3/envs/tensor20/lib/python3.6/site-packages/fastai/vision/transform.py:243: UserWarning: torch.gesv is deprecated in favour of torch.solve and will be removed in the next release. Please use torch.solve instead.\n",
      "  return torch.gesv(B,A)[0][:,0]\n"
     ]
    },
    {
     "name": "stdout",
     "output_type": "stream",
     "text": [
      "training_data/fastai/fly_452993.png\n",
      "training_data/fastai/fly_452994.png\n",
      "training_data/fastai/fly_452995.png\n",
      "training_data/fastai/fly_452996.png\n",
      "training_data/fastai/fly_452997.png\n",
      "training_data/fastai/fly_452998.png\n",
      "training_data/fastai/fly_452999.png\n",
      "training_data/fastai/dramatic_570990.png\n"
     ]
    },
    {
     "name": "stderr",
     "output_type": "stream",
     "text": [
      "/home/ale/anaconda3/envs/tensor20/lib/python3.6/site-packages/fastai/vision/transform.py:243: UserWarning: torch.gesv is deprecated in favour of torch.solve and will be removed in the next release. Please use torch.solve instead.\n",
      "  return torch.gesv(B,A)[0][:,0]\n"
     ]
    },
    {
     "name": "stdout",
     "output_type": "stream",
     "text": [
      "training_data/fastai/dramatic_570991.png\n",
      "training_data/fastai/dramatic_570992.png\n",
      "training_data/fastai/dramatic_570993.png\n",
      "training_data/fastai/dramatic_570994.png\n",
      "training_data/fastai/dramatic_570995.png\n",
      "training_data/fastai/dramatic_570996.png\n",
      "training_data/fastai/dramatic_570997.png\n",
      "training_data/fastai/dramatic_570998.png\n",
      "training_data/fastai/dramatic_570999.png\n"
     ]
    },
    {
     "name": "stderr",
     "output_type": "stream",
     "text": [
      "/home/ale/anaconda3/envs/tensor20/lib/python3.6/site-packages/fastai/vision/transform.py:243: UserWarning: torch.gesv is deprecated in favour of torch.solve and will be removed in the next release. Please use torch.solve instead.\n",
      "  return torch.gesv(B,A)[0][:,0]\n"
     ]
    },
    {
     "name": "stdout",
     "output_type": "stream",
     "text": [
      "training_data/fastai/dramatic_123990.png\n",
      "training_data/fastai/dramatic_123991.png\n",
      "training_data/fastai/dramatic_123992.png\n",
      "training_data/fastai/dramatic_123993.png\n",
      "training_data/fastai/dramatic_123994.png\n",
      "training_data/fastai/dramatic_123995.png\n",
      "training_data/fastai/dramatic_123996.png\n",
      "training_data/fastai/dramatic_123997.png\n",
      "training_data/fastai/dramatic_123998.png\n",
      "training_data/fastai/dramatic_123999.png\n",
      "training_data/fastai/wings_833990.png\n",
      "training_data/fastai/wings_833991.png\n",
      "training_data/fastai/wings_833992.png\n",
      "training_data/fastai/wings_833993.png\n",
      "training_data/fastai/wings_833994.png\n"
     ]
    },
    {
     "name": "stderr",
     "output_type": "stream",
     "text": [
      "/home/ale/anaconda3/envs/tensor20/lib/python3.6/site-packages/fastai/vision/transform.py:243: UserWarning: torch.gesv is deprecated in favour of torch.solve and will be removed in the next release. Please use torch.solve instead.\n",
      "  return torch.gesv(B,A)[0][:,0]\n"
     ]
    },
    {
     "name": "stdout",
     "output_type": "stream",
     "text": [
      "training_data/fastai/wings_833995.png\n",
      "training_data/fastai/wings_833996.png\n",
      "training_data/fastai/wings_833997.png\n",
      "training_data/fastai/wings_833998.png\n",
      "training_data/fastai/wings_833999.png\n",
      "training_data/fastai/normal_7990.png\n",
      "training_data/fastai/normal_7991.png\n",
      "training_data/fastai/normal_7992.png\n"
     ]
    },
    {
     "name": "stderr",
     "output_type": "stream",
     "text": [
      "/home/ale/anaconda3/envs/tensor20/lib/python3.6/site-packages/fastai/vision/transform.py:243: UserWarning: torch.gesv is deprecated in favour of torch.solve and will be removed in the next release. Please use torch.solve instead.\n",
      "  return torch.gesv(B,A)[0][:,0]\n"
     ]
    },
    {
     "name": "stdout",
     "output_type": "stream",
     "text": [
      "training_data/fastai/normal_7993.png\n",
      "training_data/fastai/normal_7994.png\n",
      "training_data/fastai/normal_7995.png\n",
      "training_data/fastai/normal_7996.png\n",
      "training_data/fastai/normal_7997.png\n",
      "training_data/fastai/normal_7998.png\n",
      "training_data/fastai/normal_7999.png\n",
      "training_data/fastai/normal_11990.png\n",
      "training_data/fastai/normal_11991.png\n",
      "training_data/fastai/normal_11992.png\n",
      "training_data/fastai/normal_11993.png\n",
      "training_data/fastai/normal_11994.png\n",
      "training_data/fastai/normal_11995.png\n",
      "training_data/fastai/normal_11996.png\n",
      "training_data/fastai/normal_11997.png\n",
      "training_data/fastai/normal_11998.png\n",
      "training_data/fastai/normal_11999.png\n"
     ]
    },
    {
     "name": "stderr",
     "output_type": "stream",
     "text": [
      "/home/ale/anaconda3/envs/tensor20/lib/python3.6/site-packages/fastai/vision/transform.py:243: UserWarning: torch.gesv is deprecated in favour of torch.solve and will be removed in the next release. Please use torch.solve instead.\n",
      "  return torch.gesv(B,A)[0][:,0]\n",
      "/home/ale/anaconda3/envs/tensor20/lib/python3.6/site-packages/fastai/vision/transform.py:243: UserWarning: torch.gesv is deprecated in favour of torch.solve and will be removed in the next release. Please use torch.solve instead.\n",
      "  return torch.gesv(B,A)[0][:,0]\n"
     ]
    },
    {
     "name": "stdout",
     "output_type": "stream",
     "text": [
      "training_data/fastai/dramatic_281990.png\n",
      "training_data/fastai/dramatic_281991.png\n",
      "training_data/fastai/dramatic_281992.png\n",
      "training_data/fastai/dramatic_281993.png\n",
      "training_data/fastai/dramatic_281994.png\n",
      "training_data/fastai/dramatic_281995.png\n",
      "training_data/fastai/dramatic_281996.png\n",
      "training_data/fastai/dramatic_281997.png\n",
      "training_data/fastai/dramatic_281998.png\n",
      "training_data/fastai/dramatic_281999.png\n",
      "training_data/fastai/wings_219990.png\n",
      "training_data/fastai/wings_219991.png\n",
      "training_data/fastai/wings_219992.png\n",
      "training_data/fastai/wings_219993.png\n",
      "training_data/fastai/wings_219994.png\n"
     ]
    },
    {
     "name": "stderr",
     "output_type": "stream",
     "text": [
      "/home/ale/anaconda3/envs/tensor20/lib/python3.6/site-packages/fastai/vision/transform.py:243: UserWarning: torch.gesv is deprecated in favour of torch.solve and will be removed in the next release. Please use torch.solve instead.\n",
      "  return torch.gesv(B,A)[0][:,0]\n"
     ]
    },
    {
     "name": "stdout",
     "output_type": "stream",
     "text": [
      "training_data/fastai/wings_219995.png\n",
      "training_data/fastai/wings_219996.png\n",
      "training_data/fastai/wings_219997.png\n",
      "training_data/fastai/wings_219998.png\n",
      "training_data/fastai/wings_219999.png\n",
      "training_data/fastai/hadouken_1235990.png\n",
      "training_data/fastai/hadouken_1235991.png\n",
      "training_data/fastai/hadouken_1235992.png\n"
     ]
    },
    {
     "name": "stderr",
     "output_type": "stream",
     "text": [
      "/home/ale/anaconda3/envs/tensor20/lib/python3.6/site-packages/fastai/vision/transform.py:243: UserWarning: torch.gesv is deprecated in favour of torch.solve and will be removed in the next release. Please use torch.solve instead.\n",
      "  return torch.gesv(B,A)[0][:,0]\n"
     ]
    },
    {
     "name": "stdout",
     "output_type": "stream",
     "text": [
      "training_data/fastai/hadouken_1235993.png\n",
      "training_data/fastai/hadouken_1235994.png\n",
      "training_data/fastai/hadouken_1235995.png\n",
      "training_data/fastai/hadouken_1235996.png\n",
      "training_data/fastai/hadouken_1235997.png\n",
      "training_data/fastai/hadouken_1235998.png\n",
      "training_data/fastai/hadouken_1235999.png\n",
      "training_data/fastai/dramatic_132990.png\n",
      "training_data/fastai/dramatic_132991.png\n",
      "training_data/fastai/dramatic_132992.png\n",
      "training_data/fastai/dramatic_132993.png\n",
      "training_data/fastai/dramatic_132994.png\n",
      "training_data/fastai/dramatic_132995.png\n",
      "training_data/fastai/dramatic_132996.png\n",
      "training_data/fastai/dramatic_132997.png\n",
      "training_data/fastai/dramatic_132998.png\n",
      "training_data/fastai/dramatic_132999.png\n",
      "training_data/fastai/moonwalk_252990.png\n",
      "training_data/fastai/moonwalk_252991.png\n",
      "training_data/fastai/moonwalk_252992.png\n",
      "training_data/fastai/moonwalk_252993.png\n",
      "training_data/fastai/moonwalk_252994.png\n",
      "training_data/fastai/moonwalk_252995.png\n"
     ]
    },
    {
     "name": "stderr",
     "output_type": "stream",
     "text": [
      "/home/ale/anaconda3/envs/tensor20/lib/python3.6/site-packages/fastai/vision/transform.py:243: UserWarning: torch.gesv is deprecated in favour of torch.solve and will be removed in the next release. Please use torch.solve instead.\n",
      "  return torch.gesv(B,A)[0][:,0]\n"
     ]
    },
    {
     "name": "stdout",
     "output_type": "stream",
     "text": [
      "training_data/fastai/moonwalk_252996.png\n",
      "training_data/fastai/moonwalk_252997.png\n",
      "training_data/fastai/moonwalk_252998.png\n",
      "training_data/fastai/moonwalk_252999.png\n",
      "training_data/fastai/moonwalk_1228990.png\n",
      "training_data/fastai/moonwalk_1228991.png\n",
      "training_data/fastai/moonwalk_1228992.png\n",
      "training_data/fastai/moonwalk_1228993.png\n",
      "training_data/fastai/moonwalk_1228994.png\n"
     ]
    },
    {
     "name": "stderr",
     "output_type": "stream",
     "text": [
      "/home/ale/anaconda3/envs/tensor20/lib/python3.6/site-packages/fastai/vision/transform.py:243: UserWarning: torch.gesv is deprecated in favour of torch.solve and will be removed in the next release. Please use torch.solve instead.\n",
      "  return torch.gesv(B,A)[0][:,0]\n"
     ]
    },
    {
     "name": "stdout",
     "output_type": "stream",
     "text": [
      "training_data/fastai/moonwalk_1228995.png\n",
      "training_data/fastai/moonwalk_1228996.png\n",
      "training_data/fastai/moonwalk_1228997.png\n",
      "training_data/fastai/moonwalk_1228998.png\n",
      "training_data/fastai/moonwalk_1228999.png\n",
      "training_data/fastai/wings_21990.png\n",
      "training_data/fastai/wings_21991.png\n",
      "training_data/fastai/wings_21992.png\n"
     ]
    },
    {
     "name": "stderr",
     "output_type": "stream",
     "text": [
      "/home/ale/anaconda3/envs/tensor20/lib/python3.6/site-packages/fastai/vision/transform.py:243: UserWarning: torch.gesv is deprecated in favour of torch.solve and will be removed in the next release. Please use torch.solve instead.\n",
      "  return torch.gesv(B,A)[0][:,0]\n"
     ]
    },
    {
     "name": "stdout",
     "output_type": "stream",
     "text": [
      "training_data/fastai/wings_21993.png\n",
      "training_data/fastai/wings_21994.png\n",
      "training_data/fastai/wings_21995.png\n",
      "training_data/fastai/wings_21996.png\n",
      "training_data/fastai/wings_21997.png\n",
      "training_data/fastai/wings_21998.png\n",
      "training_data/fastai/wings_21999.png\n",
      "training_data/fastai/moonwalk_249990.png\n",
      "training_data/fastai/moonwalk_249991.png\n",
      "training_data/fastai/moonwalk_249992.png\n",
      "training_data/fastai/moonwalk_249993.png\n",
      "training_data/fastai/moonwalk_249994.png\n",
      "training_data/fastai/moonwalk_249995.png\n",
      "training_data/fastai/moonwalk_249996.png\n",
      "training_data/fastai/moonwalk_249997.png\n",
      "training_data/fastai/moonwalk_249998.png\n"
     ]
    },
    {
     "name": "stderr",
     "output_type": "stream",
     "text": [
      "/home/ale/anaconda3/envs/tensor20/lib/python3.6/site-packages/fastai/vision/transform.py:243: UserWarning: torch.gesv is deprecated in favour of torch.solve and will be removed in the next release. Please use torch.solve instead.\n",
      "  return torch.gesv(B,A)[0][:,0]\n"
     ]
    },
    {
     "name": "stdout",
     "output_type": "stream",
     "text": [
      "training_data/fastai/moonwalk_249999.png\n",
      "training_data/fastai/underarm_240990.png\n",
      "training_data/fastai/underarm_240991.png\n",
      "training_data/fastai/underarm_240992.png\n",
      "training_data/fastai/underarm_240993.png\n",
      "training_data/fastai/underarm_240994.png\n",
      "training_data/fastai/underarm_240995.png\n"
     ]
    },
    {
     "name": "stderr",
     "output_type": "stream",
     "text": [
      "/home/ale/anaconda3/envs/tensor20/lib/python3.6/site-packages/fastai/vision/transform.py:243: UserWarning: torch.gesv is deprecated in favour of torch.solve and will be removed in the next release. Please use torch.solve instead.\n",
      "  return torch.gesv(B,A)[0][:,0]\n"
     ]
    },
    {
     "name": "stdout",
     "output_type": "stream",
     "text": [
      "training_data/fastai/underarm_240996.png\n",
      "training_data/fastai/underarm_240997.png\n",
      "training_data/fastai/underarm_240998.png\n",
      "training_data/fastai/underarm_240999.png\n",
      "training_data/fastai/normal_10990.png\n",
      "training_data/fastai/normal_10991.png\n",
      "training_data/fastai/normal_10992.png\n",
      "training_data/fastai/normal_10993.png\n",
      "training_data/fastai/normal_10994.png\n"
     ]
    },
    {
     "name": "stderr",
     "output_type": "stream",
     "text": [
      "/home/ale/anaconda3/envs/tensor20/lib/python3.6/site-packages/fastai/vision/transform.py:243: UserWarning: torch.gesv is deprecated in favour of torch.solve and will be removed in the next release. Please use torch.solve instead.\n",
      "  return torch.gesv(B,A)[0][:,0]\n"
     ]
    },
    {
     "name": "stdout",
     "output_type": "stream",
     "text": [
      "training_data/fastai/normal_10995.png\n",
      "training_data/fastai/normal_10996.png\n",
      "training_data/fastai/normal_10997.png\n",
      "training_data/fastai/normal_10998.png\n",
      "training_data/fastai/normal_10999.png\n",
      "training_data/fastai/moonwalk_479990.png\n",
      "training_data/fastai/moonwalk_479991.png\n"
     ]
    },
    {
     "name": "stderr",
     "output_type": "stream",
     "text": [
      "/home/ale/anaconda3/envs/tensor20/lib/python3.6/site-packages/fastai/vision/transform.py:243: UserWarning: torch.gesv is deprecated in favour of torch.solve and will be removed in the next release. Please use torch.solve instead.\n",
      "  return torch.gesv(B,A)[0][:,0]\n"
     ]
    },
    {
     "name": "stdout",
     "output_type": "stream",
     "text": [
      "training_data/fastai/moonwalk_479992.png\n",
      "training_data/fastai/moonwalk_479993.png\n",
      "training_data/fastai/moonwalk_479994.png\n",
      "training_data/fastai/moonwalk_479995.png\n",
      "training_data/fastai/moonwalk_479996.png\n",
      "training_data/fastai/moonwalk_479997.png\n",
      "training_data/fastai/moonwalk_479998.png\n",
      "training_data/fastai/moonwalk_479999.png\n",
      "training_data/fastai/normal_810990.png\n",
      "training_data/fastai/normal_810991.png\n",
      "training_data/fastai/normal_810992.png\n",
      "training_data/fastai/normal_810993.png\n",
      "training_data/fastai/normal_810994.png\n",
      "training_data/fastai/normal_810995.png\n",
      "training_data/fastai/normal_810996.png\n"
     ]
    },
    {
     "name": "stderr",
     "output_type": "stream",
     "text": [
      "/home/ale/anaconda3/envs/tensor20/lib/python3.6/site-packages/fastai/vision/transform.py:243: UserWarning: torch.gesv is deprecated in favour of torch.solve and will be removed in the next release. Please use torch.solve instead.\n",
      "  return torch.gesv(B,A)[0][:,0]\n"
     ]
    },
    {
     "name": "stdout",
     "output_type": "stream",
     "text": [
      "training_data/fastai/normal_810997.png\n",
      "training_data/fastai/normal_810998.png\n",
      "training_data/fastai/normal_810999.png\n",
      "training_data/fastai/hadouken_501990.png\n",
      "training_data/fastai/hadouken_501991.png\n",
      "training_data/fastai/hadouken_501992.png\n",
      "training_data/fastai/hadouken_501993.png\n",
      "training_data/fastai/hadouken_501994.png\n"
     ]
    },
    {
     "name": "stderr",
     "output_type": "stream",
     "text": [
      "/home/ale/anaconda3/envs/tensor20/lib/python3.6/site-packages/fastai/vision/transform.py:243: UserWarning: torch.gesv is deprecated in favour of torch.solve and will be removed in the next release. Please use torch.solve instead.\n",
      "  return torch.gesv(B,A)[0][:,0]\n"
     ]
    },
    {
     "name": "stdout",
     "output_type": "stream",
     "text": [
      "training_data/fastai/hadouken_501995.png\n",
      "training_data/fastai/hadouken_501996.png\n",
      "training_data/fastai/hadouken_501997.png\n",
      "training_data/fastai/hadouken_501998.png\n",
      "training_data/fastai/hadouken_501999.png\n",
      "training_data/fastai/normal_1201990.png\n",
      "training_data/fastai/normal_1201991.png\n",
      "training_data/fastai/normal_1201992.png\n"
     ]
    },
    {
     "name": "stderr",
     "output_type": "stream",
     "text": [
      "/home/ale/anaconda3/envs/tensor20/lib/python3.6/site-packages/fastai/vision/transform.py:243: UserWarning: torch.gesv is deprecated in favour of torch.solve and will be removed in the next release. Please use torch.solve instead.\n",
      "  return torch.gesv(B,A)[0][:,0]\n"
     ]
    },
    {
     "name": "stdout",
     "output_type": "stream",
     "text": [
      "training_data/fastai/normal_1201993.png\n",
      "training_data/fastai/normal_1201994.png\n",
      "training_data/fastai/normal_1201995.png\n",
      "training_data/fastai/normal_1201996.png\n",
      "training_data/fastai/normal_1201997.png\n",
      "training_data/fastai/normal_1201998.png\n",
      "training_data/fastai/normal_1201999.png\n",
      "training_data/fastai/normal_405990.png\n"
     ]
    },
    {
     "name": "stderr",
     "output_type": "stream",
     "text": [
      "/home/ale/anaconda3/envs/tensor20/lib/python3.6/site-packages/fastai/vision/transform.py:243: UserWarning: torch.gesv is deprecated in favour of torch.solve and will be removed in the next release. Please use torch.solve instead.\n",
      "  return torch.gesv(B,A)[0][:,0]\n"
     ]
    },
    {
     "name": "stdout",
     "output_type": "stream",
     "text": [
      "training_data/fastai/normal_405991.png\n",
      "training_data/fastai/normal_405992.png\n",
      "training_data/fastai/normal_405993.png\n",
      "training_data/fastai/normal_405994.png\n",
      "training_data/fastai/normal_405995.png\n",
      "training_data/fastai/normal_405996.png\n",
      "training_data/fastai/normal_405997.png\n",
      "training_data/fastai/normal_405998.png\n",
      "training_data/fastai/normal_405999.png\n",
      "training_data/fastai/moonwalk_882990.png\n",
      "training_data/fastai/moonwalk_882991.png\n",
      "training_data/fastai/moonwalk_882992.png\n",
      "training_data/fastai/moonwalk_882993.png\n",
      "training_data/fastai/moonwalk_882994.png\n",
      "training_data/fastai/moonwalk_882995.png\n",
      "training_data/fastai/moonwalk_882996.png\n",
      "training_data/fastai/moonwalk_882997.png\n"
     ]
    },
    {
     "name": "stderr",
     "output_type": "stream",
     "text": [
      "/home/ale/anaconda3/envs/tensor20/lib/python3.6/site-packages/fastai/vision/transform.py:243: UserWarning: torch.gesv is deprecated in favour of torch.solve and will be removed in the next release. Please use torch.solve instead.\n",
      "  return torch.gesv(B,A)[0][:,0]\n"
     ]
    },
    {
     "name": "stdout",
     "output_type": "stream",
     "text": [
      "training_data/fastai/moonwalk_882998.png\n",
      "training_data/fastai/moonwalk_882999.png\n",
      "training_data/fastai/wings_834990.png\n",
      "training_data/fastai/wings_834991.png\n",
      "training_data/fastai/wings_834992.png\n",
      "training_data/fastai/wings_834993.png\n",
      "training_data/fastai/wings_834994.png\n",
      "training_data/fastai/wings_834995.png\n",
      "training_data/fastai/wings_834996.png\n",
      "training_data/fastai/wings_834997.png\n"
     ]
    },
    {
     "name": "stderr",
     "output_type": "stream",
     "text": [
      "/home/ale/anaconda3/envs/tensor20/lib/python3.6/site-packages/fastai/vision/transform.py:243: UserWarning: torch.gesv is deprecated in favour of torch.solve and will be removed in the next release. Please use torch.solve instead.\n",
      "  return torch.gesv(B,A)[0][:,0]\n",
      "/home/ale/anaconda3/envs/tensor20/lib/python3.6/site-packages/fastai/vision/transform.py:243: UserWarning: torch.gesv is deprecated in favour of torch.solve and will be removed in the next release. Please use torch.solve instead.\n",
      "  return torch.gesv(B,A)[0][:,0]\n"
     ]
    },
    {
     "name": "stdout",
     "output_type": "stream",
     "text": [
      "training_data/fastai/wings_834998.png\n",
      "training_data/fastai/wings_834999.png\n",
      "training_data/fastai/dramatic_1260990.png\n",
      "training_data/fastai/dramatic_1260991.png\n",
      "training_data/fastai/dramatic_1260992.png\n",
      "training_data/fastai/dramatic_1260993.png\n",
      "training_data/fastai/dramatic_1260994.png\n",
      "training_data/fastai/dramatic_1260995.png\n",
      "training_data/fastai/dramatic_1260996.png\n",
      "training_data/fastai/dramatic_1260997.png\n",
      "training_data/fastai/dramatic_1260998.png\n",
      "training_data/fastai/dramatic_1260999.png\n",
      "training_data/fastai/backpack_1247990.png\n",
      "training_data/fastai/backpack_1247991.png\n",
      "training_data/fastai/backpack_1247992.png\n",
      "training_data/fastai/backpack_1247993.png\n"
     ]
    },
    {
     "name": "stderr",
     "output_type": "stream",
     "text": [
      "/home/ale/anaconda3/envs/tensor20/lib/python3.6/site-packages/fastai/vision/transform.py:243: UserWarning: torch.gesv is deprecated in favour of torch.solve and will be removed in the next release. Please use torch.solve instead.\n",
      "  return torch.gesv(B,A)[0][:,0]\n"
     ]
    },
    {
     "name": "stdout",
     "output_type": "stream",
     "text": [
      "training_data/fastai/backpack_1247994.png\n",
      "training_data/fastai/backpack_1247995.png\n",
      "training_data/fastai/backpack_1247996.png\n",
      "training_data/fastai/backpack_1247997.png\n",
      "training_data/fastai/backpack_1247998.png\n",
      "training_data/fastai/backpack_1247999.png\n"
     ]
    },
    {
     "name": "stderr",
     "output_type": "stream",
     "text": [
      "/home/ale/anaconda3/envs/tensor20/lib/python3.6/site-packages/fastai/vision/transform.py:243: UserWarning: torch.gesv is deprecated in favour of torch.solve and will be removed in the next release. Please use torch.solve instead.\n",
      "  return torch.gesv(B,A)[0][:,0]\n"
     ]
    },
    {
     "name": "stdout",
     "output_type": "stream",
     "text": [
      "training_data/fastai/underarm_461990.png\n",
      "training_data/fastai/underarm_461991.png\n",
      "training_data/fastai/underarm_461992.png\n",
      "training_data/fastai/underarm_461993.png\n",
      "training_data/fastai/underarm_461994.png\n",
      "training_data/fastai/underarm_461995.png\n",
      "training_data/fastai/underarm_461996.png\n",
      "training_data/fastai/underarm_461997.png\n",
      "training_data/fastai/underarm_461998.png\n",
      "training_data/fastai/underarm_461999.png\n",
      "training_data/fastai/wings_830990.png\n",
      "training_data/fastai/wings_830991.png\n",
      "training_data/fastai/wings_830992.png\n",
      "training_data/fastai/wings_830993.png\n",
      "training_data/fastai/wings_830994.png\n",
      "training_data/fastai/wings_830995.png\n",
      "training_data/fastai/wings_830996.png\n"
     ]
    },
    {
     "name": "stderr",
     "output_type": "stream",
     "text": [
      "/home/ale/anaconda3/envs/tensor20/lib/python3.6/site-packages/fastai/vision/transform.py:243: UserWarning: torch.gesv is deprecated in favour of torch.solve and will be removed in the next release. Please use torch.solve instead.\n",
      "  return torch.gesv(B,A)[0][:,0]\n"
     ]
    },
    {
     "name": "stdout",
     "output_type": "stream",
     "text": [
      "training_data/fastai/wings_830997.png\n",
      "training_data/fastai/wings_830998.png\n",
      "training_data/fastai/wings_830999.png\n",
      "training_data/fastai/fly_443990.png\n",
      "training_data/fastai/fly_443991.png\n",
      "training_data/fastai/fly_443992.png\n",
      "training_data/fastai/fly_443993.png\n",
      "training_data/fastai/fly_443994.png\n",
      "training_data/fastai/fly_443995.png\n",
      "training_data/fastai/fly_443996.png\n",
      "training_data/fastai/fly_443997.png\n",
      "training_data/fastai/fly_443998.png\n",
      "training_data/fastai/fly_443999.png\n",
      "training_data/fastai/hadouken_1231990.png\n",
      "training_data/fastai/hadouken_1231991.png\n",
      "training_data/fastai/hadouken_1231992.png\n",
      "training_data/fastai/hadouken_1231993.png\n"
     ]
    },
    {
     "name": "stderr",
     "output_type": "stream",
     "text": [
      "/home/ale/anaconda3/envs/tensor20/lib/python3.6/site-packages/fastai/vision/transform.py:243: UserWarning: torch.gesv is deprecated in favour of torch.solve and will be removed in the next release. Please use torch.solve instead.\n",
      "  return torch.gesv(B,A)[0][:,0]\n"
     ]
    },
    {
     "name": "stdout",
     "output_type": "stream",
     "text": [
      "training_data/fastai/hadouken_1231994.png\n",
      "training_data/fastai/hadouken_1231995.png\n",
      "training_data/fastai/hadouken_1231996.png\n",
      "training_data/fastai/hadouken_1231997.png\n",
      "training_data/fastai/hadouken_1231998.png\n",
      "training_data/fastai/hadouken_1231999.png\n",
      "training_data/fastai/dramatic_554990.png\n",
      "training_data/fastai/dramatic_554991.png\n",
      "training_data/fastai/dramatic_554992.png\n",
      "training_data/fastai/dramatic_554993.png\n",
      "training_data/fastai/dramatic_554994.png\n",
      "training_data/fastai/dramatic_554995.png\n",
      "training_data/fastai/dramatic_554996.png\n",
      "training_data/fastai/dramatic_554997.png\n",
      "training_data/fastai/dramatic_554998.png\n",
      "training_data/fastai/dramatic_554999.png\n",
      "training_data/fastai/dramatic_283990.png\n",
      "training_data/fastai/dramatic_283991.png\n"
     ]
    },
    {
     "name": "stderr",
     "output_type": "stream",
     "text": [
      "/home/ale/anaconda3/envs/tensor20/lib/python3.6/site-packages/fastai/vision/transform.py:243: UserWarning: torch.gesv is deprecated in favour of torch.solve and will be removed in the next release. Please use torch.solve instead.\n",
      "  return torch.gesv(B,A)[0][:,0]\n"
     ]
    },
    {
     "name": "stdout",
     "output_type": "stream",
     "text": [
      "training_data/fastai/dramatic_283992.png\n",
      "training_data/fastai/dramatic_283993.png\n",
      "training_data/fastai/dramatic_283994.png\n",
      "training_data/fastai/dramatic_283995.png\n",
      "training_data/fastai/dramatic_283996.png\n",
      "training_data/fastai/dramatic_283997.png\n",
      "training_data/fastai/dramatic_283998.png\n"
     ]
    },
    {
     "name": "stderr",
     "output_type": "stream",
     "text": [
      "/home/ale/anaconda3/envs/tensor20/lib/python3.6/site-packages/fastai/vision/transform.py:243: UserWarning: torch.gesv is deprecated in favour of torch.solve and will be removed in the next release. Please use torch.solve instead.\n",
      "  return torch.gesv(B,A)[0][:,0]\n"
     ]
    },
    {
     "name": "stdout",
     "output_type": "stream",
     "text": [
      "training_data/fastai/dramatic_283999.png\n",
      "training_data/fastai/fly_53990.png\n",
      "training_data/fastai/fly_53991.png\n",
      "training_data/fastai/fly_53992.png\n",
      "training_data/fastai/fly_53993.png\n",
      "training_data/fastai/fly_53994.png\n",
      "training_data/fastai/fly_53995.png\n"
     ]
    },
    {
     "name": "stderr",
     "output_type": "stream",
     "text": [
      "/home/ale/anaconda3/envs/tensor20/lib/python3.6/site-packages/fastai/vision/transform.py:243: UserWarning: torch.gesv is deprecated in favour of torch.solve and will be removed in the next release. Please use torch.solve instead.\n",
      "  return torch.gesv(B,A)[0][:,0]\n"
     ]
    },
    {
     "name": "stdout",
     "output_type": "stream",
     "text": [
      "training_data/fastai/fly_53996.png\n",
      "training_data/fastai/fly_53997.png\n",
      "training_data/fastai/fly_53998.png\n",
      "training_data/fastai/fly_53999.png\n",
      "training_data/fastai/normal_401990.png\n",
      "training_data/fastai/normal_401991.png\n",
      "training_data/fastai/normal_401992.png\n",
      "training_data/fastai/normal_401993.png\n",
      "training_data/fastai/normal_401994.png\n"
     ]
    },
    {
     "name": "stderr",
     "output_type": "stream",
     "text": [
      "/home/ale/anaconda3/envs/tensor20/lib/python3.6/site-packages/fastai/vision/transform.py:243: UserWarning: torch.gesv is deprecated in favour of torch.solve and will be removed in the next release. Please use torch.solve instead.\n",
      "  return torch.gesv(B,A)[0][:,0]\n"
     ]
    },
    {
     "name": "stdout",
     "output_type": "stream",
     "text": [
      "training_data/fastai/normal_401995.png\n",
      "training_data/fastai/normal_401996.png\n",
      "training_data/fastai/normal_401997.png\n",
      "training_data/fastai/normal_401998.png\n",
      "training_data/fastai/normal_401999.png\n",
      "training_data/fastai/fly_449990.png\n",
      "training_data/fastai/fly_449991.png\n",
      "training_data/fastai/fly_449992.png\n",
      "training_data/fastai/fly_449993.png\n",
      "training_data/fastai/fly_449994.png\n",
      "training_data/fastai/fly_449995.png\n",
      "training_data/fastai/fly_449996.png\n",
      "training_data/fastai/fly_449997.png\n",
      "training_data/fastai/fly_449998.png\n",
      "training_data/fastai/fly_449999.png\n",
      "training_data/fastai/hadouken_502990.png\n"
     ]
    },
    {
     "name": "stderr",
     "output_type": "stream",
     "text": [
      "/home/ale/anaconda3/envs/tensor20/lib/python3.6/site-packages/fastai/vision/transform.py:243: UserWarning: torch.gesv is deprecated in favour of torch.solve and will be removed in the next release. Please use torch.solve instead.\n",
      "  return torch.gesv(B,A)[0][:,0]\n"
     ]
    },
    {
     "name": "stdout",
     "output_type": "stream",
     "text": [
      "training_data/fastai/hadouken_502991.png\n",
      "training_data/fastai/hadouken_502992.png\n",
      "training_data/fastai/hadouken_502993.png\n",
      "training_data/fastai/hadouken_502994.png\n",
      "training_data/fastai/hadouken_502995.png\n",
      "training_data/fastai/hadouken_502996.png\n",
      "training_data/fastai/hadouken_502997.png\n",
      "training_data/fastai/hadouken_502998.png\n",
      "training_data/fastai/hadouken_502999.png\n"
     ]
    },
    {
     "name": "stderr",
     "output_type": "stream",
     "text": [
      "/home/ale/anaconda3/envs/tensor20/lib/python3.6/site-packages/fastai/vision/transform.py:243: UserWarning: torch.gesv is deprecated in favour of torch.solve and will be removed in the next release. Please use torch.solve instead.\n",
      "  return torch.gesv(B,A)[0][:,0]\n"
     ]
    },
    {
     "name": "stdout",
     "output_type": "stream",
     "text": [
      "training_data/fastai/moonwalk_878990.png\n",
      "training_data/fastai/moonwalk_878991.png\n",
      "training_data/fastai/moonwalk_878992.png\n",
      "training_data/fastai/moonwalk_878993.png\n",
      "training_data/fastai/moonwalk_878994.png\n",
      "training_data/fastai/moonwalk_878995.png\n",
      "training_data/fastai/moonwalk_878996.png\n",
      "training_data/fastai/moonwalk_878997.png\n",
      "training_data/fastai/moonwalk_878998.png\n",
      "training_data/fastai/moonwalk_878999.png\n",
      "training_data/fastai/normal_3990.png\n",
      "training_data/fastai/normal_3991.png\n",
      "training_data/fastai/normal_3992.png\n",
      "training_data/fastai/normal_3993.png\n",
      "training_data/fastai/normal_3994.png\n",
      "training_data/fastai/normal_3995.png\n",
      "training_data/fastai/normal_3996.png\n"
     ]
    },
    {
     "name": "stderr",
     "output_type": "stream",
     "text": [
      "/home/ale/anaconda3/envs/tensor20/lib/python3.6/site-packages/fastai/vision/transform.py:243: UserWarning: torch.gesv is deprecated in favour of torch.solve and will be removed in the next release. Please use torch.solve instead.\n",
      "  return torch.gesv(B,A)[0][:,0]\n"
     ]
    },
    {
     "name": "stdout",
     "output_type": "stream",
     "text": [
      "training_data/fastai/normal_3997.png\n",
      "training_data/fastai/normal_3998.png\n",
      "training_data/fastai/normal_3999.png\n",
      "training_data/fastai/fly_450990.png\n",
      "training_data/fastai/fly_450991.png\n",
      "training_data/fastai/fly_450992.png\n",
      "training_data/fastai/fly_450993.png\n",
      "training_data/fastai/fly_450994.png\n",
      "training_data/fastai/fly_450995.png\n",
      "training_data/fastai/fly_450996.png\n"
     ]
    },
    {
     "name": "stderr",
     "output_type": "stream",
     "text": [
      "/home/ale/anaconda3/envs/tensor20/lib/python3.6/site-packages/fastai/vision/transform.py:243: UserWarning: torch.gesv is deprecated in favour of torch.solve and will be removed in the next release. Please use torch.solve instead.\n",
      "  return torch.gesv(B,A)[0][:,0]\n",
      "/home/ale/anaconda3/envs/tensor20/lib/python3.6/site-packages/fastai/vision/transform.py:243: UserWarning: torch.gesv is deprecated in favour of torch.solve and will be removed in the next release. Please use torch.solve instead.\n",
      "  return torch.gesv(B,A)[0][:,0]\n"
     ]
    },
    {
     "name": "stdout",
     "output_type": "stream",
     "text": [
      "training_data/fastai/fly_450997.png\n",
      "training_data/fastai/fly_450998.png\n",
      "training_data/fastai/fly_450999.png\n",
      "training_data/fastai/backpack_110990.png\n",
      "training_data/fastai/backpack_110991.png\n",
      "training_data/fastai/backpack_110992.png\n",
      "training_data/fastai/backpack_110993.png\n",
      "training_data/fastai/backpack_110994.png\n",
      "training_data/fastai/backpack_110995.png\n",
      "training_data/fastai/backpack_110996.png\n",
      "training_data/fastai/backpack_110997.png\n",
      "training_data/fastai/backpack_110998.png\n",
      "training_data/fastai/backpack_110999.png\n",
      "training_data/fastai/normal_802990.png\n",
      "training_data/fastai/normal_802991.png\n",
      "training_data/fastai/normal_802992.png\n"
     ]
    },
    {
     "name": "stderr",
     "output_type": "stream",
     "text": [
      "/home/ale/anaconda3/envs/tensor20/lib/python3.6/site-packages/fastai/vision/transform.py:243: UserWarning: torch.gesv is deprecated in favour of torch.solve and will be removed in the next release. Please use torch.solve instead.\n",
      "  return torch.gesv(B,A)[0][:,0]\n"
     ]
    },
    {
     "name": "stdout",
     "output_type": "stream",
     "text": [
      "training_data/fastai/normal_802993.png\n",
      "training_data/fastai/normal_802994.png\n",
      "training_data/fastai/normal_802995.png\n",
      "training_data/fastai/normal_802996.png\n",
      "training_data/fastai/normal_802997.png\n",
      "training_data/fastai/normal_802998.png\n",
      "training_data/fastai/normal_802999.png\n",
      "training_data/fastai/normal_5990.png\n",
      "training_data/fastai/normal_5991.png\n",
      "training_data/fastai/normal_5992.png\n",
      "training_data/fastai/normal_5993.png\n",
      "training_data/fastai/normal_5994.png\n",
      "training_data/fastai/normal_5995.png\n",
      "training_data/fastai/normal_5996.png\n",
      "training_data/fastai/normal_5997.png\n",
      "training_data/fastai/normal_5998.png\n",
      "training_data/fastai/normal_5999.png\n"
     ]
    },
    {
     "name": "stderr",
     "output_type": "stream",
     "text": [
      "/home/ale/anaconda3/envs/tensor20/lib/python3.6/site-packages/fastai/vision/transform.py:243: UserWarning: torch.gesv is deprecated in favour of torch.solve and will be removed in the next release. Please use torch.solve instead.\n",
      "  return torch.gesv(B,A)[0][:,0]\n",
      "/home/ale/anaconda3/envs/tensor20/lib/python3.6/site-packages/fastai/vision/transform.py:243: UserWarning: torch.gesv is deprecated in favour of torch.solve and will be removed in the next release. Please use torch.solve instead.\n",
      "  return torch.gesv(B,A)[0][:,0]\n"
     ]
    },
    {
     "name": "stdout",
     "output_type": "stream",
     "text": [
      "training_data/fastai/normal_808990.png\n",
      "training_data/fastai/normal_808991.png\n",
      "training_data/fastai/normal_808992.png\n",
      "training_data/fastai/normal_808993.png\n",
      "training_data/fastai/normal_808994.png\n",
      "training_data/fastai/normal_808995.png\n",
      "training_data/fastai/normal_808996.png\n",
      "training_data/fastai/normal_808997.png\n",
      "training_data/fastai/normal_808998.png\n",
      "training_data/fastai/normal_808999.png\n",
      "training_data/fastai/hadouken_494990.png\n",
      "training_data/fastai/hadouken_494991.png\n",
      "training_data/fastai/hadouken_494992.png\n",
      "training_data/fastai/hadouken_494993.png\n",
      "training_data/fastai/hadouken_494994.png\n",
      "training_data/fastai/hadouken_494995.png\n",
      "training_data/fastai/hadouken_494996.png\n",
      "training_data/fastai/hadouken_494997.png\n",
      "training_data/fastai/hadouken_494998.png\n"
     ]
    },
    {
     "name": "stderr",
     "output_type": "stream",
     "text": [
      "/home/ale/anaconda3/envs/tensor20/lib/python3.6/site-packages/fastai/vision/transform.py:243: UserWarning: torch.gesv is deprecated in favour of torch.solve and will be removed in the next release. Please use torch.solve instead.\n",
      "  return torch.gesv(B,A)[0][:,0]\n"
     ]
    },
    {
     "name": "stdout",
     "output_type": "stream",
     "text": [
      "training_data/fastai/hadouken_494999.png\n",
      "training_data/fastai/fly_50990.png\n",
      "training_data/fastai/fly_50991.png\n",
      "training_data/fastai/fly_50992.png\n",
      "training_data/fastai/fly_50993.png\n",
      "training_data/fastai/fly_50994.png\n",
      "training_data/fastai/fly_50995.png\n"
     ]
    },
    {
     "name": "stderr",
     "output_type": "stream",
     "text": [
      "/home/ale/anaconda3/envs/tensor20/lib/python3.6/site-packages/fastai/vision/transform.py:243: UserWarning: torch.gesv is deprecated in favour of torch.solve and will be removed in the next release. Please use torch.solve instead.\n",
      "  return torch.gesv(B,A)[0][:,0]\n"
     ]
    },
    {
     "name": "stdout",
     "output_type": "stream",
     "text": [
      "training_data/fastai/fly_50996.png\n",
      "training_data/fastai/fly_50997.png\n",
      "training_data/fastai/fly_50998.png\n",
      "training_data/fastai/fly_50999.png\n",
      "training_data/fastai/dramatic_548990.png\n",
      "training_data/fastai/dramatic_548991.png\n",
      "training_data/fastai/dramatic_548992.png\n",
      "training_data/fastai/dramatic_548993.png\n"
     ]
    },
    {
     "name": "stderr",
     "output_type": "stream",
     "text": [
      "/home/ale/anaconda3/envs/tensor20/lib/python3.6/site-packages/fastai/vision/transform.py:243: UserWarning: torch.gesv is deprecated in favour of torch.solve and will be removed in the next release. Please use torch.solve instead.\n",
      "  return torch.gesv(B,A)[0][:,0]\n"
     ]
    },
    {
     "name": "stdout",
     "output_type": "stream",
     "text": [
      "training_data/fastai/dramatic_548994.png\n",
      "training_data/fastai/dramatic_548995.png\n",
      "training_data/fastai/dramatic_548996.png\n",
      "training_data/fastai/dramatic_548997.png\n",
      "training_data/fastai/dramatic_548998.png\n",
      "training_data/fastai/dramatic_548999.png\n",
      "training_data/fastai/wings_422990.png\n"
     ]
    },
    {
     "name": "stderr",
     "output_type": "stream",
     "text": [
      "/home/ale/anaconda3/envs/tensor20/lib/python3.6/site-packages/fastai/vision/transform.py:243: UserWarning: torch.gesv is deprecated in favour of torch.solve and will be removed in the next release. Please use torch.solve instead.\n",
      "  return torch.gesv(B,A)[0][:,0]\n"
     ]
    },
    {
     "name": "stdout",
     "output_type": "stream",
     "text": [
      "training_data/fastai/wings_422991.png\n",
      "training_data/fastai/wings_422992.png\n",
      "training_data/fastai/wings_422993.png\n",
      "training_data/fastai/wings_422994.png\n",
      "training_data/fastai/wings_422995.png\n",
      "training_data/fastai/wings_422996.png\n",
      "training_data/fastai/wings_422997.png\n",
      "training_data/fastai/wings_422998.png\n",
      "training_data/fastai/wings_422999.png\n",
      "training_data/fastai/dramatic_1252990.png\n",
      "training_data/fastai/dramatic_1252991.png\n",
      "training_data/fastai/dramatic_1252992.png\n",
      "training_data/fastai/dramatic_1252993.png\n",
      "training_data/fastai/dramatic_1252994.png\n",
      "training_data/fastai/dramatic_1252995.png\n",
      "training_data/fastai/dramatic_1252996.png\n",
      "training_data/fastai/dramatic_1252997.png\n"
     ]
    },
    {
     "name": "stderr",
     "output_type": "stream",
     "text": [
      "/home/ale/anaconda3/envs/tensor20/lib/python3.6/site-packages/fastai/vision/transform.py:243: UserWarning: torch.gesv is deprecated in favour of torch.solve and will be removed in the next release. Please use torch.solve instead.\n",
      "  return torch.gesv(B,A)[0][:,0]\n",
      "/home/ale/anaconda3/envs/tensor20/lib/python3.6/site-packages/fastai/vision/transform.py:243: UserWarning: torch.gesv is deprecated in favour of torch.solve and will be removed in the next release. Please use torch.solve instead.\n",
      "  return torch.gesv(B,A)[0][:,0]\n"
     ]
    },
    {
     "name": "stdout",
     "output_type": "stream",
     "text": [
      "training_data/fastai/dramatic_1252998.png\n",
      "training_data/fastai/dramatic_1252999.png\n",
      "training_data/fastai/underarm_467990.png\n",
      "training_data/fastai/underarm_467991.png\n",
      "training_data/fastai/underarm_467992.png\n",
      "training_data/fastai/underarm_467993.png\n",
      "training_data/fastai/underarm_467994.png\n",
      "training_data/fastai/underarm_467995.png\n",
      "training_data/fastai/underarm_467996.png\n",
      "training_data/fastai/underarm_467997.png\n",
      "training_data/fastai/underarm_467998.png\n",
      "training_data/fastai/underarm_467999.png\n",
      "training_data/fastai/dramatic_560990.png\n",
      "training_data/fastai/dramatic_560991.png\n",
      "training_data/fastai/dramatic_560992.png\n",
      "training_data/fastai/dramatic_560993.png\n",
      "training_data/fastai/dramatic_560994.png\n"
     ]
    },
    {
     "name": "stderr",
     "output_type": "stream",
     "text": [
      "/home/ale/anaconda3/envs/tensor20/lib/python3.6/site-packages/fastai/vision/transform.py:243: UserWarning: torch.gesv is deprecated in favour of torch.solve and will be removed in the next release. Please use torch.solve instead.\n",
      "  return torch.gesv(B,A)[0][:,0]\n"
     ]
    },
    {
     "name": "stdout",
     "output_type": "stream",
     "text": [
      "training_data/fastai/dramatic_560995.png\n",
      "training_data/fastai/dramatic_560996.png\n",
      "training_data/fastai/dramatic_560997.png\n",
      "training_data/fastai/dramatic_560998.png\n",
      "training_data/fastai/dramatic_560999.png\n",
      "training_data/fastai/backpack_106990.png\n",
      "training_data/fastai/backpack_106991.png\n",
      "training_data/fastai/backpack_106992.png\n",
      "training_data/fastai/backpack_106993.png\n"
     ]
    },
    {
     "name": "stderr",
     "output_type": "stream",
     "text": [
      "/home/ale/anaconda3/envs/tensor20/lib/python3.6/site-packages/fastai/vision/transform.py:243: UserWarning: torch.gesv is deprecated in favour of torch.solve and will be removed in the next release. Please use torch.solve instead.\n",
      "  return torch.gesv(B,A)[0][:,0]\n"
     ]
    },
    {
     "name": "stdout",
     "output_type": "stream",
     "text": [
      "training_data/fastai/backpack_106994.png\n",
      "training_data/fastai/backpack_106995.png\n",
      "training_data/fastai/backpack_106996.png\n",
      "training_data/fastai/backpack_106997.png\n",
      "training_data/fastai/backpack_106998.png\n",
      "training_data/fastai/backpack_106999.png\n",
      "training_data/fastai/normal_1207990.png\n",
      "training_data/fastai/normal_1207991.png\n",
      "training_data/fastai/normal_1207992.png\n",
      "training_data/fastai/normal_1207993.png\n",
      "training_data/fastai/normal_1207994.png\n",
      "training_data/fastai/normal_1207995.png\n",
      "training_data/fastai/normal_1207996.png\n",
      "training_data/fastai/normal_1207997.png\n",
      "training_data/fastai/normal_1207998.png\n",
      "training_data/fastai/normal_1207999.png\n",
      "training_data/fastai/fly_853990.png\n",
      "training_data/fastai/fly_853991.png\n",
      "training_data/fastai/fly_853992.png\n"
     ]
    },
    {
     "name": "stderr",
     "output_type": "stream",
     "text": [
      "/home/ale/anaconda3/envs/tensor20/lib/python3.6/site-packages/fastai/vision/transform.py:243: UserWarning: torch.gesv is deprecated in favour of torch.solve and will be removed in the next release. Please use torch.solve instead.\n",
      "  return torch.gesv(B,A)[0][:,0]\n",
      "/home/ale/anaconda3/envs/tensor20/lib/python3.6/site-packages/fastai/vision/transform.py:243: UserWarning: torch.gesv is deprecated in favour of torch.solve and will be removed in the next release. Please use torch.solve instead.\n",
      "  return torch.gesv(B,A)[0][:,0]\n"
     ]
    },
    {
     "name": "stdout",
     "output_type": "stream",
     "text": [
      "training_data/fastai/fly_853993.png\n",
      "training_data/fastai/fly_853994.png\n",
      "training_data/fastai/fly_853995.png\n",
      "training_data/fastai/fly_853996.png\n",
      "training_data/fastai/fly_853997.png\n",
      "training_data/fastai/fly_853998.png\n",
      "training_data/fastai/fly_853999.png\n",
      "training_data/fastai/dramatic_286990.png\n",
      "training_data/fastai/dramatic_286991.png\n",
      "training_data/fastai/dramatic_286992.png\n",
      "training_data/fastai/dramatic_286993.png\n",
      "training_data/fastai/dramatic_286994.png\n",
      "training_data/fastai/dramatic_286995.png\n",
      "training_data/fastai/dramatic_286996.png\n",
      "training_data/fastai/dramatic_286997.png\n",
      "training_data/fastai/dramatic_286998.png\n",
      "training_data/fastai/dramatic_286999.png\n"
     ]
    },
    {
     "name": "stderr",
     "output_type": "stream",
     "text": [
      "/home/ale/anaconda3/envs/tensor20/lib/python3.6/site-packages/fastai/vision/transform.py:243: UserWarning: torch.gesv is deprecated in favour of torch.solve and will be removed in the next release. Please use torch.solve instead.\n",
      "  return torch.gesv(B,A)[0][:,0]\n"
     ]
    },
    {
     "name": "stdout",
     "output_type": "stream",
     "text": [
      "training_data/fastai/underarm_875990.png\n",
      "training_data/fastai/underarm_875991.png\n",
      "training_data/fastai/underarm_875992.png\n",
      "training_data/fastai/underarm_875993.png\n",
      "training_data/fastai/underarm_875994.png\n",
      "training_data/fastai/underarm_875995.png\n",
      "training_data/fastai/underarm_875996.png\n",
      "training_data/fastai/underarm_875997.png\n",
      "training_data/fastai/underarm_875998.png\n",
      "training_data/fastai/underarm_875999.png\n",
      "training_data/fastai/moonwalk_1220990.png\n",
      "training_data/fastai/moonwalk_1220991.png\n",
      "training_data/fastai/moonwalk_1220992.png\n",
      "training_data/fastai/moonwalk_1220993.png\n",
      "training_data/fastai/moonwalk_1220994.png\n",
      "training_data/fastai/moonwalk_1220995.png\n"
     ]
    },
    {
     "name": "stderr",
     "output_type": "stream",
     "text": [
      "/home/ale/anaconda3/envs/tensor20/lib/python3.6/site-packages/fastai/vision/transform.py:243: UserWarning: torch.gesv is deprecated in favour of torch.solve and will be removed in the next release. Please use torch.solve instead.\n",
      "  return torch.gesv(B,A)[0][:,0]\n"
     ]
    },
    {
     "name": "stdout",
     "output_type": "stream",
     "text": [
      "training_data/fastai/moonwalk_1220996.png\n",
      "training_data/fastai/moonwalk_1220997.png\n",
      "training_data/fastai/moonwalk_1220998.png\n",
      "training_data/fastai/moonwalk_1220999.png\n",
      "training_data/fastai/underarm_239990.png\n",
      "training_data/fastai/underarm_239991.png\n",
      "training_data/fastai/underarm_239992.png\n",
      "training_data/fastai/underarm_239993.png\n"
     ]
    },
    {
     "name": "stderr",
     "output_type": "stream",
     "text": [
      "/home/ale/anaconda3/envs/tensor20/lib/python3.6/site-packages/fastai/vision/transform.py:243: UserWarning: torch.gesv is deprecated in favour of torch.solve and will be removed in the next release. Please use torch.solve instead.\n",
      "  return torch.gesv(B,A)[0][:,0]\n"
     ]
    },
    {
     "name": "stdout",
     "output_type": "stream",
     "text": [
      "training_data/fastai/underarm_239994.png\n",
      "training_data/fastai/underarm_239995.png\n",
      "training_data/fastai/underarm_239996.png\n",
      "training_data/fastai/underarm_239997.png\n",
      "training_data/fastai/underarm_239998.png\n",
      "training_data/fastai/underarm_239999.png\n",
      "training_data/fastai/hadouken_495990.png\n",
      "training_data/fastai/hadouken_495991.png\n",
      "training_data/fastai/hadouken_495992.png\n",
      "training_data/fastai/hadouken_495993.png\n"
     ]
    },
    {
     "name": "stderr",
     "output_type": "stream",
     "text": [
      "/home/ale/anaconda3/envs/tensor20/lib/python3.6/site-packages/fastai/vision/transform.py:243: UserWarning: torch.gesv is deprecated in favour of torch.solve and will be removed in the next release. Please use torch.solve instead.\n",
      "  return torch.gesv(B,A)[0][:,0]\n"
     ]
    },
    {
     "name": "stdout",
     "output_type": "stream",
     "text": [
      "training_data/fastai/hadouken_495994.png\n",
      "training_data/fastai/hadouken_495995.png\n",
      "training_data/fastai/hadouken_495996.png\n",
      "training_data/fastai/hadouken_495997.png\n",
      "training_data/fastai/hadouken_495998.png\n",
      "training_data/fastai/hadouken_495999.png\n",
      "training_data/fastai/backpack_274990.png\n",
      "training_data/fastai/backpack_274991.png\n",
      "training_data/fastai/backpack_274992.png\n",
      "training_data/fastai/backpack_274993.png\n",
      "training_data/fastai/backpack_274994.png\n"
     ]
    },
    {
     "name": "stderr",
     "output_type": "stream",
     "text": [
      "/home/ale/anaconda3/envs/tensor20/lib/python3.6/site-packages/fastai/vision/transform.py:243: UserWarning: torch.gesv is deprecated in favour of torch.solve and will be removed in the next release. Please use torch.solve instead.\n",
      "  return torch.gesv(B,A)[0][:,0]\n",
      "/home/ale/anaconda3/envs/tensor20/lib/python3.6/site-packages/fastai/vision/transform.py:243: UserWarning: torch.gesv is deprecated in favour of torch.solve and will be removed in the next release. Please use torch.solve instead.\n",
      "  return torch.gesv(B,A)[0][:,0]\n"
     ]
    },
    {
     "name": "stdout",
     "output_type": "stream",
     "text": [
      "training_data/fastai/backpack_274995.png\n",
      "training_data/fastai/backpack_274996.png\n",
      "training_data/fastai/backpack_274997.png\n",
      "training_data/fastai/backpack_274998.png\n",
      "training_data/fastai/backpack_274999.png\n",
      "training_data/fastai/fly_55990.png\n",
      "training_data/fastai/fly_55991.png\n",
      "training_data/fastai/fly_55992.png\n",
      "training_data/fastai/fly_55993.png\n",
      "training_data/fastai/fly_55994.png\n",
      "training_data/fastai/fly_55995.png\n",
      "training_data/fastai/fly_55996.png\n",
      "training_data/fastai/fly_55997.png\n",
      "training_data/fastai/fly_55998.png\n",
      "training_data/fastai/fly_55999.png\n"
     ]
    },
    {
     "name": "stderr",
     "output_type": "stream",
     "text": [
      "/home/ale/anaconda3/envs/tensor20/lib/python3.6/site-packages/fastai/vision/transform.py:243: UserWarning: torch.gesv is deprecated in favour of torch.solve and will be removed in the next release. Please use torch.solve instead.\n",
      "  return torch.gesv(B,A)[0][:,0]\n"
     ]
    },
    {
     "name": "stdout",
     "output_type": "stream",
     "text": [
      "training_data/fastai/backpack_275990.png\n",
      "training_data/fastai/backpack_275991.png\n",
      "training_data/fastai/backpack_275992.png\n",
      "training_data/fastai/backpack_275993.png\n",
      "training_data/fastai/backpack_275994.png\n",
      "training_data/fastai/backpack_275995.png\n",
      "training_data/fastai/backpack_275996.png\n",
      "training_data/fastai/backpack_275997.png\n",
      "training_data/fastai/backpack_275998.png\n",
      "training_data/fastai/backpack_275999.png\n",
      "training_data/fastai/fly_857990.png\n",
      "training_data/fastai/fly_857991.png\n",
      "training_data/fastai/fly_857992.png\n",
      "training_data/fastai/fly_857993.png\n",
      "training_data/fastai/fly_857994.png\n",
      "training_data/fastai/fly_857995.png\n",
      "training_data/fastai/fly_857996.png\n",
      "training_data/fastai/fly_857997.png\n"
     ]
    },
    {
     "name": "stderr",
     "output_type": "stream",
     "text": [
      "/home/ale/anaconda3/envs/tensor20/lib/python3.6/site-packages/fastai/vision/transform.py:243: UserWarning: torch.gesv is deprecated in favour of torch.solve and will be removed in the next release. Please use torch.solve instead.\n",
      "  return torch.gesv(B,A)[0][:,0]\n",
      "/home/ale/anaconda3/envs/tensor20/lib/python3.6/site-packages/fastai/vision/transform.py:243: UserWarning: torch.gesv is deprecated in favour of torch.solve and will be removed in the next release. Please use torch.solve instead.\n",
      "  return torch.gesv(B,A)[0][:,0]\n"
     ]
    },
    {
     "name": "stdout",
     "output_type": "stream",
     "text": [
      "training_data/fastai/fly_857998.png\n",
      "training_data/fastai/fly_857999.png\n",
      "training_data/fastai/wings_827990.png\n",
      "training_data/fastai/wings_827991.png\n",
      "training_data/fastai/wings_827992.png\n",
      "training_data/fastai/wings_827993.png\n",
      "training_data/fastai/wings_827994.png\n",
      "training_data/fastai/wings_827995.png\n",
      "training_data/fastai/wings_827996.png\n",
      "training_data/fastai/wings_827997.png\n",
      "training_data/fastai/wings_827998.png\n",
      "training_data/fastai/wings_827999.png\n",
      "training_data/fastai/fly_44990.png\n",
      "training_data/fastai/fly_44991.png\n",
      "training_data/fastai/fly_44992.png\n",
      "training_data/fastai/fly_44993.png\n",
      "training_data/fastai/fly_44994.png\n"
     ]
    },
    {
     "name": "stderr",
     "output_type": "stream",
     "text": [
      "/home/ale/anaconda3/envs/tensor20/lib/python3.6/site-packages/fastai/vision/transform.py:243: UserWarning: torch.gesv is deprecated in favour of torch.solve and will be removed in the next release. Please use torch.solve instead.\n",
      "  return torch.gesv(B,A)[0][:,0]\n"
     ]
    },
    {
     "name": "stdout",
     "output_type": "stream",
     "text": [
      "training_data/fastai/fly_44995.png\n",
      "training_data/fastai/fly_44996.png\n",
      "training_data/fastai/fly_44997.png\n",
      "training_data/fastai/fly_44998.png\n",
      "training_data/fastai/fly_44999.png\n",
      "training_data/fastai/normal_207990.png\n",
      "training_data/fastai/normal_207991.png\n",
      "training_data/fastai/normal_207992.png\n"
     ]
    },
    {
     "name": "stderr",
     "output_type": "stream",
     "text": [
      "/home/ale/anaconda3/envs/tensor20/lib/python3.6/site-packages/fastai/vision/transform.py:243: UserWarning: torch.gesv is deprecated in favour of torch.solve and will be removed in the next release. Please use torch.solve instead.\n",
      "  return torch.gesv(B,A)[0][:,0]\n"
     ]
    },
    {
     "name": "stdout",
     "output_type": "stream",
     "text": [
      "training_data/fastai/normal_207993.png\n",
      "training_data/fastai/normal_207994.png\n",
      "training_data/fastai/normal_207995.png\n",
      "training_data/fastai/normal_207996.png\n",
      "training_data/fastai/normal_207997.png\n",
      "training_data/fastai/normal_207998.png\n",
      "training_data/fastai/normal_207999.png\n",
      "training_data/fastai/hadouken_979990.png\n",
      "training_data/fastai/hadouken_979991.png\n",
      "training_data/fastai/hadouken_979992.png\n"
     ]
    },
    {
     "name": "stderr",
     "output_type": "stream",
     "text": [
      "/home/ale/anaconda3/envs/tensor20/lib/python3.6/site-packages/fastai/vision/transform.py:243: UserWarning: torch.gesv is deprecated in favour of torch.solve and will be removed in the next release. Please use torch.solve instead.\n",
      "  return torch.gesv(B,A)[0][:,0]\n",
      "/home/ale/anaconda3/envs/tensor20/lib/python3.6/site-packages/fastai/vision/transform.py:243: UserWarning: torch.gesv is deprecated in favour of torch.solve and will be removed in the next release. Please use torch.solve instead.\n",
      "  return torch.gesv(B,A)[0][:,0]\n"
     ]
    },
    {
     "name": "stdout",
     "output_type": "stream",
     "text": [
      "training_data/fastai/hadouken_979993.png\n",
      "training_data/fastai/hadouken_979994.png\n",
      "training_data/fastai/hadouken_979995.png\n",
      "training_data/fastai/hadouken_979996.png\n",
      "training_data/fastai/hadouken_979997.png\n",
      "training_data/fastai/hadouken_979998.png\n",
      "training_data/fastai/hadouken_979999.png\n",
      "training_data/fastai/fly_435990.png\n",
      "training_data/fastai/fly_435991.png\n",
      "training_data/fastai/fly_435992.png\n",
      "training_data/fastai/fly_435993.png\n",
      "training_data/fastai/fly_435994.png\n",
      "training_data/fastai/fly_435995.png\n",
      "training_data/fastai/fly_435996.png\n",
      "training_data/fastai/fly_435997.png\n",
      "training_data/fastai/fly_435998.png\n",
      "training_data/fastai/fly_435999.png\n",
      "training_data/fastai/normal_20990.png\n",
      "training_data/fastai/normal_20991.png\n",
      "training_data/fastai/normal_20992.png\n"
     ]
    },
    {
     "name": "stderr",
     "output_type": "stream",
     "text": [
      "/home/ale/anaconda3/envs/tensor20/lib/python3.6/site-packages/fastai/vision/transform.py:243: UserWarning: torch.gesv is deprecated in favour of torch.solve and will be removed in the next release. Please use torch.solve instead.\n",
      "  return torch.gesv(B,A)[0][:,0]\n"
     ]
    },
    {
     "name": "stdout",
     "output_type": "stream",
     "text": [
      "training_data/fastai/normal_20993.png\n",
      "training_data/fastai/normal_20994.png\n",
      "training_data/fastai/normal_20995.png\n",
      "training_data/fastai/normal_20996.png\n",
      "training_data/fastai/normal_20997.png\n",
      "training_data/fastai/normal_20998.png\n",
      "training_data/fastai/normal_20999.png\n",
      "training_data/fastai/underarm_59990.png\n",
      "training_data/fastai/underarm_59991.png\n"
     ]
    },
    {
     "name": "stderr",
     "output_type": "stream",
     "text": [
      "/home/ale/anaconda3/envs/tensor20/lib/python3.6/site-packages/fastai/vision/transform.py:243: UserWarning: torch.gesv is deprecated in favour of torch.solve and will be removed in the next release. Please use torch.solve instead.\n",
      "  return torch.gesv(B,A)[0][:,0]\n"
     ]
    },
    {
     "name": "stdout",
     "output_type": "stream",
     "text": [
      "training_data/fastai/underarm_59992.png\n",
      "training_data/fastai/underarm_59993.png\n",
      "training_data/fastai/underarm_59994.png\n",
      "training_data/fastai/underarm_59995.png\n",
      "training_data/fastai/underarm_59996.png\n",
      "training_data/fastai/underarm_59997.png\n",
      "training_data/fastai/underarm_59998.png\n",
      "training_data/fastai/underarm_59999.png\n",
      "training_data/fastai/underarm_248990.png\n",
      "training_data/fastai/underarm_248991.png\n",
      "training_data/fastai/underarm_248992.png\n",
      "training_data/fastai/underarm_248993.png\n",
      "training_data/fastai/underarm_248994.png\n",
      "training_data/fastai/underarm_248995.png\n",
      "training_data/fastai/underarm_248996.png\n",
      "training_data/fastai/underarm_248997.png\n",
      "training_data/fastai/underarm_248998.png\n"
     ]
    },
    {
     "name": "stderr",
     "output_type": "stream",
     "text": [
      "/home/ale/anaconda3/envs/tensor20/lib/python3.6/site-packages/fastai/vision/transform.py:243: UserWarning: torch.gesv is deprecated in favour of torch.solve and will be removed in the next release. Please use torch.solve instead.\n",
      "  return torch.gesv(B,A)[0][:,0]\n"
     ]
    },
    {
     "name": "stdout",
     "output_type": "stream",
     "text": [
      "training_data/fastai/underarm_248999.png\n",
      "training_data/fastai/dramatic_1262990.png\n",
      "training_data/fastai/dramatic_1262991.png\n",
      "training_data/fastai/dramatic_1262992.png\n",
      "training_data/fastai/dramatic_1262993.png\n",
      "training_data/fastai/dramatic_1262994.png\n",
      "training_data/fastai/dramatic_1262995.png\n"
     ]
    },
    {
     "name": "stderr",
     "output_type": "stream",
     "text": [
      "/home/ale/anaconda3/envs/tensor20/lib/python3.6/site-packages/fastai/vision/transform.py:243: UserWarning: torch.gesv is deprecated in favour of torch.solve and will be removed in the next release. Please use torch.solve instead.\n",
      "  return torch.gesv(B,A)[0][:,0]\n"
     ]
    },
    {
     "name": "stdout",
     "output_type": "stream",
     "text": [
      "training_data/fastai/dramatic_1262996.png\n",
      "training_data/fastai/dramatic_1262997.png\n",
      "training_data/fastai/dramatic_1262998.png\n",
      "training_data/fastai/dramatic_1262999.png\n",
      "training_data/fastai/moonwalk_1216990.png\n",
      "training_data/fastai/moonwalk_1216991.png\n",
      "training_data/fastai/moonwalk_1216992.png\n",
      "training_data/fastai/moonwalk_1216993.png\n",
      "training_data/fastai/moonwalk_1216994.png\n"
     ]
    },
    {
     "name": "stderr",
     "output_type": "stream",
     "text": [
      "/home/ale/anaconda3/envs/tensor20/lib/python3.6/site-packages/fastai/vision/transform.py:243: UserWarning: torch.gesv is deprecated in favour of torch.solve and will be removed in the next release. Please use torch.solve instead.\n",
      "  return torch.gesv(B,A)[0][:,0]\n",
      "/home/ale/anaconda3/envs/tensor20/lib/python3.6/site-packages/fastai/vision/transform.py:243: UserWarning: torch.gesv is deprecated in favour of torch.solve and will be removed in the next release. Please use torch.solve instead.\n",
      "  return torch.gesv(B,A)[0][:,0]\n"
     ]
    },
    {
     "name": "stdout",
     "output_type": "stream",
     "text": [
      "training_data/fastai/moonwalk_1216995.png\n",
      "training_data/fastai/moonwalk_1216996.png\n",
      "training_data/fastai/moonwalk_1216997.png\n",
      "training_data/fastai/moonwalk_1216998.png\n",
      "training_data/fastai/moonwalk_1216999.png\n",
      "training_data/fastai/normal_404990.png\n",
      "training_data/fastai/normal_404991.png\n",
      "training_data/fastai/normal_404992.png\n",
      "training_data/fastai/normal_404993.png\n",
      "training_data/fastai/normal_404994.png\n",
      "training_data/fastai/normal_404995.png\n",
      "training_data/fastai/normal_404996.png\n",
      "training_data/fastai/normal_404997.png\n",
      "training_data/fastai/normal_404998.png\n",
      "training_data/fastai/normal_404999.png\n",
      "training_data/fastai/underarm_473990.png\n",
      "training_data/fastai/underarm_473991.png\n",
      "training_data/fastai/underarm_473992.png\n"
     ]
    },
    {
     "name": "stderr",
     "output_type": "stream",
     "text": [
      "/home/ale/anaconda3/envs/tensor20/lib/python3.6/site-packages/fastai/vision/transform.py:243: UserWarning: torch.gesv is deprecated in favour of torch.solve and will be removed in the next release. Please use torch.solve instead.\n",
      "  return torch.gesv(B,A)[0][:,0]\n"
     ]
    },
    {
     "name": "stdout",
     "output_type": "stream",
     "text": [
      "training_data/fastai/underarm_473993.png\n",
      "training_data/fastai/underarm_473994.png\n",
      "training_data/fastai/underarm_473995.png\n",
      "training_data/fastai/underarm_473996.png\n",
      "training_data/fastai/underarm_473997.png\n",
      "training_data/fastai/underarm_473998.png\n",
      "training_data/fastai/underarm_473999.png\n",
      "training_data/fastai/moonwalk_84990.png\n"
     ]
    },
    {
     "name": "stderr",
     "output_type": "stream",
     "text": [
      "/home/ale/anaconda3/envs/tensor20/lib/python3.6/site-packages/fastai/vision/transform.py:243: UserWarning: torch.gesv is deprecated in favour of torch.solve and will be removed in the next release. Please use torch.solve instead.\n",
      "  return torch.gesv(B,A)[0][:,0]\n"
     ]
    },
    {
     "name": "stdout",
     "output_type": "stream",
     "text": [
      "training_data/fastai/moonwalk_84991.png\n",
      "training_data/fastai/moonwalk_84992.png\n",
      "training_data/fastai/moonwalk_84993.png\n",
      "training_data/fastai/moonwalk_84994.png\n",
      "training_data/fastai/moonwalk_84995.png\n",
      "training_data/fastai/moonwalk_84996.png\n",
      "training_data/fastai/moonwalk_84997.png\n",
      "training_data/fastai/moonwalk_84998.png\n",
      "training_data/fastai/moonwalk_84999.png\n",
      "training_data/fastai/wings_38990.png\n",
      "training_data/fastai/wings_38991.png\n",
      "training_data/fastai/wings_38992.png\n",
      "training_data/fastai/wings_38993.png\n",
      "training_data/fastai/wings_38994.png\n",
      "training_data/fastai/wings_38995.png\n",
      "training_data/fastai/wings_38996.png\n",
      "training_data/fastai/wings_38997.png\n",
      "training_data/fastai/wings_38998.png\n"
     ]
    },
    {
     "name": "stderr",
     "output_type": "stream",
     "text": [
      "/home/ale/anaconda3/envs/tensor20/lib/python3.6/site-packages/fastai/vision/transform.py:243: UserWarning: torch.gesv is deprecated in favour of torch.solve and will be removed in the next release. Please use torch.solve instead.\n",
      "  return torch.gesv(B,A)[0][:,0]\n"
     ]
    },
    {
     "name": "stdout",
     "output_type": "stream",
     "text": [
      "training_data/fastai/wings_38999.png\n",
      "training_data/fastai/wings_212990.png\n",
      "training_data/fastai/wings_212991.png\n",
      "training_data/fastai/wings_212992.png\n",
      "training_data/fastai/wings_212993.png\n",
      "training_data/fastai/wings_212994.png\n",
      "training_data/fastai/wings_212995.png\n",
      "training_data/fastai/wings_212996.png\n",
      "training_data/fastai/wings_212997.png\n",
      "training_data/fastai/wings_212998.png\n",
      "training_data/fastai/wings_212999.png\n"
     ]
    },
    {
     "name": "stderr",
     "output_type": "stream",
     "text": [
      "/home/ale/anaconda3/envs/tensor20/lib/python3.6/site-packages/fastai/vision/transform.py:243: UserWarning: torch.gesv is deprecated in favour of torch.solve and will be removed in the next release. Please use torch.solve instead.\n",
      "  return torch.gesv(B,A)[0][:,0]\n"
     ]
    },
    {
     "name": "stdout",
     "output_type": "stream",
     "text": [
      "training_data/fastai/dramatic_561990.png\n",
      "training_data/fastai/dramatic_561991.png\n",
      "training_data/fastai/dramatic_561992.png\n",
      "training_data/fastai/dramatic_561993.png\n",
      "training_data/fastai/dramatic_561994.png\n",
      "training_data/fastai/dramatic_561995.png\n",
      "training_data/fastai/dramatic_561996.png\n",
      "training_data/fastai/dramatic_561997.png\n"
     ]
    },
    {
     "name": "stderr",
     "output_type": "stream",
     "text": [
      "/home/ale/anaconda3/envs/tensor20/lib/python3.6/site-packages/fastai/vision/transform.py:243: UserWarning: torch.gesv is deprecated in favour of torch.solve and will be removed in the next release. Please use torch.solve instead.\n",
      "  return torch.gesv(B,A)[0][:,0]\n",
      "/home/ale/anaconda3/envs/tensor20/lib/python3.6/site-packages/fastai/vision/transform.py:243: UserWarning: torch.gesv is deprecated in favour of torch.solve and will be removed in the next release. Please use torch.solve instead.\n",
      "  return torch.gesv(B,A)[0][:,0]\n"
     ]
    },
    {
     "name": "stdout",
     "output_type": "stream",
     "text": [
      "training_data/fastai/dramatic_561998.png\n",
      "training_data/fastai/dramatic_561999.png\n",
      "training_data/fastai/fly_54990.png\n",
      "training_data/fastai/fly_54991.png\n",
      "training_data/fastai/fly_54992.png\n",
      "training_data/fastai/fly_54993.png\n",
      "training_data/fastai/fly_54994.png\n",
      "training_data/fastai/fly_54995.png\n",
      "training_data/fastai/fly_54996.png\n",
      "training_data/fastai/fly_54997.png\n",
      "training_data/fastai/fly_54998.png\n",
      "training_data/fastai/fly_54999.png\n",
      "training_data/fastai/moonwalk_251990.png\n",
      "training_data/fastai/moonwalk_251991.png\n",
      "training_data/fastai/moonwalk_251992.png\n",
      "training_data/fastai/moonwalk_251993.png\n"
     ]
    },
    {
     "name": "stderr",
     "output_type": "stream",
     "text": [
      "/home/ale/anaconda3/envs/tensor20/lib/python3.6/site-packages/fastai/vision/transform.py:243: UserWarning: torch.gesv is deprecated in favour of torch.solve and will be removed in the next release. Please use torch.solve instead.\n",
      "  return torch.gesv(B,A)[0][:,0]\n"
     ]
    },
    {
     "name": "stdout",
     "output_type": "stream",
     "text": [
      "training_data/fastai/moonwalk_251994.png\n",
      "training_data/fastai/moonwalk_251995.png\n",
      "training_data/fastai/moonwalk_251996.png\n",
      "training_data/fastai/moonwalk_251997.png\n",
      "training_data/fastai/moonwalk_251998.png\n",
      "training_data/fastai/moonwalk_251999.png\n",
      "training_data/fastai/fly_454990.png\n",
      "training_data/fastai/fly_454991.png\n",
      "training_data/fastai/fly_454992.png\n",
      "training_data/fastai/fly_454993.png\n",
      "training_data/fastai/fly_454994.png\n",
      "training_data/fastai/fly_454995.png\n",
      "training_data/fastai/fly_454996.png\n",
      "training_data/fastai/fly_454997.png\n",
      "training_data/fastai/fly_454998.png\n",
      "training_data/fastai/fly_454999.png\n",
      "training_data/fastai/backpack_528990.png\n",
      "training_data/fastai/backpack_528991.png\n",
      "training_data/fastai/backpack_528992.png\n",
      "training_data/fastai/backpack_528993.png\n"
     ]
    },
    {
     "name": "stderr",
     "output_type": "stream",
     "text": [
      "/home/ale/anaconda3/envs/tensor20/lib/python3.6/site-packages/fastai/vision/transform.py:243: UserWarning: torch.gesv is deprecated in favour of torch.solve and will be removed in the next release. Please use torch.solve instead.\n",
      "  return torch.gesv(B,A)[0][:,0]\n",
      "/home/ale/anaconda3/envs/tensor20/lib/python3.6/site-packages/fastai/vision/transform.py:243: UserWarning: torch.gesv is deprecated in favour of torch.solve and will be removed in the next release. Please use torch.solve instead.\n",
      "  return torch.gesv(B,A)[0][:,0]\n"
     ]
    },
    {
     "name": "stdout",
     "output_type": "stream",
     "text": [
      "training_data/fastai/backpack_528994.png\n",
      "training_data/fastai/backpack_528995.png\n",
      "training_data/fastai/backpack_528996.png\n",
      "training_data/fastai/backpack_528997.png\n",
      "training_data/fastai/backpack_528998.png\n",
      "training_data/fastai/backpack_528999.png\n",
      "training_data/fastai/wings_33990.png\n",
      "training_data/fastai/wings_33991.png\n",
      "training_data/fastai/wings_33992.png\n"
     ]
    },
    {
     "name": "stderr",
     "output_type": "stream",
     "text": [
      "/home/ale/anaconda3/envs/tensor20/lib/python3.6/site-packages/fastai/vision/transform.py:243: UserWarning: torch.gesv is deprecated in favour of torch.solve and will be removed in the next release. Please use torch.solve instead.\n",
      "  return torch.gesv(B,A)[0][:,0]\n"
     ]
    },
    {
     "name": "stdout",
     "output_type": "stream",
     "text": [
      "training_data/fastai/wings_33993.png\n",
      "training_data/fastai/wings_33994.png\n",
      "training_data/fastai/wings_33995.png\n",
      "training_data/fastai/wings_33996.png\n",
      "training_data/fastai/wings_33997.png\n",
      "training_data/fastai/wings_33998.png\n",
      "training_data/fastai/wings_33999.png\n",
      "training_data/fastai/hadouken_1233990.png\n",
      "training_data/fastai/hadouken_1233991.png\n",
      "training_data/fastai/hadouken_1233992.png\n",
      "training_data/fastai/hadouken_1233993.png\n",
      "training_data/fastai/hadouken_1233994.png\n",
      "training_data/fastai/hadouken_1233995.png\n",
      "training_data/fastai/hadouken_1233996.png\n",
      "training_data/fastai/hadouken_1233997.png\n",
      "training_data/fastai/hadouken_1233998.png\n",
      "training_data/fastai/hadouken_1233999.png\n"
     ]
    },
    {
     "name": "stderr",
     "output_type": "stream",
     "text": [
      "/home/ale/anaconda3/envs/tensor20/lib/python3.6/site-packages/fastai/vision/transform.py:243: UserWarning: torch.gesv is deprecated in favour of torch.solve and will be removed in the next release. Please use torch.solve instead.\n",
      "  return torch.gesv(B,A)[0][:,0]\n"
     ]
    },
    {
     "name": "stdout",
     "output_type": "stream",
     "text": [
      "training_data/fastai/fly_442990.png\n",
      "training_data/fastai/fly_442991.png\n",
      "training_data/fastai/fly_442992.png\n",
      "training_data/fastai/fly_442993.png\n",
      "training_data/fastai/fly_442994.png\n",
      "training_data/fastai/fly_442995.png\n",
      "training_data/fastai/fly_442996.png\n",
      "training_data/fastai/fly_442997.png\n"
     ]
    },
    {
     "name": "stderr",
     "output_type": "stream",
     "text": [
      "/home/ale/anaconda3/envs/tensor20/lib/python3.6/site-packages/fastai/vision/transform.py:243: UserWarning: torch.gesv is deprecated in favour of torch.solve and will be removed in the next release. Please use torch.solve instead.\n",
      "  return torch.gesv(B,A)[0][:,0]\n"
     ]
    },
    {
     "name": "stdout",
     "output_type": "stream",
     "text": [
      "training_data/fastai/fly_442998.png\n",
      "training_data/fastai/fly_442999.png\n",
      "training_data/fastai/underarm_465990.png\n",
      "training_data/fastai/underarm_465991.png\n",
      "training_data/fastai/underarm_465992.png\n",
      "training_data/fastai/underarm_465993.png\n",
      "training_data/fastai/underarm_465994.png\n",
      "training_data/fastai/underarm_465995.png\n",
      "training_data/fastai/underarm_465996.png\n",
      "training_data/fastai/underarm_465997.png\n",
      "training_data/fastai/underarm_465998.png\n",
      "training_data/fastai/underarm_465999.png\n",
      "training_data/fastai/fly_231990.png\n",
      "training_data/fastai/fly_231991.png\n",
      "training_data/fastai/fly_231992.png\n",
      "training_data/fastai/fly_231993.png\n"
     ]
    },
    {
     "name": "stderr",
     "output_type": "stream",
     "text": [
      "/home/ale/anaconda3/envs/tensor20/lib/python3.6/site-packages/fastai/vision/transform.py:243: UserWarning: torch.gesv is deprecated in favour of torch.solve and will be removed in the next release. Please use torch.solve instead.\n",
      "  return torch.gesv(B,A)[0][:,0]\n",
      "/home/ale/anaconda3/envs/tensor20/lib/python3.6/site-packages/fastai/vision/transform.py:243: UserWarning: torch.gesv is deprecated in favour of torch.solve and will be removed in the next release. Please use torch.solve instead.\n",
      "  return torch.gesv(B,A)[0][:,0]\n"
     ]
    },
    {
     "name": "stdout",
     "output_type": "stream",
     "text": [
      "training_data/fastai/fly_231994.png\n",
      "training_data/fastai/fly_231995.png\n",
      "training_data/fastai/fly_231996.png\n",
      "training_data/fastai/fly_231997.png\n",
      "training_data/fastai/fly_231998.png\n",
      "training_data/fastai/fly_231999.png\n",
      "training_data/fastai/moonwalk_255990.png\n",
      "training_data/fastai/moonwalk_255991.png\n"
     ]
    },
    {
     "name": "stderr",
     "output_type": "stream",
     "text": [
      "/home/ale/anaconda3/envs/tensor20/lib/python3.6/site-packages/fastai/vision/transform.py:243: UserWarning: torch.gesv is deprecated in favour of torch.solve and will be removed in the next release. Please use torch.solve instead.\n",
      "  return torch.gesv(B,A)[0][:,0]\n"
     ]
    },
    {
     "name": "stdout",
     "output_type": "stream",
     "text": [
      "training_data/fastai/moonwalk_255992.png\n",
      "training_data/fastai/moonwalk_255993.png\n",
      "training_data/fastai/moonwalk_255994.png\n",
      "training_data/fastai/moonwalk_255995.png\n",
      "training_data/fastai/moonwalk_255996.png\n",
      "training_data/fastai/moonwalk_255997.png\n",
      "training_data/fastai/moonwalk_255998.png\n",
      "training_data/fastai/moonwalk_255999.png\n",
      "training_data/fastai/wings_426990.png\n",
      "training_data/fastai/wings_426991.png\n",
      "training_data/fastai/wings_426992.png\n",
      "training_data/fastai/wings_426993.png\n",
      "training_data/fastai/wings_426994.png\n",
      "training_data/fastai/wings_426995.png\n",
      "training_data/fastai/wings_426996.png\n",
      "training_data/fastai/wings_426997.png\n",
      "training_data/fastai/wings_426998.png\n",
      "training_data/fastai/wings_426999.png\n"
     ]
    },
    {
     "name": "stderr",
     "output_type": "stream",
     "text": [
      "/home/ale/anaconda3/envs/tensor20/lib/python3.6/site-packages/fastai/vision/transform.py:243: UserWarning: torch.gesv is deprecated in favour of torch.solve and will be removed in the next release. Please use torch.solve instead.\n",
      "  return torch.gesv(B,A)[0][:,0]\n",
      "/home/ale/anaconda3/envs/tensor20/lib/python3.6/site-packages/fastai/vision/transform.py:243: UserWarning: torch.gesv is deprecated in favour of torch.solve and will be removed in the next release. Please use torch.solve instead.\n",
      "  return torch.gesv(B,A)[0][:,0]\n"
     ]
    },
    {
     "name": "stdout",
     "output_type": "stream",
     "text": [
      "training_data/fastai/wings_22990.png\n",
      "training_data/fastai/wings_22991.png\n",
      "training_data/fastai/wings_22992.png\n",
      "training_data/fastai/wings_22993.png\n",
      "training_data/fastai/wings_22994.png\n",
      "training_data/fastai/wings_22995.png\n",
      "training_data/fastai/wings_22996.png\n",
      "training_data/fastai/wings_22997.png\n",
      "training_data/fastai/wings_22998.png\n",
      "training_data/fastai/wings_22999.png\n",
      "training_data/fastai/dramatic_556990.png\n",
      "training_data/fastai/dramatic_556991.png\n",
      "training_data/fastai/dramatic_556992.png\n",
      "training_data/fastai/dramatic_556993.png\n",
      "training_data/fastai/dramatic_556994.png\n",
      "training_data/fastai/dramatic_556995.png\n"
     ]
    },
    {
     "name": "stderr",
     "output_type": "stream",
     "text": [
      "/home/ale/anaconda3/envs/tensor20/lib/python3.6/site-packages/fastai/vision/transform.py:243: UserWarning: torch.gesv is deprecated in favour of torch.solve and will be removed in the next release. Please use torch.solve instead.\n",
      "  return torch.gesv(B,A)[0][:,0]\n",
      "/home/ale/anaconda3/envs/tensor20/lib/python3.6/site-packages/fastai/vision/transform.py:243: UserWarning: torch.gesv is deprecated in favour of torch.solve and will be removed in the next release. Please use torch.solve instead.\n",
      "  return torch.gesv(B,A)[0][:,0]\n"
     ]
    },
    {
     "name": "stdout",
     "output_type": "stream",
     "text": [
      "training_data/fastai/dramatic_556996.png\n",
      "training_data/fastai/dramatic_556997.png\n",
      "training_data/fastai/dramatic_556998.png\n",
      "training_data/fastai/dramatic_556999.png\n",
      "training_data/fastai/backpack_107990.png\n",
      "training_data/fastai/backpack_107991.png\n",
      "training_data/fastai/backpack_107992.png\n",
      "training_data/fastai/backpack_107993.png\n",
      "training_data/fastai/backpack_107994.png\n",
      "training_data/fastai/backpack_107995.png\n",
      "training_data/fastai/backpack_107996.png\n",
      "training_data/fastai/backpack_107997.png\n",
      "training_data/fastai/backpack_107998.png\n",
      "training_data/fastai/backpack_107999.png\n",
      "training_data/fastai/underarm_472990.png\n",
      "training_data/fastai/underarm_472991.png\n",
      "training_data/fastai/underarm_472992.png\n",
      "training_data/fastai/underarm_472993.png\n"
     ]
    },
    {
     "name": "stderr",
     "output_type": "stream",
     "text": [
      "/home/ale/anaconda3/envs/tensor20/lib/python3.6/site-packages/fastai/vision/transform.py:243: UserWarning: torch.gesv is deprecated in favour of torch.solve and will be removed in the next release. Please use torch.solve instead.\n",
      "  return torch.gesv(B,A)[0][:,0]\n"
     ]
    },
    {
     "name": "stdout",
     "output_type": "stream",
     "text": [
      "training_data/fastai/underarm_472994.png\n",
      "training_data/fastai/underarm_472995.png\n",
      "training_data/fastai/underarm_472996.png\n",
      "training_data/fastai/underarm_472997.png\n",
      "training_data/fastai/underarm_472998.png\n",
      "training_data/fastai/underarm_472999.png\n",
      "training_data/fastai/hadouken_978990.png\n",
      "training_data/fastai/hadouken_978991.png\n",
      "training_data/fastai/hadouken_978992.png\n",
      "training_data/fastai/hadouken_978993.png\n"
     ]
    },
    {
     "name": "stderr",
     "output_type": "stream",
     "text": [
      "/home/ale/anaconda3/envs/tensor20/lib/python3.6/site-packages/fastai/vision/transform.py:243: UserWarning: torch.gesv is deprecated in favour of torch.solve and will be removed in the next release. Please use torch.solve instead.\n",
      "  return torch.gesv(B,A)[0][:,0]\n"
     ]
    },
    {
     "name": "stdout",
     "output_type": "stream",
     "text": [
      "training_data/fastai/hadouken_978994.png\n",
      "training_data/fastai/hadouken_978995.png\n",
      "training_data/fastai/hadouken_978996.png\n",
      "training_data/fastai/hadouken_978997.png\n",
      "training_data/fastai/hadouken_978998.png\n",
      "training_data/fastai/hadouken_978999.png\n",
      "training_data/fastai/fly_440990.png\n",
      "training_data/fastai/fly_440991.png\n",
      "training_data/fastai/fly_440992.png\n",
      "training_data/fastai/fly_440993.png\n",
      "training_data/fastai/fly_440994.png\n",
      "training_data/fastai/fly_440995.png\n",
      "training_data/fastai/fly_440996.png\n",
      "training_data/fastai/fly_440997.png\n",
      "training_data/fastai/fly_440998.png\n",
      "training_data/fastai/fly_440999.png\n",
      "training_data/fastai/hadouken_521990.png\n"
     ]
    },
    {
     "name": "stderr",
     "output_type": "stream",
     "text": [
      "/home/ale/anaconda3/envs/tensor20/lib/python3.6/site-packages/fastai/vision/transform.py:243: UserWarning: torch.gesv is deprecated in favour of torch.solve and will be removed in the next release. Please use torch.solve instead.\n",
      "  return torch.gesv(B,A)[0][:,0]\n"
     ]
    },
    {
     "name": "stdout",
     "output_type": "stream",
     "text": [
      "training_data/fastai/hadouken_521991.png\n",
      "training_data/fastai/hadouken_521992.png\n",
      "training_data/fastai/hadouken_521993.png\n",
      "training_data/fastai/hadouken_521994.png\n",
      "training_data/fastai/hadouken_521995.png\n",
      "training_data/fastai/hadouken_521996.png\n",
      "training_data/fastai/hadouken_521997.png\n",
      "training_data/fastai/hadouken_521998.png\n",
      "training_data/fastai/hadouken_521999.png\n",
      "training_data/fastai/underarm_66990.png\n",
      "training_data/fastai/underarm_66991.png\n",
      "training_data/fastai/underarm_66992.png\n",
      "training_data/fastai/underarm_66993.png\n",
      "training_data/fastai/underarm_66994.png\n",
      "training_data/fastai/underarm_66995.png\n",
      "training_data/fastai/underarm_66996.png\n",
      "training_data/fastai/underarm_66997.png\n",
      "training_data/fastai/underarm_66998.png\n",
      "training_data/fastai/underarm_66999.png\n"
     ]
    },
    {
     "name": "stderr",
     "output_type": "stream",
     "text": [
      "/home/ale/anaconda3/envs/tensor20/lib/python3.6/site-packages/fastai/vision/transform.py:243: UserWarning: torch.gesv is deprecated in favour of torch.solve and will be removed in the next release. Please use torch.solve instead.\n",
      "  return torch.gesv(B,A)[0][:,0]\n"
     ]
    },
    {
     "name": "stdout",
     "output_type": "stream",
     "text": [
      "training_data/fastai/dramatic_1249990.png\n",
      "training_data/fastai/dramatic_1249991.png\n",
      "training_data/fastai/dramatic_1249992.png\n",
      "training_data/fastai/dramatic_1249993.png\n",
      "training_data/fastai/dramatic_1249994.png\n",
      "training_data/fastai/dramatic_1249995.png\n",
      "training_data/fastai/dramatic_1249996.png\n",
      "training_data/fastai/dramatic_1249997.png\n",
      "training_data/fastai/dramatic_1249998.png\n",
      "training_data/fastai/dramatic_1249999.png\n"
     ]
    },
    {
     "name": "stderr",
     "output_type": "stream",
     "text": [
      "/home/ale/anaconda3/envs/tensor20/lib/python3.6/site-packages/fastai/vision/transform.py:243: UserWarning: torch.gesv is deprecated in favour of torch.solve and will be removed in the next release. Please use torch.solve instead.\n",
      "  return torch.gesv(B,A)[0][:,0]\n"
     ]
    },
    {
     "name": "stdout",
     "output_type": "stream",
     "text": [
      "training_data/fastai/normal_201990.png\n",
      "training_data/fastai/normal_201991.png\n",
      "training_data/fastai/normal_201992.png\n",
      "training_data/fastai/normal_201993.png\n",
      "training_data/fastai/normal_201994.png\n",
      "training_data/fastai/normal_201995.png\n",
      "training_data/fastai/normal_201996.png\n",
      "training_data/fastai/normal_201997.png\n"
     ]
    },
    {
     "name": "stderr",
     "output_type": "stream",
     "text": [
      "/home/ale/anaconda3/envs/tensor20/lib/python3.6/site-packages/fastai/vision/transform.py:243: UserWarning: torch.gesv is deprecated in favour of torch.solve and will be removed in the next release. Please use torch.solve instead.\n",
      "  return torch.gesv(B,A)[0][:,0]\n",
      "/home/ale/anaconda3/envs/tensor20/lib/python3.6/site-packages/fastai/vision/transform.py:243: UserWarning: torch.gesv is deprecated in favour of torch.solve and will be removed in the next release. Please use torch.solve instead.\n",
      "  return torch.gesv(B,A)[0][:,0]\n"
     ]
    },
    {
     "name": "stdout",
     "output_type": "stream",
     "text": [
      "training_data/fastai/normal_201998.png\n",
      "training_data/fastai/normal_201999.png\n",
      "training_data/fastai/normal_1204990.png\n",
      "training_data/fastai/normal_1204991.png\n",
      "training_data/fastai/normal_1204992.png\n",
      "training_data/fastai/normal_1204993.png\n",
      "training_data/fastai/normal_1204994.png\n",
      "training_data/fastai/normal_1204995.png\n",
      "training_data/fastai/normal_1204996.png\n",
      "training_data/fastai/normal_1204997.png\n",
      "training_data/fastai/normal_1204998.png\n",
      "training_data/fastai/normal_1204999.png\n",
      "training_data/fastai/dramatic_1259990.png\n",
      "training_data/fastai/dramatic_1259991.png\n",
      "training_data/fastai/dramatic_1259992.png\n",
      "training_data/fastai/dramatic_1259993.png\n",
      "training_data/fastai/dramatic_1259994.png\n",
      "training_data/fastai/dramatic_1259995.png\n",
      "training_data/fastai/dramatic_1259996.png\n",
      "training_data/fastai/dramatic_1259997.png\n",
      "training_data/fastai/dramatic_1259998.png\n",
      "training_data/fastai/dramatic_1259999.png\n",
      "training_data/fastai/fly_438990.png\n",
      "training_data/fastai/fly_438991.png\n",
      "training_data/fastai/fly_438992.png\n",
      "training_data/fastai/fly_438993.png\n"
     ]
    },
    {
     "name": "stderr",
     "output_type": "stream",
     "text": [
      "/home/ale/anaconda3/envs/tensor20/lib/python3.6/site-packages/fastai/vision/transform.py:243: UserWarning: torch.gesv is deprecated in favour of torch.solve and will be removed in the next release. Please use torch.solve instead.\n",
      "  return torch.gesv(B,A)[0][:,0]\n",
      "/home/ale/anaconda3/envs/tensor20/lib/python3.6/site-packages/fastai/vision/transform.py:243: UserWarning: torch.gesv is deprecated in favour of torch.solve and will be removed in the next release. Please use torch.solve instead.\n",
      "  return torch.gesv(B,A)[0][:,0]\n"
     ]
    },
    {
     "name": "stdout",
     "output_type": "stream",
     "text": [
      "training_data/fastai/fly_438994.png\n",
      "training_data/fastai/fly_438995.png\n",
      "training_data/fastai/fly_438996.png\n",
      "training_data/fastai/fly_438997.png\n",
      "training_data/fastai/fly_438998.png\n",
      "training_data/fastai/fly_438999.png\n",
      "training_data/fastai/normal_1990.png\n"
     ]
    },
    {
     "name": "stderr",
     "output_type": "stream",
     "text": [
      "/home/ale/anaconda3/envs/tensor20/lib/python3.6/site-packages/fastai/vision/transform.py:243: UserWarning: torch.gesv is deprecated in favour of torch.solve and will be removed in the next release. Please use torch.solve instead.\n",
      "  return torch.gesv(B,A)[0][:,0]\n"
     ]
    },
    {
     "name": "stdout",
     "output_type": "stream",
     "text": [
      "training_data/fastai/normal_1991.png\n",
      "training_data/fastai/normal_1992.png\n",
      "training_data/fastai/normal_1993.png\n",
      "training_data/fastai/normal_1994.png\n",
      "training_data/fastai/normal_1995.png\n",
      "training_data/fastai/normal_1996.png\n",
      "training_data/fastai/normal_1997.png\n",
      "training_data/fastai/normal_1998.png\n",
      "training_data/fastai/normal_1999.png\n",
      "training_data/fastai/fly_42990.png\n",
      "training_data/fastai/fly_42991.png\n",
      "training_data/fastai/fly_42992.png\n",
      "training_data/fastai/fly_42993.png\n",
      "training_data/fastai/fly_42994.png\n",
      "training_data/fastai/fly_42995.png\n",
      "training_data/fastai/fly_42996.png\n",
      "training_data/fastai/fly_42997.png\n",
      "training_data/fastai/fly_42998.png\n",
      "training_data/fastai/fly_42999.png\n",
      "training_data/fastai/normal_805990.png\n",
      "training_data/fastai/normal_805991.png\n",
      "training_data/fastai/normal_805992.png\n",
      "training_data/fastai/normal_805993.png\n",
      "training_data/fastai/normal_805994.png\n",
      "training_data/fastai/normal_805995.png\n",
      "training_data/fastai/normal_805996.png\n",
      "training_data/fastai/normal_805997.png\n",
      "training_data/fastai/normal_805998.png\n",
      "training_data/fastai/normal_805999.png\n",
      "training_data/fastai/normal_410990.png\n"
     ]
    },
    {
     "name": "stderr",
     "output_type": "stream",
     "text": [
      "/home/ale/anaconda3/envs/tensor20/lib/python3.6/site-packages/fastai/vision/transform.py:243: UserWarning: torch.gesv is deprecated in favour of torch.solve and will be removed in the next release. Please use torch.solve instead.\n",
      "  return torch.gesv(B,A)[0][:,0]\n",
      "/home/ale/anaconda3/envs/tensor20/lib/python3.6/site-packages/fastai/vision/transform.py:243: UserWarning: torch.gesv is deprecated in favour of torch.solve and will be removed in the next release. Please use torch.solve instead.\n",
      "  return torch.gesv(B,A)[0][:,0]\n"
     ]
    },
    {
     "name": "stdout",
     "output_type": "stream",
     "text": [
      "training_data/fastai/normal_410991.png\n",
      "training_data/fastai/normal_410992.png\n",
      "training_data/fastai/normal_410993.png\n",
      "training_data/fastai/normal_410994.png\n",
      "training_data/fastai/normal_410995.png\n",
      "training_data/fastai/normal_410996.png\n",
      "training_data/fastai/normal_410997.png\n",
      "training_data/fastai/normal_410998.png\n",
      "training_data/fastai/normal_410999.png\n",
      "training_data/fastai/fly_56990.png\n"
     ]
    },
    {
     "name": "stderr",
     "output_type": "stream",
     "text": [
      "/home/ale/anaconda3/envs/tensor20/lib/python3.6/site-packages/fastai/vision/transform.py:243: UserWarning: torch.gesv is deprecated in favour of torch.solve and will be removed in the next release. Please use torch.solve instead.\n",
      "  return torch.gesv(B,A)[0][:,0]\n"
     ]
    },
    {
     "name": "stdout",
     "output_type": "stream",
     "text": [
      "training_data/fastai/fly_56991.png\n",
      "training_data/fastai/fly_56992.png\n",
      "training_data/fastai/fly_56993.png\n",
      "training_data/fastai/fly_56994.png\n",
      "training_data/fastai/fly_56995.png\n",
      "training_data/fastai/fly_56996.png\n",
      "training_data/fastai/fly_56997.png\n",
      "training_data/fastai/fly_56998.png\n",
      "training_data/fastai/fly_56999.png\n"
     ]
    },
    {
     "name": "stderr",
     "output_type": "stream",
     "text": [
      "/home/ale/anaconda3/envs/tensor20/lib/python3.6/site-packages/fastai/vision/transform.py:243: UserWarning: torch.gesv is deprecated in favour of torch.solve and will be removed in the next release. Please use torch.solve instead.\n",
      "  return torch.gesv(B,A)[0][:,0]\n"
     ]
    },
    {
     "name": "stdout",
     "output_type": "stream",
     "text": [
      "training_data/fastai/backpack_1242990.png\n",
      "training_data/fastai/backpack_1242991.png\n",
      "training_data/fastai/backpack_1242992.png\n",
      "training_data/fastai/backpack_1242993.png\n",
      "training_data/fastai/backpack_1242994.png\n",
      "training_data/fastai/backpack_1242995.png\n",
      "training_data/fastai/backpack_1242996.png\n",
      "training_data/fastai/backpack_1242997.png\n",
      "training_data/fastai/backpack_1242998.png\n",
      "training_data/fastai/backpack_1242999.png\n",
      "training_data/fastai/dramatic_292990.png\n",
      "training_data/fastai/dramatic_292991.png\n",
      "training_data/fastai/dramatic_292992.png\n",
      "training_data/fastai/dramatic_292993.png\n",
      "training_data/fastai/dramatic_292994.png\n",
      "training_data/fastai/dramatic_292995.png\n"
     ]
    },
    {
     "name": "stderr",
     "output_type": "stream",
     "text": [
      "/home/ale/anaconda3/envs/tensor20/lib/python3.6/site-packages/fastai/vision/transform.py:243: UserWarning: torch.gesv is deprecated in favour of torch.solve and will be removed in the next release. Please use torch.solve instead.\n",
      "  return torch.gesv(B,A)[0][:,0]\n"
     ]
    },
    {
     "name": "stdout",
     "output_type": "stream",
     "text": [
      "training_data/fastai/dramatic_292996.png\n",
      "training_data/fastai/dramatic_292997.png\n",
      "training_data/fastai/dramatic_292998.png\n",
      "training_data/fastai/dramatic_292999.png\n",
      "training_data/fastai/fly_233990.png\n",
      "training_data/fastai/fly_233991.png\n",
      "training_data/fastai/fly_233992.png\n",
      "training_data/fastai/fly_233993.png\n"
     ]
    },
    {
     "name": "stderr",
     "output_type": "stream",
     "text": [
      "/home/ale/anaconda3/envs/tensor20/lib/python3.6/site-packages/fastai/vision/transform.py:243: UserWarning: torch.gesv is deprecated in favour of torch.solve and will be removed in the next release. Please use torch.solve instead.\n",
      "  return torch.gesv(B,A)[0][:,0]\n"
     ]
    },
    {
     "name": "stdout",
     "output_type": "stream",
     "text": [
      "training_data/fastai/fly_233994.png\n",
      "training_data/fastai/fly_233995.png\n",
      "training_data/fastai/fly_233996.png\n",
      "training_data/fastai/fly_233997.png\n",
      "training_data/fastai/fly_233998.png\n",
      "training_data/fastai/fly_233999.png\n",
      "training_data/fastai/normal_1205990.png\n",
      "training_data/fastai/normal_1205991.png\n",
      "training_data/fastai/normal_1205992.png\n",
      "training_data/fastai/normal_1205993.png\n",
      "training_data/fastai/normal_1205994.png\n",
      "training_data/fastai/normal_1205995.png\n",
      "training_data/fastai/normal_1205996.png\n",
      "training_data/fastai/normal_1205997.png\n",
      "training_data/fastai/normal_1205998.png\n",
      "training_data/fastai/normal_1205999.png\n",
      "training_data/fastai/fly_428990.png\n",
      "training_data/fastai/fly_428991.png\n",
      "training_data/fastai/fly_428992.png\n"
     ]
    },
    {
     "name": "stderr",
     "output_type": "stream",
     "text": [
      "/home/ale/anaconda3/envs/tensor20/lib/python3.6/site-packages/fastai/vision/transform.py:243: UserWarning: torch.gesv is deprecated in favour of torch.solve and will be removed in the next release. Please use torch.solve instead.\n",
      "  return torch.gesv(B,A)[0][:,0]\n",
      "/home/ale/anaconda3/envs/tensor20/lib/python3.6/site-packages/fastai/vision/transform.py:243: UserWarning: torch.gesv is deprecated in favour of torch.solve and will be removed in the next release. Please use torch.solve instead.\n",
      "  return torch.gesv(B,A)[0][:,0]\n"
     ]
    },
    {
     "name": "stdout",
     "output_type": "stream",
     "text": [
      "training_data/fastai/fly_428993.png\n",
      "training_data/fastai/fly_428994.png\n",
      "training_data/fastai/fly_428995.png\n",
      "training_data/fastai/fly_428996.png\n",
      "training_data/fastai/fly_428997.png\n",
      "training_data/fastai/fly_428998.png\n",
      "training_data/fastai/fly_428999.png\n",
      "training_data/fastai/backpack_1246990.png\n",
      "training_data/fastai/backpack_1246991.png\n",
      "training_data/fastai/backpack_1246992.png\n",
      "training_data/fastai/backpack_1246993.png\n",
      "training_data/fastai/backpack_1246994.png\n",
      "training_data/fastai/backpack_1246995.png\n",
      "training_data/fastai/backpack_1246996.png\n",
      "training_data/fastai/backpack_1246997.png\n",
      "training_data/fastai/backpack_1246998.png\n"
     ]
    },
    {
     "name": "stderr",
     "output_type": "stream",
     "text": [
      "/home/ale/anaconda3/envs/tensor20/lib/python3.6/site-packages/fastai/vision/transform.py:243: UserWarning: torch.gesv is deprecated in favour of torch.solve and will be removed in the next release. Please use torch.solve instead.\n",
      "  return torch.gesv(B,A)[0][:,0]\n"
     ]
    },
    {
     "name": "stdout",
     "output_type": "stream",
     "text": [
      "training_data/fastai/backpack_1246999.png\n",
      "training_data/fastai/fly_847990.png\n",
      "training_data/fastai/fly_847991.png\n",
      "training_data/fastai/fly_847992.png\n",
      "training_data/fastai/fly_847993.png\n",
      "training_data/fastai/fly_847994.png\n",
      "training_data/fastai/fly_847995.png\n",
      "training_data/fastai/fly_847996.png\n",
      "training_data/fastai/fly_847997.png\n"
     ]
    },
    {
     "name": "stderr",
     "output_type": "stream",
     "text": [
      "/home/ale/anaconda3/envs/tensor20/lib/python3.6/site-packages/fastai/vision/transform.py:243: UserWarning: torch.gesv is deprecated in favour of torch.solve and will be removed in the next release. Please use torch.solve instead.\n",
      "  return torch.gesv(B,A)[0][:,0]\n"
     ]
    },
    {
     "name": "stdout",
     "output_type": "stream",
     "text": [
      "training_data/fastai/fly_847998.png\n",
      "training_data/fastai/fly_847999.png\n",
      "training_data/fastai/normal_807990.png\n",
      "training_data/fastai/normal_807991.png\n",
      "training_data/fastai/normal_807992.png\n",
      "training_data/fastai/normal_807993.png\n",
      "training_data/fastai/normal_807994.png\n",
      "training_data/fastai/normal_807995.png\n"
     ]
    },
    {
     "name": "stderr",
     "output_type": "stream",
     "text": [
      "/home/ale/anaconda3/envs/tensor20/lib/python3.6/site-packages/fastai/vision/transform.py:243: UserWarning: torch.gesv is deprecated in favour of torch.solve and will be removed in the next release. Please use torch.solve instead.\n",
      "  return torch.gesv(B,A)[0][:,0]\n"
     ]
    },
    {
     "name": "stdout",
     "output_type": "stream",
     "text": [
      "training_data/fastai/normal_807996.png\n",
      "training_data/fastai/normal_807997.png\n",
      "training_data/fastai/normal_807998.png\n",
      "training_data/fastai/normal_807999.png\n",
      "training_data/fastai/fly_238990.png\n",
      "training_data/fastai/fly_238991.png\n",
      "training_data/fastai/fly_238992.png\n"
     ]
    },
    {
     "name": "stderr",
     "output_type": "stream",
     "text": [
      "/home/ale/anaconda3/envs/tensor20/lib/python3.6/site-packages/fastai/vision/transform.py:243: UserWarning: torch.gesv is deprecated in favour of torch.solve and will be removed in the next release. Please use torch.solve instead.\n",
      "  return torch.gesv(B,A)[0][:,0]\n"
     ]
    },
    {
     "name": "stdout",
     "output_type": "stream",
     "text": [
      "training_data/fastai/fly_238993.png\n",
      "training_data/fastai/fly_238994.png\n",
      "training_data/fastai/fly_238995.png\n",
      "training_data/fastai/fly_238996.png\n",
      "training_data/fastai/fly_238997.png\n",
      "training_data/fastai/fly_238998.png\n",
      "training_data/fastai/fly_238999.png\n",
      "training_data/fastai/fly_446990.png\n",
      "training_data/fastai/fly_446991.png\n",
      "training_data/fastai/fly_446992.png\n",
      "training_data/fastai/fly_446993.png\n",
      "training_data/fastai/fly_446994.png\n",
      "training_data/fastai/fly_446995.png\n",
      "training_data/fastai/fly_446996.png\n",
      "training_data/fastai/fly_446997.png\n",
      "training_data/fastai/fly_446998.png\n",
      "training_data/fastai/fly_446999.png\n"
     ]
    },
    {
     "name": "stderr",
     "output_type": "stream",
     "text": [
      "/home/ale/anaconda3/envs/tensor20/lib/python3.6/site-packages/fastai/vision/transform.py:243: UserWarning: torch.gesv is deprecated in favour of torch.solve and will be removed in the next release. Please use torch.solve instead.\n",
      "  return torch.gesv(B,A)[0][:,0]\n",
      "/home/ale/anaconda3/envs/tensor20/lib/python3.6/site-packages/fastai/vision/transform.py:243: UserWarning: torch.gesv is deprecated in favour of torch.solve and will be removed in the next release. Please use torch.solve instead.\n",
      "  return torch.gesv(B,A)[0][:,0]\n"
     ]
    },
    {
     "name": "stdout",
     "output_type": "stream",
     "text": [
      "training_data/fastai/hadouken_523990.png\n",
      "training_data/fastai/hadouken_523991.png\n",
      "training_data/fastai/hadouken_523992.png\n",
      "training_data/fastai/hadouken_523993.png\n",
      "training_data/fastai/hadouken_523994.png\n",
      "training_data/fastai/hadouken_523995.png\n",
      "training_data/fastai/hadouken_523996.png\n",
      "training_data/fastai/hadouken_523997.png\n",
      "training_data/fastai/hadouken_523998.png\n",
      "training_data/fastai/hadouken_523999.png\n",
      "training_data/fastai/backpack_1240990.png\n",
      "training_data/fastai/backpack_1240991.png\n",
      "training_data/fastai/backpack_1240992.png\n",
      "training_data/fastai/backpack_1240993.png\n",
      "training_data/fastai/backpack_1240994.png\n",
      "training_data/fastai/backpack_1240995.png\n",
      "training_data/fastai/backpack_1240996.png\n",
      "training_data/fastai/backpack_1240997.png\n",
      "training_data/fastai/backpack_1240998.png\n",
      "training_data/fastai/backpack_1240999.png\n",
      "training_data/fastai/underarm_874990.png\n"
     ]
    },
    {
     "name": "stderr",
     "output_type": "stream",
     "text": [
      "/home/ale/anaconda3/envs/tensor20/lib/python3.6/site-packages/fastai/vision/transform.py:243: UserWarning: torch.gesv is deprecated in favour of torch.solve and will be removed in the next release. Please use torch.solve instead.\n",
      "  return torch.gesv(B,A)[0][:,0]\n"
     ]
    },
    {
     "name": "stdout",
     "output_type": "stream",
     "text": [
      "training_data/fastai/underarm_874991.png\n",
      "training_data/fastai/underarm_874992.png\n",
      "training_data/fastai/underarm_874993.png\n",
      "training_data/fastai/underarm_874994.png\n",
      "training_data/fastai/underarm_874995.png\n",
      "training_data/fastai/underarm_874996.png\n",
      "training_data/fastai/underarm_874997.png\n",
      "training_data/fastai/underarm_874998.png\n",
      "training_data/fastai/underarm_874999.png\n",
      "training_data/fastai/wings_213990.png\n",
      "training_data/fastai/wings_213991.png\n"
     ]
    },
    {
     "name": "stderr",
     "output_type": "stream",
     "text": [
      "/home/ale/anaconda3/envs/tensor20/lib/python3.6/site-packages/fastai/vision/transform.py:243: UserWarning: torch.gesv is deprecated in favour of torch.solve and will be removed in the next release. Please use torch.solve instead.\n",
      "  return torch.gesv(B,A)[0][:,0]\n",
      "/home/ale/anaconda3/envs/tensor20/lib/python3.6/site-packages/fastai/vision/transform.py:243: UserWarning: torch.gesv is deprecated in favour of torch.solve and will be removed in the next release. Please use torch.solve instead.\n",
      "  return torch.gesv(B,A)[0][:,0]\n"
     ]
    },
    {
     "name": "stdout",
     "output_type": "stream",
     "text": [
      "training_data/fastai/wings_213992.png\n",
      "training_data/fastai/wings_213993.png\n",
      "training_data/fastai/wings_213994.png\n",
      "training_data/fastai/wings_213995.png\n",
      "training_data/fastai/wings_213996.png\n",
      "training_data/fastai/wings_213997.png\n",
      "training_data/fastai/wings_213998.png\n",
      "training_data/fastai/wings_213999.png\n",
      "training_data/fastai/normal_19990.png\n",
      "training_data/fastai/normal_19991.png\n",
      "training_data/fastai/normal_19992.png\n",
      "training_data/fastai/normal_19993.png\n",
      "training_data/fastai/normal_19994.png\n",
      "training_data/fastai/normal_19995.png\n",
      "training_data/fastai/normal_19996.png\n",
      "training_data/fastai/normal_19997.png\n",
      "training_data/fastai/normal_19998.png\n",
      "training_data/fastai/normal_19999.png\n"
     ]
    },
    {
     "name": "stderr",
     "output_type": "stream",
     "text": [
      "/home/ale/anaconda3/envs/tensor20/lib/python3.6/site-packages/fastai/vision/transform.py:243: UserWarning: torch.gesv is deprecated in favour of torch.solve and will be removed in the next release. Please use torch.solve instead.\n",
      "  return torch.gesv(B,A)[0][:,0]\n",
      "/home/ale/anaconda3/envs/tensor20/lib/python3.6/site-packages/fastai/vision/transform.py:243: UserWarning: torch.gesv is deprecated in favour of torch.solve and will be removed in the next release. Please use torch.solve instead.\n",
      "  return torch.gesv(B,A)[0][:,0]\n"
     ]
    },
    {
     "name": "stdout",
     "output_type": "stream",
     "text": [
      "training_data/fastai/moonwalk_889990.png\n",
      "training_data/fastai/moonwalk_889991.png\n",
      "training_data/fastai/moonwalk_889992.png\n",
      "training_data/fastai/moonwalk_889993.png\n",
      "training_data/fastai/moonwalk_889994.png\n",
      "training_data/fastai/moonwalk_889995.png\n",
      "training_data/fastai/moonwalk_889996.png\n",
      "training_data/fastai/moonwalk_889997.png\n",
      "training_data/fastai/moonwalk_889998.png\n",
      "training_data/fastai/moonwalk_889999.png\n",
      "training_data/fastai/hadouken_88990.png\n",
      "training_data/fastai/hadouken_88991.png\n",
      "training_data/fastai/hadouken_88992.png\n",
      "training_data/fastai/hadouken_88993.png\n",
      "training_data/fastai/hadouken_88994.png\n",
      "training_data/fastai/hadouken_88995.png\n",
      "training_data/fastai/hadouken_88996.png\n",
      "training_data/fastai/hadouken_88997.png\n",
      "training_data/fastai/hadouken_88998.png\n"
     ]
    },
    {
     "name": "stderr",
     "output_type": "stream",
     "text": [
      "/home/ale/anaconda3/envs/tensor20/lib/python3.6/site-packages/fastai/vision/transform.py:243: UserWarning: torch.gesv is deprecated in favour of torch.solve and will be removed in the next release. Please use torch.solve instead.\n",
      "  return torch.gesv(B,A)[0][:,0]\n"
     ]
    },
    {
     "name": "stdout",
     "output_type": "stream",
     "text": [
      "training_data/fastai/hadouken_88999.png\n",
      "training_data/fastai/hadouken_510990.png\n",
      "training_data/fastai/hadouken_510991.png\n",
      "training_data/fastai/hadouken_510992.png\n",
      "training_data/fastai/hadouken_510993.png\n",
      "training_data/fastai/hadouken_510994.png\n",
      "training_data/fastai/hadouken_510995.png\n"
     ]
    },
    {
     "name": "stderr",
     "output_type": "stream",
     "text": [
      "/home/ale/anaconda3/envs/tensor20/lib/python3.6/site-packages/fastai/vision/transform.py:243: UserWarning: torch.gesv is deprecated in favour of torch.solve and will be removed in the next release. Please use torch.solve instead.\n",
      "  return torch.gesv(B,A)[0][:,0]\n"
     ]
    },
    {
     "name": "stdout",
     "output_type": "stream",
     "text": [
      "training_data/fastai/hadouken_510996.png\n",
      "training_data/fastai/hadouken_510997.png\n",
      "training_data/fastai/hadouken_510998.png\n",
      "training_data/fastai/hadouken_510999.png\n",
      "training_data/fastai/dramatic_1264990.png\n",
      "training_data/fastai/dramatic_1264991.png\n",
      "training_data/fastai/dramatic_1264992.png\n",
      "training_data/fastai/dramatic_1264993.png\n"
     ]
    },
    {
     "name": "stderr",
     "output_type": "stream",
     "text": [
      "/home/ale/anaconda3/envs/tensor20/lib/python3.6/site-packages/fastai/vision/transform.py:243: UserWarning: torch.gesv is deprecated in favour of torch.solve and will be removed in the next release. Please use torch.solve instead.\n",
      "  return torch.gesv(B,A)[0][:,0]\n"
     ]
    },
    {
     "name": "stdout",
     "output_type": "stream",
     "text": [
      "training_data/fastai/dramatic_1264994.png\n",
      "training_data/fastai/dramatic_1264995.png\n",
      "training_data/fastai/dramatic_1264996.png\n",
      "training_data/fastai/dramatic_1264997.png\n",
      "training_data/fastai/dramatic_1264998.png\n",
      "training_data/fastai/dramatic_1264999.png\n",
      "training_data/fastai/normal_8990.png\n",
      "training_data/fastai/normal_8991.png\n"
     ]
    },
    {
     "name": "stderr",
     "output_type": "stream",
     "text": [
      "/home/ale/anaconda3/envs/tensor20/lib/python3.6/site-packages/fastai/vision/transform.py:243: UserWarning: torch.gesv is deprecated in favour of torch.solve and will be removed in the next release. Please use torch.solve instead.\n",
      "  return torch.gesv(B,A)[0][:,0]\n"
     ]
    },
    {
     "name": "stdout",
     "output_type": "stream",
     "text": [
      "training_data/fastai/normal_8992.png\n",
      "training_data/fastai/normal_8993.png\n",
      "training_data/fastai/normal_8994.png\n",
      "training_data/fastai/normal_8995.png\n",
      "training_data/fastai/normal_8996.png\n",
      "training_data/fastai/normal_8997.png\n",
      "training_data/fastai/normal_8998.png\n",
      "training_data/fastai/normal_8999.png\n",
      "training_data/fastai/dramatic_564990.png\n",
      "training_data/fastai/dramatic_564991.png\n",
      "training_data/fastai/dramatic_564992.png\n",
      "training_data/fastai/dramatic_564993.png\n",
      "training_data/fastai/dramatic_564994.png\n",
      "training_data/fastai/dramatic_564995.png\n",
      "training_data/fastai/dramatic_564996.png\n",
      "training_data/fastai/dramatic_564997.png\n"
     ]
    },
    {
     "name": "stderr",
     "output_type": "stream",
     "text": [
      "/home/ale/anaconda3/envs/tensor20/lib/python3.6/site-packages/fastai/vision/transform.py:243: UserWarning: torch.gesv is deprecated in favour of torch.solve and will be removed in the next release. Please use torch.solve instead.\n",
      "  return torch.gesv(B,A)[0][:,0]\n"
     ]
    },
    {
     "name": "stdout",
     "output_type": "stream",
     "text": [
      "training_data/fastai/dramatic_564998.png\n",
      "training_data/fastai/dramatic_564999.png\n",
      "training_data/fastai/underarm_469990.png\n",
      "training_data/fastai/underarm_469991.png\n",
      "training_data/fastai/underarm_469992.png\n",
      "training_data/fastai/underarm_469993.png\n",
      "training_data/fastai/underarm_469994.png\n",
      "training_data/fastai/underarm_469995.png\n",
      "training_data/fastai/underarm_469996.png\n"
     ]
    },
    {
     "name": "stderr",
     "output_type": "stream",
     "text": [
      "/home/ale/anaconda3/envs/tensor20/lib/python3.6/site-packages/fastai/vision/transform.py:243: UserWarning: torch.gesv is deprecated in favour of torch.solve and will be removed in the next release. Please use torch.solve instead.\n",
      "  return torch.gesv(B,A)[0][:,0]\n"
     ]
    },
    {
     "name": "stdout",
     "output_type": "stream",
     "text": [
      "training_data/fastai/underarm_469997.png\n",
      "training_data/fastai/underarm_469998.png\n",
      "training_data/fastai/underarm_469999.png\n",
      "training_data/fastai/fly_41990.png\n",
      "training_data/fastai/fly_41991.png\n",
      "training_data/fastai/fly_41992.png\n",
      "training_data/fastai/fly_41993.png\n",
      "training_data/fastai/fly_41994.png\n",
      "training_data/fastai/fly_41995.png\n",
      "training_data/fastai/fly_41996.png\n"
     ]
    },
    {
     "name": "stderr",
     "output_type": "stream",
     "text": [
      "/home/ale/anaconda3/envs/tensor20/lib/python3.6/site-packages/fastai/vision/transform.py:243: UserWarning: torch.gesv is deprecated in favour of torch.solve and will be removed in the next release. Please use torch.solve instead.\n",
      "  return torch.gesv(B,A)[0][:,0]\n",
      "/home/ale/anaconda3/envs/tensor20/lib/python3.6/site-packages/fastai/vision/transform.py:243: UserWarning: torch.gesv is deprecated in favour of torch.solve and will be removed in the next release. Please use torch.solve instead.\n",
      "  return torch.gesv(B,A)[0][:,0]\n"
     ]
    },
    {
     "name": "stdout",
     "output_type": "stream",
     "text": [
      "training_data/fastai/fly_41997.png\n",
      "training_data/fastai/fly_41998.png\n",
      "training_data/fastai/fly_41999.png\n",
      "training_data/fastai/fly_861990.png\n",
      "training_data/fastai/fly_861991.png\n",
      "training_data/fastai/fly_861992.png\n",
      "training_data/fastai/fly_861993.png\n",
      "training_data/fastai/fly_861994.png\n",
      "training_data/fastai/fly_861995.png\n",
      "training_data/fastai/fly_861996.png\n",
      "training_data/fastai/fly_861997.png\n",
      "training_data/fastai/fly_861998.png\n",
      "training_data/fastai/fly_861999.png\n",
      "training_data/fastai/fly_47990.png\n",
      "training_data/fastai/fly_47991.png\n",
      "training_data/fastai/fly_47992.png\n"
     ]
    },
    {
     "name": "stderr",
     "output_type": "stream",
     "text": [
      "/home/ale/anaconda3/envs/tensor20/lib/python3.6/site-packages/fastai/vision/transform.py:243: UserWarning: torch.gesv is deprecated in favour of torch.solve and will be removed in the next release. Please use torch.solve instead.\n",
      "  return torch.gesv(B,A)[0][:,0]\n"
     ]
    },
    {
     "name": "stdout",
     "output_type": "stream",
     "text": [
      "training_data/fastai/fly_47993.png\n",
      "training_data/fastai/fly_47994.png\n",
      "training_data/fastai/fly_47995.png\n",
      "training_data/fastai/fly_47996.png\n",
      "training_data/fastai/fly_47997.png\n",
      "training_data/fastai/fly_47998.png\n",
      "training_data/fastai/fly_47999.png\n",
      "training_data/fastai/hadouken_499990.png\n",
      "training_data/fastai/hadouken_499991.png\n",
      "training_data/fastai/hadouken_499992.png\n",
      "training_data/fastai/hadouken_499993.png\n",
      "training_data/fastai/hadouken_499994.png\n",
      "training_data/fastai/hadouken_499995.png\n",
      "training_data/fastai/hadouken_499996.png\n",
      "training_data/fastai/hadouken_499997.png\n",
      "training_data/fastai/hadouken_499998.png\n",
      "training_data/fastai/hadouken_499999.png\n",
      "training_data/fastai/normal_816990.png\n",
      "training_data/fastai/normal_816991.png\n"
     ]
    },
    {
     "name": "stderr",
     "output_type": "stream",
     "text": [
      "/home/ale/anaconda3/envs/tensor20/lib/python3.6/site-packages/fastai/vision/transform.py:243: UserWarning: torch.gesv is deprecated in favour of torch.solve and will be removed in the next release. Please use torch.solve instead.\n",
      "  return torch.gesv(B,A)[0][:,0]\n",
      "/home/ale/anaconda3/envs/tensor20/lib/python3.6/site-packages/fastai/vision/transform.py:243: UserWarning: torch.gesv is deprecated in favour of torch.solve and will be removed in the next release. Please use torch.solve instead.\n",
      "  return torch.gesv(B,A)[0][:,0]\n"
     ]
    },
    {
     "name": "stdout",
     "output_type": "stream",
     "text": [
      "training_data/fastai/normal_816992.png\n",
      "training_data/fastai/normal_816993.png\n",
      "training_data/fastai/normal_816994.png\n",
      "training_data/fastai/normal_816995.png\n",
      "training_data/fastai/normal_816996.png\n",
      "training_data/fastai/normal_816997.png\n",
      "training_data/fastai/normal_816998.png\n",
      "training_data/fastai/normal_816999.png\n",
      "training_data/fastai/normal_4990.png\n",
      "training_data/fastai/normal_4991.png\n",
      "training_data/fastai/normal_4992.png\n",
      "training_data/fastai/normal_4993.png\n",
      "training_data/fastai/normal_4994.png\n",
      "training_data/fastai/normal_4995.png\n",
      "training_data/fastai/normal_4996.png\n",
      "training_data/fastai/normal_4997.png\n",
      "training_data/fastai/normal_4998.png\n"
     ]
    },
    {
     "name": "stderr",
     "output_type": "stream",
     "text": [
      "/home/ale/anaconda3/envs/tensor20/lib/python3.6/site-packages/fastai/vision/transform.py:243: UserWarning: torch.gesv is deprecated in favour of torch.solve and will be removed in the next release. Please use torch.solve instead.\n",
      "  return torch.gesv(B,A)[0][:,0]\n",
      "/home/ale/anaconda3/envs/tensor20/lib/python3.6/site-packages/fastai/vision/transform.py:243: UserWarning: torch.gesv is deprecated in favour of torch.solve and will be removed in the next release. Please use torch.solve instead.\n",
      "  return torch.gesv(B,A)[0][:,0]\n"
     ]
    },
    {
     "name": "stdout",
     "output_type": "stream",
     "text": [
      "training_data/fastai/normal_4999.png\n",
      "training_data/fastai/dramatic_926990.png\n",
      "training_data/fastai/dramatic_926991.png\n",
      "training_data/fastai/dramatic_926992.png\n",
      "training_data/fastai/dramatic_926993.png\n",
      "training_data/fastai/dramatic_926994.png\n",
      "training_data/fastai/dramatic_926995.png\n",
      "training_data/fastai/dramatic_926996.png\n",
      "training_data/fastai/dramatic_926997.png\n",
      "training_data/fastai/dramatic_926998.png\n",
      "training_data/fastai/dramatic_926999.png\n",
      "training_data/fastai/normal_18990.png\n",
      "training_data/fastai/normal_18991.png\n",
      "training_data/fastai/normal_18992.png\n",
      "training_data/fastai/normal_18993.png\n",
      "training_data/fastai/normal_18994.png\n",
      "training_data/fastai/normal_18995.png\n",
      "training_data/fastai/normal_18996.png\n"
     ]
    },
    {
     "name": "stderr",
     "output_type": "stream",
     "text": [
      "/home/ale/anaconda3/envs/tensor20/lib/python3.6/site-packages/fastai/vision/transform.py:243: UserWarning: torch.gesv is deprecated in favour of torch.solve and will be removed in the next release. Please use torch.solve instead.\n",
      "  return torch.gesv(B,A)[0][:,0]\n"
     ]
    },
    {
     "name": "stdout",
     "output_type": "stream",
     "text": [
      "training_data/fastai/normal_18997.png\n",
      "training_data/fastai/normal_18998.png\n",
      "training_data/fastai/normal_18999.png\n",
      "training_data/fastai/hadouken_91990.png\n",
      "training_data/fastai/hadouken_91991.png\n",
      "training_data/fastai/hadouken_91992.png\n",
      "training_data/fastai/hadouken_91993.png\n",
      "training_data/fastai/hadouken_91994.png\n",
      "training_data/fastai/hadouken_91995.png\n",
      "training_data/fastai/hadouken_91996.png\n",
      "training_data/fastai/hadouken_91997.png\n",
      "training_data/fastai/hadouken_91998.png\n",
      "training_data/fastai/hadouken_91999.png\n",
      "training_data/fastai/underarm_244990.png\n",
      "training_data/fastai/underarm_244991.png\n",
      "training_data/fastai/underarm_244992.png\n",
      "training_data/fastai/underarm_244993.png\n",
      "training_data/fastai/underarm_244994.png\n"
     ]
    },
    {
     "name": "stderr",
     "output_type": "stream",
     "text": [
      "/home/ale/anaconda3/envs/tensor20/lib/python3.6/site-packages/fastai/vision/transform.py:243: UserWarning: torch.gesv is deprecated in favour of torch.solve and will be removed in the next release. Please use torch.solve instead.\n",
      "  return torch.gesv(B,A)[0][:,0]\n",
      "/home/ale/anaconda3/envs/tensor20/lib/python3.6/site-packages/fastai/vision/transform.py:243: UserWarning: torch.gesv is deprecated in favour of torch.solve and will be removed in the next release. Please use torch.solve instead.\n",
      "  return torch.gesv(B,A)[0][:,0]\n"
     ]
    },
    {
     "name": "stdout",
     "output_type": "stream",
     "text": [
      "training_data/fastai/underarm_244995.png\n",
      "training_data/fastai/underarm_244996.png\n",
      "training_data/fastai/underarm_244997.png\n",
      "training_data/fastai/underarm_244998.png\n",
      "training_data/fastai/underarm_244999.png\n",
      "training_data/fastai/normal_406990.png\n",
      "training_data/fastai/normal_406991.png\n",
      "training_data/fastai/normal_406992.png\n"
     ]
    },
    {
     "name": "stderr",
     "output_type": "stream",
     "text": [
      "/home/ale/anaconda3/envs/tensor20/lib/python3.6/site-packages/fastai/vision/transform.py:243: UserWarning: torch.gesv is deprecated in favour of torch.solve and will be removed in the next release. Please use torch.solve instead.\n",
      "  return torch.gesv(B,A)[0][:,0]\n"
     ]
    },
    {
     "name": "stdout",
     "output_type": "stream",
     "text": [
      "training_data/fastai/normal_406993.png\n",
      "training_data/fastai/normal_406994.png\n",
      "training_data/fastai/normal_406995.png\n",
      "training_data/fastai/normal_406996.png\n",
      "training_data/fastai/normal_406997.png\n",
      "training_data/fastai/normal_406998.png\n",
      "training_data/fastai/normal_406999.png\n",
      "training_data/fastai/hadouken_265990.png\n",
      "training_data/fastai/hadouken_265991.png\n",
      "training_data/fastai/hadouken_265992.png\n",
      "training_data/fastai/hadouken_265993.png\n",
      "training_data/fastai/hadouken_265994.png\n",
      "training_data/fastai/hadouken_265995.png\n",
      "training_data/fastai/hadouken_265996.png\n",
      "training_data/fastai/hadouken_265997.png\n",
      "training_data/fastai/hadouken_265998.png\n",
      "training_data/fastai/hadouken_265999.png\n",
      "training_data/fastai/dramatic_558990.png\n"
     ]
    },
    {
     "name": "stderr",
     "output_type": "stream",
     "text": [
      "/home/ale/anaconda3/envs/tensor20/lib/python3.6/site-packages/fastai/vision/transform.py:243: UserWarning: torch.gesv is deprecated in favour of torch.solve and will be removed in the next release. Please use torch.solve instead.\n",
      "  return torch.gesv(B,A)[0][:,0]\n",
      "/home/ale/anaconda3/envs/tensor20/lib/python3.6/site-packages/fastai/vision/transform.py:243: UserWarning: torch.gesv is deprecated in favour of torch.solve and will be removed in the next release. Please use torch.solve instead.\n",
      "  return torch.gesv(B,A)[0][:,0]\n"
     ]
    },
    {
     "name": "stdout",
     "output_type": "stream",
     "text": [
      "training_data/fastai/dramatic_558991.png\n",
      "training_data/fastai/dramatic_558992.png\n",
      "training_data/fastai/dramatic_558993.png\n",
      "training_data/fastai/dramatic_558994.png\n",
      "training_data/fastai/dramatic_558995.png\n",
      "training_data/fastai/dramatic_558996.png\n",
      "training_data/fastai/dramatic_558997.png\n",
      "training_data/fastai/dramatic_558998.png\n",
      "training_data/fastai/dramatic_558999.png\n",
      "training_data/fastai/hadouken_260990.png\n",
      "training_data/fastai/hadouken_260991.png\n",
      "training_data/fastai/hadouken_260992.png\n",
      "training_data/fastai/hadouken_260993.png\n",
      "training_data/fastai/hadouken_260994.png\n",
      "training_data/fastai/hadouken_260995.png\n",
      "training_data/fastai/hadouken_260996.png\n"
     ]
    },
    {
     "name": "stderr",
     "output_type": "stream",
     "text": [
      "/home/ale/anaconda3/envs/tensor20/lib/python3.6/site-packages/fastai/vision/transform.py:243: UserWarning: torch.gesv is deprecated in favour of torch.solve and will be removed in the next release. Please use torch.solve instead.\n",
      "  return torch.gesv(B,A)[0][:,0]\n"
     ]
    },
    {
     "name": "stdout",
     "output_type": "stream",
     "text": [
      "training_data/fastai/hadouken_260997.png\n",
      "training_data/fastai/hadouken_260998.png\n",
      "training_data/fastai/hadouken_260999.png\n",
      "training_data/fastai/fly_856990.png\n",
      "training_data/fastai/fly_856991.png\n",
      "training_data/fastai/fly_856992.png\n",
      "training_data/fastai/fly_856993.png\n",
      "training_data/fastai/fly_856994.png\n"
     ]
    },
    {
     "name": "stderr",
     "output_type": "stream",
     "text": [
      "/home/ale/anaconda3/envs/tensor20/lib/python3.6/site-packages/fastai/vision/transform.py:243: UserWarning: torch.gesv is deprecated in favour of torch.solve and will be removed in the next release. Please use torch.solve instead.\n",
      "  return torch.gesv(B,A)[0][:,0]\n"
     ]
    },
    {
     "name": "stdout",
     "output_type": "stream",
     "text": [
      "training_data/fastai/fly_856995.png\n",
      "training_data/fastai/fly_856996.png\n",
      "training_data/fastai/fly_856997.png\n",
      "training_data/fastai/fly_856998.png\n",
      "training_data/fastai/fly_856999.png\n",
      "training_data/fastai/backpack_1244990.png\n",
      "training_data/fastai/backpack_1244991.png\n",
      "training_data/fastai/backpack_1244992.png\n"
     ]
    },
    {
     "name": "stderr",
     "output_type": "stream",
     "text": [
      "/home/ale/anaconda3/envs/tensor20/lib/python3.6/site-packages/fastai/vision/transform.py:243: UserWarning: torch.gesv is deprecated in favour of torch.solve and will be removed in the next release. Please use torch.solve instead.\n",
      "  return torch.gesv(B,A)[0][:,0]\n"
     ]
    },
    {
     "name": "stdout",
     "output_type": "stream",
     "text": [
      "training_data/fastai/backpack_1244993.png\n",
      "training_data/fastai/backpack_1244994.png\n",
      "training_data/fastai/backpack_1244995.png\n",
      "training_data/fastai/backpack_1244996.png\n",
      "training_data/fastai/backpack_1244997.png\n",
      "training_data/fastai/backpack_1244998.png\n",
      "training_data/fastai/backpack_1244999.png\n",
      "training_data/fastai/wings_835990.png\n",
      "training_data/fastai/wings_835991.png\n",
      "training_data/fastai/wings_835992.png\n"
     ]
    },
    {
     "name": "stderr",
     "output_type": "stream",
     "text": [
      "/home/ale/anaconda3/envs/tensor20/lib/python3.6/site-packages/fastai/vision/transform.py:243: UserWarning: torch.gesv is deprecated in favour of torch.solve and will be removed in the next release. Please use torch.solve instead.\n",
      "  return torch.gesv(B,A)[0][:,0]\n"
     ]
    },
    {
     "name": "stdout",
     "output_type": "stream",
     "text": [
      "training_data/fastai/wings_835993.png\n",
      "training_data/fastai/wings_835994.png\n",
      "training_data/fastai/wings_835995.png\n",
      "training_data/fastai/wings_835996.png\n",
      "training_data/fastai/wings_835997.png\n",
      "training_data/fastai/wings_835998.png\n",
      "training_data/fastai/wings_835999.png\n",
      "training_data/fastai/dramatic_550990.png\n",
      "training_data/fastai/dramatic_550991.png\n"
     ]
    },
    {
     "name": "stderr",
     "output_type": "stream",
     "text": [
      "/home/ale/anaconda3/envs/tensor20/lib/python3.6/site-packages/fastai/vision/transform.py:243: UserWarning: torch.gesv is deprecated in favour of torch.solve and will be removed in the next release. Please use torch.solve instead.\n",
      "  return torch.gesv(B,A)[0][:,0]\n",
      "/home/ale/anaconda3/envs/tensor20/lib/python3.6/site-packages/fastai/vision/transform.py:243: UserWarning: torch.gesv is deprecated in favour of torch.solve and will be removed in the next release. Please use torch.solve instead.\n",
      "  return torch.gesv(B,A)[0][:,0]\n"
     ]
    },
    {
     "name": "stdout",
     "output_type": "stream",
     "text": [
      "training_data/fastai/dramatic_550992.png\n",
      "training_data/fastai/dramatic_550993.png\n",
      "training_data/fastai/dramatic_550994.png\n",
      "training_data/fastai/dramatic_550995.png\n",
      "training_data/fastai/dramatic_550996.png\n",
      "training_data/fastai/dramatic_550997.png\n",
      "training_data/fastai/dramatic_550998.png\n",
      "training_data/fastai/dramatic_550999.png\n",
      "training_data/fastai/fly_48990.png\n",
      "training_data/fastai/fly_48991.png\n",
      "training_data/fastai/fly_48992.png\n",
      "training_data/fastai/fly_48993.png\n",
      "training_data/fastai/fly_48994.png\n",
      "training_data/fastai/fly_48995.png\n",
      "training_data/fastai/fly_48996.png\n",
      "training_data/fastai/fly_48997.png\n",
      "training_data/fastai/fly_48998.png\n",
      "training_data/fastai/fly_48999.png\n",
      "training_data/fastai/hadouken_92990.png\n"
     ]
    },
    {
     "name": "stderr",
     "output_type": "stream",
     "text": [
      "/home/ale/anaconda3/envs/tensor20/lib/python3.6/site-packages/fastai/vision/transform.py:243: UserWarning: torch.gesv is deprecated in favour of torch.solve and will be removed in the next release. Please use torch.solve instead.\n",
      "  return torch.gesv(B,A)[0][:,0]\n"
     ]
    },
    {
     "name": "stdout",
     "output_type": "stream",
     "text": [
      "training_data/fastai/hadouken_92991.png\n",
      "training_data/fastai/hadouken_92992.png\n",
      "training_data/fastai/hadouken_92993.png\n",
      "training_data/fastai/hadouken_92994.png\n",
      "training_data/fastai/hadouken_92995.png\n",
      "training_data/fastai/hadouken_92996.png\n",
      "training_data/fastai/hadouken_92997.png\n",
      "training_data/fastai/hadouken_92998.png\n",
      "training_data/fastai/hadouken_92999.png\n",
      "training_data/fastai/fly_432990.png\n",
      "training_data/fastai/fly_432991.png\n",
      "training_data/fastai/fly_432992.png\n",
      "training_data/fastai/fly_432993.png\n",
      "training_data/fastai/fly_432994.png\n",
      "training_data/fastai/fly_432995.png\n",
      "training_data/fastai/fly_432996.png\n"
     ]
    },
    {
     "name": "stderr",
     "output_type": "stream",
     "text": [
      "/home/ale/anaconda3/envs/tensor20/lib/python3.6/site-packages/fastai/vision/transform.py:243: UserWarning: torch.gesv is deprecated in favour of torch.solve and will be removed in the next release. Please use torch.solve instead.\n",
      "  return torch.gesv(B,A)[0][:,0]\n"
     ]
    },
    {
     "name": "stdout",
     "output_type": "stream",
     "text": [
      "training_data/fastai/fly_432997.png\n",
      "training_data/fastai/fly_432998.png\n",
      "training_data/fastai/fly_432999.png\n",
      "training_data/fastai/fly_237990.png\n",
      "training_data/fastai/fly_237991.png\n",
      "training_data/fastai/fly_237992.png\n",
      "training_data/fastai/fly_237993.png\n",
      "training_data/fastai/fly_237994.png\n",
      "training_data/fastai/fly_237995.png\n",
      "training_data/fastai/fly_237996.png\n",
      "training_data/fastai/fly_237997.png\n",
      "training_data/fastai/fly_237998.png\n",
      "training_data/fastai/fly_237999.png\n",
      "training_data/fastai/wings_413990.png\n",
      "training_data/fastai/wings_413991.png\n",
      "training_data/fastai/wings_413992.png\n",
      "training_data/fastai/wings_413993.png\n",
      "training_data/fastai/wings_413994.png\n"
     ]
    },
    {
     "name": "stderr",
     "output_type": "stream",
     "text": [
      "/home/ale/anaconda3/envs/tensor20/lib/python3.6/site-packages/fastai/vision/transform.py:243: UserWarning: torch.gesv is deprecated in favour of torch.solve and will be removed in the next release. Please use torch.solve instead.\n",
      "  return torch.gesv(B,A)[0][:,0]\n",
      "/home/ale/anaconda3/envs/tensor20/lib/python3.6/site-packages/fastai/vision/transform.py:243: UserWarning: torch.gesv is deprecated in favour of torch.solve and will be removed in the next release. Please use torch.solve instead.\n",
      "  return torch.gesv(B,A)[0][:,0]\n"
     ]
    },
    {
     "name": "stdout",
     "output_type": "stream",
     "text": [
      "training_data/fastai/wings_413995.png\n",
      "training_data/fastai/wings_413996.png\n",
      "training_data/fastai/wings_413997.png\n",
      "training_data/fastai/wings_413998.png\n",
      "training_data/fastai/wings_413999.png\n",
      "training_data/fastai/dramatic_128990.png\n",
      "training_data/fastai/dramatic_128991.png\n",
      "training_data/fastai/dramatic_128992.png\n",
      "training_data/fastai/dramatic_128993.png\n",
      "training_data/fastai/dramatic_128994.png\n",
      "training_data/fastai/dramatic_128995.png\n",
      "training_data/fastai/dramatic_128996.png\n",
      "training_data/fastai/dramatic_128997.png\n",
      "training_data/fastai/dramatic_128998.png\n",
      "training_data/fastai/dramatic_128999.png\n",
      "training_data/fastai/underarm_241990.png\n",
      "training_data/fastai/underarm_241991.png\n",
      "training_data/fastai/underarm_241992.png\n"
     ]
    },
    {
     "name": "stderr",
     "output_type": "stream",
     "text": [
      "/home/ale/anaconda3/envs/tensor20/lib/python3.6/site-packages/fastai/vision/transform.py:243: UserWarning: torch.gesv is deprecated in favour of torch.solve and will be removed in the next release. Please use torch.solve instead.\n",
      "  return torch.gesv(B,A)[0][:,0]\n",
      "/home/ale/anaconda3/envs/tensor20/lib/python3.6/site-packages/fastai/vision/transform.py:243: UserWarning: torch.gesv is deprecated in favour of torch.solve and will be removed in the next release. Please use torch.solve instead.\n",
      "  return torch.gesv(B,A)[0][:,0]\n"
     ]
    },
    {
     "name": "stdout",
     "output_type": "stream",
     "text": [
      "training_data/fastai/underarm_241993.png\n",
      "training_data/fastai/underarm_241994.png\n",
      "training_data/fastai/underarm_241995.png\n",
      "training_data/fastai/underarm_241996.png\n",
      "training_data/fastai/underarm_241997.png\n",
      "training_data/fastai/underarm_241998.png\n",
      "training_data/fastai/underarm_241999.png\n",
      "training_data/fastai/wings_420990.png\n",
      "training_data/fastai/wings_420991.png\n"
     ]
    },
    {
     "name": "stderr",
     "output_type": "stream",
     "text": [
      "/home/ale/anaconda3/envs/tensor20/lib/python3.6/site-packages/fastai/vision/transform.py:243: UserWarning: torch.gesv is deprecated in favour of torch.solve and will be removed in the next release. Please use torch.solve instead.\n",
      "  return torch.gesv(B,A)[0][:,0]\n",
      "/home/ale/anaconda3/envs/tensor20/lib/python3.6/site-packages/fastai/vision/transform.py:243: UserWarning: torch.gesv is deprecated in favour of torch.solve and will be removed in the next release. Please use torch.solve instead.\n",
      "  return torch.gesv(B,A)[0][:,0]\n"
     ]
    },
    {
     "name": "stdout",
     "output_type": "stream",
     "text": [
      "training_data/fastai/wings_420992.png\n",
      "training_data/fastai/wings_420993.png\n",
      "training_data/fastai/wings_420994.png\n",
      "training_data/fastai/wings_420995.png\n",
      "training_data/fastai/wings_420996.png\n",
      "training_data/fastai/wings_420997.png\n",
      "training_data/fastai/wings_420998.png\n",
      "training_data/fastai/wings_420999.png\n",
      "training_data/fastai/normal_14990.png\n",
      "training_data/fastai/normal_14991.png\n",
      "training_data/fastai/normal_14992.png\n",
      "training_data/fastai/normal_14993.png\n",
      "training_data/fastai/normal_14994.png\n",
      "training_data/fastai/normal_14995.png\n",
      "training_data/fastai/normal_14996.png\n",
      "training_data/fastai/normal_14997.png\n",
      "training_data/fastai/normal_14998.png\n",
      "training_data/fastai/normal_14999.png\n",
      "training_data/fastai/underarm_871990.png\n",
      "training_data/fastai/underarm_871991.png\n",
      "training_data/fastai/underarm_871992.png\n",
      "training_data/fastai/underarm_871993.png\n",
      "training_data/fastai/underarm_871994.png\n",
      "training_data/fastai/underarm_871995.png\n",
      "training_data/fastai/underarm_871996.png\n",
      "training_data/fastai/underarm_871997.png\n",
      "training_data/fastai/underarm_871998.png\n",
      "training_data/fastai/underarm_871999.png\n",
      "training_data/fastai/dramatic_296990.png\n",
      "training_data/fastai/dramatic_296991.png\n",
      "training_data/fastai/dramatic_296992.png\n",
      "training_data/fastai/dramatic_296993.png\n",
      "training_data/fastai/dramatic_296994.png\n",
      "training_data/fastai/dramatic_296995.png\n",
      "training_data/fastai/dramatic_296996.png\n",
      "training_data/fastai/dramatic_296997.png\n",
      "training_data/fastai/dramatic_296998.png\n",
      "training_data/fastai/dramatic_296999.png\n",
      "training_data/fastai/hadouken_259990.png\n",
      "training_data/fastai/hadouken_259991.png\n",
      "training_data/fastai/hadouken_259992.png\n",
      "training_data/fastai/hadouken_259993.png\n",
      "training_data/fastai/hadouken_259994.png\n",
      "training_data/fastai/hadouken_259995.png\n",
      "training_data/fastai/hadouken_259996.png\n",
      "training_data/fastai/hadouken_259997.png\n"
     ]
    },
    {
     "name": "stderr",
     "output_type": "stream",
     "text": [
      "/home/ale/anaconda3/envs/tensor20/lib/python3.6/site-packages/fastai/vision/transform.py:243: UserWarning: torch.gesv is deprecated in favour of torch.solve and will be removed in the next release. Please use torch.solve instead.\n",
      "  return torch.gesv(B,A)[0][:,0]\n"
     ]
    },
    {
     "name": "stdout",
     "output_type": "stream",
     "text": [
      "training_data/fastai/hadouken_259998.png\n",
      "training_data/fastai/hadouken_259999.png\n",
      "training_data/fastai/normal_407990.png\n",
      "training_data/fastai/normal_407991.png\n",
      "training_data/fastai/normal_407992.png\n",
      "training_data/fastai/normal_407993.png\n",
      "training_data/fastai/normal_407994.png\n",
      "training_data/fastai/normal_407995.png\n",
      "training_data/fastai/normal_407996.png\n"
     ]
    },
    {
     "name": "stderr",
     "output_type": "stream",
     "text": [
      "/home/ale/anaconda3/envs/tensor20/lib/python3.6/site-packages/fastai/vision/transform.py:243: UserWarning: torch.gesv is deprecated in favour of torch.solve and will be removed in the next release. Please use torch.solve instead.\n",
      "  return torch.gesv(B,A)[0][:,0]\n",
      "/home/ale/anaconda3/envs/tensor20/lib/python3.6/site-packages/fastai/vision/transform.py:243: UserWarning: torch.gesv is deprecated in favour of torch.solve and will be removed in the next release. Please use torch.solve instead.\n",
      "  return torch.gesv(B,A)[0][:,0]\n"
     ]
    },
    {
     "name": "stdout",
     "output_type": "stream",
     "text": [
      "training_data/fastai/normal_407997.png\n",
      "training_data/fastai/normal_407998.png\n",
      "training_data/fastai/normal_407999.png\n",
      "training_data/fastai/underarm_464990.png\n",
      "training_data/fastai/underarm_464991.png\n",
      "training_data/fastai/underarm_464992.png\n",
      "training_data/fastai/underarm_464993.png\n",
      "training_data/fastai/underarm_464994.png\n",
      "training_data/fastai/underarm_464995.png\n",
      "training_data/fastai/underarm_464996.png\n",
      "training_data/fastai/underarm_464997.png\n",
      "training_data/fastai/underarm_464998.png\n",
      "training_data/fastai/underarm_464999.png\n",
      "training_data/fastai/moonwalk_898990.png\n",
      "training_data/fastai/moonwalk_898991.png\n",
      "training_data/fastai/moonwalk_898992.png\n",
      "training_data/fastai/moonwalk_898993.png\n",
      "training_data/fastai/moonwalk_898994.png\n",
      "training_data/fastai/moonwalk_898995.png\n",
      "training_data/fastai/moonwalk_898996.png\n",
      "training_data/fastai/moonwalk_898997.png\n",
      "training_data/fastai/moonwalk_898998.png\n"
     ]
    },
    {
     "name": "stderr",
     "output_type": "stream",
     "text": [
      "/home/ale/anaconda3/envs/tensor20/lib/python3.6/site-packages/fastai/vision/transform.py:243: UserWarning: torch.gesv is deprecated in favour of torch.solve and will be removed in the next release. Please use torch.solve instead.\n",
      "  return torch.gesv(B,A)[0][:,0]\n",
      "/home/ale/anaconda3/envs/tensor20/lib/python3.6/site-packages/fastai/vision/transform.py:243: UserWarning: torch.gesv is deprecated in favour of torch.solve and will be removed in the next release. Please use torch.solve instead.\n",
      "  return torch.gesv(B,A)[0][:,0]\n"
     ]
    },
    {
     "name": "stdout",
     "output_type": "stream",
     "text": [
      "training_data/fastai/moonwalk_898999.png\n",
      "training_data/fastai/dramatic_1257990.png\n",
      "training_data/fastai/dramatic_1257991.png\n",
      "training_data/fastai/dramatic_1257992.png\n",
      "training_data/fastai/dramatic_1257993.png\n",
      "training_data/fastai/dramatic_1257994.png\n",
      "training_data/fastai/dramatic_1257995.png\n",
      "training_data/fastai/dramatic_1257996.png\n",
      "training_data/fastai/dramatic_1257997.png\n",
      "training_data/fastai/dramatic_1257998.png\n",
      "training_data/fastai/dramatic_1257999.png\n",
      "training_data/fastai/normal_803990.png\n",
      "training_data/fastai/normal_803991.png\n",
      "training_data/fastai/normal_803992.png\n",
      "training_data/fastai/normal_803993.png\n",
      "training_data/fastai/normal_803994.png\n",
      "training_data/fastai/normal_803995.png\n",
      "training_data/fastai/normal_803996.png\n",
      "training_data/fastai/normal_803997.png\n",
      "training_data/fastai/normal_803998.png\n"
     ]
    },
    {
     "name": "stderr",
     "output_type": "stream",
     "text": [
      "/home/ale/anaconda3/envs/tensor20/lib/python3.6/site-packages/fastai/vision/transform.py:243: UserWarning: torch.gesv is deprecated in favour of torch.solve and will be removed in the next release. Please use torch.solve instead.\n",
      "  return torch.gesv(B,A)[0][:,0]\n",
      "/home/ale/anaconda3/envs/tensor20/lib/python3.6/site-packages/fastai/vision/transform.py:243: UserWarning: torch.gesv is deprecated in favour of torch.solve and will be removed in the next release. Please use torch.solve instead.\n",
      "  return torch.gesv(B,A)[0][:,0]\n"
     ]
    },
    {
     "name": "stdout",
     "output_type": "stream",
     "text": [
      "training_data/fastai/normal_803999.png\n",
      "training_data/fastai/backpack_908990.png\n",
      "training_data/fastai/backpack_908991.png\n",
      "training_data/fastai/backpack_908992.png\n",
      "training_data/fastai/backpack_908993.png\n",
      "training_data/fastai/backpack_908994.png\n",
      "training_data/fastai/backpack_908995.png\n",
      "training_data/fastai/backpack_908996.png\n",
      "training_data/fastai/backpack_908997.png\n",
      "training_data/fastai/backpack_908998.png\n",
      "training_data/fastai/backpack_908999.png\n",
      "training_data/fastai/fly_852990.png\n",
      "training_data/fastai/fly_852991.png\n",
      "training_data/fastai/fly_852992.png\n",
      "training_data/fastai/fly_852993.png\n",
      "training_data/fastai/fly_852994.png\n",
      "training_data/fastai/fly_852995.png\n"
     ]
    },
    {
     "name": "stderr",
     "output_type": "stream",
     "text": [
      "/home/ale/anaconda3/envs/tensor20/lib/python3.6/site-packages/fastai/vision/transform.py:243: UserWarning: torch.gesv is deprecated in favour of torch.solve and will be removed in the next release. Please use torch.solve instead.\n",
      "  return torch.gesv(B,A)[0][:,0]\n"
     ]
    },
    {
     "name": "stdout",
     "output_type": "stream",
     "text": [
      "training_data/fastai/fly_852996.png\n",
      "training_data/fastai/fly_852997.png\n",
      "training_data/fastai/fly_852998.png\n",
      "training_data/fastai/fly_852999.png\n",
      "training_data/fastai/dramatic_131990.png\n",
      "training_data/fastai/dramatic_131991.png\n",
      "training_data/fastai/dramatic_131992.png\n",
      "training_data/fastai/dramatic_131993.png\n"
     ]
    },
    {
     "name": "stderr",
     "output_type": "stream",
     "text": [
      "/home/ale/anaconda3/envs/tensor20/lib/python3.6/site-packages/fastai/vision/transform.py:243: UserWarning: torch.gesv is deprecated in favour of torch.solve and will be removed in the next release. Please use torch.solve instead.\n",
      "  return torch.gesv(B,A)[0][:,0]\n"
     ]
    },
    {
     "name": "stdout",
     "output_type": "stream",
     "text": [
      "training_data/fastai/dramatic_131994.png\n",
      "training_data/fastai/dramatic_131995.png\n",
      "training_data/fastai/dramatic_131996.png\n",
      "training_data/fastai/dramatic_131997.png\n",
      "training_data/fastai/dramatic_131998.png\n",
      "training_data/fastai/dramatic_131999.png\n",
      "training_data/fastai/normal_2990.png\n",
      "training_data/fastai/normal_2991.png\n"
     ]
    },
    {
     "name": "stderr",
     "output_type": "stream",
     "text": [
      "/home/ale/anaconda3/envs/tensor20/lib/python3.6/site-packages/fastai/vision/transform.py:243: UserWarning: torch.gesv is deprecated in favour of torch.solve and will be removed in the next release. Please use torch.solve instead.\n",
      "  return torch.gesv(B,A)[0][:,0]\n"
     ]
    },
    {
     "name": "stdout",
     "output_type": "stream",
     "text": [
      "training_data/fastai/normal_2992.png\n",
      "training_data/fastai/normal_2993.png\n",
      "training_data/fastai/normal_2994.png\n",
      "training_data/fastai/normal_2995.png\n",
      "training_data/fastai/normal_2996.png\n",
      "training_data/fastai/normal_2997.png\n",
      "training_data/fastai/normal_2998.png\n",
      "training_data/fastai/normal_2999.png\n",
      "training_data/fastai/underarm_64990.png\n"
     ]
    },
    {
     "name": "stderr",
     "output_type": "stream",
     "text": [
      "/home/ale/anaconda3/envs/tensor20/lib/python3.6/site-packages/fastai/vision/transform.py:243: UserWarning: torch.gesv is deprecated in favour of torch.solve and will be removed in the next release. Please use torch.solve instead.\n",
      "  return torch.gesv(B,A)[0][:,0]\n"
     ]
    },
    {
     "name": "stdout",
     "output_type": "stream",
     "text": [
      "training_data/fastai/underarm_64991.png\n",
      "training_data/fastai/underarm_64992.png\n",
      "training_data/fastai/underarm_64993.png\n",
      "training_data/fastai/underarm_64994.png\n",
      "training_data/fastai/underarm_64995.png\n",
      "training_data/fastai/underarm_64996.png\n",
      "training_data/fastai/underarm_64997.png\n",
      "training_data/fastai/underarm_64998.png\n",
      "training_data/fastai/underarm_64999.png\n",
      "training_data/fastai/underarm_60990.png\n"
     ]
    },
    {
     "name": "stderr",
     "output_type": "stream",
     "text": [
      "/home/ale/anaconda3/envs/tensor20/lib/python3.6/site-packages/fastai/vision/transform.py:243: UserWarning: torch.gesv is deprecated in favour of torch.solve and will be removed in the next release. Please use torch.solve instead.\n",
      "  return torch.gesv(B,A)[0][:,0]\n"
     ]
    },
    {
     "name": "stdout",
     "output_type": "stream",
     "text": [
      "training_data/fastai/underarm_60991.png\n",
      "training_data/fastai/underarm_60992.png\n",
      "training_data/fastai/underarm_60993.png\n",
      "training_data/fastai/underarm_60994.png\n",
      "training_data/fastai/underarm_60995.png\n",
      "training_data/fastai/underarm_60996.png\n",
      "training_data/fastai/underarm_60997.png\n",
      "training_data/fastai/underarm_60998.png\n",
      "training_data/fastai/underarm_60999.png\n"
     ]
    },
    {
     "name": "stderr",
     "output_type": "stream",
     "text": [
      "/home/ale/anaconda3/envs/tensor20/lib/python3.6/site-packages/fastai/vision/transform.py:243: UserWarning: torch.gesv is deprecated in favour of torch.solve and will be removed in the next release. Please use torch.solve instead.\n",
      "  return torch.gesv(B,A)[0][:,0]\n"
     ]
    },
    {
     "name": "stdout",
     "output_type": "stream",
     "text": [
      "training_data/fastai/underarm_466990.png\n",
      "training_data/fastai/underarm_466991.png\n",
      "training_data/fastai/underarm_466992.png\n",
      "training_data/fastai/underarm_466993.png\n",
      "training_data/fastai/underarm_466994.png\n",
      "training_data/fastai/underarm_466995.png\n",
      "training_data/fastai/underarm_466996.png\n",
      "training_data/fastai/underarm_466997.png\n",
      "training_data/fastai/underarm_466998.png\n",
      "training_data/fastai/underarm_466999.png\n",
      "training_data/fastai/dramatic_551990.png\n",
      "training_data/fastai/dramatic_551991.png\n",
      "training_data/fastai/dramatic_551992.png\n",
      "training_data/fastai/dramatic_551993.png\n",
      "training_data/fastai/dramatic_551994.png\n",
      "training_data/fastai/dramatic_551995.png\n",
      "training_data/fastai/dramatic_551996.png\n",
      "training_data/fastai/dramatic_551997.png\n",
      "training_data/fastai/dramatic_551998.png\n",
      "training_data/fastai/dramatic_551999.png\n"
     ]
    },
    {
     "name": "stderr",
     "output_type": "stream",
     "text": [
      "/home/ale/anaconda3/envs/tensor20/lib/python3.6/site-packages/fastai/vision/transform.py:243: UserWarning: torch.gesv is deprecated in favour of torch.solve and will be removed in the next release. Please use torch.solve instead.\n",
      "  return torch.gesv(B,A)[0][:,0]\n",
      "/home/ale/anaconda3/envs/tensor20/lib/python3.6/site-packages/fastai/vision/transform.py:243: UserWarning: torch.gesv is deprecated in favour of torch.solve and will be removed in the next release. Please use torch.solve instead.\n",
      "  return torch.gesv(B,A)[0][:,0]\n"
     ]
    },
    {
     "name": "stdout",
     "output_type": "stream",
     "text": [
      "training_data/fastai/moonwalk_890990.png\n",
      "training_data/fastai/moonwalk_890991.png\n",
      "training_data/fastai/moonwalk_890992.png\n",
      "training_data/fastai/moonwalk_890993.png\n",
      "training_data/fastai/moonwalk_890994.png\n",
      "training_data/fastai/moonwalk_890995.png\n",
      "training_data/fastai/moonwalk_890996.png\n",
      "training_data/fastai/moonwalk_890997.png\n",
      "training_data/fastai/moonwalk_890998.png\n",
      "training_data/fastai/moonwalk_890999.png\n",
      "training_data/fastai/normal_1202990.png\n",
      "training_data/fastai/normal_1202991.png\n",
      "training_data/fastai/normal_1202992.png\n",
      "training_data/fastai/normal_1202993.png\n",
      "training_data/fastai/normal_1202994.png\n",
      "training_data/fastai/normal_1202995.png\n"
     ]
    },
    {
     "name": "stderr",
     "output_type": "stream",
     "text": [
      "/home/ale/anaconda3/envs/tensor20/lib/python3.6/site-packages/fastai/vision/transform.py:243: UserWarning: torch.gesv is deprecated in favour of torch.solve and will be removed in the next release. Please use torch.solve instead.\n",
      "  return torch.gesv(B,A)[0][:,0]\n"
     ]
    },
    {
     "name": "stdout",
     "output_type": "stream",
     "text": [
      "training_data/fastai/normal_1202996.png\n",
      "training_data/fastai/normal_1202997.png\n",
      "training_data/fastai/normal_1202998.png\n",
      "training_data/fastai/normal_1202999.png\n",
      "training_data/fastai/normal_205990.png\n",
      "training_data/fastai/normal_205991.png\n",
      "training_data/fastai/normal_205992.png\n"
     ]
    },
    {
     "name": "stderr",
     "output_type": "stream",
     "text": [
      "/home/ale/anaconda3/envs/tensor20/lib/python3.6/site-packages/fastai/vision/transform.py:243: UserWarning: torch.gesv is deprecated in favour of torch.solve and will be removed in the next release. Please use torch.solve instead.\n",
      "  return torch.gesv(B,A)[0][:,0]\n"
     ]
    },
    {
     "name": "stdout",
     "output_type": "stream",
     "text": [
      "training_data/fastai/normal_205993.png\n",
      "training_data/fastai/normal_205994.png\n",
      "training_data/fastai/normal_205995.png\n",
      "training_data/fastai/normal_205996.png\n",
      "training_data/fastai/normal_205997.png\n",
      "training_data/fastai/normal_205998.png\n",
      "training_data/fastai/normal_205999.png\n",
      "training_data/fastai/hadouken_94990.png\n",
      "training_data/fastai/hadouken_94991.png\n",
      "training_data/fastai/hadouken_94992.png\n",
      "training_data/fastai/hadouken_94993.png\n",
      "training_data/fastai/hadouken_94994.png\n",
      "training_data/fastai/hadouken_94995.png\n",
      "training_data/fastai/hadouken_94996.png\n",
      "training_data/fastai/hadouken_94997.png\n",
      "training_data/fastai/hadouken_94998.png\n"
     ]
    },
    {
     "name": "stderr",
     "output_type": "stream",
     "text": [
      "/home/ale/anaconda3/envs/tensor20/lib/python3.6/site-packages/fastai/vision/transform.py:243: UserWarning: torch.gesv is deprecated in favour of torch.solve and will be removed in the next release. Please use torch.solve instead.\n",
      "  return torch.gesv(B,A)[0][:,0]\n"
     ]
    },
    {
     "name": "stdout",
     "output_type": "stream",
     "text": [
      "training_data/fastai/hadouken_94999.png\n",
      "training_data/fastai/fly_850990.png\n",
      "training_data/fastai/fly_850991.png\n",
      "training_data/fastai/fly_850992.png\n",
      "training_data/fastai/fly_850993.png\n",
      "training_data/fastai/fly_850994.png\n",
      "training_data/fastai/fly_850995.png\n",
      "training_data/fastai/fly_850996.png\n",
      "training_data/fastai/fly_850997.png\n"
     ]
    },
    {
     "name": "stderr",
     "output_type": "stream",
     "text": [
      "/home/ale/anaconda3/envs/tensor20/lib/python3.6/site-packages/fastai/vision/transform.py:243: UserWarning: torch.gesv is deprecated in favour of torch.solve and will be removed in the next release. Please use torch.solve instead.\n",
      "  return torch.gesv(B,A)[0][:,0]\n"
     ]
    },
    {
     "name": "stdout",
     "output_type": "stream",
     "text": [
      "training_data/fastai/fly_850998.png\n",
      "training_data/fastai/fly_850999.png\n",
      "training_data/fastai/dramatic_289990.png\n",
      "training_data/fastai/dramatic_289991.png\n",
      "training_data/fastai/dramatic_289992.png\n",
      "training_data/fastai/dramatic_289993.png\n",
      "training_data/fastai/dramatic_289994.png\n",
      "training_data/fastai/dramatic_289995.png\n"
     ]
    },
    {
     "name": "stderr",
     "output_type": "stream",
     "text": [
      "/home/ale/anaconda3/envs/tensor20/lib/python3.6/site-packages/fastai/vision/transform.py:243: UserWarning: torch.gesv is deprecated in favour of torch.solve and will be removed in the next release. Please use torch.solve instead.\n",
      "  return torch.gesv(B,A)[0][:,0]\n",
      "/home/ale/anaconda3/envs/tensor20/lib/python3.6/site-packages/fastai/vision/transform.py:243: UserWarning: torch.gesv is deprecated in favour of torch.solve and will be removed in the next release. Please use torch.solve instead.\n",
      "  return torch.gesv(B,A)[0][:,0]\n"
     ]
    },
    {
     "name": "stdout",
     "output_type": "stream",
     "text": [
      "training_data/fastai/dramatic_289996.png\n",
      "training_data/fastai/dramatic_289997.png\n",
      "training_data/fastai/dramatic_289998.png\n",
      "training_data/fastai/dramatic_289999.png\n",
      "training_data/fastai/fly_854990.png\n",
      "training_data/fastai/fly_854991.png\n",
      "training_data/fastai/fly_854992.png\n",
      "training_data/fastai/fly_854993.png\n",
      "training_data/fastai/fly_854994.png\n",
      "training_data/fastai/fly_854995.png\n",
      "training_data/fastai/fly_854996.png\n",
      "training_data/fastai/fly_854997.png\n",
      "training_data/fastai/fly_854998.png\n",
      "training_data/fastai/fly_854999.png\n",
      "training_data/fastai/wings_819990.png\n",
      "training_data/fastai/wings_819991.png\n",
      "training_data/fastai/wings_819992.png\n"
     ]
    },
    {
     "name": "stderr",
     "output_type": "stream",
     "text": [
      "/home/ale/anaconda3/envs/tensor20/lib/python3.6/site-packages/fastai/vision/transform.py:243: UserWarning: torch.gesv is deprecated in favour of torch.solve and will be removed in the next release. Please use torch.solve instead.\n",
      "  return torch.gesv(B,A)[0][:,0]\n"
     ]
    },
    {
     "name": "stdout",
     "output_type": "stream",
     "text": [
      "training_data/fastai/wings_819993.png\n",
      "training_data/fastai/wings_819994.png\n",
      "training_data/fastai/wings_819995.png\n",
      "training_data/fastai/wings_819996.png\n",
      "training_data/fastai/wings_819997.png\n",
      "training_data/fastai/wings_819998.png\n",
      "training_data/fastai/wings_819999.png\n",
      "training_data/fastai/normal_17990.png\n",
      "training_data/fastai/normal_17991.png\n"
     ]
    },
    {
     "name": "stderr",
     "output_type": "stream",
     "text": [
      "/home/ale/anaconda3/envs/tensor20/lib/python3.6/site-packages/fastai/vision/transform.py:243: UserWarning: torch.gesv is deprecated in favour of torch.solve and will be removed in the next release. Please use torch.solve instead.\n",
      "  return torch.gesv(B,A)[0][:,0]\n"
     ]
    },
    {
     "name": "stdout",
     "output_type": "stream",
     "text": [
      "training_data/fastai/normal_17992.png\n",
      "training_data/fastai/normal_17993.png\n",
      "training_data/fastai/normal_17994.png\n",
      "training_data/fastai/normal_17995.png\n",
      "training_data/fastai/normal_17996.png\n",
      "training_data/fastai/normal_17997.png\n",
      "training_data/fastai/normal_17998.png\n",
      "training_data/fastai/normal_17999.png\n",
      "training_data/fastai/normal_409990.png\n",
      "training_data/fastai/normal_409991.png\n",
      "training_data/fastai/normal_409992.png\n",
      "training_data/fastai/normal_409993.png\n",
      "training_data/fastai/normal_409994.png\n",
      "training_data/fastai/normal_409995.png\n",
      "training_data/fastai/normal_409996.png\n",
      "training_data/fastai/normal_409997.png\n",
      "training_data/fastai/normal_409998.png\n"
     ]
    },
    {
     "name": "stderr",
     "output_type": "stream",
     "text": [
      "/home/ale/anaconda3/envs/tensor20/lib/python3.6/site-packages/fastai/vision/transform.py:243: UserWarning: torch.gesv is deprecated in favour of torch.solve and will be removed in the next release. Please use torch.solve instead.\n",
      "  return torch.gesv(B,A)[0][:,0]\n",
      "/home/ale/anaconda3/envs/tensor20/lib/python3.6/site-packages/fastai/vision/transform.py:243: UserWarning: torch.gesv is deprecated in favour of torch.solve and will be removed in the next release. Please use torch.solve instead.\n",
      "  return torch.gesv(B,A)[0][:,0]\n"
     ]
    },
    {
     "name": "stdout",
     "output_type": "stream",
     "text": [
      "training_data/fastai/normal_409999.png\n",
      "training_data/fastai/moonwalk_81990.png\n",
      "training_data/fastai/moonwalk_81991.png\n",
      "training_data/fastai/moonwalk_81992.png\n",
      "training_data/fastai/moonwalk_81993.png\n",
      "training_data/fastai/moonwalk_81994.png\n",
      "training_data/fastai/moonwalk_81995.png\n",
      "training_data/fastai/moonwalk_81996.png\n",
      "training_data/fastai/moonwalk_81997.png\n",
      "training_data/fastai/moonwalk_81998.png\n",
      "training_data/fastai/moonwalk_81999.png\n",
      "training_data/fastai/normal_801990.png\n",
      "training_data/fastai/normal_801991.png\n",
      "training_data/fastai/normal_801992.png\n",
      "training_data/fastai/normal_801993.png\n",
      "training_data/fastai/normal_801994.png\n",
      "training_data/fastai/normal_801995.png\n",
      "training_data/fastai/normal_801996.png\n"
     ]
    },
    {
     "name": "stderr",
     "output_type": "stream",
     "text": [
      "/home/ale/anaconda3/envs/tensor20/lib/python3.6/site-packages/fastai/vision/transform.py:243: UserWarning: torch.gesv is deprecated in favour of torch.solve and will be removed in the next release. Please use torch.solve instead.\n",
      "  return torch.gesv(B,A)[0][:,0]\n"
     ]
    },
    {
     "name": "stdout",
     "output_type": "stream",
     "text": [
      "training_data/fastai/normal_801997.png\n",
      "training_data/fastai/normal_801998.png\n",
      "training_data/fastai/normal_801999.png\n",
      "training_data/fastai/fly_227990.png\n",
      "training_data/fastai/fly_227991.png\n",
      "training_data/fastai/fly_227992.png\n",
      "training_data/fastai/fly_227993.png\n",
      "training_data/fastai/fly_227994.png\n",
      "training_data/fastai/fly_227995.png\n",
      "training_data/fastai/fly_227996.png\n"
     ]
    },
    {
     "name": "stderr",
     "output_type": "stream",
     "text": [
      "/home/ale/anaconda3/envs/tensor20/lib/python3.6/site-packages/fastai/vision/transform.py:243: UserWarning: torch.gesv is deprecated in favour of torch.solve and will be removed in the next release. Please use torch.solve instead.\n",
      "  return torch.gesv(B,A)[0][:,0]\n"
     ]
    },
    {
     "name": "stdout",
     "output_type": "stream",
     "text": [
      "training_data/fastai/fly_227997.png\n",
      "training_data/fastai/fly_227998.png\n",
      "training_data/fastai/fly_227999.png\n",
      "training_data/fastai/moonwalk_895990.png\n",
      "training_data/fastai/moonwalk_895991.png\n",
      "training_data/fastai/moonwalk_895992.png\n",
      "training_data/fastai/moonwalk_895993.png\n",
      "training_data/fastai/moonwalk_895994.png\n",
      "training_data/fastai/moonwalk_895995.png\n"
     ]
    },
    {
     "name": "stderr",
     "output_type": "stream",
     "text": [
      "/home/ale/anaconda3/envs/tensor20/lib/python3.6/site-packages/fastai/vision/transform.py:243: UserWarning: torch.gesv is deprecated in favour of torch.solve and will be removed in the next release. Please use torch.solve instead.\n",
      "  return torch.gesv(B,A)[0][:,0]\n"
     ]
    },
    {
     "name": "stdout",
     "output_type": "stream",
     "text": [
      "training_data/fastai/moonwalk_895996.png\n",
      "training_data/fastai/moonwalk_895997.png\n",
      "training_data/fastai/moonwalk_895998.png\n",
      "training_data/fastai/moonwalk_895999.png\n",
      "training_data/fastai/dramatic_943990.png\n",
      "training_data/fastai/dramatic_943991.png\n",
      "training_data/fastai/dramatic_943992.png\n",
      "training_data/fastai/dramatic_943993.png\n",
      "training_data/fastai/dramatic_943994.png\n"
     ]
    },
    {
     "name": "stderr",
     "output_type": "stream",
     "text": [
      "/home/ale/anaconda3/envs/tensor20/lib/python3.6/site-packages/fastai/vision/transform.py:243: UserWarning: torch.gesv is deprecated in favour of torch.solve and will be removed in the next release. Please use torch.solve instead.\n",
      "  return torch.gesv(B,A)[0][:,0]\n"
     ]
    },
    {
     "name": "stdout",
     "output_type": "stream",
     "text": [
      "training_data/fastai/dramatic_943995.png\n",
      "training_data/fastai/dramatic_943996.png\n",
      "training_data/fastai/dramatic_943997.png\n",
      "training_data/fastai/dramatic_943998.png\n",
      "training_data/fastai/dramatic_943999.png\n",
      "training_data/fastai/wings_421990.png\n",
      "training_data/fastai/wings_421991.png\n",
      "training_data/fastai/wings_421992.png\n"
     ]
    },
    {
     "name": "stderr",
     "output_type": "stream",
     "text": [
      "/home/ale/anaconda3/envs/tensor20/lib/python3.6/site-packages/fastai/vision/transform.py:243: UserWarning: torch.gesv is deprecated in favour of torch.solve and will be removed in the next release. Please use torch.solve instead.\n",
      "  return torch.gesv(B,A)[0][:,0]\n"
     ]
    },
    {
     "name": "stdout",
     "output_type": "stream",
     "text": [
      "training_data/fastai/wings_421993.png\n",
      "training_data/fastai/wings_421994.png\n",
      "training_data/fastai/wings_421995.png\n",
      "training_data/fastai/wings_421996.png\n",
      "training_data/fastai/wings_421997.png\n",
      "training_data/fastai/wings_421998.png\n",
      "training_data/fastai/wings_421999.png\n",
      "training_data/fastai/normal_0990.png\n",
      "training_data/fastai/normal_0991.png\n",
      "training_data/fastai/normal_0992.png\n",
      "training_data/fastai/normal_0993.png\n",
      "training_data/fastai/normal_0994.png\n",
      "training_data/fastai/normal_0995.png\n",
      "training_data/fastai/normal_0996.png\n",
      "training_data/fastai/normal_0997.png\n",
      "training_data/fastai/normal_0998.png\n",
      "training_data/fastai/normal_0999.png\n",
      "training_data/fastai/normal_206990.png\n",
      "training_data/fastai/normal_206991.png\n",
      "training_data/fastai/normal_206992.png\n"
     ]
    },
    {
     "name": "stderr",
     "output_type": "stream",
     "text": [
      "/home/ale/anaconda3/envs/tensor20/lib/python3.6/site-packages/fastai/vision/transform.py:243: UserWarning: torch.gesv is deprecated in favour of torch.solve and will be removed in the next release. Please use torch.solve instead.\n",
      "  return torch.gesv(B,A)[0][:,0]\n",
      "/home/ale/anaconda3/envs/tensor20/lib/python3.6/site-packages/fastai/vision/transform.py:243: UserWarning: torch.gesv is deprecated in favour of torch.solve and will be removed in the next release. Please use torch.solve instead.\n",
      "  return torch.gesv(B,A)[0][:,0]\n"
     ]
    },
    {
     "name": "stdout",
     "output_type": "stream",
     "text": [
      "training_data/fastai/normal_206993.png\n",
      "training_data/fastai/normal_206994.png\n",
      "training_data/fastai/normal_206995.png\n",
      "training_data/fastai/normal_206996.png\n",
      "training_data/fastai/normal_206997.png\n",
      "training_data/fastai/normal_206998.png\n",
      "training_data/fastai/normal_206999.png\n",
      "training_data/fastai/underarm_872990.png\n",
      "training_data/fastai/underarm_872991.png\n",
      "training_data/fastai/underarm_872992.png\n",
      "training_data/fastai/underarm_872993.png\n",
      "training_data/fastai/underarm_872994.png\n",
      "training_data/fastai/underarm_872995.png\n",
      "training_data/fastai/underarm_872996.png\n",
      "training_data/fastai/underarm_872997.png\n",
      "training_data/fastai/underarm_872998.png\n",
      "training_data/fastai/underarm_872999.png\n"
     ]
    },
    {
     "name": "stderr",
     "output_type": "stream",
     "text": [
      "/home/ale/anaconda3/envs/tensor20/lib/python3.6/site-packages/fastai/vision/transform.py:243: UserWarning: torch.gesv is deprecated in favour of torch.solve and will be removed in the next release. Please use torch.solve instead.\n",
      "  return torch.gesv(B,A)[0][:,0]\n"
     ]
    },
    {
     "name": "stdout",
     "output_type": "stream",
     "text": [
      "training_data/fastai/wings_829990.png\n",
      "training_data/fastai/wings_829991.png\n",
      "training_data/fastai/wings_829992.png\n",
      "training_data/fastai/wings_829993.png\n",
      "training_data/fastai/wings_829994.png\n",
      "training_data/fastai/wings_829995.png\n",
      "training_data/fastai/wings_829996.png\n",
      "training_data/fastai/wings_829997.png\n",
      "training_data/fastai/wings_829998.png\n",
      "training_data/fastai/wings_829999.png\n"
     ]
    },
    {
     "name": "stderr",
     "output_type": "stream",
     "text": [
      "/home/ale/anaconda3/envs/tensor20/lib/python3.6/site-packages/fastai/vision/transform.py:243: UserWarning: torch.gesv is deprecated in favour of torch.solve and will be removed in the next release. Please use torch.solve instead.\n",
      "  return torch.gesv(B,A)[0][:,0]\n",
      "/home/ale/anaconda3/envs/tensor20/lib/python3.6/site-packages/fastai/vision/transform.py:243: UserWarning: torch.gesv is deprecated in favour of torch.solve and will be removed in the next release. Please use torch.solve instead.\n",
      "  return torch.gesv(B,A)[0][:,0]\n"
     ]
    },
    {
     "name": "stdout",
     "output_type": "stream",
     "text": [
      "training_data/fastai/backpack_114990.png\n",
      "training_data/fastai/backpack_114991.png\n",
      "training_data/fastai/backpack_114992.png\n",
      "training_data/fastai/backpack_114993.png\n",
      "training_data/fastai/backpack_114994.png\n",
      "training_data/fastai/backpack_114995.png\n",
      "training_data/fastai/backpack_114996.png\n",
      "training_data/fastai/backpack_114997.png\n",
      "training_data/fastai/backpack_114998.png\n",
      "training_data/fastai/backpack_114999.png\n",
      "training_data/fastai/normal_1206990.png\n",
      "training_data/fastai/normal_1206991.png\n",
      "training_data/fastai/normal_1206992.png\n",
      "training_data/fastai/normal_1206993.png\n",
      "training_data/fastai/normal_1206994.png\n",
      "training_data/fastai/normal_1206995.png\n",
      "training_data/fastai/normal_1206996.png\n",
      "training_data/fastai/normal_1206997.png\n"
     ]
    },
    {
     "name": "stderr",
     "output_type": "stream",
     "text": [
      "/home/ale/anaconda3/envs/tensor20/lib/python3.6/site-packages/fastai/vision/transform.py:243: UserWarning: torch.gesv is deprecated in favour of torch.solve and will be removed in the next release. Please use torch.solve instead.\n",
      "  return torch.gesv(B,A)[0][:,0]\n"
     ]
    },
    {
     "name": "stdout",
     "output_type": "stream",
     "text": [
      "training_data/fastai/normal_1206998.png\n",
      "training_data/fastai/normal_1206999.png\n",
      "training_data/fastai/wings_839990.png\n",
      "training_data/fastai/wings_839991.png\n",
      "training_data/fastai/wings_839992.png\n",
      "training_data/fastai/wings_839993.png\n",
      "training_data/fastai/wings_839994.png\n",
      "training_data/fastai/wings_839995.png\n",
      "training_data/fastai/wings_839996.png\n",
      "training_data/fastai/wings_839997.png\n",
      "training_data/fastai/wings_839998.png\n",
      "training_data/fastai/wings_839999.png\n",
      "training_data/fastai/moonwalk_86990.png\n",
      "training_data/fastai/moonwalk_86991.png\n",
      "training_data/fastai/moonwalk_86992.png\n",
      "training_data/fastai/moonwalk_86993.png\n",
      "training_data/fastai/moonwalk_86994.png\n",
      "training_data/fastai/moonwalk_86995.png\n",
      "training_data/fastai/moonwalk_86996.png\n",
      "training_data/fastai/moonwalk_86997.png\n",
      "training_data/fastai/moonwalk_86998.png\n",
      "training_data/fastai/moonwalk_86999.png\n",
      "training_data/fastai/hadouken_968990.png\n",
      "training_data/fastai/hadouken_968991.png\n",
      "training_data/fastai/hadouken_968992.png\n",
      "training_data/fastai/hadouken_968993.png\n",
      "training_data/fastai/hadouken_968994.png\n",
      "training_data/fastai/hadouken_968995.png\n",
      "training_data/fastai/hadouken_968996.png\n",
      "training_data/fastai/hadouken_968997.png\n"
     ]
    },
    {
     "name": "stderr",
     "output_type": "stream",
     "text": [
      "/home/ale/anaconda3/envs/tensor20/lib/python3.6/site-packages/fastai/vision/transform.py:243: UserWarning: torch.gesv is deprecated in favour of torch.solve and will be removed in the next release. Please use torch.solve instead.\n",
      "  return torch.gesv(B,A)[0][:,0]\n"
     ]
    },
    {
     "name": "stdout",
     "output_type": "stream",
     "text": [
      "training_data/fastai/hadouken_968998.png\n",
      "training_data/fastai/hadouken_968999.png\n",
      "training_data/fastai/hadouken_89990.png\n",
      "training_data/fastai/hadouken_89991.png\n",
      "training_data/fastai/hadouken_89992.png\n",
      "training_data/fastai/hadouken_89993.png\n",
      "training_data/fastai/hadouken_89994.png\n",
      "training_data/fastai/hadouken_89995.png\n",
      "training_data/fastai/hadouken_89996.png\n"
     ]
    },
    {
     "name": "stderr",
     "output_type": "stream",
     "text": [
      "/home/ale/anaconda3/envs/tensor20/lib/python3.6/site-packages/fastai/vision/transform.py:243: UserWarning: torch.gesv is deprecated in favour of torch.solve and will be removed in the next release. Please use torch.solve instead.\n",
      "  return torch.gesv(B,A)[0][:,0]\n",
      "/home/ale/anaconda3/envs/tensor20/lib/python3.6/site-packages/fastai/vision/transform.py:243: UserWarning: torch.gesv is deprecated in favour of torch.solve and will be removed in the next release. Please use torch.solve instead.\n",
      "  return torch.gesv(B,A)[0][:,0]\n"
     ]
    },
    {
     "name": "stdout",
     "output_type": "stream",
     "text": [
      "training_data/fastai/hadouken_89997.png\n",
      "training_data/fastai/hadouken_89998.png\n",
      "training_data/fastai/hadouken_89999.png\n",
      "training_data/fastai/hadouken_500990.png\n",
      "training_data/fastai/hadouken_500991.png\n",
      "training_data/fastai/hadouken_500992.png\n",
      "training_data/fastai/hadouken_500993.png\n",
      "training_data/fastai/hadouken_500994.png\n",
      "training_data/fastai/hadouken_500995.png\n",
      "training_data/fastai/hadouken_500996.png\n",
      "training_data/fastai/hadouken_500997.png\n",
      "training_data/fastai/hadouken_500998.png\n",
      "training_data/fastai/hadouken_500999.png\n",
      "training_data/fastai/moonwalk_483990.png\n",
      "training_data/fastai/moonwalk_483991.png\n",
      "training_data/fastai/moonwalk_483992.png\n",
      "training_data/fastai/moonwalk_483993.png\n",
      "training_data/fastai/moonwalk_483994.png\n"
     ]
    },
    {
     "name": "stderr",
     "output_type": "stream",
     "text": [
      "/home/ale/anaconda3/envs/tensor20/lib/python3.6/site-packages/fastai/vision/transform.py:243: UserWarning: torch.gesv is deprecated in favour of torch.solve and will be removed in the next release. Please use torch.solve instead.\n",
      "  return torch.gesv(B,A)[0][:,0]\n"
     ]
    },
    {
     "name": "stdout",
     "output_type": "stream",
     "text": [
      "training_data/fastai/moonwalk_483995.png\n",
      "training_data/fastai/moonwalk_483996.png\n",
      "training_data/fastai/moonwalk_483997.png\n",
      "training_data/fastai/moonwalk_483998.png\n",
      "training_data/fastai/moonwalk_483999.png\n",
      "training_data/fastai/moonwalk_482990.png\n",
      "training_data/fastai/moonwalk_482991.png\n",
      "training_data/fastai/moonwalk_482992.png\n",
      "training_data/fastai/moonwalk_482993.png\n"
     ]
    },
    {
     "name": "stderr",
     "output_type": "stream",
     "text": [
      "/home/ale/anaconda3/envs/tensor20/lib/python3.6/site-packages/fastai/vision/transform.py:243: UserWarning: torch.gesv is deprecated in favour of torch.solve and will be removed in the next release. Please use torch.solve instead.\n",
      "  return torch.gesv(B,A)[0][:,0]\n"
     ]
    },
    {
     "name": "stdout",
     "output_type": "stream",
     "text": [
      "training_data/fastai/moonwalk_482994.png\n",
      "training_data/fastai/moonwalk_482995.png\n",
      "training_data/fastai/moonwalk_482996.png\n",
      "training_data/fastai/moonwalk_482997.png\n",
      "training_data/fastai/moonwalk_482998.png\n",
      "training_data/fastai/moonwalk_482999.png\n",
      "training_data/fastai/backpack_922990.png\n",
      "training_data/fastai/backpack_922991.png\n",
      "training_data/fastai/backpack_922992.png\n",
      "training_data/fastai/backpack_922993.png\n",
      "training_data/fastai/backpack_922994.png\n",
      "training_data/fastai/backpack_922995.png\n",
      "training_data/fastai/backpack_922996.png\n",
      "training_data/fastai/backpack_922997.png\n",
      "training_data/fastai/backpack_922998.png\n",
      "training_data/fastai/backpack_922999.png\n"
     ]
    },
    {
     "name": "stderr",
     "output_type": "stream",
     "text": [
      "/home/ale/anaconda3/envs/tensor20/lib/python3.6/site-packages/fastai/vision/transform.py:243: UserWarning: torch.gesv is deprecated in favour of torch.solve and will be removed in the next release. Please use torch.solve instead.\n",
      "  return torch.gesv(B,A)[0][:,0]\n",
      "/home/ale/anaconda3/envs/tensor20/lib/python3.6/site-packages/fastai/vision/transform.py:243: UserWarning: torch.gesv is deprecated in favour of torch.solve and will be removed in the next release. Please use torch.solve instead.\n",
      "  return torch.gesv(B,A)[0][:,0]\n"
     ]
    },
    {
     "name": "stdout",
     "output_type": "stream",
     "text": [
      "training_data/fastai/fly_43990.png\n",
      "training_data/fastai/fly_43991.png\n",
      "training_data/fastai/fly_43992.png\n",
      "training_data/fastai/fly_43993.png\n",
      "training_data/fastai/fly_43994.png\n",
      "training_data/fastai/fly_43995.png\n",
      "training_data/fastai/fly_43996.png\n",
      "training_data/fastai/fly_43997.png\n",
      "training_data/fastai/fly_43998.png\n",
      "training_data/fastai/fly_43999.png\n",
      "training_data/fastai/dramatic_1255990.png\n",
      "training_data/fastai/dramatic_1255991.png\n",
      "training_data/fastai/dramatic_1255992.png\n",
      "training_data/fastai/dramatic_1255993.png\n",
      "training_data/fastai/dramatic_1255994.png\n",
      "training_data/fastai/dramatic_1255995.png\n",
      "training_data/fastai/dramatic_1255996.png\n",
      "training_data/fastai/dramatic_1255997.png\n"
     ]
    },
    {
     "name": "stderr",
     "output_type": "stream",
     "text": [
      "/home/ale/anaconda3/envs/tensor20/lib/python3.6/site-packages/fastai/vision/transform.py:243: UserWarning: torch.gesv is deprecated in favour of torch.solve and will be removed in the next release. Please use torch.solve instead.\n",
      "  return torch.gesv(B,A)[0][:,0]\n"
     ]
    },
    {
     "name": "stdout",
     "output_type": "stream",
     "text": [
      "training_data/fastai/dramatic_1255998.png\n",
      "training_data/fastai/dramatic_1255999.png\n",
      "training_data/fastai/dramatic_130990.png\n",
      "training_data/fastai/dramatic_130991.png\n",
      "training_data/fastai/dramatic_130992.png\n",
      "training_data/fastai/dramatic_130993.png\n",
      "training_data/fastai/dramatic_130994.png\n",
      "training_data/fastai/dramatic_130995.png\n",
      "training_data/fastai/dramatic_130996.png\n"
     ]
    },
    {
     "name": "stderr",
     "output_type": "stream",
     "text": [
      "/home/ale/anaconda3/envs/tensor20/lib/python3.6/site-packages/fastai/vision/transform.py:243: UserWarning: torch.gesv is deprecated in favour of torch.solve and will be removed in the next release. Please use torch.solve instead.\n",
      "  return torch.gesv(B,A)[0][:,0]\n"
     ]
    },
    {
     "name": "stdout",
     "output_type": "stream",
     "text": [
      "training_data/fastai/dramatic_130997.png\n",
      "training_data/fastai/dramatic_130998.png\n",
      "training_data/fastai/dramatic_130999.png\n",
      "training_data/fastai/normal_15990.png\n",
      "training_data/fastai/normal_15991.png\n",
      "training_data/fastai/normal_15992.png\n",
      "training_data/fastai/normal_15993.png\n",
      "training_data/fastai/normal_15994.png\n"
     ]
    },
    {
     "name": "stderr",
     "output_type": "stream",
     "text": [
      "/home/ale/anaconda3/envs/tensor20/lib/python3.6/site-packages/fastai/vision/transform.py:243: UserWarning: torch.gesv is deprecated in favour of torch.solve and will be removed in the next release. Please use torch.solve instead.\n",
      "  return torch.gesv(B,A)[0][:,0]\n"
     ]
    },
    {
     "name": "stdout",
     "output_type": "stream",
     "text": [
      "training_data/fastai/normal_15995.png\n",
      "training_data/fastai/normal_15996.png\n",
      "training_data/fastai/normal_15997.png\n",
      "training_data/fastai/normal_15998.png\n",
      "training_data/fastai/normal_15999.png\n",
      "training_data/fastai/normal_1203990.png\n",
      "training_data/fastai/normal_1203991.png\n",
      "training_data/fastai/normal_1203992.png\n",
      "training_data/fastai/normal_1203993.png\n"
     ]
    },
    {
     "name": "stderr",
     "output_type": "stream",
     "text": [
      "/home/ale/anaconda3/envs/tensor20/lib/python3.6/site-packages/fastai/vision/transform.py:243: UserWarning: torch.gesv is deprecated in favour of torch.solve and will be removed in the next release. Please use torch.solve instead.\n",
      "  return torch.gesv(B,A)[0][:,0]\n"
     ]
    },
    {
     "name": "stdout",
     "output_type": "stream",
     "text": [
      "training_data/fastai/normal_1203994.png\n",
      "training_data/fastai/normal_1203995.png\n",
      "training_data/fastai/normal_1203996.png\n",
      "training_data/fastai/normal_1203997.png\n",
      "training_data/fastai/normal_1203998.png\n",
      "training_data/fastai/normal_1203999.png\n",
      "training_data/fastai/normal_1209990.png\n",
      "training_data/fastai/normal_1209991.png\n",
      "training_data/fastai/normal_1209992.png\n",
      "training_data/fastai/normal_1209993.png\n",
      "training_data/fastai/normal_1209994.png\n",
      "training_data/fastai/normal_1209995.png\n",
      "training_data/fastai/normal_1209996.png\n",
      "training_data/fastai/normal_1209997.png\n",
      "training_data/fastai/normal_1209998.png\n",
      "training_data/fastai/normal_1209999.png\n",
      "training_data/fastai/wings_215990.png\n",
      "training_data/fastai/wings_215991.png\n",
      "training_data/fastai/wings_215992.png\n"
     ]
    },
    {
     "name": "stderr",
     "output_type": "stream",
     "text": [
      "/home/ale/anaconda3/envs/tensor20/lib/python3.6/site-packages/fastai/vision/transform.py:243: UserWarning: torch.gesv is deprecated in favour of torch.solve and will be removed in the next release. Please use torch.solve instead.\n",
      "  return torch.gesv(B,A)[0][:,0]\n",
      "/home/ale/anaconda3/envs/tensor20/lib/python3.6/site-packages/fastai/vision/transform.py:243: UserWarning: torch.gesv is deprecated in favour of torch.solve and will be removed in the next release. Please use torch.solve instead.\n",
      "  return torch.gesv(B,A)[0][:,0]\n"
     ]
    },
    {
     "name": "stdout",
     "output_type": "stream",
     "text": [
      "training_data/fastai/wings_215993.png\n",
      "training_data/fastai/wings_215994.png\n",
      "training_data/fastai/wings_215995.png\n",
      "training_data/fastai/wings_215996.png\n",
      "training_data/fastai/wings_215997.png\n",
      "training_data/fastai/wings_215998.png\n",
      "training_data/fastai/wings_215999.png\n"
     ]
    },
    {
     "name": "stderr",
     "output_type": "stream",
     "text": [
      "/home/ale/anaconda3/envs/tensor20/lib/python3.6/site-packages/fastai/vision/transform.py:243: UserWarning: torch.gesv is deprecated in favour of torch.solve and will be removed in the next release. Please use torch.solve instead.\n",
      "  return torch.gesv(B,A)[0][:,0]\n"
     ]
    },
    {
     "name": "stdout",
     "output_type": "stream",
     "text": [
      "training_data/fastai/hadouken_264990.png\n",
      "training_data/fastai/hadouken_264991.png\n",
      "training_data/fastai/hadouken_264992.png\n",
      "training_data/fastai/hadouken_264993.png\n",
      "training_data/fastai/hadouken_264994.png\n",
      "training_data/fastai/hadouken_264995.png\n",
      "training_data/fastai/hadouken_264996.png\n",
      "training_data/fastai/hadouken_264997.png\n",
      "training_data/fastai/hadouken_264998.png\n",
      "training_data/fastai/hadouken_264999.png\n"
     ]
    },
    {
     "name": "stderr",
     "output_type": "stream",
     "text": [
      "/home/ale/anaconda3/envs/tensor20/lib/python3.6/site-packages/fastai/vision/transform.py:243: UserWarning: torch.gesv is deprecated in favour of torch.solve and will be removed in the next release. Please use torch.solve instead.\n",
      "  return torch.gesv(B,A)[0][:,0]\n"
     ]
    },
    {
     "name": "stdout",
     "output_type": "stream",
     "text": [
      "training_data/fastai/dramatic_291990.png\n",
      "training_data/fastai/dramatic_291991.png\n",
      "training_data/fastai/dramatic_291992.png\n",
      "training_data/fastai/dramatic_291993.png\n",
      "training_data/fastai/dramatic_291994.png\n",
      "training_data/fastai/dramatic_291995.png\n",
      "training_data/fastai/dramatic_291996.png\n",
      "training_data/fastai/dramatic_291997.png\n",
      "training_data/fastai/dramatic_291998.png\n",
      "training_data/fastai/dramatic_291999.png\n",
      "training_data/fastai/dramatic_549990.png\n",
      "training_data/fastai/dramatic_549991.png\n",
      "training_data/fastai/dramatic_549992.png\n",
      "training_data/fastai/dramatic_549993.png\n",
      "training_data/fastai/dramatic_549994.png\n",
      "training_data/fastai/dramatic_549995.png\n"
     ]
    },
    {
     "name": "stderr",
     "output_type": "stream",
     "text": [
      "/home/ale/anaconda3/envs/tensor20/lib/python3.6/site-packages/fastai/vision/transform.py:243: UserWarning: torch.gesv is deprecated in favour of torch.solve and will be removed in the next release. Please use torch.solve instead.\n",
      "  return torch.gesv(B,A)[0][:,0]\n"
     ]
    },
    {
     "name": "stdout",
     "output_type": "stream",
     "text": [
      "training_data/fastai/dramatic_549996.png\n",
      "training_data/fastai/dramatic_549997.png\n",
      "training_data/fastai/dramatic_549998.png\n",
      "training_data/fastai/dramatic_549999.png\n",
      "training_data/fastai/dramatic_1250990.png\n",
      "training_data/fastai/dramatic_1250991.png\n",
      "training_data/fastai/dramatic_1250992.png\n",
      "training_data/fastai/dramatic_1250993.png\n"
     ]
    },
    {
     "name": "stderr",
     "output_type": "stream",
     "text": [
      "/home/ale/anaconda3/envs/tensor20/lib/python3.6/site-packages/fastai/vision/transform.py:243: UserWarning: torch.gesv is deprecated in favour of torch.solve and will be removed in the next release. Please use torch.solve instead.\n",
      "  return torch.gesv(B,A)[0][:,0]\n"
     ]
    },
    {
     "name": "stdout",
     "output_type": "stream",
     "text": [
      "training_data/fastai/dramatic_1250994.png\n",
      "training_data/fastai/dramatic_1250995.png\n",
      "training_data/fastai/dramatic_1250996.png\n",
      "training_data/fastai/dramatic_1250997.png\n",
      "training_data/fastai/dramatic_1250998.png\n",
      "training_data/fastai/dramatic_1250999.png\n",
      "training_data/fastai/backpack_921990.png\n"
     ]
    },
    {
     "name": "stderr",
     "output_type": "stream",
     "text": [
      "/home/ale/anaconda3/envs/tensor20/lib/python3.6/site-packages/fastai/vision/transform.py:243: UserWarning: torch.gesv is deprecated in favour of torch.solve and will be removed in the next release. Please use torch.solve instead.\n",
      "  return torch.gesv(B,A)[0][:,0]\n"
     ]
    },
    {
     "name": "stdout",
     "output_type": "stream",
     "text": [
      "training_data/fastai/backpack_921991.png\n",
      "training_data/fastai/backpack_921992.png\n",
      "training_data/fastai/backpack_921993.png\n",
      "training_data/fastai/backpack_921994.png\n",
      "training_data/fastai/backpack_921995.png\n",
      "training_data/fastai/backpack_921996.png\n",
      "training_data/fastai/backpack_921997.png\n",
      "training_data/fastai/backpack_921998.png\n",
      "training_data/fastai/backpack_921999.png\n",
      "training_data/fastai/fly_46990.png\n",
      "training_data/fastai/fly_46991.png\n",
      "training_data/fastai/fly_46992.png\n",
      "training_data/fastai/fly_46993.png\n",
      "training_data/fastai/fly_46994.png\n",
      "training_data/fastai/fly_46995.png\n",
      "training_data/fastai/fly_46996.png\n"
     ]
    },
    {
     "name": "stderr",
     "output_type": "stream",
     "text": [
      "/home/ale/anaconda3/envs/tensor20/lib/python3.6/site-packages/fastai/vision/transform.py:243: UserWarning: torch.gesv is deprecated in favour of torch.solve and will be removed in the next release. Please use torch.solve instead.\n",
      "  return torch.gesv(B,A)[0][:,0]\n"
     ]
    },
    {
     "name": "stdout",
     "output_type": "stream",
     "text": [
      "training_data/fastai/fly_46997.png\n",
      "training_data/fastai/fly_46998.png\n",
      "training_data/fastai/fly_46999.png\n",
      "training_data/fastai/wings_225990.png\n",
      "training_data/fastai/wings_225991.png\n",
      "training_data/fastai/wings_225992.png\n",
      "training_data/fastai/wings_225993.png\n",
      "training_data/fastai/wings_225994.png\n"
     ]
    },
    {
     "name": "stderr",
     "output_type": "stream",
     "text": [
      "/home/ale/anaconda3/envs/tensor20/lib/python3.6/site-packages/fastai/vision/transform.py:243: UserWarning: torch.gesv is deprecated in favour of torch.solve and will be removed in the next release. Please use torch.solve instead.\n",
      "  return torch.gesv(B,A)[0][:,0]\n"
     ]
    },
    {
     "name": "stdout",
     "output_type": "stream",
     "text": [
      "training_data/fastai/wings_225995.png\n",
      "training_data/fastai/wings_225996.png\n",
      "training_data/fastai/wings_225997.png\n",
      "training_data/fastai/wings_225998.png\n",
      "training_data/fastai/wings_225999.png\n",
      "training_data/fastai/hadouken_93990.png\n",
      "training_data/fastai/hadouken_93991.png\n"
     ]
    },
    {
     "name": "stderr",
     "output_type": "stream",
     "text": [
      "/home/ale/anaconda3/envs/tensor20/lib/python3.6/site-packages/fastai/vision/transform.py:243: UserWarning: torch.gesv is deprecated in favour of torch.solve and will be removed in the next release. Please use torch.solve instead.\n",
      "  return torch.gesv(B,A)[0][:,0]\n"
     ]
    },
    {
     "name": "stdout",
     "output_type": "stream",
     "text": [
      "training_data/fastai/hadouken_93992.png\n",
      "training_data/fastai/hadouken_93993.png\n",
      "training_data/fastai/hadouken_93994.png\n",
      "training_data/fastai/hadouken_93995.png\n",
      "training_data/fastai/hadouken_93996.png\n",
      "training_data/fastai/hadouken_93997.png\n",
      "training_data/fastai/hadouken_93998.png\n",
      "training_data/fastai/hadouken_93999.png\n"
     ]
    },
    {
     "name": "stderr",
     "output_type": "stream",
     "text": [
      "/home/ale/anaconda3/envs/tensor20/lib/python3.6/site-packages/fastai/vision/transform.py:243: UserWarning: torch.gesv is deprecated in favour of torch.solve and will be removed in the next release. Please use torch.solve instead.\n",
      "  return torch.gesv(B,A)[0][:,0]\n"
     ]
    },
    {
     "name": "stdout",
     "output_type": "stream",
     "text": [
      "training_data/fastai/underarm_869990.png\n",
      "training_data/fastai/underarm_869991.png\n",
      "training_data/fastai/underarm_869992.png\n",
      "training_data/fastai/underarm_869993.png\n",
      "training_data/fastai/underarm_869994.png\n",
      "training_data/fastai/underarm_869995.png\n",
      "training_data/fastai/underarm_869996.png\n",
      "training_data/fastai/underarm_869997.png\n",
      "training_data/fastai/underarm_869998.png\n",
      "training_data/fastai/underarm_869999.png\n",
      "training_data/fastai/wings_222990.png\n",
      "training_data/fastai/wings_222991.png\n",
      "training_data/fastai/wings_222992.png\n",
      "training_data/fastai/wings_222993.png\n",
      "training_data/fastai/wings_222994.png\n"
     ]
    },
    {
     "name": "stderr",
     "output_type": "stream",
     "text": [
      "/home/ale/anaconda3/envs/tensor20/lib/python3.6/site-packages/fastai/vision/transform.py:243: UserWarning: torch.gesv is deprecated in favour of torch.solve and will be removed in the next release. Please use torch.solve instead.\n",
      "  return torch.gesv(B,A)[0][:,0]\n"
     ]
    },
    {
     "name": "stdout",
     "output_type": "stream",
     "text": [
      "training_data/fastai/wings_222995.png\n",
      "training_data/fastai/wings_222996.png\n",
      "training_data/fastai/wings_222997.png\n",
      "training_data/fastai/wings_222998.png\n",
      "training_data/fastai/wings_222999.png\n",
      "training_data/fastai/moonwalk_1218990.png\n",
      "training_data/fastai/moonwalk_1218991.png\n",
      "training_data/fastai/moonwalk_1218992.png\n",
      "training_data/fastai/moonwalk_1218993.png\n",
      "training_data/fastai/moonwalk_1218994.png\n",
      "training_data/fastai/moonwalk_1218995.png\n",
      "training_data/fastai/moonwalk_1218996.png\n",
      "training_data/fastai/moonwalk_1218997.png\n",
      "training_data/fastai/moonwalk_1218998.png\n",
      "training_data/fastai/moonwalk_1218999.png\n"
     ]
    },
    {
     "name": "stderr",
     "output_type": "stream",
     "text": [
      "/home/ale/anaconda3/envs/tensor20/lib/python3.6/site-packages/fastai/vision/transform.py:243: UserWarning: torch.gesv is deprecated in favour of torch.solve and will be removed in the next release. Please use torch.solve instead.\n",
      "  return torch.gesv(B,A)[0][:,0]\n",
      "/home/ale/anaconda3/envs/tensor20/lib/python3.6/site-packages/fastai/vision/transform.py:243: UserWarning: torch.gesv is deprecated in favour of torch.solve and will be removed in the next release. Please use torch.solve instead.\n",
      "  return torch.gesv(B,A)[0][:,0]\n"
     ]
    },
    {
     "name": "stdout",
     "output_type": "stream",
     "text": [
      "training_data/fastai/fly_236990.png\n",
      "training_data/fastai/fly_236991.png\n",
      "training_data/fastai/fly_236992.png\n",
      "training_data/fastai/fly_236993.png\n",
      "training_data/fastai/fly_236994.png\n",
      "training_data/fastai/fly_236995.png\n",
      "training_data/fastai/fly_236996.png\n",
      "training_data/fastai/fly_236997.png\n",
      "training_data/fastai/fly_236998.png\n",
      "training_data/fastai/fly_236999.png\n",
      "training_data/fastai/moonwalk_83990.png\n",
      "training_data/fastai/moonwalk_83991.png\n",
      "training_data/fastai/moonwalk_83992.png\n",
      "training_data/fastai/moonwalk_83993.png\n",
      "training_data/fastai/moonwalk_83994.png\n",
      "training_data/fastai/moonwalk_83995.png\n",
      "training_data/fastai/moonwalk_83996.png\n"
     ]
    },
    {
     "name": "stderr",
     "output_type": "stream",
     "text": [
      "/home/ale/anaconda3/envs/tensor20/lib/python3.6/site-packages/fastai/vision/transform.py:243: UserWarning: torch.gesv is deprecated in favour of torch.solve and will be removed in the next release. Please use torch.solve instead.\n",
      "  return torch.gesv(B,A)[0][:,0]\n"
     ]
    },
    {
     "name": "stdout",
     "output_type": "stream",
     "text": [
      "training_data/fastai/moonwalk_83997.png\n",
      "training_data/fastai/moonwalk_83998.png\n",
      "training_data/fastai/moonwalk_83999.png\n",
      "training_data/fastai/dramatic_939990.png\n",
      "training_data/fastai/dramatic_939991.png\n",
      "training_data/fastai/dramatic_939992.png\n",
      "training_data/fastai/dramatic_939993.png\n",
      "training_data/fastai/dramatic_939994.png\n"
     ]
    },
    {
     "name": "stderr",
     "output_type": "stream",
     "text": [
      "/home/ale/anaconda3/envs/tensor20/lib/python3.6/site-packages/fastai/vision/transform.py:243: UserWarning: torch.gesv is deprecated in favour of torch.solve and will be removed in the next release. Please use torch.solve instead.\n",
      "  return torch.gesv(B,A)[0][:,0]\n"
     ]
    },
    {
     "name": "stdout",
     "output_type": "stream",
     "text": [
      "training_data/fastai/dramatic_939995.png\n",
      "training_data/fastai/dramatic_939996.png\n",
      "training_data/fastai/dramatic_939997.png\n",
      "training_data/fastai/dramatic_939998.png\n",
      "training_data/fastai/dramatic_939999.png\n",
      "training_data/fastai/hadouken_95990.png\n",
      "training_data/fastai/hadouken_95991.png\n",
      "training_data/fastai/hadouken_95992.png\n",
      "training_data/fastai/hadouken_95993.png\n",
      "training_data/fastai/hadouken_95994.png\n",
      "training_data/fastai/hadouken_95995.png\n",
      "training_data/fastai/hadouken_95996.png\n",
      "training_data/fastai/hadouken_95997.png\n",
      "training_data/fastai/hadouken_95998.png\n",
      "training_data/fastai/hadouken_95999.png\n",
      "training_data/fastai/hadouken_969990.png\n"
     ]
    },
    {
     "name": "stderr",
     "output_type": "stream",
     "text": [
      "/home/ale/anaconda3/envs/tensor20/lib/python3.6/site-packages/fastai/vision/transform.py:243: UserWarning: torch.gesv is deprecated in favour of torch.solve and will be removed in the next release. Please use torch.solve instead.\n",
      "  return torch.gesv(B,A)[0][:,0]\n",
      "/home/ale/anaconda3/envs/tensor20/lib/python3.6/site-packages/fastai/vision/transform.py:243: UserWarning: torch.gesv is deprecated in favour of torch.solve and will be removed in the next release. Please use torch.solve instead.\n",
      "  return torch.gesv(B,A)[0][:,0]\n"
     ]
    },
    {
     "name": "stdout",
     "output_type": "stream",
     "text": [
      "training_data/fastai/hadouken_969991.png\n",
      "training_data/fastai/hadouken_969992.png\n",
      "training_data/fastai/hadouken_969993.png\n",
      "training_data/fastai/hadouken_969994.png\n",
      "training_data/fastai/hadouken_969995.png\n",
      "training_data/fastai/hadouken_969996.png\n",
      "training_data/fastai/hadouken_969997.png\n",
      "training_data/fastai/hadouken_969998.png\n",
      "training_data/fastai/hadouken_969999.png\n"
     ]
    },
    {
     "name": "stderr",
     "output_type": "stream",
     "text": [
      "/home/ale/anaconda3/envs/tensor20/lib/python3.6/site-packages/fastai/vision/transform.py:243: UserWarning: torch.gesv is deprecated in favour of torch.solve and will be removed in the next release. Please use torch.solve instead.\n",
      "  return torch.gesv(B,A)[0][:,0]\n"
     ]
    },
    {
     "name": "stdout",
     "output_type": "stream",
     "text": [
      "training_data/fastai/underarm_471990.png\n",
      "training_data/fastai/underarm_471991.png\n",
      "training_data/fastai/underarm_471992.png\n",
      "training_data/fastai/underarm_471993.png\n",
      "training_data/fastai/underarm_471994.png\n",
      "training_data/fastai/underarm_471995.png\n",
      "training_data/fastai/underarm_471996.png\n",
      "training_data/fastai/underarm_471997.png\n",
      "training_data/fastai/underarm_471998.png\n",
      "training_data/fastai/underarm_471999.png\n",
      "training_data/fastai/hadouken_97990.png\n",
      "training_data/fastai/hadouken_97991.png\n",
      "training_data/fastai/hadouken_97992.png\n",
      "training_data/fastai/hadouken_97993.png\n",
      "training_data/fastai/hadouken_97994.png\n",
      "training_data/fastai/hadouken_97995.png\n",
      "training_data/fastai/hadouken_97996.png\n"
     ]
    },
    {
     "name": "stderr",
     "output_type": "stream",
     "text": [
      "/home/ale/anaconda3/envs/tensor20/lib/python3.6/site-packages/fastai/vision/transform.py:243: UserWarning: torch.gesv is deprecated in favour of torch.solve and will be removed in the next release. Please use torch.solve instead.\n",
      "  return torch.gesv(B,A)[0][:,0]\n"
     ]
    },
    {
     "name": "stdout",
     "output_type": "stream",
     "text": [
      "training_data/fastai/hadouken_97997.png\n",
      "training_data/fastai/hadouken_97998.png\n",
      "training_data/fastai/hadouken_97999.png\n",
      "training_data/fastai/moonwalk_1213990.png\n",
      "training_data/fastai/moonwalk_1213991.png\n",
      "training_data/fastai/moonwalk_1213992.png\n",
      "training_data/fastai/moonwalk_1213993.png\n"
     ]
    },
    {
     "name": "stderr",
     "output_type": "stream",
     "text": [
      "/home/ale/anaconda3/envs/tensor20/lib/python3.6/site-packages/fastai/vision/transform.py:243: UserWarning: torch.gesv is deprecated in favour of torch.solve and will be removed in the next release. Please use torch.solve instead.\n",
      "  return torch.gesv(B,A)[0][:,0]\n"
     ]
    },
    {
     "name": "stdout",
     "output_type": "stream",
     "text": [
      "training_data/fastai/moonwalk_1213994.png\n",
      "training_data/fastai/moonwalk_1213995.png\n",
      "training_data/fastai/moonwalk_1213996.png\n",
      "training_data/fastai/moonwalk_1213997.png\n",
      "training_data/fastai/moonwalk_1213998.png\n",
      "training_data/fastai/moonwalk_1213999.png\n",
      "training_data/fastai/wings_221990.png\n",
      "training_data/fastai/wings_221991.png\n",
      "training_data/fastai/wings_221992.png\n",
      "training_data/fastai/wings_221993.png\n",
      "training_data/fastai/wings_221994.png\n",
      "training_data/fastai/wings_221995.png\n",
      "training_data/fastai/wings_221996.png\n",
      "training_data/fastai/wings_221997.png\n",
      "training_data/fastai/wings_221998.png\n",
      "training_data/fastai/wings_221999.png\n",
      "training_data/fastai/wings_29990.png\n",
      "training_data/fastai/wings_29991.png\n"
     ]
    },
    {
     "name": "stderr",
     "output_type": "stream",
     "text": [
      "/home/ale/anaconda3/envs/tensor20/lib/python3.6/site-packages/fastai/vision/transform.py:243: UserWarning: torch.gesv is deprecated in favour of torch.solve and will be removed in the next release. Please use torch.solve instead.\n",
      "  return torch.gesv(B,A)[0][:,0]\n",
      "/home/ale/anaconda3/envs/tensor20/lib/python3.6/site-packages/fastai/vision/transform.py:243: UserWarning: torch.gesv is deprecated in favour of torch.solve and will be removed in the next release. Please use torch.solve instead.\n",
      "  return torch.gesv(B,A)[0][:,0]\n"
     ]
    },
    {
     "name": "stdout",
     "output_type": "stream",
     "text": [
      "training_data/fastai/wings_29992.png\n",
      "training_data/fastai/wings_29993.png\n",
      "training_data/fastai/wings_29994.png\n",
      "training_data/fastai/wings_29995.png\n",
      "training_data/fastai/wings_29996.png\n",
      "training_data/fastai/wings_29997.png\n",
      "training_data/fastai/wings_29998.png\n",
      "training_data/fastai/wings_29999.png\n",
      "training_data/fastai/normal_804990.png\n",
      "training_data/fastai/normal_804991.png\n",
      "training_data/fastai/normal_804992.png\n",
      "training_data/fastai/normal_804993.png\n",
      "training_data/fastai/normal_804994.png\n",
      "training_data/fastai/normal_804995.png\n",
      "training_data/fastai/normal_804996.png\n",
      "training_data/fastai/normal_804997.png\n",
      "training_data/fastai/normal_804998.png\n",
      "training_data/fastai/normal_804999.png\n",
      "training_data/fastai/fly_57990.png\n"
     ]
    },
    {
     "name": "stderr",
     "output_type": "stream",
     "text": [
      "/home/ale/anaconda3/envs/tensor20/lib/python3.6/site-packages/fastai/vision/transform.py:243: UserWarning: torch.gesv is deprecated in favour of torch.solve and will be removed in the next release. Please use torch.solve instead.\n",
      "  return torch.gesv(B,A)[0][:,0]\n",
      "/home/ale/anaconda3/envs/tensor20/lib/python3.6/site-packages/fastai/vision/transform.py:243: UserWarning: torch.gesv is deprecated in favour of torch.solve and will be removed in the next release. Please use torch.solve instead.\n",
      "  return torch.gesv(B,A)[0][:,0]\n"
     ]
    },
    {
     "name": "stdout",
     "output_type": "stream",
     "text": [
      "training_data/fastai/fly_57991.png\n",
      "training_data/fastai/fly_57992.png\n",
      "training_data/fastai/fly_57993.png\n",
      "training_data/fastai/fly_57994.png\n",
      "training_data/fastai/fly_57995.png\n",
      "training_data/fastai/fly_57996.png\n",
      "training_data/fastai/fly_57997.png\n",
      "training_data/fastai/fly_57998.png\n",
      "training_data/fastai/fly_57999.png\n",
      "training_data/fastai/hadouken_1238990.png\n",
      "training_data/fastai/hadouken_1238991.png\n",
      "training_data/fastai/hadouken_1238992.png\n",
      "training_data/fastai/hadouken_1238993.png\n",
      "training_data/fastai/hadouken_1238994.png\n",
      "training_data/fastai/hadouken_1238995.png\n",
      "training_data/fastai/hadouken_1238996.png\n",
      "training_data/fastai/hadouken_1238997.png\n"
     ]
    },
    {
     "name": "stderr",
     "output_type": "stream",
     "text": [
      "/home/ale/anaconda3/envs/tensor20/lib/python3.6/site-packages/fastai/vision/transform.py:243: UserWarning: torch.gesv is deprecated in favour of torch.solve and will be removed in the next release. Please use torch.solve instead.\n",
      "  return torch.gesv(B,A)[0][:,0]\n"
     ]
    },
    {
     "name": "stdout",
     "output_type": "stream",
     "text": [
      "training_data/fastai/hadouken_1238998.png\n",
      "training_data/fastai/hadouken_1238999.png\n",
      "training_data/fastai/fly_851990.png\n",
      "training_data/fastai/fly_851991.png\n",
      "training_data/fastai/fly_851992.png\n",
      "training_data/fastai/fly_851993.png\n",
      "training_data/fastai/fly_851994.png\n",
      "training_data/fastai/fly_851995.png\n",
      "training_data/fastai/fly_851996.png\n"
     ]
    },
    {
     "name": "stderr",
     "output_type": "stream",
     "text": [
      "/home/ale/anaconda3/envs/tensor20/lib/python3.6/site-packages/fastai/vision/transform.py:243: UserWarning: torch.gesv is deprecated in favour of torch.solve and will be removed in the next release. Please use torch.solve instead.\n",
      "  return torch.gesv(B,A)[0][:,0]\n"
     ]
    },
    {
     "name": "stdout",
     "output_type": "stream",
     "text": [
      "training_data/fastai/fly_851997.png\n",
      "training_data/fastai/fly_851998.png\n",
      "training_data/fastai/fly_851999.png\n",
      "training_data/fastai/moonwalk_1215990.png\n",
      "training_data/fastai/moonwalk_1215991.png\n",
      "training_data/fastai/moonwalk_1215992.png\n",
      "training_data/fastai/moonwalk_1215993.png\n",
      "training_data/fastai/moonwalk_1215994.png\n",
      "training_data/fastai/moonwalk_1215995.png\n",
      "training_data/fastai/moonwalk_1215996.png\n"
     ]
    },
    {
     "name": "stderr",
     "output_type": "stream",
     "text": [
      "/home/ale/anaconda3/envs/tensor20/lib/python3.6/site-packages/fastai/vision/transform.py:243: UserWarning: torch.gesv is deprecated in favour of torch.solve and will be removed in the next release. Please use torch.solve instead.\n",
      "  return torch.gesv(B,A)[0][:,0]\n"
     ]
    },
    {
     "name": "stdout",
     "output_type": "stream",
     "text": [
      "training_data/fastai/moonwalk_1215997.png\n",
      "training_data/fastai/moonwalk_1215998.png\n",
      "training_data/fastai/moonwalk_1215999.png\n",
      "training_data/fastai/wings_214990.png\n",
      "training_data/fastai/wings_214991.png\n",
      "training_data/fastai/wings_214992.png\n",
      "training_data/fastai/wings_214993.png\n",
      "training_data/fastai/wings_214994.png\n"
     ]
    },
    {
     "name": "stderr",
     "output_type": "stream",
     "text": [
      "/home/ale/anaconda3/envs/tensor20/lib/python3.6/site-packages/fastai/vision/transform.py:243: UserWarning: torch.gesv is deprecated in favour of torch.solve and will be removed in the next release. Please use torch.solve instead.\n",
      "  return torch.gesv(B,A)[0][:,0]\n"
     ]
    },
    {
     "name": "stdout",
     "output_type": "stream",
     "text": [
      "training_data/fastai/wings_214995.png\n",
      "training_data/fastai/wings_214996.png\n",
      "training_data/fastai/wings_214997.png\n",
      "training_data/fastai/wings_214998.png\n",
      "training_data/fastai/wings_214999.png\n",
      "training_data/fastai/fly_430990.png\n",
      "training_data/fastai/fly_430991.png\n",
      "training_data/fastai/fly_430992.png\n",
      "training_data/fastai/fly_430993.png\n"
     ]
    },
    {
     "name": "stderr",
     "output_type": "stream",
     "text": [
      "/home/ale/anaconda3/envs/tensor20/lib/python3.6/site-packages/fastai/vision/transform.py:243: UserWarning: torch.gesv is deprecated in favour of torch.solve and will be removed in the next release. Please use torch.solve instead.\n",
      "  return torch.gesv(B,A)[0][:,0]\n"
     ]
    },
    {
     "name": "stdout",
     "output_type": "stream",
     "text": [
      "training_data/fastai/fly_430994.png\n",
      "training_data/fastai/fly_430995.png\n",
      "training_data/fastai/fly_430996.png\n",
      "training_data/fastai/fly_430997.png\n",
      "training_data/fastai/fly_430998.png\n",
      "training_data/fastai/fly_430999.png\n",
      "training_data/fastai/backpack_1243990.png\n",
      "training_data/fastai/backpack_1243991.png\n",
      "training_data/fastai/backpack_1243992.png\n"
     ]
    },
    {
     "name": "stderr",
     "output_type": "stream",
     "text": [
      "/home/ale/anaconda3/envs/tensor20/lib/python3.6/site-packages/fastai/vision/transform.py:243: UserWarning: torch.gesv is deprecated in favour of torch.solve and will be removed in the next release. Please use torch.solve instead.\n",
      "  return torch.gesv(B,A)[0][:,0]\n"
     ]
    },
    {
     "name": "stdout",
     "output_type": "stream",
     "text": [
      "training_data/fastai/backpack_1243993.png\n",
      "training_data/fastai/backpack_1243994.png\n",
      "training_data/fastai/backpack_1243995.png\n",
      "training_data/fastai/backpack_1243996.png\n",
      "training_data/fastai/backpack_1243997.png\n",
      "training_data/fastai/backpack_1243998.png\n",
      "training_data/fastai/backpack_1243999.png\n",
      "training_data/fastai/hadouken_98990.png\n",
      "training_data/fastai/hadouken_98991.png\n",
      "training_data/fastai/hadouken_98992.png\n",
      "training_data/fastai/hadouken_98993.png\n",
      "training_data/fastai/hadouken_98994.png\n",
      "training_data/fastai/hadouken_98995.png\n",
      "training_data/fastai/hadouken_98996.png\n",
      "training_data/fastai/hadouken_98997.png\n",
      "training_data/fastai/hadouken_98998.png\n",
      "training_data/fastai/hadouken_98999.png\n",
      "training_data/fastai/hadouken_508990.png\n"
     ]
    },
    {
     "name": "stderr",
     "output_type": "stream",
     "text": [
      "/home/ale/anaconda3/envs/tensor20/lib/python3.6/site-packages/fastai/vision/transform.py:243: UserWarning: torch.gesv is deprecated in favour of torch.solve and will be removed in the next release. Please use torch.solve instead.\n",
      "  return torch.gesv(B,A)[0][:,0]\n",
      "/home/ale/anaconda3/envs/tensor20/lib/python3.6/site-packages/fastai/vision/transform.py:243: UserWarning: torch.gesv is deprecated in favour of torch.solve and will be removed in the next release. Please use torch.solve instead.\n",
      "  return torch.gesv(B,A)[0][:,0]\n"
     ]
    },
    {
     "name": "stdout",
     "output_type": "stream",
     "text": [
      "training_data/fastai/hadouken_508991.png\n",
      "training_data/fastai/hadouken_508992.png\n",
      "training_data/fastai/hadouken_508993.png\n",
      "training_data/fastai/hadouken_508994.png\n",
      "training_data/fastai/hadouken_508995.png\n",
      "training_data/fastai/hadouken_508996.png\n",
      "training_data/fastai/hadouken_508997.png\n",
      "training_data/fastai/hadouken_508998.png\n",
      "training_data/fastai/hadouken_508999.png\n",
      "training_data/fastai/hadouken_525990.png\n",
      "training_data/fastai/hadouken_525991.png\n",
      "training_data/fastai/hadouken_525992.png\n",
      "training_data/fastai/hadouken_525993.png\n",
      "training_data/fastai/hadouken_525994.png\n",
      "training_data/fastai/hadouken_525995.png\n",
      "training_data/fastai/hadouken_525996.png\n",
      "training_data/fastai/hadouken_525997.png\n"
     ]
    },
    {
     "name": "stderr",
     "output_type": "stream",
     "text": [
      "/home/ale/anaconda3/envs/tensor20/lib/python3.6/site-packages/fastai/vision/transform.py:243: UserWarning: torch.gesv is deprecated in favour of torch.solve and will be removed in the next release. Please use torch.solve instead.\n",
      "  return torch.gesv(B,A)[0][:,0]\n",
      "/home/ale/anaconda3/envs/tensor20/lib/python3.6/site-packages/fastai/vision/transform.py:243: UserWarning: torch.gesv is deprecated in favour of torch.solve and will be removed in the next release. Please use torch.solve instead.\n",
      "  return torch.gesv(B,A)[0][:,0]\n"
     ]
    },
    {
     "name": "stdout",
     "output_type": "stream",
     "text": [
      "training_data/fastai/hadouken_525998.png\n",
      "training_data/fastai/hadouken_525999.png\n",
      "training_data/fastai/fly_431990.png\n",
      "training_data/fastai/fly_431991.png\n",
      "training_data/fastai/fly_431992.png\n",
      "training_data/fastai/fly_431993.png\n",
      "training_data/fastai/fly_431994.png\n",
      "training_data/fastai/fly_431995.png\n",
      "training_data/fastai/fly_431996.png\n",
      "training_data/fastai/fly_431997.png\n",
      "training_data/fastai/fly_431998.png\n",
      "training_data/fastai/fly_431999.png\n",
      "training_data/fastai/normal_1200990.png\n",
      "training_data/fastai/normal_1200991.png\n",
      "training_data/fastai/normal_1200992.png\n",
      "training_data/fastai/normal_1200993.png\n",
      "training_data/fastai/normal_1200994.png\n"
     ]
    },
    {
     "name": "stderr",
     "output_type": "stream",
     "text": [
      "/home/ale/anaconda3/envs/tensor20/lib/python3.6/site-packages/fastai/vision/transform.py:243: UserWarning: torch.gesv is deprecated in favour of torch.solve and will be removed in the next release. Please use torch.solve instead.\n",
      "  return torch.gesv(B,A)[0][:,0]\n"
     ]
    },
    {
     "name": "stdout",
     "output_type": "stream",
     "text": [
      "training_data/fastai/normal_1200995.png\n",
      "training_data/fastai/normal_1200996.png\n",
      "training_data/fastai/normal_1200997.png\n",
      "training_data/fastai/normal_1200998.png\n",
      "training_data/fastai/normal_1200999.png\n",
      "training_data/fastai/fly_434990.png\n",
      "training_data/fastai/fly_434991.png\n",
      "training_data/fastai/fly_434992.png\n",
      "training_data/fastai/fly_434993.png\n"
     ]
    },
    {
     "name": "stderr",
     "output_type": "stream",
     "text": [
      "/home/ale/anaconda3/envs/tensor20/lib/python3.6/site-packages/fastai/vision/transform.py:243: UserWarning: torch.gesv is deprecated in favour of torch.solve and will be removed in the next release. Please use torch.solve instead.\n",
      "  return torch.gesv(B,A)[0][:,0]\n",
      "/home/ale/anaconda3/envs/tensor20/lib/python3.6/site-packages/fastai/vision/transform.py:243: UserWarning: torch.gesv is deprecated in favour of torch.solve and will be removed in the next release. Please use torch.solve instead.\n",
      "  return torch.gesv(B,A)[0][:,0]\n"
     ]
    },
    {
     "name": "stdout",
     "output_type": "stream",
     "text": [
      "training_data/fastai/fly_434994.png\n",
      "training_data/fastai/fly_434995.png\n",
      "training_data/fastai/fly_434996.png\n",
      "training_data/fastai/fly_434997.png\n",
      "training_data/fastai/fly_434998.png\n",
      "training_data/fastai/fly_434999.png\n",
      "training_data/fastai/wings_224990.png\n",
      "training_data/fastai/wings_224991.png\n",
      "training_data/fastai/wings_224992.png\n",
      "training_data/fastai/wings_224993.png\n",
      "training_data/fastai/wings_224994.png\n",
      "training_data/fastai/wings_224995.png\n",
      "training_data/fastai/wings_224996.png\n",
      "training_data/fastai/wings_224997.png\n",
      "training_data/fastai/wings_224998.png\n",
      "training_data/fastai/wings_224999.png\n",
      "training_data/fastai/fly_441990.png\n",
      "training_data/fastai/fly_441991.png\n",
      "training_data/fastai/fly_441992.png\n"
     ]
    },
    {
     "name": "stderr",
     "output_type": "stream",
     "text": [
      "/home/ale/anaconda3/envs/tensor20/lib/python3.6/site-packages/fastai/vision/transform.py:243: UserWarning: torch.gesv is deprecated in favour of torch.solve and will be removed in the next release. Please use torch.solve instead.\n",
      "  return torch.gesv(B,A)[0][:,0]\n"
     ]
    },
    {
     "name": "stdout",
     "output_type": "stream",
     "text": [
      "training_data/fastai/fly_441993.png\n",
      "training_data/fastai/fly_441994.png\n",
      "training_data/fastai/fly_441995.png\n",
      "training_data/fastai/fly_441996.png\n",
      "training_data/fastai/fly_441997.png\n",
      "training_data/fastai/fly_441998.png\n",
      "training_data/fastai/fly_441999.png\n",
      "training_data/fastai/fly_45990.png\n",
      "training_data/fastai/fly_45991.png\n",
      "training_data/fastai/fly_45992.png\n",
      "training_data/fastai/fly_45993.png\n",
      "training_data/fastai/fly_45994.png\n",
      "training_data/fastai/fly_45995.png\n",
      "training_data/fastai/fly_45996.png\n",
      "training_data/fastai/fly_45997.png\n",
      "training_data/fastai/fly_45998.png\n"
     ]
    },
    {
     "name": "stderr",
     "output_type": "stream",
     "text": [
      "/home/ale/anaconda3/envs/tensor20/lib/python3.6/site-packages/fastai/vision/transform.py:243: UserWarning: torch.gesv is deprecated in favour of torch.solve and will be removed in the next release. Please use torch.solve instead.\n",
      "  return torch.gesv(B,A)[0][:,0]\n",
      "/home/ale/anaconda3/envs/tensor20/lib/python3.6/site-packages/fastai/vision/transform.py:243: UserWarning: torch.gesv is deprecated in favour of torch.solve and will be removed in the next release. Please use torch.solve instead.\n",
      "  return torch.gesv(B,A)[0][:,0]\n"
     ]
    },
    {
     "name": "stdout",
     "output_type": "stream",
     "text": [
      "training_data/fastai/fly_45999.png\n",
      "training_data/fastai/dramatic_1261990.png\n",
      "training_data/fastai/dramatic_1261991.png\n",
      "training_data/fastai/dramatic_1261992.png\n",
      "training_data/fastai/dramatic_1261993.png\n",
      "training_data/fastai/dramatic_1261994.png\n",
      "training_data/fastai/dramatic_1261995.png\n",
      "training_data/fastai/dramatic_1261996.png\n",
      "training_data/fastai/dramatic_1261997.png\n",
      "training_data/fastai/dramatic_1261998.png\n",
      "training_data/fastai/dramatic_1261999.png\n",
      "training_data/fastai/dramatic_931990.png\n",
      "training_data/fastai/dramatic_931991.png\n",
      "training_data/fastai/dramatic_931992.png\n",
      "training_data/fastai/dramatic_931993.png\n",
      "training_data/fastai/dramatic_931994.png\n"
     ]
    },
    {
     "name": "stderr",
     "output_type": "stream",
     "text": [
      "/home/ale/anaconda3/envs/tensor20/lib/python3.6/site-packages/fastai/vision/transform.py:243: UserWarning: torch.gesv is deprecated in favour of torch.solve and will be removed in the next release. Please use torch.solve instead.\n",
      "  return torch.gesv(B,A)[0][:,0]\n"
     ]
    },
    {
     "name": "stdout",
     "output_type": "stream",
     "text": [
      "training_data/fastai/dramatic_931995.png\n",
      "training_data/fastai/dramatic_931996.png\n",
      "training_data/fastai/dramatic_931997.png\n",
      "training_data/fastai/dramatic_931998.png\n",
      "training_data/fastai/dramatic_931999.png\n",
      "training_data/fastai/moonwalk_254990.png\n",
      "training_data/fastai/moonwalk_254991.png\n",
      "training_data/fastai/moonwalk_254992.png\n",
      "training_data/fastai/moonwalk_254993.png\n"
     ]
    },
    {
     "name": "stderr",
     "output_type": "stream",
     "text": [
      "/home/ale/anaconda3/envs/tensor20/lib/python3.6/site-packages/fastai/vision/transform.py:243: UserWarning: torch.gesv is deprecated in favour of torch.solve and will be removed in the next release. Please use torch.solve instead.\n",
      "  return torch.gesv(B,A)[0][:,0]\n"
     ]
    },
    {
     "name": "stdout",
     "output_type": "stream",
     "text": [
      "training_data/fastai/moonwalk_254994.png\n",
      "training_data/fastai/moonwalk_254995.png\n",
      "training_data/fastai/moonwalk_254996.png\n",
      "training_data/fastai/moonwalk_254997.png\n",
      "training_data/fastai/moonwalk_254998.png\n",
      "training_data/fastai/moonwalk_254999.png\n",
      "training_data/fastai/fly_842990.png\n",
      "training_data/fastai/fly_842991.png\n",
      "training_data/fastai/fly_842992.png\n",
      "training_data/fastai/fly_842993.png\n",
      "training_data/fastai/fly_842994.png\n",
      "training_data/fastai/fly_842995.png\n",
      "training_data/fastai/fly_842996.png\n",
      "training_data/fastai/fly_842997.png\n",
      "training_data/fastai/fly_842998.png\n",
      "training_data/fastai/fly_842999.png\n"
     ]
    },
    {
     "name": "stderr",
     "output_type": "stream",
     "text": [
      "/home/ale/anaconda3/envs/tensor20/lib/python3.6/site-packages/fastai/vision/transform.py:243: UserWarning: torch.gesv is deprecated in favour of torch.solve and will be removed in the next release. Please use torch.solve instead.\n",
      "  return torch.gesv(B,A)[0][:,0]\n",
      "/home/ale/anaconda3/envs/tensor20/lib/python3.6/site-packages/fastai/vision/transform.py:243: UserWarning: torch.gesv is deprecated in favour of torch.solve and will be removed in the next release. Please use torch.solve instead.\n",
      "  return torch.gesv(B,A)[0][:,0]\n"
     ]
    },
    {
     "name": "stdout",
     "output_type": "stream",
     "text": [
      "training_data/fastai/fly_841990.png\n",
      "training_data/fastai/fly_841991.png\n",
      "training_data/fastai/fly_841992.png\n",
      "training_data/fastai/fly_841993.png\n",
      "training_data/fastai/fly_841994.png\n",
      "training_data/fastai/fly_841995.png\n",
      "training_data/fastai/fly_841996.png\n",
      "training_data/fastai/fly_841997.png\n",
      "training_data/fastai/fly_841998.png\n",
      "training_data/fastai/fly_841999.png\n",
      "training_data/fastai/hadouken_1234990.png\n",
      "training_data/fastai/hadouken_1234991.png\n",
      "training_data/fastai/hadouken_1234992.png\n",
      "training_data/fastai/hadouken_1234993.png\n",
      "training_data/fastai/hadouken_1234994.png\n",
      "training_data/fastai/hadouken_1234995.png\n",
      "training_data/fastai/hadouken_1234996.png\n",
      "training_data/fastai/hadouken_1234997.png\n",
      "training_data/fastai/hadouken_1234998.png\n"
     ]
    },
    {
     "name": "stderr",
     "output_type": "stream",
     "text": [
      "/home/ale/anaconda3/envs/tensor20/lib/python3.6/site-packages/fastai/vision/transform.py:243: UserWarning: torch.gesv is deprecated in favour of torch.solve and will be removed in the next release. Please use torch.solve instead.\n",
      "  return torch.gesv(B,A)[0][:,0]\n"
     ]
    },
    {
     "name": "stdout",
     "output_type": "stream",
     "text": [
      "training_data/fastai/hadouken_1234999.png\n",
      "training_data/fastai/dramatic_1258990.png\n",
      "training_data/fastai/dramatic_1258991.png\n",
      "training_data/fastai/dramatic_1258992.png\n",
      "training_data/fastai/dramatic_1258993.png\n",
      "training_data/fastai/dramatic_1258994.png\n",
      "training_data/fastai/dramatic_1258995.png\n",
      "training_data/fastai/dramatic_1258996.png\n",
      "training_data/fastai/dramatic_1258997.png\n",
      "training_data/fastai/dramatic_1258998.png\n"
     ]
    },
    {
     "name": "stderr",
     "output_type": "stream",
     "text": [
      "/home/ale/anaconda3/envs/tensor20/lib/python3.6/site-packages/fastai/vision/transform.py:243: UserWarning: torch.gesv is deprecated in favour of torch.solve and will be removed in the next release. Please use torch.solve instead.\n",
      "  return torch.gesv(B,A)[0][:,0]\n",
      "/home/ale/anaconda3/envs/tensor20/lib/python3.6/site-packages/fastai/vision/transform.py:243: UserWarning: torch.gesv is deprecated in favour of torch.solve and will be removed in the next release. Please use torch.solve instead.\n",
      "  return torch.gesv(B,A)[0][:,0]\n"
     ]
    },
    {
     "name": "stdout",
     "output_type": "stream",
     "text": [
      "training_data/fastai/dramatic_1258999.png\n",
      "training_data/fastai/underarm_247990.png\n",
      "training_data/fastai/underarm_247991.png\n",
      "training_data/fastai/underarm_247992.png\n",
      "training_data/fastai/underarm_247993.png\n",
      "training_data/fastai/underarm_247994.png\n",
      "training_data/fastai/underarm_247995.png\n",
      "training_data/fastai/underarm_247996.png\n",
      "training_data/fastai/underarm_247997.png\n",
      "training_data/fastai/underarm_247998.png\n",
      "training_data/fastai/underarm_247999.png\n",
      "training_data/fastai/hadouken_511990.png\n",
      "training_data/fastai/hadouken_511991.png\n",
      "training_data/fastai/hadouken_511992.png\n",
      "training_data/fastai/hadouken_511993.png\n",
      "training_data/fastai/hadouken_511994.png\n",
      "training_data/fastai/hadouken_511995.png\n",
      "training_data/fastai/hadouken_511996.png\n"
     ]
    },
    {
     "name": "stderr",
     "output_type": "stream",
     "text": [
      "/home/ale/anaconda3/envs/tensor20/lib/python3.6/site-packages/fastai/vision/transform.py:243: UserWarning: torch.gesv is deprecated in favour of torch.solve and will be removed in the next release. Please use torch.solve instead.\n",
      "  return torch.gesv(B,A)[0][:,0]\n"
     ]
    },
    {
     "name": "stdout",
     "output_type": "stream",
     "text": [
      "training_data/fastai/hadouken_511997.png\n",
      "training_data/fastai/hadouken_511998.png\n",
      "training_data/fastai/hadouken_511999.png\n",
      "training_data/fastai/hadouken_515990.png\n",
      "training_data/fastai/hadouken_515991.png\n",
      "training_data/fastai/hadouken_515992.png\n",
      "training_data/fastai/hadouken_515993.png\n",
      "training_data/fastai/hadouken_515994.png\n",
      "training_data/fastai/hadouken_515995.png\n",
      "training_data/fastai/hadouken_515996.png\n"
     ]
    },
    {
     "name": "stderr",
     "output_type": "stream",
     "text": [
      "/home/ale/anaconda3/envs/tensor20/lib/python3.6/site-packages/fastai/vision/transform.py:243: UserWarning: torch.gesv is deprecated in favour of torch.solve and will be removed in the next release. Please use torch.solve instead.\n",
      "  return torch.gesv(B,A)[0][:,0]\n"
     ]
    },
    {
     "name": "stdout",
     "output_type": "stream",
     "text": [
      "training_data/fastai/hadouken_515997.png\n",
      "training_data/fastai/hadouken_515998.png\n",
      "training_data/fastai/hadouken_515999.png\n",
      "training_data/fastai/fly_448990.png\n",
      "training_data/fastai/fly_448991.png\n",
      "training_data/fastai/fly_448992.png\n",
      "training_data/fastai/fly_448993.png\n"
     ]
    },
    {
     "name": "stderr",
     "output_type": "stream",
     "text": [
      "/home/ale/anaconda3/envs/tensor20/lib/python3.6/site-packages/fastai/vision/transform.py:243: UserWarning: torch.gesv is deprecated in favour of torch.solve and will be removed in the next release. Please use torch.solve instead.\n",
      "  return torch.gesv(B,A)[0][:,0]\n"
     ]
    },
    {
     "name": "stdout",
     "output_type": "stream",
     "text": [
      "training_data/fastai/fly_448994.png\n",
      "training_data/fastai/fly_448995.png\n",
      "training_data/fastai/fly_448996.png\n",
      "training_data/fastai/fly_448997.png\n",
      "training_data/fastai/fly_448998.png\n",
      "training_data/fastai/fly_448999.png\n",
      "training_data/fastai/fly_436990.png\n",
      "training_data/fastai/fly_436991.png\n"
     ]
    },
    {
     "name": "stderr",
     "output_type": "stream",
     "text": [
      "/home/ale/anaconda3/envs/tensor20/lib/python3.6/site-packages/fastai/vision/transform.py:243: UserWarning: torch.gesv is deprecated in favour of torch.solve and will be removed in the next release. Please use torch.solve instead.\n",
      "  return torch.gesv(B,A)[0][:,0]\n"
     ]
    },
    {
     "name": "stdout",
     "output_type": "stream",
     "text": [
      "training_data/fastai/fly_436992.png\n",
      "training_data/fastai/fly_436993.png\n",
      "training_data/fastai/fly_436994.png\n",
      "training_data/fastai/fly_436995.png\n",
      "training_data/fastai/fly_436996.png\n",
      "training_data/fastai/fly_436997.png\n",
      "training_data/fastai/fly_436998.png\n",
      "training_data/fastai/fly_436999.png\n",
      "training_data/fastai/normal_200990.png\n",
      "training_data/fastai/normal_200991.png\n",
      "training_data/fastai/normal_200992.png\n",
      "training_data/fastai/normal_200993.png\n",
      "training_data/fastai/normal_200994.png\n",
      "training_data/fastai/normal_200995.png\n",
      "training_data/fastai/normal_200996.png\n",
      "training_data/fastai/normal_200997.png\n",
      "training_data/fastai/normal_200998.png\n",
      "training_data/fastai/normal_200999.png\n",
      "training_data/fastai/moonwalk_885990.png\n",
      "training_data/fastai/moonwalk_885991.png\n",
      "training_data/fastai/moonwalk_885992.png\n",
      "training_data/fastai/moonwalk_885993.png\n",
      "training_data/fastai/moonwalk_885994.png\n",
      "training_data/fastai/moonwalk_885995.png\n",
      "training_data/fastai/moonwalk_885996.png\n"
     ]
    },
    {
     "name": "stderr",
     "output_type": "stream",
     "text": [
      "/home/ale/anaconda3/envs/tensor20/lib/python3.6/site-packages/fastai/vision/transform.py:243: UserWarning: torch.gesv is deprecated in favour of torch.solve and will be removed in the next release. Please use torch.solve instead.\n",
      "  return torch.gesv(B,A)[0][:,0]\n"
     ]
    },
    {
     "name": "stdout",
     "output_type": "stream",
     "text": [
      "training_data/fastai/moonwalk_885997.png\n",
      "training_data/fastai/moonwalk_885998.png\n",
      "training_data/fastai/moonwalk_885999.png\n",
      "training_data/fastai/wings_36990.png\n",
      "training_data/fastai/wings_36991.png\n",
      "training_data/fastai/wings_36992.png\n",
      "training_data/fastai/wings_36993.png\n",
      "training_data/fastai/wings_36994.png\n",
      "training_data/fastai/wings_36995.png\n",
      "training_data/fastai/wings_36996.png\n"
     ]
    },
    {
     "name": "stderr",
     "output_type": "stream",
     "text": [
      "/home/ale/anaconda3/envs/tensor20/lib/python3.6/site-packages/fastai/vision/transform.py:243: UserWarning: torch.gesv is deprecated in favour of torch.solve and will be removed in the next release. Please use torch.solve instead.\n",
      "  return torch.gesv(B,A)[0][:,0]\n",
      "/home/ale/anaconda3/envs/tensor20/lib/python3.6/site-packages/fastai/vision/transform.py:243: UserWarning: torch.gesv is deprecated in favour of torch.solve and will be removed in the next release. Please use torch.solve instead.\n",
      "  return torch.gesv(B,A)[0][:,0]\n"
     ]
    },
    {
     "name": "stdout",
     "output_type": "stream",
     "text": [
      "training_data/fastai/wings_36997.png\n",
      "training_data/fastai/wings_36998.png\n",
      "training_data/fastai/wings_36999.png\n",
      "training_data/fastai/underarm_245990.png\n",
      "training_data/fastai/underarm_245991.png\n",
      "training_data/fastai/underarm_245992.png\n",
      "training_data/fastai/underarm_245993.png\n",
      "training_data/fastai/underarm_245994.png\n",
      "training_data/fastai/underarm_245995.png\n",
      "training_data/fastai/underarm_245996.png\n",
      "training_data/fastai/underarm_245997.png\n",
      "training_data/fastai/underarm_245998.png\n",
      "training_data/fastai/underarm_245999.png\n",
      "training_data/fastai/dramatic_122990.png\n",
      "training_data/fastai/dramatic_122991.png\n",
      "training_data/fastai/dramatic_122992.png\n",
      "training_data/fastai/dramatic_122993.png\n",
      "training_data/fastai/dramatic_122994.png\n",
      "training_data/fastai/dramatic_122995.png\n"
     ]
    },
    {
     "name": "stderr",
     "output_type": "stream",
     "text": [
      "/home/ale/anaconda3/envs/tensor20/lib/python3.6/site-packages/fastai/vision/transform.py:243: UserWarning: torch.gesv is deprecated in favour of torch.solve and will be removed in the next release. Please use torch.solve instead.\n",
      "  return torch.gesv(B,A)[0][:,0]\n"
     ]
    },
    {
     "name": "stdout",
     "output_type": "stream",
     "text": [
      "training_data/fastai/dramatic_122996.png\n",
      "training_data/fastai/dramatic_122997.png\n",
      "training_data/fastai/dramatic_122998.png\n",
      "training_data/fastai/dramatic_122999.png\n",
      "training_data/fastai/underarm_67990.png\n",
      "training_data/fastai/underarm_67991.png\n",
      "training_data/fastai/underarm_67992.png\n",
      "training_data/fastai/underarm_67993.png\n",
      "training_data/fastai/underarm_67994.png\n"
     ]
    },
    {
     "name": "stderr",
     "output_type": "stream",
     "text": [
      "/home/ale/anaconda3/envs/tensor20/lib/python3.6/site-packages/fastai/vision/transform.py:243: UserWarning: torch.gesv is deprecated in favour of torch.solve and will be removed in the next release. Please use torch.solve instead.\n",
      "  return torch.gesv(B,A)[0][:,0]\n"
     ]
    },
    {
     "name": "stdout",
     "output_type": "stream",
     "text": [
      "training_data/fastai/underarm_67995.png\n",
      "training_data/fastai/underarm_67996.png\n",
      "training_data/fastai/underarm_67997.png\n",
      "training_data/fastai/underarm_67998.png\n",
      "training_data/fastai/underarm_67999.png\n",
      "training_data/fastai/dramatic_547990.png\n",
      "training_data/fastai/dramatic_547991.png\n",
      "training_data/fastai/dramatic_547992.png\n",
      "training_data/fastai/dramatic_547993.png\n"
     ]
    },
    {
     "name": "stderr",
     "output_type": "stream",
     "text": [
      "/home/ale/anaconda3/envs/tensor20/lib/python3.6/site-packages/fastai/vision/transform.py:243: UserWarning: torch.gesv is deprecated in favour of torch.solve and will be removed in the next release. Please use torch.solve instead.\n",
      "  return torch.gesv(B,A)[0][:,0]\n"
     ]
    },
    {
     "name": "stdout",
     "output_type": "stream",
     "text": [
      "training_data/fastai/dramatic_547994.png\n",
      "training_data/fastai/dramatic_547995.png\n",
      "training_data/fastai/dramatic_547996.png\n",
      "training_data/fastai/dramatic_547997.png\n",
      "training_data/fastai/dramatic_547998.png\n",
      "training_data/fastai/dramatic_547999.png\n",
      "training_data/fastai/moonwalk_78990.png\n",
      "training_data/fastai/moonwalk_78991.png\n"
     ]
    },
    {
     "name": "stderr",
     "output_type": "stream",
     "text": [
      "/home/ale/anaconda3/envs/tensor20/lib/python3.6/site-packages/fastai/vision/transform.py:243: UserWarning: torch.gesv is deprecated in favour of torch.solve and will be removed in the next release. Please use torch.solve instead.\n",
      "  return torch.gesv(B,A)[0][:,0]\n"
     ]
    },
    {
     "name": "stdout",
     "output_type": "stream",
     "text": [
      "training_data/fastai/moonwalk_78992.png\n",
      "training_data/fastai/moonwalk_78993.png\n",
      "training_data/fastai/moonwalk_78994.png\n",
      "training_data/fastai/moonwalk_78995.png\n",
      "training_data/fastai/moonwalk_78996.png\n",
      "training_data/fastai/moonwalk_78997.png\n",
      "training_data/fastai/moonwalk_78998.png\n",
      "training_data/fastai/moonwalk_78999.png\n",
      "training_data/fastai/normal_13990.png\n"
     ]
    },
    {
     "name": "stderr",
     "output_type": "stream",
     "text": [
      "/home/ale/anaconda3/envs/tensor20/lib/python3.6/site-packages/fastai/vision/transform.py:243: UserWarning: torch.gesv is deprecated in favour of torch.solve and will be removed in the next release. Please use torch.solve instead.\n",
      "  return torch.gesv(B,A)[0][:,0]\n"
     ]
    },
    {
     "name": "stdout",
     "output_type": "stream",
     "text": [
      "training_data/fastai/normal_13991.png\n",
      "training_data/fastai/normal_13992.png\n",
      "training_data/fastai/normal_13993.png\n",
      "training_data/fastai/normal_13994.png\n",
      "training_data/fastai/normal_13995.png\n",
      "training_data/fastai/normal_13996.png\n",
      "training_data/fastai/normal_13997.png\n",
      "training_data/fastai/normal_13998.png\n",
      "training_data/fastai/normal_13999.png\n",
      "training_data/fastai/moonwalk_1214990.png\n",
      "training_data/fastai/moonwalk_1214991.png\n",
      "training_data/fastai/moonwalk_1214992.png\n",
      "training_data/fastai/moonwalk_1214993.png\n",
      "training_data/fastai/moonwalk_1214994.png\n",
      "training_data/fastai/moonwalk_1214995.png\n",
      "training_data/fastai/moonwalk_1214996.png\n",
      "training_data/fastai/moonwalk_1214997.png\n",
      "training_data/fastai/moonwalk_1214998.png\n"
     ]
    },
    {
     "name": "stderr",
     "output_type": "stream",
     "text": [
      "/home/ale/anaconda3/envs/tensor20/lib/python3.6/site-packages/fastai/vision/transform.py:243: UserWarning: torch.gesv is deprecated in favour of torch.solve and will be removed in the next release. Please use torch.solve instead.\n",
      "  return torch.gesv(B,A)[0][:,0]\n",
      "/home/ale/anaconda3/envs/tensor20/lib/python3.6/site-packages/fastai/vision/transform.py:243: UserWarning: torch.gesv is deprecated in favour of torch.solve and will be removed in the next release. Please use torch.solve instead.\n",
      "  return torch.gesv(B,A)[0][:,0]\n"
     ]
    },
    {
     "name": "stdout",
     "output_type": "stream",
     "text": [
      "training_data/fastai/moonwalk_1214999.png\n",
      "training_data/fastai/hadouken_970990.png\n",
      "training_data/fastai/hadouken_970991.png\n",
      "training_data/fastai/hadouken_970992.png\n",
      "training_data/fastai/hadouken_970993.png\n",
      "training_data/fastai/hadouken_970994.png\n",
      "training_data/fastai/hadouken_970995.png\n",
      "training_data/fastai/hadouken_970996.png\n",
      "training_data/fastai/hadouken_970997.png\n",
      "training_data/fastai/hadouken_970998.png\n",
      "training_data/fastai/hadouken_970999.png\n",
      "training_data/fastai/hadouken_524990.png\n",
      "training_data/fastai/hadouken_524991.png\n",
      "training_data/fastai/hadouken_524992.png\n",
      "training_data/fastai/hadouken_524993.png\n",
      "training_data/fastai/hadouken_524994.png\n"
     ]
    },
    {
     "name": "stderr",
     "output_type": "stream",
     "text": [
      "/home/ale/anaconda3/envs/tensor20/lib/python3.6/site-packages/fastai/vision/transform.py:243: UserWarning: torch.gesv is deprecated in favour of torch.solve and will be removed in the next release. Please use torch.solve instead.\n",
      "  return torch.gesv(B,A)[0][:,0]\n"
     ]
    },
    {
     "name": "stdout",
     "output_type": "stream",
     "text": [
      "training_data/fastai/hadouken_524995.png\n",
      "training_data/fastai/hadouken_524996.png\n",
      "training_data/fastai/hadouken_524997.png\n",
      "training_data/fastai/hadouken_524998.png\n",
      "training_data/fastai/hadouken_524999.png\n",
      "training_data/fastai/normal_400990.png\n",
      "training_data/fastai/normal_400991.png\n",
      "training_data/fastai/normal_400992.png\n",
      "training_data/fastai/normal_400993.png\n"
     ]
    },
    {
     "name": "stderr",
     "output_type": "stream",
     "text": [
      "/home/ale/anaconda3/envs/tensor20/lib/python3.6/site-packages/fastai/vision/transform.py:243: UserWarning: torch.gesv is deprecated in favour of torch.solve and will be removed in the next release. Please use torch.solve instead.\n",
      "  return torch.gesv(B,A)[0][:,0]\n",
      "/home/ale/anaconda3/envs/tensor20/lib/python3.6/site-packages/fastai/vision/transform.py:243: UserWarning: torch.gesv is deprecated in favour of torch.solve and will be removed in the next release. Please use torch.solve instead.\n",
      "  return torch.gesv(B,A)[0][:,0]\n"
     ]
    },
    {
     "name": "stdout",
     "output_type": "stream",
     "text": [
      "training_data/fastai/normal_400994.png\n",
      "training_data/fastai/normal_400995.png\n",
      "training_data/fastai/normal_400996.png\n",
      "training_data/fastai/normal_400997.png\n",
      "training_data/fastai/normal_400998.png\n",
      "training_data/fastai/normal_400999.png\n",
      "training_data/fastai/normal_411990.png\n",
      "training_data/fastai/normal_411991.png\n",
      "training_data/fastai/normal_411992.png\n",
      "training_data/fastai/normal_411993.png\n",
      "training_data/fastai/normal_411994.png\n",
      "training_data/fastai/normal_411995.png\n",
      "training_data/fastai/normal_411996.png\n",
      "training_data/fastai/normal_411997.png\n",
      "training_data/fastai/normal_411998.png\n",
      "training_data/fastai/normal_411999.png\n",
      "training_data/fastai/wings_837990.png\n"
     ]
    },
    {
     "name": "stderr",
     "output_type": "stream",
     "text": [
      "/home/ale/anaconda3/envs/tensor20/lib/python3.6/site-packages/fastai/vision/transform.py:243: UserWarning: torch.gesv is deprecated in favour of torch.solve and will be removed in the next release. Please use torch.solve instead.\n",
      "  return torch.gesv(B,A)[0][:,0]\n"
     ]
    },
    {
     "name": "stdout",
     "output_type": "stream",
     "text": [
      "training_data/fastai/wings_837991.png\n",
      "training_data/fastai/wings_837992.png\n",
      "training_data/fastai/wings_837993.png\n",
      "training_data/fastai/wings_837994.png\n",
      "training_data/fastai/wings_837995.png\n",
      "training_data/fastai/wings_837996.png\n",
      "training_data/fastai/wings_837997.png\n",
      "training_data/fastai/wings_837998.png\n",
      "training_data/fastai/wings_837999.png\n",
      "training_data/fastai/backpack_911990.png\n",
      "training_data/fastai/backpack_911991.png\n",
      "training_data/fastai/backpack_911992.png\n",
      "training_data/fastai/backpack_911993.png\n",
      "training_data/fastai/backpack_911994.png\n",
      "training_data/fastai/backpack_911995.png\n",
      "training_data/fastai/backpack_911996.png\n",
      "training_data/fastai/backpack_911997.png\n",
      "training_data/fastai/backpack_911998.png\n"
     ]
    },
    {
     "name": "stderr",
     "output_type": "stream",
     "text": [
      "/home/ale/anaconda3/envs/tensor20/lib/python3.6/site-packages/fastai/vision/transform.py:243: UserWarning: torch.gesv is deprecated in favour of torch.solve and will be removed in the next release. Please use torch.solve instead.\n",
      "  return torch.gesv(B,A)[0][:,0]\n",
      "/home/ale/anaconda3/envs/tensor20/lib/python3.6/site-packages/fastai/vision/transform.py:243: UserWarning: torch.gesv is deprecated in favour of torch.solve and will be removed in the next release. Please use torch.solve instead.\n",
      "  return torch.gesv(B,A)[0][:,0]\n"
     ]
    },
    {
     "name": "stdout",
     "output_type": "stream",
     "text": [
      "training_data/fastai/backpack_911999.png\n",
      "training_data/fastai/moonwalk_87990.png\n",
      "training_data/fastai/moonwalk_87991.png\n",
      "training_data/fastai/moonwalk_87992.png\n",
      "training_data/fastai/moonwalk_87993.png\n",
      "training_data/fastai/moonwalk_87994.png\n",
      "training_data/fastai/moonwalk_87995.png\n",
      "training_data/fastai/moonwalk_87996.png\n",
      "training_data/fastai/moonwalk_87997.png\n",
      "training_data/fastai/moonwalk_87998.png\n",
      "training_data/fastai/moonwalk_87999.png\n",
      "training_data/fastai/hadouken_512990.png\n",
      "training_data/fastai/hadouken_512991.png\n",
      "training_data/fastai/hadouken_512992.png\n",
      "training_data/fastai/hadouken_512993.png\n",
      "training_data/fastai/hadouken_512994.png\n",
      "training_data/fastai/hadouken_512995.png\n"
     ]
    },
    {
     "name": "stderr",
     "output_type": "stream",
     "text": [
      "/home/ale/anaconda3/envs/tensor20/lib/python3.6/site-packages/fastai/vision/transform.py:243: UserWarning: torch.gesv is deprecated in favour of torch.solve and will be removed in the next release. Please use torch.solve instead.\n",
      "  return torch.gesv(B,A)[0][:,0]\n"
     ]
    },
    {
     "name": "stdout",
     "output_type": "stream",
     "text": [
      "training_data/fastai/hadouken_512996.png\n",
      "training_data/fastai/hadouken_512997.png\n",
      "training_data/fastai/hadouken_512998.png\n",
      "training_data/fastai/hadouken_512999.png\n",
      "training_data/fastai/hadouken_983990.png\n",
      "training_data/fastai/hadouken_983991.png\n",
      "training_data/fastai/hadouken_983992.png\n",
      "training_data/fastai/hadouken_983993.png\n",
      "training_data/fastai/hadouken_983994.png\n",
      "training_data/fastai/hadouken_983995.png\n",
      "training_data/fastai/hadouken_983996.png\n",
      "training_data/fastai/hadouken_983997.png\n",
      "training_data/fastai/hadouken_983998.png\n",
      "training_data/fastai/hadouken_983999.png\n",
      "training_data/fastai/hadouken_1236990.png\n",
      "training_data/fastai/hadouken_1236991.png\n",
      "training_data/fastai/hadouken_1236992.png\n",
      "training_data/fastai/hadouken_1236993.png\n",
      "training_data/fastai/hadouken_1236994.png\n"
     ]
    },
    {
     "name": "stderr",
     "output_type": "stream",
     "text": [
      "/home/ale/anaconda3/envs/tensor20/lib/python3.6/site-packages/fastai/vision/transform.py:243: UserWarning: torch.gesv is deprecated in favour of torch.solve and will be removed in the next release. Please use torch.solve instead.\n",
      "  return torch.gesv(B,A)[0][:,0]\n",
      "/home/ale/anaconda3/envs/tensor20/lib/python3.6/site-packages/fastai/vision/transform.py:243: UserWarning: torch.gesv is deprecated in favour of torch.solve and will be removed in the next release. Please use torch.solve instead.\n",
      "  return torch.gesv(B,A)[0][:,0]\n"
     ]
    },
    {
     "name": "stdout",
     "output_type": "stream",
     "text": [
      "training_data/fastai/hadouken_1236995.png\n",
      "training_data/fastai/hadouken_1236996.png\n",
      "training_data/fastai/hadouken_1236997.png\n",
      "training_data/fastai/hadouken_1236998.png\n",
      "training_data/fastai/hadouken_1236999.png\n",
      "training_data/fastai/underarm_459990.png\n",
      "training_data/fastai/underarm_459991.png\n",
      "training_data/fastai/underarm_459992.png\n",
      "training_data/fastai/underarm_459993.png\n"
     ]
    },
    {
     "name": "stderr",
     "output_type": "stream",
     "text": [
      "/home/ale/anaconda3/envs/tensor20/lib/python3.6/site-packages/fastai/vision/transform.py:243: UserWarning: torch.gesv is deprecated in favour of torch.solve and will be removed in the next release. Please use torch.solve instead.\n",
      "  return torch.gesv(B,A)[0][:,0]\n"
     ]
    },
    {
     "name": "stdout",
     "output_type": "stream",
     "text": [
      "training_data/fastai/underarm_459994.png\n",
      "training_data/fastai/underarm_459995.png\n",
      "training_data/fastai/underarm_459996.png\n",
      "training_data/fastai/underarm_459997.png\n",
      "training_data/fastai/underarm_459998.png\n",
      "training_data/fastai/underarm_459999.png\n",
      "training_data/fastai/fly_433990.png\n",
      "training_data/fastai/fly_433991.png\n",
      "training_data/fastai/fly_433992.png\n"
     ]
    },
    {
     "name": "stderr",
     "output_type": "stream",
     "text": [
      "/home/ale/anaconda3/envs/tensor20/lib/python3.6/site-packages/fastai/vision/transform.py:243: UserWarning: torch.gesv is deprecated in favour of torch.solve and will be removed in the next release. Please use torch.solve instead.\n",
      "  return torch.gesv(B,A)[0][:,0]\n"
     ]
    },
    {
     "name": "stdout",
     "output_type": "stream",
     "text": [
      "training_data/fastai/fly_433993.png\n",
      "training_data/fastai/fly_433994.png\n",
      "training_data/fastai/fly_433995.png\n",
      "training_data/fastai/fly_433996.png\n",
      "training_data/fastai/fly_433997.png\n",
      "training_data/fastai/fly_433998.png\n",
      "training_data/fastai/fly_433999.png\n",
      "training_data/fastai/fly_858990.png\n",
      "training_data/fastai/fly_858991.png\n"
     ]
    },
    {
     "name": "stderr",
     "output_type": "stream",
     "text": [
      "/home/ale/anaconda3/envs/tensor20/lib/python3.6/site-packages/fastai/vision/transform.py:243: UserWarning: torch.gesv is deprecated in favour of torch.solve and will be removed in the next release. Please use torch.solve instead.\n",
      "  return torch.gesv(B,A)[0][:,0]\n"
     ]
    },
    {
     "name": "stdout",
     "output_type": "stream",
     "text": [
      "training_data/fastai/fly_858992.png\n",
      "training_data/fastai/fly_858993.png\n",
      "training_data/fastai/fly_858994.png\n",
      "training_data/fastai/fly_858995.png\n",
      "training_data/fastai/fly_858996.png\n",
      "training_data/fastai/fly_858997.png\n",
      "training_data/fastai/fly_858998.png\n",
      "training_data/fastai/fly_858999.png\n"
     ]
    }
   ],
   "source": [
    "# def get_ex(): return open_image(all_image_paths[0])\n",
    "\n",
    "# def plots_f(rows, cols, width, height, **kwargs):\n",
    "#     [get_ex().apply_tfms(tfms[0], **kwargs).show(ax=ax) for i,ax in enumerate(plt.subplots(\n",
    "#         rows,cols,figsize=(width,height))[1].flatten())]\n",
    "    \n",
    "#plots_f(2, 4, 12, 6, size=224)\n",
    "    tfms = get_transforms(do_flip=False, \n",
    "                            flip_vert=False, \n",
    "                            max_rotate=4, \n",
    "                            max_zoom=1.1, \n",
    "                            max_lighting=None, \n",
    "                            max_warp=0.2, \n",
    "                            p_affine=0.3, \n",
    "                            p_lighting=0)\n",
    "\n",
    "\n",
    "print(tfms[0])\n",
    "\n",
    "#print([tf for tf in tfms])\n",
    "\n",
    "\n",
    "save_fast = Path('./training_data/fastai/')\n",
    "from random import randint\n",
    "\n",
    "\n",
    "for f in all_image_paths:\n",
    "    image = open_image(f)\n",
    "    for i in range(0,10):\n",
    "        image_fast = image.apply_tfms(tfms[0])\n",
    "        save_name = str(save_fast) + '/' + f.stem + '99' + str(i) + f.suffix\n",
    "        print(save_name)\n",
    "        image_fast.save(save_name)\n",
    "\n",
    "\n",
    "\n",
    "#save_fast"
   ]
  },
  {
   "cell_type": "code",
   "execution_count": null,
   "metadata": {},
   "outputs": [],
   "source": []
  }
 ],
 "metadata": {
  "kernelspec": {
   "display_name": "tensor20",
   "language": "python",
   "name": "tensor20"
  },
  "language_info": {
   "codemirror_mode": {
    "name": "ipython",
    "version": 3
   },
   "file_extension": ".py",
   "mimetype": "text/x-python",
   "name": "python",
   "nbconvert_exporter": "python",
   "pygments_lexer": "ipython3",
   "version": "3.6.8"
  }
 },
 "nbformat": 4,
 "nbformat_minor": 2
}
