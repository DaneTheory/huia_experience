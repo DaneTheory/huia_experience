{
 "cells": [
  {
   "cell_type": "markdown",
   "metadata": {},
   "source": [
    "# 02 Huia Experience Training"
   ]
  },
  {
   "cell_type": "markdown",
   "metadata": {},
   "source": [
    "# Setup \n",
    "## Install Tensorflow 2 Nightly and other Libraries"
   ]
  },
  {
   "cell_type": "code",
   "execution_count": 1,
   "metadata": {},
   "outputs": [
    {
     "name": "stdout",
     "output_type": "stream",
     "text": [
      "numpy==1.16.3\r\n",
      "tb-nightly==1.14.0a20190522\r\n",
      "tensorboardX==1.6\r\n",
      "tensorflow-estimator-2.0-preview==1.14.0.dev2019052200\r\n",
      "tensorflow-hub==0.3.0\r\n",
      "tensorflowjs==1.0.1\r\n",
      "tf-nightly-gpu-2.0-preview==2.0.0.dev20190522\r\n"
     ]
    }
   ],
   "source": [
    "#!pip install opencv-python\n",
    "#!pip install scipy\n",
    "#!pip install sklearn\n",
    "#!pip install pathlib\n",
    "#!pip install matplotlib\n",
    "#!pip install fastai=1.0.52\n",
    "#!conda install cudatoolkit=10.0\n",
    "#!pip install scikit-learn\n",
    "\n",
    "# Tensorflow 2 Alpha\n",
    "#!pip install tensorflow-gpu==2.0.0-alpha0 \n",
    "\n",
    "# Tensorflow 2 Nightly \n",
    "#!pip install tf-nightly-gpu-2.0-preview --upgrade --force-reinstall\n",
    "\n",
    "#tf addons only works with alpha for now, don't use\n",
    "#!pip install tensorflow-addons\n",
    "\n",
    "\n",
    "#list versions of tensorflow related files\n",
    "!pip freeze | egrep 'tensor|tb|tf|numpy'\n",
    "\n",
    "# clear tensorboard logs\n",
    "!rm -rf ./logs/*"
   ]
  },
  {
   "cell_type": "code",
   "execution_count": 2,
   "metadata": {},
   "outputs": [],
   "source": [
    "%reload_ext autoreload\n",
    "%autoreload 2\n",
    "%matplotlib inline"
   ]
  },
  {
   "cell_type": "code",
   "execution_count": 3,
   "metadata": {},
   "outputs": [
    {
     "data": {
      "text/plain": [
       "'2.0.0-dev20190522'"
      ]
     },
     "execution_count": 3,
     "metadata": {},
     "output_type": "execute_result"
    }
   ],
   "source": [
    "import tensorflow as tf\n",
    "from tensorflow import keras\n",
    "#import tensorflowjs as tfjs\n",
    "import pathlib\n",
    "import os\n",
    "import random\n",
    "#import tensorflow_addons as tfa # not used for now as it is incompatible with tf.data.Dataset\n",
    "\n",
    "# enable logging to make sure we are running on the GPU\n",
    "tf.debugging.set_log_device_placement(True)\n",
    "\n",
    "# check tensorflow version\n",
    "tf.__version__"
   ]
  },
  {
   "cell_type": "code",
   "execution_count": 4,
   "metadata": {},
   "outputs": [],
   "source": [
    "\n",
    "# clear any active session\n",
    "tf.keras.backend.clear_session()\n",
    "\n",
    "AUTOTUNE = tf.data.experimental.AUTOTUNE\n",
    "BATCH_SIZE = 48"
   ]
  },
  {
   "cell_type": "markdown",
   "metadata": {},
   "source": [
    "# Data\n",
    "We have to understand well our data as this is fundamental to achieve good results."
   ]
  },
  {
   "cell_type": "code",
   "execution_count": 5,
   "metadata": {},
   "outputs": [
    {
     "data": {
      "text/plain": [
       "(PosixPath('training_data/images'),\n",
       " PosixPath('training_data/json'),\n",
       " PosixPath('training_data/augmented_imgs'))"
      ]
     },
     "execution_count": 5,
     "metadata": {},
     "output_type": "execute_result"
    }
   ],
   "source": [
    "root_path = pathlib.Path(\"./training_data/\")\n",
    "image_path = root_path /\"images\"\n",
    "json_path = root_path /\"json\"\n",
    "augmented_path = root_path/\"augmented_imgs\"\n",
    "\n",
    "image_path,json_path ,augmented_path"
   ]
  },
  {
   "cell_type": "code",
   "execution_count": 6,
   "metadata": {},
   "outputs": [],
   "source": [
    "# lets set the random seed so we can reproduce our results\n",
    "random.seed(7)\n",
    "\n",
    "# get filenames from directories \n",
    "all_image_paths = list(image_path.glob('*.png')) + list(augmented_path.glob('*.png'))\n",
    "#all_json_paths = list(json_path.glob('*.json'))\n",
    "\n",
    "all_image_paths = [str(path) for path in all_image_paths] # convert to strings\n",
    "random.shuffle(all_image_paths) # randomize"
   ]
  },
  {
   "cell_type": "code",
   "execution_count": 7,
   "metadata": {},
   "outputs": [
    {
     "data": {
      "text/plain": [
       "4191"
      ]
     },
     "execution_count": 7,
     "metadata": {},
     "output_type": "execute_result"
    }
   ],
   "source": [
    "len(all_image_paths)#, len(all_json_paths)"
   ]
  },
  {
   "cell_type": "code",
   "execution_count": 8,
   "metadata": {},
   "outputs": [
    {
     "data": {
      "text/plain": [
       "['training_data/augmented_imgs/moonwalk_86998.png',\n",
       " 'training_data/augmented_imgs/normal_19994.png',\n",
       " 'training_data/augmented_imgs/hadouken_518991.png',\n",
       " 'training_data/augmented_imgs/backpack_1240991.png',\n",
       " 'training_data/augmented_imgs/moonwalk_74990.png',\n",
       " 'training_data/augmented_imgs/moonwalk_1230992.png',\n",
       " 'training_data/augmented_imgs/underarm_872990.png',\n",
       " 'training_data/augmented_imgs/underarm_247991.png',\n",
       " 'training_data/augmented_imgs/normal_1203996.png',\n",
       " 'training_data/images/fly_52.png',\n",
       " 'training_data/augmented_imgs/fly_430991.png',\n",
       " 'training_data/augmented_imgs/normal_2997.png',\n",
       " 'training_data/augmented_imgs/normal_810994.png',\n",
       " 'training_data/augmented_imgs/hadouken_1237999.png',\n",
       " 'training_data/augmented_imgs/fly_48998.png',\n",
       " 'training_data/augmented_imgs/hadouken_1238992.png',\n",
       " 'training_data/augmented_imgs/backpack_1247992.png',\n",
       " 'training_data/augmented_imgs/dramatic_940994.png',\n",
       " 'training_data/augmented_imgs/moonwalk_74995.png',\n",
       " 'training_data/augmented_imgs/normal_208992.png']"
      ]
     },
     "execution_count": 8,
     "metadata": {},
     "output_type": "execute_result"
    }
   ],
   "source": [
    "all_image_paths[:20] "
   ]
  },
  {
   "cell_type": "code",
   "execution_count": 9,
   "metadata": {},
   "outputs": [
    {
     "data": {
      "text/plain": [
       "4191"
      ]
     },
     "execution_count": 9,
     "metadata": {},
     "output_type": "execute_result"
    }
   ],
   "source": [
    "import re\n",
    "# extract categories for classification\n",
    "pat = r'/([^/]+)_\\d+.png$'\n",
    "all_image_labels = [str(re.search(pat,str(image)).group(1)).lower() for image in all_image_paths]\n",
    "len(all_image_labels)"
   ]
  },
  {
   "cell_type": "code",
   "execution_count": 10,
   "metadata": {},
   "outputs": [
    {
     "data": {
      "image/png": "[encoded data removed]",
      "text/plain": [
       "<IPython.core.display.Image object>"
      ]
     },
     "metadata": {},
     "output_type": "display_data"
    },
    {
     "name": "stdout",
     "output_type": "stream",
     "text": [
      "file: training_data/augmented_imgs/fly_858997.png\n"
     ]
    },
    {
     "data": {
      "image/png": "[encoded data removed]",
      "text/plain": [
       "<IPython.core.display.Image object>"
      ]
     },
     "metadata": {},
     "output_type": "display_data"
    },
    {
     "name": "stdout",
     "output_type": "stream",
     "text": [
      "file: training_data/augmented_imgs/dramatic_126996.png\n"
     ]
    },
    {
     "data": {
      "image/png": "[encoded data removed]",
      "text/plain": [
       "<IPython.core.display.Image object>"
      ]
     },
     "metadata": {},
     "output_type": "display_data"
    },
    {
     "name": "stdout",
     "output_type": "stream",
     "text": [
      "file: training_data/augmented_imgs/normal_814997.png\n"
     ]
    }
   ],
   "source": [
    "import IPython.display as display\n",
    "import matplotlib.pyplot as plt\n",
    "\n",
    "# lets check samples of our images to see what they look like\n",
    "for n in range(3):  \n",
    "    image = random.choice(all_image_paths)\n",
    "    display.display(display.Image(str(image)))\n",
    "    print(f\"file: {image}\")"
   ]
  },
  {
   "cell_type": "code",
   "execution_count": 11,
   "metadata": {},
   "outputs": [
    {
     "data": {
      "text/plain": [
       "['backpack',\n",
       " 'dramatic',\n",
       " 'fly',\n",
       " 'hadouken',\n",
       " 'moonwalk',\n",
       " 'normal',\n",
       " 'underarm',\n",
       " 'wings']"
      ]
     },
     "execution_count": 11,
     "metadata": {},
     "output_type": "execute_result"
    }
   ],
   "source": [
    "# get unique classes\n",
    "huia_person=[]\n",
    "for label in all_image_labels:\n",
    "    if label not in huia_person:\n",
    "        huia_person.append(label)\n",
    "huia_person = sorted(huia_person) # sort label list\n",
    "huia_person"
   ]
  },
  {
   "cell_type": "code",
   "execution_count": 12,
   "metadata": {},
   "outputs": [
    {
     "data": {
      "text/plain": [
       "{'backpack': 0,\n",
       " 'dramatic': 1,\n",
       " 'fly': 2,\n",
       " 'hadouken': 3,\n",
       " 'moonwalk': 4,\n",
       " 'normal': 5,\n",
       " 'underarm': 6,\n",
       " 'wings': 7}"
      ]
     },
     "execution_count": 12,
     "metadata": {},
     "output_type": "execute_result"
    }
   ],
   "source": [
    "# put them in a dict for lookup\n",
    "label_to_index = dict((name, index) for index,name in enumerate(huia_person))\n",
    "label_to_index"
   ]
  },
  {
   "cell_type": "code",
   "execution_count": 13,
   "metadata": {},
   "outputs": [
    {
     "name": "stdout",
     "output_type": "stream",
     "text": [
      "POSE_CLASSES = {\n",
      "\t0: 'backpack',\n",
      "\t1: 'dramatic',\n",
      "\t2: 'fly',\n",
      "\t3: 'hadouken',\n",
      "\t4: 'moonwalk',\n",
      "\t5: 'normal',\n",
      "\t6: 'underarm',\n",
      "\t7: 'wings',\n",
      "}\n"
     ]
    }
   ],
   "source": [
    "# lets format it, so we can copy and paste the dict direclty into javascript :-)\n",
    "print(\"POSE_CLASSES = {\")\n",
    "for index,name in enumerate(huia_person):\n",
    "    print(\"\\t\" +str(index)+\": '\"+name+\"',\")\n",
    "print(\"}\")"
   ]
  },
  {
   "cell_type": "code",
   "execution_count": 14,
   "metadata": {},
   "outputs": [
    {
     "name": "stdout",
     "output_type": "stream",
     "text": [
      "Executing op ReadFile in device /job:localhost/replica:0/task:0/device:CPU:0\n",
      "Executing op Substr in device /job:localhost/replica:0/task:0/device:CPU:0\n",
      "Executing op Equal in device /job:localhost/replica:0/task:0/device:CPU:0\n",
      "Executing op DecodePng in device /job:localhost/replica:0/task:0/device:CPU:0\n",
      "(500, 640, 3)\n",
      "<dtype: 'uint8'>\n"
     ]
    },
    {
     "data": {
      "text/plain": [
       "<matplotlib.image.AxesImage at 0x7f2cb818dc50>"
      ]
     },
     "execution_count": 14,
     "metadata": {},
     "output_type": "execute_result"
    },
    {
     "data": {
      "image/png": "[encoded data removed]",
      "text/plain": [
       "<Figure size 432x288 with 1 Axes>"
      ]
     },
     "metadata": {
      "needs_background": "light"
     },
     "output_type": "display_data"
    }
   ],
   "source": [
    "# load data into tf data\n",
    "img_raw = tf.io.read_file(all_image_paths[0])\n",
    "img_tensor = tf.image.decode_image(img_raw)\n",
    "print(img_tensor.shape)\n",
    "print(img_tensor.dtype)\n",
    "plt.imshow(img_tensor)\n",
    "\n",
    "#img_raw.numpy()\n",
    "\n",
    "\n"
   ]
  },
  {
   "cell_type": "code",
   "execution_count": 15,
   "metadata": {},
   "outputs": [],
   "source": [
    "import numpy\n",
    "from random import randint\n",
    "import math\n",
    "\n",
    "#@tf.function\n",
    "def  preprocess_image(image):\n",
    "    #print(\"EagerMode:\" + str(tf.executing_eagerly()))\n",
    "    # decode PNG\n",
    "    image = tf.image.decode_png(image, channels=3)    \n",
    "    \n",
    "    # data augmentation - doing statically via fastai, as tensorflow addons is not compatible with graph mode yet \n",
    "    # rotate random\n",
    "    #degrees = random.randint(-6,6)\n",
    "    #angle = degrees * math.pi / 180\n",
    "    #image = tfa.image.rotate(image,angle,interpolation='BILINEAR')\n",
    "    # comented as this is not supported in graph mode yet\n",
    "    \n",
    "    # random crop - images are tensors of shape (500,640,3)\n",
    "    #crop_factor = (random.randint(0,20)/100) # generate numbers between 0.7 and 1.0\n",
    "    #new_width = int(640 * (1-crop_factor))\n",
    "    #new_height = int(500 * (1-crop_factor))\n",
    "    # resize_image_with_crop_or_pad\n",
    "    # image = tf.image.resize_image_with_crop_or_pad(image,new_height,new_width)\n",
    "    # commented as we are doing prepocessing on static files\n",
    "    \n",
    "    # resize\n",
    "    image = tf.image.resize(image, [224, 224])\n",
    "\n",
    "    # normalize = convert to [-1:1]    \n",
    "    offset = 127.5\n",
    "    image = (image-offset)/offset\n",
    "    return image\n",
    "\n",
    "#@tf.function\n",
    "def load_and_preprocess_image(path):    \n",
    "    image = tf.io.read_file(path)\n",
    "    return preprocess_image(image)\n"
   ]
  },
  {
   "cell_type": "code",
   "execution_count": 16,
   "metadata": {},
   "outputs": [
    {
     "name": "stdout",
     "output_type": "stream",
     "text": [
      "Executing op DecodePng in device /job:localhost/replica:0/task:0/device:CPU:0\n",
      "Executing op ExpandDims in device /job:localhost/replica:0/task:0/device:GPU:0\n",
      "Executing op ResizeBilinear in device /job:localhost/replica:0/task:0/device:CPU:0\n",
      "Executing op Squeeze in device /job:localhost/replica:0/task:0/device:GPU:0\n",
      "Executing op Sub in device /job:localhost/replica:0/task:0/device:GPU:0\n",
      "Executing op RealDiv in device /job:localhost/replica:0/task:0/device:GPU:0\n"
     ]
    },
    {
     "name": "stderr",
     "output_type": "stream",
     "text": [
      "WARNING: Logging before flag parsing goes to stderr.\n",
      "W0522 22:26:59.800251 139832576722752 image.py:648] Clipping input data to the valid range for imshow with RGB data ([0..1] for floats or [0..255] for integers).\n"
     ]
    },
    {
     "data": {
      "text/plain": [
       "<matplotlib.image.AxesImage at 0x7f2cb80480f0>"
      ]
     },
     "execution_count": 16,
     "metadata": {},
     "output_type": "execute_result"
    },
    {
     "data": {
      "image/png": "[encoded data removed]",
      "text/plain": [
       "<Figure size 432x288 with 1 Axes>"
      ]
     },
     "metadata": {
      "needs_background": "light"
     },
     "output_type": "display_data"
    }
   ],
   "source": [
    "# load data into tf data\n",
    "img_tensor = load_and_preprocess_image(all_image_paths[0])\n",
    "plt.imshow(img_tensor)"
   ]
  },
  {
   "cell_type": "code",
   "execution_count": 17,
   "metadata": {},
   "outputs": [
    {
     "name": "stdout",
     "output_type": "stream",
     "text": [
      "Executing op TensorSliceDataset in device /job:localhost/replica:0/task:0/device:CPU:0\n",
      "Executing op OptimizeDataset in device /job:localhost/replica:0/task:0/device:CPU:0\n",
      "Executing op ModelDataset in device /job:localhost/replica:0/task:0/device:CPU:0\n",
      "Executing op AnonymousIteratorV2 in device /job:localhost/replica:0/task:0/device:CPU:0\n",
      "Executing op MakeIterator in device /job:localhost/replica:0/task:0/device:CPU:0\n",
      "Executing op IteratorGetNextSync in device /job:localhost/replica:0/task:0/device:CPU:0\n",
      "Executing op DeleteIterator in device /job:localhost/replica:0/task:0/device:CPU:0\n"
     ]
    },
    {
     "data": {
      "text/plain": [
       "<tf.Tensor: id=44, shape=(), dtype=string, numpy=b'training_data/augmented_imgs/moonwalk_86998.png'>"
      ]
     },
     "execution_count": 17,
     "metadata": {},
     "output_type": "execute_result"
    }
   ],
   "source": [
    "path_ds = tf.data.Dataset.from_tensor_slices(all_image_paths)\n",
    "path_ds\n",
    "\n",
    "next(iter(path_ds))"
   ]
  },
  {
   "cell_type": "code",
   "execution_count": 18,
   "metadata": {},
   "outputs": [
    {
     "name": "stdout",
     "output_type": "stream",
     "text": [
      "Executing op ParallelMapDataset in device /job:localhost/replica:0/task:0/device:CPU:0\n"
     ]
    }
   ],
   "source": [
    "# force non performatic eager mode as tfa.image doesn't support graph mode yet\n",
    "#image_ds = path_ds.map(lambda path: tf.py_function(func=load_and_preprocess_image,inp=[path],Tout=tf.float32))\n",
    "image_ds = path_ds.map(map_func=load_and_preprocess_image,num_parallel_calls = AUTOTUNE)#.cache(filename='images_normalized')"
   ]
  },
  {
   "cell_type": "code",
   "execution_count": 19,
   "metadata": {},
   "outputs": [
    {
     "name": "stdout",
     "output_type": "stream",
     "text": [
      "Executing op Cast in device /job:localhost/replica:0/task:0/device:GPU:0\n",
      "Executing op TensorSliceDataset in device /job:localhost/replica:0/task:0/device:CPU:0\n"
     ]
    },
    {
     "data": {
      "text/plain": [
       "4191"
      ]
     },
     "execution_count": 19,
     "metadata": {},
     "output_type": "execute_result"
    }
   ],
   "source": [
    "all_image_labels_idx = [label_to_index[label] for label in all_image_labels]\n",
    "label_ds = tf.data.Dataset.from_tensor_slices(tf.cast(all_image_labels_idx, tf.int64))\n",
    "len(all_image_labels)"
   ]
  },
  {
   "cell_type": "code",
   "execution_count": 20,
   "metadata": {},
   "outputs": [
    {
     "name": "stdout",
     "output_type": "stream",
     "text": [
      "Executing op ZipDataset in device /job:localhost/replica:0/task:0/device:CPU:0\n"
     ]
    },
    {
     "data": {
      "text/plain": [
       "tensorflow.python.data.ops.dataset_ops.ZipDataset"
      ]
     },
     "execution_count": 20,
     "metadata": {},
     "output_type": "execute_result"
    }
   ],
   "source": [
    "image_label_ds = tf.data.Dataset.zip((image_ds, label_ds))\n",
    "image_label_ds\n",
    "image_count = len(all_image_labels)\n",
    "\n",
    "type(image_label_ds)"
   ]
  },
  {
   "cell_type": "code",
   "execution_count": 21,
   "metadata": {},
   "outputs": [
    {
     "name": "stderr",
     "output_type": "stream",
     "text": [
      "W0522 22:26:59.989005 139832576722752 deprecation.py:323] From <ipython-input-21-36ac9e0ee748>:2: shuffle_and_repeat (from tensorflow.python.data.experimental.ops.shuffle_ops) is deprecated and will be removed in a future version.\n",
      "Instructions for updating:\n",
      "Use `tf.data.Dataset.shuffle(buffer_size, seed)` followed by `tf.data.Dataset.repeat(count)`. Static tf.data optimizations will take care of using the fused implementation.\n"
     ]
    },
    {
     "name": "stdout",
     "output_type": "stream",
     "text": [
      "Executing op ShuffleAndRepeatDataset in device /job:localhost/replica:0/task:0/device:CPU:0\n",
      "Executing op BatchDatasetV2 in device /job:localhost/replica:0/task:0/device:CPU:0\n",
      "Executing op PrefetchDataset in device /job:localhost/replica:0/task:0/device:CPU:0\n"
     ]
    },
    {
     "data": {
      "text/plain": [
       "<PrefetchDataset shapes: ((None, 224, 224, 3), (None,)), types: (tf.float32, tf.int64)>"
      ]
     },
     "execution_count": 21,
     "metadata": {},
     "output_type": "execute_result"
    }
   ],
   "source": [
    "ds = image_label_ds #.cache()\n",
    "ds = ds.apply(tf.data.experimental.shuffle_and_repeat(buffer_size=image_count))\n",
    "ds = ds.batch(BATCH_SIZE).prefetch(buffer_size=AUTOTUNE)\n",
    "ds"
   ]
  },
  {
   "cell_type": "code",
   "execution_count": 22,
   "metadata": {},
   "outputs": [
    {
     "name": "stdout",
     "output_type": "stream",
     "text": [
      "Executing op RandomUniform in device /job:localhost/replica:0/task:0/device:GPU:0\n",
      "Executing op Mul in device /job:localhost/replica:0/task:0/device:GPU:0\n",
      "Executing op Add in device /job:localhost/replica:0/task:0/device:GPU:0\n",
      "Executing op VarHandleOp in device /job:localhost/replica:0/task:0/device:GPU:0\n",
      "Executing op VarIsInitializedOp in device /job:localhost/replica:0/task:0/device:GPU:0\n",
      "Executing op LogicalNot in device /job:localhost/replica:0/task:0/device:GPU:0\n",
      "Executing op Assert in device /job:localhost/replica:0/task:0/device:GPU:0\n",
      "Executing op AssignVariableOp in device /job:localhost/replica:0/task:0/device:GPU:0\n",
      "Executing op Fill in device /job:localhost/replica:0/task:0/device:GPU:0\n",
      "Executing op VarHandleOp in device /job:localhost/replica:0/task:0/device:GPU:0\n",
      "Executing op VarHandleOp in device /job:localhost/replica:0/task:0/device:GPU:0\n",
      "Executing op VarHandleOp in device /job:localhost/replica:0/task:0/device:GPU:0\n",
      "Executing op VarHandleOp in device /job:localhost/replica:0/task:0/device:GPU:0\n",
      "Executing op VarHandleOp in device /job:localhost/replica:0/task:0/device:GPU:0\n",
      "Executing op VarHandleOp in device /job:localhost/replica:0/task:0/device:GPU:0\n",
      "Executing op VarHandleOp in device /job:localhost/replica:0/task:0/device:GPU:0\n",
      "Executing op VarHandleOp in device /job:localhost/replica:0/task:0/device:GPU:0\n",
      "Executing op VarHandleOp in device /job:localhost/replica:0/task:0/device:GPU:0\n",
      "Executing op VarHandleOp in device /job:localhost/replica:0/task:0/device:GPU:0\n",
      "Executing op VarHandleOp in device /job:localhost/replica:0/task:0/device:GPU:0\n",
      "Executing op VarHandleOp in device /job:localhost/replica:0/task:0/device:GPU:0\n",
      "Executing op VarHandleOp in device /job:localhost/replica:0/task:0/device:GPU:0\n",
      "Executing op VarHandleOp in device /job:localhost/replica:0/task:0/device:GPU:0\n",
      "Executing op VarHandleOp in device /job:localhost/replica:0/task:0/device:GPU:0\n",
      "Executing op VarHandleOp in device /job:localhost/replica:0/task:0/device:GPU:0\n",
      "Executing op VarHandleOp in device /job:localhost/replica:0/task:0/device:GPU:0\n",
      "Executing op VarHandleOp in device /job:localhost/replica:0/task:0/device:GPU:0\n",
      "Executing op VarHandleOp in device /job:localhost/replica:0/task:0/device:GPU:0\n",
      "Executing op VarHandleOp in device /job:localhost/replica:0/task:0/device:GPU:0\n",
      "Executing op VarHandleOp in device /job:localhost/replica:0/task:0/device:GPU:0\n",
      "Executing op VarHandleOp in device /job:localhost/replica:0/task:0/device:GPU:0\n",
      "Executing op VarHandleOp in device /job:localhost/replica:0/task:0/device:GPU:0\n",
      "Executing op VarHandleOp in device /job:localhost/replica:0/task:0/device:GPU:0\n",
      "Executing op VarHandleOp in device /job:localhost/replica:0/task:0/device:GPU:0\n",
      "Executing op VarHandleOp in device /job:localhost/replica:0/task:0/device:GPU:0\n",
      "Executing op VarHandleOp in device /job:localhost/replica:0/task:0/device:GPU:0\n",
      "Executing op VarHandleOp in device /job:localhost/replica:0/task:0/device:GPU:0\n",
      "Executing op VarHandleOp in device /job:localhost/replica:0/task:0/device:GPU:0\n",
      "Executing op VarHandleOp in device /job:localhost/replica:0/task:0/device:GPU:0\n",
      "Executing op VarHandleOp in device /job:localhost/replica:0/task:0/device:GPU:0\n",
      "Executing op VarHandleOp in device /job:localhost/replica:0/task:0/device:GPU:0\n",
      "Executing op VarHandleOp in device /job:localhost/replica:0/task:0/device:GPU:0\n",
      "Executing op VarHandleOp in device /job:localhost/replica:0/task:0/device:GPU:0\n",
      "Executing op VarHandleOp in device /job:localhost/replica:0/task:0/device:GPU:0\n",
      "Executing op VarHandleOp in device /job:localhost/replica:0/task:0/device:GPU:0\n",
      "Executing op VarHandleOp in device /job:localhost/replica:0/task:0/device:GPU:0\n",
      "Executing op VarHandleOp in device /job:localhost/replica:0/task:0/device:GPU:0\n",
      "Executing op VarHandleOp in device /job:localhost/replica:0/task:0/device:GPU:0\n",
      "Model: \"mobilenetv2_1.00_224\"\n",
      "__________________________________________________________________________________________________\n",
      "Layer (type)                    Output Shape         Param #     Connected to                     \n",
      "==================================================================================================\n",
      "input_1 (InputLayer)            [(None, 224, 224, 3) 0                                            \n",
      "__________________________________________________________________________________________________\n",
      "Conv1_pad (ZeroPadding2D)       (None, 225, 225, 3)  0           input_1[0][0]                    \n",
      "__________________________________________________________________________________________________\n",
      "Conv1 (Conv2D)                  (None, 112, 112, 32) 864         Conv1_pad[0][0]                  \n",
      "__________________________________________________________________________________________________\n",
      "bn_Conv1 (BatchNormalization)   (None, 112, 112, 32) 128         Conv1[0][0]                      \n",
      "__________________________________________________________________________________________________\n",
      "Conv1_relu (ReLU)               (None, 112, 112, 32) 0           bn_Conv1[0][0]                   \n",
      "__________________________________________________________________________________________________\n",
      "expanded_conv_depthwise (Depthw (None, 112, 112, 32) 288         Conv1_relu[0][0]                 \n",
      "__________________________________________________________________________________________________\n",
      "expanded_conv_depthwise_BN (Bat (None, 112, 112, 32) 128         expanded_conv_depthwise[0][0]    \n",
      "__________________________________________________________________________________________________\n",
      "expanded_conv_depthwise_relu (R (None, 112, 112, 32) 0           expanded_conv_depthwise_BN[0][0] \n",
      "__________________________________________________________________________________________________\n",
      "expanded_conv_project (Conv2D)  (None, 112, 112, 16) 512         expanded_conv_depthwise_relu[0][0\n",
      "__________________________________________________________________________________________________\n",
      "expanded_conv_project_BN (Batch (None, 112, 112, 16) 64          expanded_conv_project[0][0]      \n",
      "__________________________________________________________________________________________________\n",
      "block_1_expand (Conv2D)         (None, 112, 112, 96) 1536        expanded_conv_project_BN[0][0]   \n",
      "__________________________________________________________________________________________________\n",
      "block_1_expand_BN (BatchNormali (None, 112, 112, 96) 384         block_1_expand[0][0]             \n",
      "__________________________________________________________________________________________________\n",
      "block_1_expand_relu (ReLU)      (None, 112, 112, 96) 0           block_1_expand_BN[0][0]          \n",
      "__________________________________________________________________________________________________\n",
      "block_1_pad (ZeroPadding2D)     (None, 113, 113, 96) 0           block_1_expand_relu[0][0]        \n",
      "__________________________________________________________________________________________________\n",
      "block_1_depthwise (DepthwiseCon (None, 56, 56, 96)   864         block_1_pad[0][0]                \n",
      "__________________________________________________________________________________________________\n",
      "block_1_depthwise_BN (BatchNorm (None, 56, 56, 96)   384         block_1_depthwise[0][0]          \n",
      "__________________________________________________________________________________________________\n",
      "block_1_depthwise_relu (ReLU)   (None, 56, 56, 96)   0           block_1_depthwise_BN[0][0]       \n",
      "__________________________________________________________________________________________________\n",
      "block_1_project (Conv2D)        (None, 56, 56, 24)   2304        block_1_depthwise_relu[0][0]     \n",
      "__________________________________________________________________________________________________\n",
      "block_1_project_BN (BatchNormal (None, 56, 56, 24)   96          block_1_project[0][0]            \n",
      "__________________________________________________________________________________________________\n",
      "block_2_expand (Conv2D)         (None, 56, 56, 144)  3456        block_1_project_BN[0][0]         \n",
      "__________________________________________________________________________________________________\n",
      "block_2_expand_BN (BatchNormali (None, 56, 56, 144)  576         block_2_expand[0][0]             \n",
      "__________________________________________________________________________________________________\n",
      "block_2_expand_relu (ReLU)      (None, 56, 56, 144)  0           block_2_expand_BN[0][0]          \n",
      "__________________________________________________________________________________________________\n",
      "block_2_depthwise (DepthwiseCon (None, 56, 56, 144)  1296        block_2_expand_relu[0][0]        \n",
      "__________________________________________________________________________________________________\n",
      "block_2_depthwise_BN (BatchNorm (None, 56, 56, 144)  576         block_2_depthwise[0][0]          \n",
      "__________________________________________________________________________________________________\n",
      "block_2_depthwise_relu (ReLU)   (None, 56, 56, 144)  0           block_2_depthwise_BN[0][0]       \n",
      "__________________________________________________________________________________________________\n",
      "block_2_project (Conv2D)        (None, 56, 56, 24)   3456        block_2_depthwise_relu[0][0]     \n",
      "__________________________________________________________________________________________________\n",
      "block_2_project_BN (BatchNormal (None, 56, 56, 24)   96          block_2_project[0][0]            \n",
      "__________________________________________________________________________________________________\n",
      "block_2_add (Add)               (None, 56, 56, 24)   0           block_1_project_BN[0][0]         \n",
      "                                                                 block_2_project_BN[0][0]         \n",
      "__________________________________________________________________________________________________\n",
      "block_3_expand (Conv2D)         (None, 56, 56, 144)  3456        block_2_add[0][0]                \n",
      "__________________________________________________________________________________________________\n",
      "block_3_expand_BN (BatchNormali (None, 56, 56, 144)  576         block_3_expand[0][0]             \n",
      "__________________________________________________________________________________________________\n",
      "block_3_expand_relu (ReLU)      (None, 56, 56, 144)  0           block_3_expand_BN[0][0]          \n",
      "__________________________________________________________________________________________________\n",
      "block_3_pad (ZeroPadding2D)     (None, 57, 57, 144)  0           block_3_expand_relu[0][0]        \n",
      "__________________________________________________________________________________________________\n",
      "block_3_depthwise (DepthwiseCon (None, 28, 28, 144)  1296        block_3_pad[0][0]                \n",
      "__________________________________________________________________________________________________\n",
      "block_3_depthwise_BN (BatchNorm (None, 28, 28, 144)  576         block_3_depthwise[0][0]          \n",
      "__________________________________________________________________________________________________\n",
      "block_3_depthwise_relu (ReLU)   (None, 28, 28, 144)  0           block_3_depthwise_BN[0][0]       \n",
      "__________________________________________________________________________________________________\n",
      "block_3_project (Conv2D)        (None, 28, 28, 32)   4608        block_3_depthwise_relu[0][0]     \n",
      "__________________________________________________________________________________________________\n",
      "block_3_project_BN (BatchNormal (None, 28, 28, 32)   128         block_3_project[0][0]            \n",
      "__________________________________________________________________________________________________\n",
      "block_4_expand (Conv2D)         (None, 28, 28, 192)  6144        block_3_project_BN[0][0]         \n",
      "__________________________________________________________________________________________________\n",
      "block_4_expand_BN (BatchNormali (None, 28, 28, 192)  768         block_4_expand[0][0]             \n",
      "__________________________________________________________________________________________________\n",
      "block_4_expand_relu (ReLU)      (None, 28, 28, 192)  0           block_4_expand_BN[0][0]          \n",
      "__________________________________________________________________________________________________\n",
      "block_4_depthwise (DepthwiseCon (None, 28, 28, 192)  1728        block_4_expand_relu[0][0]        \n",
      "__________________________________________________________________________________________________\n",
      "block_4_depthwise_BN (BatchNorm (None, 28, 28, 192)  768         block_4_depthwise[0][0]          \n",
      "__________________________________________________________________________________________________\n",
      "block_4_depthwise_relu (ReLU)   (None, 28, 28, 192)  0           block_4_depthwise_BN[0][0]       \n",
      "__________________________________________________________________________________________________\n",
      "block_4_project (Conv2D)        (None, 28, 28, 32)   6144        block_4_depthwise_relu[0][0]     \n",
      "__________________________________________________________________________________________________\n",
      "block_4_project_BN (BatchNormal (None, 28, 28, 32)   128         block_4_project[0][0]            \n",
      "__________________________________________________________________________________________________\n",
      "block_4_add (Add)               (None, 28, 28, 32)   0           block_3_project_BN[0][0]         \n",
      "                                                                 block_4_project_BN[0][0]         \n",
      "__________________________________________________________________________________________________\n",
      "block_5_expand (Conv2D)         (None, 28, 28, 192)  6144        block_4_add[0][0]                \n",
      "__________________________________________________________________________________________________\n",
      "block_5_expand_BN (BatchNormali (None, 28, 28, 192)  768         block_5_expand[0][0]             \n",
      "__________________________________________________________________________________________________\n",
      "block_5_expand_relu (ReLU)      (None, 28, 28, 192)  0           block_5_expand_BN[0][0]          \n",
      "__________________________________________________________________________________________________\n",
      "block_5_depthwise (DepthwiseCon (None, 28, 28, 192)  1728        block_5_expand_relu[0][0]        \n",
      "__________________________________________________________________________________________________\n",
      "block_5_depthwise_BN (BatchNorm (None, 28, 28, 192)  768         block_5_depthwise[0][0]          \n",
      "__________________________________________________________________________________________________\n",
      "block_5_depthwise_relu (ReLU)   (None, 28, 28, 192)  0           block_5_depthwise_BN[0][0]       \n",
      "__________________________________________________________________________________________________\n",
      "block_5_project (Conv2D)        (None, 28, 28, 32)   6144        block_5_depthwise_relu[0][0]     \n",
      "__________________________________________________________________________________________________\n",
      "block_5_project_BN (BatchNormal (None, 28, 28, 32)   128         block_5_project[0][0]            \n",
      "__________________________________________________________________________________________________\n",
      "block_5_add (Add)               (None, 28, 28, 32)   0           block_4_add[0][0]                \n",
      "                                                                 block_5_project_BN[0][0]         \n",
      "__________________________________________________________________________________________________\n",
      "block_6_expand (Conv2D)         (None, 28, 28, 192)  6144        block_5_add[0][0]                \n",
      "__________________________________________________________________________________________________\n",
      "block_6_expand_BN (BatchNormali (None, 28, 28, 192)  768         block_6_expand[0][0]             \n",
      "__________________________________________________________________________________________________\n"
     ]
    },
    {
     "name": "stdout",
     "output_type": "stream",
     "text": [
      "block_6_expand_relu (ReLU)      (None, 28, 28, 192)  0           block_6_expand_BN[0][0]          \n",
      "__________________________________________________________________________________________________\n",
      "block_6_pad (ZeroPadding2D)     (None, 29, 29, 192)  0           block_6_expand_relu[0][0]        \n",
      "__________________________________________________________________________________________________\n",
      "block_6_depthwise (DepthwiseCon (None, 14, 14, 192)  1728        block_6_pad[0][0]                \n",
      "__________________________________________________________________________________________________\n",
      "block_6_depthwise_BN (BatchNorm (None, 14, 14, 192)  768         block_6_depthwise[0][0]          \n",
      "__________________________________________________________________________________________________\n",
      "block_6_depthwise_relu (ReLU)   (None, 14, 14, 192)  0           block_6_depthwise_BN[0][0]       \n",
      "__________________________________________________________________________________________________\n",
      "block_6_project (Conv2D)        (None, 14, 14, 64)   12288       block_6_depthwise_relu[0][0]     \n",
      "__________________________________________________________________________________________________\n",
      "block_6_project_BN (BatchNormal (None, 14, 14, 64)   256         block_6_project[0][0]            \n",
      "__________________________________________________________________________________________________\n",
      "block_7_expand (Conv2D)         (None, 14, 14, 384)  24576       block_6_project_BN[0][0]         \n",
      "__________________________________________________________________________________________________\n",
      "block_7_expand_BN (BatchNormali (None, 14, 14, 384)  1536        block_7_expand[0][0]             \n",
      "__________________________________________________________________________________________________\n",
      "block_7_expand_relu (ReLU)      (None, 14, 14, 384)  0           block_7_expand_BN[0][0]          \n",
      "__________________________________________________________________________________________________\n",
      "block_7_depthwise (DepthwiseCon (None, 14, 14, 384)  3456        block_7_expand_relu[0][0]        \n",
      "__________________________________________________________________________________________________\n",
      "block_7_depthwise_BN (BatchNorm (None, 14, 14, 384)  1536        block_7_depthwise[0][0]          \n",
      "__________________________________________________________________________________________________\n",
      "block_7_depthwise_relu (ReLU)   (None, 14, 14, 384)  0           block_7_depthwise_BN[0][0]       \n",
      "__________________________________________________________________________________________________\n",
      "block_7_project (Conv2D)        (None, 14, 14, 64)   24576       block_7_depthwise_relu[0][0]     \n",
      "__________________________________________________________________________________________________\n",
      "block_7_project_BN (BatchNormal (None, 14, 14, 64)   256         block_7_project[0][0]            \n",
      "__________________________________________________________________________________________________\n",
      "block_7_add (Add)               (None, 14, 14, 64)   0           block_6_project_BN[0][0]         \n",
      "                                                                 block_7_project_BN[0][0]         \n",
      "__________________________________________________________________________________________________\n",
      "block_8_expand (Conv2D)         (None, 14, 14, 384)  24576       block_7_add[0][0]                \n",
      "__________________________________________________________________________________________________\n",
      "block_8_expand_BN (BatchNormali (None, 14, 14, 384)  1536        block_8_expand[0][0]             \n",
      "__________________________________________________________________________________________________\n",
      "block_8_expand_relu (ReLU)      (None, 14, 14, 384)  0           block_8_expand_BN[0][0]          \n",
      "__________________________________________________________________________________________________\n",
      "block_8_depthwise (DepthwiseCon (None, 14, 14, 384)  3456        block_8_expand_relu[0][0]        \n",
      "__________________________________________________________________________________________________\n",
      "block_8_depthwise_BN (BatchNorm (None, 14, 14, 384)  1536        block_8_depthwise[0][0]          \n",
      "__________________________________________________________________________________________________\n",
      "block_8_depthwise_relu (ReLU)   (None, 14, 14, 384)  0           block_8_depthwise_BN[0][0]       \n",
      "__________________________________________________________________________________________________\n",
      "block_8_project (Conv2D)        (None, 14, 14, 64)   24576       block_8_depthwise_relu[0][0]     \n",
      "__________________________________________________________________________________________________\n",
      "block_8_project_BN (BatchNormal (None, 14, 14, 64)   256         block_8_project[0][0]            \n",
      "__________________________________________________________________________________________________\n",
      "block_8_add (Add)               (None, 14, 14, 64)   0           block_7_add[0][0]                \n",
      "                                                                 block_8_project_BN[0][0]         \n",
      "__________________________________________________________________________________________________\n",
      "block_9_expand (Conv2D)         (None, 14, 14, 384)  24576       block_8_add[0][0]                \n",
      "__________________________________________________________________________________________________\n",
      "block_9_expand_BN (BatchNormali (None, 14, 14, 384)  1536        block_9_expand[0][0]             \n",
      "__________________________________________________________________________________________________\n",
      "block_9_expand_relu (ReLU)      (None, 14, 14, 384)  0           block_9_expand_BN[0][0]          \n",
      "__________________________________________________________________________________________________\n",
      "block_9_depthwise (DepthwiseCon (None, 14, 14, 384)  3456        block_9_expand_relu[0][0]        \n",
      "__________________________________________________________________________________________________\n",
      "block_9_depthwise_BN (BatchNorm (None, 14, 14, 384)  1536        block_9_depthwise[0][0]          \n",
      "__________________________________________________________________________________________________\n",
      "block_9_depthwise_relu (ReLU)   (None, 14, 14, 384)  0           block_9_depthwise_BN[0][0]       \n",
      "__________________________________________________________________________________________________\n",
      "block_9_project (Conv2D)        (None, 14, 14, 64)   24576       block_9_depthwise_relu[0][0]     \n",
      "__________________________________________________________________________________________________\n",
      "block_9_project_BN (BatchNormal (None, 14, 14, 64)   256         block_9_project[0][0]            \n",
      "__________________________________________________________________________________________________\n",
      "block_9_add (Add)               (None, 14, 14, 64)   0           block_8_add[0][0]                \n",
      "                                                                 block_9_project_BN[0][0]         \n",
      "__________________________________________________________________________________________________\n",
      "block_10_expand (Conv2D)        (None, 14, 14, 384)  24576       block_9_add[0][0]                \n",
      "__________________________________________________________________________________________________\n",
      "block_10_expand_BN (BatchNormal (None, 14, 14, 384)  1536        block_10_expand[0][0]            \n",
      "__________________________________________________________________________________________________\n",
      "block_10_expand_relu (ReLU)     (None, 14, 14, 384)  0           block_10_expand_BN[0][0]         \n",
      "__________________________________________________________________________________________________\n",
      "block_10_depthwise (DepthwiseCo (None, 14, 14, 384)  3456        block_10_expand_relu[0][0]       \n",
      "__________________________________________________________________________________________________\n",
      "block_10_depthwise_BN (BatchNor (None, 14, 14, 384)  1536        block_10_depthwise[0][0]         \n",
      "__________________________________________________________________________________________________\n",
      "block_10_depthwise_relu (ReLU)  (None, 14, 14, 384)  0           block_10_depthwise_BN[0][0]      \n",
      "__________________________________________________________________________________________________\n",
      "block_10_project (Conv2D)       (None, 14, 14, 96)   36864       block_10_depthwise_relu[0][0]    \n",
      "__________________________________________________________________________________________________\n",
      "block_10_project_BN (BatchNorma (None, 14, 14, 96)   384         block_10_project[0][0]           \n",
      "__________________________________________________________________________________________________\n",
      "block_11_expand (Conv2D)        (None, 14, 14, 576)  55296       block_10_project_BN[0][0]        \n",
      "__________________________________________________________________________________________________\n",
      "block_11_expand_BN (BatchNormal (None, 14, 14, 576)  2304        block_11_expand[0][0]            \n",
      "__________________________________________________________________________________________________\n",
      "block_11_expand_relu (ReLU)     (None, 14, 14, 576)  0           block_11_expand_BN[0][0]         \n",
      "__________________________________________________________________________________________________\n",
      "block_11_depthwise (DepthwiseCo (None, 14, 14, 576)  5184        block_11_expand_relu[0][0]       \n",
      "__________________________________________________________________________________________________\n",
      "block_11_depthwise_BN (BatchNor (None, 14, 14, 576)  2304        block_11_depthwise[0][0]         \n",
      "__________________________________________________________________________________________________\n",
      "block_11_depthwise_relu (ReLU)  (None, 14, 14, 576)  0           block_11_depthwise_BN[0][0]      \n",
      "__________________________________________________________________________________________________\n",
      "block_11_project (Conv2D)       (None, 14, 14, 96)   55296       block_11_depthwise_relu[0][0]    \n",
      "__________________________________________________________________________________________________\n",
      "block_11_project_BN (BatchNorma (None, 14, 14, 96)   384         block_11_project[0][0]           \n",
      "__________________________________________________________________________________________________\n",
      "block_11_add (Add)              (None, 14, 14, 96)   0           block_10_project_BN[0][0]        \n",
      "                                                                 block_11_project_BN[0][0]        \n",
      "__________________________________________________________________________________________________\n",
      "block_12_expand (Conv2D)        (None, 14, 14, 576)  55296       block_11_add[0][0]               \n",
      "__________________________________________________________________________________________________\n",
      "block_12_expand_BN (BatchNormal (None, 14, 14, 576)  2304        block_12_expand[0][0]            \n",
      "__________________________________________________________________________________________________\n",
      "block_12_expand_relu (ReLU)     (None, 14, 14, 576)  0           block_12_expand_BN[0][0]         \n",
      "__________________________________________________________________________________________________\n",
      "block_12_depthwise (DepthwiseCo (None, 14, 14, 576)  5184        block_12_expand_relu[0][0]       \n",
      "__________________________________________________________________________________________________\n",
      "block_12_depthwise_BN (BatchNor (None, 14, 14, 576)  2304        block_12_depthwise[0][0]         \n",
      "__________________________________________________________________________________________________\n",
      "block_12_depthwise_relu (ReLU)  (None, 14, 14, 576)  0           block_12_depthwise_BN[0][0]      \n",
      "__________________________________________________________________________________________________\n",
      "block_12_project (Conv2D)       (None, 14, 14, 96)   55296       block_12_depthwise_relu[0][0]    \n",
      "__________________________________________________________________________________________________\n",
      "block_12_project_BN (BatchNorma (None, 14, 14, 96)   384         block_12_project[0][0]           \n",
      "__________________________________________________________________________________________________\n",
      "block_12_add (Add)              (None, 14, 14, 96)   0           block_11_add[0][0]               \n",
      "                                                                 block_12_project_BN[0][0]        \n",
      "__________________________________________________________________________________________________\n",
      "block_13_expand (Conv2D)        (None, 14, 14, 576)  55296       block_12_add[0][0]               \n",
      "__________________________________________________________________________________________________\n",
      "block_13_expand_BN (BatchNormal (None, 14, 14, 576)  2304        block_13_expand[0][0]            \n",
      "__________________________________________________________________________________________________\n",
      "block_13_expand_relu (ReLU)     (None, 14, 14, 576)  0           block_13_expand_BN[0][0]         \n",
      "__________________________________________________________________________________________________\n",
      "block_13_pad (ZeroPadding2D)    (None, 15, 15, 576)  0           block_13_expand_relu[0][0]       \n",
      "__________________________________________________________________________________________________\n",
      "block_13_depthwise (DepthwiseCo (None, 7, 7, 576)    5184        block_13_pad[0][0]               \n",
      "__________________________________________________________________________________________________\n",
      "block_13_depthwise_BN (BatchNor (None, 7, 7, 576)    2304        block_13_depthwise[0][0]         \n",
      "__________________________________________________________________________________________________\n",
      "block_13_depthwise_relu (ReLU)  (None, 7, 7, 576)    0           block_13_depthwise_BN[0][0]      \n",
      "__________________________________________________________________________________________________\n",
      "block_13_project (Conv2D)       (None, 7, 7, 160)    92160       block_13_depthwise_relu[0][0]    \n",
      "__________________________________________________________________________________________________\n",
      "block_13_project_BN (BatchNorma (None, 7, 7, 160)    640         block_13_project[0][0]           \n",
      "__________________________________________________________________________________________________\n",
      "block_14_expand (Conv2D)        (None, 7, 7, 960)    153600      block_13_project_BN[0][0]        \n",
      "__________________________________________________________________________________________________\n",
      "block_14_expand_BN (BatchNormal (None, 7, 7, 960)    3840        block_14_expand[0][0]            \n",
      "__________________________________________________________________________________________________\n",
      "block_14_expand_relu (ReLU)     (None, 7, 7, 960)    0           block_14_expand_BN[0][0]         \n",
      "__________________________________________________________________________________________________\n",
      "block_14_depthwise (DepthwiseCo (None, 7, 7, 960)    8640        block_14_expand_relu[0][0]       \n",
      "__________________________________________________________________________________________________\n",
      "block_14_depthwise_BN (BatchNor (None, 7, 7, 960)    3840        block_14_depthwise[0][0]         \n",
      "__________________________________________________________________________________________________\n",
      "block_14_depthwise_relu (ReLU)  (None, 7, 7, 960)    0           block_14_depthwise_BN[0][0]      \n",
      "__________________________________________________________________________________________________\n",
      "block_14_project (Conv2D)       (None, 7, 7, 160)    153600      block_14_depthwise_relu[0][0]    \n",
      "__________________________________________________________________________________________________\n",
      "block_14_project_BN (BatchNorma (None, 7, 7, 160)    640         block_14_project[0][0]           \n",
      "__________________________________________________________________________________________________\n",
      "block_14_add (Add)              (None, 7, 7, 160)    0           block_13_project_BN[0][0]        \n",
      "                                                                 block_14_project_BN[0][0]        \n",
      "__________________________________________________________________________________________________\n",
      "block_15_expand (Conv2D)        (None, 7, 7, 960)    153600      block_14_add[0][0]               \n",
      "__________________________________________________________________________________________________\n",
      "block_15_expand_BN (BatchNormal (None, 7, 7, 960)    3840        block_15_expand[0][0]            \n",
      "__________________________________________________________________________________________________\n",
      "block_15_expand_relu (ReLU)     (None, 7, 7, 960)    0           block_15_expand_BN[0][0]         \n",
      "__________________________________________________________________________________________________\n",
      "block_15_depthwise (DepthwiseCo (None, 7, 7, 960)    8640        block_15_expand_relu[0][0]       \n",
      "__________________________________________________________________________________________________\n",
      "block_15_depthwise_BN (BatchNor (None, 7, 7, 960)    3840        block_15_depthwise[0][0]         \n",
      "__________________________________________________________________________________________________\n",
      "block_15_depthwise_relu (ReLU)  (None, 7, 7, 960)    0           block_15_depthwise_BN[0][0]      \n",
      "__________________________________________________________________________________________________\n",
      "block_15_project (Conv2D)       (None, 7, 7, 160)    153600      block_15_depthwise_relu[0][0]    \n",
      "__________________________________________________________________________________________________\n",
      "block_15_project_BN (BatchNorma (None, 7, 7, 160)    640         block_15_project[0][0]           \n",
      "__________________________________________________________________________________________________\n",
      "block_15_add (Add)              (None, 7, 7, 160)    0           block_14_add[0][0]               \n",
      "                                                                 block_15_project_BN[0][0]        \n",
      "__________________________________________________________________________________________________\n",
      "block_16_expand (Conv2D)        (None, 7, 7, 960)    153600      block_15_add[0][0]               \n",
      "__________________________________________________________________________________________________\n",
      "block_16_expand_BN (BatchNormal (None, 7, 7, 960)    3840        block_16_expand[0][0]            \n",
      "__________________________________________________________________________________________________\n",
      "block_16_expand_relu (ReLU)     (None, 7, 7, 960)    0           block_16_expand_BN[0][0]         \n",
      "__________________________________________________________________________________________________\n",
      "block_16_depthwise (DepthwiseCo (None, 7, 7, 960)    8640        block_16_expand_relu[0][0]       \n",
      "__________________________________________________________________________________________________\n",
      "block_16_depthwise_BN (BatchNor (None, 7, 7, 960)    3840        block_16_depthwise[0][0]         \n",
      "__________________________________________________________________________________________________\n",
      "block_16_depthwise_relu (ReLU)  (None, 7, 7, 960)    0           block_16_depthwise_BN[0][0]      \n",
      "__________________________________________________________________________________________________\n",
      "block_16_project (Conv2D)       (None, 7, 7, 320)    307200      block_16_depthwise_relu[0][0]    \n",
      "__________________________________________________________________________________________________\n",
      "block_16_project_BN (BatchNorma (None, 7, 7, 320)    1280        block_16_project[0][0]           \n",
      "__________________________________________________________________________________________________\n",
      "Conv_1 (Conv2D)                 (None, 7, 7, 1280)   409600      block_16_project_BN[0][0]        \n",
      "__________________________________________________________________________________________________\n",
      "Conv_1_bn (BatchNormalization)  (None, 7, 7, 1280)   5120        Conv_1[0][0]                     \n",
      "__________________________________________________________________________________________________\n",
      "out_relu (ReLU)                 (None, 7, 7, 1280)   0           Conv_1_bn[0][0]                  \n",
      "==================================================================================================\n"
     ]
    },
    {
     "name": "stdout",
     "output_type": "stream",
     "text": [
      "Total params: 2,257,984\n",
      "Trainable params: 0\n",
      "Non-trainable params: 2,257,984\n",
      "__________________________________________________________________________________________________\n"
     ]
    }
   ],
   "source": [
    "# we will use a pretrained mobilenet for transferlearning\n",
    "mobilenet = tf.keras.applications.MobileNetV2(input_shape=(224,224,3),include_top=False,weights='imagenet')\n",
    "mobilenet.trainable = False\n",
    "mobilenet.summary()"
   ]
  },
  {
   "cell_type": "code",
   "execution_count": 23,
   "metadata": {},
   "outputs": [
    {
     "name": "stdout",
     "output_type": "stream",
     "text": [
      "Executing op OptimizeDataset in device /job:localhost/replica:0/task:0/device:CPU:0\n",
      "Executing op ModelDataset in device /job:localhost/replica:0/task:0/device:CPU:0\n",
      "Executing op AnonymousIteratorV2 in device /job:localhost/replica:0/task:0/device:CPU:0\n",
      "Executing op IteratorGetNextSync in device /job:localhost/replica:0/task:0/device:CPU:0\n",
      "(48, 224, 224, 3)\n"
     ]
    }
   ],
   "source": [
    "image_batch, label_batch = next(iter(ds))\n",
    "print(image_batch.shape)"
   ]
  },
  {
   "cell_type": "code",
   "execution_count": 24,
   "metadata": {},
   "outputs": [
    {
     "name": "stdout",
     "output_type": "stream",
     "text": [
      "Executing op StridedSlice in device /job:localhost/replica:0/task:0/device:GPU:0\n",
      "Executing op StridedSlice in device /job:localhost/replica:0/task:0/device:GPU:0\n"
     ]
    },
    {
     "data": {
      "text/plain": [
       "array([[[-1., -1., -1.],\n",
       "        [-1., -1., -1.],\n",
       "        [-1., -1., -1.],\n",
       "        ...,\n",
       "        [-1., -1., -1.],\n",
       "        [-1., -1., -1.],\n",
       "        [-1., -1., -1.]],\n",
       "\n",
       "       [[-1., -1., -1.],\n",
       "        [-1., -1., -1.],\n",
       "        [-1., -1., -1.],\n",
       "        ...,\n",
       "        [-1., -1., -1.],\n",
       "        [-1., -1., -1.],\n",
       "        [-1., -1., -1.]],\n",
       "\n",
       "       [[-1., -1., -1.],\n",
       "        [-1., -1., -1.],\n",
       "        [-1., -1., -1.],\n",
       "        ...,\n",
       "        [-1., -1., -1.],\n",
       "        [-1., -1., -1.],\n",
       "        [-1., -1., -1.]],\n",
       "\n",
       "       ...,\n",
       "\n",
       "       [[-1., -1., -1.],\n",
       "        [-1., -1., -1.],\n",
       "        [-1., -1., -1.],\n",
       "        ...,\n",
       "        [-1., -1., -1.],\n",
       "        [-1., -1., -1.],\n",
       "        [-1., -1., -1.]],\n",
       "\n",
       "       [[-1., -1., -1.],\n",
       "        [-1., -1., -1.],\n",
       "        [-1., -1., -1.],\n",
       "        ...,\n",
       "        [-1., -1., -1.],\n",
       "        [-1., -1., -1.],\n",
       "        [-1., -1., -1.]],\n",
       "\n",
       "       [[-1., -1., -1.],\n",
       "        [-1., -1., -1.],\n",
       "        [-1., -1., -1.],\n",
       "        ...,\n",
       "        [-1., -1., -1.],\n",
       "        [-1., -1., -1.],\n",
       "        [-1., -1., -1.]]], dtype=float32)"
      ]
     },
     "execution_count": 24,
     "metadata": {},
     "output_type": "execute_result"
    }
   ],
   "source": [
    "label_batch[0].numpy()\n",
    "image_batch[0].numpy()"
   ]
  },
  {
   "cell_type": "code",
   "execution_count": 25,
   "metadata": {},
   "outputs": [
    {
     "name": "stdout",
     "output_type": "stream",
     "text": [
      "Executing op Pad in device /job:localhost/replica:0/task:0/device:GPU:0\n",
      "Executing op ReadVariableOp in device /job:localhost/replica:0/task:0/device:GPU:0\n",
      "Executing op Conv2D in device /job:localhost/replica:0/task:0/device:GPU:0\n",
      "Executing op FusedBatchNorm in device /job:localhost/replica:0/task:0/device:GPU:0\n",
      "Executing op Relu6 in device /job:localhost/replica:0/task:0/device:GPU:0\n",
      "Executing op Shape in device /job:localhost/replica:0/task:0/device:GPU:0\n",
      "Executing op DepthwiseConv2dNative in device /job:localhost/replica:0/task:0/device:GPU:0\n",
      "Executing op Conv2D in device /job:localhost/replica:0/task:0/device:GPU:0\n",
      "Executing op DepthwiseConv2dNative in device /job:localhost/replica:0/task:0/device:GPU:0\n",
      "Executing op Conv2D in device /job:localhost/replica:0/task:0/device:GPU:0\n",
      "(48, 7, 7, 1280)\n"
     ]
    }
   ],
   "source": [
    "image_batch, label_batch = next(iter(ds))\n",
    "\n",
    "feature_map_batch = mobilenet(image_batch)\n",
    "print(feature_map_batch.shape)"
   ]
  },
  {
   "cell_type": "code",
   "execution_count": 26,
   "metadata": {},
   "outputs": [
    {
     "name": "stdout",
     "output_type": "stream",
     "text": [
      "Executing op VarHandleOp in device /job:localhost/replica:0/task:0/device:GPU:0\n",
      "Executing op TruncatedNormal in device /job:localhost/replica:0/task:0/device:GPU:0\n",
      "Executing op VarHandleOp in device /job:localhost/replica:0/task:0/device:GPU:0\n",
      "Executing op VarHandleOp in device /job:localhost/replica:0/task:0/device:GPU:0\n",
      "Executing op VarHandleOp in device /job:localhost/replica:0/task:0/device:GPU:0\n",
      "Executing op VarHandleOp in device /job:localhost/replica:0/task:0/device:GPU:0\n",
      "Executing op VarHandleOp in device /job:localhost/replica:0/task:0/device:GPU:0\n",
      "Executing op VarHandleOp in device /job:localhost/replica:0/task:0/device:GPU:0\n",
      "Model: \"sequential\"\n",
      "_________________________________________________________________\n",
      "Layer (type)                 Output Shape              Param #   \n",
      "=================================================================\n",
      "mobilenetv2_1.00_224 (Model) (None, 7, 7, 1280)        2257984   \n",
      "_________________________________________________________________\n",
      "global_average_pooling2d (Gl (None, 1280)              0         \n",
      "_________________________________________________________________\n",
      "dropout (Dropout)            (None, 1280)              0         \n",
      "_________________________________________________________________\n",
      "dense (Dense)                (None, 1024)              1311744   \n",
      "_________________________________________________________________\n",
      "dropout_1 (Dropout)          (None, 1024)              0         \n",
      "_________________________________________________________________\n",
      "dense_1 (Dense)              (None, 1024)              1049600   \n",
      "_________________________________________________________________\n",
      "dropout_2 (Dropout)          (None, 1024)              0         \n",
      "_________________________________________________________________\n",
      "features (Dense)             (None, 512)               524800    \n",
      "_________________________________________________________________\n",
      "dense_2 (Dense)              (None, 8)                 4104      \n",
      "=================================================================\n",
      "Total params: 5,148,232\n",
      "Trainable params: 2,890,248\n",
      "Non-trainable params: 2,257,984\n",
      "_________________________________________________________________\n"
     ]
    }
   ],
   "source": [
    "model = tf.keras.Sequential([\n",
    "    mobilenet,\n",
    "    tf.keras.layers.GlobalAveragePooling2D(),\n",
    "    tf.keras.layers.Dropout(0.3),\n",
    "    tf.keras.layers.Dense(1024,activation='relu',bias_initializer=tf.keras.initializers.he_normal()),\n",
    "    tf.keras.layers.Dropout(0.3),\n",
    "    tf.keras.layers.Dense(1024,activation='relu',bias_initializer=tf.keras.initializers.he_normal()),\n",
    "    tf.keras.layers.Dropout(0.2),\n",
    "    tf.keras.layers.Dense(512,activation='relu',bias_initializer=tf.keras.initializers.he_normal(),name='features'),\n",
    "    tf.keras.layers.Dense(len(huia_person),activation='softmax'),\n",
    "])\n",
    "model.summary()"
   ]
  },
  {
   "cell_type": "code",
   "execution_count": 27,
   "metadata": {},
   "outputs": [
    {
     "name": "stdout",
     "output_type": "stream",
     "text": [
      "Executing op Mean in device /job:localhost/replica:0/task:0/device:GPU:0\n",
      "Executing op MatMul in device /job:localhost/replica:0/task:0/device:GPU:0\n",
      "Executing op BiasAdd in device /job:localhost/replica:0/task:0/device:GPU:0\n",
      "Executing op Relu in device /job:localhost/replica:0/task:0/device:GPU:0\n",
      "Executing op Softmax in device /job:localhost/replica:0/task:0/device:GPU:0\n",
      "min logit: 0.055411372\n",
      "max logit: 0.25408116\n",
      "\n",
      "Shape: (48, 8)\n"
     ]
    }
   ],
   "source": [
    "logit_batch = model(image_batch).numpy()\n",
    "\n",
    "print(\"min logit:\", logit_batch.min())\n",
    "print(\"max logit:\", logit_batch.max())\n",
    "print()\n",
    "\n",
    "print(\"Shape:\", logit_batch.shape)"
   ]
  },
  {
   "cell_type": "code",
   "execution_count": 28,
   "metadata": {},
   "outputs": [
    {
     "name": "stdout",
     "output_type": "stream",
     "text": [
      "Model: \"sequential\"\n",
      "_________________________________________________________________\n",
      "Layer (type)                 Output Shape              Param #   \n",
      "=================================================================\n",
      "mobilenetv2_1.00_224 (Model) (None, 7, 7, 1280)        2257984   \n",
      "_________________________________________________________________\n",
      "global_average_pooling2d (Gl (None, 1280)              0         \n",
      "_________________________________________________________________\n",
      "dropout (Dropout)            (None, 1280)              0         \n",
      "_________________________________________________________________\n",
      "dense (Dense)                (None, 1024)              1311744   \n",
      "_________________________________________________________________\n",
      "dropout_1 (Dropout)          (None, 1024)              0         \n",
      "_________________________________________________________________\n",
      "dense_1 (Dense)              (None, 1024)              1049600   \n",
      "_________________________________________________________________\n",
      "dropout_2 (Dropout)          (None, 1024)              0         \n",
      "_________________________________________________________________\n",
      "features (Dense)             (None, 512)               524800    \n",
      "_________________________________________________________________\n",
      "dense_2 (Dense)              (None, 8)                 4104      \n",
      "=================================================================\n",
      "Total params: 5,148,232\n",
      "Trainable params: 2,890,248\n",
      "Non-trainable params: 2,257,984\n",
      "_________________________________________________________________\n"
     ]
    }
   ],
   "source": [
    "len(model.trainable_variables) \n",
    "model.summary()"
   ]
  },
  {
   "cell_type": "code",
   "execution_count": 29,
   "metadata": {},
   "outputs": [
    {
     "name": "stdout",
     "output_type": "stream",
     "text": [
      "Executing op Ceil in device /job:localhost/replica:0/task:0/device:GPU:0\n"
     ]
    },
    {
     "data": {
      "text/plain": [
       "70.0"
      ]
     },
     "execution_count": 29,
     "metadata": {},
     "output_type": "execute_result"
    }
   ],
   "source": [
    "steps_per_epoch=tf.math.ceil((len(all_image_paths)-838)/BATCH_SIZE).numpy()\n",
    "steps_per_epoch"
   ]
  },
  {
   "cell_type": "code",
   "execution_count": 30,
   "metadata": {},
   "outputs": [
    {
     "name": "stdout",
     "output_type": "stream",
     "text": [
      "Executing op Add in device /job:localhost/replica:0/task:0/device:CPU:0\n",
      "Executing op SummaryWriter in device /job:localhost/replica:0/task:0/device:CPU:0\n",
      "Executing op CreateSummaryFileWriter in device /job:localhost/replica:0/task:0/device:CPU:0\n",
      "Executing op WriteGraphSummary in device /job:localhost/replica:0/task:0/device:CPU:0\n",
      "Executing op LogicalAnd in device /job:localhost/replica:0/task:0/device:CPU:0\n",
      "Executing op WriteSummary in device /job:localhost/replica:0/task:0/device:CPU:0\n",
      "Executing op FlushSummaryWriter in device /job:localhost/replica:0/task:0/device:CPU:0\n"
     ]
    }
   ],
   "source": [
    "# One Cycle https://www.kaggle.com/robotdreams/one-cycle-policy-with-keras\n",
    "# import OneCycleLR\n",
    "from datetime import datetime\n",
    "now = datetime.now()\n",
    "\n",
    "\n",
    "\n",
    "log_dir = \"./logs/step_1_\" + now.strftime(\"%Y%m%d-%H%M%S\") + \"/\"\n",
    "\n",
    "callbacks = []\n",
    "\n",
    "# logging\n",
    "tbCallback = tf.keras.callbacks.TensorBoard(log_dir=log_dir,histogram_freq=1)\n",
    "tbCallback.set_model(model)\n",
    "callbacks.append(tbCallback)\n",
    "\n",
    "epochs = 20\n",
    "max_lr = 3e-4\n",
    "\n",
    "base_lr = max_lr/10\n",
    "# max_m = 0.98\n",
    "# base_m = 0.85\n",
    "\n",
    "# cyclical_momentum = False\n",
    "# augment = True\n",
    "# cycles = 2.35\n",
    "\n",
    "# iterations = round(len(all_image_paths)/BATCH_SIZE*epochs)\n",
    "# iterations = list(range(0,iterations+1))\n",
    "# step_size = len(iterations)/(cycles)\n",
    "\n",
    "# clr = OneCycleLR.CyclicLR(base_lr=base_lr,\n",
    "#                 max_lr=max_lr,\n",
    "#                 step_size=step_size,\n",
    "#                 max_m=max_m,\n",
    "#                 base_m=base_m,\n",
    "#                 cyclical_momentum=cyclical_momentum)\n",
    "\n",
    "#callbacks.append(clr)\n",
    "\n",
    "# class myCallback(tf.keras.callbacks.Callback):\n",
    "#   def on_epoch_end(self, epoch, logs={}):\n",
    "#     if(logs.get('val_accuracy')>0.9):\n",
    "#       print(\"\\nReached 60% accuracy so cancelling training!\")\n",
    "#       self.model.stop_training = True\n",
    "\n",
    "# earlyStopping = tf.keras.callbacks.EarlyStopping(patience=2, monitor='loss')\n",
    "# callbacks.append(earlyStopping)\n",
    "\n",
    "# chkPoint = tf.keras.callbacks.ModelCheckpoint('./models.h5')\n",
    "# chkPoint.set_model(model)\n",
    "# callbacks.append(chkPoint)"
   ]
  },
  {
   "cell_type": "code",
   "execution_count": 31,
   "metadata": {},
   "outputs": [
    {
     "name": "stdout",
     "output_type": "stream",
     "text": [
      "Executing op TakeDataset in device /job:localhost/replica:0/task:0/device:CPU:0\n",
      "Executing op SkipDataset in device /job:localhost/replica:0/task:0/device:CPU:0\n"
     ]
    }
   ],
   "source": [
    "# skip 20% validation images\n",
    "test_dataset = ds.take(838) \n",
    "train_dataset = ds.skip(838)"
   ]
  },
  {
   "cell_type": "code",
   "execution_count": 32,
   "metadata": {},
   "outputs": [
    {
     "name": "stdout",
     "output_type": "stream",
     "text": [
      "Executing op VarHandleOp in device /job:localhost/replica:0/task:0/device:GPU:0\n"
     ]
    }
   ],
   "source": [
    "mobilenet.trainable = False\n",
    "model.compile(optimizer=tf.keras.optimizers.Adam(lr=max_lr, beta_1=0.9, beta_2=0.999, epsilon=1e-08, decay=1e-07, amsgrad=False), \n",
    "              loss='sparse_categorical_crossentropy',\n",
    "              metrics=['accuracy'])"
   ]
  },
  {
   "cell_type": "code",
   "execution_count": 33,
   "metadata": {
    "scrolled": true
   },
   "outputs": [
    {
     "name": "stdout",
     "output_type": "stream",
     "text": [
      "Executing op CloseSummaryWriter in device /job:localhost/replica:0/task:0/device:CPU:0\n",
      "Executing op DestroyResourceOp in device /job:localhost/replica:0/task:0/device:CPU:0\n",
      "Epoch 1/20\n",
      "Executing op ExpandDims in device /job:localhost/replica:0/task:0/device:GPU:0\n"
     ]
    },
    {
     "name": "stderr",
     "output_type": "stream",
     "text": [
      "W0522 22:27:32.037099 139832576722752 deprecation.py:323] From /home/ale/anaconda3/envs/tensor20/lib/python3.7/site-packages/tensorflow/python/ops/math_grad.py:1250: add_dispatch_support.<locals>.wrapper (from tensorflow.python.ops.array_ops) is deprecated and will be removed in a future version.\n",
      "Instructions for updating:\n",
      "Use tf.where in 2.0, which has the same broadcast rule as np.where\n"
     ]
    },
    {
     "name": "stdout",
     "output_type": "stream",
     "text": [
      "Executing op VarHandleOp in device /job:localhost/replica:0/task:0/device:GPU:0\n",
      "Executing op AssignVariableOp in device /job:localhost/replica:0/task:0/device:GPU:0\n",
      "Executing op Fill in device /job:localhost/replica:0/task:0/device:GPU:0\n",
      "Executing op VarHandleOp in device /job:localhost/replica:0/task:0/device:GPU:0\n",
      "Executing op LogicalNot in device /job:localhost/replica:0/task:0/device:GPU:0\n",
      "Executing op Assert in device /job:localhost/replica:0/task:0/device:GPU:0\n",
      "Executing op VarHandleOp in device /job:localhost/replica:0/task:0/device:GPU:0\n",
      "Executing op VarHandleOp in device /job:localhost/replica:0/task:0/device:GPU:0\n",
      "Executing op VarHandleOp in device /job:localhost/replica:0/task:0/device:GPU:0\n",
      "Executing op VarHandleOp in device /job:localhost/replica:0/task:0/device:GPU:0\n",
      "Executing op VarHandleOp in device /job:localhost/replica:0/task:0/device:GPU:0\n",
      "Executing op VarHandleOp in device /job:localhost/replica:0/task:0/device:GPU:0\n",
      "Executing op Cast in device /job:localhost/replica:0/task:0/device:GPU:0\n",
      "Executing op __inference_keras_scratch_graph_13159 in device <unspecified>\n",
      "68/70 [============================>.] - ETA: 0s - loss: 0.8734 - accuracy: 0.7056Executing op ExperimentalDatasetCardinality in device /job:localhost/replica:0/task:0/device:CPU:0\n",
      "Executing op __inference_keras_scratch_graph_14812 in device <unspecified>\n",
      "Executing op WriteScalarSummary in device /job:localhost/replica:0/task:0/device:CPU:0\n",
      "Executing op WriteScalarSummary in device /job:localhost/replica:0/task:0/device:CPU:0\n",
      "Executing op WriteHistogramSummary in device /job:localhost/replica:0/task:0/device:CPU:0\n",
      "70/70 [==============================] - 68s 965ms/step - loss: 0.8595 - accuracy: 0.7113 - val_loss: 2.0323 - val_accuracy: 0.3766\n",
      "Epoch 2/20\n",
      "70/70 [==============================] - 41s 587ms/step - loss: 0.1965 - accuracy: 0.9372 - val_loss: 1.9015 - val_accuracy: 0.4508\n",
      "Epoch 3/20\n",
      "70/70 [==============================] - 41s 587ms/step - loss: 0.1190 - accuracy: 0.9592 - val_loss: 1.4675 - val_accuracy: 0.6327\n",
      "Epoch 4/20\n",
      "70/70 [==============================] - 41s 590ms/step - loss: 0.1076 - accuracy: 0.9679 - val_loss: 1.4296 - val_accuracy: 0.5895\n",
      "Epoch 5/20\n",
      "70/70 [==============================] - 41s 589ms/step - loss: 0.0847 - accuracy: 0.9747 - val_loss: 2.5741 - val_accuracy: 0.5196\n",
      "Epoch 6/20\n",
      "70/70 [==============================] - 41s 592ms/step - loss: 0.0836 - accuracy: 0.9714 - val_loss: 2.1120 - val_accuracy: 0.4660\n",
      "Epoch 7/20\n",
      "70/70 [==============================] - 41s 592ms/step - loss: 0.0569 - accuracy: 0.9810 - val_loss: 3.0650 - val_accuracy: 0.3563\n",
      "Epoch 8/20\n",
      "70/70 [==============================] - 41s 591ms/step - loss: 0.0420 - accuracy: 0.9866 - val_loss: 1.9381 - val_accuracy: 0.5212\n",
      "Epoch 9/20\n",
      "70/70 [==============================] - 41s 591ms/step - loss: 0.0485 - accuracy: 0.9830 - val_loss: 2.6904 - val_accuracy: 0.5133\n",
      "Epoch 10/20\n",
      "70/70 [==============================] - 42s 595ms/step - loss: 0.0434 - accuracy: 0.9869 - val_loss: 2.4680 - val_accuracy: 0.4894\n",
      "Epoch 11/20\n",
      "70/70 [==============================] - 41s 592ms/step - loss: 0.0508 - accuracy: 0.9827 - val_loss: 1.8733 - val_accuracy: 0.6093\n",
      "Epoch 12/20\n",
      "70/70 [==============================] - 42s 593ms/step - loss: 0.0469 - accuracy: 0.9839 - val_loss: 2.4816 - val_accuracy: 0.4867\n",
      "Epoch 13/20\n",
      "70/70 [==============================] - 42s 597ms/step - loss: 0.0320 - accuracy: 0.9875 - val_loss: 2.5323 - val_accuracy: 0.4868\n",
      "Epoch 14/20\n",
      "70/70 [==============================] - 41s 592ms/step - loss: 0.0525 - accuracy: 0.9833 - val_loss: 1.9103 - val_accuracy: 0.5892\n",
      "Epoch 15/20\n",
      "70/70 [==============================] - 42s 597ms/step - loss: 0.0321 - accuracy: 0.9896 - val_loss: 2.3609 - val_accuracy: 0.4996\n",
      "Epoch 16/20\n",
      "70/70 [==============================] - 42s 594ms/step - loss: 0.0221 - accuracy: 0.9937 - val_loss: 2.0374 - val_accuracy: 0.5944\n",
      "Epoch 17/20\n",
      "70/70 [==============================] - 41s 592ms/step - loss: 0.0265 - accuracy: 0.9908 - val_loss: 2.8813 - val_accuracy: 0.4214\n",
      "Epoch 18/20\n",
      "70/70 [==============================] - 42s 595ms/step - loss: 0.0263 - accuracy: 0.9902 - val_loss: 3.1284 - val_accuracy: 0.5121\n",
      "Epoch 19/20\n",
      "70/70 [==============================] - 42s 595ms/step - loss: 0.0280 - accuracy: 0.9917 - val_loss: 2.5385 - val_accuracy: 0.5289\n",
      "Epoch 20/20\n",
      "70/70 [==============================] - 41s 593ms/step - loss: 0.0346 - accuracy: 0.9884 - val_loss: 2.6274 - val_accuracy: 0.4799\n",
      "total time of 0:14:15.458347 for 20 epochs, tensorflow version=2.0.0-dev20190522\n"
     ]
    }
   ],
   "source": [
    "start = datetime.now()\n",
    "history = model.fit(train_dataset, epochs=epochs,steps_per_epoch=steps_per_epoch,verbose=1,validation_data=test_dataset,\n",
    "          callbacks=callbacks)\n",
    "end = datetime.now()\n",
    "print(f\"total time of {end-start} for {epochs} epochs, tensorflow version={tf.__version__}\")"
   ]
  },
  {
   "cell_type": "code",
   "execution_count": 34,
   "metadata": {},
   "outputs": [
    {
     "name": "stdout",
     "output_type": "stream",
     "text": [
      "dict_keys(['loss', 'accuracy', 'val_loss', 'val_accuracy'])\n"
     ]
    },
    {
     "data": {
      "image/png": "[encoded data removed]",
      "text/plain": [
       "<Figure size 432x288 with 1 Axes>"
      ]
     },
     "metadata": {
      "needs_background": "light"
     },
     "output_type": "display_data"
    },
    {
     "data": {
      "image/png": "[encoded data removed]",
      "text/plain": [
       "<Figure size 432x288 with 1 Axes>"
      ]
     },
     "metadata": {
      "needs_background": "light"
     },
     "output_type": "display_data"
    }
   ],
   "source": [
    "# list all data in history\n",
    "print(history.history.keys())\n",
    "\n",
    "# summarize history for accuracy\n",
    "plt.plot(history.history['accuracy'])\n",
    "plt.plot(history.history['val_accuracy'])\n",
    "plt.title('model accuracy')\n",
    "plt.ylabel('accuracy')\n",
    "plt.xlabel('epoch')\n",
    "plt.legend(['train', 'test'], loc='upper left')\n",
    "plt.show()\n",
    "# summarize history for loss\n",
    "plt.plot(history.history['loss'])\n",
    "plt.plot(history.history['val_loss'])\n",
    "plt.title('model loss')\n",
    "plt.ylabel('loss')\n",
    "plt.xlabel('epoch')\n",
    "plt.legend(['train', 'test'], loc='upper left')\n",
    "plt.show()"
   ]
  },
  {
   "cell_type": "code",
   "execution_count": 35,
   "metadata": {},
   "outputs": [],
   "source": [
    "#!pip install scikit-learn"
   ]
  },
  {
   "cell_type": "code",
   "execution_count": 36,
   "metadata": {},
   "outputs": [],
   "source": [
    "from datetime import datetime\n",
    "import OneCycleLR\n",
    "now = datetime.now()\n",
    "log_dir = \"./logs/step_2_\" + now.strftime(\"%Y%m%d-%H%M%S\") + \"/\"\n",
    "\n",
    "callbacks = []\n",
    "\n",
    "epochs = 50\n",
    "max_lr = 3e-6\n",
    "\n",
    "# base_lr = max_lr/10\n",
    "# max_m = 0.98\n",
    "# base_m = 0.85\n",
    "\n",
    "# cyclical_momentum = False\n",
    "# augment = True\n",
    "# cycles = 2.35\n",
    "\n",
    "# iterations = round(len(all_image_paths)/BATCH_SIZE*epochs)\n",
    "# iterations = list(range(0,iterations+1))\n",
    "# step_size = len(iterations)/(cycles)\n",
    "\n",
    "# clr = OneCycleLR.CyclicLR(base_lr=base_lr,\n",
    "#                 max_lr=max_lr,\n",
    "#                 step_size=step_size,\n",
    "#                 max_m=max_m,\n",
    "#                 base_m=base_m,\n",
    "#                 cyclical_momentum=cyclical_momentum)\n",
    "\n",
    "#callbacks.append(clr)\n",
    "\n",
    "# logging\n",
    "tbCallback = tf.keras.callbacks.TensorBoard(log_dir=log_dir,histogram_freq=1)\n",
    "tbCallback.set_model(model)\n",
    "callbacks.append(tbCallback)"
   ]
  },
  {
   "cell_type": "code",
   "execution_count": 37,
   "metadata": {},
   "outputs": [
    {
     "name": "stdout",
     "output_type": "stream",
     "text": [
      "Executing op DestroyResourceOp in device /job:localhost/replica:0/task:0/device:GPU:0\n"
     ]
    }
   ],
   "source": [
    "mobilenet.trainable = True\n",
    "model.compile(optimizer=tf.keras.optimizers.Adam(lr=max_lr, beta_1=0.9, beta_2=0.999, epsilon=1e-08, decay=1e-07, amsgrad=False), \n",
    "              loss='sparse_categorical_crossentropy',\n",
    "              metrics=['accuracy'])"
   ]
  },
  {
   "cell_type": "code",
   "execution_count": 38,
   "metadata": {},
   "outputs": [
    {
     "name": "stdout",
     "output_type": "stream",
     "text": [
      "Epoch 1/50\n",
      "Executing op VarHandleOp in device /job:localhost/replica:0/task:0/device:GPU:0\n",
      "Executing op VarHandleOp in device /job:localhost/replica:0/task:0/device:GPU:0\n",
      "Executing op VarHandleOp in device /job:localhost/replica:0/task:0/device:GPU:0\n",
      "Executing op VarHandleOp in device /job:localhost/replica:0/task:0/device:GPU:0\n",
      "Executing op VarHandleOp in device /job:localhost/replica:0/task:0/device:GPU:0\n",
      "Executing op VarHandleOp in device /job:localhost/replica:0/task:0/device:GPU:0\n",
      "Executing op VarHandleOp in device /job:localhost/replica:0/task:0/device:GPU:0\n",
      "Executing op VarHandleOp in device /job:localhost/replica:0/task:0/device:GPU:0\n",
      "Executing op VarHandleOp in device /job:localhost/replica:0/task:0/device:GPU:0\n",
      "Executing op VarHandleOp in device /job:localhost/replica:0/task:0/device:GPU:0\n",
      "Executing op VarHandleOp in device /job:localhost/replica:0/task:0/device:GPU:0\n",
      "Executing op VarHandleOp in device /job:localhost/replica:0/task:0/device:GPU:0\n",
      "Executing op VarHandleOp in device /job:localhost/replica:0/task:0/device:GPU:0\n",
      "Executing op VarHandleOp in device /job:localhost/replica:0/task:0/device:GPU:0\n",
      "Executing op VarHandleOp in device /job:localhost/replica:0/task:0/device:GPU:0\n",
      "Executing op VarHandleOp in device /job:localhost/replica:0/task:0/device:GPU:0\n",
      "Executing op VarHandleOp in device /job:localhost/replica:0/task:0/device:GPU:0\n",
      "Executing op VarHandleOp in device /job:localhost/replica:0/task:0/device:GPU:0\n",
      "Executing op VarHandleOp in device /job:localhost/replica:0/task:0/device:GPU:0\n",
      "Executing op VarHandleOp in device /job:localhost/replica:0/task:0/device:GPU:0\n",
      "Executing op VarHandleOp in device /job:localhost/replica:0/task:0/device:GPU:0\n",
      "Executing op VarHandleOp in device /job:localhost/replica:0/task:0/device:GPU:0\n",
      "Executing op VarHandleOp in device /job:localhost/replica:0/task:0/device:GPU:0\n",
      "Executing op VarHandleOp in device /job:localhost/replica:0/task:0/device:GPU:0\n",
      "Executing op VarHandleOp in device /job:localhost/replica:0/task:0/device:GPU:0\n",
      "Executing op VarHandleOp in device /job:localhost/replica:0/task:0/device:GPU:0\n",
      "Executing op VarHandleOp in device /job:localhost/replica:0/task:0/device:GPU:0\n",
      "Executing op VarHandleOp in device /job:localhost/replica:0/task:0/device:GPU:0\n",
      "Executing op VarHandleOp in device /job:localhost/replica:0/task:0/device:GPU:0\n",
      "Executing op VarHandleOp in device /job:localhost/replica:0/task:0/device:GPU:0\n",
      "Executing op VarHandleOp in device /job:localhost/replica:0/task:0/device:GPU:0\n",
      "Executing op VarHandleOp in device /job:localhost/replica:0/task:0/device:GPU:0\n",
      "Executing op VarHandleOp in device /job:localhost/replica:0/task:0/device:GPU:0\n",
      "Executing op VarHandleOp in device /job:localhost/replica:0/task:0/device:GPU:0\n",
      "Executing op VarHandleOp in device /job:localhost/replica:0/task:0/device:GPU:0\n",
      "Executing op VarHandleOp in device /job:localhost/replica:0/task:0/device:GPU:0\n",
      "Executing op VarHandleOp in device /job:localhost/replica:0/task:0/device:GPU:0\n",
      "Executing op VarHandleOp in device /job:localhost/replica:0/task:0/device:GPU:0\n",
      "Executing op VarHandleOp in device /job:localhost/replica:0/task:0/device:GPU:0\n",
      "Executing op VarHandleOp in device /job:localhost/replica:0/task:0/device:GPU:0\n",
      "Executing op __inference_keras_scratch_graph_262525 in device <unspecified>\n",
      "69/70 [============================>.] - ETA: 0s - loss: 0.0177 - accuracy: 0.9952Executing op __inference_keras_scratch_graph_264441 in device <unspecified>\n",
      "70/70 [==============================] - 107s 2s/step - loss: 0.0176 - accuracy: 0.9952 - val_loss: 2.2647 - val_accuracy: 0.5238\n",
      "Epoch 2/50\n",
      "70/70 [==============================] - 55s 785ms/step - loss: 0.0124 - accuracy: 0.9958 - val_loss: 2.0012 - val_accuracy: 0.5520\n",
      "Epoch 3/50\n",
      "70/70 [==============================] - 55s 787ms/step - loss: 0.0085 - accuracy: 0.9976 - val_loss: 1.8534 - val_accuracy: 0.5788\n",
      "Epoch 4/50\n",
      "70/70 [==============================] - 55s 791ms/step - loss: 0.0056 - accuracy: 0.9979 - val_loss: 1.7825 - val_accuracy: 0.5783\n",
      "Epoch 5/50\n",
      "70/70 [==============================] - 55s 792ms/step - loss: 0.0062 - accuracy: 0.9979 - val_loss: 1.7574 - val_accuracy: 0.5846\n",
      "Epoch 6/50\n",
      "70/70 [==============================] - 55s 793ms/step - loss: 0.0040 - accuracy: 0.9985 - val_loss: 1.7068 - val_accuracy: 0.5963\n",
      "Epoch 7/50\n",
      "70/70 [==============================] - 55s 791ms/step - loss: 0.0066 - accuracy: 0.9982 - val_loss: 1.4834 - val_accuracy: 0.6409\n",
      "Epoch 8/50\n",
      "70/70 [==============================] - 56s 794ms/step - loss: 0.0041 - accuracy: 0.9988 - val_loss: 1.1862 - val_accuracy: 0.6858\n",
      "Epoch 9/50\n",
      "70/70 [==============================] - 55s 791ms/step - loss: 0.0038 - accuracy: 0.9988 - val_loss: 0.9999 - val_accuracy: 0.7198\n",
      "Epoch 10/50\n",
      "70/70 [==============================] - 55s 790ms/step - loss: 0.0030 - accuracy: 0.9991 - val_loss: 0.9293 - val_accuracy: 0.7291\n",
      "Epoch 11/50\n",
      "70/70 [==============================] - 56s 796ms/step - loss: 0.0017 - accuracy: 0.9997 - val_loss: 0.7984 - val_accuracy: 0.7487\n",
      "Epoch 12/50\n",
      "70/70 [==============================] - 56s 793ms/step - loss: 0.0023 - accuracy: 0.9994 - val_loss: 0.7135 - val_accuracy: 0.7626\n",
      "Epoch 13/50\n",
      "70/70 [==============================] - 55s 791ms/step - loss: 0.0034 - accuracy: 0.9985 - val_loss: 0.6130 - val_accuracy: 0.7866\n",
      "Epoch 14/50\n",
      "70/70 [==============================] - 55s 791ms/step - loss: 0.0021 - accuracy: 0.9994 - val_loss: 0.5693 - val_accuracy: 0.8085\n",
      "Epoch 15/50\n",
      "70/70 [==============================] - 55s 791ms/step - loss: 0.0024 - accuracy: 0.9991 - val_loss: 0.5196 - val_accuracy: 0.8155\n",
      "Epoch 16/50\n",
      "70/70 [==============================] - 55s 792ms/step - loss: 0.0017 - accuracy: 0.9997 - val_loss: 0.4644 - val_accuracy: 0.8403\n",
      "Epoch 17/50\n",
      "70/70 [==============================] - 56s 795ms/step - loss: 0.0020 - accuracy: 0.9997 - val_loss: 0.4023 - val_accuracy: 0.8622\n",
      "Epoch 18/50\n",
      "70/70 [==============================] - 56s 793ms/step - loss: 0.0022 - accuracy: 0.9994 - val_loss: 0.3541 - val_accuracy: 0.8767\n",
      "Epoch 19/50\n",
      "70/70 [==============================] - 56s 794ms/step - loss: 0.0012 - accuracy: 1.0000 - val_loss: 0.3216 - val_accuracy: 0.8841\n",
      "Epoch 20/50\n",
      "70/70 [==============================] - 56s 797ms/step - loss: 0.0018 - accuracy: 0.9997 - val_loss: 0.2819 - val_accuracy: 0.8976\n",
      "Epoch 21/50\n",
      "70/70 [==============================] - 56s 795ms/step - loss: 0.0021 - accuracy: 0.9994 - val_loss: 0.2273 - val_accuracy: 0.9160\n",
      "Epoch 22/50\n",
      "70/70 [==============================] - 56s 797ms/step - loss: 0.0020 - accuracy: 0.9991 - val_loss: 0.1947 - val_accuracy: 0.9241\n",
      "Epoch 23/50\n",
      "70/70 [==============================] - 56s 797ms/step - loss: 6.5337e-04 - accuracy: 1.0000 - val_loss: 0.1739 - val_accuracy: 0.9329\n",
      "Epoch 24/50\n",
      "70/70 [==============================] - 56s 800ms/step - loss: 7.0332e-04 - accuracy: 1.0000 - val_loss: 0.1612 - val_accuracy: 0.9365\n",
      "Epoch 25/50\n",
      "70/70 [==============================] - 56s 798ms/step - loss: 0.0013 - accuracy: 0.9997 - val_loss: 0.1426 - val_accuracy: 0.9467\n",
      "Epoch 26/50\n",
      "70/70 [==============================] - 56s 795ms/step - loss: 7.3640e-04 - accuracy: 1.0000 - val_loss: 0.1254 - val_accuracy: 0.9536\n",
      "Epoch 27/50\n",
      "70/70 [==============================] - 56s 797ms/step - loss: 7.8448e-04 - accuracy: 1.0000 - val_loss: 0.1216 - val_accuracy: 0.9579\n",
      "Epoch 28/50\n",
      "70/70 [==============================] - 56s 794ms/step - loss: 0.0016 - accuracy: 0.9991 - val_loss: 0.1163 - val_accuracy: 0.9560\n",
      "Epoch 29/50\n",
      "70/70 [==============================] - 56s 793ms/step - loss: 5.6024e-04 - accuracy: 1.0000 - val_loss: 0.1054 - val_accuracy: 0.9566\n",
      "Epoch 30/50\n",
      "70/70 [==============================] - 56s 798ms/step - loss: 0.0013 - accuracy: 0.9994 - val_loss: 0.0983 - val_accuracy: 0.9593\n",
      "Epoch 31/50\n",
      "70/70 [==============================] - 56s 798ms/step - loss: 0.0012 - accuracy: 0.9997 - val_loss: 0.0963 - val_accuracy: 0.9616\n",
      "Epoch 32/50\n",
      "70/70 [==============================] - 56s 796ms/step - loss: 5.1880e-04 - accuracy: 1.0000 - val_loss: 0.0857 - val_accuracy: 0.9640\n",
      "Epoch 33/50\n",
      "70/70 [==============================] - 56s 798ms/step - loss: 0.0011 - accuracy: 0.9994 - val_loss: 0.0853 - val_accuracy: 0.9665\n"
     ]
    },
    {
     "name": "stdout",
     "output_type": "stream",
     "text": [
      "Epoch 34/50\n",
      "70/70 [==============================] - 56s 795ms/step - loss: 5.8342e-04 - accuracy: 1.0000 - val_loss: 0.0807 - val_accuracy: 0.9714\n",
      "Epoch 35/50\n",
      "70/70 [==============================] - 56s 795ms/step - loss: 0.0014 - accuracy: 0.9991 - val_loss: 0.0803 - val_accuracy: 0.9745\n",
      "Epoch 36/50\n",
      "70/70 [==============================] - 56s 794ms/step - loss: 0.0018 - accuracy: 0.9994 - val_loss: 0.0752 - val_accuracy: 0.9766\n",
      "Epoch 37/50\n",
      "70/70 [==============================] - 56s 793ms/step - loss: 0.0019 - accuracy: 0.9994 - val_loss: 0.0698 - val_accuracy: 0.9769\n",
      "Epoch 38/50\n",
      "70/70 [==============================] - 56s 795ms/step - loss: 3.3883e-04 - accuracy: 1.0000 - val_loss: 0.0671 - val_accuracy: 0.9780\n",
      "Epoch 39/50\n",
      "70/70 [==============================] - 56s 798ms/step - loss: 3.4425e-04 - accuracy: 1.0000 - val_loss: 0.0616 - val_accuracy: 0.9789\n",
      "Epoch 40/50\n",
      "70/70 [==============================] - 55s 792ms/step - loss: 7.7994e-04 - accuracy: 1.0000 - val_loss: 0.0559 - val_accuracy: 0.9789\n",
      "Epoch 41/50\n",
      "70/70 [==============================] - 56s 798ms/step - loss: 9.1321e-04 - accuracy: 0.9994 - val_loss: 0.0466 - val_accuracy: 0.9855\n",
      "Epoch 42/50\n",
      "70/70 [==============================] - 55s 792ms/step - loss: 7.7477e-04 - accuracy: 1.0000 - val_loss: 0.0370 - val_accuracy: 0.9882\n",
      "Epoch 43/50\n",
      "70/70 [==============================] - 56s 794ms/step - loss: 0.0010 - accuracy: 0.9994 - val_loss: 0.0288 - val_accuracy: 0.9926\n",
      "Epoch 44/50\n",
      "70/70 [==============================] - 56s 793ms/step - loss: 9.7231e-04 - accuracy: 0.9997 - val_loss: 0.0285 - val_accuracy: 0.9916\n",
      "Epoch 45/50\n",
      "70/70 [==============================] - 56s 798ms/step - loss: 4.1638e-04 - accuracy: 1.0000 - val_loss: 0.0206 - val_accuracy: 0.9945\n",
      "Epoch 46/50\n",
      "70/70 [==============================] - 56s 795ms/step - loss: 0.0016 - accuracy: 0.9994 - val_loss: 0.0166 - val_accuracy: 0.9962\n",
      "Epoch 47/50\n",
      "70/70 [==============================] - 56s 796ms/step - loss: 0.0010 - accuracy: 0.9997 - val_loss: 0.0114 - val_accuracy: 0.9962\n",
      "Epoch 48/50\n",
      "70/70 [==============================] - 56s 800ms/step - loss: 4.7492e-04 - accuracy: 1.0000 - val_loss: 0.0086 - val_accuracy: 0.9969\n",
      "Epoch 49/50\n",
      "70/70 [==============================] - 56s 797ms/step - loss: 7.0374e-04 - accuracy: 0.9997 - val_loss: 0.0061 - val_accuracy: 0.9981\n",
      "Epoch 50/50\n",
      "70/70 [==============================] - 56s 800ms/step - loss: 1.3004e-04 - accuracy: 1.0000 - val_loss: 0.0052 - val_accuracy: 0.9985\n"
     ]
    }
   ],
   "source": [
    "history = model.fit(train_dataset, epochs=epochs,steps_per_epoch=steps_per_epoch,verbose=1,validation_data=test_dataset,\n",
    "          callbacks=callbacks)"
   ]
  },
  {
   "cell_type": "code",
   "execution_count": 39,
   "metadata": {},
   "outputs": [
    {
     "name": "stdout",
     "output_type": "stream",
     "text": [
      "dict_keys(['loss', 'accuracy', 'val_loss', 'val_accuracy'])\n"
     ]
    },
    {
     "data": {
      "image/png": "[encoded data removed]",
      "text/plain": [
       "<Figure size 432x288 with 1 Axes>"
      ]
     },
     "metadata": {
      "needs_background": "light"
     },
     "output_type": "display_data"
    },
    {
     "data": {
      "image/png": "[encoded data removed]",
      "text/plain": [
       "<Figure size 432x288 with 1 Axes>"
      ]
     },
     "metadata": {
      "needs_background": "light"
     },
     "output_type": "display_data"
    }
   ],
   "source": [
    "# list all data in history\n",
    "print(history.history.keys())\n",
    "\n",
    "# summarize history for accuracy\n",
    "plt.plot(history.history['accuracy'])\n",
    "plt.plot(history.history['val_accuracy'])\n",
    "plt.title('model accuracy')\n",
    "plt.ylabel('accuracy')\n",
    "plt.xlabel('epoch')\n",
    "plt.legend(['train', 'test'], loc='upper left')\n",
    "plt.ylim(0, 1) \n",
    "plt.show()\n",
    "\n",
    "# summarize history for loss\n",
    "plt.plot(history.history['loss'])\n",
    "plt.plot(history.history['val_loss'])\n",
    "plt.title('model loss')\n",
    "plt.ylabel('loss')\n",
    "plt.xlabel('epoch')\n",
    "plt.legend(['train', 'test'], loc='upper left')\n",
    "plt.ylim(0, 1) \n",
    "plt.show()"
   ]
  },
  {
   "cell_type": "code",
   "execution_count": 44,
   "metadata": {},
   "outputs": [],
   "source": [
    "model.save(\"models/huia_poses_final.h5\") # 1.0"
   ]
  },
  {
   "cell_type": "code",
   "execution_count": 41,
   "metadata": {},
   "outputs": [
    {
     "data": {
      "text/plain": [
       "<tensorflow.python.keras.engine.sequential.Sequential at 0x7f2bf85aceb8>"
      ]
     },
     "execution_count": 41,
     "metadata": {},
     "output_type": "execute_result"
    }
   ],
   "source": [
    "model"
   ]
  },
  {
   "cell_type": "markdown",
   "metadata": {},
   "source": [
    "# Convert to TENSORFLOW JS / Quantization"
   ]
  },
  {
   "cell_type": "code",
   "execution_count": 42,
   "metadata": {},
   "outputs": [
    {
     "name": "stdout",
     "output_type": "stream",
     "text": [
      "absl-py==0.7.1\r\n",
      "astor==0.8.0\r\n",
      "attrs==19.1.0\r\n",
      "backcall==0.1.0\r\n",
      "beautifulsoup4==4.7.1\r\n",
      "bleach==3.1.0\r\n",
      "blis==0.2.4\r\n",
      "Bottleneck==1.2.1\r\n",
      "certifi==2019.3.9\r\n",
      "cffi==1.12.3\r\n",
      "chardet==3.0.4\r\n",
      "cycler==0.10.0\r\n",
      "cymem==2.0.2\r\n",
      "decorator==4.4.0\r\n",
      "defusedxml==0.6.0\r\n",
      "entrypoints==0.3\r\n",
      "fastai==1.0.51\r\n",
      "fastprogress==0.1.21\r\n",
      "ffmpeg==1.4\r\n",
      "ffmpeg-python==0.1.17\r\n",
      "future==0.17.1\r\n",
      "gast==0.2.2\r\n",
      "google-pasta==0.1.6\r\n",
      "grpcio==1.20.1\r\n",
      "h5py==2.9.0\r\n",
      "idna==2.8\r\n",
      "ipykernel==5.1.0\r\n",
      "ipython==7.5.0\r\n",
      "ipython-genutils==0.2.0\r\n",
      "ipywidgets==7.4.2\r\n",
      "jedi==0.13.3\r\n",
      "Jinja2==2.10.1\r\n",
      "joblib==0.13.2\r\n",
      "jsonschema==3.0.1\r\n",
      "jupyter==1.0.0\r\n",
      "jupyter-client==5.2.4\r\n",
      "jupyter-console==6.0.0\r\n",
      "jupyter-core==4.4.0\r\n",
      "jupyterlab==0.35.6\r\n",
      "jupyterlab-server==0.2.0\r\n",
      "Keras==2.2.4\r\n",
      "Keras-Applications==1.0.7\r\n",
      "Keras-Preprocessing==1.0.9\r\n",
      "kiwisolver==1.1.0\r\n",
      "Markdown==3.1.1\r\n",
      "MarkupSafe==1.1.1\r\n",
      "matplotlib==3.0.3\r\n",
      "mistune==0.8.4\r\n",
      "mkl-fft==1.0.12\r\n",
      "mkl-random==1.0.2\r\n",
      "mock==3.0.5\r\n",
      "murmurhash==1.0.2\r\n",
      "nb-conda==2.2.1\r\n",
      "nb-conda-kernels==2.2.1\r\n",
      "nbconvert==5.5.0\r\n",
      "nbformat==4.4.0\r\n",
      "notebook==5.7.8\r\n",
      "numexpr==2.6.9\r\n",
      "numpy==1.16.3\r\n",
      "nvidia-ml-py3==7.352.0\r\n",
      "olefile==0.46\r\n",
      "opencv-python==4.1.0.25\r\n",
      "packaging==19.0\r\n",
      "pandas==0.24.2\r\n",
      "pandocfilters==1.4.2\r\n",
      "parso==0.4.0\r\n",
      "pexpect==4.7.0\r\n",
      "pickleshare==0.7.5\r\n",
      "Pillow==6.0.0\r\n",
      "plac==0.9.6\r\n",
      "preshed==2.0.1\r\n",
      "prometheus-client==0.6.0\r\n",
      "prompt-toolkit==2.0.9\r\n",
      "protobuf==3.7.1\r\n",
      "ptyprocess==0.6.0\r\n",
      "pycparser==2.19\r\n",
      "Pygments==2.4.0\r\n",
      "pyparsing==2.4.0\r\n",
      "pyrsistent==0.14.11\r\n",
      "python-dateutil==2.8.0\r\n",
      "pytz==2019.1\r\n",
      "PyYAML==5.1\r\n",
      "pyzmq==18.0.0\r\n",
      "qtconsole==4.4.4\r\n",
      "requests==2.21.0\r\n",
      "scikit-learn==0.21.1\r\n",
      "scipy==1.3.0\r\n",
      "Send2Trash==1.5.0\r\n",
      "six==1.12.0\r\n",
      "sklearn==0.0\r\n",
      "soupsieve==1.9.1\r\n",
      "spacy==2.1.4\r\n",
      "srsly==0.0.5\r\n",
      "tb-nightly==1.14.0a20190522\r\n",
      "tensorboardX==1.6\r\n",
      "tensorflow-estimator-2.0-preview==1.14.0.dev2019052200\r\n",
      "tensorflow-hub==0.3.0\r\n",
      "tensorflowjs==1.0.1\r\n",
      "termcolor==1.1.0\r\n",
      "terminado==0.8.2\r\n",
      "testpath==0.4.2\r\n",
      "tf-nightly-gpu-2.0-preview==2.0.0.dev20190522\r\n",
      "thinc==7.0.4\r\n",
      "torch==1.1.0\r\n",
      "torchvision==0.2.2.post3\r\n",
      "tornado==6.0.2\r\n",
      "tqdm==4.32.1\r\n",
      "traitlets==4.3.2\r\n",
      "typing==3.6.6\r\n",
      "urllib3==1.24.3\r\n",
      "wasabi==0.2.2\r\n",
      "wcwidth==0.1.7\r\n",
      "webencodings==0.5.1\r\n",
      "Werkzeug==0.15.4\r\n",
      "widgetsnbextension==3.4.2\r\n",
      "wrapt==1.11.1\r\n",
      "youtube-dl==2019.5.11\r\n"
     ]
    }
   ],
   "source": [
    "!pip freeze \n",
    "#!pip install tensorflowjs==0.6.4 --force-reinstall\n"
   ]
  },
  {
   "cell_type": "code",
   "execution_count": 50,
   "metadata": {},
   "outputs": [],
   "source": [
    "# Tensorflow 2 Alpha has a bug exporting to TFJS, so we need to use a nightly version\n",
    "import tensorflowjs as tfjs\n",
    "import numpy as np\n",
    "\n",
    "# model = tf.keras.models.load_model(\"models/huia_mob_224_final_one_cycle.h5\")\n",
    "# model.load_weights(\"models/huia_mob_224_final_one_cycle.h5\")\n",
    "\n",
    "#tfjs.converters.save_keras_model(model, \"models_tfjs/huia_poses_final_q8ale\",quantization_dtype=np.uint8)\n",
    "tfjs.converters.save_keras_model(model, \"models_tfjs/huia_poses_final_q16ale\",quantization_dtype=np.uint16)\n",
    "\n",
    "# run on command line, above commands are buggy at the moment\n",
    "# !tensorflowjs_converter \\\n",
    "#     --input_format=keras \\\n",
    "#     --output_format=tfjs_layers_model \\\n",
    "#     ./models/huia_poses_final.h5 \\\n",
    "#     ./models_tfjs/huia_poses_final_8b \\\n",
    "#     --quantization_bytes 1\n",
    "\n",
    "# !tensorflowjs_converter \\\n",
    "#     --input_format=keras \\\n",
    "#     --output_format=tfjs_layers_model \\\n",
    "#     ./models/huia_poses_final.h5 \\\n",
    "#     ./models_tfjs/huia_poses_final_16b \\\n",
    "#     --quantization_bytes 2\n",
    "\n",
    "# !tensorflowjs_converter \\\n",
    "#     --input_format=tfjs_layers_model \\\n",
    "#     --output_format=tfjs_layers_model \\\n",
    "#     ./tfjs_poses/model.json \\\n",
    "#     ./tfjs_poses_q1 \\\n",
    "#     --quantization_bytes 1\n",
    "\n",
    "# tensorflowjs_converter \\\n",
    "#    --input_format=tfjs_layers_model \\\n",
    "#    --output_format=tfjs_layers_model \\\n",
    "#    --quantization_bytes=1 \\\n",
    "#    huia_poses_final_16b/model.json \\\n",
    "#    huia_poses_final_16b8\n",
    "\n",
    "# copy tfjs model to 03_experience/static and change App.vue reference to load it"
   ]
  },
  {
   "cell_type": "code",
   "execution_count": 49,
   "metadata": {},
   "outputs": [
    {
     "name": "stdout",
     "output_type": "stream",
     "text": [
      "Model: \"sequential\"\n",
      "_________________________________________________________________\n",
      "Layer (type)                 Output Shape              Param #   \n",
      "=================================================================\n",
      "mobilenetv2_1.00_224 (Model) (None, 7, 7, 1280)        2257984   \n",
      "_________________________________________________________________\n",
      "global_average_pooling2d (Gl (None, 1280)              0         \n",
      "_________________________________________________________________\n",
      "dropout (Dropout)            (None, 1280)              0         \n",
      "_________________________________________________________________\n",
      "dense (Dense)                (None, 1024)              1311744   \n",
      "_________________________________________________________________\n",
      "dropout_1 (Dropout)          (None, 1024)              0         \n",
      "_________________________________________________________________\n",
      "dense_1 (Dense)              (None, 1024)              1049600   \n",
      "_________________________________________________________________\n",
      "dropout_2 (Dropout)          (None, 1024)              0         \n",
      "_________________________________________________________________\n",
      "features (Dense)             (None, 512)               524800    \n",
      "_________________________________________________________________\n",
      "dense_2 (Dense)              (None, 8)                 4104      \n",
      "=================================================================\n",
      "Total params: 5,148,232\n",
      "Trainable params: 5,114,120\n",
      "Non-trainable params: 34,112\n",
      "_________________________________________________________________\n"
     ]
    }
   ],
   "source": [
    "model.summary()"
   ]
  },
  {
   "cell_type": "code",
   "execution_count": null,
   "metadata": {},
   "outputs": [],
   "source": [
    "tf.keras.utils.plot_model(model,'model.png',show_layer_names=False) #,show_shapes=True)"
   ]
  },
  {
   "cell_type": "markdown",
   "metadata": {},
   "source": [
    "# Tensorboard Visualization"
   ]
  },
  {
   "cell_type": "code",
   "execution_count": 51,
   "metadata": {},
   "outputs": [
    {
     "data": {
      "text/plain": [
       "Reusing TensorBoard on port 6006 (pid 22050), started 3:11:01 ago. (Use '!kill 22050' to kill it.)"
      ]
     },
     "metadata": {},
     "output_type": "display_data"
    },
    {
     "data": {
      "text/html": [
       "\n",
       "        <iframe\n",
       "            width=\"100%\"\n",
       "            height=\"800\"\n",
       "            src=\"http://localhost:6006\"\n",
       "            frameborder=\"0\"\n",
       "            allowfullscreen\n",
       "        ></iframe>\n",
       "        "
      ],
      "text/plain": [
       "<IPython.lib.display.IFrame at 0x7f28eeeced30>"
      ]
     },
     "metadata": {},
     "output_type": "display_data"
    }
   ],
   "source": [
    "# https://www.tensorflow.org/tensorboard/\n",
    "import tensorboard as tb\n",
    "%load_ext tensorboard\n",
    "#%load_ext tensorboard.notebook\n",
    "%tensorboard --logdir ./logs\n",
    "#notebook.list() # View open TensorBoard instances\n",
    "#notebook.display(port=6006, height=1000)\n",
    "#!kill 25264"
   ]
  },
  {
   "cell_type": "code",
   "execution_count": null,
   "metadata": {},
   "outputs": [],
   "source": []
  },
  {
   "cell_type": "markdown",
   "metadata": {},
   "source": [
    "# Test / Predict"
   ]
  },
  {
   "cell_type": "code",
   "execution_count": null,
   "metadata": {},
   "outputs": [],
   "source": [
    "import numpy as np\n",
    "sample = np.reshape(img_final,[1,224,224,3])\n",
    "\n",
    "predict = int(model.predict_classes(sample))\n",
    "predict"
   ]
  },
  {
   "cell_type": "code",
   "execution_count": null,
   "metadata": {},
   "outputs": [],
   "source": [
    "[key for key,value in label_to_index.items() if value == predict]"
   ]
  },
  {
   "cell_type": "code",
   "execution_count": null,
   "metadata": {},
   "outputs": [],
   "source": [
    "label_to_index"
   ]
  },
  {
   "cell_type": "markdown",
   "metadata": {},
   "source": [
    "# UTILS"
   ]
  },
  {
   "cell_type": "markdown",
   "metadata": {},
   "source": [
    "## Delete Images that are empty"
   ]
  },
  {
   "cell_type": "code",
   "execution_count": null,
   "metadata": {},
   "outputs": [],
   "source": [
    "# during image capture some images are empty, so we automatically delete them\n",
    "\n",
    "# open images and delete if they are empty\n",
    "def remove_empty_imgs(imgpath):\n",
    "    for item in imgpath.iterdir():\n",
    "        im = imread(str(item), format='png')\n",
    "        if np.count_nonzero(im)==0: \n",
    "            print(item,np.count_nonzero(im))\n",
    "            os.remove(str(item))\n",
    "            \n",
    "#remove_empty_imgs(image_path)"
   ]
  },
  {
   "cell_type": "markdown",
   "metadata": {},
   "source": [
    "## Sync JSONs with Images"
   ]
  },
  {
   "cell_type": "code",
   "execution_count": null,
   "metadata": {},
   "outputs": [],
   "source": [
    "# since we might delete unwanted images for training, this will also delete the json files\n",
    "# sync json & images \n",
    "\n",
    "def sync_json_images(json_paths, img_path):\n",
    "    for json in json_paths:\n",
    "        #print(json.stem, end=\" \")\n",
    "        img = img_path/f\"{json.stem}.png\"\n",
    "        if not Path(img).exists():\n",
    "            print(f\"{img} doesn't exist, deleting {json}\")\n",
    "            Path(json).unlink()\n",
    "        \n",
    "#sync_json_images(all_json_paths, image_path)"
   ]
  },
  {
   "cell_type": "markdown",
   "metadata": {},
   "source": [
    "# Static Data Augmentation\n",
    "Decided to use FASTAI to statically preprocess data augmentation, as tensorflow addons (0.3.1) still didn't support graph mode and is therefore not compatible with tf.data.Dataset mappings\n",
    "\n",
    "\n"
   ]
  },
  {
   "cell_type": "code",
   "execution_count": null,
   "metadata": {},
   "outputs": [],
   "source": [
    "from fastai.vision import *\n",
    "from fastai.metrics import error_rate\n",
    "from random import randint\n",
    "import pathlib\n",
    "\n",
    "root_path = pathlib.Path(\"./training_data/\")\n",
    "save_fast = Path('./training_data/augmented_imgs/')\n",
    "save_fast.mkdir(parents=True, exist_ok=True)\n",
    "\n",
    "tfms = get_transforms(do_flip=False, \n",
    "                            flip_vert=False, \n",
    "                            max_rotate=6, \n",
    "                            max_zoom=1.2, \n",
    "                            max_lighting=None, \n",
    "                            max_warp=0.2, \n",
    "                            p_affine=0.2, \n",
    "                            p_lighting=0)\n",
    "\n",
    "\n",
    "image_path = root_path /\"images\"\n",
    "all_image_paths = list(image_path.glob('*.png'))\n",
    "\n",
    "\n",
    "def generate_augmented(qty):\n",
    "    for f in all_image_paths:\n",
    "        image = open_image(f)\n",
    "        for i in range(0,qty):\n",
    "            image_fast = image.apply_tfms(tfms[0])\n",
    "            save_name = str(save_fast) + '/' + f.stem + '99' + str(i) + f.suffix\n",
    "            print(save_name)\n",
    "            image_fast.save(save_name)\n",
    "\n",
    "#generate 10 variations of each image\n",
    "#generate_augmented(10)"
   ]
  },
  {
   "cell_type": "code",
   "execution_count": null,
   "metadata": {},
   "outputs": [],
   "source": []
  }
 ],
 "metadata": {
  "kernelspec": {
   "display_name": "Python 3",
   "language": "python",
   "name": "python3"
  },
  "language_info": {
   "codemirror_mode": {
    "name": "ipython",
    "version": 3
   },
   "file_extension": ".py",
   "mimetype": "text/x-python",
   "name": "python",
   "nbconvert_exporter": "python",
   "pygments_lexer": "ipython3",
   "version": "3.7.1"
  }
 },
 "nbformat": 4,
 "nbformat_minor": 2
}
