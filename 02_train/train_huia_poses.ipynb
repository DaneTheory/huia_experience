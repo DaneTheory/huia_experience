{
 "cells": [
  {
   "cell_type": "markdown",
   "metadata": {},
   "source": [
    "# 02 Huia Experience Training"
   ]
  },
  {
   "cell_type": "markdown",
   "metadata": {},
   "source": [
    "### Reference\n",
    "https://www.tensorflow.org/alpha/tutorials/load_data/images"
   ]
  },
  {
   "cell_type": "markdown",
   "metadata": {},
   "source": [
    "## TODOS\n",
    "- not using variable learning rates => keras extension --- \n",
    "- LRFinder\n",
    "- interpret layers visually\n",
    "- tensorboard convergence"
   ]
  },
  {
   "cell_type": "markdown",
   "metadata": {},
   "source": [
    "# Setup \n",
    "## Install Tensorflow 2 Nightly"
   ]
  },
  {
   "cell_type": "code",
   "execution_count": 1,
   "metadata": {},
   "outputs": [
    {
     "name": "stdout",
     "output_type": "stream",
     "text": [
      "tensorflow-addons==0.2.0.dev0\r\n",
      "tensorflow-estimator-2.0-preview==1.14.0.dev2019042513\r\n",
      "tensorflow-gpu==2.0.0a0\r\n",
      "tensorflow-hub==0.3.0\r\n",
      "tensorflowjs==1.0.1\r\n"
     ]
    }
   ],
   "source": [
    "#!pip install --upgrade --force-reinstall tf-nightly-gpu-2.0-preview\n",
    "#!pip install tfa-nightly\n",
    "#!pip install tensorflow-addons\n",
    "!pip freeze | grep tensor"
   ]
  },
  {
   "cell_type": "code",
   "execution_count": 2,
   "metadata": {},
   "outputs": [],
   "source": [
    "%reload_ext autoreload\n",
    "%autoreload 2\n",
    "%matplotlib inline"
   ]
  },
  {
   "cell_type": "code",
   "execution_count": 3,
   "metadata": {},
   "outputs": [],
   "source": [
    "from __future__ import absolute_import\n",
    "from __future__ import division\n",
    "from __future__ import print_function"
   ]
  },
  {
   "cell_type": "code",
   "execution_count": 4,
   "metadata": {},
   "outputs": [],
   "source": [
    "import tensorflow as tf\n",
    "from tensorflow import keras\n",
    "import tensorflow_addons as tfa\n",
    "import pathlib\n",
    "from pathlib import Path\n",
    "import tensorboard as tb\n",
    "\n",
    "# enable logging to make sure we are running on the GPU\n",
    "#tf.debugging.set_log_device_placement(True)"
   ]
  },
  {
   "cell_type": "code",
   "execution_count": 5,
   "metadata": {},
   "outputs": [
    {
     "name": "stdout",
     "output_type": "stream",
     "text": [
      "2.0.0-dev20190425\n"
     ]
    }
   ],
   "source": [
    "# clear any active session\n",
    "tf.keras.backend.clear_session()\n",
    "\n",
    "AUTOTUNE = tf.data.experimental.AUTOTUNE\n",
    "print(tf.__version__)\n",
    "# print(tfa.__version__)"
   ]
  },
  {
   "cell_type": "markdown",
   "metadata": {},
   "source": [
    "# Data\n",
    "We have to understand well our data as this is fundamental to achieve good results."
   ]
  },
  {
   "cell_type": "code",
   "execution_count": 6,
   "metadata": {},
   "outputs": [
    {
     "data": {
      "text/plain": [
       "(PosixPath('training_data/images'), PosixPath('training_data/json'))"
      ]
     },
     "execution_count": 6,
     "metadata": {},
     "output_type": "execute_result"
    }
   ],
   "source": [
    "root_path = pathlib.Path(\"./training_data/\")\n",
    "image_path = root_path /\"images\"\n",
    "json_path = root_path /\"json\"\n",
    "image_path,json_path"
   ]
  },
  {
   "cell_type": "code",
   "execution_count": 7,
   "metadata": {},
   "outputs": [],
   "source": [
    "from matplotlib.image import imread\n",
    "import numpy as np\n",
    "import os\n",
    "\n",
    "# open images and delete if they are empty\n",
    "def remove_empty_imgs(imgpath):\n",
    "    for item in imgpath.iterdir():\n",
    "        im = imread(str(item), format='png')\n",
    "        if np.count_nonzero(im)==0: \n",
    "            print(item,np.count_nonzero(im))\n",
    "            os.remove(str(item))\n",
    "            \n",
    "#remove_empty_imgs(image_path)"
   ]
  },
  {
   "cell_type": "code",
   "execution_count": 8,
   "metadata": {},
   "outputs": [],
   "source": [
    "# lets set the random seed so we can reproduce our results\n",
    "import random\n",
    "random.seed(7)\n",
    "\n",
    "# get filenames from directories\n",
    "all_image_paths = list(image_path.glob('*.png'))\n",
    "all_json_paths = list(json_path.glob('*.json'))\n",
    "\n",
    "all_image_paths = [str(path) for path in all_image_paths] # convert to strings\n",
    "random.shuffle(all_image_paths) # randomize"
   ]
  },
  {
   "cell_type": "code",
   "execution_count": 9,
   "metadata": {},
   "outputs": [
    {
     "data": {
      "text/plain": [
       "(328, 283)"
      ]
     },
     "execution_count": 9,
     "metadata": {},
     "output_type": "execute_result"
    }
   ],
   "source": [
    "len(all_image_paths), len(all_json_paths)"
   ]
  },
  {
   "cell_type": "code",
   "execution_count": 10,
   "metadata": {},
   "outputs": [],
   "source": [
    "# since we might delete unwanted images, this will also delete the json files\n",
    "# sync json & images \n",
    "\n",
    "def sync_json_images(json_paths, img_path):\n",
    "    for json in json_paths:\n",
    "        #print(json.stem, end=\" \")\n",
    "        img = img_path/f\"{json.stem}.png\"\n",
    "        if not Path(img).exists():\n",
    "            print(f\"{img} doesn't exist, deleting {json}\")\n",
    "            Path(json).unlink()\n",
    "        \n",
    "sync_json_images(all_json_paths, image_path)\n"
   ]
  },
  {
   "cell_type": "code",
   "execution_count": 11,
   "metadata": {},
   "outputs": [
    {
     "data": {
      "text/plain": [
       "['training_data/images/hadouken_262.png',\n",
       " 'training_data/images/normal_17.png',\n",
       " 'training_data/images/normal_403.png',\n",
       " 'training_data/images/dramatic_556.png',\n",
       " 'training_data/images/underarm_247.png',\n",
       " 'training_data/images/fly_447.png',\n",
       " 'training_data/images/moonwalk_894.png',\n",
       " 'training_data/images/hadouken_979.png',\n",
       " 'training_data/images/fly_48.png',\n",
       " 'training_data/images/normal_803.png',\n",
       " 'training_data/images/normal_6.png',\n",
       " 'training_data/images/moonwalk_250.png',\n",
       " 'training_data/images/wings_22.png',\n",
       " 'training_data/images/hadouken_494.png',\n",
       " 'training_data/images/hadouken_970.png',\n",
       " 'training_data/images/fly_450.png',\n",
       " 'training_data/images/moonwalk_882.png',\n",
       " 'training_data/images/underarm_871.png',\n",
       " 'training_data/images/moonwalk_87.png',\n",
       " 'training_data/images/normal_5.png']"
      ]
     },
     "execution_count": 11,
     "metadata": {},
     "output_type": "execute_result"
    }
   ],
   "source": [
    "all_image_paths[:20] "
   ]
  },
  {
   "cell_type": "code",
   "execution_count": 12,
   "metadata": {},
   "outputs": [
    {
     "data": {
      "text/plain": [
       "['hadouken',\n",
       " 'normal',\n",
       " 'normal',\n",
       " 'dramatic',\n",
       " 'underarm',\n",
       " 'fly',\n",
       " 'moonwalk',\n",
       " 'hadouken',\n",
       " 'fly',\n",
       " 'normal',\n",
       " 'normal',\n",
       " 'moonwalk',\n",
       " 'wings',\n",
       " 'hadouken',\n",
       " 'hadouken',\n",
       " 'fly',\n",
       " 'moonwalk',\n",
       " 'underarm',\n",
       " 'moonwalk',\n",
       " 'normal',\n",
       " 'wings',\n",
       " 'fly',\n",
       " 'fly',\n",
       " 'dramatic',\n",
       " 'hadouken',\n",
       " 'backpack',\n",
       " 'dramatic',\n",
       " 'dramatic',\n",
       " 'wings',\n",
       " 'backpack',\n",
       " 'fly',\n",
       " 'moonwalk',\n",
       " 'normal',\n",
       " 'underarm',\n",
       " 'hadouken',\n",
       " 'wings',\n",
       " 'underarm',\n",
       " 'fly',\n",
       " 'moonwalk',\n",
       " 'underarm',\n",
       " 'normal',\n",
       " 'fly',\n",
       " 'hadouken',\n",
       " 'fly',\n",
       " 'backpack',\n",
       " 'underarm',\n",
       " 'wings',\n",
       " 'moonwalk',\n",
       " 'moonwalk',\n",
       " 'underarm',\n",
       " 'wings',\n",
       " 'fly',\n",
       " 'normal',\n",
       " 'wings',\n",
       " 'moonwalk',\n",
       " 'fly',\n",
       " 'moonwalk',\n",
       " 'normal',\n",
       " 'normal',\n",
       " 'underarm',\n",
       " 'hadouken',\n",
       " 'backpack',\n",
       " 'underarm',\n",
       " 'fly',\n",
       " 'fly',\n",
       " 'wings',\n",
       " 'hadouken',\n",
       " 'fly',\n",
       " 'dramatic',\n",
       " 'dramatic',\n",
       " 'fly',\n",
       " 'fly',\n",
       " 'underarm',\n",
       " 'hadouken',\n",
       " 'dramatic',\n",
       " 'hadouken',\n",
       " 'underarm',\n",
       " 'normal',\n",
       " 'backpack',\n",
       " 'hadouken',\n",
       " 'fly',\n",
       " 'fly',\n",
       " 'dramatic',\n",
       " 'wings',\n",
       " 'normal',\n",
       " 'normal',\n",
       " 'normal',\n",
       " 'normal',\n",
       " 'hadouken',\n",
       " 'underarm',\n",
       " 'wings',\n",
       " 'underarm',\n",
       " 'fly',\n",
       " 'wings',\n",
       " 'moonwalk',\n",
       " 'normal',\n",
       " 'normal',\n",
       " 'backpack',\n",
       " 'wings',\n",
       " 'fly',\n",
       " 'dramatic',\n",
       " 'dramatic',\n",
       " 'fly',\n",
       " 'normal',\n",
       " 'fly',\n",
       " 'dramatic',\n",
       " 'moonwalk',\n",
       " 'fly',\n",
       " 'backpack',\n",
       " 'normal',\n",
       " 'backpack',\n",
       " 'fly',\n",
       " 'hadouken',\n",
       " 'moonwalk',\n",
       " 'normal',\n",
       " 'fly',\n",
       " 'wings',\n",
       " 'dramatic',\n",
       " 'hadouken',\n",
       " 'hadouken',\n",
       " 'fly',\n",
       " 'moonwalk',\n",
       " 'backpack',\n",
       " 'underarm',\n",
       " 'moonwalk',\n",
       " 'normal',\n",
       " 'fly',\n",
       " 'hadouken',\n",
       " 'dramatic',\n",
       " 'wings',\n",
       " 'wings',\n",
       " 'fly',\n",
       " 'fly',\n",
       " 'normal',\n",
       " 'moonwalk',\n",
       " 'dramatic',\n",
       " 'dramatic',\n",
       " 'normal',\n",
       " 'normal',\n",
       " 'normal',\n",
       " 'moonwalk',\n",
       " 'underarm',\n",
       " 'backpack',\n",
       " 'normal',\n",
       " 'dramatic',\n",
       " 'underarm',\n",
       " 'dramatic',\n",
       " 'fly',\n",
       " 'hadouken',\n",
       " 'wings',\n",
       " 'fly',\n",
       " 'normal',\n",
       " 'fly',\n",
       " 'normal',\n",
       " 'underarm',\n",
       " 'hadouken',\n",
       " 'hadouken',\n",
       " 'underarm',\n",
       " 'hadouken',\n",
       " 'dramatic',\n",
       " 'backpack',\n",
       " 'normal',\n",
       " 'hadouken',\n",
       " 'dramatic',\n",
       " 'hadouken',\n",
       " 'hadouken',\n",
       " 'wings',\n",
       " 'wings',\n",
       " 'wings',\n",
       " 'wings',\n",
       " 'normal',\n",
       " 'hadouken',\n",
       " 'fly',\n",
       " 'fly',\n",
       " 'fly',\n",
       " 'wings',\n",
       " 'fly',\n",
       " 'underarm',\n",
       " 'moonwalk',\n",
       " 'normal',\n",
       " 'normal',\n",
       " 'underarm',\n",
       " 'fly',\n",
       " 'dramatic',\n",
       " 'moonwalk',\n",
       " 'dramatic',\n",
       " 'dramatic',\n",
       " 'wings',\n",
       " 'normal',\n",
       " 'hadouken',\n",
       " 'normal',\n",
       " 'dramatic',\n",
       " 'underarm',\n",
       " 'moonwalk',\n",
       " 'moonwalk',\n",
       " 'normal',\n",
       " 'hadouken',\n",
       " 'hadouken',\n",
       " 'wings',\n",
       " 'hadouken',\n",
       " 'fly',\n",
       " 'moonwalk',\n",
       " 'normal',\n",
       " 'underarm',\n",
       " 'normal',\n",
       " 'wings',\n",
       " 'fly',\n",
       " 'normal',\n",
       " 'backpack',\n",
       " 'hadouken',\n",
       " 'dramatic',\n",
       " 'dramatic',\n",
       " 'underarm',\n",
       " 'fly',\n",
       " 'dramatic',\n",
       " 'hadouken',\n",
       " 'dramatic',\n",
       " 'normal',\n",
       " 'moonwalk',\n",
       " 'fly',\n",
       " 'underarm',\n",
       " 'fly',\n",
       " 'wings',\n",
       " 'backpack',\n",
       " 'fly',\n",
       " 'normal',\n",
       " 'fly',\n",
       " 'normal',\n",
       " 'hadouken',\n",
       " 'fly',\n",
       " 'wings',\n",
       " 'dramatic',\n",
       " 'normal',\n",
       " 'normal',\n",
       " 'hadouken',\n",
       " 'dramatic',\n",
       " 'fly',\n",
       " 'wings',\n",
       " 'dramatic',\n",
       " 'dramatic',\n",
       " 'moonwalk',\n",
       " 'wings',\n",
       " 'underarm',\n",
       " 'underarm',\n",
       " 'normal',\n",
       " 'fly',\n",
       " 'fly',\n",
       " 'normal',\n",
       " 'fly',\n",
       " 'fly',\n",
       " 'dramatic',\n",
       " 'wings',\n",
       " 'wings',\n",
       " 'wings',\n",
       " 'wings',\n",
       " 'backpack',\n",
       " 'dramatic',\n",
       " 'hadouken',\n",
       " 'wings',\n",
       " 'hadouken',\n",
       " 'underarm',\n",
       " 'dramatic',\n",
       " 'normal',\n",
       " 'wings',\n",
       " 'dramatic',\n",
       " 'underarm',\n",
       " 'dramatic',\n",
       " 'fly',\n",
       " 'dramatic',\n",
       " 'moonwalk',\n",
       " 'underarm',\n",
       " 'underarm',\n",
       " 'fly',\n",
       " 'moonwalk',\n",
       " 'wings',\n",
       " 'wings',\n",
       " 'backpack',\n",
       " 'wings',\n",
       " 'fly',\n",
       " 'dramatic',\n",
       " 'hadouken',\n",
       " 'underarm',\n",
       " 'hadouken',\n",
       " 'wings',\n",
       " 'backpack',\n",
       " 'dramatic',\n",
       " 'fly',\n",
       " 'fly',\n",
       " 'moonwalk',\n",
       " 'fly',\n",
       " 'normal',\n",
       " 'underarm',\n",
       " 'moonwalk',\n",
       " 'underarm',\n",
       " 'normal',\n",
       " 'hadouken',\n",
       " 'fly',\n",
       " 'fly',\n",
       " 'underarm',\n",
       " 'moonwalk',\n",
       " 'wings',\n",
       " 'normal',\n",
       " 'normal',\n",
       " 'hadouken',\n",
       " 'fly',\n",
       " 'fly',\n",
       " 'dramatic',\n",
       " 'underarm',\n",
       " 'hadouken',\n",
       " 'normal',\n",
       " 'fly',\n",
       " 'dramatic',\n",
       " 'fly',\n",
       " 'hadouken',\n",
       " 'backpack',\n",
       " 'backpack',\n",
       " 'dramatic',\n",
       " 'hadouken',\n",
       " 'underarm',\n",
       " 'dramatic',\n",
       " 'normal',\n",
       " 'normal',\n",
       " 'underarm',\n",
       " 'normal',\n",
       " 'fly',\n",
       " 'hadouken',\n",
       " 'fly',\n",
       " 'underarm']"
      ]
     },
     "execution_count": 12,
     "metadata": {},
     "output_type": "execute_result"
    }
   ],
   "source": [
    "import re\n",
    "# extract categories for classification\n",
    "pat = r'/([^/]+)_\\d+.png$'\n",
    "all_image_labels = [str(re.search(pat,str(image)).group(1)).lower() for image in all_image_paths]\n",
    "all_image_labels"
   ]
  },
  {
   "cell_type": "code",
   "execution_count": 13,
   "metadata": {},
   "outputs": [
    {
     "data": {
      "image/png": "[encoded data removed]",
      "text/plain": [
       "<IPython.core.display.Image object>"
      ]
     },
     "metadata": {},
     "output_type": "display_data"
    },
    {
     "name": "stdout",
     "output_type": "stream",
     "text": [
      "file: training_data/images/backpack_106.png\n"
     ]
    },
    {
     "data": {
      "image/png": "[encoded data removed]",
      "text/plain": [
       "<IPython.core.display.Image object>"
      ]
     },
     "metadata": {},
     "output_type": "display_data"
    },
    {
     "name": "stdout",
     "output_type": "stream",
     "text": [
      "file: training_data/images/hadouken_970.png\n"
     ]
    },
    {
     "data": {
      "image/png": "[encoded data removed]",
      "text/plain": [
       "<IPython.core.display.Image object>"
      ]
     },
     "metadata": {},
     "output_type": "display_data"
    },
    {
     "name": "stdout",
     "output_type": "stream",
     "text": [
      "file: training_data/images/dramatic_293.png\n"
     ]
    }
   ],
   "source": [
    "import IPython.display as display\n",
    "import math\n",
    "import matplotlib.pyplot as plt\n",
    "\n",
    "# lets check our images to see what they look like\n",
    "for n in range(3):  \n",
    "    image = random.choice(all_image_paths)\n",
    "    display.display(display.Image(str(image)))\n",
    "    print(f\"file: {image}\")\n"
   ]
  },
  {
   "cell_type": "code",
   "execution_count": 14,
   "metadata": {},
   "outputs": [
    {
     "data": {
      "text/plain": [
       "['backpack',\n",
       " 'dramatic',\n",
       " 'fly',\n",
       " 'hadouken',\n",
       " 'moonwalk',\n",
       " 'normal',\n",
       " 'underarm',\n",
       " 'wings']"
      ]
     },
     "execution_count": 14,
     "metadata": {},
     "output_type": "execute_result"
    }
   ],
   "source": [
    "# get unique classes\n",
    "huia_person=[]\n",
    "for label in all_image_labels:\n",
    "    if label not in huia_person:\n",
    "        huia_person.append(label)\n",
    "huia_person = sorted(huia_person) # sort label list\n",
    "huia_person"
   ]
  },
  {
   "cell_type": "code",
   "execution_count": 15,
   "metadata": {},
   "outputs": [
    {
     "data": {
      "text/plain": [
       "{'backpack': 0,\n",
       " 'dramatic': 1,\n",
       " 'fly': 2,\n",
       " 'hadouken': 3,\n",
       " 'moonwalk': 4,\n",
       " 'normal': 5,\n",
       " 'underarm': 6,\n",
       " 'wings': 7}"
      ]
     },
     "execution_count": 15,
     "metadata": {},
     "output_type": "execute_result"
    }
   ],
   "source": [
    "label_to_index = dict((name, index) for index,name in enumerate(huia_person))\n",
    "label_to_index"
   ]
  },
  {
   "cell_type": "code",
   "execution_count": 16,
   "metadata": {},
   "outputs": [
    {
     "name": "stdout",
     "output_type": "stream",
     "text": [
      "POSE_CLASSES = {\n",
      "0: 'backpack',\n",
      "1: 'dramatic',\n",
      "2: 'fly',\n",
      "3: 'hadouken',\n",
      "4: 'moonwalk',\n",
      "5: 'normal',\n",
      "6: 'underarm',\n",
      "7: 'wings',\n",
      "}\n"
     ]
    }
   ],
   "source": [
    "# lets format it, so we can copy and paste the dict into javascript :-)\n",
    "print(\"POSE_CLASSES = {\")\n",
    "for index,name in enumerate(huia_person):\n",
    "    print(str(index)+\": '\"+name+\"',\")\n",
    "print(\"}\")"
   ]
  },
  {
   "cell_type": "code",
   "execution_count": 17,
   "metadata": {},
   "outputs": [
    {
     "name": "stdout",
     "output_type": "stream",
     "text": [
      "(500, 640, 4)\n",
      "<dtype: 'uint8'>\n"
     ]
    },
    {
     "data": {
      "text/plain": [
       "<matplotlib.image.AxesImage at 0x7f417c201e10>"
      ]
     },
     "execution_count": 17,
     "metadata": {},
     "output_type": "execute_result"
    },
    {
     "data": {
      "image/png": "[encoded data removed]",
      "text/plain": [
       "<Figure size 432x288 with 1 Axes>"
      ]
     },
     "metadata": {
      "needs_background": "light"
     },
     "output_type": "display_data"
    }
   ],
   "source": [
    "# load data into tf data\n",
    "img_raw = tf.io.read_file(all_image_paths[1])\n",
    "img_tensor = tf.image.decode_image(img_raw)\n",
    "print(img_tensor.shape)\n",
    "print(img_tensor.dtype)\n",
    "plt.imshow(img_tensor)"
   ]
  },
  {
   "cell_type": "code",
   "execution_count": 18,
   "metadata": {},
   "outputs": [],
   "source": [
    "from random import randint\n",
    "\n",
    "# resize + normalize + data augmentation\n",
    "def preprocess_image(image):\n",
    "    # resize\n",
    "    image = tf.image.decode_png(image, channels=3)\n",
    "    image = tf.image.resize(image, [224, 224])\n",
    "    #random crop    \n",
    "    # tf.image.random_crop(image,[224,224,3],7)\n",
    "    # random rotate\n",
    "    degree_angle = random.randint(-2,2)\n",
    "    radian = degree_angle * math.pi / 180\n",
    "    image = tfa.image.rotate(image,radian) #,interpolation='BILINEAR')\n",
    "    # normalize\n",
    "    offset = 127.5;\n",
    "    image = (image-offset)/offset  # convert to -1 : 1    \n",
    "    return image\n",
    "\n",
    "def load_and_preprocess_image(path):\n",
    "  image = tf.io.read_file(path)\n",
    "  return preprocess_image(image)\n",
    "\n",
    "#def train_preproccess(image,label):\n",
    "    #image = tf.image.random_crop(image,[224,224,3])\n",
    "    #image = tf.image.random_flip_left_right(image)\n",
    "    #image = tf.keras.preprocessing.image.random_rotation(image,15)\n",
    "    #image = tf.keras.preprocessing.image.random_zoom(image, 20)"
   ]
  },
  {
   "cell_type": "code",
   "execution_count": 19,
   "metadata": {},
   "outputs": [
    {
     "data": {
      "text/plain": [
       "<TensorSliceDataset shapes: (), types: tf.string>"
      ]
     },
     "execution_count": 19,
     "metadata": {},
     "output_type": "execute_result"
    }
   ],
   "source": [
    "path_ds = tf.data.Dataset.from_tensor_slices(all_image_paths)\n",
    "path_ds"
   ]
  },
  {
   "cell_type": "code",
   "execution_count": 20,
   "metadata": {},
   "outputs": [
    {
     "name": "stderr",
     "output_type": "stream",
     "text": [
      "WARNING: Logging before flag parsing goes to stderr.\n",
      "W0501 16:08:20.791576 139921700771648 tf_logging.py:161] Entity <function image_projective_transform_v2 at 0x7f41894ef2f0> could not be transformed and will be executed as-is. Some features (e.g. tensor-dependent conditionals and loops) may not work as expected. Error details can be found in the logs when running with the env variable AUTOGRAPH_VERBOSITY >= 1. Please report this to the AutoGraph team. Cause: Unexpected error transforming <function image_projective_transform_v2 at 0x7f41894ef2f0>. If you believe this is due to a bug, please set the verbosity to 10 (on Linux, `export AUTOGRAPH_VERBOSITY=10`) and attach the full output when filing the bug report. Caused by: Unable to locate the source code of <function image_projective_transform_v2 at 0x7f41894ef2f0>. Note that functions defined in certain environments, like the interactive Python shell do not expose their source code. If that is the case, you should to define them in a .py source file. If you are certain the code is graph-compatible, wrap the call using @tf.autograph.do_not_convert. Original error: could not get source code\n"
     ]
    },
    {
     "name": "stdout",
     "output_type": "stream",
     "text": [
      "WARNING: Entity <function image_projective_transform_v2 at 0x7f41894ef2f0> could not be transformed and will be executed as-is. Some features (e.g. tensor-dependent conditionals and loops) may not work as expected. Error details can be found in the logs when running with the env variable AUTOGRAPH_VERBOSITY >= 1. Please report this to the AutoGraph team. Cause: Unexpected error transforming <function image_projective_transform_v2 at 0x7f41894ef2f0>. If you believe this is due to a bug, please set the verbosity to 10 (on Linux, `export AUTOGRAPH_VERBOSITY=10`) and attach the full output when filing the bug report. Caused by: Unable to locate the source code of <function image_projective_transform_v2 at 0x7f41894ef2f0>. Note that functions defined in certain environments, like the interactive Python shell do not expose their source code. If that is the case, you should to define them in a .py source file. If you are certain the code is graph-compatible, wrap the call using @tf.autograph.do_not_convert. Original error: could not get source code\n"
     ]
    },
    {
     "data": {
      "text/plain": [
       "<ParallelMapDataset shapes: (224, 224, 3), types: tf.float32>"
      ]
     },
     "execution_count": 20,
     "metadata": {},
     "output_type": "execute_result"
    }
   ],
   "source": [
    "image_ds = path_ds.map(load_and_preprocess_image,num_parallel_calls = AUTOTUNE)\n",
    "image_ds"
   ]
  },
  {
   "cell_type": "code",
   "execution_count": 21,
   "metadata": {},
   "outputs": [
    {
     "name": "stderr",
     "output_type": "stream",
     "text": [
      "W0501 16:08:20.931084 139921700771648 image.py:648] Clipping input data to the valid range for imshow with RGB data ([0..1] for floats or [0..255] for integers).\n"
     ]
    },
    {
     "data": {
      "image/png": "[encoded data removed]",
      "text/plain": [
       "<Figure size 432x288 with 1 Axes>"
      ]
     },
     "metadata": {
      "needs_background": "light"
     },
     "output_type": "display_data"
    }
   ],
   "source": [
    "#!pip install Pillow\n",
    "import matplotlib.pyplot as plt\n",
    "from PIL import Image\n",
    "\n",
    "\n",
    "## rotate images\n",
    "# https://stackoverflow.com/questions/53273226/how-to-rotate-images-at-different-angles-randomly-in-tensorflow\n",
    "\n",
    "for image in image_ds:\n",
    "    #print(image)\n",
    "    #print(type(image))\n",
    "    #print(image.shape)\n",
    "    #print(image.numpy().max())\n",
    "    #im = image.numpy()\n",
    "    #im=im[:,:,0]\n",
    "    #print(im.shape)\n",
    "    #im = Image.fromarray(image.numpy(), 'RGB')\n",
    "    #im = tf.image.encode_png(im)\n",
    "    #im = tf.image.convert_image_dtype(image,tf.float32)\n",
    "    #print(im.max())\n",
    "    #display.display(display.Image(image))\n",
    "    #im.show()\n",
    "    plt.imshow(image)\n",
    "    break"
   ]
  },
  {
   "cell_type": "code",
   "execution_count": 22,
   "metadata": {},
   "outputs": [],
   "source": [
    "all_image_labels_idx = [label_to_index[label] for label in all_image_labels]\n",
    "label_ds = tf.data.Dataset.from_tensor_slices(tf.cast(all_image_labels_idx, tf.int64))"
   ]
  },
  {
   "cell_type": "code",
   "execution_count": 23,
   "metadata": {},
   "outputs": [
    {
     "data": {
      "text/plain": [
       "tensorflow.python.data.ops.dataset_ops.ZipDataset"
      ]
     },
     "execution_count": 23,
     "metadata": {},
     "output_type": "execute_result"
    }
   ],
   "source": [
    "image_label_ds = tf.data.Dataset.zip((image_ds, label_ds))\n",
    "image_label_ds\n",
    "image_count = len(all_image_labels)\n",
    "\n",
    "type(image_label_ds)"
   ]
  },
  {
   "cell_type": "code",
   "execution_count": 24,
   "metadata": {},
   "outputs": [
    {
     "name": "stderr",
     "output_type": "stream",
     "text": [
      "W0501 16:08:21.895557 139921700771648 deprecation.py:323] From <ipython-input-24-397004553403>:4: shuffle_and_repeat (from tensorflow.python.data.experimental.ops.shuffle_ops) is deprecated and will be removed in a future version.\n",
      "Instructions for updating:\n",
      "Use `tf.data.Dataset.shuffle(buffer_size, seed)` followed by `tf.data.Dataset.repeat(count)`. Static tf.data optimizations will take care of using the fused implementation.\n"
     ]
    },
    {
     "data": {
      "text/plain": [
       "<PrefetchDataset shapes: ((None, 224, 224, 3), (None,)), types: (tf.float32, tf.int64)>"
      ]
     },
     "execution_count": 24,
     "metadata": {},
     "output_type": "execute_result"
    }
   ],
   "source": [
    "BATCH_SIZE = 32\n",
    "\n",
    "ds = image_label_ds.cache()\n",
    "ds = ds.apply(tf.data.experimental.shuffle_and_repeat(buffer_size=image_count))\n",
    "#ds = tf.data.Dataset.shuffle(image_count, 7)\n",
    "#ds = tf.data.Dataset.repeat(image_count)\n",
    "ds = ds.batch(BATCH_SIZE).prefetch(buffer_size=AUTOTUNE)\n",
    "ds"
   ]
  },
  {
   "cell_type": "code",
   "execution_count": 25,
   "metadata": {},
   "outputs": [
    {
     "name": "stdout",
     "output_type": "stream",
     "text": [
      "Model: \"mobilenetv2_1.00_224\"\n",
      "__________________________________________________________________________________________________\n",
      "Layer (type)                    Output Shape         Param #     Connected to                     \n",
      "==================================================================================================\n",
      "input_1 (InputLayer)            [(None, 224, 224, 3) 0                                            \n",
      "__________________________________________________________________________________________________\n",
      "Conv1_pad (ZeroPadding2D)       (None, 225, 225, 3)  0           input_1[0][0]                    \n",
      "__________________________________________________________________________________________________\n",
      "Conv1 (Conv2D)                  (None, 112, 112, 32) 864         Conv1_pad[0][0]                  \n",
      "__________________________________________________________________________________________________\n",
      "bn_Conv1 (BatchNormalization)   (None, 112, 112, 32) 128         Conv1[0][0]                      \n",
      "__________________________________________________________________________________________________\n",
      "Conv1_relu (ReLU)               (None, 112, 112, 32) 0           bn_Conv1[0][0]                   \n",
      "__________________________________________________________________________________________________\n",
      "expanded_conv_depthwise (Depthw (None, 112, 112, 32) 288         Conv1_relu[0][0]                 \n",
      "__________________________________________________________________________________________________\n",
      "expanded_conv_depthwise_BN (Bat (None, 112, 112, 32) 128         expanded_conv_depthwise[0][0]    \n",
      "__________________________________________________________________________________________________\n",
      "expanded_conv_depthwise_relu (R (None, 112, 112, 32) 0           expanded_conv_depthwise_BN[0][0] \n",
      "__________________________________________________________________________________________________\n",
      "expanded_conv_project (Conv2D)  (None, 112, 112, 16) 512         expanded_conv_depthwise_relu[0][0\n",
      "__________________________________________________________________________________________________\n",
      "expanded_conv_project_BN (Batch (None, 112, 112, 16) 64          expanded_conv_project[0][0]      \n",
      "__________________________________________________________________________________________________\n",
      "block_1_expand (Conv2D)         (None, 112, 112, 96) 1536        expanded_conv_project_BN[0][0]   \n",
      "__________________________________________________________________________________________________\n",
      "block_1_expand_BN (BatchNormali (None, 112, 112, 96) 384         block_1_expand[0][0]             \n",
      "__________________________________________________________________________________________________\n",
      "block_1_expand_relu (ReLU)      (None, 112, 112, 96) 0           block_1_expand_BN[0][0]          \n",
      "__________________________________________________________________________________________________\n",
      "block_1_pad (ZeroPadding2D)     (None, 113, 113, 96) 0           block_1_expand_relu[0][0]        \n",
      "__________________________________________________________________________________________________\n",
      "block_1_depthwise (DepthwiseCon (None, 56, 56, 96)   864         block_1_pad[0][0]                \n",
      "__________________________________________________________________________________________________\n",
      "block_1_depthwise_BN (BatchNorm (None, 56, 56, 96)   384         block_1_depthwise[0][0]          \n",
      "__________________________________________________________________________________________________\n",
      "block_1_depthwise_relu (ReLU)   (None, 56, 56, 96)   0           block_1_depthwise_BN[0][0]       \n",
      "__________________________________________________________________________________________________\n",
      "block_1_project (Conv2D)        (None, 56, 56, 24)   2304        block_1_depthwise_relu[0][0]     \n",
      "__________________________________________________________________________________________________\n",
      "block_1_project_BN (BatchNormal (None, 56, 56, 24)   96          block_1_project[0][0]            \n",
      "__________________________________________________________________________________________________\n",
      "block_2_expand (Conv2D)         (None, 56, 56, 144)  3456        block_1_project_BN[0][0]         \n",
      "__________________________________________________________________________________________________\n",
      "block_2_expand_BN (BatchNormali (None, 56, 56, 144)  576         block_2_expand[0][0]             \n",
      "__________________________________________________________________________________________________\n",
      "block_2_expand_relu (ReLU)      (None, 56, 56, 144)  0           block_2_expand_BN[0][0]          \n",
      "__________________________________________________________________________________________________\n",
      "block_2_depthwise (DepthwiseCon (None, 56, 56, 144)  1296        block_2_expand_relu[0][0]        \n",
      "__________________________________________________________________________________________________\n",
      "block_2_depthwise_BN (BatchNorm (None, 56, 56, 144)  576         block_2_depthwise[0][0]          \n",
      "__________________________________________________________________________________________________\n",
      "block_2_depthwise_relu (ReLU)   (None, 56, 56, 144)  0           block_2_depthwise_BN[0][0]       \n",
      "__________________________________________________________________________________________________\n",
      "block_2_project (Conv2D)        (None, 56, 56, 24)   3456        block_2_depthwise_relu[0][0]     \n",
      "__________________________________________________________________________________________________\n",
      "block_2_project_BN (BatchNormal (None, 56, 56, 24)   96          block_2_project[0][0]            \n",
      "__________________________________________________________________________________________________\n",
      "block_2_add (Add)               (None, 56, 56, 24)   0           block_1_project_BN[0][0]         \n",
      "                                                                 block_2_project_BN[0][0]         \n",
      "__________________________________________________________________________________________________\n",
      "block_3_expand (Conv2D)         (None, 56, 56, 144)  3456        block_2_add[0][0]                \n",
      "__________________________________________________________________________________________________\n",
      "block_3_expand_BN (BatchNormali (None, 56, 56, 144)  576         block_3_expand[0][0]             \n",
      "__________________________________________________________________________________________________\n",
      "block_3_expand_relu (ReLU)      (None, 56, 56, 144)  0           block_3_expand_BN[0][0]          \n",
      "__________________________________________________________________________________________________\n",
      "block_3_pad (ZeroPadding2D)     (None, 57, 57, 144)  0           block_3_expand_relu[0][0]        \n",
      "__________________________________________________________________________________________________\n",
      "block_3_depthwise (DepthwiseCon (None, 28, 28, 144)  1296        block_3_pad[0][0]                \n",
      "__________________________________________________________________________________________________\n",
      "block_3_depthwise_BN (BatchNorm (None, 28, 28, 144)  576         block_3_depthwise[0][0]          \n",
      "__________________________________________________________________________________________________\n",
      "block_3_depthwise_relu (ReLU)   (None, 28, 28, 144)  0           block_3_depthwise_BN[0][0]       \n",
      "__________________________________________________________________________________________________\n",
      "block_3_project (Conv2D)        (None, 28, 28, 32)   4608        block_3_depthwise_relu[0][0]     \n",
      "__________________________________________________________________________________________________\n",
      "block_3_project_BN (BatchNormal (None, 28, 28, 32)   128         block_3_project[0][0]            \n",
      "__________________________________________________________________________________________________\n",
      "block_4_expand (Conv2D)         (None, 28, 28, 192)  6144        block_3_project_BN[0][0]         \n",
      "__________________________________________________________________________________________________\n",
      "block_4_expand_BN (BatchNormali (None, 28, 28, 192)  768         block_4_expand[0][0]             \n",
      "__________________________________________________________________________________________________\n",
      "block_4_expand_relu (ReLU)      (None, 28, 28, 192)  0           block_4_expand_BN[0][0]          \n",
      "__________________________________________________________________________________________________\n",
      "block_4_depthwise (DepthwiseCon (None, 28, 28, 192)  1728        block_4_expand_relu[0][0]        \n",
      "__________________________________________________________________________________________________\n",
      "block_4_depthwise_BN (BatchNorm (None, 28, 28, 192)  768         block_4_depthwise[0][0]          \n",
      "__________________________________________________________________________________________________\n",
      "block_4_depthwise_relu (ReLU)   (None, 28, 28, 192)  0           block_4_depthwise_BN[0][0]       \n",
      "__________________________________________________________________________________________________\n",
      "block_4_project (Conv2D)        (None, 28, 28, 32)   6144        block_4_depthwise_relu[0][0]     \n",
      "__________________________________________________________________________________________________\n",
      "block_4_project_BN (BatchNormal (None, 28, 28, 32)   128         block_4_project[0][0]            \n",
      "__________________________________________________________________________________________________\n",
      "block_4_add (Add)               (None, 28, 28, 32)   0           block_3_project_BN[0][0]         \n",
      "                                                                 block_4_project_BN[0][0]         \n",
      "__________________________________________________________________________________________________\n",
      "block_5_expand (Conv2D)         (None, 28, 28, 192)  6144        block_4_add[0][0]                \n",
      "__________________________________________________________________________________________________\n",
      "block_5_expand_BN (BatchNormali (None, 28, 28, 192)  768         block_5_expand[0][0]             \n",
      "__________________________________________________________________________________________________\n",
      "block_5_expand_relu (ReLU)      (None, 28, 28, 192)  0           block_5_expand_BN[0][0]          \n",
      "__________________________________________________________________________________________________\n",
      "block_5_depthwise (DepthwiseCon (None, 28, 28, 192)  1728        block_5_expand_relu[0][0]        \n",
      "__________________________________________________________________________________________________\n",
      "block_5_depthwise_BN (BatchNorm (None, 28, 28, 192)  768         block_5_depthwise[0][0]          \n",
      "__________________________________________________________________________________________________\n",
      "block_5_depthwise_relu (ReLU)   (None, 28, 28, 192)  0           block_5_depthwise_BN[0][0]       \n",
      "__________________________________________________________________________________________________\n",
      "block_5_project (Conv2D)        (None, 28, 28, 32)   6144        block_5_depthwise_relu[0][0]     \n",
      "__________________________________________________________________________________________________\n",
      "block_5_project_BN (BatchNormal (None, 28, 28, 32)   128         block_5_project[0][0]            \n",
      "__________________________________________________________________________________________________\n",
      "block_5_add (Add)               (None, 28, 28, 32)   0           block_4_add[0][0]                \n",
      "                                                                 block_5_project_BN[0][0]         \n",
      "__________________________________________________________________________________________________\n",
      "block_6_expand (Conv2D)         (None, 28, 28, 192)  6144        block_5_add[0][0]                \n",
      "__________________________________________________________________________________________________\n",
      "block_6_expand_BN (BatchNormali (None, 28, 28, 192)  768         block_6_expand[0][0]             \n",
      "__________________________________________________________________________________________________\n",
      "block_6_expand_relu (ReLU)      (None, 28, 28, 192)  0           block_6_expand_BN[0][0]          \n",
      "__________________________________________________________________________________________________\n",
      "block_6_pad (ZeroPadding2D)     (None, 29, 29, 192)  0           block_6_expand_relu[0][0]        \n",
      "__________________________________________________________________________________________________\n",
      "block_6_depthwise (DepthwiseCon (None, 14, 14, 192)  1728        block_6_pad[0][0]                \n",
      "__________________________________________________________________________________________________\n",
      "block_6_depthwise_BN (BatchNorm (None, 14, 14, 192)  768         block_6_depthwise[0][0]          \n",
      "__________________________________________________________________________________________________\n",
      "block_6_depthwise_relu (ReLU)   (None, 14, 14, 192)  0           block_6_depthwise_BN[0][0]       \n",
      "__________________________________________________________________________________________________\n",
      "block_6_project (Conv2D)        (None, 14, 14, 64)   12288       block_6_depthwise_relu[0][0]     \n",
      "__________________________________________________________________________________________________\n",
      "block_6_project_BN (BatchNormal (None, 14, 14, 64)   256         block_6_project[0][0]            \n",
      "__________________________________________________________________________________________________\n",
      "block_7_expand (Conv2D)         (None, 14, 14, 384)  24576       block_6_project_BN[0][0]         \n",
      "__________________________________________________________________________________________________\n",
      "block_7_expand_BN (BatchNormali (None, 14, 14, 384)  1536        block_7_expand[0][0]             \n",
      "__________________________________________________________________________________________________\n",
      "block_7_expand_relu (ReLU)      (None, 14, 14, 384)  0           block_7_expand_BN[0][0]          \n",
      "__________________________________________________________________________________________________\n",
      "block_7_depthwise (DepthwiseCon (None, 14, 14, 384)  3456        block_7_expand_relu[0][0]        \n",
      "__________________________________________________________________________________________________\n",
      "block_7_depthwise_BN (BatchNorm (None, 14, 14, 384)  1536        block_7_depthwise[0][0]          \n",
      "__________________________________________________________________________________________________\n",
      "block_7_depthwise_relu (ReLU)   (None, 14, 14, 384)  0           block_7_depthwise_BN[0][0]       \n",
      "__________________________________________________________________________________________________\n",
      "block_7_project (Conv2D)        (None, 14, 14, 64)   24576       block_7_depthwise_relu[0][0]     \n",
      "__________________________________________________________________________________________________\n",
      "block_7_project_BN (BatchNormal (None, 14, 14, 64)   256         block_7_project[0][0]            \n",
      "__________________________________________________________________________________________________\n",
      "block_7_add (Add)               (None, 14, 14, 64)   0           block_6_project_BN[0][0]         \n",
      "                                                                 block_7_project_BN[0][0]         \n",
      "__________________________________________________________________________________________________\n",
      "block_8_expand (Conv2D)         (None, 14, 14, 384)  24576       block_7_add[0][0]                \n",
      "__________________________________________________________________________________________________\n",
      "block_8_expand_BN (BatchNormali (None, 14, 14, 384)  1536        block_8_expand[0][0]             \n",
      "__________________________________________________________________________________________________\n",
      "block_8_expand_relu (ReLU)      (None, 14, 14, 384)  0           block_8_expand_BN[0][0]          \n",
      "__________________________________________________________________________________________________\n",
      "block_8_depthwise (DepthwiseCon (None, 14, 14, 384)  3456        block_8_expand_relu[0][0]        \n",
      "__________________________________________________________________________________________________\n",
      "block_8_depthwise_BN (BatchNorm (None, 14, 14, 384)  1536        block_8_depthwise[0][0]          \n",
      "__________________________________________________________________________________________________\n",
      "block_8_depthwise_relu (ReLU)   (None, 14, 14, 384)  0           block_8_depthwise_BN[0][0]       \n",
      "__________________________________________________________________________________________________\n",
      "block_8_project (Conv2D)        (None, 14, 14, 64)   24576       block_8_depthwise_relu[0][0]     \n",
      "__________________________________________________________________________________________________\n",
      "block_8_project_BN (BatchNormal (None, 14, 14, 64)   256         block_8_project[0][0]            \n",
      "__________________________________________________________________________________________________\n",
      "block_8_add (Add)               (None, 14, 14, 64)   0           block_7_add[0][0]                \n",
      "                                                                 block_8_project_BN[0][0]         \n",
      "__________________________________________________________________________________________________\n",
      "block_9_expand (Conv2D)         (None, 14, 14, 384)  24576       block_8_add[0][0]                \n",
      "__________________________________________________________________________________________________\n",
      "block_9_expand_BN (BatchNormali (None, 14, 14, 384)  1536        block_9_expand[0][0]             \n",
      "__________________________________________________________________________________________________\n",
      "block_9_expand_relu (ReLU)      (None, 14, 14, 384)  0           block_9_expand_BN[0][0]          \n",
      "__________________________________________________________________________________________________\n",
      "block_9_depthwise (DepthwiseCon (None, 14, 14, 384)  3456        block_9_expand_relu[0][0]        \n",
      "__________________________________________________________________________________________________\n",
      "block_9_depthwise_BN (BatchNorm (None, 14, 14, 384)  1536        block_9_depthwise[0][0]          \n",
      "__________________________________________________________________________________________________\n",
      "block_9_depthwise_relu (ReLU)   (None, 14, 14, 384)  0           block_9_depthwise_BN[0][0]       \n",
      "__________________________________________________________________________________________________\n",
      "block_9_project (Conv2D)        (None, 14, 14, 64)   24576       block_9_depthwise_relu[0][0]     \n",
      "__________________________________________________________________________________________________\n",
      "block_9_project_BN (BatchNormal (None, 14, 14, 64)   256         block_9_project[0][0]            \n",
      "__________________________________________________________________________________________________\n",
      "block_9_add (Add)               (None, 14, 14, 64)   0           block_8_add[0][0]                \n",
      "                                                                 block_9_project_BN[0][0]         \n",
      "__________________________________________________________________________________________________\n",
      "block_10_expand (Conv2D)        (None, 14, 14, 384)  24576       block_9_add[0][0]                \n",
      "__________________________________________________________________________________________________\n",
      "block_10_expand_BN (BatchNormal (None, 14, 14, 384)  1536        block_10_expand[0][0]            \n",
      "__________________________________________________________________________________________________\n",
      "block_10_expand_relu (ReLU)     (None, 14, 14, 384)  0           block_10_expand_BN[0][0]         \n",
      "__________________________________________________________________________________________________\n",
      "block_10_depthwise (DepthwiseCo (None, 14, 14, 384)  3456        block_10_expand_relu[0][0]       \n",
      "__________________________________________________________________________________________________\n",
      "block_10_depthwise_BN (BatchNor (None, 14, 14, 384)  1536        block_10_depthwise[0][0]         \n",
      "__________________________________________________________________________________________________\n",
      "block_10_depthwise_relu (ReLU)  (None, 14, 14, 384)  0           block_10_depthwise_BN[0][0]      \n",
      "__________________________________________________________________________________________________\n",
      "block_10_project (Conv2D)       (None, 14, 14, 96)   36864       block_10_depthwise_relu[0][0]    \n",
      "__________________________________________________________________________________________________\n",
      "block_10_project_BN (BatchNorma (None, 14, 14, 96)   384         block_10_project[0][0]           \n",
      "__________________________________________________________________________________________________\n",
      "block_11_expand (Conv2D)        (None, 14, 14, 576)  55296       block_10_project_BN[0][0]        \n",
      "__________________________________________________________________________________________________\n",
      "block_11_expand_BN (BatchNormal (None, 14, 14, 576)  2304        block_11_expand[0][0]            \n",
      "__________________________________________________________________________________________________\n",
      "block_11_expand_relu (ReLU)     (None, 14, 14, 576)  0           block_11_expand_BN[0][0]         \n",
      "__________________________________________________________________________________________________\n",
      "block_11_depthwise (DepthwiseCo (None, 14, 14, 576)  5184        block_11_expand_relu[0][0]       \n",
      "__________________________________________________________________________________________________\n",
      "block_11_depthwise_BN (BatchNor (None, 14, 14, 576)  2304        block_11_depthwise[0][0]         \n",
      "__________________________________________________________________________________________________\n",
      "block_11_depthwise_relu (ReLU)  (None, 14, 14, 576)  0           block_11_depthwise_BN[0][0]      \n",
      "__________________________________________________________________________________________________\n",
      "block_11_project (Conv2D)       (None, 14, 14, 96)   55296       block_11_depthwise_relu[0][0]    \n",
      "__________________________________________________________________________________________________\n",
      "block_11_project_BN (BatchNorma (None, 14, 14, 96)   384         block_11_project[0][0]           \n",
      "__________________________________________________________________________________________________\n",
      "block_11_add (Add)              (None, 14, 14, 96)   0           block_10_project_BN[0][0]        \n",
      "                                                                 block_11_project_BN[0][0]        \n",
      "__________________________________________________________________________________________________\n",
      "block_12_expand (Conv2D)        (None, 14, 14, 576)  55296       block_11_add[0][0]               \n",
      "__________________________________________________________________________________________________\n",
      "block_12_expand_BN (BatchNormal (None, 14, 14, 576)  2304        block_12_expand[0][0]            \n",
      "__________________________________________________________________________________________________\n",
      "block_12_expand_relu (ReLU)     (None, 14, 14, 576)  0           block_12_expand_BN[0][0]         \n",
      "__________________________________________________________________________________________________\n",
      "block_12_depthwise (DepthwiseCo (None, 14, 14, 576)  5184        block_12_expand_relu[0][0]       \n",
      "__________________________________________________________________________________________________\n",
      "block_12_depthwise_BN (BatchNor (None, 14, 14, 576)  2304        block_12_depthwise[0][0]         \n",
      "__________________________________________________________________________________________________\n",
      "block_12_depthwise_relu (ReLU)  (None, 14, 14, 576)  0           block_12_depthwise_BN[0][0]      \n",
      "__________________________________________________________________________________________________\n",
      "block_12_project (Conv2D)       (None, 14, 14, 96)   55296       block_12_depthwise_relu[0][0]    \n",
      "__________________________________________________________________________________________________\n",
      "block_12_project_BN (BatchNorma (None, 14, 14, 96)   384         block_12_project[0][0]           \n",
      "__________________________________________________________________________________________________\n",
      "block_12_add (Add)              (None, 14, 14, 96)   0           block_11_add[0][0]               \n",
      "                                                                 block_12_project_BN[0][0]        \n",
      "__________________________________________________________________________________________________\n",
      "block_13_expand (Conv2D)        (None, 14, 14, 576)  55296       block_12_add[0][0]               \n",
      "__________________________________________________________________________________________________\n",
      "block_13_expand_BN (BatchNormal (None, 14, 14, 576)  2304        block_13_expand[0][0]            \n",
      "__________________________________________________________________________________________________\n",
      "block_13_expand_relu (ReLU)     (None, 14, 14, 576)  0           block_13_expand_BN[0][0]         \n",
      "__________________________________________________________________________________________________\n",
      "block_13_pad (ZeroPadding2D)    (None, 15, 15, 576)  0           block_13_expand_relu[0][0]       \n",
      "__________________________________________________________________________________________________\n",
      "block_13_depthwise (DepthwiseCo (None, 7, 7, 576)    5184        block_13_pad[0][0]               \n",
      "__________________________________________________________________________________________________\n",
      "block_13_depthwise_BN (BatchNor (None, 7, 7, 576)    2304        block_13_depthwise[0][0]         \n",
      "__________________________________________________________________________________________________\n",
      "block_13_depthwise_relu (ReLU)  (None, 7, 7, 576)    0           block_13_depthwise_BN[0][0]      \n",
      "__________________________________________________________________________________________________\n",
      "block_13_project (Conv2D)       (None, 7, 7, 160)    92160       block_13_depthwise_relu[0][0]    \n",
      "__________________________________________________________________________________________________\n",
      "block_13_project_BN (BatchNorma (None, 7, 7, 160)    640         block_13_project[0][0]           \n",
      "__________________________________________________________________________________________________\n",
      "block_14_expand (Conv2D)        (None, 7, 7, 960)    153600      block_13_project_BN[0][0]        \n",
      "__________________________________________________________________________________________________\n",
      "block_14_expand_BN (BatchNormal (None, 7, 7, 960)    3840        block_14_expand[0][0]            \n",
      "__________________________________________________________________________________________________\n",
      "block_14_expand_relu (ReLU)     (None, 7, 7, 960)    0           block_14_expand_BN[0][0]         \n",
      "__________________________________________________________________________________________________\n",
      "block_14_depthwise (DepthwiseCo (None, 7, 7, 960)    8640        block_14_expand_relu[0][0]       \n",
      "__________________________________________________________________________________________________\n",
      "block_14_depthwise_BN (BatchNor (None, 7, 7, 960)    3840        block_14_depthwise[0][0]         \n",
      "__________________________________________________________________________________________________\n",
      "block_14_depthwise_relu (ReLU)  (None, 7, 7, 960)    0           block_14_depthwise_BN[0][0]      \n",
      "__________________________________________________________________________________________________\n",
      "block_14_project (Conv2D)       (None, 7, 7, 160)    153600      block_14_depthwise_relu[0][0]    \n",
      "__________________________________________________________________________________________________\n",
      "block_14_project_BN (BatchNorma (None, 7, 7, 160)    640         block_14_project[0][0]           \n",
      "__________________________________________________________________________________________________\n",
      "block_14_add (Add)              (None, 7, 7, 160)    0           block_13_project_BN[0][0]        \n",
      "                                                                 block_14_project_BN[0][0]        \n",
      "__________________________________________________________________________________________________\n",
      "block_15_expand (Conv2D)        (None, 7, 7, 960)    153600      block_14_add[0][0]               \n",
      "__________________________________________________________________________________________________\n",
      "block_15_expand_BN (BatchNormal (None, 7, 7, 960)    3840        block_15_expand[0][0]            \n",
      "__________________________________________________________________________________________________\n",
      "block_15_expand_relu (ReLU)     (None, 7, 7, 960)    0           block_15_expand_BN[0][0]         \n",
      "__________________________________________________________________________________________________\n",
      "block_15_depthwise (DepthwiseCo (None, 7, 7, 960)    8640        block_15_expand_relu[0][0]       \n",
      "__________________________________________________________________________________________________\n",
      "block_15_depthwise_BN (BatchNor (None, 7, 7, 960)    3840        block_15_depthwise[0][0]         \n",
      "__________________________________________________________________________________________________\n",
      "block_15_depthwise_relu (ReLU)  (None, 7, 7, 960)    0           block_15_depthwise_BN[0][0]      \n",
      "__________________________________________________________________________________________________\n",
      "block_15_project (Conv2D)       (None, 7, 7, 160)    153600      block_15_depthwise_relu[0][0]    \n",
      "__________________________________________________________________________________________________\n",
      "block_15_project_BN (BatchNorma (None, 7, 7, 160)    640         block_15_project[0][0]           \n",
      "__________________________________________________________________________________________________\n",
      "block_15_add (Add)              (None, 7, 7, 160)    0           block_14_add[0][0]               \n",
      "                                                                 block_15_project_BN[0][0]        \n",
      "__________________________________________________________________________________________________\n",
      "block_16_expand (Conv2D)        (None, 7, 7, 960)    153600      block_15_add[0][0]               \n",
      "__________________________________________________________________________________________________\n",
      "block_16_expand_BN (BatchNormal (None, 7, 7, 960)    3840        block_16_expand[0][0]            \n",
      "__________________________________________________________________________________________________\n",
      "block_16_expand_relu (ReLU)     (None, 7, 7, 960)    0           block_16_expand_BN[0][0]         \n",
      "__________________________________________________________________________________________________\n",
      "block_16_depthwise (DepthwiseCo (None, 7, 7, 960)    8640        block_16_expand_relu[0][0]       \n",
      "__________________________________________________________________________________________________\n",
      "block_16_depthwise_BN (BatchNor (None, 7, 7, 960)    3840        block_16_depthwise[0][0]         \n",
      "__________________________________________________________________________________________________\n",
      "block_16_depthwise_relu (ReLU)  (None, 7, 7, 960)    0           block_16_depthwise_BN[0][0]      \n",
      "__________________________________________________________________________________________________\n",
      "block_16_project (Conv2D)       (None, 7, 7, 320)    307200      block_16_depthwise_relu[0][0]    \n",
      "__________________________________________________________________________________________________\n",
      "block_16_project_BN (BatchNorma (None, 7, 7, 320)    1280        block_16_project[0][0]           \n",
      "__________________________________________________________________________________________________\n",
      "Conv_1 (Conv2D)                 (None, 7, 7, 1280)   409600      block_16_project_BN[0][0]        \n",
      "__________________________________________________________________________________________________\n",
      "Conv_1_bn (BatchNormalization)  (None, 7, 7, 1280)   5120        Conv_1[0][0]                     \n",
      "__________________________________________________________________________________________________\n",
      "out_relu (ReLU)                 (None, 7, 7, 1280)   0           Conv_1_bn[0][0]                  \n",
      "==================================================================================================\n",
      "Total params: 2,257,984\n",
      "Trainable params: 0\n",
      "Non-trainable params: 2,257,984\n",
      "__________________________________________________________________________________________________\n"
     ]
    }
   ],
   "source": [
    "# we will use a pretrained mobilenet for transferlearning\n",
    "mobilenet = tf.keras.applications.MobileNetV2(input_shape=(224,224,3),include_top=False,weights='imagenet')\n",
    "mobilenet.trainable = False\n",
    "mobilenet.summary()"
   ]
  },
  {
   "cell_type": "code",
   "execution_count": 26,
   "metadata": {},
   "outputs": [
    {
     "name": "stdout",
     "output_type": "stream",
     "text": [
      "(32, 224, 224, 3)\n"
     ]
    }
   ],
   "source": [
    "image_batch, label_batch = next(iter(ds))\n",
    "print(image_batch.shape)\n",
    "#image_batch[0]"
   ]
  },
  {
   "cell_type": "code",
   "execution_count": 27,
   "metadata": {},
   "outputs": [],
   "source": [
    "#label_batch[0].numpy()\n",
    "#image_batch[0].numpy()"
   ]
  },
  {
   "cell_type": "code",
   "execution_count": 28,
   "metadata": {},
   "outputs": [
    {
     "name": "stdout",
     "output_type": "stream",
     "text": [
      "(32, 7, 7, 1280)\n"
     ]
    }
   ],
   "source": [
    "feature_map_batch = mobilenet(image_batch)\n",
    "print(feature_map_batch.shape)"
   ]
  },
  {
   "cell_type": "code",
   "execution_count": 29,
   "metadata": {},
   "outputs": [
    {
     "name": "stdout",
     "output_type": "stream",
     "text": [
      "Model: \"sequential\"\n",
      "_________________________________________________________________\n",
      "Layer (type)                 Output Shape              Param #   \n",
      "=================================================================\n",
      "mobilenetv2_1.00_224 (Model) (None, 7, 7, 1280)        2257984   \n",
      "_________________________________________________________________\n",
      "global_average_pooling2d (Gl (None, 1280)              0         \n",
      "_________________________________________________________________\n",
      "dropout (Dropout)            (None, 1280)              0         \n",
      "_________________________________________________________________\n",
      "dense (Dense)                (None, 1024)              1311744   \n",
      "_________________________________________________________________\n",
      "dropout_1 (Dropout)          (None, 1024)              0         \n",
      "_________________________________________________________________\n",
      "dense_1 (Dense)              (None, 1024)              1049600   \n",
      "_________________________________________________________________\n",
      "dropout_2 (Dropout)          (None, 1024)              0         \n",
      "_________________________________________________________________\n",
      "features (Dense)             (None, 512)               524800    \n",
      "_________________________________________________________________\n",
      "dense_2 (Dense)              (None, 8)                 4104      \n",
      "=================================================================\n",
      "Total params: 5,148,232\n",
      "Trainable params: 2,890,248\n",
      "Non-trainable params: 2,257,984\n",
      "_________________________________________________________________\n"
     ]
    }
   ],
   "source": [
    "model = tf.keras.Sequential([\n",
    "    mobilenet,\n",
    "    tf.keras.layers.GlobalAveragePooling2D(),\n",
    "    tf.keras.layers.Dropout(0.3),\n",
    "    tf.keras.layers.Dense(1024,activation='relu',bias_initializer=tf.keras.initializers.he_normal()),\n",
    "    tf.keras.layers.Dropout(0.3),\n",
    "    tf.keras.layers.Dense(1024,activation='relu',bias_initializer=tf.keras.initializers.he_normal()),\n",
    "    tf.keras.layers.Dropout(0.2),\n",
    "    tf.keras.layers.Dense(512,activation='relu',bias_initializer=tf.keras.initializers.he_normal(),name='features'),\n",
    "    tf.keras.layers.Dense(len(huia_person),activation='softmax'),\n",
    "])\n",
    "model.summary()\n",
    "#mobilenet.summay()"
   ]
  },
  {
   "cell_type": "code",
   "execution_count": 30,
   "metadata": {},
   "outputs": [
    {
     "name": "stdout",
     "output_type": "stream",
     "text": [
      "min logit: 0.050538488\n",
      "max logit: 0.30137742\n",
      "\n",
      "Shape: (32, 8)\n"
     ]
    }
   ],
   "source": [
    "logit_batch = model(image_batch).numpy()\n",
    "\n",
    "print(\"min logit:\", logit_batch.min())\n",
    "print(\"max logit:\", logit_batch.max())\n",
    "print()\n",
    "\n",
    "print(\"Shape:\", logit_batch.shape)"
   ]
  },
  {
   "cell_type": "code",
   "execution_count": 31,
   "metadata": {},
   "outputs": [
    {
     "name": "stdout",
     "output_type": "stream",
     "text": [
      "Model: \"sequential\"\n",
      "_________________________________________________________________\n",
      "Layer (type)                 Output Shape              Param #   \n",
      "=================================================================\n",
      "mobilenetv2_1.00_224 (Model) (None, 7, 7, 1280)        2257984   \n",
      "_________________________________________________________________\n",
      "global_average_pooling2d (Gl (None, 1280)              0         \n",
      "_________________________________________________________________\n",
      "dropout (Dropout)            (None, 1280)              0         \n",
      "_________________________________________________________________\n",
      "dense (Dense)                (None, 1024)              1311744   \n",
      "_________________________________________________________________\n",
      "dropout_1 (Dropout)          (None, 1024)              0         \n",
      "_________________________________________________________________\n",
      "dense_1 (Dense)              (None, 1024)              1049600   \n",
      "_________________________________________________________________\n",
      "dropout_2 (Dropout)          (None, 1024)              0         \n",
      "_________________________________________________________________\n",
      "features (Dense)             (None, 512)               524800    \n",
      "_________________________________________________________________\n",
      "dense_2 (Dense)              (None, 8)                 4104      \n",
      "=================================================================\n",
      "Total params: 5,148,232\n",
      "Trainable params: 2,890,248\n",
      "Non-trainable params: 2,257,984\n",
      "_________________________________________________________________\n"
     ]
    }
   ],
   "source": [
    "len(model.trainable_variables) \n",
    "model.summary()"
   ]
  },
  {
   "cell_type": "code",
   "execution_count": 32,
   "metadata": {},
   "outputs": [
    {
     "data": {
      "text/plain": [
       "11.0"
      ]
     },
     "execution_count": 32,
     "metadata": {},
     "output_type": "execute_result"
    }
   ],
   "source": [
    "steps_per_epoch=tf.math.ceil(len(all_image_paths)/BATCH_SIZE).numpy()\n",
    "steps_per_epoch"
   ]
  },
  {
   "cell_type": "code",
   "execution_count": 33,
   "metadata": {},
   "outputs": [],
   "source": [
    "# class myCallback(tf.keras.callbacks.Callback):\n",
    "#   def on_epoch_end(self, epoch, logs={}):\n",
    "#     if(logs.get('val_accuracy')>0.9):\n",
    "#       print(\"\\nReached 60% accuracy so cancelling training!\")\n",
    "#       self.model.stop_training = True\n",
    "\n",
    "callbacks = []\n",
    "\n",
    "#tbCallback = tf.keras.callbacks.TensorBoard(log_dir='./logs',histogram_freq=1,  embeddings_freq=1)\n",
    "#tbCallback.set_model(model)\n",
    "#callbacks.append(tbCallback)\n",
    "\n",
    "# earlyStopping = tf.keras.callbacks.EarlyStopping(patience=2, monitor='loss')\n",
    "# callbacks.append(earlyStopping)\n",
    "\n",
    "# chkPoint = tf.keras.callbacks.ModelCheckpoint('./models.h5')\n",
    "# chkPoint.set_model(model)\n",
    "# callbacks.append(chkPoint)\n"
   ]
  },
  {
   "cell_type": "code",
   "execution_count": 34,
   "metadata": {},
   "outputs": [],
   "source": [
    "#ds.shuffle(buffer_size=32)\n",
    "test_dataset = ds.take(70) \n",
    "train_dataset = ds.skip(70)"
   ]
  },
  {
   "cell_type": "code",
   "execution_count": 35,
   "metadata": {},
   "outputs": [],
   "source": [
    "mobilenet.trainable = False\n",
    "model.compile(optimizer=tf.keras.optimizers.Adam(lr=3e-4, beta_1=0.9, beta_2=0.999, epsilon=1e-08, decay=1e-07, amsgrad=False), \n",
    "              loss='sparse_categorical_crossentropy',\n",
    "              metrics=['accuracy'])"
   ]
  },
  {
   "cell_type": "code",
   "execution_count": 36,
   "metadata": {
    "scrolled": true
   },
   "outputs": [
    {
     "name": "stdout",
     "output_type": "stream",
     "text": [
      "Epoch 1/20\n",
      "11/11 [==============================] - 6s 578ms/step - loss: 1.8765 - accuracy: 0.3466 - val_loss: 1.8050 - val_accuracy: 0.3636\n",
      "Epoch 2/20\n",
      "11/11 [==============================] - 2s 212ms/step - loss: 1.2632 - accuracy: 0.6335 - val_loss: 1.4600 - val_accuracy: 0.4432\n",
      "Epoch 3/20\n",
      "11/11 [==============================] - 2s 212ms/step - loss: 0.7488 - accuracy: 0.7699 - val_loss: 1.7872 - val_accuracy: 0.3267\n",
      "Epoch 4/20\n",
      "11/11 [==============================] - 2s 210ms/step - loss: 0.4099 - accuracy: 0.8722 - val_loss: 1.5380 - val_accuracy: 0.4545\n",
      "Epoch 5/20\n",
      "11/11 [==============================] - 2s 212ms/step - loss: 0.2383 - accuracy: 0.9347 - val_loss: 1.7039 - val_accuracy: 0.4119\n",
      "Epoch 6/20\n",
      "11/11 [==============================] - 2s 211ms/step - loss: 0.2014 - accuracy: 0.9290 - val_loss: 1.8224 - val_accuracy: 0.5199\n",
      "Epoch 7/20\n",
      "11/11 [==============================] - 2s 213ms/step - loss: 0.1591 - accuracy: 0.9574 - val_loss: 0.9241 - val_accuracy: 0.6364\n",
      "Epoch 8/20\n",
      "11/11 [==============================] - 2s 226ms/step - loss: 0.2019 - accuracy: 0.9290 - val_loss: 1.9370 - val_accuracy: 0.4062\n",
      "Epoch 9/20\n",
      "11/11 [==============================] - 2s 209ms/step - loss: 0.1400 - accuracy: 0.9517 - val_loss: 1.3457 - val_accuracy: 0.6250\n",
      "Epoch 10/20\n",
      "11/11 [==============================] - 2s 203ms/step - loss: 0.0719 - accuracy: 0.9773 - val_loss: 1.5577 - val_accuracy: 0.5199\n",
      "Epoch 11/20\n",
      "11/11 [==============================] - 2s 205ms/step - loss: 0.0757 - accuracy: 0.9773 - val_loss: 1.4642 - val_accuracy: 0.5369\n",
      "Epoch 12/20\n",
      "11/11 [==============================] - 2s 210ms/step - loss: 0.0573 - accuracy: 0.9915 - val_loss: 1.9058 - val_accuracy: 0.4744\n",
      "Epoch 13/20\n",
      "11/11 [==============================] - 2s 226ms/step - loss: 0.0425 - accuracy: 0.9830 - val_loss: 1.1935 - val_accuracy: 0.6250\n",
      "Epoch 14/20\n",
      "11/11 [==============================] - 2s 222ms/step - loss: 0.0262 - accuracy: 0.9915 - val_loss: 2.0823 - val_accuracy: 0.4347\n",
      "Epoch 15/20\n",
      "11/11 [==============================] - 2s 225ms/step - loss: 0.0359 - accuracy: 0.9915 - val_loss: 1.2548 - val_accuracy: 0.6080\n",
      "Epoch 16/20\n",
      "11/11 [==============================] - 2s 209ms/step - loss: 0.0199 - accuracy: 0.9972 - val_loss: 2.3748 - val_accuracy: 0.4091\n",
      "Epoch 17/20\n",
      "11/11 [==============================] - 2s 221ms/step - loss: 0.0348 - accuracy: 0.9915 - val_loss: 2.3825 - val_accuracy: 0.4148\n",
      "Epoch 18/20\n",
      "11/11 [==============================] - 2s 225ms/step - loss: 0.0725 - accuracy: 0.9801 - val_loss: 2.6614 - val_accuracy: 0.3807\n",
      "Epoch 19/20\n",
      "11/11 [==============================] - 2s 218ms/step - loss: 0.0473 - accuracy: 0.9886 - val_loss: 2.2610 - val_accuracy: 0.3920\n",
      "Epoch 20/20\n",
      "11/11 [==============================] - 2s 210ms/step - loss: 0.0404 - accuracy: 0.9830 - val_loss: 2.0764 - val_accuracy: 0.5028\n"
     ]
    },
    {
     "data": {
      "text/plain": [
       "<tensorflow.python.keras.callbacks.History at 0x7f3de905fda0>"
      ]
     },
     "execution_count": 36,
     "metadata": {},
     "output_type": "execute_result"
    }
   ],
   "source": [
    "model.fit(train_dataset, epochs=20,steps_per_epoch=steps_per_epoch,verbose=1,validation_data=test_dataset,\n",
    "          callbacks=callbacks)"
   ]
  },
  {
   "cell_type": "code",
   "execution_count": 43,
   "metadata": {},
   "outputs": [],
   "source": [
    "mobilenet.trainable = True\n",
    "model.compile(optimizer=tf.keras.optimizers.Adam(lr=3e-6, beta_1=0.9, beta_2=0.999, epsilon=1e-08, decay=1e-07, amsgrad=False), \n",
    "              loss='sparse_categorical_crossentropy',\n",
    "              metrics=['accuracy'])"
   ]
  },
  {
   "cell_type": "code",
   "execution_count": 44,
   "metadata": {},
   "outputs": [
    {
     "name": "stdout",
     "output_type": "stream",
     "text": [
      "Epoch 1/300\n",
      "11/11 [==============================] - 32s 3s/step - loss: 0.0081 - accuracy: 0.9972 - val_loss: 2.1070 - val_accuracy: 0.4830\n",
      "Epoch 2/300\n",
      "11/11 [==============================] - 4s 334ms/step - loss: 0.0038 - accuracy: 1.0000 - val_loss: 2.0740 - val_accuracy: 0.4801\n",
      "Epoch 3/300\n",
      "11/11 [==============================] - 4s 339ms/step - loss: 0.0048 - accuracy: 1.0000 - val_loss: 2.0290 - val_accuracy: 0.4886\n",
      "Epoch 4/300\n",
      "11/11 [==============================] - 4s 339ms/step - loss: 0.0042 - accuracy: 1.0000 - val_loss: 1.9959 - val_accuracy: 0.4773\n",
      "Epoch 5/300\n",
      "11/11 [==============================] - 4s 330ms/step - loss: 0.0041 - accuracy: 1.0000 - val_loss: 1.9720 - val_accuracy: 0.4659\n",
      "Epoch 6/300\n",
      "11/11 [==============================] - 4s 332ms/step - loss: 0.0033 - accuracy: 1.0000 - val_loss: 1.9245 - val_accuracy: 0.4688\n",
      "Epoch 7/300\n",
      "11/11 [==============================] - 4s 334ms/step - loss: 0.0095 - accuracy: 0.9972 - val_loss: 1.9496 - val_accuracy: 0.4688\n",
      "Epoch 8/300\n",
      "11/11 [==============================] - 4s 338ms/step - loss: 0.0031 - accuracy: 1.0000 - val_loss: 1.9312 - val_accuracy: 0.4688\n",
      "Epoch 9/300\n",
      "11/11 [==============================] - 4s 341ms/step - loss: 0.0024 - accuracy: 1.0000 - val_loss: 1.8918 - val_accuracy: 0.4744\n",
      "Epoch 10/300\n",
      "11/11 [==============================] - 4s 336ms/step - loss: 0.0029 - accuracy: 1.0000 - val_loss: 1.8265 - val_accuracy: 0.4972\n",
      "Epoch 11/300\n",
      "11/11 [==============================] - 4s 346ms/step - loss: 0.0077 - accuracy: 0.9972 - val_loss: 1.7522 - val_accuracy: 0.5170\n",
      "Epoch 12/300\n",
      "11/11 [==============================] - 4s 336ms/step - loss: 0.0070 - accuracy: 0.9972 - val_loss: 1.7914 - val_accuracy: 0.5028\n",
      "Epoch 13/300\n",
      "11/11 [==============================] - 4s 353ms/step - loss: 0.0031 - accuracy: 1.0000 - val_loss: 1.7934 - val_accuracy: 0.5114\n",
      "Epoch 14/300\n",
      "11/11 [==============================] - 4s 339ms/step - loss: 0.0049 - accuracy: 1.0000 - val_loss: 1.7546 - val_accuracy: 0.5142\n",
      "Epoch 15/300\n",
      "11/11 [==============================] - 4s 344ms/step - loss: 0.0091 - accuracy: 0.9943 - val_loss: 1.7302 - val_accuracy: 0.5256\n",
      "Epoch 16/300\n",
      "11/11 [==============================] - 4s 337ms/step - loss: 0.0025 - accuracy: 1.0000 - val_loss: 1.7265 - val_accuracy: 0.5170\n",
      "Epoch 17/300\n",
      "11/11 [==============================] - 4s 336ms/step - loss: 0.0030 - accuracy: 1.0000 - val_loss: 1.7308 - val_accuracy: 0.5170\n",
      "Epoch 18/300\n",
      "11/11 [==============================] - 4s 335ms/step - loss: 0.0024 - accuracy: 1.0000 - val_loss: 1.7376 - val_accuracy: 0.5085\n",
      "Epoch 19/300\n",
      "11/11 [==============================] - 4s 336ms/step - loss: 0.0020 - accuracy: 1.0000 - val_loss: 1.7293 - val_accuracy: 0.5085\n",
      "Epoch 20/300\n",
      "11/11 [==============================] - 4s 336ms/step - loss: 0.0079 - accuracy: 0.9972 - val_loss: 1.6586 - val_accuracy: 0.5227\n",
      "Epoch 21/300\n",
      "11/11 [==============================] - 4s 335ms/step - loss: 0.0030 - accuracy: 1.0000 - val_loss: 1.6165 - val_accuracy: 0.5284\n",
      "Epoch 22/300\n",
      "11/11 [==============================] - 4s 335ms/step - loss: 0.0014 - accuracy: 1.0000 - val_loss: 1.5970 - val_accuracy: 0.5227\n",
      "Epoch 23/300\n",
      "11/11 [==============================] - 4s 347ms/step - loss: 0.0030 - accuracy: 1.0000 - val_loss: 1.6139 - val_accuracy: 0.5227\n",
      "Epoch 24/300\n",
      "11/11 [==============================] - 4s 345ms/step - loss: 0.0016 - accuracy: 1.0000 - val_loss: 1.6116 - val_accuracy: 0.5227\n",
      "Epoch 25/300\n",
      "11/11 [==============================] - 4s 344ms/step - loss: 0.0017 - accuracy: 1.0000 - val_loss: 1.6196 - val_accuracy: 0.5199\n",
      "Epoch 26/300\n",
      "11/11 [==============================] - 4s 344ms/step - loss: 0.0010 - accuracy: 1.0000 - val_loss: 1.6298 - val_accuracy: 0.5256\n",
      "Epoch 27/300\n",
      "11/11 [==============================] - 4s 339ms/step - loss: 0.0018 - accuracy: 1.0000 - val_loss: 1.6417 - val_accuracy: 0.5284\n",
      "Epoch 28/300\n",
      "11/11 [==============================] - 4s 353ms/step - loss: 5.9628e-04 - accuracy: 1.0000 - val_loss: 1.6590 - val_accuracy: 0.5142\n",
      "Epoch 29/300\n",
      "11/11 [==============================] - 4s 337ms/step - loss: 0.0023 - accuracy: 1.0000 - val_loss: 1.6589 - val_accuracy: 0.5085\n",
      "Epoch 30/300\n",
      "11/11 [==============================] - 4s 339ms/step - loss: 0.0014 - accuracy: 1.0000 - val_loss: 1.6611 - val_accuracy: 0.5057\n",
      "Epoch 31/300\n",
      "11/11 [==============================] - 4s 338ms/step - loss: 0.0019 - accuracy: 1.0000 - val_loss: 1.6656 - val_accuracy: 0.5114\n",
      "Epoch 32/300\n",
      "11/11 [==============================] - 4s 335ms/step - loss: 0.0011 - accuracy: 1.0000 - val_loss: 1.6670 - val_accuracy: 0.5114\n",
      "Epoch 33/300\n",
      "11/11 [==============================] - 4s 341ms/step - loss: 0.0073 - accuracy: 0.9972 - val_loss: 1.7372 - val_accuracy: 0.4943\n",
      "Epoch 34/300\n",
      "11/11 [==============================] - 4s 338ms/step - loss: 0.0024 - accuracy: 1.0000 - val_loss: 1.7691 - val_accuracy: 0.4915\n",
      "Epoch 35/300\n",
      "11/11 [==============================] - 4s 338ms/step - loss: 0.0026 - accuracy: 1.0000 - val_loss: 1.7669 - val_accuracy: 0.4915\n",
      "Epoch 36/300\n",
      "11/11 [==============================] - 4s 336ms/step - loss: 6.5445e-04 - accuracy: 1.0000 - val_loss: 1.7563 - val_accuracy: 0.4972\n",
      "Epoch 37/300\n",
      "11/11 [==============================] - 4s 339ms/step - loss: 0.0022 - accuracy: 1.0000 - val_loss: 1.7276 - val_accuracy: 0.5057\n",
      "Epoch 38/300\n",
      "11/11 [==============================] - 4s 336ms/step - loss: 0.0020 - accuracy: 1.0000 - val_loss: 1.6834 - val_accuracy: 0.5256\n",
      "Epoch 39/300\n",
      "11/11 [==============================] - 4s 346ms/step - loss: 0.0014 - accuracy: 1.0000 - val_loss: 1.6321 - val_accuracy: 0.5455\n",
      "Epoch 40/300\n",
      "11/11 [==============================] - 4s 344ms/step - loss: 0.0016 - accuracy: 1.0000 - val_loss: 1.6101 - val_accuracy: 0.5597\n",
      "Epoch 41/300\n",
      "11/11 [==============================] - 4s 343ms/step - loss: 0.0025 - accuracy: 1.0000 - val_loss: 1.5971 - val_accuracy: 0.5710\n",
      "Epoch 42/300\n",
      "11/11 [==============================] - 4s 349ms/step - loss: 0.0015 - accuracy: 1.0000 - val_loss: 1.5814 - val_accuracy: 0.5682\n",
      "Epoch 43/300\n",
      "11/11 [==============================] - 4s 339ms/step - loss: 0.0021 - accuracy: 1.0000 - val_loss: 1.5577 - val_accuracy: 0.5739\n",
      "Epoch 44/300\n",
      "11/11 [==============================] - 4s 350ms/step - loss: 0.0019 - accuracy: 1.0000 - val_loss: 1.5402 - val_accuracy: 0.5824\n",
      "Epoch 45/300\n",
      "11/11 [==============================] - 4s 335ms/step - loss: 9.8392e-04 - accuracy: 1.0000 - val_loss: 1.5252 - val_accuracy: 0.5852\n",
      "Epoch 46/300\n",
      "11/11 [==============================] - 4s 342ms/step - loss: 0.0027 - accuracy: 1.0000 - val_loss: 1.5053 - val_accuracy: 0.5881\n",
      "Epoch 47/300\n",
      "11/11 [==============================] - 4s 344ms/step - loss: 6.8332e-04 - accuracy: 1.0000 - val_loss: 1.4893 - val_accuracy: 0.5938\n",
      "Epoch 48/300\n",
      "11/11 [==============================] - 4s 338ms/step - loss: 0.0010 - accuracy: 1.0000 - val_loss: 1.4813 - val_accuracy: 0.5938\n",
      "Epoch 49/300\n",
      "11/11 [==============================] - 4s 338ms/step - loss: 0.0015 - accuracy: 1.0000 - val_loss: 1.4650 - val_accuracy: 0.6023\n",
      "Epoch 50/300\n",
      "11/11 [==============================] - 4s 336ms/step - loss: 0.0022 - accuracy: 1.0000 - val_loss: 1.4455 - val_accuracy: 0.6080\n",
      "Epoch 51/300\n",
      "11/11 [==============================] - 4s 336ms/step - loss: 0.0012 - accuracy: 1.0000 - val_loss: 1.4344 - val_accuracy: 0.6108\n",
      "Epoch 52/300\n",
      "11/11 [==============================] - 4s 334ms/step - loss: 7.7478e-04 - accuracy: 1.0000 - val_loss: 1.4229 - val_accuracy: 0.6165\n",
      "Epoch 53/300\n",
      "11/11 [==============================] - 4s 333ms/step - loss: 0.0010 - accuracy: 1.0000 - val_loss: 1.4166 - val_accuracy: 0.6222\n",
      "Epoch 54/300\n",
      "11/11 [==============================] - 4s 353ms/step - loss: 4.8860e-04 - accuracy: 1.0000 - val_loss: 1.4093 - val_accuracy: 0.6193\n",
      "Epoch 55/300\n",
      "11/11 [==============================] - 4s 343ms/step - loss: 0.0014 - accuracy: 1.0000 - val_loss: 1.3927 - val_accuracy: 0.6193\n",
      "Epoch 56/300\n",
      "11/11 [==============================] - 4s 348ms/step - loss: 0.0033 - accuracy: 0.9972 - val_loss: 1.3874 - val_accuracy: 0.6278\n",
      "Epoch 57/300\n",
      "11/11 [==============================] - 4s 343ms/step - loss: 8.9951e-04 - accuracy: 1.0000 - val_loss: 1.3944 - val_accuracy: 0.6278\n"
     ]
    },
    {
     "name": "stdout",
     "output_type": "stream",
     "text": [
      "Epoch 58/300\n",
      "11/11 [==============================] - 4s 340ms/step - loss: 0.0011 - accuracy: 1.0000 - val_loss: 1.3827 - val_accuracy: 0.6250\n",
      "Epoch 59/300\n",
      "11/11 [==============================] - 4s 345ms/step - loss: 0.0015 - accuracy: 1.0000 - val_loss: 1.3742 - val_accuracy: 0.6250\n",
      "Epoch 60/300\n",
      "11/11 [==============================] - 4s 339ms/step - loss: 8.6231e-04 - accuracy: 1.0000 - val_loss: 1.3658 - val_accuracy: 0.6335\n",
      "Epoch 61/300\n",
      "11/11 [==============================] - 4s 349ms/step - loss: 0.0013 - accuracy: 1.0000 - val_loss: 1.3598 - val_accuracy: 0.6335\n",
      "Epoch 62/300\n",
      "11/11 [==============================] - 4s 337ms/step - loss: 0.0015 - accuracy: 1.0000 - val_loss: 1.3379 - val_accuracy: 0.6392\n",
      "Epoch 63/300\n",
      "11/11 [==============================] - 4s 334ms/step - loss: 0.0016 - accuracy: 1.0000 - val_loss: 1.3346 - val_accuracy: 0.6392\n",
      "Epoch 64/300\n",
      "11/11 [==============================] - 4s 334ms/step - loss: 0.0011 - accuracy: 1.0000 - val_loss: 1.3472 - val_accuracy: 0.6335\n",
      "Epoch 65/300\n",
      "11/11 [==============================] - 4s 333ms/step - loss: 0.0017 - accuracy: 1.0000 - val_loss: 1.3524 - val_accuracy: 0.6307\n",
      "Epoch 66/300\n",
      "11/11 [==============================] - 4s 336ms/step - loss: 0.0010 - accuracy: 1.0000 - val_loss: 1.3515 - val_accuracy: 0.6392\n",
      "Epoch 67/300\n",
      "11/11 [==============================] - 4s 334ms/step - loss: 0.0081 - accuracy: 0.9972 - val_loss: 1.3380 - val_accuracy: 0.6364\n",
      "Epoch 68/300\n",
      "11/11 [==============================] - 4s 332ms/step - loss: 0.0017 - accuracy: 1.0000 - val_loss: 1.3203 - val_accuracy: 0.6392\n",
      "Epoch 69/300\n",
      "11/11 [==============================] - 4s 334ms/step - loss: 7.3214e-04 - accuracy: 1.0000 - val_loss: 1.3062 - val_accuracy: 0.6420\n",
      "Epoch 70/300\n",
      "11/11 [==============================] - 4s 344ms/step - loss: 6.2344e-04 - accuracy: 1.0000 - val_loss: 1.2989 - val_accuracy: 0.6364\n",
      "Epoch 71/300\n",
      "11/11 [==============================] - 4s 344ms/step - loss: 5.4064e-04 - accuracy: 1.0000 - val_loss: 1.2939 - val_accuracy: 0.6449\n",
      "Epoch 72/300\n",
      "11/11 [==============================] - 4s 343ms/step - loss: 7.0373e-04 - accuracy: 1.0000 - val_loss: 1.2861 - val_accuracy: 0.6449\n",
      "Epoch 73/300\n",
      "11/11 [==============================] - 4s 347ms/step - loss: 5.7428e-04 - accuracy: 1.0000 - val_loss: 1.2792 - val_accuracy: 0.6506\n",
      "Epoch 74/300\n",
      "11/11 [==============================] - 4s 338ms/step - loss: 3.4205e-04 - accuracy: 1.0000 - val_loss: 1.2669 - val_accuracy: 0.6534\n",
      "Epoch 75/300\n",
      "11/11 [==============================] - 4s 352ms/step - loss: 9.4967e-04 - accuracy: 1.0000 - val_loss: 1.2556 - val_accuracy: 0.6534\n",
      "Epoch 76/300\n",
      "11/11 [==============================] - 4s 338ms/step - loss: 8.1321e-04 - accuracy: 1.0000 - val_loss: 1.2506 - val_accuracy: 0.6534\n",
      "Epoch 77/300\n",
      "11/11 [==============================] - 4s 333ms/step - loss: 0.0013 - accuracy: 1.0000 - val_loss: 1.2588 - val_accuracy: 0.6534\n",
      "Epoch 78/300\n",
      "11/11 [==============================] - 4s 345ms/step - loss: 6.3537e-04 - accuracy: 1.0000 - val_loss: 1.2584 - val_accuracy: 0.6591\n",
      "Epoch 79/300\n",
      "11/11 [==============================] - 4s 343ms/step - loss: 0.0092 - accuracy: 0.9972 - val_loss: 1.2410 - val_accuracy: 0.6648\n",
      "Epoch 80/300\n",
      "11/11 [==============================] - 4s 336ms/step - loss: 6.9543e-04 - accuracy: 1.0000 - val_loss: 1.2363 - val_accuracy: 0.6676\n",
      "Epoch 81/300\n",
      "11/11 [==============================] - 4s 334ms/step - loss: 0.0035 - accuracy: 1.0000 - val_loss: 1.2342 - val_accuracy: 0.6648\n",
      "Epoch 82/300\n",
      "11/11 [==============================] - 4s 343ms/step - loss: 7.8781e-04 - accuracy: 1.0000 - val_loss: 1.2537 - val_accuracy: 0.6619\n",
      "Epoch 83/300\n",
      "11/11 [==============================] - 4s 336ms/step - loss: 0.0058 - accuracy: 0.9972 - val_loss: 1.2342 - val_accuracy: 0.6676\n",
      "Epoch 84/300\n",
      "11/11 [==============================] - 4s 338ms/step - loss: 8.8866e-04 - accuracy: 1.0000 - val_loss: 1.2143 - val_accuracy: 0.6733\n",
      "Epoch 85/300\n",
      "11/11 [==============================] - 4s 350ms/step - loss: 9.3224e-04 - accuracy: 1.0000 - val_loss: 1.2050 - val_accuracy: 0.6733\n",
      "Epoch 86/300\n",
      "11/11 [==============================] - 4s 340ms/step - loss: 9.8119e-04 - accuracy: 1.0000 - val_loss: 1.1799 - val_accuracy: 0.6733\n",
      "Epoch 87/300\n",
      "11/11 [==============================] - 4s 345ms/step - loss: 9.9434e-04 - accuracy: 1.0000 - val_loss: 1.1642 - val_accuracy: 0.6761\n",
      "Epoch 88/300\n",
      "11/11 [==============================] - 4s 361ms/step - loss: 8.9920e-04 - accuracy: 1.0000 - val_loss: 1.1498 - val_accuracy: 0.6761\n",
      "Epoch 89/300\n",
      "11/11 [==============================] - 4s 351ms/step - loss: 4.3514e-04 - accuracy: 1.0000 - val_loss: 1.1338 - val_accuracy: 0.6875\n",
      "Epoch 90/300\n",
      "11/11 [==============================] - 4s 350ms/step - loss: 3.5663e-04 - accuracy: 1.0000 - val_loss: 1.1175 - val_accuracy: 0.6875\n",
      "Epoch 91/300\n",
      "11/11 [==============================] - 4s 343ms/step - loss: 8.6590e-04 - accuracy: 1.0000 - val_loss: 1.1024 - val_accuracy: 0.6903\n",
      "Epoch 92/300\n",
      "11/11 [==============================] - 4s 349ms/step - loss: 6.0886e-04 - accuracy: 1.0000 - val_loss: 1.0921 - val_accuracy: 0.6932\n",
      "Epoch 93/300\n",
      "11/11 [==============================] - 4s 337ms/step - loss: 2.0243e-04 - accuracy: 1.0000 - val_loss: 1.0827 - val_accuracy: 0.6989\n",
      "Epoch 94/300\n",
      "11/11 [==============================] - 4s 350ms/step - loss: 0.0020 - accuracy: 1.0000 - val_loss: 1.0692 - val_accuracy: 0.6989\n",
      "Epoch 95/300\n",
      "11/11 [==============================] - 4s 331ms/step - loss: 0.0034 - accuracy: 1.0000 - val_loss: 1.0603 - val_accuracy: 0.6960\n",
      "Epoch 96/300\n",
      "11/11 [==============================] - 4s 335ms/step - loss: 7.7324e-04 - accuracy: 1.0000 - val_loss: 1.0541 - val_accuracy: 0.7017\n",
      "Epoch 97/300\n",
      "11/11 [==============================] - 4s 337ms/step - loss: 2.3542e-04 - accuracy: 1.0000 - val_loss: 1.0431 - val_accuracy: 0.7045\n",
      "Epoch 98/300\n",
      "11/11 [==============================] - 4s 337ms/step - loss: 6.9477e-04 - accuracy: 1.0000 - val_loss: 1.0246 - val_accuracy: 0.7102\n",
      "Epoch 99/300\n",
      "11/11 [==============================] - 4s 334ms/step - loss: 2.8130e-04 - accuracy: 1.0000 - val_loss: 1.0031 - val_accuracy: 0.7131\n",
      "Epoch 100/300\n",
      "11/11 [==============================] - 4s 335ms/step - loss: 3.7076e-04 - accuracy: 1.0000 - val_loss: 0.9861 - val_accuracy: 0.7244\n",
      "Epoch 101/300\n",
      "11/11 [==============================] - 4s 333ms/step - loss: 8.0504e-04 - accuracy: 1.0000 - val_loss: 0.9639 - val_accuracy: 0.7244\n",
      "Epoch 102/300\n",
      "11/11 [==============================] - 4s 338ms/step - loss: 4.5129e-04 - accuracy: 1.0000 - val_loss: 0.9396 - val_accuracy: 0.7330\n",
      "Epoch 103/300\n",
      "11/11 [==============================] - 4s 347ms/step - loss: 3.6894e-04 - accuracy: 1.0000 - val_loss: 0.9154 - val_accuracy: 0.7386\n",
      "Epoch 104/300\n",
      "11/11 [==============================] - 4s 342ms/step - loss: 7.8391e-04 - accuracy: 1.0000 - val_loss: 0.8925 - val_accuracy: 0.7415\n",
      "Epoch 105/300\n",
      "11/11 [==============================] - 4s 341ms/step - loss: 1.6129e-04 - accuracy: 1.0000 - val_loss: 0.8729 - val_accuracy: 0.7415\n",
      "Epoch 106/300\n",
      "11/11 [==============================] - 4s 347ms/step - loss: 2.1934e-04 - accuracy: 1.0000 - val_loss: 0.8556 - val_accuracy: 0.7472\n",
      "Epoch 107/300\n",
      "11/11 [==============================] - 4s 334ms/step - loss: 5.0873e-04 - accuracy: 1.0000 - val_loss: 0.8375 - val_accuracy: 0.7500\n",
      "Epoch 108/300\n",
      "11/11 [==============================] - 4s 348ms/step - loss: 5.6581e-04 - accuracy: 1.0000 - val_loss: 0.8203 - val_accuracy: 0.7585\n",
      "Epoch 109/300\n",
      "11/11 [==============================] - 4s 337ms/step - loss: 3.5296e-04 - accuracy: 1.0000 - val_loss: 0.8063 - val_accuracy: 0.7614\n",
      "Epoch 110/300\n",
      "11/11 [==============================] - 4s 338ms/step - loss: 0.0072 - accuracy: 0.9943 - val_loss: 0.7952 - val_accuracy: 0.7642\n",
      "Epoch 111/300\n",
      "11/11 [==============================] - 4s 345ms/step - loss: 2.2709e-04 - accuracy: 1.0000 - val_loss: 0.8100 - val_accuracy: 0.7585\n",
      "Epoch 112/300\n",
      "11/11 [==============================] - 4s 334ms/step - loss: 0.0048 - accuracy: 0.9972 - val_loss: 0.7965 - val_accuracy: 0.7642\n",
      "Epoch 113/300\n",
      "11/11 [==============================] - 4s 335ms/step - loss: 0.0026 - accuracy: 1.0000 - val_loss: 0.7684 - val_accuracy: 0.7670\n"
     ]
    },
    {
     "name": "stdout",
     "output_type": "stream",
     "text": [
      "Epoch 114/300\n",
      "11/11 [==============================] - 4s 335ms/step - loss: 4.4546e-04 - accuracy: 1.0000 - val_loss: 0.7497 - val_accuracy: 0.7727\n",
      "Epoch 115/300\n",
      "11/11 [==============================] - 4s 333ms/step - loss: 2.2834e-04 - accuracy: 1.0000 - val_loss: 0.7376 - val_accuracy: 0.7812\n",
      "Epoch 116/300\n",
      "11/11 [==============================] - 4s 336ms/step - loss: 3.3742e-04 - accuracy: 1.0000 - val_loss: 0.7285 - val_accuracy: 0.7784\n",
      "Epoch 117/300\n",
      "11/11 [==============================] - 4s 350ms/step - loss: 4.7247e-04 - accuracy: 1.0000 - val_loss: 0.7182 - val_accuracy: 0.7756\n",
      "Epoch 118/300\n",
      "11/11 [==============================] - 4s 340ms/step - loss: 4.1123e-04 - accuracy: 1.0000 - val_loss: 0.7116 - val_accuracy: 0.7699\n",
      "Epoch 119/300\n",
      "11/11 [==============================] - 4s 358ms/step - loss: 0.0010 - accuracy: 1.0000 - val_loss: 0.7198 - val_accuracy: 0.7670\n",
      "Epoch 120/300\n",
      "11/11 [==============================] - 4s 346ms/step - loss: 1.7428e-04 - accuracy: 1.0000 - val_loss: 0.7196 - val_accuracy: 0.7670\n",
      "Epoch 121/300\n",
      "11/11 [==============================] - 4s 340ms/step - loss: 0.0011 - accuracy: 1.0000 - val_loss: 0.7133 - val_accuracy: 0.7727\n",
      "Epoch 122/300\n",
      "11/11 [==============================] - 4s 348ms/step - loss: 2.9080e-04 - accuracy: 1.0000 - val_loss: 0.7050 - val_accuracy: 0.7727\n",
      "Epoch 123/300\n",
      "11/11 [==============================] - 4s 339ms/step - loss: 3.1545e-04 - accuracy: 1.0000 - val_loss: 0.6958 - val_accuracy: 0.7699\n",
      "Epoch 124/300\n",
      "11/11 [==============================] - 4s 350ms/step - loss: 7.6824e-04 - accuracy: 1.0000 - val_loss: 0.6925 - val_accuracy: 0.7670\n",
      "Epoch 125/300\n",
      "11/11 [==============================] - 4s 333ms/step - loss: 3.3084e-04 - accuracy: 1.0000 - val_loss: 0.6885 - val_accuracy: 0.7727\n",
      "Epoch 126/300\n",
      "11/11 [==============================] - 4s 334ms/step - loss: 4.7194e-04 - accuracy: 1.0000 - val_loss: 0.6814 - val_accuracy: 0.7784\n",
      "Epoch 127/300\n",
      "11/11 [==============================] - 4s 334ms/step - loss: 6.2663e-04 - accuracy: 1.0000 - val_loss: 0.6755 - val_accuracy: 0.7812\n",
      "Epoch 128/300\n",
      "11/11 [==============================] - 4s 334ms/step - loss: 0.0019 - accuracy: 1.0000 - val_loss: 0.6438 - val_accuracy: 0.7841\n",
      "Epoch 129/300\n",
      "11/11 [==============================] - 4s 335ms/step - loss: 6.7498e-04 - accuracy: 1.0000 - val_loss: 0.6263 - val_accuracy: 0.7926\n",
      "Epoch 130/300\n",
      "11/11 [==============================] - 4s 334ms/step - loss: 2.9141e-04 - accuracy: 1.0000 - val_loss: 0.6146 - val_accuracy: 0.7955\n",
      "Epoch 131/300\n",
      "11/11 [==============================] - 4s 338ms/step - loss: 0.0020 - accuracy: 1.0000 - val_loss: 0.6138 - val_accuracy: 0.7926\n",
      "Epoch 132/300\n",
      "11/11 [==============================] - 4s 335ms/step - loss: 4.8324e-04 - accuracy: 1.0000 - val_loss: 0.6119 - val_accuracy: 0.7869\n",
      "Epoch 133/300\n",
      "11/11 [==============================] - 4s 346ms/step - loss: 1.6754e-04 - accuracy: 1.0000 - val_loss: 0.6070 - val_accuracy: 0.7898\n",
      "Epoch 134/300\n",
      "11/11 [==============================] - 4s 342ms/step - loss: 8.2016e-04 - accuracy: 1.0000 - val_loss: 0.6022 - val_accuracy: 0.7898\n",
      "Epoch 135/300\n",
      "11/11 [==============================] - 4s 342ms/step - loss: 3.4520e-04 - accuracy: 1.0000 - val_loss: 0.5963 - val_accuracy: 0.7926\n",
      "Epoch 136/300\n",
      "11/11 [==============================] - 4s 344ms/step - loss: 3.0580e-04 - accuracy: 1.0000 - val_loss: 0.5924 - val_accuracy: 0.7955\n",
      "Epoch 137/300\n",
      "11/11 [==============================] - 4s 341ms/step - loss: 7.0225e-04 - accuracy: 1.0000 - val_loss: 0.5910 - val_accuracy: 0.7955\n",
      "Epoch 138/300\n",
      "11/11 [==============================] - 4s 348ms/step - loss: 2.8430e-04 - accuracy: 1.0000 - val_loss: 0.5919 - val_accuracy: 0.7955\n",
      "Epoch 139/300\n",
      "11/11 [==============================] - 4s 334ms/step - loss: 1.5373e-04 - accuracy: 1.0000 - val_loss: 0.5928 - val_accuracy: 0.7955\n",
      "Epoch 140/300\n",
      "11/11 [==============================] - 4s 351ms/step - loss: 8.0635e-04 - accuracy: 1.0000 - val_loss: 0.5890 - val_accuracy: 0.7898\n",
      "Epoch 141/300\n",
      "11/11 [==============================] - 4s 337ms/step - loss: 3.1048e-04 - accuracy: 1.0000 - val_loss: 0.5860 - val_accuracy: 0.7955\n",
      "Epoch 142/300\n",
      "11/11 [==============================] - 4s 339ms/step - loss: 8.8923e-04 - accuracy: 1.0000 - val_loss: 0.5830 - val_accuracy: 0.8011\n",
      "Epoch 143/300\n",
      "11/11 [==============================] - 4s 341ms/step - loss: 4.7179e-04 - accuracy: 1.0000 - val_loss: 0.5828 - val_accuracy: 0.7983\n",
      "Epoch 144/300\n",
      "11/11 [==============================] - 4s 341ms/step - loss: 6.9769e-04 - accuracy: 1.0000 - val_loss: 0.5719 - val_accuracy: 0.7983\n",
      "Epoch 145/300\n",
      "11/11 [==============================] - 4s 353ms/step - loss: 0.0011 - accuracy: 1.0000 - val_loss: 0.5529 - val_accuracy: 0.8068\n",
      "Epoch 146/300\n",
      "11/11 [==============================] - 4s 334ms/step - loss: 0.0022 - accuracy: 1.0000 - val_loss: 0.5554 - val_accuracy: 0.8011\n",
      "Epoch 147/300\n",
      "11/11 [==============================] - 4s 335ms/step - loss: 0.0025 - accuracy: 1.0000 - val_loss: 0.5384 - val_accuracy: 0.8068\n",
      "Epoch 148/300\n",
      "11/11 [==============================] - 4s 337ms/step - loss: 4.8785e-04 - accuracy: 1.0000 - val_loss: 0.5280 - val_accuracy: 0.8068\n",
      "Epoch 149/300\n",
      "11/11 [==============================] - 4s 335ms/step - loss: 2.3247e-04 - accuracy: 1.0000 - val_loss: 0.5211 - val_accuracy: 0.8068\n",
      "Epoch 150/300\n",
      "11/11 [==============================] - 4s 349ms/step - loss: 3.8124e-04 - accuracy: 1.0000 - val_loss: 0.5162 - val_accuracy: 0.8097\n",
      "Epoch 151/300\n",
      "11/11 [==============================] - 4s 341ms/step - loss: 8.7923e-04 - accuracy: 1.0000 - val_loss: 0.5115 - val_accuracy: 0.8068\n",
      "Epoch 152/300\n",
      "11/11 [==============================] - 4s 344ms/step - loss: 0.0031 - accuracy: 1.0000 - val_loss: 0.4989 - val_accuracy: 0.8153\n",
      "Epoch 153/300\n",
      "11/11 [==============================] - 4s 346ms/step - loss: 3.3075e-04 - accuracy: 1.0000 - val_loss: 0.4726 - val_accuracy: 0.8295\n",
      "Epoch 154/300\n",
      "11/11 [==============================] - 4s 338ms/step - loss: 6.1575e-04 - accuracy: 1.0000 - val_loss: 0.4605 - val_accuracy: 0.8295\n",
      "Epoch 155/300\n",
      "11/11 [==============================] - 4s 353ms/step - loss: 1.7372e-04 - accuracy: 1.0000 - val_loss: 0.4542 - val_accuracy: 0.8295\n",
      "Epoch 156/300\n",
      "11/11 [==============================] - 4s 333ms/step - loss: 3.9383e-04 - accuracy: 1.0000 - val_loss: 0.4478 - val_accuracy: 0.8267\n",
      "Epoch 157/300\n",
      "11/11 [==============================] - 4s 335ms/step - loss: 2.4822e-04 - accuracy: 1.0000 - val_loss: 0.4438 - val_accuracy: 0.8267\n",
      "Epoch 158/300\n",
      "11/11 [==============================] - 4s 338ms/step - loss: 0.0040 - accuracy: 0.9972 - val_loss: 0.4265 - val_accuracy: 0.8409\n",
      "Epoch 159/300\n",
      "11/11 [==============================] - 4s 335ms/step - loss: 0.0023 - accuracy: 1.0000 - val_loss: 0.4308 - val_accuracy: 0.8466\n",
      "Epoch 160/300\n",
      "11/11 [==============================] - 4s 337ms/step - loss: 0.0010 - accuracy: 1.0000 - val_loss: 0.4194 - val_accuracy: 0.8466\n",
      "Epoch 161/300\n",
      "11/11 [==============================] - 4s 338ms/step - loss: 3.2658e-04 - accuracy: 1.0000 - val_loss: 0.4098 - val_accuracy: 0.8466\n",
      "Epoch 162/300\n",
      "11/11 [==============================] - 4s 336ms/step - loss: 9.9967e-05 - accuracy: 1.0000 - val_loss: 0.4029 - val_accuracy: 0.8523\n",
      "Epoch 163/300\n",
      "11/11 [==============================] - 4s 334ms/step - loss: 0.0010 - accuracy: 1.0000 - val_loss: 0.3963 - val_accuracy: 0.8523\n",
      "Epoch 164/300\n",
      "11/11 [==============================] - 4s 338ms/step - loss: 2.8076e-04 - accuracy: 1.0000 - val_loss: 0.3917 - val_accuracy: 0.8551\n",
      "Epoch 165/300\n",
      "11/11 [==============================] - 4s 346ms/step - loss: 5.7423e-04 - accuracy: 1.0000 - val_loss: 0.3858 - val_accuracy: 0.8636\n",
      "Epoch 166/300\n",
      "11/11 [==============================] - 4s 342ms/step - loss: 4.8337e-04 - accuracy: 1.0000 - val_loss: 0.3795 - val_accuracy: 0.8636\n",
      "Epoch 167/300\n",
      "11/11 [==============================] - 4s 347ms/step - loss: 5.7757e-04 - accuracy: 1.0000 - val_loss: 0.3726 - val_accuracy: 0.8608\n",
      "Epoch 168/300\n",
      "11/11 [==============================] - 4s 343ms/step - loss: 1.9083e-04 - accuracy: 1.0000 - val_loss: 0.3656 - val_accuracy: 0.8608\n",
      "Epoch 169/300\n"
     ]
    },
    {
     "name": "stdout",
     "output_type": "stream",
     "text": [
      "11/11 [==============================] - 4s 338ms/step - loss: 2.7382e-04 - accuracy: 1.0000 - val_loss: 0.3600 - val_accuracy: 0.8608\n",
      "Epoch 170/300\n",
      "11/11 [==============================] - 4s 346ms/step - loss: 1.5376e-04 - accuracy: 1.0000 - val_loss: 0.3553 - val_accuracy: 0.8608\n",
      "Epoch 171/300\n",
      "11/11 [==============================] - 4s 333ms/step - loss: 1.9445e-04 - accuracy: 1.0000 - val_loss: 0.3502 - val_accuracy: 0.8608\n",
      "Epoch 172/300\n",
      "11/11 [==============================] - 4s 334ms/step - loss: 6.5705e-04 - accuracy: 1.0000 - val_loss: 0.3482 - val_accuracy: 0.8636\n",
      "Epoch 173/300\n",
      "11/11 [==============================] - 4s 337ms/step - loss: 3.9875e-04 - accuracy: 1.0000 - val_loss: 0.3460 - val_accuracy: 0.8665\n",
      "Epoch 174/300\n",
      "11/11 [==============================] - 4s 344ms/step - loss: 2.8565e-04 - accuracy: 1.0000 - val_loss: 0.3429 - val_accuracy: 0.8722\n",
      "Epoch 175/300\n",
      "11/11 [==============================] - 4s 350ms/step - loss: 6.5700e-04 - accuracy: 1.0000 - val_loss: 0.3364 - val_accuracy: 0.8778\n",
      "Epoch 176/300\n",
      "11/11 [==============================] - 4s 336ms/step - loss: 4.6358e-04 - accuracy: 1.0000 - val_loss: 0.3318 - val_accuracy: 0.8864\n",
      "Epoch 177/300\n",
      "11/11 [==============================] - 4s 335ms/step - loss: 2.1251e-04 - accuracy: 1.0000 - val_loss: 0.3264 - val_accuracy: 0.8892\n",
      "Epoch 178/300\n",
      "11/11 [==============================] - 4s 338ms/step - loss: 2.0115e-04 - accuracy: 1.0000 - val_loss: 0.3215 - val_accuracy: 0.8920\n",
      "Epoch 179/300\n",
      "11/11 [==============================] - 4s 335ms/step - loss: 3.3953e-04 - accuracy: 1.0000 - val_loss: 0.3147 - val_accuracy: 0.8977\n",
      "Epoch 180/300\n",
      "11/11 [==============================] - 4s 348ms/step - loss: 1.4527e-04 - accuracy: 1.0000 - val_loss: 0.3090 - val_accuracy: 0.8977\n",
      "Epoch 181/300\n",
      "11/11 [==============================] - 4s 341ms/step - loss: 1.3408e-04 - accuracy: 1.0000 - val_loss: 0.3029 - val_accuracy: 0.8977\n",
      "Epoch 182/300\n",
      "11/11 [==============================] - 4s 349ms/step - loss: 5.6205e-04 - accuracy: 1.0000 - val_loss: 0.2933 - val_accuracy: 0.8977\n",
      "Epoch 183/300\n",
      "11/11 [==============================] - 4s 342ms/step - loss: 2.6076e-04 - accuracy: 1.0000 - val_loss: 0.2834 - val_accuracy: 0.8977\n",
      "Epoch 184/300\n",
      "11/11 [==============================] - 4s 342ms/step - loss: 1.9352e-04 - accuracy: 1.0000 - val_loss: 0.2750 - val_accuracy: 0.8977\n",
      "Epoch 185/300\n",
      "11/11 [==============================] - 4s 346ms/step - loss: 0.0010 - accuracy: 1.0000 - val_loss: 0.2698 - val_accuracy: 0.8977\n",
      "Epoch 186/300\n",
      "11/11 [==============================] - 4s 337ms/step - loss: 1.5149e-04 - accuracy: 1.0000 - val_loss: 0.2633 - val_accuracy: 0.9006\n",
      "Epoch 187/300\n",
      "11/11 [==============================] - 4s 350ms/step - loss: 2.3836e-04 - accuracy: 1.0000 - val_loss: 0.2578 - val_accuracy: 0.9006\n",
      "Epoch 188/300\n",
      "11/11 [==============================] - 4s 331ms/step - loss: 2.6043e-04 - accuracy: 1.0000 - val_loss: 0.2524 - val_accuracy: 0.9034\n",
      "Epoch 189/300\n",
      "11/11 [==============================] - 4s 339ms/step - loss: 1.5145e-04 - accuracy: 1.0000 - val_loss: 0.2473 - val_accuracy: 0.9034\n",
      "Epoch 190/300\n",
      "11/11 [==============================] - 4s 336ms/step - loss: 1.6258e-04 - accuracy: 1.0000 - val_loss: 0.2420 - val_accuracy: 0.9034\n",
      "Epoch 191/300\n",
      "11/11 [==============================] - 4s 335ms/step - loss: 4.0359e-04 - accuracy: 1.0000 - val_loss: 0.2381 - val_accuracy: 0.9062\n",
      "Epoch 192/300\n",
      "11/11 [==============================] - 4s 336ms/step - loss: 1.5833e-04 - accuracy: 1.0000 - val_loss: 0.2334 - val_accuracy: 0.9062\n",
      "Epoch 193/300\n",
      "11/11 [==============================] - 4s 334ms/step - loss: 1.9528e-04 - accuracy: 1.0000 - val_loss: 0.2283 - val_accuracy: 0.9148\n",
      "Epoch 194/300\n",
      "11/11 [==============================] - 4s 332ms/step - loss: 1.2978e-04 - accuracy: 1.0000 - val_loss: 0.2238 - val_accuracy: 0.9148\n",
      "Epoch 195/300\n",
      "11/11 [==============================] - 4s 334ms/step - loss: 1.5638e-04 - accuracy: 1.0000 - val_loss: 0.2192 - val_accuracy: 0.9176\n",
      "Epoch 196/300\n",
      "11/11 [==============================] - 4s 347ms/step - loss: 1.4423e-04 - accuracy: 1.0000 - val_loss: 0.2149 - val_accuracy: 0.9176\n",
      "Epoch 197/300\n",
      "11/11 [==============================] - 4s 343ms/step - loss: 9.3886e-05 - accuracy: 1.0000 - val_loss: 0.2118 - val_accuracy: 0.9176\n",
      "Epoch 198/300\n",
      "11/11 [==============================] - 4s 343ms/step - loss: 4.2917e-04 - accuracy: 1.0000 - val_loss: 0.2100 - val_accuracy: 0.9176\n",
      "Epoch 199/300\n",
      "11/11 [==============================] - 4s 346ms/step - loss: 7.4673e-04 - accuracy: 1.0000 - val_loss: 0.2048 - val_accuracy: 0.9233\n",
      "Epoch 200/300\n",
      "11/11 [==============================] - 4s 339ms/step - loss: 1.6148e-04 - accuracy: 1.0000 - val_loss: 0.1990 - val_accuracy: 0.9205\n",
      "Epoch 201/300\n",
      "11/11 [==============================] - 4s 350ms/step - loss: 1.6300e-04 - accuracy: 1.0000 - val_loss: 0.1940 - val_accuracy: 0.9205\n",
      "Epoch 202/300\n",
      "11/11 [==============================] - 4s 336ms/step - loss: 1.5639e-04 - accuracy: 1.0000 - val_loss: 0.1887 - val_accuracy: 0.9290\n",
      "Epoch 203/300\n",
      "11/11 [==============================] - 4s 335ms/step - loss: 1.1647e-04 - accuracy: 1.0000 - val_loss: 0.1846 - val_accuracy: 0.9318\n",
      "Epoch 204/300\n",
      "11/11 [==============================] - 4s 336ms/step - loss: 3.0905e-04 - accuracy: 1.0000 - val_loss: 0.1801 - val_accuracy: 0.9347\n",
      "Epoch 205/300\n",
      "11/11 [==============================] - 4s 335ms/step - loss: 1.0512e-04 - accuracy: 1.0000 - val_loss: 0.1745 - val_accuracy: 0.9375\n",
      "Epoch 206/300\n",
      "11/11 [==============================] - 4s 346ms/step - loss: 3.8720e-04 - accuracy: 1.0000 - val_loss: 0.1699 - val_accuracy: 0.9347\n",
      "Epoch 207/300\n",
      "11/11 [==============================] - 4s 338ms/step - loss: 0.0019 - accuracy: 1.0000 - val_loss: 0.1604 - val_accuracy: 0.9375\n",
      "Epoch 208/300\n",
      "11/11 [==============================] - 4s 337ms/step - loss: 1.8724e-04 - accuracy: 1.0000 - val_loss: 0.1537 - val_accuracy: 0.9375\n",
      "Epoch 209/300\n",
      "11/11 [==============================] - 4s 338ms/step - loss: 2.1226e-04 - accuracy: 1.0000 - val_loss: 0.1492 - val_accuracy: 0.9403\n",
      "Epoch 210/300\n",
      "11/11 [==============================] - 4s 337ms/step - loss: 4.4958e-04 - accuracy: 1.0000 - val_loss: 0.1455 - val_accuracy: 0.9403\n",
      "Epoch 211/300\n",
      "11/11 [==============================] - 4s 346ms/step - loss: 8.2288e-05 - accuracy: 1.0000 - val_loss: 0.1420 - val_accuracy: 0.9403\n",
      "Epoch 212/300\n",
      "11/11 [==============================] - 4s 344ms/step - loss: 1.7430e-04 - accuracy: 1.0000 - val_loss: 0.1402 - val_accuracy: 0.9403\n",
      "Epoch 213/300\n",
      "11/11 [==============================] - 4s 343ms/step - loss: 1.9772e-04 - accuracy: 1.0000 - val_loss: 0.1392 - val_accuracy: 0.9432\n",
      "Epoch 214/300\n",
      "11/11 [==============================] - 4s 346ms/step - loss: 8.4991e-05 - accuracy: 1.0000 - val_loss: 0.1364 - val_accuracy: 0.9432\n",
      "Epoch 215/300\n",
      "11/11 [==============================] - 4s 341ms/step - loss: 0.0011 - accuracy: 1.0000 - val_loss: 0.1329 - val_accuracy: 0.9432\n",
      "Epoch 216/300\n",
      "11/11 [==============================] - 4s 347ms/step - loss: 0.0013 - accuracy: 1.0000 - val_loss: 0.1281 - val_accuracy: 0.9432\n",
      "Epoch 217/300\n",
      "11/11 [==============================] - 4s 338ms/step - loss: 1.7173e-04 - accuracy: 1.0000 - val_loss: 0.1232 - val_accuracy: 0.9517\n",
      "Epoch 218/300\n",
      "11/11 [==============================] - 4s 353ms/step - loss: 1.3352e-04 - accuracy: 1.0000 - val_loss: 0.1193 - val_accuracy: 0.9545\n",
      "Epoch 219/300\n",
      "11/11 [==============================] - 4s 336ms/step - loss: 0.0016 - accuracy: 1.0000 - val_loss: 0.1138 - val_accuracy: 0.9545\n",
      "Epoch 220/300\n",
      "11/11 [==============================] - 4s 336ms/step - loss: 3.4343e-04 - accuracy: 1.0000 - val_loss: 0.1099 - val_accuracy: 0.9545\n",
      "Epoch 221/300\n",
      "11/11 [==============================] - 4s 337ms/step - loss: 0.0017 - accuracy: 1.0000 - val_loss: 0.1071 - val_accuracy: 0.9574\n",
      "Epoch 222/300\n",
      "11/11 [==============================] - 4s 335ms/step - loss: 3.2781e-04 - accuracy: 1.0000 - val_loss: 0.1038 - val_accuracy: 0.9574\n",
      "Epoch 223/300\n",
      "11/11 [==============================] - 4s 335ms/step - loss: 3.8617e-04 - accuracy: 1.0000 - val_loss: 0.0988 - val_accuracy: 0.9574\n",
      "Epoch 224/300\n"
     ]
    },
    {
     "name": "stdout",
     "output_type": "stream",
     "text": [
      "11/11 [==============================] - 4s 335ms/step - loss: 3.2598e-04 - accuracy: 1.0000 - val_loss: 0.0957 - val_accuracy: 0.9574\n",
      "Epoch 225/300\n",
      "11/11 [==============================] - 4s 337ms/step - loss: 1.0021e-04 - accuracy: 1.0000 - val_loss: 0.0930 - val_accuracy: 0.9574\n",
      "Epoch 226/300\n",
      "11/11 [==============================] - 4s 336ms/step - loss: 3.8491e-04 - accuracy: 1.0000 - val_loss: 0.0889 - val_accuracy: 0.9602\n",
      "Epoch 227/300\n",
      "11/11 [==============================] - 4s 347ms/step - loss: 4.0459e-04 - accuracy: 1.0000 - val_loss: 0.0850 - val_accuracy: 0.9602\n",
      "Epoch 228/300\n",
      "11/11 [==============================] - 4s 341ms/step - loss: 1.4421e-04 - accuracy: 1.0000 - val_loss: 0.0809 - val_accuracy: 0.9631\n",
      "Epoch 229/300\n",
      "11/11 [==============================] - 4s 343ms/step - loss: 1.4634e-04 - accuracy: 1.0000 - val_loss: 0.0765 - val_accuracy: 0.9659\n",
      "Epoch 230/300\n",
      "11/11 [==============================] - 4s 346ms/step - loss: 2.8963e-04 - accuracy: 1.0000 - val_loss: 0.0721 - val_accuracy: 0.9716\n",
      "Epoch 231/300\n",
      "11/11 [==============================] - 4s 340ms/step - loss: 1.3092e-04 - accuracy: 1.0000 - val_loss: 0.0682 - val_accuracy: 0.9716\n",
      "Epoch 232/300\n",
      "11/11 [==============================] - 4s 349ms/step - loss: 7.4670e-05 - accuracy: 1.0000 - val_loss: 0.0643 - val_accuracy: 0.9744\n",
      "Epoch 233/300\n",
      "11/11 [==============================] - 4s 336ms/step - loss: 3.5860e-04 - accuracy: 1.0000 - val_loss: 0.0623 - val_accuracy: 0.9744\n",
      "Epoch 234/300\n",
      "11/11 [==============================] - 4s 350ms/step - loss: 4.0408e-04 - accuracy: 1.0000 - val_loss: 0.0603 - val_accuracy: 0.9716\n",
      "Epoch 235/300\n",
      "11/11 [==============================] - 4s 335ms/step - loss: 2.7095e-04 - accuracy: 1.0000 - val_loss: 0.0590 - val_accuracy: 0.9716\n",
      "Epoch 236/300\n",
      "11/11 [==============================] - 4s 336ms/step - loss: 2.8285e-04 - accuracy: 1.0000 - val_loss: 0.0569 - val_accuracy: 0.9716\n",
      "Epoch 237/300\n",
      "11/11 [==============================] - 4s 332ms/step - loss: 1.4397e-04 - accuracy: 1.0000 - val_loss: 0.0543 - val_accuracy: 0.9716\n",
      "Epoch 238/300\n",
      "11/11 [==============================] - 4s 343ms/step - loss: 1.2678e-04 - accuracy: 1.0000 - val_loss: 0.0516 - val_accuracy: 0.9716\n",
      "Epoch 239/300\n",
      "11/11 [==============================] - 4s 338ms/step - loss: 2.6477e-04 - accuracy: 1.0000 - val_loss: 0.0488 - val_accuracy: 0.9773\n",
      "Epoch 240/300\n",
      "11/11 [==============================] - 4s 339ms/step - loss: 1.4616e-04 - accuracy: 1.0000 - val_loss: 0.0464 - val_accuracy: 0.9773\n",
      "Epoch 241/300\n",
      "11/11 [==============================] - 4s 335ms/step - loss: 0.0028 - accuracy: 0.9972 - val_loss: 0.0520 - val_accuracy: 0.9716\n",
      "Epoch 242/300\n",
      "11/11 [==============================] - 4s 339ms/step - loss: 4.3211e-04 - accuracy: 1.0000 - val_loss: 0.0542 - val_accuracy: 0.9716\n",
      "Epoch 243/300\n",
      "11/11 [==============================] - 4s 345ms/step - loss: 6.6843e-05 - accuracy: 1.0000 - val_loss: 0.0547 - val_accuracy: 0.9716\n",
      "Epoch 244/300\n",
      "11/11 [==============================] - 4s 344ms/step - loss: 3.1122e-04 - accuracy: 1.0000 - val_loss: 0.0533 - val_accuracy: 0.9716\n",
      "Epoch 245/300\n",
      "11/11 [==============================] - 4s 339ms/step - loss: 1.4664e-04 - accuracy: 1.0000 - val_loss: 0.0514 - val_accuracy: 0.9773\n",
      "Epoch 246/300\n",
      "11/11 [==============================] - 4s 347ms/step - loss: 9.1974e-05 - accuracy: 1.0000 - val_loss: 0.0492 - val_accuracy: 0.9773\n",
      "Epoch 247/300\n",
      "11/11 [==============================] - 4s 339ms/step - loss: 1.1984e-04 - accuracy: 1.0000 - val_loss: 0.0473 - val_accuracy: 0.9773\n",
      "Epoch 248/300\n",
      "11/11 [==============================] - 4s 349ms/step - loss: 2.5015e-04 - accuracy: 1.0000 - val_loss: 0.0461 - val_accuracy: 0.9830\n",
      "Epoch 249/300\n",
      "11/11 [==============================] - 4s 334ms/step - loss: 8.9175e-05 - accuracy: 1.0000 - val_loss: 0.0451 - val_accuracy: 0.9858\n",
      "Epoch 250/300\n",
      "11/11 [==============================] - 4s 337ms/step - loss: 8.5597e-05 - accuracy: 1.0000 - val_loss: 0.0442 - val_accuracy: 0.9858\n",
      "Epoch 251/300\n",
      "11/11 [==============================] - 4s 335ms/step - loss: 2.3022e-04 - accuracy: 1.0000 - val_loss: 0.0428 - val_accuracy: 0.9886\n",
      "Epoch 252/300\n",
      "11/11 [==============================] - 4s 337ms/step - loss: 1.4567e-04 - accuracy: 1.0000 - val_loss: 0.0411 - val_accuracy: 0.9886\n",
      "Epoch 253/300\n",
      "11/11 [==============================] - 4s 334ms/step - loss: 1.2436e-04 - accuracy: 1.0000 - val_loss: 0.0398 - val_accuracy: 0.9886\n",
      "Epoch 254/300\n",
      "11/11 [==============================] - 4s 335ms/step - loss: 7.2215e-05 - accuracy: 1.0000 - val_loss: 0.0392 - val_accuracy: 0.9886\n",
      "Epoch 255/300\n",
      "11/11 [==============================] - 4s 334ms/step - loss: 2.0830e-04 - accuracy: 1.0000 - val_loss: 0.0387 - val_accuracy: 0.9886\n",
      "Epoch 256/300\n",
      "11/11 [==============================] - 4s 341ms/step - loss: 2.4417e-04 - accuracy: 1.0000 - val_loss: 0.0386 - val_accuracy: 0.9886\n",
      "Epoch 257/300\n",
      "11/11 [==============================] - 4s 334ms/step - loss: 2.2311e-04 - accuracy: 1.0000 - val_loss: 0.0384 - val_accuracy: 0.9886\n",
      "Epoch 258/300\n",
      "11/11 [==============================] - 4s 346ms/step - loss: 5.6221e-05 - accuracy: 1.0000 - val_loss: 0.0379 - val_accuracy: 0.9886\n",
      "Epoch 259/300\n",
      "11/11 [==============================] - 4s 341ms/step - loss: 3.0974e-04 - accuracy: 1.0000 - val_loss: 0.0372 - val_accuracy: 0.9915\n",
      "Epoch 260/300\n",
      "11/11 [==============================] - 4s 342ms/step - loss: 6.3698e-04 - accuracy: 1.0000 - val_loss: 0.0359 - val_accuracy: 0.9915\n",
      "Epoch 261/300\n",
      "11/11 [==============================] - 4s 344ms/step - loss: 2.1420e-04 - accuracy: 1.0000 - val_loss: 0.0344 - val_accuracy: 0.9915\n",
      "Epoch 262/300\n",
      "11/11 [==============================] - 4s 338ms/step - loss: 1.6270e-04 - accuracy: 1.0000 - val_loss: 0.0335 - val_accuracy: 0.9915\n",
      "Epoch 263/300\n",
      "11/11 [==============================] - 4s 350ms/step - loss: 5.2597e-05 - accuracy: 1.0000 - val_loss: 0.0330 - val_accuracy: 0.9915\n",
      "Epoch 264/300\n",
      "11/11 [==============================] - 4s 336ms/step - loss: 3.8668e-05 - accuracy: 1.0000 - val_loss: 0.0328 - val_accuracy: 0.9915\n",
      "Epoch 265/300\n",
      "11/11 [==============================] - 4s 333ms/step - loss: 2.5815e-04 - accuracy: 1.0000 - val_loss: 0.0327 - val_accuracy: 0.9915\n",
      "Epoch 266/300\n",
      "11/11 [==============================] - 4s 332ms/step - loss: 1.8913e-04 - accuracy: 1.0000 - val_loss: 0.0323 - val_accuracy: 0.9915\n",
      "Epoch 267/300\n",
      "11/11 [==============================] - 4s 336ms/step - loss: 7.3998e-05 - accuracy: 1.0000 - val_loss: 0.0312 - val_accuracy: 0.9915\n",
      "Epoch 268/300\n",
      "11/11 [==============================] - 4s 341ms/step - loss: 1.8935e-04 - accuracy: 1.0000 - val_loss: 0.0301 - val_accuracy: 0.9915\n",
      "Epoch 269/300\n",
      "11/11 [==============================] - 4s 339ms/step - loss: 1.5520e-04 - accuracy: 1.0000 - val_loss: 0.0292 - val_accuracy: 0.9915\n",
      "Epoch 270/300\n",
      "11/11 [==============================] - 4s 352ms/step - loss: 7.4248e-05 - accuracy: 1.0000 - val_loss: 0.0282 - val_accuracy: 0.9915\n",
      "Epoch 271/300\n",
      "11/11 [==============================] - 4s 347ms/step - loss: 1.2129e-04 - accuracy: 1.0000 - val_loss: 0.0271 - val_accuracy: 0.9915\n",
      "Epoch 272/300\n",
      "11/11 [==============================] - 4s 337ms/step - loss: 1.2445e-04 - accuracy: 1.0000 - val_loss: 0.0264 - val_accuracy: 0.9915\n",
      "Epoch 273/300\n",
      "11/11 [==============================] - 4s 339ms/step - loss: 1.0486e-04 - accuracy: 1.0000 - val_loss: 0.0255 - val_accuracy: 0.9915\n",
      "Epoch 274/300\n",
      "11/11 [==============================] - 4s 346ms/step - loss: 5.5848e-05 - accuracy: 1.0000 - val_loss: 0.0245 - val_accuracy: 0.9915\n",
      "Epoch 275/300\n",
      "11/11 [==============================] - 4s 341ms/step - loss: 7.7098e-05 - accuracy: 1.0000 - val_loss: 0.0238 - val_accuracy: 0.9915\n",
      "Epoch 276/300\n",
      "11/11 [==============================] - 4s 341ms/step - loss: 3.2107e-05 - accuracy: 1.0000 - val_loss: 0.0231 - val_accuracy: 0.9915\n",
      "Epoch 277/300\n",
      "11/11 [==============================] - 4s 350ms/step - loss: 8.0820e-05 - accuracy: 1.0000 - val_loss: 0.0220 - val_accuracy: 0.9915\n",
      "Epoch 278/300\n",
      "11/11 [==============================] - 4s 343ms/step - loss: 2.5809e-04 - accuracy: 1.0000 - val_loss: 0.0207 - val_accuracy: 0.9943\n",
      "Epoch 279/300\n"
     ]
    },
    {
     "name": "stdout",
     "output_type": "stream",
     "text": [
      "11/11 [==============================] - 4s 349ms/step - loss: 1.0666e-04 - accuracy: 1.0000 - val_loss: 0.0197 - val_accuracy: 0.9943\n",
      "Epoch 280/300\n",
      "11/11 [==============================] - 4s 337ms/step - loss: 9.3196e-05 - accuracy: 1.0000 - val_loss: 0.0186 - val_accuracy: 0.9943\n",
      "Epoch 281/300\n",
      "11/11 [==============================] - 4s 345ms/step - loss: 3.0507e-05 - accuracy: 1.0000 - val_loss: 0.0174 - val_accuracy: 0.9943\n",
      "Epoch 282/300\n",
      "11/11 [==============================] - 4s 338ms/step - loss: 1.5584e-04 - accuracy: 1.0000 - val_loss: 0.0162 - val_accuracy: 0.9943\n",
      "Epoch 283/300\n",
      "11/11 [==============================] - 4s 339ms/step - loss: 6.5580e-04 - accuracy: 1.0000 - val_loss: 0.0146 - val_accuracy: 0.9943\n",
      "Epoch 284/300\n",
      "11/11 [==============================] - 4s 333ms/step - loss: 1.5130e-04 - accuracy: 1.0000 - val_loss: 0.0130 - val_accuracy: 0.9943\n",
      "Epoch 285/300\n",
      "11/11 [==============================] - 4s 335ms/step - loss: 2.1358e-04 - accuracy: 1.0000 - val_loss: 0.0119 - val_accuracy: 0.9943\n",
      "Epoch 286/300\n",
      "11/11 [==============================] - 4s 336ms/step - loss: 5.3902e-05 - accuracy: 1.0000 - val_loss: 0.0110 - val_accuracy: 0.9943\n",
      "Epoch 287/300\n",
      "11/11 [==============================] - 4s 337ms/step - loss: 1.2339e-04 - accuracy: 1.0000 - val_loss: 0.0097 - val_accuracy: 0.9943\n",
      "Epoch 288/300\n",
      "11/11 [==============================] - 4s 335ms/step - loss: 1.5776e-04 - accuracy: 1.0000 - val_loss: 0.0086 - val_accuracy: 0.9943\n",
      "Epoch 289/300\n",
      "11/11 [==============================] - 4s 346ms/step - loss: 4.4122e-05 - accuracy: 1.0000 - val_loss: 0.0077 - val_accuracy: 0.9943\n",
      "Epoch 290/300\n",
      "11/11 [==============================] - 4s 337ms/step - loss: 1.2095e-04 - accuracy: 1.0000 - val_loss: 0.0068 - val_accuracy: 1.0000\n",
      "Epoch 291/300\n",
      "11/11 [==============================] - 4s 344ms/step - loss: 1.1880e-04 - accuracy: 1.0000 - val_loss: 0.0060 - val_accuracy: 1.0000\n",
      "Epoch 292/300\n",
      "11/11 [==============================] - 4s 346ms/step - loss: 1.9303e-04 - accuracy: 1.0000 - val_loss: 0.0052 - val_accuracy: 1.0000\n",
      "Epoch 293/300\n",
      "11/11 [==============================] - 4s 340ms/step - loss: 8.3305e-05 - accuracy: 1.0000 - val_loss: 0.0046 - val_accuracy: 1.0000\n",
      "Epoch 294/300\n",
      "11/11 [==============================] - 4s 348ms/step - loss: 2.6616e-05 - accuracy: 1.0000 - val_loss: 0.0041 - val_accuracy: 1.0000\n",
      "Epoch 295/300\n",
      "11/11 [==============================] - 4s 334ms/step - loss: 1.0592e-04 - accuracy: 1.0000 - val_loss: 0.0036 - val_accuracy: 1.0000\n",
      "Epoch 296/300\n",
      "11/11 [==============================] - 4s 337ms/step - loss: 2.3034e-04 - accuracy: 1.0000 - val_loss: 0.0030 - val_accuracy: 1.0000\n",
      "Epoch 297/300\n",
      "11/11 [==============================] - 4s 335ms/step - loss: 2.7243e-05 - accuracy: 1.0000 - val_loss: 0.0026 - val_accuracy: 1.0000\n",
      "Epoch 298/300\n",
      "11/11 [==============================] - 4s 335ms/step - loss: 9.3916e-05 - accuracy: 1.0000 - val_loss: 0.0023 - val_accuracy: 1.0000\n",
      "Epoch 299/300\n",
      "11/11 [==============================] - 4s 339ms/step - loss: 8.1561e-05 - accuracy: 1.0000 - val_loss: 0.0020 - val_accuracy: 1.0000\n",
      "Epoch 300/300\n",
      "11/11 [==============================] - 4s 335ms/step - loss: 3.5715e-05 - accuracy: 1.0000 - val_loss: 0.0018 - val_accuracy: 1.0000\n"
     ]
    },
    {
     "data": {
      "text/plain": [
       "<tensorflow.python.keras.callbacks.History at 0x7f3de90fbc88>"
      ]
     },
     "execution_count": 44,
     "metadata": {},
     "output_type": "execute_result"
    }
   ],
   "source": [
    "model.fit(train_dataset, epochs=300,steps_per_epoch=steps_per_epoch,verbose=1,validation_data=test_dataset,\n",
    "          callbacks=callbacks)"
   ]
  },
  {
   "cell_type": "code",
   "execution_count": 39,
   "metadata": {},
   "outputs": [],
   "source": [
    "model.save(\"models/huia_mob_224_teste_10.h5\") # 1.0"
   ]
  },
  {
   "cell_type": "code",
   "execution_count": 40,
   "metadata": {},
   "outputs": [
    {
     "data": {
      "text/plain": [
       "<tensorflow.python.keras.engine.sequential.Sequential at 0x7f40dce58518>"
      ]
     },
     "execution_count": 40,
     "metadata": {},
     "output_type": "execute_result"
    }
   ],
   "source": [
    "model"
   ]
  },
  {
   "cell_type": "code",
   "execution_count": 41,
   "metadata": {},
   "outputs": [],
   "source": [
    "import tensorflowjs as tfjs\n",
    "tfjs.converters.save_keras_model(model, \"models_tfjs/tfjs_huia_mob_224_teste_10_q\",quantization_dtype=np.uint16)"
   ]
  },
  {
   "cell_type": "code",
   "execution_count": 42,
   "metadata": {},
   "outputs": [
    {
     "name": "stdout",
     "output_type": "stream",
     "text": [
      "Model: \"sequential\"\n",
      "_________________________________________________________________\n",
      "Layer (type)                 Output Shape              Param #   \n",
      "=================================================================\n",
      "mobilenetv2_1.00_224 (Model) (None, 7, 7, 1280)        2257984   \n",
      "_________________________________________________________________\n",
      "global_average_pooling2d (Gl (None, 1280)              0         \n",
      "_________________________________________________________________\n",
      "dropout (Dropout)            (None, 1280)              0         \n",
      "_________________________________________________________________\n",
      "dense (Dense)                (None, 1024)              1311744   \n",
      "_________________________________________________________________\n",
      "dropout_1 (Dropout)          (None, 1024)              0         \n",
      "_________________________________________________________________\n",
      "dense_1 (Dense)              (None, 1024)              1049600   \n",
      "_________________________________________________________________\n",
      "dropout_2 (Dropout)          (None, 1024)              0         \n",
      "_________________________________________________________________\n",
      "features (Dense)             (None, 512)               524800    \n",
      "_________________________________________________________________\n",
      "dense_2 (Dense)              (None, 8)                 4104      \n",
      "=================================================================\n",
      "Total params: 5,148,232\n",
      "Trainable params: 2,890,248\n",
      "Non-trainable params: 2,257,984\n",
      "_________________________________________________________________\n"
     ]
    }
   ],
   "source": [
    "model.summary()"
   ]
  },
  {
   "cell_type": "code",
   "execution_count": null,
   "metadata": {},
   "outputs": [],
   "source": [
    "tf.keras.utils.plot_model(model,'model.png',show_layer_names=False) #,show_shapes=True)"
   ]
  },
  {
   "cell_type": "code",
   "execution_count": null,
   "metadata": {},
   "outputs": [],
   "source": [
    "%load_ext tensorboard.notebook\n",
    "\n",
    "#notebook.list() # View open TensorBoard instances\n",
    "#notebook.display(port=6006, height=1000)"
   ]
  },
  {
   "cell_type": "code",
   "execution_count": null,
   "metadata": {},
   "outputs": [],
   "source": [
    "#!kill 25264\n",
    "%tensorboard --logdir ./logs"
   ]
  },
  {
   "cell_type": "code",
   "execution_count": null,
   "metadata": {},
   "outputs": [],
   "source": [
    "import time\n",
    "default_timeit_steps = 2*steps_per_epoch+1\n",
    "\n",
    "def timeit(ds, steps=default_timeit_steps):\n",
    "  overall_start = time.time()\n",
    "  # Fetch a single batch to prime the pipeline (fill the shuffle buffer),\n",
    "  # before starting the timer\n",
    "  it = iter(ds.take(steps+1))\n",
    "  next(it)\n",
    "\n",
    "  start = time.time()\n",
    "  for i,(images,labels) in enumerate(it):\n",
    "    if i%10 == 0:\n",
    "      print('.',end='')\n",
    "  print()\n",
    "  end = time.time()\n",
    "\n",
    "  duration = end-start\n",
    "  print(\"{} batches: {} s\".format(steps, duration))\n",
    "  print(\"{:0.5f} Images/s\".format(BATCH_SIZE*steps/duration))\n",
    "  print(\"Total time: {}s\".format(end-overall_start))"
   ]
  },
  {
   "cell_type": "code",
   "execution_count": null,
   "metadata": {},
   "outputs": [],
   "source": [
    "timeit(ds)"
   ]
  },
  {
   "cell_type": "markdown",
   "metadata": {},
   "source": [
    "# Predict"
   ]
  },
  {
   "cell_type": "code",
   "execution_count": null,
   "metadata": {},
   "outputs": [],
   "source": [
    "import numpy as np\n",
    "sample = np.reshape(img_final,[1,224,224,3])\n",
    "\n",
    "predict = int(model.predict_classes(sample))\n",
    "predict"
   ]
  },
  {
   "cell_type": "code",
   "execution_count": null,
   "metadata": {},
   "outputs": [],
   "source": [
    "[key for key,value in label_to_index.items() if value == predict]"
   ]
  },
  {
   "cell_type": "code",
   "execution_count": null,
   "metadata": {},
   "outputs": [],
   "source": [
    "label_to_index"
   ]
  }
 ],
 "metadata": {
  "kernelspec": {
   "display_name": "tensor20",
   "language": "python",
   "name": "tensor20"
  },
  "language_info": {
   "codemirror_mode": {
    "name": "ipython",
    "version": 3
   },
   "file_extension": ".py",
   "mimetype": "text/x-python",
   "name": "python",
   "nbconvert_exporter": "python",
   "pygments_lexer": "ipython3",
   "version": "3.6.8"
  }
 },
 "nbformat": 4,
 "nbformat_minor": 2
}
